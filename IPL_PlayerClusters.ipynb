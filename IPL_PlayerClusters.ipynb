{
 "cells": [
  {
   "cell_type": "markdown",
   "metadata": {},
   "source": [
    "# Data Source and goal of this case study"
   ]
  },
  {
   "cell_type": "markdown",
   "metadata": {},
   "source": [
    "Data: https://www.kaggle.com/patrickb1912/ipl-complete-dataset-20082020  \n",
    "          \n",
    "Goal:   \n",
    "    1. Identify cluster of players with similar performance  \n",
    "    2. Given a player name, identify similar players  \n",
    "    3. Create a best team with mix of batsman, bowler, allrounders & wicket-keeper\n",
    "    "
   ]
  },
  {
   "cell_type": "markdown",
   "metadata": {},
   "source": [
    "# Imports and data read"
   ]
  },
  {
   "cell_type": "code",
   "execution_count": 625,
   "metadata": {
    "ExecuteTime": {
     "end_time": "2021-05-16T19:23:47.832740Z",
     "start_time": "2021-05-16T19:23:47.828225Z"
    }
   },
   "outputs": [],
   "source": [
    "import pandas as pd\n",
    "import matplotlib.pyplot  as plt\n",
    "import seaborn as sns\n",
    "\n",
    "\n",
    "from sklearn.preprocessing import StandardScaler,MinMaxScaler\n",
    "from sklearn.cluster import KMeans\n",
    "from sklearn.metrics import silhouette_score\n",
    "\n",
    "from scipy.cluster.hierarchy import linkage\n",
    "from scipy.cluster.hierarchy import dendrogram\n",
    "from scipy.cluster.hierarchy import cut_tree\n",
    "\n",
    "from sklearn.cluster import DBSCAN"
   ]
  },
  {
   "cell_type": "code",
   "execution_count": 626,
   "metadata": {
    "ExecuteTime": {
     "end_time": "2021-05-16T19:23:48.221461Z",
     "start_time": "2021-05-16T19:23:47.836496Z"
    }
   },
   "outputs": [],
   "source": [
    "balldf = pd.read_csv(\"data/IPL_2008_2020/IPL Ball-by-Ball 2008-2020.csv\")"
   ]
  },
  {
   "cell_type": "code",
   "execution_count": 627,
   "metadata": {
    "ExecuteTime": {
     "end_time": "2021-05-16T19:23:48.239530Z",
     "start_time": "2021-05-16T19:23:48.223658Z"
    }
   },
   "outputs": [],
   "source": [
    "matches = pd.read_csv(\"data/IPL_2008_2020/IPL Matches 2008-2020.csv\")"
   ]
  },
  {
   "cell_type": "code",
   "execution_count": 628,
   "metadata": {
    "ExecuteTime": {
     "end_time": "2021-05-16T19:23:48.255509Z",
     "start_time": "2021-05-16T19:23:48.241383Z"
    }
   },
   "outputs": [
    {
     "data": {
      "text/html": [
       "<div>\n",
       "<style scoped>\n",
       "    .dataframe tbody tr th:only-of-type {\n",
       "        vertical-align: middle;\n",
       "    }\n",
       "\n",
       "    .dataframe tbody tr th {\n",
       "        vertical-align: top;\n",
       "    }\n",
       "\n",
       "    .dataframe thead th {\n",
       "        text-align: right;\n",
       "    }\n",
       "</style>\n",
       "<table border=\"1\" class=\"dataframe\">\n",
       "  <thead>\n",
       "    <tr style=\"text-align: right;\">\n",
       "      <th></th>\n",
       "      <th>id</th>\n",
       "      <th>inning</th>\n",
       "      <th>over</th>\n",
       "      <th>ball</th>\n",
       "      <th>batsman</th>\n",
       "      <th>non_striker</th>\n",
       "      <th>bowler</th>\n",
       "      <th>batsman_runs</th>\n",
       "      <th>extra_runs</th>\n",
       "      <th>total_runs</th>\n",
       "      <th>non_boundary</th>\n",
       "      <th>is_wicket</th>\n",
       "      <th>dismissal_kind</th>\n",
       "      <th>player_dismissed</th>\n",
       "      <th>fielder</th>\n",
       "      <th>extras_type</th>\n",
       "      <th>batting_team</th>\n",
       "      <th>bowling_team</th>\n",
       "    </tr>\n",
       "  </thead>\n",
       "  <tbody>\n",
       "    <tr>\n",
       "      <th>0</th>\n",
       "      <td>335982</td>\n",
       "      <td>1</td>\n",
       "      <td>6</td>\n",
       "      <td>5</td>\n",
       "      <td>RT Ponting</td>\n",
       "      <td>BB McCullum</td>\n",
       "      <td>AA Noffke</td>\n",
       "      <td>1</td>\n",
       "      <td>0</td>\n",
       "      <td>1</td>\n",
       "      <td>0</td>\n",
       "      <td>0</td>\n",
       "      <td>NaN</td>\n",
       "      <td>NaN</td>\n",
       "      <td>NaN</td>\n",
       "      <td>NaN</td>\n",
       "      <td>Kolkata Knight Riders</td>\n",
       "      <td>Royal Challengers Bangalore</td>\n",
       "    </tr>\n",
       "    <tr>\n",
       "      <th>1</th>\n",
       "      <td>335982</td>\n",
       "      <td>1</td>\n",
       "      <td>6</td>\n",
       "      <td>6</td>\n",
       "      <td>BB McCullum</td>\n",
       "      <td>RT Ponting</td>\n",
       "      <td>AA Noffke</td>\n",
       "      <td>1</td>\n",
       "      <td>0</td>\n",
       "      <td>1</td>\n",
       "      <td>0</td>\n",
       "      <td>0</td>\n",
       "      <td>NaN</td>\n",
       "      <td>NaN</td>\n",
       "      <td>NaN</td>\n",
       "      <td>NaN</td>\n",
       "      <td>Kolkata Knight Riders</td>\n",
       "      <td>Royal Challengers Bangalore</td>\n",
       "    </tr>\n",
       "    <tr>\n",
       "      <th>2</th>\n",
       "      <td>335982</td>\n",
       "      <td>1</td>\n",
       "      <td>7</td>\n",
       "      <td>1</td>\n",
       "      <td>BB McCullum</td>\n",
       "      <td>RT Ponting</td>\n",
       "      <td>Z Khan</td>\n",
       "      <td>0</td>\n",
       "      <td>0</td>\n",
       "      <td>0</td>\n",
       "      <td>0</td>\n",
       "      <td>0</td>\n",
       "      <td>NaN</td>\n",
       "      <td>NaN</td>\n",
       "      <td>NaN</td>\n",
       "      <td>NaN</td>\n",
       "      <td>Kolkata Knight Riders</td>\n",
       "      <td>Royal Challengers Bangalore</td>\n",
       "    </tr>\n",
       "    <tr>\n",
       "      <th>3</th>\n",
       "      <td>335982</td>\n",
       "      <td>1</td>\n",
       "      <td>7</td>\n",
       "      <td>2</td>\n",
       "      <td>BB McCullum</td>\n",
       "      <td>RT Ponting</td>\n",
       "      <td>Z Khan</td>\n",
       "      <td>1</td>\n",
       "      <td>0</td>\n",
       "      <td>1</td>\n",
       "      <td>0</td>\n",
       "      <td>0</td>\n",
       "      <td>NaN</td>\n",
       "      <td>NaN</td>\n",
       "      <td>NaN</td>\n",
       "      <td>NaN</td>\n",
       "      <td>Kolkata Knight Riders</td>\n",
       "      <td>Royal Challengers Bangalore</td>\n",
       "    </tr>\n",
       "    <tr>\n",
       "      <th>4</th>\n",
       "      <td>335982</td>\n",
       "      <td>1</td>\n",
       "      <td>7</td>\n",
       "      <td>3</td>\n",
       "      <td>RT Ponting</td>\n",
       "      <td>BB McCullum</td>\n",
       "      <td>Z Khan</td>\n",
       "      <td>1</td>\n",
       "      <td>0</td>\n",
       "      <td>1</td>\n",
       "      <td>0</td>\n",
       "      <td>0</td>\n",
       "      <td>NaN</td>\n",
       "      <td>NaN</td>\n",
       "      <td>NaN</td>\n",
       "      <td>NaN</td>\n",
       "      <td>Kolkata Knight Riders</td>\n",
       "      <td>Royal Challengers Bangalore</td>\n",
       "    </tr>\n",
       "  </tbody>\n",
       "</table>\n",
       "</div>"
      ],
      "text/plain": [
       "       id  inning  over  ball      batsman  non_striker     bowler  \\\n",
       "0  335982       1     6     5   RT Ponting  BB McCullum  AA Noffke   \n",
       "1  335982       1     6     6  BB McCullum   RT Ponting  AA Noffke   \n",
       "2  335982       1     7     1  BB McCullum   RT Ponting     Z Khan   \n",
       "3  335982       1     7     2  BB McCullum   RT Ponting     Z Khan   \n",
       "4  335982       1     7     3   RT Ponting  BB McCullum     Z Khan   \n",
       "\n",
       "   batsman_runs  extra_runs  total_runs  non_boundary  is_wicket  \\\n",
       "0             1           0           1             0          0   \n",
       "1             1           0           1             0          0   \n",
       "2             0           0           0             0          0   \n",
       "3             1           0           1             0          0   \n",
       "4             1           0           1             0          0   \n",
       "\n",
       "  dismissal_kind player_dismissed fielder extras_type           batting_team  \\\n",
       "0            NaN              NaN     NaN         NaN  Kolkata Knight Riders   \n",
       "1            NaN              NaN     NaN         NaN  Kolkata Knight Riders   \n",
       "2            NaN              NaN     NaN         NaN  Kolkata Knight Riders   \n",
       "3            NaN              NaN     NaN         NaN  Kolkata Knight Riders   \n",
       "4            NaN              NaN     NaN         NaN  Kolkata Knight Riders   \n",
       "\n",
       "                  bowling_team  \n",
       "0  Royal Challengers Bangalore  \n",
       "1  Royal Challengers Bangalore  \n",
       "2  Royal Challengers Bangalore  \n",
       "3  Royal Challengers Bangalore  \n",
       "4  Royal Challengers Bangalore  "
      ]
     },
     "execution_count": 628,
     "metadata": {},
     "output_type": "execute_result"
    }
   ],
   "source": [
    "balldf.head()"
   ]
  },
  {
   "cell_type": "code",
   "execution_count": 629,
   "metadata": {
    "ExecuteTime": {
     "end_time": "2021-05-16T19:23:48.261741Z",
     "start_time": "2021-05-16T19:23:48.258246Z"
    }
   },
   "outputs": [
    {
     "data": {
      "text/plain": [
       "(193468, 18)"
      ]
     },
     "execution_count": 629,
     "metadata": {},
     "output_type": "execute_result"
    }
   ],
   "source": [
    "balldf.shape"
   ]
  },
  {
   "cell_type": "code",
   "execution_count": 630,
   "metadata": {
    "ExecuteTime": {
     "end_time": "2021-05-16T19:23:48.280526Z",
     "start_time": "2021-05-16T19:23:48.264482Z"
    }
   },
   "outputs": [
    {
     "data": {
      "text/html": [
       "<div>\n",
       "<style scoped>\n",
       "    .dataframe tbody tr th:only-of-type {\n",
       "        vertical-align: middle;\n",
       "    }\n",
       "\n",
       "    .dataframe tbody tr th {\n",
       "        vertical-align: top;\n",
       "    }\n",
       "\n",
       "    .dataframe thead th {\n",
       "        text-align: right;\n",
       "    }\n",
       "</style>\n",
       "<table border=\"1\" class=\"dataframe\">\n",
       "  <thead>\n",
       "    <tr style=\"text-align: right;\">\n",
       "      <th></th>\n",
       "      <th>id</th>\n",
       "      <th>city</th>\n",
       "      <th>date</th>\n",
       "      <th>player_of_match</th>\n",
       "      <th>venue</th>\n",
       "      <th>neutral_venue</th>\n",
       "      <th>team1</th>\n",
       "      <th>team2</th>\n",
       "      <th>toss_winner</th>\n",
       "      <th>toss_decision</th>\n",
       "      <th>winner</th>\n",
       "      <th>result</th>\n",
       "      <th>result_margin</th>\n",
       "      <th>eliminator</th>\n",
       "      <th>method</th>\n",
       "      <th>umpire1</th>\n",
       "      <th>umpire2</th>\n",
       "    </tr>\n",
       "  </thead>\n",
       "  <tbody>\n",
       "    <tr>\n",
       "      <th>0</th>\n",
       "      <td>335982</td>\n",
       "      <td>Bangalore</td>\n",
       "      <td>2008-04-18</td>\n",
       "      <td>BB McCullum</td>\n",
       "      <td>M Chinnaswamy Stadium</td>\n",
       "      <td>0</td>\n",
       "      <td>Royal Challengers Bangalore</td>\n",
       "      <td>Kolkata Knight Riders</td>\n",
       "      <td>Royal Challengers Bangalore</td>\n",
       "      <td>field</td>\n",
       "      <td>Kolkata Knight Riders</td>\n",
       "      <td>runs</td>\n",
       "      <td>140.0</td>\n",
       "      <td>N</td>\n",
       "      <td>NaN</td>\n",
       "      <td>Asad Rauf</td>\n",
       "      <td>RE Koertzen</td>\n",
       "    </tr>\n",
       "    <tr>\n",
       "      <th>1</th>\n",
       "      <td>335983</td>\n",
       "      <td>Chandigarh</td>\n",
       "      <td>2008-04-19</td>\n",
       "      <td>MEK Hussey</td>\n",
       "      <td>Punjab Cricket Association Stadium, Mohali</td>\n",
       "      <td>0</td>\n",
       "      <td>Kings XI Punjab</td>\n",
       "      <td>Chennai Super Kings</td>\n",
       "      <td>Chennai Super Kings</td>\n",
       "      <td>bat</td>\n",
       "      <td>Chennai Super Kings</td>\n",
       "      <td>runs</td>\n",
       "      <td>33.0</td>\n",
       "      <td>N</td>\n",
       "      <td>NaN</td>\n",
       "      <td>MR Benson</td>\n",
       "      <td>SL Shastri</td>\n",
       "    </tr>\n",
       "    <tr>\n",
       "      <th>2</th>\n",
       "      <td>335984</td>\n",
       "      <td>Delhi</td>\n",
       "      <td>2008-04-19</td>\n",
       "      <td>MF Maharoof</td>\n",
       "      <td>Feroz Shah Kotla</td>\n",
       "      <td>0</td>\n",
       "      <td>Delhi Daredevils</td>\n",
       "      <td>Rajasthan Royals</td>\n",
       "      <td>Rajasthan Royals</td>\n",
       "      <td>bat</td>\n",
       "      <td>Delhi Daredevils</td>\n",
       "      <td>wickets</td>\n",
       "      <td>9.0</td>\n",
       "      <td>N</td>\n",
       "      <td>NaN</td>\n",
       "      <td>Aleem Dar</td>\n",
       "      <td>GA Pratapkumar</td>\n",
       "    </tr>\n",
       "    <tr>\n",
       "      <th>3</th>\n",
       "      <td>335985</td>\n",
       "      <td>Mumbai</td>\n",
       "      <td>2008-04-20</td>\n",
       "      <td>MV Boucher</td>\n",
       "      <td>Wankhede Stadium</td>\n",
       "      <td>0</td>\n",
       "      <td>Mumbai Indians</td>\n",
       "      <td>Royal Challengers Bangalore</td>\n",
       "      <td>Mumbai Indians</td>\n",
       "      <td>bat</td>\n",
       "      <td>Royal Challengers Bangalore</td>\n",
       "      <td>wickets</td>\n",
       "      <td>5.0</td>\n",
       "      <td>N</td>\n",
       "      <td>NaN</td>\n",
       "      <td>SJ Davis</td>\n",
       "      <td>DJ Harper</td>\n",
       "    </tr>\n",
       "    <tr>\n",
       "      <th>4</th>\n",
       "      <td>335986</td>\n",
       "      <td>Kolkata</td>\n",
       "      <td>2008-04-20</td>\n",
       "      <td>DJ Hussey</td>\n",
       "      <td>Eden Gardens</td>\n",
       "      <td>0</td>\n",
       "      <td>Kolkata Knight Riders</td>\n",
       "      <td>Deccan Chargers</td>\n",
       "      <td>Deccan Chargers</td>\n",
       "      <td>bat</td>\n",
       "      <td>Kolkata Knight Riders</td>\n",
       "      <td>wickets</td>\n",
       "      <td>5.0</td>\n",
       "      <td>N</td>\n",
       "      <td>NaN</td>\n",
       "      <td>BF Bowden</td>\n",
       "      <td>K Hariharan</td>\n",
       "    </tr>\n",
       "  </tbody>\n",
       "</table>\n",
       "</div>"
      ],
      "text/plain": [
       "       id        city        date player_of_match  \\\n",
       "0  335982   Bangalore  2008-04-18     BB McCullum   \n",
       "1  335983  Chandigarh  2008-04-19      MEK Hussey   \n",
       "2  335984       Delhi  2008-04-19     MF Maharoof   \n",
       "3  335985      Mumbai  2008-04-20      MV Boucher   \n",
       "4  335986     Kolkata  2008-04-20       DJ Hussey   \n",
       "\n",
       "                                        venue  neutral_venue  \\\n",
       "0                       M Chinnaswamy Stadium              0   \n",
       "1  Punjab Cricket Association Stadium, Mohali              0   \n",
       "2                            Feroz Shah Kotla              0   \n",
       "3                            Wankhede Stadium              0   \n",
       "4                                Eden Gardens              0   \n",
       "\n",
       "                         team1                        team2  \\\n",
       "0  Royal Challengers Bangalore        Kolkata Knight Riders   \n",
       "1              Kings XI Punjab          Chennai Super Kings   \n",
       "2             Delhi Daredevils             Rajasthan Royals   \n",
       "3               Mumbai Indians  Royal Challengers Bangalore   \n",
       "4        Kolkata Knight Riders              Deccan Chargers   \n",
       "\n",
       "                   toss_winner toss_decision                       winner  \\\n",
       "0  Royal Challengers Bangalore         field        Kolkata Knight Riders   \n",
       "1          Chennai Super Kings           bat          Chennai Super Kings   \n",
       "2             Rajasthan Royals           bat             Delhi Daredevils   \n",
       "3               Mumbai Indians           bat  Royal Challengers Bangalore   \n",
       "4              Deccan Chargers           bat        Kolkata Knight Riders   \n",
       "\n",
       "    result  result_margin eliminator method    umpire1         umpire2  \n",
       "0     runs          140.0          N    NaN  Asad Rauf     RE Koertzen  \n",
       "1     runs           33.0          N    NaN  MR Benson      SL Shastri  \n",
       "2  wickets            9.0          N    NaN  Aleem Dar  GA Pratapkumar  \n",
       "3  wickets            5.0          N    NaN   SJ Davis       DJ Harper  \n",
       "4  wickets            5.0          N    NaN  BF Bowden     K Hariharan  "
      ]
     },
     "execution_count": 630,
     "metadata": {},
     "output_type": "execute_result"
    }
   ],
   "source": [
    "matches.head()"
   ]
  },
  {
   "cell_type": "markdown",
   "metadata": {},
   "source": [
    "# Check Missing"
   ]
  },
  {
   "cell_type": "code",
   "execution_count": 631,
   "metadata": {
    "ExecuteTime": {
     "end_time": "2021-05-16T19:23:48.398014Z",
     "start_time": "2021-05-16T19:23:48.282535Z"
    }
   },
   "outputs": [
    {
     "data": {
      "text/plain": [
       "id                       0\n",
       "inning                   0\n",
       "over                     0\n",
       "ball                     0\n",
       "batsman                  0\n",
       "non_striker              0\n",
       "bowler                   0\n",
       "batsman_runs             0\n",
       "extra_runs               0\n",
       "total_runs               0\n",
       "non_boundary             0\n",
       "is_wicket                0\n",
       "dismissal_kind      183973\n",
       "player_dismissed    183973\n",
       "fielder             186684\n",
       "extras_type         183235\n",
       "batting_team             0\n",
       "bowling_team           191\n",
       "dtype: int64"
      ]
     },
     "execution_count": 631,
     "metadata": {},
     "output_type": "execute_result"
    }
   ],
   "source": [
    "balldf.isnull().sum()"
   ]
  },
  {
   "cell_type": "markdown",
   "metadata": {},
   "source": [
    "The variables with missing data is not used to create the player statistics in this analysis and can be ignored."
   ]
  },
  {
   "cell_type": "markdown",
   "metadata": {},
   "source": [
    "# Create batsman statistics"
   ]
  },
  {
   "cell_type": "markdown",
   "metadata": {},
   "source": [
    "## Variables by grouping on batsman"
   ]
  },
  {
   "cell_type": "code",
   "execution_count": 632,
   "metadata": {
    "ExecuteTime": {
     "end_time": "2021-05-16T19:23:48.402952Z",
     "start_time": "2021-05-16T19:23:48.399735Z"
    }
   },
   "outputs": [],
   "source": [
    "batgroup = balldf.groupby(['batsman'])"
   ]
  },
  {
   "cell_type": "code",
   "execution_count": 633,
   "metadata": {
    "ExecuteTime": {
     "end_time": "2021-05-16T19:23:48.457665Z",
     "start_time": "2021-05-16T19:23:48.404698Z"
    }
   },
   "outputs": [],
   "source": [
    "batdf = pd.DataFrame(batgroup['ball'].count()).rename(columns={'ball':'balls_faced'})\n",
    "batdf['innings'] = batgroup['id'].nunique()\n",
    "batdf['runs'] = batgroup['batsman_runs'].sum()\n",
    "batdf['4s'] = balldf[balldf['batsman_runs'] == 4].groupby('batsman')['batsman_runs'].count()\n",
    "batdf['4s'].fillna(0,inplace=True)\n",
    "batdf['6s'] = balldf[balldf['batsman_runs'] == 6].groupby('batsman')['batsman_runs'].count()\n",
    "batdf['6s'].fillna(0,inplace=True)\n",
    "\n",
    "\n"
   ]
  },
  {
   "cell_type": "markdown",
   "metadata": {},
   "source": [
    "## Derived variable - Batsman average & strike rate"
   ]
  },
  {
   "cell_type": "code",
   "execution_count": 634,
   "metadata": {
    "ExecuteTime": {
     "end_time": "2021-05-16T19:23:48.463811Z",
     "start_time": "2021-05-16T19:23:48.459603Z"
    }
   },
   "outputs": [],
   "source": [
    "# Batting average = total rus scored/no. of times batsman is been dismissed\n",
    "# Approximated here to matches instead of dismissals\n",
    "batdf['bat_average'] = round(batdf['runs']/batdf['innings'],2)"
   ]
  },
  {
   "cell_type": "code",
   "execution_count": 635,
   "metadata": {
    "ExecuteTime": {
     "end_time": "2021-05-16T19:23:48.470363Z",
     "start_time": "2021-05-16T19:23:48.466052Z"
    }
   },
   "outputs": [],
   "source": [
    "# Strike Rate = (Runs Scored / Balls faced) * 100\n",
    "batdf['bat_strike'] = round(batdf['runs']/batdf['balls_faced']*100,2)\n"
   ]
  },
  {
   "cell_type": "code",
   "execution_count": 636,
   "metadata": {
    "ExecuteTime": {
     "end_time": "2021-05-16T19:23:48.483975Z",
     "start_time": "2021-05-16T19:23:48.472394Z"
    }
   },
   "outputs": [
    {
     "data": {
      "text/html": [
       "<div>\n",
       "<style scoped>\n",
       "    .dataframe tbody tr th:only-of-type {\n",
       "        vertical-align: middle;\n",
       "    }\n",
       "\n",
       "    .dataframe tbody tr th {\n",
       "        vertical-align: top;\n",
       "    }\n",
       "\n",
       "    .dataframe thead th {\n",
       "        text-align: right;\n",
       "    }\n",
       "</style>\n",
       "<table border=\"1\" class=\"dataframe\">\n",
       "  <thead>\n",
       "    <tr style=\"text-align: right;\">\n",
       "      <th></th>\n",
       "      <th>balls_faced</th>\n",
       "      <th>innings</th>\n",
       "      <th>runs</th>\n",
       "      <th>4s</th>\n",
       "      <th>6s</th>\n",
       "      <th>bat_average</th>\n",
       "      <th>bat_strike</th>\n",
       "    </tr>\n",
       "    <tr>\n",
       "      <th>batsman</th>\n",
       "      <th></th>\n",
       "      <th></th>\n",
       "      <th></th>\n",
       "      <th></th>\n",
       "      <th></th>\n",
       "      <th></th>\n",
       "      <th></th>\n",
       "    </tr>\n",
       "  </thead>\n",
       "  <tbody>\n",
       "    <tr>\n",
       "      <th>YV Takawale</th>\n",
       "      <td>183</td>\n",
       "      <td>10</td>\n",
       "      <td>192</td>\n",
       "      <td>26.0</td>\n",
       "      <td>3.0</td>\n",
       "      <td>19.20</td>\n",
       "      <td>104.92</td>\n",
       "    </tr>\n",
       "    <tr>\n",
       "      <th>Yashpal Singh</th>\n",
       "      <td>67</td>\n",
       "      <td>4</td>\n",
       "      <td>47</td>\n",
       "      <td>5.0</td>\n",
       "      <td>0.0</td>\n",
       "      <td>11.75</td>\n",
       "      <td>70.15</td>\n",
       "    </tr>\n",
       "    <tr>\n",
       "      <th>Younis Khan</th>\n",
       "      <td>7</td>\n",
       "      <td>1</td>\n",
       "      <td>3</td>\n",
       "      <td>0.0</td>\n",
       "      <td>0.0</td>\n",
       "      <td>3.00</td>\n",
       "      <td>42.86</td>\n",
       "    </tr>\n",
       "    <tr>\n",
       "      <th>Yuvraj Singh</th>\n",
       "      <td>2205</td>\n",
       "      <td>126</td>\n",
       "      <td>2750</td>\n",
       "      <td>217.0</td>\n",
       "      <td>149.0</td>\n",
       "      <td>21.83</td>\n",
       "      <td>124.72</td>\n",
       "    </tr>\n",
       "    <tr>\n",
       "      <th>Z Khan</th>\n",
       "      <td>141</td>\n",
       "      <td>27</td>\n",
       "      <td>117</td>\n",
       "      <td>11.0</td>\n",
       "      <td>2.0</td>\n",
       "      <td>4.33</td>\n",
       "      <td>82.98</td>\n",
       "    </tr>\n",
       "  </tbody>\n",
       "</table>\n",
       "</div>"
      ],
      "text/plain": [
       "               balls_faced  innings  runs     4s     6s  bat_average  \\\n",
       "batsman                                                                \n",
       "YV Takawale            183       10   192   26.0    3.0        19.20   \n",
       "Yashpal Singh           67        4    47    5.0    0.0        11.75   \n",
       "Younis Khan              7        1     3    0.0    0.0         3.00   \n",
       "Yuvraj Singh          2205      126  2750  217.0  149.0        21.83   \n",
       "Z Khan                 141       27   117   11.0    2.0         4.33   \n",
       "\n",
       "               bat_strike  \n",
       "batsman                    \n",
       "YV Takawale        104.92  \n",
       "Yashpal Singh       70.15  \n",
       "Younis Khan         42.86  \n",
       "Yuvraj Singh       124.72  \n",
       "Z Khan              82.98  "
      ]
     },
     "metadata": {},
     "output_type": "display_data"
    }
   ],
   "source": [
    "display(batdf.tail())"
   ]
  },
  {
   "cell_type": "code",
   "execution_count": null,
   "metadata": {},
   "outputs": [],
   "source": []
  },
  {
   "cell_type": "markdown",
   "metadata": {
    "ExecuteTime": {
     "end_time": "2021-04-30T12:41:21.845690Z",
     "start_time": "2021-04-30T12:41:21.829447Z"
    }
   },
   "source": [
    "# Create bowler statistics"
   ]
  },
  {
   "cell_type": "markdown",
   "metadata": {},
   "source": [
    "## Variables by grouping on bowler"
   ]
  },
  {
   "cell_type": "code",
   "execution_count": 637,
   "metadata": {
    "ExecuteTime": {
     "end_time": "2021-05-16T19:23:48.489436Z",
     "start_time": "2021-05-16T19:23:48.485928Z"
    }
   },
   "outputs": [],
   "source": [
    "bowlgroup = balldf.groupby(['bowler'])"
   ]
  },
  {
   "cell_type": "code",
   "execution_count": 638,
   "metadata": {
    "ExecuteTime": {
     "end_time": "2021-05-16T19:23:48.503114Z",
     "start_time": "2021-05-16T19:23:48.491413Z"
    }
   },
   "outputs": [
    {
     "data": {
      "text/plain": [
       "array([nan, 'caught', 'run out', 'bowled', 'lbw', 'retired hurt',\n",
       "       'stumped', 'caught and bowled', 'hit wicket',\n",
       "       'obstructing the field'], dtype=object)"
      ]
     },
     "execution_count": 638,
     "metadata": {},
     "output_type": "execute_result"
    }
   ],
   "source": [
    "balldf['dismissal_kind'].unique()"
   ]
  },
  {
   "cell_type": "code",
   "execution_count": 639,
   "metadata": {
    "ExecuteTime": {
     "end_time": "2021-05-16T19:23:48.627081Z",
     "start_time": "2021-05-16T19:23:48.505189Z"
    }
   },
   "outputs": [
    {
     "data": {
      "text/html": [
       "<div>\n",
       "<style scoped>\n",
       "    .dataframe tbody tr th:only-of-type {\n",
       "        vertical-align: middle;\n",
       "    }\n",
       "\n",
       "    .dataframe tbody tr th {\n",
       "        vertical-align: top;\n",
       "    }\n",
       "\n",
       "    .dataframe thead th {\n",
       "        text-align: right;\n",
       "    }\n",
       "</style>\n",
       "<table border=\"1\" class=\"dataframe\">\n",
       "  <thead>\n",
       "    <tr style=\"text-align: right;\">\n",
       "      <th></th>\n",
       "      <th>balls_bowled</th>\n",
       "      <th>wickets</th>\n",
       "      <th>overs</th>\n",
       "      <th>runs_conceded</th>\n",
       "    </tr>\n",
       "    <tr>\n",
       "      <th>bowler</th>\n",
       "      <th></th>\n",
       "      <th></th>\n",
       "      <th></th>\n",
       "      <th></th>\n",
       "    </tr>\n",
       "  </thead>\n",
       "  <tbody>\n",
       "    <tr>\n",
       "      <th>A Ashish Reddy</th>\n",
       "      <td>270</td>\n",
       "      <td>18.0</td>\n",
       "      <td>45</td>\n",
       "      <td>396.0</td>\n",
       "    </tr>\n",
       "    <tr>\n",
       "      <th>A Chandila</th>\n",
       "      <td>234</td>\n",
       "      <td>11.0</td>\n",
       "      <td>39</td>\n",
       "      <td>242.0</td>\n",
       "    </tr>\n",
       "    <tr>\n",
       "      <th>A Choudhary</th>\n",
       "      <td>108</td>\n",
       "      <td>5.0</td>\n",
       "      <td>17</td>\n",
       "      <td>144.0</td>\n",
       "    </tr>\n",
       "    <tr>\n",
       "      <th>A Dananjaya</th>\n",
       "      <td>25</td>\n",
       "      <td>0.0</td>\n",
       "      <td>4</td>\n",
       "      <td>47.0</td>\n",
       "    </tr>\n",
       "    <tr>\n",
       "      <th>A Flintoff</th>\n",
       "      <td>66</td>\n",
       "      <td>2.0</td>\n",
       "      <td>11</td>\n",
       "      <td>105.0</td>\n",
       "    </tr>\n",
       "  </tbody>\n",
       "</table>\n",
       "</div>"
      ],
      "text/plain": [
       "                balls_bowled  wickets  overs  runs_conceded\n",
       "bowler                                                     \n",
       "A Ashish Reddy           270     18.0     45          396.0\n",
       "A Chandila               234     11.0     39          242.0\n",
       "A Choudhary              108      5.0     17          144.0\n",
       "A Dananjaya               25      0.0      4           47.0\n",
       "A Flintoff                66      2.0     11          105.0"
      ]
     },
     "execution_count": 639,
     "metadata": {},
     "output_type": "execute_result"
    }
   ],
   "source": [
    "bowldf = pd.DataFrame(bowlgroup['ball'].count()).rename(columns={'ball':'balls_bowled'})\n",
    "\n",
    "# Get no. of wickets taken by each bowler\n",
    "bwl_wkts = balldf[balldf['dismissal_kind'].isin(['caught','bowled', 'lbw','stumped', 'caught and bowled', 'hit wicket'])]\n",
    "bowldf['wickets'] = bwl_wkts.groupby(['bowler'])['ball'].count()\n",
    "bowldf['wickets'].fillna(0,inplace=True)\n",
    " \n",
    "# Calculate the total no. of overs bowled\n",
    "overs = pd.DataFrame(balldf.groupby(['bowler','id'])['over'].nunique())\n",
    "bowldf['overs'] = overs.groupby(['bowler'])['over'].sum()    \n",
    "\n",
    "# Calculate the runs conceded\n",
    "bowldf['runs_conceded'] = balldf.groupby('bowler')['batsman_runs'].sum()\n",
    "bowldf['runs_conceded'] = bowldf['runs_conceded'].fillna(0)\n",
    "# Add the runs conceded through wide and noball\n",
    "bowldf['runs_conceded'] = bowldf['runs_conceded'].add(balldf[balldf['extras_type'].isin(['wides','noballs'])].groupby('bowler')['extra_runs'].sum(),fill_value=0)\n",
    "\n",
    "bowldf.head()\n"
   ]
  },
  {
   "cell_type": "code",
   "execution_count": null,
   "metadata": {},
   "outputs": [],
   "source": []
  },
  {
   "cell_type": "markdown",
   "metadata": {},
   "source": [
    "## Derived variable - Bowler econ rate"
   ]
  },
  {
   "cell_type": "code",
   "execution_count": 640,
   "metadata": {
    "ExecuteTime": {
     "end_time": "2021-05-16T19:23:48.636095Z",
     "start_time": "2021-05-16T19:23:48.630215Z"
    }
   },
   "outputs": [],
   "source": [
    "# Note - roughly apprx to overs.  Should be runs_conceded/overs.balls\n",
    "bowldf['bowl_econ'] = round(bowldf['runs_conceded']/bowldf['overs'],2)"
   ]
  },
  {
   "cell_type": "code",
   "execution_count": 641,
   "metadata": {
    "ExecuteTime": {
     "end_time": "2021-05-16T19:23:48.655122Z",
     "start_time": "2021-05-16T19:23:48.638968Z"
    }
   },
   "outputs": [
    {
     "data": {
      "text/html": [
       "<div>\n",
       "<style scoped>\n",
       "    .dataframe tbody tr th:only-of-type {\n",
       "        vertical-align: middle;\n",
       "    }\n",
       "\n",
       "    .dataframe tbody tr th {\n",
       "        vertical-align: top;\n",
       "    }\n",
       "\n",
       "    .dataframe thead th {\n",
       "        text-align: right;\n",
       "    }\n",
       "</style>\n",
       "<table border=\"1\" class=\"dataframe\">\n",
       "  <thead>\n",
       "    <tr style=\"text-align: right;\">\n",
       "      <th></th>\n",
       "      <th>balls_bowled</th>\n",
       "      <th>wickets</th>\n",
       "      <th>overs</th>\n",
       "      <th>runs_conceded</th>\n",
       "      <th>bowl_econ</th>\n",
       "    </tr>\n",
       "    <tr>\n",
       "      <th>bowler</th>\n",
       "      <th></th>\n",
       "      <th></th>\n",
       "      <th></th>\n",
       "      <th></th>\n",
       "      <th></th>\n",
       "    </tr>\n",
       "  </thead>\n",
       "  <tbody>\n",
       "    <tr>\n",
       "      <th>YA Abdulla</th>\n",
       "      <td>222</td>\n",
       "      <td>15.0</td>\n",
       "      <td>35</td>\n",
       "      <td>307.0</td>\n",
       "      <td>8.77</td>\n",
       "    </tr>\n",
       "    <tr>\n",
       "      <th>YK Pathan</th>\n",
       "      <td>1184</td>\n",
       "      <td>42.0</td>\n",
       "      <td>193</td>\n",
       "      <td>1415.0</td>\n",
       "      <td>7.33</td>\n",
       "    </tr>\n",
       "    <tr>\n",
       "      <th>YS Chahal</th>\n",
       "      <td>2188</td>\n",
       "      <td>121.0</td>\n",
       "      <td>359</td>\n",
       "      <td>2723.0</td>\n",
       "      <td>7.58</td>\n",
       "    </tr>\n",
       "    <tr>\n",
       "      <th>Yuvraj Singh</th>\n",
       "      <td>882</td>\n",
       "      <td>36.0</td>\n",
       "      <td>146</td>\n",
       "      <td>1077.0</td>\n",
       "      <td>7.38</td>\n",
       "    </tr>\n",
       "    <tr>\n",
       "      <th>Z Khan</th>\n",
       "      <td>2276</td>\n",
       "      <td>102.0</td>\n",
       "      <td>371</td>\n",
       "      <td>2782.0</td>\n",
       "      <td>7.50</td>\n",
       "    </tr>\n",
       "  </tbody>\n",
       "</table>\n",
       "</div>"
      ],
      "text/plain": [
       "              balls_bowled  wickets  overs  runs_conceded  bowl_econ\n",
       "bowler                                                              \n",
       "YA Abdulla             222     15.0     35          307.0       8.77\n",
       "YK Pathan             1184     42.0    193         1415.0       7.33\n",
       "YS Chahal             2188    121.0    359         2723.0       7.58\n",
       "Yuvraj Singh           882     36.0    146         1077.0       7.38\n",
       "Z Khan                2276    102.0    371         2782.0       7.50"
      ]
     },
     "metadata": {},
     "output_type": "display_data"
    }
   ],
   "source": [
    "display(bowldf.tail())"
   ]
  },
  {
   "cell_type": "code",
   "execution_count": null,
   "metadata": {},
   "outputs": [],
   "source": []
  },
  {
   "cell_type": "markdown",
   "metadata": {},
   "source": [
    "# Merge to player statistics"
   ]
  },
  {
   "cell_type": "code",
   "execution_count": 642,
   "metadata": {
    "ExecuteTime": {
     "end_time": "2021-05-16T19:23:48.668239Z",
     "start_time": "2021-05-16T19:23:48.657094Z"
    }
   },
   "outputs": [],
   "source": [
    "players = pd.merge(batdf,bowldf, left_index=True, right_index=True,how='outer')\n",
    "players.fillna(0,inplace=True)"
   ]
  },
  {
   "cell_type": "code",
   "execution_count": 643,
   "metadata": {
    "ExecuteTime": {
     "end_time": "2021-05-16T19:23:48.692345Z",
     "start_time": "2021-05-16T19:23:48.676014Z"
    }
   },
   "outputs": [
    {
     "data": {
      "text/html": [
       "<div>\n",
       "<style scoped>\n",
       "    .dataframe tbody tr th:only-of-type {\n",
       "        vertical-align: middle;\n",
       "    }\n",
       "\n",
       "    .dataframe tbody tr th {\n",
       "        vertical-align: top;\n",
       "    }\n",
       "\n",
       "    .dataframe thead th {\n",
       "        text-align: right;\n",
       "    }\n",
       "</style>\n",
       "<table border=\"1\" class=\"dataframe\">\n",
       "  <thead>\n",
       "    <tr style=\"text-align: right;\">\n",
       "      <th></th>\n",
       "      <th>balls_faced</th>\n",
       "      <th>innings</th>\n",
       "      <th>runs</th>\n",
       "      <th>4s</th>\n",
       "      <th>6s</th>\n",
       "      <th>bat_average</th>\n",
       "      <th>bat_strike</th>\n",
       "      <th>balls_bowled</th>\n",
       "      <th>wickets</th>\n",
       "      <th>overs</th>\n",
       "      <th>runs_conceded</th>\n",
       "      <th>bowl_econ</th>\n",
       "    </tr>\n",
       "  </thead>\n",
       "  <tbody>\n",
       "    <tr>\n",
       "      <th>YV Takawale</th>\n",
       "      <td>183.0</td>\n",
       "      <td>10.0</td>\n",
       "      <td>192.0</td>\n",
       "      <td>26.0</td>\n",
       "      <td>3.0</td>\n",
       "      <td>19.20</td>\n",
       "      <td>104.92</td>\n",
       "      <td>0.0</td>\n",
       "      <td>0.0</td>\n",
       "      <td>0.0</td>\n",
       "      <td>0.0</td>\n",
       "      <td>0.00</td>\n",
       "    </tr>\n",
       "    <tr>\n",
       "      <th>Yashpal Singh</th>\n",
       "      <td>67.0</td>\n",
       "      <td>4.0</td>\n",
       "      <td>47.0</td>\n",
       "      <td>5.0</td>\n",
       "      <td>0.0</td>\n",
       "      <td>11.75</td>\n",
       "      <td>70.15</td>\n",
       "      <td>0.0</td>\n",
       "      <td>0.0</td>\n",
       "      <td>0.0</td>\n",
       "      <td>0.0</td>\n",
       "      <td>0.00</td>\n",
       "    </tr>\n",
       "    <tr>\n",
       "      <th>Younis Khan</th>\n",
       "      <td>7.0</td>\n",
       "      <td>1.0</td>\n",
       "      <td>3.0</td>\n",
       "      <td>0.0</td>\n",
       "      <td>0.0</td>\n",
       "      <td>3.00</td>\n",
       "      <td>42.86</td>\n",
       "      <td>0.0</td>\n",
       "      <td>0.0</td>\n",
       "      <td>0.0</td>\n",
       "      <td>0.0</td>\n",
       "      <td>0.00</td>\n",
       "    </tr>\n",
       "    <tr>\n",
       "      <th>Yuvraj Singh</th>\n",
       "      <td>2205.0</td>\n",
       "      <td>126.0</td>\n",
       "      <td>2750.0</td>\n",
       "      <td>217.0</td>\n",
       "      <td>149.0</td>\n",
       "      <td>21.83</td>\n",
       "      <td>124.72</td>\n",
       "      <td>882.0</td>\n",
       "      <td>36.0</td>\n",
       "      <td>146.0</td>\n",
       "      <td>1077.0</td>\n",
       "      <td>7.38</td>\n",
       "    </tr>\n",
       "    <tr>\n",
       "      <th>Z Khan</th>\n",
       "      <td>141.0</td>\n",
       "      <td>27.0</td>\n",
       "      <td>117.0</td>\n",
       "      <td>11.0</td>\n",
       "      <td>2.0</td>\n",
       "      <td>4.33</td>\n",
       "      <td>82.98</td>\n",
       "      <td>2276.0</td>\n",
       "      <td>102.0</td>\n",
       "      <td>371.0</td>\n",
       "      <td>2782.0</td>\n",
       "      <td>7.50</td>\n",
       "    </tr>\n",
       "  </tbody>\n",
       "</table>\n",
       "</div>"
      ],
      "text/plain": [
       "               balls_faced  innings    runs     4s     6s  bat_average  \\\n",
       "YV Takawale          183.0     10.0   192.0   26.0    3.0        19.20   \n",
       "Yashpal Singh         67.0      4.0    47.0    5.0    0.0        11.75   \n",
       "Younis Khan            7.0      1.0     3.0    0.0    0.0         3.00   \n",
       "Yuvraj Singh        2205.0    126.0  2750.0  217.0  149.0        21.83   \n",
       "Z Khan               141.0     27.0   117.0   11.0    2.0         4.33   \n",
       "\n",
       "               bat_strike  balls_bowled  wickets  overs  runs_conceded  \\\n",
       "YV Takawale        104.92           0.0      0.0    0.0            0.0   \n",
       "Yashpal Singh       70.15           0.0      0.0    0.0            0.0   \n",
       "Younis Khan         42.86           0.0      0.0    0.0            0.0   \n",
       "Yuvraj Singh       124.72         882.0     36.0  146.0         1077.0   \n",
       "Z Khan              82.98        2276.0    102.0  371.0         2782.0   \n",
       "\n",
       "               bowl_econ  \n",
       "YV Takawale         0.00  \n",
       "Yashpal Singh       0.00  \n",
       "Younis Khan         0.00  \n",
       "Yuvraj Singh        7.38  \n",
       "Z Khan              7.50  "
      ]
     },
     "execution_count": 643,
     "metadata": {},
     "output_type": "execute_result"
    }
   ],
   "source": [
    "players.tail()"
   ]
  },
  {
   "cell_type": "markdown",
   "metadata": {},
   "source": [
    "# Create no. of catches statistics"
   ]
  },
  {
   "cell_type": "code",
   "execution_count": 644,
   "metadata": {
    "ExecuteTime": {
     "end_time": "2021-05-16T19:23:48.709630Z",
     "start_time": "2021-05-16T19:23:48.698036Z"
    }
   },
   "outputs": [
    {
     "data": {
      "text/plain": [
       "array([nan, 'caught', 'run out', 'bowled', 'lbw', 'retired hurt',\n",
       "       'stumped', 'caught and bowled', 'hit wicket',\n",
       "       'obstructing the field'], dtype=object)"
      ]
     },
     "execution_count": 644,
     "metadata": {},
     "output_type": "execute_result"
    }
   ],
   "source": [
    "balldf['dismissal_kind'].unique()"
   ]
  },
  {
   "cell_type": "code",
   "execution_count": 645,
   "metadata": {
    "ExecuteTime": {
     "end_time": "2021-05-16T19:23:48.769162Z",
     "start_time": "2021-05-16T19:23:48.711944Z"
    }
   },
   "outputs": [
    {
     "data": {
      "text/html": [
       "<div>\n",
       "<style scoped>\n",
       "    .dataframe tbody tr th:only-of-type {\n",
       "        vertical-align: middle;\n",
       "    }\n",
       "\n",
       "    .dataframe tbody tr th {\n",
       "        vertical-align: top;\n",
       "    }\n",
       "\n",
       "    .dataframe thead th {\n",
       "        text-align: right;\n",
       "    }\n",
       "</style>\n",
       "<table border=\"1\" class=\"dataframe\">\n",
       "  <thead>\n",
       "    <tr style=\"text-align: right;\">\n",
       "      <th></th>\n",
       "      <th>balls_faced</th>\n",
       "      <th>innings</th>\n",
       "      <th>runs</th>\n",
       "      <th>4s</th>\n",
       "      <th>6s</th>\n",
       "      <th>bat_average</th>\n",
       "      <th>bat_strike</th>\n",
       "      <th>balls_bowled</th>\n",
       "      <th>wickets</th>\n",
       "      <th>overs</th>\n",
       "      <th>runs_conceded</th>\n",
       "      <th>bowl_econ</th>\n",
       "      <th>catches</th>\n",
       "    </tr>\n",
       "  </thead>\n",
       "  <tbody>\n",
       "    <tr>\n",
       "      <th>A Ashish Reddy</th>\n",
       "      <td>196.0</td>\n",
       "      <td>23.0</td>\n",
       "      <td>280.0</td>\n",
       "      <td>16.0</td>\n",
       "      <td>15.0</td>\n",
       "      <td>12.17</td>\n",
       "      <td>142.86</td>\n",
       "      <td>270.0</td>\n",
       "      <td>18.0</td>\n",
       "      <td>45.0</td>\n",
       "      <td>396.0</td>\n",
       "      <td>8.80</td>\n",
       "      <td>9.0</td>\n",
       "    </tr>\n",
       "    <tr>\n",
       "      <th>A Chandila</th>\n",
       "      <td>7.0</td>\n",
       "      <td>2.0</td>\n",
       "      <td>4.0</td>\n",
       "      <td>0.0</td>\n",
       "      <td>0.0</td>\n",
       "      <td>2.00</td>\n",
       "      <td>57.14</td>\n",
       "      <td>234.0</td>\n",
       "      <td>11.0</td>\n",
       "      <td>39.0</td>\n",
       "      <td>242.0</td>\n",
       "      <td>6.21</td>\n",
       "      <td>7.0</td>\n",
       "    </tr>\n",
       "    <tr>\n",
       "      <th>A Chopra</th>\n",
       "      <td>75.0</td>\n",
       "      <td>6.0</td>\n",
       "      <td>53.0</td>\n",
       "      <td>7.0</td>\n",
       "      <td>0.0</td>\n",
       "      <td>8.83</td>\n",
       "      <td>70.67</td>\n",
       "      <td>0.0</td>\n",
       "      <td>0.0</td>\n",
       "      <td>0.0</td>\n",
       "      <td>0.0</td>\n",
       "      <td>0.00</td>\n",
       "      <td>2.0</td>\n",
       "    </tr>\n",
       "    <tr>\n",
       "      <th>A Choudhary</th>\n",
       "      <td>20.0</td>\n",
       "      <td>3.0</td>\n",
       "      <td>25.0</td>\n",
       "      <td>1.0</td>\n",
       "      <td>1.0</td>\n",
       "      <td>8.33</td>\n",
       "      <td>125.00</td>\n",
       "      <td>108.0</td>\n",
       "      <td>5.0</td>\n",
       "      <td>17.0</td>\n",
       "      <td>144.0</td>\n",
       "      <td>8.47</td>\n",
       "      <td>0.0</td>\n",
       "    </tr>\n",
       "    <tr>\n",
       "      <th>A Dananjaya</th>\n",
       "      <td>5.0</td>\n",
       "      <td>1.0</td>\n",
       "      <td>4.0</td>\n",
       "      <td>0.0</td>\n",
       "      <td>0.0</td>\n",
       "      <td>4.00</td>\n",
       "      <td>80.00</td>\n",
       "      <td>25.0</td>\n",
       "      <td>0.0</td>\n",
       "      <td>4.0</td>\n",
       "      <td>47.0</td>\n",
       "      <td>11.75</td>\n",
       "      <td>0.0</td>\n",
       "    </tr>\n",
       "  </tbody>\n",
       "</table>\n",
       "</div>"
      ],
      "text/plain": [
       "                balls_faced  innings   runs    4s    6s  bat_average  \\\n",
       "A Ashish Reddy        196.0     23.0  280.0  16.0  15.0        12.17   \n",
       "A Chandila              7.0      2.0    4.0   0.0   0.0         2.00   \n",
       "A Chopra               75.0      6.0   53.0   7.0   0.0         8.83   \n",
       "A Choudhary            20.0      3.0   25.0   1.0   1.0         8.33   \n",
       "A Dananjaya             5.0      1.0    4.0   0.0   0.0         4.00   \n",
       "\n",
       "                bat_strike  balls_bowled  wickets  overs  runs_conceded  \\\n",
       "A Ashish Reddy      142.86         270.0     18.0   45.0          396.0   \n",
       "A Chandila           57.14         234.0     11.0   39.0          242.0   \n",
       "A Chopra             70.67           0.0      0.0    0.0            0.0   \n",
       "A Choudhary         125.00         108.0      5.0   17.0          144.0   \n",
       "A Dananjaya          80.00          25.0      0.0    4.0           47.0   \n",
       "\n",
       "                bowl_econ  catches  \n",
       "A Ashish Reddy       8.80      9.0  \n",
       "A Chandila           6.21      7.0  \n",
       "A Chopra             0.00      2.0  \n",
       "A Choudhary          8.47      0.0  \n",
       "A Dananjaya         11.75      0.0  "
      ]
     },
     "metadata": {},
     "output_type": "display_data"
    }
   ],
   "source": [
    "# Total catches = Number of caught & bowled + number of catches as fielder\n",
    "# Capture caught & bowled instances\n",
    "catches_cb = balldf[(balldf['dismissal_kind'].isin(['caught and bowled']))].groupby('bowler')['ball'].count().rename('bowler_catches')\n",
    "# Capture the catches\n",
    "catches_c = balldf[(balldf['dismissal_kind'].isin(['caught']))].groupby('fielder')['ball'].count().rename('fielder_catches')\n",
    "# Combine the caught & bowled and fielding catches to get the total catches.\n",
    "catches_df = pd.merge(catches_cb,catches_c, left_index=True, right_index=True,how='outer')\n",
    "catches_df.fillna(0,inplace=True)\n",
    "catches_df['catches'] = catches_df['bowler_catches']+catches_df['fielder_catches']\n",
    "catches_df.drop(['bowler_catches','fielder_catches'],axis=1,inplace=True)\n",
    "# Merge total catches to players data\n",
    "players = pd.merge(players,catches_df, left_index=True, right_index=True,how='outer')\n",
    "players.fillna(0,inplace=True)\n",
    "display(players.head())"
   ]
  },
  {
   "cell_type": "code",
   "execution_count": 646,
   "metadata": {
    "ExecuteTime": {
     "end_time": "2021-05-16T19:23:48.789885Z",
     "start_time": "2021-05-16T19:23:48.771199Z"
    }
   },
   "outputs": [
    {
     "data": {
      "text/html": [
       "<div>\n",
       "<style scoped>\n",
       "    .dataframe tbody tr th:only-of-type {\n",
       "        vertical-align: middle;\n",
       "    }\n",
       "\n",
       "    .dataframe tbody tr th {\n",
       "        vertical-align: top;\n",
       "    }\n",
       "\n",
       "    .dataframe thead th {\n",
       "        text-align: right;\n",
       "    }\n",
       "</style>\n",
       "<table border=\"1\" class=\"dataframe\">\n",
       "  <thead>\n",
       "    <tr style=\"text-align: right;\">\n",
       "      <th></th>\n",
       "      <th>balls_faced</th>\n",
       "      <th>innings</th>\n",
       "      <th>runs</th>\n",
       "      <th>4s</th>\n",
       "      <th>6s</th>\n",
       "      <th>bat_average</th>\n",
       "      <th>bat_strike</th>\n",
       "      <th>balls_bowled</th>\n",
       "      <th>wickets</th>\n",
       "      <th>overs</th>\n",
       "      <th>runs_conceded</th>\n",
       "      <th>bowl_econ</th>\n",
       "      <th>catches</th>\n",
       "    </tr>\n",
       "  </thead>\n",
       "  <tbody>\n",
       "    <tr>\n",
       "      <th>A Ashish Reddy</th>\n",
       "      <td>196.0</td>\n",
       "      <td>23.0</td>\n",
       "      <td>280.0</td>\n",
       "      <td>16.0</td>\n",
       "      <td>15.0</td>\n",
       "      <td>12.17</td>\n",
       "      <td>142.86</td>\n",
       "      <td>270.0</td>\n",
       "      <td>18.0</td>\n",
       "      <td>45.0</td>\n",
       "      <td>396.0</td>\n",
       "      <td>8.80</td>\n",
       "      <td>9.0</td>\n",
       "    </tr>\n",
       "    <tr>\n",
       "      <th>A Chandila</th>\n",
       "      <td>7.0</td>\n",
       "      <td>2.0</td>\n",
       "      <td>4.0</td>\n",
       "      <td>0.0</td>\n",
       "      <td>0.0</td>\n",
       "      <td>2.00</td>\n",
       "      <td>57.14</td>\n",
       "      <td>234.0</td>\n",
       "      <td>11.0</td>\n",
       "      <td>39.0</td>\n",
       "      <td>242.0</td>\n",
       "      <td>6.21</td>\n",
       "      <td>7.0</td>\n",
       "    </tr>\n",
       "    <tr>\n",
       "      <th>A Chopra</th>\n",
       "      <td>75.0</td>\n",
       "      <td>6.0</td>\n",
       "      <td>53.0</td>\n",
       "      <td>7.0</td>\n",
       "      <td>0.0</td>\n",
       "      <td>8.83</td>\n",
       "      <td>70.67</td>\n",
       "      <td>0.0</td>\n",
       "      <td>0.0</td>\n",
       "      <td>0.0</td>\n",
       "      <td>0.0</td>\n",
       "      <td>0.00</td>\n",
       "      <td>2.0</td>\n",
       "    </tr>\n",
       "    <tr>\n",
       "      <th>A Choudhary</th>\n",
       "      <td>20.0</td>\n",
       "      <td>3.0</td>\n",
       "      <td>25.0</td>\n",
       "      <td>1.0</td>\n",
       "      <td>1.0</td>\n",
       "      <td>8.33</td>\n",
       "      <td>125.00</td>\n",
       "      <td>108.0</td>\n",
       "      <td>5.0</td>\n",
       "      <td>17.0</td>\n",
       "      <td>144.0</td>\n",
       "      <td>8.47</td>\n",
       "      <td>0.0</td>\n",
       "    </tr>\n",
       "    <tr>\n",
       "      <th>A Dananjaya</th>\n",
       "      <td>5.0</td>\n",
       "      <td>1.0</td>\n",
       "      <td>4.0</td>\n",
       "      <td>0.0</td>\n",
       "      <td>0.0</td>\n",
       "      <td>4.00</td>\n",
       "      <td>80.00</td>\n",
       "      <td>25.0</td>\n",
       "      <td>0.0</td>\n",
       "      <td>4.0</td>\n",
       "      <td>47.0</td>\n",
       "      <td>11.75</td>\n",
       "      <td>0.0</td>\n",
       "    </tr>\n",
       "  </tbody>\n",
       "</table>\n",
       "</div>"
      ],
      "text/plain": [
       "                balls_faced  innings   runs    4s    6s  bat_average  \\\n",
       "A Ashish Reddy        196.0     23.0  280.0  16.0  15.0        12.17   \n",
       "A Chandila              7.0      2.0    4.0   0.0   0.0         2.00   \n",
       "A Chopra               75.0      6.0   53.0   7.0   0.0         8.83   \n",
       "A Choudhary            20.0      3.0   25.0   1.0   1.0         8.33   \n",
       "A Dananjaya             5.0      1.0    4.0   0.0   0.0         4.00   \n",
       "\n",
       "                bat_strike  balls_bowled  wickets  overs  runs_conceded  \\\n",
       "A Ashish Reddy      142.86         270.0     18.0   45.0          396.0   \n",
       "A Chandila           57.14         234.0     11.0   39.0          242.0   \n",
       "A Chopra             70.67           0.0      0.0    0.0            0.0   \n",
       "A Choudhary         125.00         108.0      5.0   17.0          144.0   \n",
       "A Dananjaya          80.00          25.0      0.0    4.0           47.0   \n",
       "\n",
       "                bowl_econ  catches  \n",
       "A Ashish Reddy       8.80      9.0  \n",
       "A Chandila           6.21      7.0  \n",
       "A Chopra             0.00      2.0  \n",
       "A Choudhary          8.47      0.0  \n",
       "A Dananjaya         11.75      0.0  "
      ]
     },
     "execution_count": 646,
     "metadata": {},
     "output_type": "execute_result"
    }
   ],
   "source": [
    "players.head()"
   ]
  },
  {
   "cell_type": "code",
   "execution_count": null,
   "metadata": {},
   "outputs": [],
   "source": []
  },
  {
   "cell_type": "markdown",
   "metadata": {},
   "source": [
    "# Number of man of the  matches from matches file"
   ]
  },
  {
   "cell_type": "code",
   "execution_count": 647,
   "metadata": {
    "ExecuteTime": {
     "end_time": "2021-05-16T19:23:48.796431Z",
     "start_time": "2021-05-16T19:23:48.792149Z"
    }
   },
   "outputs": [
    {
     "data": {
      "text/plain": [
       "(648, 13)"
      ]
     },
     "execution_count": 647,
     "metadata": {},
     "output_type": "execute_result"
    }
   ],
   "source": [
    "players.shape"
   ]
  },
  {
   "cell_type": "code",
   "execution_count": 648,
   "metadata": {
    "ExecuteTime": {
     "end_time": "2021-05-16T19:23:48.814420Z",
     "start_time": "2021-05-16T19:23:48.800433Z"
    }
   },
   "outputs": [],
   "source": [
    "players = pd.merge(players,matches['player_of_match'].value_counts(), left_index=True, right_index=True,how='left')\n",
    "players['player_of_match']  = players[['player_of_match']].fillna(0)"
   ]
  },
  {
   "cell_type": "markdown",
   "metadata": {},
   "source": [
    "# Filtering: Remove players who have played less matches"
   ]
  },
  {
   "cell_type": "code",
   "execution_count": 649,
   "metadata": {
    "ExecuteTime": {
     "end_time": "2021-05-16T19:23:48.820604Z",
     "start_time": "2021-05-16T19:23:48.816964Z"
    }
   },
   "outputs": [],
   "source": [
    "# Backup before data filtering\n",
    "all_players = players.copy()"
   ]
  },
  {
   "cell_type": "code",
   "execution_count": 650,
   "metadata": {
    "ExecuteTime": {
     "end_time": "2021-05-16T19:23:48.827718Z",
     "start_time": "2021-05-16T19:23:48.822942Z"
    }
   },
   "outputs": [
    {
     "data": {
      "text/plain": [
       "(648, 14)"
      ]
     },
     "execution_count": 650,
     "metadata": {},
     "output_type": "execute_result"
    }
   ],
   "source": [
    "players.shape"
   ]
  },
  {
   "cell_type": "code",
   "execution_count": 651,
   "metadata": {
    "ExecuteTime": {
     "end_time": "2021-05-16T19:23:48.840449Z",
     "start_time": "2021-05-16T19:23:48.830749Z"
    }
   },
   "outputs": [
    {
     "data": {
      "text/plain": [
       "count    648.000000\n",
       "mean      18.768519\n",
       "std       32.885716\n",
       "min        0.000000\n",
       "25%        1.000000\n",
       "50%        5.000000\n",
       "75%       19.000000\n",
       "max      194.000000\n",
       "Name: innings, dtype: float64"
      ]
     },
     "execution_count": 651,
     "metadata": {},
     "output_type": "execute_result"
    }
   ],
   "source": [
    "players['innings'].describe()"
   ]
  },
  {
   "cell_type": "code",
   "execution_count": 652,
   "metadata": {
    "ExecuteTime": {
     "end_time": "2021-05-16T19:23:48.848022Z",
     "start_time": "2021-05-16T19:23:48.843607Z"
    }
   },
   "outputs": [],
   "source": [
    "# Cut off on no. of matches\n",
    "\n",
    "# Current Analysis: Players who have played atleast 10 match(es)\n",
    "CUTOFF_MATCHES = 10\n",
    "players=players[players['innings']>=CUTOFF_MATCHES]"
   ]
  },
  {
   "cell_type": "code",
   "execution_count": 653,
   "metadata": {
    "ExecuteTime": {
     "end_time": "2021-05-16T19:23:48.857025Z",
     "start_time": "2021-05-16T19:23:48.850500Z"
    }
   },
   "outputs": [
    {
     "data": {
      "text/plain": [
       "(251, 14)"
      ]
     },
     "execution_count": 653,
     "metadata": {},
     "output_type": "execute_result"
    }
   ],
   "source": [
    "players.shape"
   ]
  },
  {
   "cell_type": "code",
   "execution_count": null,
   "metadata": {},
   "outputs": [],
   "source": []
  },
  {
   "cell_type": "markdown",
   "metadata": {},
   "source": [
    "# Scale the data"
   ]
  },
  {
   "cell_type": "code",
   "execution_count": 654,
   "metadata": {
    "ExecuteTime": {
     "end_time": "2021-05-16T19:23:48.882369Z",
     "start_time": "2021-05-16T19:23:48.859219Z"
    }
   },
   "outputs": [
    {
     "data": {
      "text/html": [
       "<div>\n",
       "<style scoped>\n",
       "    .dataframe tbody tr th:only-of-type {\n",
       "        vertical-align: middle;\n",
       "    }\n",
       "\n",
       "    .dataframe tbody tr th {\n",
       "        vertical-align: top;\n",
       "    }\n",
       "\n",
       "    .dataframe thead th {\n",
       "        text-align: right;\n",
       "    }\n",
       "</style>\n",
       "<table border=\"1\" class=\"dataframe\">\n",
       "  <thead>\n",
       "    <tr style=\"text-align: right;\">\n",
       "      <th></th>\n",
       "      <th>balls_faced</th>\n",
       "      <th>innings</th>\n",
       "      <th>runs</th>\n",
       "      <th>4s</th>\n",
       "      <th>6s</th>\n",
       "      <th>bat_average</th>\n",
       "      <th>bat_strike</th>\n",
       "      <th>balls_bowled</th>\n",
       "      <th>wickets</th>\n",
       "      <th>overs</th>\n",
       "      <th>runs_conceded</th>\n",
       "      <th>bowl_econ</th>\n",
       "      <th>catches</th>\n",
       "      <th>player_of_match</th>\n",
       "    </tr>\n",
       "  </thead>\n",
       "  <tbody>\n",
       "    <tr>\n",
       "      <th>0</th>\n",
       "      <td>-0.586132</td>\n",
       "      <td>-0.514618</td>\n",
       "      <td>-0.537008</td>\n",
       "      <td>-0.596562</td>\n",
       "      <td>-0.394531</td>\n",
       "      <td>-0.476250</td>\n",
       "      <td>1.197842</td>\n",
       "      <td>-0.400299</td>\n",
       "      <td>-0.220922</td>\n",
       "      <td>-0.391620</td>\n",
       "      <td>-0.353023</td>\n",
       "      <td>0.772222</td>\n",
       "      <td>-0.561588</td>\n",
       "      <td>-0.755049</td>\n",
       "    </tr>\n",
       "    <tr>\n",
       "      <th>1</th>\n",
       "      <td>-0.746431</td>\n",
       "      <td>-0.707912</td>\n",
       "      <td>-0.743238</td>\n",
       "      <td>-0.710905</td>\n",
       "      <td>-0.698918</td>\n",
       "      <td>-1.604319</td>\n",
       "      <td>-2.082638</td>\n",
       "      <td>0.495151</td>\n",
       "      <td>0.507283</td>\n",
       "      <td>0.520538</td>\n",
       "      <td>0.320197</td>\n",
       "      <td>0.193070</td>\n",
       "      <td>-0.513659</td>\n",
       "      <td>0.003020</td>\n",
       "    </tr>\n",
       "    <tr>\n",
       "      <th>2</th>\n",
       "      <td>-0.352772</td>\n",
       "      <td>0.234399</td>\n",
       "      <td>-0.467985</td>\n",
       "      <td>-0.482219</td>\n",
       "      <td>-0.597456</td>\n",
       "      <td>-1.103337</td>\n",
       "      <td>-1.308329</td>\n",
       "      <td>3.320906</td>\n",
       "      <td>3.608900</td>\n",
       "      <td>3.349777</td>\n",
       "      <td>3.176804</td>\n",
       "      <td>0.398656</td>\n",
       "      <td>0.013558</td>\n",
       "      <td>2.024537</td>\n",
       "    </tr>\n",
       "    <tr>\n",
       "      <th>3</th>\n",
       "      <td>-0.731164</td>\n",
       "      <td>-0.659589</td>\n",
       "      <td>-0.738188</td>\n",
       "      <td>-0.710905</td>\n",
       "      <td>-0.678626</td>\n",
       "      <td>-1.595148</td>\n",
       "      <td>-2.374267</td>\n",
       "      <td>1.739740</td>\n",
       "      <td>2.152489</td>\n",
       "      <td>1.734173</td>\n",
       "      <td>1.781551</td>\n",
       "      <td>0.521507</td>\n",
       "      <td>-0.082300</td>\n",
       "      <td>0.761089</td>\n",
       "    </tr>\n",
       "    <tr>\n",
       "      <th>4</th>\n",
       "      <td>0.051791</td>\n",
       "      <td>-0.200514</td>\n",
       "      <td>0.047168</td>\n",
       "      <td>-0.086415</td>\n",
       "      <td>0.133073</td>\n",
       "      <td>1.230758</td>\n",
       "      <td>0.364289</td>\n",
       "      <td>-0.061208</td>\n",
       "      <td>-0.166981</td>\n",
       "      <td>-0.059223</td>\n",
       "      <td>-0.070311</td>\n",
       "      <td>0.486407</td>\n",
       "      <td>0.013558</td>\n",
       "      <td>0.003020</td>\n",
       "    </tr>\n",
       "  </tbody>\n",
       "</table>\n",
       "</div>"
      ],
      "text/plain": [
       "   balls_faced   innings      runs        4s        6s  bat_average  \\\n",
       "0    -0.586132 -0.514618 -0.537008 -0.596562 -0.394531    -0.476250   \n",
       "1    -0.746431 -0.707912 -0.743238 -0.710905 -0.698918    -1.604319   \n",
       "2    -0.352772  0.234399 -0.467985 -0.482219 -0.597456    -1.103337   \n",
       "3    -0.731164 -0.659589 -0.738188 -0.710905 -0.678626    -1.595148   \n",
       "4     0.051791 -0.200514  0.047168 -0.086415  0.133073     1.230758   \n",
       "\n",
       "   bat_strike  balls_bowled   wickets     overs  runs_conceded  bowl_econ  \\\n",
       "0    1.197842     -0.400299 -0.220922 -0.391620      -0.353023   0.772222   \n",
       "1   -2.082638      0.495151  0.507283  0.520538       0.320197   0.193070   \n",
       "2   -1.308329      3.320906  3.608900  3.349777       3.176804   0.398656   \n",
       "3   -2.374267      1.739740  2.152489  1.734173       1.781551   0.521507   \n",
       "4    0.364289     -0.061208 -0.166981 -0.059223      -0.070311   0.486407   \n",
       "\n",
       "    catches  player_of_match  \n",
       "0 -0.561588        -0.755049  \n",
       "1 -0.513659         0.003020  \n",
       "2  0.013558         2.024537  \n",
       "3 -0.082300         0.761089  \n",
       "4  0.013558         0.003020  "
      ]
     },
     "execution_count": 654,
     "metadata": {},
     "output_type": "execute_result"
    }
   ],
   "source": [
    "# instantiate\n",
    "scaler = StandardScaler()\n",
    "\n",
    "# fit_transform\n",
    "players_scaled = pd.DataFrame(scaler.fit_transform(players),columns=players.columns)\n",
    "players_scaled.shape\n",
    "players_scaled.head()\n",
    "\n",
    "\n",
    "# TESTING -  CONSIDER  ONLY RUNS AND WICKETS\n",
    "#players_scaled  = players_scaled[['runs','wickets','catches']]\n",
    "\n",
    "\n",
    "# players_scaled.columns=players.columns"
   ]
  },
  {
   "cell_type": "code",
   "execution_count": 655,
   "metadata": {
    "ExecuteTime": {
     "end_time": "2021-05-16T19:23:48.944621Z",
     "start_time": "2021-05-16T19:23:48.884707Z"
    }
   },
   "outputs": [
    {
     "data": {
      "text/html": [
       "<div>\n",
       "<style scoped>\n",
       "    .dataframe tbody tr th:only-of-type {\n",
       "        vertical-align: middle;\n",
       "    }\n",
       "\n",
       "    .dataframe tbody tr th {\n",
       "        vertical-align: top;\n",
       "    }\n",
       "\n",
       "    .dataframe thead th {\n",
       "        text-align: right;\n",
       "    }\n",
       "</style>\n",
       "<table border=\"1\" class=\"dataframe\">\n",
       "  <thead>\n",
       "    <tr style=\"text-align: right;\">\n",
       "      <th></th>\n",
       "      <th>balls_faced</th>\n",
       "      <th>innings</th>\n",
       "      <th>runs</th>\n",
       "      <th>4s</th>\n",
       "      <th>6s</th>\n",
       "      <th>bat_average</th>\n",
       "      <th>bat_strike</th>\n",
       "      <th>balls_bowled</th>\n",
       "      <th>wickets</th>\n",
       "      <th>overs</th>\n",
       "      <th>runs_conceded</th>\n",
       "      <th>bowl_econ</th>\n",
       "      <th>catches</th>\n",
       "      <th>player_of_match</th>\n",
       "    </tr>\n",
       "  </thead>\n",
       "  <tbody>\n",
       "    <tr>\n",
       "      <th>count</th>\n",
       "      <td>2.510000e+02</td>\n",
       "      <td>2.510000e+02</td>\n",
       "      <td>2.510000e+02</td>\n",
       "      <td>2.510000e+02</td>\n",
       "      <td>2.510000e+02</td>\n",
       "      <td>2.510000e+02</td>\n",
       "      <td>2.510000e+02</td>\n",
       "      <td>2.510000e+02</td>\n",
       "      <td>2.510000e+02</td>\n",
       "      <td>2.510000e+02</td>\n",
       "      <td>2.510000e+02</td>\n",
       "      <td>2.510000e+02</td>\n",
       "      <td>2.510000e+02</td>\n",
       "      <td>2.510000e+02</td>\n",
       "    </tr>\n",
       "    <tr>\n",
       "      <th>mean</th>\n",
       "      <td>5.661695e-17</td>\n",
       "      <td>-3.538559e-18</td>\n",
       "      <td>-4.246271e-17</td>\n",
       "      <td>2.830848e-17</td>\n",
       "      <td>7.607903e-17</td>\n",
       "      <td>7.430975e-17</td>\n",
       "      <td>-1.698509e-16</td>\n",
       "      <td>5.750159e-17</td>\n",
       "      <td>-2.476992e-17</td>\n",
       "      <td>-1.769280e-17</td>\n",
       "      <td>-5.307839e-18</td>\n",
       "      <td>-7.784831e-17</td>\n",
       "      <td>4.157807e-17</td>\n",
       "      <td>5.130911e-17</td>\n",
       "    </tr>\n",
       "    <tr>\n",
       "      <th>std</th>\n",
       "      <td>1.001998e+00</td>\n",
       "      <td>1.001998e+00</td>\n",
       "      <td>1.001998e+00</td>\n",
       "      <td>1.001998e+00</td>\n",
       "      <td>1.001998e+00</td>\n",
       "      <td>1.001998e+00</td>\n",
       "      <td>1.001998e+00</td>\n",
       "      <td>1.001998e+00</td>\n",
       "      <td>1.001998e+00</td>\n",
       "      <td>1.001998e+00</td>\n",
       "      <td>1.001998e+00</td>\n",
       "      <td>1.001998e+00</td>\n",
       "      <td>1.001998e+00</td>\n",
       "      <td>1.001998e+00</td>\n",
       "    </tr>\n",
       "    <tr>\n",
       "      <th>min</th>\n",
       "      <td>-7.551544e-01</td>\n",
       "      <td>-8.287215e-01</td>\n",
       "      <td>-7.592314e-01</td>\n",
       "      <td>-7.372922e-01</td>\n",
       "      <td>-6.989182e-01</td>\n",
       "      <td>-1.775134e+00</td>\n",
       "      <td>-3.729996e+00</td>\n",
       "      <td>-7.393897e-01</td>\n",
       "      <td>-7.063928e-01</td>\n",
       "      <td>-7.394775e-01</td>\n",
       "      <td>-7.557342e-01</td>\n",
       "      <td>-1.434069e+00</td>\n",
       "      <td>-9.929471e-01</td>\n",
       "      <td>-7.550485e-01</td>\n",
       "    </tr>\n",
       "    <tr>\n",
       "      <th>25%</th>\n",
       "      <td>-6.493792e-01</td>\n",
       "      <td>-6.837506e-01</td>\n",
       "      <td>-6.380189e-01</td>\n",
       "      <td>-6.405401e-01</td>\n",
       "      <td>-5.974558e-01</td>\n",
       "      <td>-7.892201e-01</td>\n",
       "      <td>-5.174868e-01</td>\n",
       "      <td>-7.393897e-01</td>\n",
       "      <td>-7.063928e-01</td>\n",
       "      <td>-7.394775e-01</td>\n",
       "      <td>-7.557342e-01</td>\n",
       "      <td>-1.434069e+00</td>\n",
       "      <td>-6.574456e-01</td>\n",
       "      <td>-6.287037e-01</td>\n",
       "    </tr>\n",
       "    <tr>\n",
       "      <th>50%</th>\n",
       "      <td>-4.498239e-01</td>\n",
       "      <td>-4.662942e-01</td>\n",
       "      <td>-4.570419e-01</td>\n",
       "      <td>-4.558316e-01</td>\n",
       "      <td>-3.945310e-01</td>\n",
       "      <td>-1.518151e-01</td>\n",
       "      <td>1.461410e-01</td>\n",
       "      <td>-4.392317e-01</td>\n",
       "      <td>-4.906282e-01</td>\n",
       "      <td>-4.380013e-01</td>\n",
       "      <td>-4.313278e-01</td>\n",
       "      <td>4.462923e-01</td>\n",
       "      <td>-3.219440e-01</td>\n",
       "      <td>-2.496694e-01</td>\n",
       "    </tr>\n",
       "    <tr>\n",
       "      <th>75%</th>\n",
       "      <td>2.279009e-01</td>\n",
       "      <td>4.035312e-01</td>\n",
       "      <td>2.723374e-01</td>\n",
       "      <td>1.730569e-01</td>\n",
       "      <td>1.432196e-01</td>\n",
       "      <td>7.045546e-01</td>\n",
       "      <td>6.393841e-01</td>\n",
       "      <td>4.078669e-01</td>\n",
       "      <td>3.724304e-01</td>\n",
       "      <td>4.007210e-01</td>\n",
       "      <td>3.766374e-01</td>\n",
       "      <td>6.368355e-01</td>\n",
       "      <td>2.292371e-01</td>\n",
       "      <td>2.557098e-01</td>\n",
       "    </tr>\n",
       "    <tr>\n",
       "      <th>max</th>\n",
       "      <td>4.226096e+00</td>\n",
       "      <td>3.617053e+00</td>\n",
       "      <td>4.175127e+00</td>\n",
       "      <td>4.460933e+00</td>\n",
       "      <td>6.383156e+00</td>\n",
       "      <td>2.441369e+00</td>\n",
       "      <td>2.536119e+00</td>\n",
       "      <td>3.594691e+00</td>\n",
       "      <td>3.878606e+00</td>\n",
       "      <td>3.612602e+00</td>\n",
       "      <td>3.579515e+00</td>\n",
       "      <td>3.580227e+00</td>\n",
       "      <td>4.662650e+00</td>\n",
       "      <td>5.056812e+00</td>\n",
       "    </tr>\n",
       "  </tbody>\n",
       "</table>\n",
       "</div>"
      ],
      "text/plain": [
       "        balls_faced       innings          runs            4s            6s  \\\n",
       "count  2.510000e+02  2.510000e+02  2.510000e+02  2.510000e+02  2.510000e+02   \n",
       "mean   5.661695e-17 -3.538559e-18 -4.246271e-17  2.830848e-17  7.607903e-17   \n",
       "std    1.001998e+00  1.001998e+00  1.001998e+00  1.001998e+00  1.001998e+00   \n",
       "min   -7.551544e-01 -8.287215e-01 -7.592314e-01 -7.372922e-01 -6.989182e-01   \n",
       "25%   -6.493792e-01 -6.837506e-01 -6.380189e-01 -6.405401e-01 -5.974558e-01   \n",
       "50%   -4.498239e-01 -4.662942e-01 -4.570419e-01 -4.558316e-01 -3.945310e-01   \n",
       "75%    2.279009e-01  4.035312e-01  2.723374e-01  1.730569e-01  1.432196e-01   \n",
       "max    4.226096e+00  3.617053e+00  4.175127e+00  4.460933e+00  6.383156e+00   \n",
       "\n",
       "        bat_average    bat_strike  balls_bowled       wickets         overs  \\\n",
       "count  2.510000e+02  2.510000e+02  2.510000e+02  2.510000e+02  2.510000e+02   \n",
       "mean   7.430975e-17 -1.698509e-16  5.750159e-17 -2.476992e-17 -1.769280e-17   \n",
       "std    1.001998e+00  1.001998e+00  1.001998e+00  1.001998e+00  1.001998e+00   \n",
       "min   -1.775134e+00 -3.729996e+00 -7.393897e-01 -7.063928e-01 -7.394775e-01   \n",
       "25%   -7.892201e-01 -5.174868e-01 -7.393897e-01 -7.063928e-01 -7.394775e-01   \n",
       "50%   -1.518151e-01  1.461410e-01 -4.392317e-01 -4.906282e-01 -4.380013e-01   \n",
       "75%    7.045546e-01  6.393841e-01  4.078669e-01  3.724304e-01  4.007210e-01   \n",
       "max    2.441369e+00  2.536119e+00  3.594691e+00  3.878606e+00  3.612602e+00   \n",
       "\n",
       "       runs_conceded     bowl_econ       catches  player_of_match  \n",
       "count   2.510000e+02  2.510000e+02  2.510000e+02     2.510000e+02  \n",
       "mean   -5.307839e-18 -7.784831e-17  4.157807e-17     5.130911e-17  \n",
       "std     1.001998e+00  1.001998e+00  1.001998e+00     1.001998e+00  \n",
       "min    -7.557342e-01 -1.434069e+00 -9.929471e-01    -7.550485e-01  \n",
       "25%    -7.557342e-01 -1.434069e+00 -6.574456e-01    -6.287037e-01  \n",
       "50%    -4.313278e-01  4.462923e-01 -3.219440e-01    -2.496694e-01  \n",
       "75%     3.766374e-01  6.368355e-01  2.292371e-01     2.557098e-01  \n",
       "max     3.579515e+00  3.580227e+00  4.662650e+00     5.056812e+00  "
      ]
     },
     "execution_count": 655,
     "metadata": {},
     "output_type": "execute_result"
    }
   ],
   "source": [
    "# Mean around ~0 and standard deviation ~1 in all the scaled columns\n",
    "players_scaled.describe()"
   ]
  },
  {
   "cell_type": "markdown",
   "metadata": {},
   "source": [
    "# update player name as column"
   ]
  },
  {
   "cell_type": "code",
   "execution_count": 656,
   "metadata": {
    "ExecuteTime": {
     "end_time": "2021-05-16T19:23:48.951632Z",
     "start_time": "2021-05-16T19:23:48.947317Z"
    }
   },
   "outputs": [],
   "source": [
    "\n",
    "#players['player'] = players.index\n",
    "players.insert(0, 'name', players.index)"
   ]
  },
  {
   "cell_type": "code",
   "execution_count": 657,
   "metadata": {
    "ExecuteTime": {
     "end_time": "2021-05-16T19:23:48.974392Z",
     "start_time": "2021-05-16T19:23:48.954273Z"
    }
   },
   "outputs": [
    {
     "data": {
      "text/html": [
       "<div>\n",
       "<style scoped>\n",
       "    .dataframe tbody tr th:only-of-type {\n",
       "        vertical-align: middle;\n",
       "    }\n",
       "\n",
       "    .dataframe tbody tr th {\n",
       "        vertical-align: top;\n",
       "    }\n",
       "\n",
       "    .dataframe thead th {\n",
       "        text-align: right;\n",
       "    }\n",
       "</style>\n",
       "<table border=\"1\" class=\"dataframe\">\n",
       "  <thead>\n",
       "    <tr style=\"text-align: right;\">\n",
       "      <th></th>\n",
       "      <th>name</th>\n",
       "      <th>balls_faced</th>\n",
       "      <th>innings</th>\n",
       "      <th>runs</th>\n",
       "      <th>4s</th>\n",
       "      <th>6s</th>\n",
       "      <th>bat_average</th>\n",
       "      <th>bat_strike</th>\n",
       "      <th>balls_bowled</th>\n",
       "      <th>wickets</th>\n",
       "      <th>overs</th>\n",
       "      <th>runs_conceded</th>\n",
       "      <th>bowl_econ</th>\n",
       "      <th>catches</th>\n",
       "      <th>player_of_match</th>\n",
       "    </tr>\n",
       "  </thead>\n",
       "  <tbody>\n",
       "    <tr>\n",
       "      <th>A Ashish Reddy</th>\n",
       "      <td>A Ashish Reddy</td>\n",
       "      <td>196.0</td>\n",
       "      <td>23.0</td>\n",
       "      <td>280.0</td>\n",
       "      <td>16.0</td>\n",
       "      <td>15.0</td>\n",
       "      <td>12.17</td>\n",
       "      <td>142.86</td>\n",
       "      <td>270.0</td>\n",
       "      <td>18.0</td>\n",
       "      <td>45.0</td>\n",
       "      <td>396.0</td>\n",
       "      <td>8.80</td>\n",
       "      <td>9.0</td>\n",
       "      <td>0.0</td>\n",
       "    </tr>\n",
       "    <tr>\n",
       "      <th>A Kumble</th>\n",
       "      <td>A Kumble</td>\n",
       "      <td>49.0</td>\n",
       "      <td>15.0</td>\n",
       "      <td>35.0</td>\n",
       "      <td>3.0</td>\n",
       "      <td>0.0</td>\n",
       "      <td>2.33</td>\n",
       "      <td>71.43</td>\n",
       "      <td>983.0</td>\n",
       "      <td>45.0</td>\n",
       "      <td>163.0</td>\n",
       "      <td>1058.0</td>\n",
       "      <td>6.49</td>\n",
       "      <td>10.0</td>\n",
       "      <td>3.0</td>\n",
       "    </tr>\n",
       "    <tr>\n",
       "      <th>A Mishra</th>\n",
       "      <td>A Mishra</td>\n",
       "      <td>410.0</td>\n",
       "      <td>54.0</td>\n",
       "      <td>362.0</td>\n",
       "      <td>29.0</td>\n",
       "      <td>5.0</td>\n",
       "      <td>6.70</td>\n",
       "      <td>88.29</td>\n",
       "      <td>3233.0</td>\n",
       "      <td>160.0</td>\n",
       "      <td>529.0</td>\n",
       "      <td>3867.0</td>\n",
       "      <td>7.31</td>\n",
       "      <td>21.0</td>\n",
       "      <td>11.0</td>\n",
       "    </tr>\n",
       "    <tr>\n",
       "      <th>A Nehra</th>\n",
       "      <td>A Nehra</td>\n",
       "      <td>63.0</td>\n",
       "      <td>17.0</td>\n",
       "      <td>41.0</td>\n",
       "      <td>3.0</td>\n",
       "      <td>1.0</td>\n",
       "      <td>2.41</td>\n",
       "      <td>65.08</td>\n",
       "      <td>1974.0</td>\n",
       "      <td>106.0</td>\n",
       "      <td>320.0</td>\n",
       "      <td>2495.0</td>\n",
       "      <td>7.80</td>\n",
       "      <td>19.0</td>\n",
       "      <td>6.0</td>\n",
       "    </tr>\n",
       "    <tr>\n",
       "      <th>A Symonds</th>\n",
       "      <td>A Symonds</td>\n",
       "      <td>781.0</td>\n",
       "      <td>36.0</td>\n",
       "      <td>974.0</td>\n",
       "      <td>74.0</td>\n",
       "      <td>41.0</td>\n",
       "      <td>27.06</td>\n",
       "      <td>124.71</td>\n",
       "      <td>540.0</td>\n",
       "      <td>20.0</td>\n",
       "      <td>88.0</td>\n",
       "      <td>674.0</td>\n",
       "      <td>7.66</td>\n",
       "      <td>21.0</td>\n",
       "      <td>3.0</td>\n",
       "    </tr>\n",
       "  </tbody>\n",
       "</table>\n",
       "</div>"
      ],
      "text/plain": [
       "                          name  balls_faced  innings   runs    4s    6s  \\\n",
       "A Ashish Reddy  A Ashish Reddy        196.0     23.0  280.0  16.0  15.0   \n",
       "A Kumble              A Kumble         49.0     15.0   35.0   3.0   0.0   \n",
       "A Mishra              A Mishra        410.0     54.0  362.0  29.0   5.0   \n",
       "A Nehra                A Nehra         63.0     17.0   41.0   3.0   1.0   \n",
       "A Symonds            A Symonds        781.0     36.0  974.0  74.0  41.0   \n",
       "\n",
       "                bat_average  bat_strike  balls_bowled  wickets  overs  \\\n",
       "A Ashish Reddy        12.17      142.86         270.0     18.0   45.0   \n",
       "A Kumble               2.33       71.43         983.0     45.0  163.0   \n",
       "A Mishra               6.70       88.29        3233.0    160.0  529.0   \n",
       "A Nehra                2.41       65.08        1974.0    106.0  320.0   \n",
       "A Symonds             27.06      124.71         540.0     20.0   88.0   \n",
       "\n",
       "                runs_conceded  bowl_econ  catches  player_of_match  \n",
       "A Ashish Reddy          396.0       8.80      9.0              0.0  \n",
       "A Kumble               1058.0       6.49     10.0              3.0  \n",
       "A Mishra               3867.0       7.31     21.0             11.0  \n",
       "A Nehra                2495.0       7.80     19.0              6.0  \n",
       "A Symonds               674.0       7.66     21.0              3.0  "
      ]
     },
     "execution_count": 657,
     "metadata": {},
     "output_type": "execute_result"
    }
   ],
   "source": [
    "players.head()"
   ]
  },
  {
   "cell_type": "markdown",
   "metadata": {},
   "source": [
    "# Finding optimal no. of clusters"
   ]
  },
  {
   "cell_type": "markdown",
   "metadata": {},
   "source": [
    "## Elbow method"
   ]
  },
  {
   "cell_type": "code",
   "execution_count": 658,
   "metadata": {
    "ExecuteTime": {
     "end_time": "2021-05-16T19:23:49.358262Z",
     "start_time": "2021-05-16T19:23:48.976493Z"
    }
   },
   "outputs": [
    {
     "data": {
      "text/plain": [
       "[<matplotlib.lines.Line2D at 0x124869d30>]"
      ]
     },
     "execution_count": 658,
     "metadata": {},
     "output_type": "execute_result"
    },
    {
     "data": {
      "image/png": "[encoded data removed]",
      "text/plain": [
       "<Figure size 432x288 with 1 Axes>"
      ]
     },
     "metadata": {
      "needs_background": "light"
     },
     "output_type": "display_data"
    }
   ],
   "source": [
    "# elbow-curve/SSD\n",
    "ssd = []\n",
    "range_n_clusters = [2, 3, 4, 5, 6, 7, 8]\n",
    "for num_clusters in range_n_clusters:\n",
    "    kmeans = KMeans(n_clusters=num_clusters, max_iter=50)\n",
    "    kmeans.fit(players_scaled)\n",
    "    \n",
    "    ssd.append(kmeans.inertia_)\n",
    "    \n",
    "# plot the SSDs for each n_clusters\n",
    "# ssd\n",
    "plt.plot(ssd)"
   ]
  },
  {
   "cell_type": "markdown",
   "metadata": {},
   "source": [
    "## Silhouette Analysis¶\n",
    "silhouette score=(𝑝−𝑞)/𝑚𝑎𝑥(𝑝,𝑞)\n",
    " \n",
    "𝑝  is the mean distance to the points in the nearest cluster that the data point is not a part of\n",
    "\n",
    "𝑞  is the mean intra-cluster distance to all the points in its own cluster.\n",
    "\n",
    "The value of the silhouette score range lies between -1 to 1.\n",
    "\n",
    "A score closer to 1 indicates that the data point is very similar to other data points in the cluster,\n",
    "\n",
    "A score closer to -1 indicates that the data point is not similar to the data points in its cluster."
   ]
  },
  {
   "cell_type": "code",
   "execution_count": 659,
   "metadata": {
    "ExecuteTime": {
     "end_time": "2021-05-16T19:23:49.591170Z",
     "start_time": "2021-05-16T19:23:49.360177Z"
    }
   },
   "outputs": [
    {
     "name": "stdout",
     "output_type": "stream",
     "text": [
      "For n_clusters=2, the silhouette score is 0.4244505921125993\n",
      "For n_clusters=3, the silhouette score is 0.3876906459684048\n",
      "For n_clusters=4, the silhouette score is 0.33840309847681266\n",
      "For n_clusters=5, the silhouette score is 0.30625094624718\n",
      "For n_clusters=6, the silhouette score is 0.30112302235921085\n",
      "For n_clusters=7, the silhouette score is 0.29574288472247984\n",
      "For n_clusters=8, the silhouette score is 0.28062350604263486\n"
     ]
    }
   ],
   "source": [
    "# silhouette analysis\n",
    "range_n_clusters = [2, 3, 4, 5, 6, 7, 8]\n",
    "\n",
    "for num_clusters in range_n_clusters:\n",
    "    \n",
    "    # intialise kmeans\n",
    "    kmeans = KMeans(n_clusters=num_clusters, max_iter=50)\n",
    "    kmeans.fit(players_scaled)\n",
    "    \n",
    "    cluster_labels = kmeans.labels_\n",
    "    \n",
    "    # silhouette score\n",
    "    silhouette_avg = silhouette_score(players_scaled, cluster_labels)\n",
    "    print(\"For n_clusters={0}, the silhouette score is {1}\".format(num_clusters, silhouette_avg))\n",
    "    \n",
    "    "
   ]
  },
  {
   "cell_type": "code",
   "execution_count": 660,
   "metadata": {
    "ExecuteTime": {
     "end_time": "2021-05-16T19:23:49.595473Z",
     "start_time": "2021-05-16T19:23:49.593040Z"
    }
   },
   "outputs": [],
   "source": [
    "NUM_CLUSTERS = 8"
   ]
  },
  {
   "cell_type": "markdown",
   "metadata": {},
   "source": [
    "# k-means Clustering"
   ]
  },
  {
   "cell_type": "code",
   "execution_count": 661,
   "metadata": {
    "ExecuteTime": {
     "end_time": "2021-05-16T19:23:49.867217Z",
     "start_time": "2021-05-16T19:23:49.597096Z"
    }
   },
   "outputs": [
    {
     "data": {
      "text/html": [
       "<div>\n",
       "<style scoped>\n",
       "    .dataframe tbody tr th:only-of-type {\n",
       "        vertical-align: middle;\n",
       "    }\n",
       "\n",
       "    .dataframe tbody tr th {\n",
       "        vertical-align: top;\n",
       "    }\n",
       "\n",
       "    .dataframe thead th {\n",
       "        text-align: right;\n",
       "    }\n",
       "</style>\n",
       "<table border=\"1\" class=\"dataframe\">\n",
       "  <thead>\n",
       "    <tr style=\"text-align: right;\">\n",
       "      <th></th>\n",
       "      <th>name</th>\n",
       "      <th>balls_faced</th>\n",
       "      <th>innings</th>\n",
       "      <th>runs</th>\n",
       "      <th>4s</th>\n",
       "      <th>6s</th>\n",
       "      <th>bat_average</th>\n",
       "      <th>bat_strike</th>\n",
       "      <th>balls_bowled</th>\n",
       "      <th>wickets</th>\n",
       "      <th>overs</th>\n",
       "      <th>runs_conceded</th>\n",
       "      <th>bowl_econ</th>\n",
       "      <th>catches</th>\n",
       "      <th>player_of_match</th>\n",
       "      <th>cluster_kmeans</th>\n",
       "    </tr>\n",
       "  </thead>\n",
       "  <tbody>\n",
       "    <tr>\n",
       "      <th>A Ashish Reddy</th>\n",
       "      <td>A Ashish Reddy</td>\n",
       "      <td>196.0</td>\n",
       "      <td>23.0</td>\n",
       "      <td>280.0</td>\n",
       "      <td>16.0</td>\n",
       "      <td>15.0</td>\n",
       "      <td>12.17</td>\n",
       "      <td>142.86</td>\n",
       "      <td>270.0</td>\n",
       "      <td>18.0</td>\n",
       "      <td>45.0</td>\n",
       "      <td>396.0</td>\n",
       "      <td>8.80</td>\n",
       "      <td>9.0</td>\n",
       "      <td>0.0</td>\n",
       "      <td>7</td>\n",
       "    </tr>\n",
       "    <tr>\n",
       "      <th>A Kumble</th>\n",
       "      <td>A Kumble</td>\n",
       "      <td>49.0</td>\n",
       "      <td>15.0</td>\n",
       "      <td>35.0</td>\n",
       "      <td>3.0</td>\n",
       "      <td>0.0</td>\n",
       "      <td>2.33</td>\n",
       "      <td>71.43</td>\n",
       "      <td>983.0</td>\n",
       "      <td>45.0</td>\n",
       "      <td>163.0</td>\n",
       "      <td>1058.0</td>\n",
       "      <td>6.49</td>\n",
       "      <td>10.0</td>\n",
       "      <td>3.0</td>\n",
       "      <td>5</td>\n",
       "    </tr>\n",
       "    <tr>\n",
       "      <th>A Mishra</th>\n",
       "      <td>A Mishra</td>\n",
       "      <td>410.0</td>\n",
       "      <td>54.0</td>\n",
       "      <td>362.0</td>\n",
       "      <td>29.0</td>\n",
       "      <td>5.0</td>\n",
       "      <td>6.70</td>\n",
       "      <td>88.29</td>\n",
       "      <td>3233.0</td>\n",
       "      <td>160.0</td>\n",
       "      <td>529.0</td>\n",
       "      <td>3867.0</td>\n",
       "      <td>7.31</td>\n",
       "      <td>21.0</td>\n",
       "      <td>11.0</td>\n",
       "      <td>3</td>\n",
       "    </tr>\n",
       "    <tr>\n",
       "      <th>A Nehra</th>\n",
       "      <td>A Nehra</td>\n",
       "      <td>63.0</td>\n",
       "      <td>17.0</td>\n",
       "      <td>41.0</td>\n",
       "      <td>3.0</td>\n",
       "      <td>1.0</td>\n",
       "      <td>2.41</td>\n",
       "      <td>65.08</td>\n",
       "      <td>1974.0</td>\n",
       "      <td>106.0</td>\n",
       "      <td>320.0</td>\n",
       "      <td>2495.0</td>\n",
       "      <td>7.80</td>\n",
       "      <td>19.0</td>\n",
       "      <td>6.0</td>\n",
       "      <td>5</td>\n",
       "    </tr>\n",
       "    <tr>\n",
       "      <th>A Symonds</th>\n",
       "      <td>A Symonds</td>\n",
       "      <td>781.0</td>\n",
       "      <td>36.0</td>\n",
       "      <td>974.0</td>\n",
       "      <td>74.0</td>\n",
       "      <td>41.0</td>\n",
       "      <td>27.06</td>\n",
       "      <td>124.71</td>\n",
       "      <td>540.0</td>\n",
       "      <td>20.0</td>\n",
       "      <td>88.0</td>\n",
       "      <td>674.0</td>\n",
       "      <td>7.66</td>\n",
       "      <td>21.0</td>\n",
       "      <td>3.0</td>\n",
       "      <td>0</td>\n",
       "    </tr>\n",
       "  </tbody>\n",
       "</table>\n",
       "</div>"
      ],
      "text/plain": [
       "                          name  balls_faced  innings   runs    4s    6s  \\\n",
       "A Ashish Reddy  A Ashish Reddy        196.0     23.0  280.0  16.0  15.0   \n",
       "A Kumble              A Kumble         49.0     15.0   35.0   3.0   0.0   \n",
       "A Mishra              A Mishra        410.0     54.0  362.0  29.0   5.0   \n",
       "A Nehra                A Nehra         63.0     17.0   41.0   3.0   1.0   \n",
       "A Symonds            A Symonds        781.0     36.0  974.0  74.0  41.0   \n",
       "\n",
       "                bat_average  bat_strike  balls_bowled  wickets  overs  \\\n",
       "A Ashish Reddy        12.17      142.86         270.0     18.0   45.0   \n",
       "A Kumble               2.33       71.43         983.0     45.0  163.0   \n",
       "A Mishra               6.70       88.29        3233.0    160.0  529.0   \n",
       "A Nehra                2.41       65.08        1974.0    106.0  320.0   \n",
       "A Symonds             27.06      124.71         540.0     20.0   88.0   \n",
       "\n",
       "                runs_conceded  bowl_econ  catches  player_of_match  \\\n",
       "A Ashish Reddy          396.0       8.80      9.0              0.0   \n",
       "A Kumble               1058.0       6.49     10.0              3.0   \n",
       "A Mishra               3867.0       7.31     21.0             11.0   \n",
       "A Nehra                2495.0       7.80     19.0              6.0   \n",
       "A Symonds               674.0       7.66     21.0              3.0   \n",
       "\n",
       "                cluster_kmeans  \n",
       "A Ashish Reddy               7  \n",
       "A Kumble                     5  \n",
       "A Mishra                     3  \n",
       "A Nehra                      5  \n",
       "A Symonds                    0  "
      ]
     },
     "execution_count": 661,
     "metadata": {},
     "output_type": "execute_result"
    }
   ],
   "source": [
    "# final model with k=3\n",
    "kmeans = KMeans(n_clusters=NUM_CLUSTERS, max_iter=50)\n",
    "kmeans.fit(players_scaled)\n",
    "\n",
    "# assign the label\n",
    "players['cluster_kmeans'] = kmeans.labels_\n",
    "players.head()"
   ]
  },
  {
   "cell_type": "code",
   "execution_count": 662,
   "metadata": {
    "ExecuteTime": {
     "end_time": "2021-05-16T19:23:49.874463Z",
     "start_time": "2021-05-16T19:23:49.869423Z"
    }
   },
   "outputs": [],
   "source": [
    "def  groupby_cluster(cluster_col, head_size):\n",
    "    g = players.groupby([cluster_col]).apply(lambda x: x.sort_values([\"innings\"], ascending = False)).reset_index(drop=True)\n",
    "    # select top N rows within each cluster\n",
    "    display(g.groupby(cluster_col).head(head_size))"
   ]
  },
  {
   "cell_type": "code",
   "execution_count": 663,
   "metadata": {
    "ExecuteTime": {
     "end_time": "2021-05-16T19:23:49.938560Z",
     "start_time": "2021-05-16T19:23:49.876932Z"
    }
   },
   "outputs": [
    {
     "data": {
      "text/html": [
       "<div>\n",
       "<style scoped>\n",
       "    .dataframe tbody tr th:only-of-type {\n",
       "        vertical-align: middle;\n",
       "    }\n",
       "\n",
       "    .dataframe tbody tr th {\n",
       "        vertical-align: top;\n",
       "    }\n",
       "\n",
       "    .dataframe thead th {\n",
       "        text-align: right;\n",
       "    }\n",
       "</style>\n",
       "<table border=\"1\" class=\"dataframe\">\n",
       "  <thead>\n",
       "    <tr style=\"text-align: right;\">\n",
       "      <th></th>\n",
       "      <th>name</th>\n",
       "      <th>balls_faced</th>\n",
       "      <th>innings</th>\n",
       "      <th>runs</th>\n",
       "      <th>4s</th>\n",
       "      <th>6s</th>\n",
       "      <th>bat_average</th>\n",
       "      <th>bat_strike</th>\n",
       "      <th>balls_bowled</th>\n",
       "      <th>wickets</th>\n",
       "      <th>overs</th>\n",
       "      <th>runs_conceded</th>\n",
       "      <th>bowl_econ</th>\n",
       "      <th>catches</th>\n",
       "      <th>player_of_match</th>\n",
       "      <th>cluster_kmeans</th>\n",
       "    </tr>\n",
       "  </thead>\n",
       "  <tbody>\n",
       "    <tr>\n",
       "      <th>0</th>\n",
       "      <td>Yuvraj Singh</td>\n",
       "      <td>2205.0</td>\n",
       "      <td>126.0</td>\n",
       "      <td>2750.0</td>\n",
       "      <td>217.0</td>\n",
       "      <td>149.0</td>\n",
       "      <td>21.83</td>\n",
       "      <td>124.72</td>\n",
       "      <td>882.0</td>\n",
       "      <td>36.0</td>\n",
       "      <td>146.0</td>\n",
       "      <td>1077.0</td>\n",
       "      <td>7.38</td>\n",
       "      <td>31.0</td>\n",
       "      <td>5.0</td>\n",
       "      <td>0</td>\n",
       "    </tr>\n",
       "    <tr>\n",
       "      <th>1</th>\n",
       "      <td>V Sehwag</td>\n",
       "      <td>1833.0</td>\n",
       "      <td>104.0</td>\n",
       "      <td>2728.0</td>\n",
       "      <td>334.0</td>\n",
       "      <td>106.0</td>\n",
       "      <td>26.23</td>\n",
       "      <td>148.83</td>\n",
       "      <td>138.0</td>\n",
       "      <td>6.0</td>\n",
       "      <td>23.0</td>\n",
       "      <td>235.0</td>\n",
       "      <td>10.22</td>\n",
       "      <td>34.0</td>\n",
       "      <td>11.0</td>\n",
       "      <td>0</td>\n",
       "    </tr>\n",
       "    <tr>\n",
       "      <th>2</th>\n",
       "      <td>JH Kallis</td>\n",
       "      <td>2291.0</td>\n",
       "      <td>95.0</td>\n",
       "      <td>2427.0</td>\n",
       "      <td>255.0</td>\n",
       "      <td>44.0</td>\n",
       "      <td>25.55</td>\n",
       "      <td>105.94</td>\n",
       "      <td>1799.0</td>\n",
       "      <td>65.0</td>\n",
       "      <td>291.0</td>\n",
       "      <td>2293.0</td>\n",
       "      <td>7.88</td>\n",
       "      <td>31.0</td>\n",
       "      <td>10.0</td>\n",
       "      <td>0</td>\n",
       "    </tr>\n",
       "    <tr>\n",
       "      <th>3</th>\n",
       "      <td>Mandeep Singh</td>\n",
       "      <td>1364.0</td>\n",
       "      <td>90.0</td>\n",
       "      <td>1659.0</td>\n",
       "      <td>170.0</td>\n",
       "      <td>37.0</td>\n",
       "      <td>18.43</td>\n",
       "      <td>121.63</td>\n",
       "      <td>12.0</td>\n",
       "      <td>0.0</td>\n",
       "      <td>2.0</td>\n",
       "      <td>26.0</td>\n",
       "      <td>13.00</td>\n",
       "      <td>36.0</td>\n",
       "      <td>3.0</td>\n",
       "      <td>0</td>\n",
       "    </tr>\n",
       "    <tr>\n",
       "      <th>4</th>\n",
       "      <td>DR Smith</td>\n",
       "      <td>1803.0</td>\n",
       "      <td>88.0</td>\n",
       "      <td>2385.0</td>\n",
       "      <td>245.0</td>\n",
       "      <td>117.0</td>\n",
       "      <td>27.10</td>\n",
       "      <td>132.28</td>\n",
       "      <td>557.0</td>\n",
       "      <td>26.0</td>\n",
       "      <td>90.0</td>\n",
       "      <td>810.0</td>\n",
       "      <td>9.00</td>\n",
       "      <td>41.0</td>\n",
       "      <td>11.0</td>\n",
       "      <td>0</td>\n",
       "    </tr>\n",
       "    <tr>\n",
       "      <th>22</th>\n",
       "      <td>KH Pandya</td>\n",
       "      <td>727.0</td>\n",
       "      <td>57.0</td>\n",
       "      <td>1000.0</td>\n",
       "      <td>95.0</td>\n",
       "      <td>40.0</td>\n",
       "      <td>17.54</td>\n",
       "      <td>137.55</td>\n",
       "      <td>1283.0</td>\n",
       "      <td>46.0</td>\n",
       "      <td>210.0</td>\n",
       "      <td>1508.0</td>\n",
       "      <td>7.18</td>\n",
       "      <td>22.0</td>\n",
       "      <td>4.0</td>\n",
       "      <td>1</td>\n",
       "    </tr>\n",
       "    <tr>\n",
       "      <th>23</th>\n",
       "      <td>MC Henriques</td>\n",
       "      <td>769.0</td>\n",
       "      <td>50.0</td>\n",
       "      <td>969.0</td>\n",
       "      <td>87.0</td>\n",
       "      <td>27.0</td>\n",
       "      <td>19.38</td>\n",
       "      <td>126.01</td>\n",
       "      <td>918.0</td>\n",
       "      <td>38.0</td>\n",
       "      <td>151.0</td>\n",
       "      <td>1244.0</td>\n",
       "      <td>8.24</td>\n",
       "      <td>27.0</td>\n",
       "      <td>2.0</td>\n",
       "      <td>1</td>\n",
       "    </tr>\n",
       "    <tr>\n",
       "      <th>24</th>\n",
       "      <td>R Bhatia</td>\n",
       "      <td>290.0</td>\n",
       "      <td>47.0</td>\n",
       "      <td>342.0</td>\n",
       "      <td>24.0</td>\n",
       "      <td>13.0</td>\n",
       "      <td>7.28</td>\n",
       "      <td>117.93</td>\n",
       "      <td>1661.0</td>\n",
       "      <td>71.0</td>\n",
       "      <td>274.0</td>\n",
       "      <td>2020.0</td>\n",
       "      <td>7.37</td>\n",
       "      <td>25.0</td>\n",
       "      <td>1.0</td>\n",
       "      <td>1</td>\n",
       "    </tr>\n",
       "    <tr>\n",
       "      <th>25</th>\n",
       "      <td>Shakib Al Hasan</td>\n",
       "      <td>613.0</td>\n",
       "      <td>46.0</td>\n",
       "      <td>746.0</td>\n",
       "      <td>70.0</td>\n",
       "      <td>20.0</td>\n",
       "      <td>16.22</td>\n",
       "      <td>121.70</td>\n",
       "      <td>1358.0</td>\n",
       "      <td>59.0</td>\n",
       "      <td>224.0</td>\n",
       "      <td>1652.0</td>\n",
       "      <td>7.38</td>\n",
       "      <td>11.0</td>\n",
       "      <td>2.0</td>\n",
       "      <td>1</td>\n",
       "    </tr>\n",
       "    <tr>\n",
       "      <th>26</th>\n",
       "      <td>JP Faulkner</td>\n",
       "      <td>405.0</td>\n",
       "      <td>45.0</td>\n",
       "      <td>527.0</td>\n",
       "      <td>36.0</td>\n",
       "      <td>23.0</td>\n",
       "      <td>11.71</td>\n",
       "      <td>130.12</td>\n",
       "      <td>1276.0</td>\n",
       "      <td>59.0</td>\n",
       "      <td>207.0</td>\n",
       "      <td>1778.0</td>\n",
       "      <td>8.59</td>\n",
       "      <td>16.0</td>\n",
       "      <td>5.0</td>\n",
       "      <td>1</td>\n",
       "    </tr>\n",
       "    <tr>\n",
       "      <th>58</th>\n",
       "      <td>KD Karthik</td>\n",
       "      <td>3023.0</td>\n",
       "      <td>176.0</td>\n",
       "      <td>3823.0</td>\n",
       "      <td>377.0</td>\n",
       "      <td>105.0</td>\n",
       "      <td>21.72</td>\n",
       "      <td>126.46</td>\n",
       "      <td>0.0</td>\n",
       "      <td>0.0</td>\n",
       "      <td>0.0</td>\n",
       "      <td>0.0</td>\n",
       "      <td>0.00</td>\n",
       "      <td>118.0</td>\n",
       "      <td>5.0</td>\n",
       "      <td>2</td>\n",
       "    </tr>\n",
       "    <tr>\n",
       "      <th>59</th>\n",
       "      <td>G Gambhir</td>\n",
       "      <td>3524.0</td>\n",
       "      <td>151.0</td>\n",
       "      <td>4217.0</td>\n",
       "      <td>492.0</td>\n",
       "      <td>59.0</td>\n",
       "      <td>27.93</td>\n",
       "      <td>119.67</td>\n",
       "      <td>0.0</td>\n",
       "      <td>0.0</td>\n",
       "      <td>0.0</td>\n",
       "      <td>0.0</td>\n",
       "      <td>0.00</td>\n",
       "      <td>28.0</td>\n",
       "      <td>13.0</td>\n",
       "      <td>2</td>\n",
       "    </tr>\n",
       "    <tr>\n",
       "      <th>60</th>\n",
       "      <td>AT Rayudu</td>\n",
       "      <td>2970.0</td>\n",
       "      <td>149.0</td>\n",
       "      <td>3659.0</td>\n",
       "      <td>308.0</td>\n",
       "      <td>132.0</td>\n",
       "      <td>24.56</td>\n",
       "      <td>123.20</td>\n",
       "      <td>0.0</td>\n",
       "      <td>0.0</td>\n",
       "      <td>0.0</td>\n",
       "      <td>0.0</td>\n",
       "      <td>0.00</td>\n",
       "      <td>56.0</td>\n",
       "      <td>10.0</td>\n",
       "      <td>2</td>\n",
       "    </tr>\n",
       "    <tr>\n",
       "      <th>61</th>\n",
       "      <td>AM Rahane</td>\n",
       "      <td>3325.0</td>\n",
       "      <td>140.0</td>\n",
       "      <td>3933.0</td>\n",
       "      <td>416.0</td>\n",
       "      <td>76.0</td>\n",
       "      <td>28.09</td>\n",
       "      <td>118.29</td>\n",
       "      <td>6.0</td>\n",
       "      <td>1.0</td>\n",
       "      <td>1.0</td>\n",
       "      <td>5.0</td>\n",
       "      <td>5.00</td>\n",
       "      <td>58.0</td>\n",
       "      <td>12.0</td>\n",
       "      <td>2</td>\n",
       "    </tr>\n",
       "    <tr>\n",
       "      <th>62</th>\n",
       "      <td>PA Patel</td>\n",
       "      <td>2442.0</td>\n",
       "      <td>136.0</td>\n",
       "      <td>2848.0</td>\n",
       "      <td>365.0</td>\n",
       "      <td>49.0</td>\n",
       "      <td>20.94</td>\n",
       "      <td>116.63</td>\n",
       "      <td>0.0</td>\n",
       "      <td>0.0</td>\n",
       "      <td>0.0</td>\n",
       "      <td>0.0</td>\n",
       "      <td>0.00</td>\n",
       "      <td>69.0</td>\n",
       "      <td>5.0</td>\n",
       "      <td>2</td>\n",
       "    </tr>\n",
       "    <tr>\n",
       "      <th>83</th>\n",
       "      <td>RA Jadeja</td>\n",
       "      <td>1774.0</td>\n",
       "      <td>136.0</td>\n",
       "      <td>2159.0</td>\n",
       "      <td>157.0</td>\n",
       "      <td>76.0</td>\n",
       "      <td>15.88</td>\n",
       "      <td>121.70</td>\n",
       "      <td>2759.0</td>\n",
       "      <td>114.0</td>\n",
       "      <td>457.0</td>\n",
       "      <td>3470.0</td>\n",
       "      <td>7.59</td>\n",
       "      <td>68.0</td>\n",
       "      <td>9.0</td>\n",
       "      <td>3</td>\n",
       "    </tr>\n",
       "    <tr>\n",
       "      <th>84</th>\n",
       "      <td>DJ Bravo</td>\n",
       "      <td>1199.0</td>\n",
       "      <td>101.0</td>\n",
       "      <td>1490.0</td>\n",
       "      <td>116.0</td>\n",
       "      <td>61.0</td>\n",
       "      <td>14.75</td>\n",
       "      <td>124.27</td>\n",
       "      <td>2846.0</td>\n",
       "      <td>153.0</td>\n",
       "      <td>458.0</td>\n",
       "      <td>3798.0</td>\n",
       "      <td>8.29</td>\n",
       "      <td>75.0</td>\n",
       "      <td>3.0</td>\n",
       "      <td>3</td>\n",
       "    </tr>\n",
       "    <tr>\n",
       "      <th>85</th>\n",
       "      <td>Harbhajan Singh</td>\n",
       "      <td>632.0</td>\n",
       "      <td>86.0</td>\n",
       "      <td>829.0</td>\n",
       "      <td>79.0</td>\n",
       "      <td>42.0</td>\n",
       "      <td>9.64</td>\n",
       "      <td>131.17</td>\n",
       "      <td>3451.0</td>\n",
       "      <td>150.0</td>\n",
       "      <td>563.0</td>\n",
       "      <td>3967.0</td>\n",
       "      <td>7.05</td>\n",
       "      <td>48.0</td>\n",
       "      <td>8.0</td>\n",
       "      <td>3</td>\n",
       "    </tr>\n",
       "    <tr>\n",
       "      <th>86</th>\n",
       "      <td>IK Pathan</td>\n",
       "      <td>981.0</td>\n",
       "      <td>82.0</td>\n",
       "      <td>1139.0</td>\n",
       "      <td>87.0</td>\n",
       "      <td>37.0</td>\n",
       "      <td>13.89</td>\n",
       "      <td>116.11</td>\n",
       "      <td>2113.0</td>\n",
       "      <td>80.0</td>\n",
       "      <td>345.0</td>\n",
       "      <td>2649.0</td>\n",
       "      <td>7.68</td>\n",
       "      <td>31.0</td>\n",
       "      <td>2.0</td>\n",
       "      <td>3</td>\n",
       "    </tr>\n",
       "    <tr>\n",
       "      <th>87</th>\n",
       "      <td>PP Chawla</td>\n",
       "      <td>541.0</td>\n",
       "      <td>75.0</td>\n",
       "      <td>584.0</td>\n",
       "      <td>54.0</td>\n",
       "      <td>18.0</td>\n",
       "      <td>7.79</td>\n",
       "      <td>107.95</td>\n",
       "      <td>3285.0</td>\n",
       "      <td>156.0</td>\n",
       "      <td>546.0</td>\n",
       "      <td>4263.0</td>\n",
       "      <td>7.81</td>\n",
       "      <td>40.0</td>\n",
       "      <td>3.0</td>\n",
       "      <td>3</td>\n",
       "    </tr>\n",
       "    <tr>\n",
       "      <th>99</th>\n",
       "      <td>KM Jadhav</td>\n",
       "      <td>947.0</td>\n",
       "      <td>75.0</td>\n",
       "      <td>1141.0</td>\n",
       "      <td>99.0</td>\n",
       "      <td>38.0</td>\n",
       "      <td>15.21</td>\n",
       "      <td>120.49</td>\n",
       "      <td>0.0</td>\n",
       "      <td>0.0</td>\n",
       "      <td>0.0</td>\n",
       "      <td>0.0</td>\n",
       "      <td>0.00</td>\n",
       "      <td>28.0</td>\n",
       "      <td>2.0</td>\n",
       "      <td>4</td>\n",
       "    </tr>\n",
       "    <tr>\n",
       "      <th>100</th>\n",
       "      <td>SS Tiwary</td>\n",
       "      <td>1192.0</td>\n",
       "      <td>69.0</td>\n",
       "      <td>1379.0</td>\n",
       "      <td>101.0</td>\n",
       "      <td>48.0</td>\n",
       "      <td>19.99</td>\n",
       "      <td>115.69</td>\n",
       "      <td>0.0</td>\n",
       "      <td>0.0</td>\n",
       "      <td>0.0</td>\n",
       "      <td>0.0</td>\n",
       "      <td>0.00</td>\n",
       "      <td>24.0</td>\n",
       "      <td>0.0</td>\n",
       "      <td>4</td>\n",
       "    </tr>\n",
       "    <tr>\n",
       "      <th>101</th>\n",
       "      <td>KK Nair</td>\n",
       "      <td>1174.0</td>\n",
       "      <td>66.0</td>\n",
       "      <td>1480.0</td>\n",
       "      <td>160.0</td>\n",
       "      <td>39.0</td>\n",
       "      <td>22.42</td>\n",
       "      <td>126.06</td>\n",
       "      <td>0.0</td>\n",
       "      <td>0.0</td>\n",
       "      <td>0.0</td>\n",
       "      <td>0.0</td>\n",
       "      <td>0.00</td>\n",
       "      <td>22.0</td>\n",
       "      <td>3.0</td>\n",
       "      <td>4</td>\n",
       "    </tr>\n",
       "    <tr>\n",
       "      <th>102</th>\n",
       "      <td>S Badrinath</td>\n",
       "      <td>1245.0</td>\n",
       "      <td>65.0</td>\n",
       "      <td>1441.0</td>\n",
       "      <td>154.0</td>\n",
       "      <td>28.0</td>\n",
       "      <td>22.17</td>\n",
       "      <td>115.74</td>\n",
       "      <td>0.0</td>\n",
       "      <td>0.0</td>\n",
       "      <td>0.0</td>\n",
       "      <td>0.0</td>\n",
       "      <td>0.00</td>\n",
       "      <td>16.0</td>\n",
       "      <td>1.0</td>\n",
       "      <td>4</td>\n",
       "    </tr>\n",
       "    <tr>\n",
       "      <th>103</th>\n",
       "      <td>EJG Morgan</td>\n",
       "      <td>1037.0</td>\n",
       "      <td>59.0</td>\n",
       "      <td>1272.0</td>\n",
       "      <td>104.0</td>\n",
       "      <td>58.0</td>\n",
       "      <td>21.56</td>\n",
       "      <td>122.66</td>\n",
       "      <td>0.0</td>\n",
       "      <td>0.0</td>\n",
       "      <td>0.0</td>\n",
       "      <td>0.0</td>\n",
       "      <td>0.00</td>\n",
       "      <td>27.0</td>\n",
       "      <td>1.0</td>\n",
       "      <td>4</td>\n",
       "    </tr>\n",
       "    <tr>\n",
       "      <th>149</th>\n",
       "      <td>RP Singh</td>\n",
       "      <td>78.0</td>\n",
       "      <td>28.0</td>\n",
       "      <td>52.0</td>\n",
       "      <td>2.0</td>\n",
       "      <td>1.0</td>\n",
       "      <td>1.86</td>\n",
       "      <td>66.67</td>\n",
       "      <td>1874.0</td>\n",
       "      <td>90.0</td>\n",
       "      <td>299.0</td>\n",
       "      <td>2338.0</td>\n",
       "      <td>7.82</td>\n",
       "      <td>29.0</td>\n",
       "      <td>1.0</td>\n",
       "      <td>5</td>\n",
       "    </tr>\n",
       "    <tr>\n",
       "      <th>150</th>\n",
       "      <td>MG Johnson</td>\n",
       "      <td>168.0</td>\n",
       "      <td>28.0</td>\n",
       "      <td>167.0</td>\n",
       "      <td>10.0</td>\n",
       "      <td>7.0</td>\n",
       "      <td>5.96</td>\n",
       "      <td>99.40</td>\n",
       "      <td>1297.0</td>\n",
       "      <td>61.0</td>\n",
       "      <td>207.0</td>\n",
       "      <td>1702.0</td>\n",
       "      <td>8.22</td>\n",
       "      <td>15.0</td>\n",
       "      <td>2.0</td>\n",
       "      <td>5</td>\n",
       "    </tr>\n",
       "    <tr>\n",
       "      <th>151</th>\n",
       "      <td>Z Khan</td>\n",
       "      <td>141.0</td>\n",
       "      <td>27.0</td>\n",
       "      <td>117.0</td>\n",
       "      <td>11.0</td>\n",
       "      <td>2.0</td>\n",
       "      <td>4.33</td>\n",
       "      <td>82.98</td>\n",
       "      <td>2276.0</td>\n",
       "      <td>102.0</td>\n",
       "      <td>371.0</td>\n",
       "      <td>2782.0</td>\n",
       "      <td>7.50</td>\n",
       "      <td>21.0</td>\n",
       "      <td>1.0</td>\n",
       "      <td>5</td>\n",
       "    </tr>\n",
       "    <tr>\n",
       "      <th>152</th>\n",
       "      <td>SK Warne</td>\n",
       "      <td>219.0</td>\n",
       "      <td>27.0</td>\n",
       "      <td>198.0</td>\n",
       "      <td>14.0</td>\n",
       "      <td>6.0</td>\n",
       "      <td>7.33</td>\n",
       "      <td>90.41</td>\n",
       "      <td>1223.0</td>\n",
       "      <td>57.0</td>\n",
       "      <td>199.0</td>\n",
       "      <td>1447.0</td>\n",
       "      <td>7.27</td>\n",
       "      <td>16.0</td>\n",
       "      <td>4.0</td>\n",
       "      <td>5</td>\n",
       "    </tr>\n",
       "    <tr>\n",
       "      <th>153</th>\n",
       "      <td>MM Sharma</td>\n",
       "      <td>120.0</td>\n",
       "      <td>25.0</td>\n",
       "      <td>122.0</td>\n",
       "      <td>9.0</td>\n",
       "      <td>4.0</td>\n",
       "      <td>4.88</td>\n",
       "      <td>101.67</td>\n",
       "      <td>1795.0</td>\n",
       "      <td>92.0</td>\n",
       "      <td>297.0</td>\n",
       "      <td>2470.0</td>\n",
       "      <td>8.32</td>\n",
       "      <td>18.0</td>\n",
       "      <td>2.0</td>\n",
       "      <td>5</td>\n",
       "    </tr>\n",
       "    <tr>\n",
       "      <th>174</th>\n",
       "      <td>RG Sharma</td>\n",
       "      <td>4088.0</td>\n",
       "      <td>194.0</td>\n",
       "      <td>5230.0</td>\n",
       "      <td>458.0</td>\n",
       "      <td>214.0</td>\n",
       "      <td>26.96</td>\n",
       "      <td>127.94</td>\n",
       "      <td>342.0</td>\n",
       "      <td>15.0</td>\n",
       "      <td>56.0</td>\n",
       "      <td>440.0</td>\n",
       "      <td>7.86</td>\n",
       "      <td>89.0</td>\n",
       "      <td>18.0</td>\n",
       "      <td>6</td>\n",
       "    </tr>\n",
       "    <tr>\n",
       "      <th>175</th>\n",
       "      <td>SK Raina</td>\n",
       "      <td>4041.0</td>\n",
       "      <td>189.0</td>\n",
       "      <td>5368.0</td>\n",
       "      <td>493.0</td>\n",
       "      <td>194.0</td>\n",
       "      <td>28.40</td>\n",
       "      <td>132.84</td>\n",
       "      <td>930.0</td>\n",
       "      <td>25.0</td>\n",
       "      <td>155.0</td>\n",
       "      <td>1118.0</td>\n",
       "      <td>7.21</td>\n",
       "      <td>102.0</td>\n",
       "      <td>14.0</td>\n",
       "      <td>6</td>\n",
       "    </tr>\n",
       "    <tr>\n",
       "      <th>176</th>\n",
       "      <td>V Kohli</td>\n",
       "      <td>4609.0</td>\n",
       "      <td>184.0</td>\n",
       "      <td>5878.0</td>\n",
       "      <td>504.0</td>\n",
       "      <td>202.0</td>\n",
       "      <td>31.95</td>\n",
       "      <td>127.53</td>\n",
       "      <td>264.0</td>\n",
       "      <td>4.0</td>\n",
       "      <td>43.0</td>\n",
       "      <td>368.0</td>\n",
       "      <td>8.56</td>\n",
       "      <td>76.0</td>\n",
       "      <td>13.0</td>\n",
       "      <td>6</td>\n",
       "    </tr>\n",
       "    <tr>\n",
       "      <th>177</th>\n",
       "      <td>MS Dhoni</td>\n",
       "      <td>3493.0</td>\n",
       "      <td>182.0</td>\n",
       "      <td>4632.0</td>\n",
       "      <td>313.0</td>\n",
       "      <td>216.0</td>\n",
       "      <td>25.45</td>\n",
       "      <td>132.61</td>\n",
       "      <td>0.0</td>\n",
       "      <td>0.0</td>\n",
       "      <td>0.0</td>\n",
       "      <td>0.0</td>\n",
       "      <td>0.00</td>\n",
       "      <td>113.0</td>\n",
       "      <td>17.0</td>\n",
       "      <td>6</td>\n",
       "    </tr>\n",
       "    <tr>\n",
       "      <th>178</th>\n",
       "      <td>RV Uthappa</td>\n",
       "      <td>3658.0</td>\n",
       "      <td>182.0</td>\n",
       "      <td>4607.0</td>\n",
       "      <td>454.0</td>\n",
       "      <td>163.0</td>\n",
       "      <td>25.31</td>\n",
       "      <td>125.94</td>\n",
       "      <td>0.0</td>\n",
       "      <td>0.0</td>\n",
       "      <td>0.0</td>\n",
       "      <td>0.0</td>\n",
       "      <td>0.00</td>\n",
       "      <td>87.0</td>\n",
       "      <td>7.0</td>\n",
       "      <td>6</td>\n",
       "    </tr>\n",
       "    <tr>\n",
       "      <th>186</th>\n",
       "      <td>STR Binny</td>\n",
       "      <td>700.0</td>\n",
       "      <td>66.0</td>\n",
       "      <td>880.0</td>\n",
       "      <td>66.0</td>\n",
       "      <td>35.0</td>\n",
       "      <td>13.33</td>\n",
       "      <td>125.71</td>\n",
       "      <td>611.0</td>\n",
       "      <td>22.0</td>\n",
       "      <td>99.0</td>\n",
       "      <td>758.0</td>\n",
       "      <td>7.66</td>\n",
       "      <td>19.0</td>\n",
       "      <td>0.0</td>\n",
       "      <td>7</td>\n",
       "    </tr>\n",
       "    <tr>\n",
       "      <th>187</th>\n",
       "      <td>LRPL Taylor</td>\n",
       "      <td>847.0</td>\n",
       "      <td>54.0</td>\n",
       "      <td>1017.0</td>\n",
       "      <td>66.0</td>\n",
       "      <td>46.0</td>\n",
       "      <td>18.83</td>\n",
       "      <td>120.07</td>\n",
       "      <td>13.0</td>\n",
       "      <td>0.0</td>\n",
       "      <td>2.0</td>\n",
       "      <td>24.0</td>\n",
       "      <td>12.00</td>\n",
       "      <td>18.0</td>\n",
       "      <td>3.0</td>\n",
       "      <td>7</td>\n",
       "    </tr>\n",
       "    <tr>\n",
       "      <th>188</th>\n",
       "      <td>Y Venugopal Rao</td>\n",
       "      <td>865.0</td>\n",
       "      <td>52.0</td>\n",
       "      <td>985.0</td>\n",
       "      <td>77.0</td>\n",
       "      <td>37.0</td>\n",
       "      <td>18.94</td>\n",
       "      <td>113.87</td>\n",
       "      <td>222.0</td>\n",
       "      <td>6.0</td>\n",
       "      <td>36.0</td>\n",
       "      <td>337.0</td>\n",
       "      <td>9.36</td>\n",
       "      <td>13.0</td>\n",
       "      <td>0.0</td>\n",
       "      <td>7</td>\n",
       "    </tr>\n",
       "    <tr>\n",
       "      <th>189</th>\n",
       "      <td>TM Dilshan</td>\n",
       "      <td>1047.0</td>\n",
       "      <td>50.0</td>\n",
       "      <td>1153.0</td>\n",
       "      <td>140.0</td>\n",
       "      <td>24.0</td>\n",
       "      <td>23.06</td>\n",
       "      <td>110.12</td>\n",
       "      <td>275.0</td>\n",
       "      <td>5.0</td>\n",
       "      <td>46.0</td>\n",
       "      <td>366.0</td>\n",
       "      <td>7.96</td>\n",
       "      <td>20.0</td>\n",
       "      <td>1.0</td>\n",
       "      <td>7</td>\n",
       "    </tr>\n",
       "    <tr>\n",
       "      <th>190</th>\n",
       "      <td>AM Nayar</td>\n",
       "      <td>588.0</td>\n",
       "      <td>50.0</td>\n",
       "      <td>672.0</td>\n",
       "      <td>55.0</td>\n",
       "      <td>20.0</td>\n",
       "      <td>13.44</td>\n",
       "      <td>114.29</td>\n",
       "      <td>239.0</td>\n",
       "      <td>9.0</td>\n",
       "      <td>39.0</td>\n",
       "      <td>322.0</td>\n",
       "      <td>8.26</td>\n",
       "      <td>13.0</td>\n",
       "      <td>0.0</td>\n",
       "      <td>7</td>\n",
       "    </tr>\n",
       "  </tbody>\n",
       "</table>\n",
       "</div>"
      ],
      "text/plain": [
       "                name  balls_faced  innings    runs     4s     6s  bat_average  \\\n",
       "0       Yuvraj Singh       2205.0    126.0  2750.0  217.0  149.0        21.83   \n",
       "1           V Sehwag       1833.0    104.0  2728.0  334.0  106.0        26.23   \n",
       "2          JH Kallis       2291.0     95.0  2427.0  255.0   44.0        25.55   \n",
       "3      Mandeep Singh       1364.0     90.0  1659.0  170.0   37.0        18.43   \n",
       "4           DR Smith       1803.0     88.0  2385.0  245.0  117.0        27.10   \n",
       "22         KH Pandya        727.0     57.0  1000.0   95.0   40.0        17.54   \n",
       "23      MC Henriques        769.0     50.0   969.0   87.0   27.0        19.38   \n",
       "24          R Bhatia        290.0     47.0   342.0   24.0   13.0         7.28   \n",
       "25   Shakib Al Hasan        613.0     46.0   746.0   70.0   20.0        16.22   \n",
       "26       JP Faulkner        405.0     45.0   527.0   36.0   23.0        11.71   \n",
       "58        KD Karthik       3023.0    176.0  3823.0  377.0  105.0        21.72   \n",
       "59         G Gambhir       3524.0    151.0  4217.0  492.0   59.0        27.93   \n",
       "60         AT Rayudu       2970.0    149.0  3659.0  308.0  132.0        24.56   \n",
       "61         AM Rahane       3325.0    140.0  3933.0  416.0   76.0        28.09   \n",
       "62          PA Patel       2442.0    136.0  2848.0  365.0   49.0        20.94   \n",
       "83         RA Jadeja       1774.0    136.0  2159.0  157.0   76.0        15.88   \n",
       "84          DJ Bravo       1199.0    101.0  1490.0  116.0   61.0        14.75   \n",
       "85   Harbhajan Singh        632.0     86.0   829.0   79.0   42.0         9.64   \n",
       "86         IK Pathan        981.0     82.0  1139.0   87.0   37.0        13.89   \n",
       "87         PP Chawla        541.0     75.0   584.0   54.0   18.0         7.79   \n",
       "99         KM Jadhav        947.0     75.0  1141.0   99.0   38.0        15.21   \n",
       "100        SS Tiwary       1192.0     69.0  1379.0  101.0   48.0        19.99   \n",
       "101          KK Nair       1174.0     66.0  1480.0  160.0   39.0        22.42   \n",
       "102      S Badrinath       1245.0     65.0  1441.0  154.0   28.0        22.17   \n",
       "103       EJG Morgan       1037.0     59.0  1272.0  104.0   58.0        21.56   \n",
       "149         RP Singh         78.0     28.0    52.0    2.0    1.0         1.86   \n",
       "150       MG Johnson        168.0     28.0   167.0   10.0    7.0         5.96   \n",
       "151           Z Khan        141.0     27.0   117.0   11.0    2.0         4.33   \n",
       "152         SK Warne        219.0     27.0   198.0   14.0    6.0         7.33   \n",
       "153        MM Sharma        120.0     25.0   122.0    9.0    4.0         4.88   \n",
       "174        RG Sharma       4088.0    194.0  5230.0  458.0  214.0        26.96   \n",
       "175         SK Raina       4041.0    189.0  5368.0  493.0  194.0        28.40   \n",
       "176          V Kohli       4609.0    184.0  5878.0  504.0  202.0        31.95   \n",
       "177         MS Dhoni       3493.0    182.0  4632.0  313.0  216.0        25.45   \n",
       "178       RV Uthappa       3658.0    182.0  4607.0  454.0  163.0        25.31   \n",
       "186        STR Binny        700.0     66.0   880.0   66.0   35.0        13.33   \n",
       "187      LRPL Taylor        847.0     54.0  1017.0   66.0   46.0        18.83   \n",
       "188  Y Venugopal Rao        865.0     52.0   985.0   77.0   37.0        18.94   \n",
       "189       TM Dilshan       1047.0     50.0  1153.0  140.0   24.0        23.06   \n",
       "190         AM Nayar        588.0     50.0   672.0   55.0   20.0        13.44   \n",
       "\n",
       "     bat_strike  balls_bowled  wickets  overs  runs_conceded  bowl_econ  \\\n",
       "0        124.72         882.0     36.0  146.0         1077.0       7.38   \n",
       "1        148.83         138.0      6.0   23.0          235.0      10.22   \n",
       "2        105.94        1799.0     65.0  291.0         2293.0       7.88   \n",
       "3        121.63          12.0      0.0    2.0           26.0      13.00   \n",
       "4        132.28         557.0     26.0   90.0          810.0       9.00   \n",
       "22       137.55        1283.0     46.0  210.0         1508.0       7.18   \n",
       "23       126.01         918.0     38.0  151.0         1244.0       8.24   \n",
       "24       117.93        1661.0     71.0  274.0         2020.0       7.37   \n",
       "25       121.70        1358.0     59.0  224.0         1652.0       7.38   \n",
       "26       130.12        1276.0     59.0  207.0         1778.0       8.59   \n",
       "58       126.46           0.0      0.0    0.0            0.0       0.00   \n",
       "59       119.67           0.0      0.0    0.0            0.0       0.00   \n",
       "60       123.20           0.0      0.0    0.0            0.0       0.00   \n",
       "61       118.29           6.0      1.0    1.0            5.0       5.00   \n",
       "62       116.63           0.0      0.0    0.0            0.0       0.00   \n",
       "83       121.70        2759.0    114.0  457.0         3470.0       7.59   \n",
       "84       124.27        2846.0    153.0  458.0         3798.0       8.29   \n",
       "85       131.17        3451.0    150.0  563.0         3967.0       7.05   \n",
       "86       116.11        2113.0     80.0  345.0         2649.0       7.68   \n",
       "87       107.95        3285.0    156.0  546.0         4263.0       7.81   \n",
       "99       120.49           0.0      0.0    0.0            0.0       0.00   \n",
       "100      115.69           0.0      0.0    0.0            0.0       0.00   \n",
       "101      126.06           0.0      0.0    0.0            0.0       0.00   \n",
       "102      115.74           0.0      0.0    0.0            0.0       0.00   \n",
       "103      122.66           0.0      0.0    0.0            0.0       0.00   \n",
       "149       66.67        1874.0     90.0  299.0         2338.0       7.82   \n",
       "150       99.40        1297.0     61.0  207.0         1702.0       8.22   \n",
       "151       82.98        2276.0    102.0  371.0         2782.0       7.50   \n",
       "152       90.41        1223.0     57.0  199.0         1447.0       7.27   \n",
       "153      101.67        1795.0     92.0  297.0         2470.0       8.32   \n",
       "174      127.94         342.0     15.0   56.0          440.0       7.86   \n",
       "175      132.84         930.0     25.0  155.0         1118.0       7.21   \n",
       "176      127.53         264.0      4.0   43.0          368.0       8.56   \n",
       "177      132.61           0.0      0.0    0.0            0.0       0.00   \n",
       "178      125.94           0.0      0.0    0.0            0.0       0.00   \n",
       "186      125.71         611.0     22.0   99.0          758.0       7.66   \n",
       "187      120.07          13.0      0.0    2.0           24.0      12.00   \n",
       "188      113.87         222.0      6.0   36.0          337.0       9.36   \n",
       "189      110.12         275.0      5.0   46.0          366.0       7.96   \n",
       "190      114.29         239.0      9.0   39.0          322.0       8.26   \n",
       "\n",
       "     catches  player_of_match  cluster_kmeans  \n",
       "0       31.0              5.0               0  \n",
       "1       34.0             11.0               0  \n",
       "2       31.0             10.0               0  \n",
       "3       36.0              3.0               0  \n",
       "4       41.0             11.0               0  \n",
       "22      22.0              4.0               1  \n",
       "23      27.0              2.0               1  \n",
       "24      25.0              1.0               1  \n",
       "25      11.0              2.0               1  \n",
       "26      16.0              5.0               1  \n",
       "58     118.0              5.0               2  \n",
       "59      28.0             13.0               2  \n",
       "60      56.0             10.0               2  \n",
       "61      58.0             12.0               2  \n",
       "62      69.0              5.0               2  \n",
       "83      68.0              9.0               3  \n",
       "84      75.0              3.0               3  \n",
       "85      48.0              8.0               3  \n",
       "86      31.0              2.0               3  \n",
       "87      40.0              3.0               3  \n",
       "99      28.0              2.0               4  \n",
       "100     24.0              0.0               4  \n",
       "101     22.0              3.0               4  \n",
       "102     16.0              1.0               4  \n",
       "103     27.0              1.0               4  \n",
       "149     29.0              1.0               5  \n",
       "150     15.0              2.0               5  \n",
       "151     21.0              1.0               5  \n",
       "152     16.0              4.0               5  \n",
       "153     18.0              2.0               5  \n",
       "174     89.0             18.0               6  \n",
       "175    102.0             14.0               6  \n",
       "176     76.0             13.0               6  \n",
       "177    113.0             17.0               6  \n",
       "178     87.0              7.0               6  \n",
       "186     19.0              0.0               7  \n",
       "187     18.0              3.0               7  \n",
       "188     13.0              0.0               7  \n",
       "189     20.0              1.0               7  \n",
       "190     13.0              0.0               7  "
      ]
     },
     "metadata": {},
     "output_type": "display_data"
    }
   ],
   "source": [
    "groupby_cluster(\"cluster_kmeans\",5)"
   ]
  },
  {
   "cell_type": "markdown",
   "metadata": {},
   "source": [
    "# Hierarchical Clustering"
   ]
  },
  {
   "cell_type": "markdown",
   "metadata": {},
   "source": [
    "## Dendogram"
   ]
  },
  {
   "cell_type": "code",
   "execution_count": 664,
   "metadata": {
    "ExecuteTime": {
     "end_time": "2021-05-16T19:23:54.850653Z",
     "start_time": "2021-05-16T19:23:49.940628Z"
    }
   },
   "outputs": [
    {
     "data": {
      "image/png": "[encoded data removed]",
      "text/plain": [
       "<Figure size 432x288 with 1 Axes>"
      ]
     },
     "metadata": {
      "needs_background": "light"
     },
     "output_type": "display_data"
    }
   ],
   "source": [
    "# single linkage\n",
    "mergings = linkage(players_scaled, method=\"single\", metric='euclidean')\n",
    "dendrogram(mergings)\n",
    "plt.show()"
   ]
  },
  {
   "cell_type": "code",
   "execution_count": 665,
   "metadata": {
    "ExecuteTime": {
     "end_time": "2021-05-16T19:23:59.693011Z",
     "start_time": "2021-05-16T19:23:54.852709Z"
    }
   },
   "outputs": [
    {
     "data": {
      "image/png": "[encoded data removed]",
      "text/plain": [
       "<Figure size 432x288 with 1 Axes>"
      ]
     },
     "metadata": {
      "needs_background": "light"
     },
     "output_type": "display_data"
    }
   ],
   "source": [
    "# complete linkage\n",
    "mergings = linkage(players_scaled, method=\"complete\", metric='euclidean')\n",
    "dendrogram(mergings)\n",
    "plt.show()"
   ]
  },
  {
   "cell_type": "code",
   "execution_count": 666,
   "metadata": {
    "ExecuteTime": {
     "end_time": "2021-05-16T19:23:59.714401Z",
     "start_time": "2021-05-16T19:23:59.694832Z"
    }
   },
   "outputs": [],
   "source": [
    "# Create the cluster labels\n",
    "cluster_labels = cut_tree(mergings, n_clusters=NUM_CLUSTERS).reshape(-1, )# assign cluster labels\n",
    "players['cluster_hier'] = cluster_labels"
   ]
  },
  {
   "cell_type": "code",
   "execution_count": 667,
   "metadata": {
    "ExecuteTime": {
     "end_time": "2021-05-16T19:23:59.775337Z",
     "start_time": "2021-05-16T19:23:59.716218Z"
    }
   },
   "outputs": [
    {
     "data": {
      "text/html": [
       "<div>\n",
       "<style scoped>\n",
       "    .dataframe tbody tr th:only-of-type {\n",
       "        vertical-align: middle;\n",
       "    }\n",
       "\n",
       "    .dataframe tbody tr th {\n",
       "        vertical-align: top;\n",
       "    }\n",
       "\n",
       "    .dataframe thead th {\n",
       "        text-align: right;\n",
       "    }\n",
       "</style>\n",
       "<table border=\"1\" class=\"dataframe\">\n",
       "  <thead>\n",
       "    <tr style=\"text-align: right;\">\n",
       "      <th></th>\n",
       "      <th>name</th>\n",
       "      <th>balls_faced</th>\n",
       "      <th>innings</th>\n",
       "      <th>runs</th>\n",
       "      <th>4s</th>\n",
       "      <th>6s</th>\n",
       "      <th>bat_average</th>\n",
       "      <th>bat_strike</th>\n",
       "      <th>balls_bowled</th>\n",
       "      <th>wickets</th>\n",
       "      <th>overs</th>\n",
       "      <th>runs_conceded</th>\n",
       "      <th>bowl_econ</th>\n",
       "      <th>catches</th>\n",
       "      <th>player_of_match</th>\n",
       "      <th>cluster_kmeans</th>\n",
       "      <th>cluster_hier</th>\n",
       "    </tr>\n",
       "  </thead>\n",
       "  <tbody>\n",
       "    <tr>\n",
       "      <th>0</th>\n",
       "      <td>STR Binny</td>\n",
       "      <td>700.0</td>\n",
       "      <td>66.0</td>\n",
       "      <td>880.0</td>\n",
       "      <td>66.0</td>\n",
       "      <td>35.0</td>\n",
       "      <td>13.33</td>\n",
       "      <td>125.71</td>\n",
       "      <td>611.0</td>\n",
       "      <td>22.0</td>\n",
       "      <td>99.0</td>\n",
       "      <td>758.0</td>\n",
       "      <td>7.66</td>\n",
       "      <td>19.0</td>\n",
       "      <td>0.0</td>\n",
       "      <td>7</td>\n",
       "      <td>0</td>\n",
       "    </tr>\n",
       "    <tr>\n",
       "      <th>1</th>\n",
       "      <td>Y Venugopal Rao</td>\n",
       "      <td>865.0</td>\n",
       "      <td>52.0</td>\n",
       "      <td>985.0</td>\n",
       "      <td>77.0</td>\n",
       "      <td>37.0</td>\n",
       "      <td>18.94</td>\n",
       "      <td>113.87</td>\n",
       "      <td>222.0</td>\n",
       "      <td>6.0</td>\n",
       "      <td>36.0</td>\n",
       "      <td>337.0</td>\n",
       "      <td>9.36</td>\n",
       "      <td>13.0</td>\n",
       "      <td>0.0</td>\n",
       "      <td>7</td>\n",
       "      <td>0</td>\n",
       "    </tr>\n",
       "    <tr>\n",
       "      <th>2</th>\n",
       "      <td>AM Nayar</td>\n",
       "      <td>588.0</td>\n",
       "      <td>50.0</td>\n",
       "      <td>672.0</td>\n",
       "      <td>55.0</td>\n",
       "      <td>20.0</td>\n",
       "      <td>13.44</td>\n",
       "      <td>114.29</td>\n",
       "      <td>239.0</td>\n",
       "      <td>9.0</td>\n",
       "      <td>39.0</td>\n",
       "      <td>322.0</td>\n",
       "      <td>8.26</td>\n",
       "      <td>13.0</td>\n",
       "      <td>0.0</td>\n",
       "      <td>7</td>\n",
       "      <td>0</td>\n",
       "    </tr>\n",
       "    <tr>\n",
       "      <th>3</th>\n",
       "      <td>DJ Hooda</td>\n",
       "      <td>504.0</td>\n",
       "      <td>50.0</td>\n",
       "      <td>625.0</td>\n",
       "      <td>32.0</td>\n",
       "      <td>29.0</td>\n",
       "      <td>12.50</td>\n",
       "      <td>124.01</td>\n",
       "      <td>239.0</td>\n",
       "      <td>7.0</td>\n",
       "      <td>39.0</td>\n",
       "      <td>322.0</td>\n",
       "      <td>8.26</td>\n",
       "      <td>25.0</td>\n",
       "      <td>1.0</td>\n",
       "      <td>7</td>\n",
       "      <td>0</td>\n",
       "    </tr>\n",
       "    <tr>\n",
       "      <th>4</th>\n",
       "      <td>MC Henriques</td>\n",
       "      <td>769.0</td>\n",
       "      <td>50.0</td>\n",
       "      <td>969.0</td>\n",
       "      <td>87.0</td>\n",
       "      <td>27.0</td>\n",
       "      <td>19.38</td>\n",
       "      <td>126.01</td>\n",
       "      <td>918.0</td>\n",
       "      <td>38.0</td>\n",
       "      <td>151.0</td>\n",
       "      <td>1244.0</td>\n",
       "      <td>8.24</td>\n",
       "      <td>27.0</td>\n",
       "      <td>2.0</td>\n",
       "      <td>1</td>\n",
       "      <td>0</td>\n",
       "    </tr>\n",
       "    <tr>\n",
       "      <th>118</th>\n",
       "      <td>RA Jadeja</td>\n",
       "      <td>1774.0</td>\n",
       "      <td>136.0</td>\n",
       "      <td>2159.0</td>\n",
       "      <td>157.0</td>\n",
       "      <td>76.0</td>\n",
       "      <td>15.88</td>\n",
       "      <td>121.70</td>\n",
       "      <td>2759.0</td>\n",
       "      <td>114.0</td>\n",
       "      <td>457.0</td>\n",
       "      <td>3470.0</td>\n",
       "      <td>7.59</td>\n",
       "      <td>68.0</td>\n",
       "      <td>9.0</td>\n",
       "      <td>3</td>\n",
       "      <td>1</td>\n",
       "    </tr>\n",
       "    <tr>\n",
       "      <th>119</th>\n",
       "      <td>DJ Bravo</td>\n",
       "      <td>1199.0</td>\n",
       "      <td>101.0</td>\n",
       "      <td>1490.0</td>\n",
       "      <td>116.0</td>\n",
       "      <td>61.0</td>\n",
       "      <td>14.75</td>\n",
       "      <td>124.27</td>\n",
       "      <td>2846.0</td>\n",
       "      <td>153.0</td>\n",
       "      <td>458.0</td>\n",
       "      <td>3798.0</td>\n",
       "      <td>8.29</td>\n",
       "      <td>75.0</td>\n",
       "      <td>3.0</td>\n",
       "      <td>3</td>\n",
       "      <td>1</td>\n",
       "    </tr>\n",
       "    <tr>\n",
       "      <th>120</th>\n",
       "      <td>Harbhajan Singh</td>\n",
       "      <td>632.0</td>\n",
       "      <td>86.0</td>\n",
       "      <td>829.0</td>\n",
       "      <td>79.0</td>\n",
       "      <td>42.0</td>\n",
       "      <td>9.64</td>\n",
       "      <td>131.17</td>\n",
       "      <td>3451.0</td>\n",
       "      <td>150.0</td>\n",
       "      <td>563.0</td>\n",
       "      <td>3967.0</td>\n",
       "      <td>7.05</td>\n",
       "      <td>48.0</td>\n",
       "      <td>8.0</td>\n",
       "      <td>3</td>\n",
       "      <td>1</td>\n",
       "    </tr>\n",
       "    <tr>\n",
       "      <th>121</th>\n",
       "      <td>IK Pathan</td>\n",
       "      <td>981.0</td>\n",
       "      <td>82.0</td>\n",
       "      <td>1139.0</td>\n",
       "      <td>87.0</td>\n",
       "      <td>37.0</td>\n",
       "      <td>13.89</td>\n",
       "      <td>116.11</td>\n",
       "      <td>2113.0</td>\n",
       "      <td>80.0</td>\n",
       "      <td>345.0</td>\n",
       "      <td>2649.0</td>\n",
       "      <td>7.68</td>\n",
       "      <td>31.0</td>\n",
       "      <td>2.0</td>\n",
       "      <td>3</td>\n",
       "      <td>1</td>\n",
       "    </tr>\n",
       "    <tr>\n",
       "      <th>122</th>\n",
       "      <td>PP Chawla</td>\n",
       "      <td>541.0</td>\n",
       "      <td>75.0</td>\n",
       "      <td>584.0</td>\n",
       "      <td>54.0</td>\n",
       "      <td>18.0</td>\n",
       "      <td>7.79</td>\n",
       "      <td>107.95</td>\n",
       "      <td>3285.0</td>\n",
       "      <td>156.0</td>\n",
       "      <td>546.0</td>\n",
       "      <td>4263.0</td>\n",
       "      <td>7.81</td>\n",
       "      <td>40.0</td>\n",
       "      <td>3.0</td>\n",
       "      <td>3</td>\n",
       "      <td>1</td>\n",
       "    </tr>\n",
       "    <tr>\n",
       "      <th>138</th>\n",
       "      <td>P Kumar</td>\n",
       "      <td>323.0</td>\n",
       "      <td>57.0</td>\n",
       "      <td>340.0</td>\n",
       "      <td>22.0</td>\n",
       "      <td>17.0</td>\n",
       "      <td>5.96</td>\n",
       "      <td>105.26</td>\n",
       "      <td>2637.0</td>\n",
       "      <td>90.0</td>\n",
       "      <td>424.0</td>\n",
       "      <td>3251.0</td>\n",
       "      <td>7.67</td>\n",
       "      <td>14.0</td>\n",
       "      <td>2.0</td>\n",
       "      <td>3</td>\n",
       "      <td>2</td>\n",
       "    </tr>\n",
       "    <tr>\n",
       "      <th>139</th>\n",
       "      <td>R Vinay Kumar</td>\n",
       "      <td>289.0</td>\n",
       "      <td>42.0</td>\n",
       "      <td>310.0</td>\n",
       "      <td>21.0</td>\n",
       "      <td>9.0</td>\n",
       "      <td>7.38</td>\n",
       "      <td>107.27</td>\n",
       "      <td>2179.0</td>\n",
       "      <td>105.0</td>\n",
       "      <td>357.0</td>\n",
       "      <td>2966.0</td>\n",
       "      <td>8.31</td>\n",
       "      <td>35.0</td>\n",
       "      <td>3.0</td>\n",
       "      <td>3</td>\n",
       "      <td>2</td>\n",
       "    </tr>\n",
       "    <tr>\n",
       "      <th>140</th>\n",
       "      <td>DW Steyn</td>\n",
       "      <td>163.0</td>\n",
       "      <td>33.0</td>\n",
       "      <td>167.0</td>\n",
       "      <td>14.0</td>\n",
       "      <td>3.0</td>\n",
       "      <td>5.06</td>\n",
       "      <td>102.45</td>\n",
       "      <td>2276.0</td>\n",
       "      <td>97.0</td>\n",
       "      <td>364.0</td>\n",
       "      <td>2508.0</td>\n",
       "      <td>6.89</td>\n",
       "      <td>24.0</td>\n",
       "      <td>5.0</td>\n",
       "      <td>3</td>\n",
       "      <td>2</td>\n",
       "    </tr>\n",
       "    <tr>\n",
       "      <th>141</th>\n",
       "      <td>RP Singh</td>\n",
       "      <td>78.0</td>\n",
       "      <td>28.0</td>\n",
       "      <td>52.0</td>\n",
       "      <td>2.0</td>\n",
       "      <td>1.0</td>\n",
       "      <td>1.86</td>\n",
       "      <td>66.67</td>\n",
       "      <td>1874.0</td>\n",
       "      <td>90.0</td>\n",
       "      <td>299.0</td>\n",
       "      <td>2338.0</td>\n",
       "      <td>7.82</td>\n",
       "      <td>29.0</td>\n",
       "      <td>1.0</td>\n",
       "      <td>5</td>\n",
       "      <td>2</td>\n",
       "    </tr>\n",
       "    <tr>\n",
       "      <th>142</th>\n",
       "      <td>Z Khan</td>\n",
       "      <td>141.0</td>\n",
       "      <td>27.0</td>\n",
       "      <td>117.0</td>\n",
       "      <td>11.0</td>\n",
       "      <td>2.0</td>\n",
       "      <td>4.33</td>\n",
       "      <td>82.98</td>\n",
       "      <td>2276.0</td>\n",
       "      <td>102.0</td>\n",
       "      <td>371.0</td>\n",
       "      <td>2782.0</td>\n",
       "      <td>7.50</td>\n",
       "      <td>21.0</td>\n",
       "      <td>1.0</td>\n",
       "      <td>5</td>\n",
       "      <td>2</td>\n",
       "    </tr>\n",
       "    <tr>\n",
       "      <th>156</th>\n",
       "      <td>JP Duminy</td>\n",
       "      <td>1680.0</td>\n",
       "      <td>75.0</td>\n",
       "      <td>2029.0</td>\n",
       "      <td>126.0</td>\n",
       "      <td>79.0</td>\n",
       "      <td>27.05</td>\n",
       "      <td>120.77</td>\n",
       "      <td>701.0</td>\n",
       "      <td>23.0</td>\n",
       "      <td>115.0</td>\n",
       "      <td>834.0</td>\n",
       "      <td>7.25</td>\n",
       "      <td>30.0</td>\n",
       "      <td>4.0</td>\n",
       "      <td>0</td>\n",
       "      <td>3</td>\n",
       "    </tr>\n",
       "    <tr>\n",
       "      <th>157</th>\n",
       "      <td>BJ Hodge</td>\n",
       "      <td>1153.0</td>\n",
       "      <td>63.0</td>\n",
       "      <td>1400.0</td>\n",
       "      <td>122.0</td>\n",
       "      <td>43.0</td>\n",
       "      <td>22.22</td>\n",
       "      <td>121.42</td>\n",
       "      <td>238.0</td>\n",
       "      <td>17.0</td>\n",
       "      <td>39.0</td>\n",
       "      <td>303.0</td>\n",
       "      <td>7.77</td>\n",
       "      <td>22.0</td>\n",
       "      <td>6.0</td>\n",
       "      <td>0</td>\n",
       "      <td>3</td>\n",
       "    </tr>\n",
       "    <tr>\n",
       "      <th>158</th>\n",
       "      <td>DJ Hussey</td>\n",
       "      <td>1101.0</td>\n",
       "      <td>61.0</td>\n",
       "      <td>1322.0</td>\n",
       "      <td>90.0</td>\n",
       "      <td>60.0</td>\n",
       "      <td>21.67</td>\n",
       "      <td>120.07</td>\n",
       "      <td>323.0</td>\n",
       "      <td>8.0</td>\n",
       "      <td>53.0</td>\n",
       "      <td>474.0</td>\n",
       "      <td>8.94</td>\n",
       "      <td>25.0</td>\n",
       "      <td>2.0</td>\n",
       "      <td>0</td>\n",
       "      <td>3</td>\n",
       "    </tr>\n",
       "    <tr>\n",
       "      <th>159</th>\n",
       "      <td>SC Ganguly</td>\n",
       "      <td>1326.0</td>\n",
       "      <td>56.0</td>\n",
       "      <td>1349.0</td>\n",
       "      <td>137.0</td>\n",
       "      <td>42.0</td>\n",
       "      <td>24.09</td>\n",
       "      <td>101.73</td>\n",
       "      <td>280.0</td>\n",
       "      <td>10.0</td>\n",
       "      <td>46.0</td>\n",
       "      <td>363.0</td>\n",
       "      <td>7.89</td>\n",
       "      <td>22.0</td>\n",
       "      <td>5.0</td>\n",
       "      <td>0</td>\n",
       "      <td>3</td>\n",
       "    </tr>\n",
       "    <tr>\n",
       "      <th>160</th>\n",
       "      <td>N Rana</td>\n",
       "      <td>1093.0</td>\n",
       "      <td>55.0</td>\n",
       "      <td>1437.0</td>\n",
       "      <td>127.0</td>\n",
       "      <td>72.0</td>\n",
       "      <td>26.13</td>\n",
       "      <td>131.47</td>\n",
       "      <td>107.0</td>\n",
       "      <td>7.0</td>\n",
       "      <td>18.0</td>\n",
       "      <td>142.0</td>\n",
       "      <td>7.89</td>\n",
       "      <td>11.0</td>\n",
       "      <td>4.0</td>\n",
       "      <td>0</td>\n",
       "      <td>3</td>\n",
       "    </tr>\n",
       "    <tr>\n",
       "      <th>196</th>\n",
       "      <td>RG Sharma</td>\n",
       "      <td>4088.0</td>\n",
       "      <td>194.0</td>\n",
       "      <td>5230.0</td>\n",
       "      <td>458.0</td>\n",
       "      <td>214.0</td>\n",
       "      <td>26.96</td>\n",
       "      <td>127.94</td>\n",
       "      <td>342.0</td>\n",
       "      <td>15.0</td>\n",
       "      <td>56.0</td>\n",
       "      <td>440.0</td>\n",
       "      <td>7.86</td>\n",
       "      <td>89.0</td>\n",
       "      <td>18.0</td>\n",
       "      <td>6</td>\n",
       "      <td>4</td>\n",
       "    </tr>\n",
       "    <tr>\n",
       "      <th>197</th>\n",
       "      <td>SK Raina</td>\n",
       "      <td>4041.0</td>\n",
       "      <td>189.0</td>\n",
       "      <td>5368.0</td>\n",
       "      <td>493.0</td>\n",
       "      <td>194.0</td>\n",
       "      <td>28.40</td>\n",
       "      <td>132.84</td>\n",
       "      <td>930.0</td>\n",
       "      <td>25.0</td>\n",
       "      <td>155.0</td>\n",
       "      <td>1118.0</td>\n",
       "      <td>7.21</td>\n",
       "      <td>102.0</td>\n",
       "      <td>14.0</td>\n",
       "      <td>6</td>\n",
       "      <td>4</td>\n",
       "    </tr>\n",
       "    <tr>\n",
       "      <th>198</th>\n",
       "      <td>V Kohli</td>\n",
       "      <td>4609.0</td>\n",
       "      <td>184.0</td>\n",
       "      <td>5878.0</td>\n",
       "      <td>504.0</td>\n",
       "      <td>202.0</td>\n",
       "      <td>31.95</td>\n",
       "      <td>127.53</td>\n",
       "      <td>264.0</td>\n",
       "      <td>4.0</td>\n",
       "      <td>43.0</td>\n",
       "      <td>368.0</td>\n",
       "      <td>8.56</td>\n",
       "      <td>76.0</td>\n",
       "      <td>13.0</td>\n",
       "      <td>6</td>\n",
       "      <td>4</td>\n",
       "    </tr>\n",
       "    <tr>\n",
       "      <th>199</th>\n",
       "      <td>MS Dhoni</td>\n",
       "      <td>3493.0</td>\n",
       "      <td>182.0</td>\n",
       "      <td>4632.0</td>\n",
       "      <td>313.0</td>\n",
       "      <td>216.0</td>\n",
       "      <td>25.45</td>\n",
       "      <td>132.61</td>\n",
       "      <td>0.0</td>\n",
       "      <td>0.0</td>\n",
       "      <td>0.0</td>\n",
       "      <td>0.0</td>\n",
       "      <td>0.00</td>\n",
       "      <td>113.0</td>\n",
       "      <td>17.0</td>\n",
       "      <td>6</td>\n",
       "      <td>4</td>\n",
       "    </tr>\n",
       "    <tr>\n",
       "      <th>200</th>\n",
       "      <td>S Dhawan</td>\n",
       "      <td>4208.0</td>\n",
       "      <td>175.0</td>\n",
       "      <td>5197.0</td>\n",
       "      <td>591.0</td>\n",
       "      <td>109.0</td>\n",
       "      <td>29.70</td>\n",
       "      <td>123.50</td>\n",
       "      <td>49.0</td>\n",
       "      <td>4.0</td>\n",
       "      <td>8.0</td>\n",
       "      <td>66.0</td>\n",
       "      <td>8.25</td>\n",
       "      <td>73.0</td>\n",
       "      <td>8.0</td>\n",
       "      <td>6</td>\n",
       "      <td>4</td>\n",
       "    </tr>\n",
       "    <tr>\n",
       "      <th>203</th>\n",
       "      <td>RV Uthappa</td>\n",
       "      <td>3658.0</td>\n",
       "      <td>182.0</td>\n",
       "      <td>4607.0</td>\n",
       "      <td>454.0</td>\n",
       "      <td>163.0</td>\n",
       "      <td>25.31</td>\n",
       "      <td>125.94</td>\n",
       "      <td>0.0</td>\n",
       "      <td>0.0</td>\n",
       "      <td>0.0</td>\n",
       "      <td>0.0</td>\n",
       "      <td>0.00</td>\n",
       "      <td>87.0</td>\n",
       "      <td>7.0</td>\n",
       "      <td>6</td>\n",
       "      <td>5</td>\n",
       "    </tr>\n",
       "    <tr>\n",
       "      <th>204</th>\n",
       "      <td>KD Karthik</td>\n",
       "      <td>3023.0</td>\n",
       "      <td>176.0</td>\n",
       "      <td>3823.0</td>\n",
       "      <td>377.0</td>\n",
       "      <td>105.0</td>\n",
       "      <td>21.72</td>\n",
       "      <td>126.46</td>\n",
       "      <td>0.0</td>\n",
       "      <td>0.0</td>\n",
       "      <td>0.0</td>\n",
       "      <td>0.0</td>\n",
       "      <td>0.00</td>\n",
       "      <td>118.0</td>\n",
       "      <td>5.0</td>\n",
       "      <td>2</td>\n",
       "      <td>5</td>\n",
       "    </tr>\n",
       "    <tr>\n",
       "      <th>205</th>\n",
       "      <td>G Gambhir</td>\n",
       "      <td>3524.0</td>\n",
       "      <td>151.0</td>\n",
       "      <td>4217.0</td>\n",
       "      <td>492.0</td>\n",
       "      <td>59.0</td>\n",
       "      <td>27.93</td>\n",
       "      <td>119.67</td>\n",
       "      <td>0.0</td>\n",
       "      <td>0.0</td>\n",
       "      <td>0.0</td>\n",
       "      <td>0.0</td>\n",
       "      <td>0.00</td>\n",
       "      <td>28.0</td>\n",
       "      <td>13.0</td>\n",
       "      <td>2</td>\n",
       "      <td>5</td>\n",
       "    </tr>\n",
       "    <tr>\n",
       "      <th>206</th>\n",
       "      <td>AT Rayudu</td>\n",
       "      <td>2970.0</td>\n",
       "      <td>149.0</td>\n",
       "      <td>3659.0</td>\n",
       "      <td>308.0</td>\n",
       "      <td>132.0</td>\n",
       "      <td>24.56</td>\n",
       "      <td>123.20</td>\n",
       "      <td>0.0</td>\n",
       "      <td>0.0</td>\n",
       "      <td>0.0</td>\n",
       "      <td>0.0</td>\n",
       "      <td>0.00</td>\n",
       "      <td>56.0</td>\n",
       "      <td>10.0</td>\n",
       "      <td>2</td>\n",
       "      <td>5</td>\n",
       "    </tr>\n",
       "    <tr>\n",
       "      <th>207</th>\n",
       "      <td>AM Rahane</td>\n",
       "      <td>3325.0</td>\n",
       "      <td>140.0</td>\n",
       "      <td>3933.0</td>\n",
       "      <td>416.0</td>\n",
       "      <td>76.0</td>\n",
       "      <td>28.09</td>\n",
       "      <td>118.29</td>\n",
       "      <td>6.0</td>\n",
       "      <td>1.0</td>\n",
       "      <td>1.0</td>\n",
       "      <td>5.0</td>\n",
       "      <td>5.00</td>\n",
       "      <td>58.0</td>\n",
       "      <td>12.0</td>\n",
       "      <td>2</td>\n",
       "      <td>5</td>\n",
       "    </tr>\n",
       "    <tr>\n",
       "      <th>213</th>\n",
       "      <td>Yuvraj Singh</td>\n",
       "      <td>2205.0</td>\n",
       "      <td>126.0</td>\n",
       "      <td>2750.0</td>\n",
       "      <td>217.0</td>\n",
       "      <td>149.0</td>\n",
       "      <td>21.83</td>\n",
       "      <td>124.72</td>\n",
       "      <td>882.0</td>\n",
       "      <td>36.0</td>\n",
       "      <td>146.0</td>\n",
       "      <td>1077.0</td>\n",
       "      <td>7.38</td>\n",
       "      <td>31.0</td>\n",
       "      <td>5.0</td>\n",
       "      <td>0</td>\n",
       "      <td>6</td>\n",
       "    </tr>\n",
       "    <tr>\n",
       "      <th>214</th>\n",
       "      <td>M Vijay</td>\n",
       "      <td>2208.0</td>\n",
       "      <td>105.0</td>\n",
       "      <td>2619.0</td>\n",
       "      <td>247.0</td>\n",
       "      <td>91.0</td>\n",
       "      <td>24.94</td>\n",
       "      <td>118.61</td>\n",
       "      <td>37.0</td>\n",
       "      <td>0.0</td>\n",
       "      <td>6.0</td>\n",
       "      <td>49.0</td>\n",
       "      <td>8.17</td>\n",
       "      <td>47.0</td>\n",
       "      <td>6.0</td>\n",
       "      <td>2</td>\n",
       "      <td>6</td>\n",
       "    </tr>\n",
       "    <tr>\n",
       "      <th>215</th>\n",
       "      <td>V Sehwag</td>\n",
       "      <td>1833.0</td>\n",
       "      <td>104.0</td>\n",
       "      <td>2728.0</td>\n",
       "      <td>334.0</td>\n",
       "      <td>106.0</td>\n",
       "      <td>26.23</td>\n",
       "      <td>148.83</td>\n",
       "      <td>138.0</td>\n",
       "      <td>6.0</td>\n",
       "      <td>23.0</td>\n",
       "      <td>235.0</td>\n",
       "      <td>10.22</td>\n",
       "      <td>34.0</td>\n",
       "      <td>11.0</td>\n",
       "      <td>0</td>\n",
       "      <td>6</td>\n",
       "    </tr>\n",
       "    <tr>\n",
       "      <th>216</th>\n",
       "      <td>WP Saha</td>\n",
       "      <td>1541.0</td>\n",
       "      <td>97.0</td>\n",
       "      <td>1979.0</td>\n",
       "      <td>184.0</td>\n",
       "      <td>64.0</td>\n",
       "      <td>20.40</td>\n",
       "      <td>128.42</td>\n",
       "      <td>0.0</td>\n",
       "      <td>0.0</td>\n",
       "      <td>0.0</td>\n",
       "      <td>0.0</td>\n",
       "      <td>0.00</td>\n",
       "      <td>62.0</td>\n",
       "      <td>4.0</td>\n",
       "      <td>2</td>\n",
       "      <td>6</td>\n",
       "    </tr>\n",
       "    <tr>\n",
       "      <th>217</th>\n",
       "      <td>JH Kallis</td>\n",
       "      <td>2291.0</td>\n",
       "      <td>95.0</td>\n",
       "      <td>2427.0</td>\n",
       "      <td>255.0</td>\n",
       "      <td>44.0</td>\n",
       "      <td>25.55</td>\n",
       "      <td>105.94</td>\n",
       "      <td>1799.0</td>\n",
       "      <td>65.0</td>\n",
       "      <td>291.0</td>\n",
       "      <td>2293.0</td>\n",
       "      <td>7.88</td>\n",
       "      <td>31.0</td>\n",
       "      <td>10.0</td>\n",
       "      <td>0</td>\n",
       "      <td>6</td>\n",
       "    </tr>\n",
       "    <tr>\n",
       "      <th>247</th>\n",
       "      <td>YK Pathan</td>\n",
       "      <td>2330.0</td>\n",
       "      <td>153.0</td>\n",
       "      <td>3204.0</td>\n",
       "      <td>262.0</td>\n",
       "      <td>159.0</td>\n",
       "      <td>20.94</td>\n",
       "      <td>137.51</td>\n",
       "      <td>1184.0</td>\n",
       "      <td>42.0</td>\n",
       "      <td>193.0</td>\n",
       "      <td>1415.0</td>\n",
       "      <td>7.33</td>\n",
       "      <td>43.0</td>\n",
       "      <td>16.0</td>\n",
       "      <td>6</td>\n",
       "      <td>7</td>\n",
       "    </tr>\n",
       "    <tr>\n",
       "      <th>248</th>\n",
       "      <td>KA Pollard</td>\n",
       "      <td>2107.0</td>\n",
       "      <td>144.0</td>\n",
       "      <td>3023.0</td>\n",
       "      <td>196.0</td>\n",
       "      <td>198.0</td>\n",
       "      <td>20.99</td>\n",
       "      <td>143.47</td>\n",
       "      <td>1414.0</td>\n",
       "      <td>60.0</td>\n",
       "      <td>223.0</td>\n",
       "      <td>1960.0</td>\n",
       "      <td>8.79</td>\n",
       "      <td>90.0</td>\n",
       "      <td>11.0</td>\n",
       "      <td>6</td>\n",
       "      <td>7</td>\n",
       "    </tr>\n",
       "    <tr>\n",
       "      <th>249</th>\n",
       "      <td>SR Watson</td>\n",
       "      <td>2888.0</td>\n",
       "      <td>141.0</td>\n",
       "      <td>3874.0</td>\n",
       "      <td>376.0</td>\n",
       "      <td>190.0</td>\n",
       "      <td>27.48</td>\n",
       "      <td>134.14</td>\n",
       "      <td>2137.0</td>\n",
       "      <td>92.0</td>\n",
       "      <td>341.0</td>\n",
       "      <td>2682.0</td>\n",
       "      <td>7.87</td>\n",
       "      <td>40.0</td>\n",
       "      <td>16.0</td>\n",
       "      <td>6</td>\n",
       "      <td>7</td>\n",
       "    </tr>\n",
       "    <tr>\n",
       "      <th>250</th>\n",
       "      <td>CH Gayle</td>\n",
       "      <td>3342.0</td>\n",
       "      <td>131.0</td>\n",
       "      <td>4772.0</td>\n",
       "      <td>384.0</td>\n",
       "      <td>349.0</td>\n",
       "      <td>36.43</td>\n",
       "      <td>142.79</td>\n",
       "      <td>584.0</td>\n",
       "      <td>18.0</td>\n",
       "      <td>93.0</td>\n",
       "      <td>729.0</td>\n",
       "      <td>7.84</td>\n",
       "      <td>26.0</td>\n",
       "      <td>22.0</td>\n",
       "      <td>6</td>\n",
       "      <td>7</td>\n",
       "    </tr>\n",
       "  </tbody>\n",
       "</table>\n",
       "</div>"
      ],
      "text/plain": [
       "                name  balls_faced  innings    runs     4s     6s  bat_average  \\\n",
       "0          STR Binny        700.0     66.0   880.0   66.0   35.0        13.33   \n",
       "1    Y Venugopal Rao        865.0     52.0   985.0   77.0   37.0        18.94   \n",
       "2           AM Nayar        588.0     50.0   672.0   55.0   20.0        13.44   \n",
       "3           DJ Hooda        504.0     50.0   625.0   32.0   29.0        12.50   \n",
       "4       MC Henriques        769.0     50.0   969.0   87.0   27.0        19.38   \n",
       "118        RA Jadeja       1774.0    136.0  2159.0  157.0   76.0        15.88   \n",
       "119         DJ Bravo       1199.0    101.0  1490.0  116.0   61.0        14.75   \n",
       "120  Harbhajan Singh        632.0     86.0   829.0   79.0   42.0         9.64   \n",
       "121        IK Pathan        981.0     82.0  1139.0   87.0   37.0        13.89   \n",
       "122        PP Chawla        541.0     75.0   584.0   54.0   18.0         7.79   \n",
       "138          P Kumar        323.0     57.0   340.0   22.0   17.0         5.96   \n",
       "139    R Vinay Kumar        289.0     42.0   310.0   21.0    9.0         7.38   \n",
       "140         DW Steyn        163.0     33.0   167.0   14.0    3.0         5.06   \n",
       "141         RP Singh         78.0     28.0    52.0    2.0    1.0         1.86   \n",
       "142           Z Khan        141.0     27.0   117.0   11.0    2.0         4.33   \n",
       "156        JP Duminy       1680.0     75.0  2029.0  126.0   79.0        27.05   \n",
       "157         BJ Hodge       1153.0     63.0  1400.0  122.0   43.0        22.22   \n",
       "158        DJ Hussey       1101.0     61.0  1322.0   90.0   60.0        21.67   \n",
       "159       SC Ganguly       1326.0     56.0  1349.0  137.0   42.0        24.09   \n",
       "160           N Rana       1093.0     55.0  1437.0  127.0   72.0        26.13   \n",
       "196        RG Sharma       4088.0    194.0  5230.0  458.0  214.0        26.96   \n",
       "197         SK Raina       4041.0    189.0  5368.0  493.0  194.0        28.40   \n",
       "198          V Kohli       4609.0    184.0  5878.0  504.0  202.0        31.95   \n",
       "199         MS Dhoni       3493.0    182.0  4632.0  313.0  216.0        25.45   \n",
       "200         S Dhawan       4208.0    175.0  5197.0  591.0  109.0        29.70   \n",
       "203       RV Uthappa       3658.0    182.0  4607.0  454.0  163.0        25.31   \n",
       "204       KD Karthik       3023.0    176.0  3823.0  377.0  105.0        21.72   \n",
       "205        G Gambhir       3524.0    151.0  4217.0  492.0   59.0        27.93   \n",
       "206        AT Rayudu       2970.0    149.0  3659.0  308.0  132.0        24.56   \n",
       "207        AM Rahane       3325.0    140.0  3933.0  416.0   76.0        28.09   \n",
       "213     Yuvraj Singh       2205.0    126.0  2750.0  217.0  149.0        21.83   \n",
       "214          M Vijay       2208.0    105.0  2619.0  247.0   91.0        24.94   \n",
       "215         V Sehwag       1833.0    104.0  2728.0  334.0  106.0        26.23   \n",
       "216          WP Saha       1541.0     97.0  1979.0  184.0   64.0        20.40   \n",
       "217        JH Kallis       2291.0     95.0  2427.0  255.0   44.0        25.55   \n",
       "247        YK Pathan       2330.0    153.0  3204.0  262.0  159.0        20.94   \n",
       "248       KA Pollard       2107.0    144.0  3023.0  196.0  198.0        20.99   \n",
       "249        SR Watson       2888.0    141.0  3874.0  376.0  190.0        27.48   \n",
       "250         CH Gayle       3342.0    131.0  4772.0  384.0  349.0        36.43   \n",
       "\n",
       "     bat_strike  balls_bowled  wickets  overs  runs_conceded  bowl_econ  \\\n",
       "0        125.71         611.0     22.0   99.0          758.0       7.66   \n",
       "1        113.87         222.0      6.0   36.0          337.0       9.36   \n",
       "2        114.29         239.0      9.0   39.0          322.0       8.26   \n",
       "3        124.01         239.0      7.0   39.0          322.0       8.26   \n",
       "4        126.01         918.0     38.0  151.0         1244.0       8.24   \n",
       "118      121.70        2759.0    114.0  457.0         3470.0       7.59   \n",
       "119      124.27        2846.0    153.0  458.0         3798.0       8.29   \n",
       "120      131.17        3451.0    150.0  563.0         3967.0       7.05   \n",
       "121      116.11        2113.0     80.0  345.0         2649.0       7.68   \n",
       "122      107.95        3285.0    156.0  546.0         4263.0       7.81   \n",
       "138      105.26        2637.0     90.0  424.0         3251.0       7.67   \n",
       "139      107.27        2179.0    105.0  357.0         2966.0       8.31   \n",
       "140      102.45        2276.0     97.0  364.0         2508.0       6.89   \n",
       "141       66.67        1874.0     90.0  299.0         2338.0       7.82   \n",
       "142       82.98        2276.0    102.0  371.0         2782.0       7.50   \n",
       "156      120.77         701.0     23.0  115.0          834.0       7.25   \n",
       "157      121.42         238.0     17.0   39.0          303.0       7.77   \n",
       "158      120.07         323.0      8.0   53.0          474.0       8.94   \n",
       "159      101.73         280.0     10.0   46.0          363.0       7.89   \n",
       "160      131.47         107.0      7.0   18.0          142.0       7.89   \n",
       "196      127.94         342.0     15.0   56.0          440.0       7.86   \n",
       "197      132.84         930.0     25.0  155.0         1118.0       7.21   \n",
       "198      127.53         264.0      4.0   43.0          368.0       8.56   \n",
       "199      132.61           0.0      0.0    0.0            0.0       0.00   \n",
       "200      123.50          49.0      4.0    8.0           66.0       8.25   \n",
       "203      125.94           0.0      0.0    0.0            0.0       0.00   \n",
       "204      126.46           0.0      0.0    0.0            0.0       0.00   \n",
       "205      119.67           0.0      0.0    0.0            0.0       0.00   \n",
       "206      123.20           0.0      0.0    0.0            0.0       0.00   \n",
       "207      118.29           6.0      1.0    1.0            5.0       5.00   \n",
       "213      124.72         882.0     36.0  146.0         1077.0       7.38   \n",
       "214      118.61          37.0      0.0    6.0           49.0       8.17   \n",
       "215      148.83         138.0      6.0   23.0          235.0      10.22   \n",
       "216      128.42           0.0      0.0    0.0            0.0       0.00   \n",
       "217      105.94        1799.0     65.0  291.0         2293.0       7.88   \n",
       "247      137.51        1184.0     42.0  193.0         1415.0       7.33   \n",
       "248      143.47        1414.0     60.0  223.0         1960.0       8.79   \n",
       "249      134.14        2137.0     92.0  341.0         2682.0       7.87   \n",
       "250      142.79         584.0     18.0   93.0          729.0       7.84   \n",
       "\n",
       "     catches  player_of_match  cluster_kmeans  cluster_hier  \n",
       "0       19.0              0.0               7             0  \n",
       "1       13.0              0.0               7             0  \n",
       "2       13.0              0.0               7             0  \n",
       "3       25.0              1.0               7             0  \n",
       "4       27.0              2.0               1             0  \n",
       "118     68.0              9.0               3             1  \n",
       "119     75.0              3.0               3             1  \n",
       "120     48.0              8.0               3             1  \n",
       "121     31.0              2.0               3             1  \n",
       "122     40.0              3.0               3             1  \n",
       "138     14.0              2.0               3             2  \n",
       "139     35.0              3.0               3             2  \n",
       "140     24.0              5.0               3             2  \n",
       "141     29.0              1.0               5             2  \n",
       "142     21.0              1.0               5             2  \n",
       "156     30.0              4.0               0             3  \n",
       "157     22.0              6.0               0             3  \n",
       "158     25.0              2.0               0             3  \n",
       "159     22.0              5.0               0             3  \n",
       "160     11.0              4.0               0             3  \n",
       "196     89.0             18.0               6             4  \n",
       "197    102.0             14.0               6             4  \n",
       "198     76.0             13.0               6             4  \n",
       "199    113.0             17.0               6             4  \n",
       "200     73.0              8.0               6             4  \n",
       "203     87.0              7.0               6             5  \n",
       "204    118.0              5.0               2             5  \n",
       "205     28.0             13.0               2             5  \n",
       "206     56.0             10.0               2             5  \n",
       "207     58.0             12.0               2             5  \n",
       "213     31.0              5.0               0             6  \n",
       "214     47.0              6.0               2             6  \n",
       "215     34.0             11.0               0             6  \n",
       "216     62.0              4.0               2             6  \n",
       "217     31.0             10.0               0             6  \n",
       "247     43.0             16.0               6             7  \n",
       "248     90.0             11.0               6             7  \n",
       "249     40.0             16.0               6             7  \n",
       "250     26.0             22.0               6             7  "
      ]
     },
     "metadata": {},
     "output_type": "display_data"
    }
   ],
   "source": [
    "groupby_cluster(\"cluster_hier\",5)"
   ]
  },
  {
   "cell_type": "code",
   "execution_count": null,
   "metadata": {
    "ExecuteTime": {
     "end_time": "2021-04-30T18:47:17.770447Z",
     "start_time": "2021-04-30T18:47:17.763581Z"
    }
   },
   "outputs": [],
   "source": []
  },
  {
   "cell_type": "markdown",
   "metadata": {},
   "source": [
    "#  DBScan Clustering"
   ]
  },
  {
   "cell_type": "code",
   "execution_count": 668,
   "metadata": {
    "ExecuteTime": {
     "end_time": "2021-05-16T19:23:59.785026Z",
     "start_time": "2021-05-16T19:23:59.777150Z"
    }
   },
   "outputs": [],
   "source": [
    "# Compute DBSCAN\n",
    "db = DBSCAN(eps=0.3, min_samples=5).fit(players_scaled)\n",
    "labels = db.labels_\n",
    "\n",
    "# assign cluster labels\n",
    "players['cluster_dbscan'] = labels\n"
   ]
  },
  {
   "cell_type": "code",
   "execution_count": 669,
   "metadata": {
    "ExecuteTime": {
     "end_time": "2021-05-16T19:23:59.790617Z",
     "start_time": "2021-05-16T19:23:59.786706Z"
    }
   },
   "outputs": [
    {
     "name": "stdout",
     "output_type": "stream",
     "text": [
      "Estimated number of clusters: 0\n",
      "Estimated number of noise points: 251\n"
     ]
    }
   ],
   "source": [
    "# Number of clusters in labels, ignoring noise if present.\n",
    "n_clusters_ = len(set(labels)) - (1 if -1 in labels else 0)\n",
    "n_noise_ = list(labels).count(-1)\n",
    "\n",
    "print('Estimated number of clusters: %d' % n_clusters_)\n",
    "print('Estimated number of noise points: %d' % n_noise_)"
   ]
  },
  {
   "cell_type": "code",
   "execution_count": 670,
   "metadata": {
    "ExecuteTime": {
     "end_time": "2021-05-16T19:23:59.816308Z",
     "start_time": "2021-05-16T19:23:59.792589Z"
    }
   },
   "outputs": [
    {
     "data": {
      "text/html": [
       "<div>\n",
       "<style scoped>\n",
       "    .dataframe tbody tr th:only-of-type {\n",
       "        vertical-align: middle;\n",
       "    }\n",
       "\n",
       "    .dataframe tbody tr th {\n",
       "        vertical-align: top;\n",
       "    }\n",
       "\n",
       "    .dataframe thead th {\n",
       "        text-align: right;\n",
       "    }\n",
       "</style>\n",
       "<table border=\"1\" class=\"dataframe\">\n",
       "  <thead>\n",
       "    <tr style=\"text-align: right;\">\n",
       "      <th></th>\n",
       "      <th>name</th>\n",
       "      <th>balls_faced</th>\n",
       "      <th>innings</th>\n",
       "      <th>runs</th>\n",
       "      <th>4s</th>\n",
       "      <th>6s</th>\n",
       "      <th>bat_average</th>\n",
       "      <th>bat_strike</th>\n",
       "      <th>balls_bowled</th>\n",
       "      <th>wickets</th>\n",
       "      <th>overs</th>\n",
       "      <th>runs_conceded</th>\n",
       "      <th>bowl_econ</th>\n",
       "      <th>catches</th>\n",
       "      <th>player_of_match</th>\n",
       "      <th>cluster_kmeans</th>\n",
       "      <th>cluster_hier</th>\n",
       "      <th>cluster_dbscan</th>\n",
       "    </tr>\n",
       "  </thead>\n",
       "  <tbody>\n",
       "    <tr>\n",
       "      <th>0</th>\n",
       "      <td>RG Sharma</td>\n",
       "      <td>4088.0</td>\n",
       "      <td>194.0</td>\n",
       "      <td>5230.0</td>\n",
       "      <td>458.0</td>\n",
       "      <td>214.0</td>\n",
       "      <td>26.96</td>\n",
       "      <td>127.94</td>\n",
       "      <td>342.0</td>\n",
       "      <td>15.0</td>\n",
       "      <td>56.0</td>\n",
       "      <td>440.0</td>\n",
       "      <td>7.86</td>\n",
       "      <td>89.0</td>\n",
       "      <td>18.0</td>\n",
       "      <td>6</td>\n",
       "      <td>4</td>\n",
       "      <td>-1</td>\n",
       "    </tr>\n",
       "    <tr>\n",
       "      <th>1</th>\n",
       "      <td>SK Raina</td>\n",
       "      <td>4041.0</td>\n",
       "      <td>189.0</td>\n",
       "      <td>5368.0</td>\n",
       "      <td>493.0</td>\n",
       "      <td>194.0</td>\n",
       "      <td>28.40</td>\n",
       "      <td>132.84</td>\n",
       "      <td>930.0</td>\n",
       "      <td>25.0</td>\n",
       "      <td>155.0</td>\n",
       "      <td>1118.0</td>\n",
       "      <td>7.21</td>\n",
       "      <td>102.0</td>\n",
       "      <td>14.0</td>\n",
       "      <td>6</td>\n",
       "      <td>4</td>\n",
       "      <td>-1</td>\n",
       "    </tr>\n",
       "    <tr>\n",
       "      <th>2</th>\n",
       "      <td>V Kohli</td>\n",
       "      <td>4609.0</td>\n",
       "      <td>184.0</td>\n",
       "      <td>5878.0</td>\n",
       "      <td>504.0</td>\n",
       "      <td>202.0</td>\n",
       "      <td>31.95</td>\n",
       "      <td>127.53</td>\n",
       "      <td>264.0</td>\n",
       "      <td>4.0</td>\n",
       "      <td>43.0</td>\n",
       "      <td>368.0</td>\n",
       "      <td>8.56</td>\n",
       "      <td>76.0</td>\n",
       "      <td>13.0</td>\n",
       "      <td>6</td>\n",
       "      <td>4</td>\n",
       "      <td>-1</td>\n",
       "    </tr>\n",
       "    <tr>\n",
       "      <th>3</th>\n",
       "      <td>RV Uthappa</td>\n",
       "      <td>3658.0</td>\n",
       "      <td>182.0</td>\n",
       "      <td>4607.0</td>\n",
       "      <td>454.0</td>\n",
       "      <td>163.0</td>\n",
       "      <td>25.31</td>\n",
       "      <td>125.94</td>\n",
       "      <td>0.0</td>\n",
       "      <td>0.0</td>\n",
       "      <td>0.0</td>\n",
       "      <td>0.0</td>\n",
       "      <td>0.00</td>\n",
       "      <td>87.0</td>\n",
       "      <td>7.0</td>\n",
       "      <td>6</td>\n",
       "      <td>5</td>\n",
       "      <td>-1</td>\n",
       "    </tr>\n",
       "    <tr>\n",
       "      <th>4</th>\n",
       "      <td>MS Dhoni</td>\n",
       "      <td>3493.0</td>\n",
       "      <td>182.0</td>\n",
       "      <td>4632.0</td>\n",
       "      <td>313.0</td>\n",
       "      <td>216.0</td>\n",
       "      <td>25.45</td>\n",
       "      <td>132.61</td>\n",
       "      <td>0.0</td>\n",
       "      <td>0.0</td>\n",
       "      <td>0.0</td>\n",
       "      <td>0.0</td>\n",
       "      <td>0.00</td>\n",
       "      <td>113.0</td>\n",
       "      <td>17.0</td>\n",
       "      <td>6</td>\n",
       "      <td>4</td>\n",
       "      <td>-1</td>\n",
       "    </tr>\n",
       "  </tbody>\n",
       "</table>\n",
       "</div>"
      ],
      "text/plain": [
       "         name  balls_faced  innings    runs     4s     6s  bat_average  \\\n",
       "0   RG Sharma       4088.0    194.0  5230.0  458.0  214.0        26.96   \n",
       "1    SK Raina       4041.0    189.0  5368.0  493.0  194.0        28.40   \n",
       "2     V Kohli       4609.0    184.0  5878.0  504.0  202.0        31.95   \n",
       "3  RV Uthappa       3658.0    182.0  4607.0  454.0  163.0        25.31   \n",
       "4    MS Dhoni       3493.0    182.0  4632.0  313.0  216.0        25.45   \n",
       "\n",
       "   bat_strike  balls_bowled  wickets  overs  runs_conceded  bowl_econ  \\\n",
       "0      127.94         342.0     15.0   56.0          440.0       7.86   \n",
       "1      132.84         930.0     25.0  155.0         1118.0       7.21   \n",
       "2      127.53         264.0      4.0   43.0          368.0       8.56   \n",
       "3      125.94           0.0      0.0    0.0            0.0       0.00   \n",
       "4      132.61           0.0      0.0    0.0            0.0       0.00   \n",
       "\n",
       "   catches  player_of_match  cluster_kmeans  cluster_hier  cluster_dbscan  \n",
       "0     89.0             18.0               6             4              -1  \n",
       "1    102.0             14.0               6             4              -1  \n",
       "2     76.0             13.0               6             4              -1  \n",
       "3     87.0              7.0               6             5              -1  \n",
       "4    113.0             17.0               6             4              -1  "
      ]
     },
     "metadata": {},
     "output_type": "display_data"
    }
   ],
   "source": [
    "groupby_cluster(\"cluster_dbscan\",5)"
   ]
  },
  {
   "cell_type": "markdown",
   "metadata": {},
   "source": [
    "# Comparing clustering results"
   ]
  },
  {
   "cell_type": "code",
   "execution_count": 671,
   "metadata": {
    "ExecuteTime": {
     "end_time": "2021-05-16T19:23:59.828222Z",
     "start_time": "2021-05-16T19:23:59.818191Z"
    }
   },
   "outputs": [
    {
     "name": "stdout",
     "output_type": "stream",
     "text": [
      "K-means clustering with k=8\n",
      "7    65\n",
      "4    50\n",
      "1    36\n",
      "5    25\n",
      "2    25\n",
      "0    22\n",
      "3    16\n",
      "6    12\n",
      "Name: cluster_kmeans, dtype: int64\n",
      "\n",
      "Hierarchical clustering with k=8\n",
      "0    118\n",
      "3     40\n",
      "6     34\n",
      "1     20\n",
      "2     18\n",
      "5     10\n",
      "4      7\n",
      "7      4\n",
      "Name: cluster_hier, dtype: int64\n",
      "\n",
      "DBScan clustering\n",
      "-1    251\n",
      "Name: cluster_dbscan, dtype: int64\n"
     ]
    }
   ],
   "source": [
    "print(f\"K-means clustering with k={NUM_CLUSTERS}\")\n",
    "print(players['cluster_kmeans'].value_counts())\n",
    "print(f\"\\nHierarchical clustering with k={NUM_CLUSTERS}\")\n",
    "print(players['cluster_hier'].value_counts())\n",
    "print(f\"\\nDBScan clustering\")\n",
    "print(players['cluster_dbscan'].value_counts())"
   ]
  },
  {
   "cell_type": "code",
   "execution_count": 672,
   "metadata": {
    "ExecuteTime": {
     "end_time": "2021-05-16T19:23:59.855247Z",
     "start_time": "2021-05-16T19:23:59.830592Z"
    }
   },
   "outputs": [
    {
     "data": {
      "text/html": [
       "<div>\n",
       "<style scoped>\n",
       "    .dataframe tbody tr th:only-of-type {\n",
       "        vertical-align: middle;\n",
       "    }\n",
       "\n",
       "    .dataframe tbody tr th {\n",
       "        vertical-align: top;\n",
       "    }\n",
       "\n",
       "    .dataframe thead th {\n",
       "        text-align: right;\n",
       "    }\n",
       "</style>\n",
       "<table border=\"1\" class=\"dataframe\">\n",
       "  <thead>\n",
       "    <tr style=\"text-align: right;\">\n",
       "      <th></th>\n",
       "      <th>name</th>\n",
       "      <th>balls_faced</th>\n",
       "      <th>innings</th>\n",
       "      <th>runs</th>\n",
       "      <th>4s</th>\n",
       "      <th>6s</th>\n",
       "      <th>bat_average</th>\n",
       "      <th>bat_strike</th>\n",
       "      <th>balls_bowled</th>\n",
       "      <th>wickets</th>\n",
       "      <th>overs</th>\n",
       "      <th>runs_conceded</th>\n",
       "      <th>bowl_econ</th>\n",
       "      <th>catches</th>\n",
       "      <th>player_of_match</th>\n",
       "      <th>cluster_kmeans</th>\n",
       "      <th>cluster_hier</th>\n",
       "      <th>cluster_dbscan</th>\n",
       "    </tr>\n",
       "  </thead>\n",
       "  <tbody>\n",
       "    <tr>\n",
       "      <th>A Ashish Reddy</th>\n",
       "      <td>A Ashish Reddy</td>\n",
       "      <td>196.0</td>\n",
       "      <td>23.0</td>\n",
       "      <td>280.0</td>\n",
       "      <td>16.0</td>\n",
       "      <td>15.0</td>\n",
       "      <td>12.17</td>\n",
       "      <td>142.86</td>\n",
       "      <td>270.0</td>\n",
       "      <td>18.0</td>\n",
       "      <td>45.0</td>\n",
       "      <td>396.0</td>\n",
       "      <td>8.80</td>\n",
       "      <td>9.0</td>\n",
       "      <td>0.0</td>\n",
       "      <td>7</td>\n",
       "      <td>0</td>\n",
       "      <td>-1</td>\n",
       "    </tr>\n",
       "    <tr>\n",
       "      <th>A Kumble</th>\n",
       "      <td>A Kumble</td>\n",
       "      <td>49.0</td>\n",
       "      <td>15.0</td>\n",
       "      <td>35.0</td>\n",
       "      <td>3.0</td>\n",
       "      <td>0.0</td>\n",
       "      <td>2.33</td>\n",
       "      <td>71.43</td>\n",
       "      <td>983.0</td>\n",
       "      <td>45.0</td>\n",
       "      <td>163.0</td>\n",
       "      <td>1058.0</td>\n",
       "      <td>6.49</td>\n",
       "      <td>10.0</td>\n",
       "      <td>3.0</td>\n",
       "      <td>5</td>\n",
       "      <td>0</td>\n",
       "      <td>-1</td>\n",
       "    </tr>\n",
       "    <tr>\n",
       "      <th>A Mishra</th>\n",
       "      <td>A Mishra</td>\n",
       "      <td>410.0</td>\n",
       "      <td>54.0</td>\n",
       "      <td>362.0</td>\n",
       "      <td>29.0</td>\n",
       "      <td>5.0</td>\n",
       "      <td>6.70</td>\n",
       "      <td>88.29</td>\n",
       "      <td>3233.0</td>\n",
       "      <td>160.0</td>\n",
       "      <td>529.0</td>\n",
       "      <td>3867.0</td>\n",
       "      <td>7.31</td>\n",
       "      <td>21.0</td>\n",
       "      <td>11.0</td>\n",
       "      <td>3</td>\n",
       "      <td>1</td>\n",
       "      <td>-1</td>\n",
       "    </tr>\n",
       "    <tr>\n",
       "      <th>A Nehra</th>\n",
       "      <td>A Nehra</td>\n",
       "      <td>63.0</td>\n",
       "      <td>17.0</td>\n",
       "      <td>41.0</td>\n",
       "      <td>3.0</td>\n",
       "      <td>1.0</td>\n",
       "      <td>2.41</td>\n",
       "      <td>65.08</td>\n",
       "      <td>1974.0</td>\n",
       "      <td>106.0</td>\n",
       "      <td>320.0</td>\n",
       "      <td>2495.0</td>\n",
       "      <td>7.80</td>\n",
       "      <td>19.0</td>\n",
       "      <td>6.0</td>\n",
       "      <td>5</td>\n",
       "      <td>2</td>\n",
       "      <td>-1</td>\n",
       "    </tr>\n",
       "    <tr>\n",
       "      <th>A Symonds</th>\n",
       "      <td>A Symonds</td>\n",
       "      <td>781.0</td>\n",
       "      <td>36.0</td>\n",
       "      <td>974.0</td>\n",
       "      <td>74.0</td>\n",
       "      <td>41.0</td>\n",
       "      <td>27.06</td>\n",
       "      <td>124.71</td>\n",
       "      <td>540.0</td>\n",
       "      <td>20.0</td>\n",
       "      <td>88.0</td>\n",
       "      <td>674.0</td>\n",
       "      <td>7.66</td>\n",
       "      <td>21.0</td>\n",
       "      <td>3.0</td>\n",
       "      <td>0</td>\n",
       "      <td>3</td>\n",
       "      <td>-1</td>\n",
       "    </tr>\n",
       "  </tbody>\n",
       "</table>\n",
       "</div>"
      ],
      "text/plain": [
       "                          name  balls_faced  innings   runs    4s    6s  \\\n",
       "A Ashish Reddy  A Ashish Reddy        196.0     23.0  280.0  16.0  15.0   \n",
       "A Kumble              A Kumble         49.0     15.0   35.0   3.0   0.0   \n",
       "A Mishra              A Mishra        410.0     54.0  362.0  29.0   5.0   \n",
       "A Nehra                A Nehra         63.0     17.0   41.0   3.0   1.0   \n",
       "A Symonds            A Symonds        781.0     36.0  974.0  74.0  41.0   \n",
       "\n",
       "                bat_average  bat_strike  balls_bowled  wickets  overs  \\\n",
       "A Ashish Reddy        12.17      142.86         270.0     18.0   45.0   \n",
       "A Kumble               2.33       71.43         983.0     45.0  163.0   \n",
       "A Mishra               6.70       88.29        3233.0    160.0  529.0   \n",
       "A Nehra                2.41       65.08        1974.0    106.0  320.0   \n",
       "A Symonds             27.06      124.71         540.0     20.0   88.0   \n",
       "\n",
       "                runs_conceded  bowl_econ  catches  player_of_match  \\\n",
       "A Ashish Reddy          396.0       8.80      9.0              0.0   \n",
       "A Kumble               1058.0       6.49     10.0              3.0   \n",
       "A Mishra               3867.0       7.31     21.0             11.0   \n",
       "A Nehra                2495.0       7.80     19.0              6.0   \n",
       "A Symonds               674.0       7.66     21.0              3.0   \n",
       "\n",
       "                cluster_kmeans  cluster_hier  cluster_dbscan  \n",
       "A Ashish Reddy               7             0              -1  \n",
       "A Kumble                     5             0              -1  \n",
       "A Mishra                     3             1              -1  \n",
       "A Nehra                      5             2              -1  \n",
       "A Symonds                    0             3              -1  "
      ]
     },
     "execution_count": 672,
     "metadata": {},
     "output_type": "execute_result"
    }
   ],
   "source": [
    "players.groupby(['cluster_dbscan']).head().sort_values(by='cluster_dbscan')"
   ]
  },
  {
   "cell_type": "code",
   "execution_count": 673,
   "metadata": {
    "ExecuteTime": {
     "end_time": "2021-05-16T19:23:59.885280Z",
     "start_time": "2021-05-16T19:23:59.857835Z"
    }
   },
   "outputs": [
    {
     "data": {
      "text/html": [
       "<div>\n",
       "<style scoped>\n",
       "    .dataframe tbody tr th:only-of-type {\n",
       "        vertical-align: middle;\n",
       "    }\n",
       "\n",
       "    .dataframe tbody tr th {\n",
       "        vertical-align: top;\n",
       "    }\n",
       "\n",
       "    .dataframe thead th {\n",
       "        text-align: right;\n",
       "    }\n",
       "</style>\n",
       "<table border=\"1\" class=\"dataframe\">\n",
       "  <thead>\n",
       "    <tr style=\"text-align: right;\">\n",
       "      <th></th>\n",
       "      <th>name</th>\n",
       "      <th>balls_faced</th>\n",
       "      <th>innings</th>\n",
       "      <th>runs</th>\n",
       "      <th>4s</th>\n",
       "      <th>6s</th>\n",
       "      <th>bat_average</th>\n",
       "      <th>bat_strike</th>\n",
       "      <th>balls_bowled</th>\n",
       "      <th>wickets</th>\n",
       "      <th>overs</th>\n",
       "      <th>runs_conceded</th>\n",
       "      <th>bowl_econ</th>\n",
       "      <th>catches</th>\n",
       "      <th>player_of_match</th>\n",
       "      <th>cluster_kmeans</th>\n",
       "      <th>cluster_hier</th>\n",
       "      <th>cluster_dbscan</th>\n",
       "    </tr>\n",
       "  </thead>\n",
       "  <tbody>\n",
       "    <tr>\n",
       "      <th>0</th>\n",
       "      <td>RG Sharma</td>\n",
       "      <td>4088.0</td>\n",
       "      <td>194.0</td>\n",
       "      <td>5230.0</td>\n",
       "      <td>458.0</td>\n",
       "      <td>214.0</td>\n",
       "      <td>26.96</td>\n",
       "      <td>127.94</td>\n",
       "      <td>342.0</td>\n",
       "      <td>15.0</td>\n",
       "      <td>56.0</td>\n",
       "      <td>440.0</td>\n",
       "      <td>7.86</td>\n",
       "      <td>89.0</td>\n",
       "      <td>18.0</td>\n",
       "      <td>6</td>\n",
       "      <td>4</td>\n",
       "      <td>-1</td>\n",
       "    </tr>\n",
       "    <tr>\n",
       "      <th>1</th>\n",
       "      <td>SK Raina</td>\n",
       "      <td>4041.0</td>\n",
       "      <td>189.0</td>\n",
       "      <td>5368.0</td>\n",
       "      <td>493.0</td>\n",
       "      <td>194.0</td>\n",
       "      <td>28.40</td>\n",
       "      <td>132.84</td>\n",
       "      <td>930.0</td>\n",
       "      <td>25.0</td>\n",
       "      <td>155.0</td>\n",
       "      <td>1118.0</td>\n",
       "      <td>7.21</td>\n",
       "      <td>102.0</td>\n",
       "      <td>14.0</td>\n",
       "      <td>6</td>\n",
       "      <td>4</td>\n",
       "      <td>-1</td>\n",
       "    </tr>\n",
       "    <tr>\n",
       "      <th>2</th>\n",
       "      <td>V Kohli</td>\n",
       "      <td>4609.0</td>\n",
       "      <td>184.0</td>\n",
       "      <td>5878.0</td>\n",
       "      <td>504.0</td>\n",
       "      <td>202.0</td>\n",
       "      <td>31.95</td>\n",
       "      <td>127.53</td>\n",
       "      <td>264.0</td>\n",
       "      <td>4.0</td>\n",
       "      <td>43.0</td>\n",
       "      <td>368.0</td>\n",
       "      <td>8.56</td>\n",
       "      <td>76.0</td>\n",
       "      <td>13.0</td>\n",
       "      <td>6</td>\n",
       "      <td>4</td>\n",
       "      <td>-1</td>\n",
       "    </tr>\n",
       "    <tr>\n",
       "      <th>3</th>\n",
       "      <td>RV Uthappa</td>\n",
       "      <td>3658.0</td>\n",
       "      <td>182.0</td>\n",
       "      <td>4607.0</td>\n",
       "      <td>454.0</td>\n",
       "      <td>163.0</td>\n",
       "      <td>25.31</td>\n",
       "      <td>125.94</td>\n",
       "      <td>0.0</td>\n",
       "      <td>0.0</td>\n",
       "      <td>0.0</td>\n",
       "      <td>0.0</td>\n",
       "      <td>0.00</td>\n",
       "      <td>87.0</td>\n",
       "      <td>7.0</td>\n",
       "      <td>6</td>\n",
       "      <td>5</td>\n",
       "      <td>-1</td>\n",
       "    </tr>\n",
       "    <tr>\n",
       "      <th>4</th>\n",
       "      <td>MS Dhoni</td>\n",
       "      <td>3493.0</td>\n",
       "      <td>182.0</td>\n",
       "      <td>4632.0</td>\n",
       "      <td>313.0</td>\n",
       "      <td>216.0</td>\n",
       "      <td>25.45</td>\n",
       "      <td>132.61</td>\n",
       "      <td>0.0</td>\n",
       "      <td>0.0</td>\n",
       "      <td>0.0</td>\n",
       "      <td>0.0</td>\n",
       "      <td>0.00</td>\n",
       "      <td>113.0</td>\n",
       "      <td>17.0</td>\n",
       "      <td>6</td>\n",
       "      <td>4</td>\n",
       "      <td>-1</td>\n",
       "    </tr>\n",
       "  </tbody>\n",
       "</table>\n",
       "</div>"
      ],
      "text/plain": [
       "         name  balls_faced  innings    runs     4s     6s  bat_average  \\\n",
       "0   RG Sharma       4088.0    194.0  5230.0  458.0  214.0        26.96   \n",
       "1    SK Raina       4041.0    189.0  5368.0  493.0  194.0        28.40   \n",
       "2     V Kohli       4609.0    184.0  5878.0  504.0  202.0        31.95   \n",
       "3  RV Uthappa       3658.0    182.0  4607.0  454.0  163.0        25.31   \n",
       "4    MS Dhoni       3493.0    182.0  4632.0  313.0  216.0        25.45   \n",
       "\n",
       "   bat_strike  balls_bowled  wickets  overs  runs_conceded  bowl_econ  \\\n",
       "0      127.94         342.0     15.0   56.0          440.0       7.86   \n",
       "1      132.84         930.0     25.0  155.0         1118.0       7.21   \n",
       "2      127.53         264.0      4.0   43.0          368.0       8.56   \n",
       "3      125.94           0.0      0.0    0.0            0.0       0.00   \n",
       "4      132.61           0.0      0.0    0.0            0.0       0.00   \n",
       "\n",
       "   catches  player_of_match  cluster_kmeans  cluster_hier  cluster_dbscan  \n",
       "0     89.0             18.0               6             4              -1  \n",
       "1    102.0             14.0               6             4              -1  \n",
       "2     76.0             13.0               6             4              -1  \n",
       "3     87.0              7.0               6             5              -1  \n",
       "4    113.0             17.0               6             4              -1  "
      ]
     },
     "metadata": {},
     "output_type": "display_data"
    }
   ],
   "source": [
    "groupby_cluster(\"cluster_dbscan\",5)"
   ]
  },
  {
   "cell_type": "markdown",
   "metadata": {},
   "source": [
    "# Plots"
   ]
  },
  {
   "cell_type": "markdown",
   "metadata": {},
   "source": [
    "## Runs vs Wickets"
   ]
  },
  {
   "cell_type": "code",
   "execution_count": 674,
   "metadata": {
    "ExecuteTime": {
     "end_time": "2021-05-16T19:23:59.976894Z",
     "start_time": "2021-05-16T19:23:59.887102Z"
    }
   },
   "outputs": [
    {
     "data": {
      "application/vnd.plotly.v1+json": {
       "config": {
        "plotlyServerURL": "https://plot.ly"
       },
       "data": [
        {
         "customdata": [
          [
           "A Ashish Reddy"
          ],
          [
           "A Kumble"
          ],
          [
           "A Mishra"
          ],
          [
           "A Nehra"
          ],
          [
           "A Symonds"
          ],
          [
           "AA Jhunjhunwala"
          ],
          [
           "AB Agarkar"
          ],
          [
           "AB Dinda"
          ],
          [
           "AB de Villiers"
          ],
          [
           "AC Gilchrist"
          ],
          [
           "AD Mascarenhas"
          ],
          [
           "AD Mathews"
          ],
          [
           "AD Nath"
          ],
          [
           "AD Russell"
          ],
          [
           "AJ Finch"
          ],
          [
           "AJ Tye"
          ],
          [
           "AL Menaria"
          ],
          [
           "AM Nayar"
          ],
          [
           "AM Rahane"
          ],
          [
           "AP Tare"
          ],
          [
           "AR Patel"
          ],
          [
           "AS Raut"
          ],
          [
           "AT Rayudu"
          ],
          [
           "Abhishek Sharma"
          ],
          [
           "Ankit Sharma"
          ],
          [
           "Azhar Mahmood"
          ],
          [
           "B Akhil"
          ],
          [
           "B Chipli"
          ],
          [
           "B Kumar"
          ],
          [
           "B Lee"
          ],
          [
           "BA Stokes"
          ],
          [
           "BB McCullum"
          ],
          [
           "BCJ Cutting"
          ],
          [
           "BJ Hodge"
          ],
          [
           "Bipul Sharma"
          ],
          [
           "C Munro"
          ],
          [
           "C de Grandhomme"
          ],
          [
           "CA Ingram"
          ],
          [
           "CA Lynn"
          ],
          [
           "CA Pujara"
          ],
          [
           "CH Gayle"
          ],
          [
           "CH Morris"
          ],
          [
           "CJ Anderson"
          ],
          [
           "CL White"
          ],
          [
           "CM Gautam"
          ],
          [
           "CR Brathwaite"
          ],
          [
           "CR Woakes"
          ],
          [
           "D Padikkal"
          ],
          [
           "DA Miller"
          ],
          [
           "DA Warner"
          ],
          [
           "DB Das"
          ],
          [
           "DB Ravi Teja"
          ],
          [
           "DH Yagnik"
          ],
          [
           "DJ Bravo"
          ],
          [
           "DJ Hooda"
          ],
          [
           "DJ Hussey"
          ],
          [
           "DJG Sammy"
          ],
          [
           "DL Chahar"
          ],
          [
           "DL Vettori"
          ],
          [
           "DPMD Jayawardene"
          ],
          [
           "DR Smith"
          ],
          [
           "DS Kulkarni"
          ],
          [
           "DT Christian"
          ],
          [
           "DW Steyn"
          ],
          [
           "E Lewis"
          ],
          [
           "EJG Morgan"
          ],
          [
           "F du Plessis"
          ],
          [
           "FY Fazal"
          ],
          [
           "G Gambhir"
          ],
          [
           "GC Smith"
          ],
          [
           "GH Vihari"
          ],
          [
           "GJ Bailey"
          ],
          [
           "GJ Maxwell"
          ],
          [
           "Gurkeerat Singh"
          ],
          [
           "HH Gibbs"
          ],
          [
           "HH Pandya"
          ],
          [
           "HM Amla"
          ],
          [
           "HV Patel"
          ],
          [
           "Harbhajan Singh"
          ],
          [
           "I Sharma"
          ],
          [
           "IK Pathan"
          ],
          [
           "Iqbal Abdulla"
          ],
          [
           "Ishan Kishan"
          ],
          [
           "J Botha"
          ],
          [
           "JA Morkel"
          ],
          [
           "JC Archer"
          ],
          [
           "JC Buttler"
          ],
          [
           "JD Ryder"
          ],
          [
           "JD Unadkat"
          ],
          [
           "JDP Oram"
          ],
          [
           "JEC Franklin"
          ],
          [
           "JH Kallis"
          ],
          [
           "JJ Bumrah"
          ],
          [
           "JM Bairstow"
          ],
          [
           "JP Duminy"
          ],
          [
           "JP Faulkner"
          ],
          [
           "JR Hopes"
          ],
          [
           "K Goel"
          ],
          [
           "K Gowtham"
          ],
          [
           "K Rabada"
          ],
          [
           "KA Pollard"
          ],
          [
           "KC Sangakkara"
          ],
          [
           "KD Karthik"
          ],
          [
           "KH Pandya"
          ],
          [
           "KK Cooper"
          ],
          [
           "KK Nair"
          ],
          [
           "KL Rahul"
          ],
          [
           "KM Jadhav"
          ],
          [
           "KP Pietersen"
          ],
          [
           "KS Williamson"
          ],
          [
           "KV Sharma"
          ],
          [
           "Kuldeep Yadav"
          ],
          [
           "L Balaji"
          ],
          [
           "LA Pomersbach"
          ],
          [
           "LMP Simmons"
          ],
          [
           "LR Shukla"
          ],
          [
           "LRPL Taylor"
          ],
          [
           "M Kaif"
          ],
          [
           "M Kartik"
          ],
          [
           "M Manhas"
          ],
          [
           "M Morkel"
          ],
          [
           "M Rawat"
          ],
          [
           "M Vijay"
          ],
          [
           "M Vohra"
          ],
          [
           "MA Agarwal"
          ],
          [
           "MA Starc"
          ],
          [
           "MC Henriques"
          ],
          [
           "MD Mishra"
          ],
          [
           "MEK Hussey"
          ],
          [
           "MF Maharoof"
          ],
          [
           "MG Johnson"
          ],
          [
           "MJ Guptill"
          ],
          [
           "MJ Lumb"
          ],
          [
           "MJ McClenaghan"
          ],
          [
           "MK Pandey"
          ],
          [
           "MK Tiwary"
          ],
          [
           "ML Hayden"
          ],
          [
           "MM Ali"
          ],
          [
           "MM Patel"
          ],
          [
           "MM Sharma"
          ],
          [
           "MN Samuels"
          ],
          [
           "MP Stoinis"
          ],
          [
           "MR Marsh"
          ],
          [
           "MS Bisla"
          ],
          [
           "MS Dhoni"
          ],
          [
           "MS Gony"
          ],
          [
           "MV Boucher"
          ],
          [
           "Mandeep Singh"
          ],
          [
           "Mohammad Nabi"
          ],
          [
           "Mohammed Shami"
          ],
          [
           "N Pooran"
          ],
          [
           "N Rana"
          ],
          [
           "N Saini"
          ],
          [
           "NLTC Perera"
          ],
          [
           "NM Coulter-Nile"
          ],
          [
           "NV Ojha"
          ],
          [
           "OA Shah"
          ],
          [
           "P Dogra"
          ],
          [
           "P Kumar"
          ],
          [
           "P Negi"
          ],
          [
           "PA Patel"
          ],
          [
           "PA Reddy"
          ],
          [
           "PC Valthaty"
          ],
          [
           "PJ Cummins"
          ],
          [
           "PJ Sangwan"
          ],
          [
           "PK Garg"
          ],
          [
           "PP Chawla"
          ],
          [
           "PP Ojha"
          ],
          [
           "PP Shaw"
          ],
          [
           "Q de Kock"
          ],
          [
           "R Ashwin"
          ],
          [
           "R Bhatia"
          ],
          [
           "R Dhawan"
          ],
          [
           "R Dravid"
          ],
          [
           "R McLaren"
          ],
          [
           "R Parag"
          ],
          [
           "R Sathish"
          ],
          [
           "R Sharma"
          ],
          [
           "R Tewatia"
          ],
          [
           "R Vinay Kumar"
          ],
          [
           "RA Jadeja"
          ],
          [
           "RA Tripathi"
          ],
          [
           "RE van der Merwe"
          ],
          [
           "RG Sharma"
          ],
          [
           "RJ Harris"
          ],
          [
           "RN ten Doeschate"
          ],
          [
           "RP Singh"
          ],
          [
           "RR Pant"
          ],
          [
           "RS Bopara"
          ],
          [
           "RV Uthappa"
          ],
          [
           "Rashid Khan"
          ],
          [
           "S Anirudha"
          ],
          [
           "S Aravind"
          ],
          [
           "S Badrinath"
          ],
          [
           "S Dhawan"
          ],
          [
           "S Dube"
          ],
          [
           "S Gopal"
          ],
          [
           "S Nadeem"
          ],
          [
           "S Sohal"
          ],
          [
           "S Sreesanth"
          ],
          [
           "SA Asnodkar"
          ],
          [
           "SA Yadav"
          ],
          [
           "SB Styris"
          ],
          [
           "SC Ganguly"
          ],
          [
           "SE Marsh"
          ],
          [
           "SK Raina"
          ],
          [
           "SK Trivedi"
          ],
          [
           "SK Warne"
          ],
          [
           "SL Malinga"
          ],
          [
           "SM Curran"
          ],
          [
           "SM Katich"
          ],
          [
           "SN Khan"
          ],
          [
           "SO Hetmyer"
          ],
          [
           "SP Fleming"
          ],
          [
           "SP Goswami"
          ],
          [
           "SP Narine"
          ],
          [
           "SPD Smith"
          ],
          [
           "SR Tendulkar"
          ],
          [
           "SR Watson"
          ],
          [
           "SS Iyer"
          ],
          [
           "SS Tiwary"
          ],
          [
           "ST Jayasuriya"
          ],
          [
           "STR Binny"
          ],
          [
           "SV Samson"
          ],
          [
           "SW Billings"
          ],
          [
           "Sachin Baby"
          ],
          [
           "Sandeep Sharma"
          ],
          [
           "Shakib Al Hasan"
          ],
          [
           "Shubman Gill"
          ],
          [
           "TG Southee"
          ],
          [
           "TL Suman"
          ],
          [
           "TM Dilshan"
          ],
          [
           "TM Head"
          ],
          [
           "UBT Chand"
          ],
          [
           "UT Yadav"
          ],
          [
           "V Kohli"
          ],
          [
           "V Sehwag"
          ],
          [
           "V Shankar"
          ],
          [
           "VR Aaron"
          ],
          [
           "VVS Laxman"
          ],
          [
           "WD Parnell"
          ],
          [
           "WP Saha"
          ],
          [
           "WPUJC Vaas"
          ],
          [
           "Washington Sundar"
          ],
          [
           "Y Nagar"
          ],
          [
           "Y Venugopal Rao"
          ],
          [
           "YK Pathan"
          ],
          [
           "YS Chahal"
          ],
          [
           "YV Takawale"
          ],
          [
           "Yuvraj Singh"
          ],
          [
           "Z Khan"
          ]
         ],
         "hovertemplate": "runs=%{x}<br>wickets=%{y}<br>catches=%{marker.size}<br>name=%{customdata[0]}<br>cluster_kmeans=%{marker.color}<extra></extra>",
         "legendgroup": "",
         "marker": {
          "color": [
           7,
           5,
           3,
           5,
           0,
           7,
           1,
           5,
           6,
           2,
           7,
           1,
           4,
           0,
           0,
           1,
           7,
           7,
           2,
           4,
           3,
           7,
           2,
           7,
           7,
           7,
           7,
           7,
           3,
           1,
           0,
           2,
           7,
           0,
           7,
           7,
           7,
           4,
           4,
           4,
           6,
           1,
           7,
           7,
           4,
           7,
           7,
           4,
           2,
           6,
           4,
           7,
           4,
           3,
           7,
           0,
           7,
           1,
           1,
           2,
           0,
           5,
           1,
           3,
           4,
           4,
           0,
           7,
           2,
           4,
           7,
           4,
           0,
           7,
           4,
           0,
           4,
           1,
           3,
           5,
           3,
           1,
           4,
           1,
           3,
           1,
           2,
           7,
           5,
           7,
           7,
           0,
           5,
           4,
           0,
           1,
           7,
           7,
           7,
           1,
           6,
           2,
           2,
           1,
           1,
           4,
           2,
           4,
           7,
           0,
           1,
           5,
           5,
           4,
           0,
           7,
           7,
           4,
           1,
           7,
           1,
           4,
           2,
           4,
           2,
           1,
           1,
           4,
           2,
           7,
           5,
           4,
           4,
           1,
           2,
           0,
           4,
           7,
           5,
           5,
           7,
           7,
           7,
           4,
           6,
           1,
           4,
           0,
           7,
           5,
           4,
           0,
           4,
           1,
           1,
           2,
           4,
           4,
           3,
           1,
           2,
           4,
           7,
           1,
           5,
           4,
           3,
           5,
           4,
           2,
           3,
           1,
           7,
           2,
           7,
           7,
           7,
           5,
           7,
           3,
           3,
           7,
           7,
           6,
           1,
           7,
           5,
           2,
           7,
           6,
           1,
           4,
           1,
           4,
           6,
           7,
           1,
           5,
           4,
           5,
           4,
           0,
           7,
           0,
           2,
           6,
           5,
           5,
           3,
           7,
           4,
           7,
           4,
           4,
           4,
           3,
           2,
           0,
           6,
           2,
           4,
           7,
           7,
           2,
           4,
           7,
           5,
           1,
           4,
           1,
           7,
           7,
           7,
           4,
           3,
           6,
           0,
           7,
           5,
           4,
           1,
           2,
           7,
           1,
           7,
           7,
           6,
           5,
           4,
           0,
           5
          ],
          "coloraxis": "coloraxis",
          "size": [
           9,
           10,
           21,
           19,
           21,
           10,
           5,
           7,
           103,
           51,
           3,
           19,
           2,
           23,
           27,
           7,
           5,
           13,
           58,
           3,
           40,
           9,
           56,
           3,
           4,
           8,
           3,
           3,
           27,
           10,
           20,
           37,
           10,
           22,
           7,
           4,
           6,
           1,
           10,
           6,
           26,
           34,
           11,
           22,
           3,
           5,
           7,
           8,
           49,
           66,
           7,
           11,
           12,
           75,
           25,
           25,
           9,
           7,
           11,
           32,
           41,
           22,
           19,
           24,
           6,
           27,
           54,
           6,
           28,
           7,
           6,
           11,
           30,
           19,
           22,
           49,
           0,
           12,
           48,
           16,
           31,
           14,
           16,
           18,
           19,
           9,
           31,
           10,
           23,
           8,
           6,
           31,
           9,
           16,
           30,
           16,
           6,
           9,
           10,
           14,
           90,
           45,
           118,
           22,
           12,
           22,
           39,
           28,
           12,
           22,
           14,
           13,
           11,
           7,
           10,
           14,
           18,
           15,
           20,
           20,
           11,
           16,
           47,
           13,
           35,
           16,
           27,
           1,
           26,
           4,
           15,
           7,
           5,
           1,
           70,
           46,
           11,
           4,
           15,
           18,
           2,
           10,
           7,
           20,
           113,
           6,
           14,
           36,
           6,
           10,
           8,
           11,
           11,
           12,
           10,
           65,
           7,
           4,
           14,
           15,
           69,
           2,
           3,
           5,
           6,
           6,
           40,
           14,
           10,
           49,
           34,
           25,
           6,
           18,
           5,
           6,
           6,
           12,
           17,
           35,
           68,
           15,
           8,
           89,
           20,
           8,
           29,
           46,
           7,
           87,
           18,
           11,
           8,
           16,
           73,
           3,
           11,
           15,
           2,
           3,
           6,
           48,
           2,
           22,
           26,
           102,
           14,
           16,
           21,
           9,
           2,
           4,
           10,
           2,
           17,
           19,
           44,
           23,
           40,
           28,
           24,
           4,
           19,
           52,
           13,
           5,
           11,
           11,
           17,
           17,
           10,
           20,
           3,
           8,
           29,
           76,
           34,
           18,
           3,
           4,
           5,
           62,
           0,
           7,
           6,
           13,
           43,
           20,
           13,
           31,
           21
          ],
          "sizemode": "area",
          "sizeref": 0.295,
          "symbol": "circle"
         },
         "mode": "markers",
         "name": "",
         "orientation": "v",
         "showlegend": false,
         "type": "scatter",
         "x": [
          280,
          35,
          362,
          41,
          974,
          217,
          179,
          26,
          4849,
          2069,
          79,
          724,
          90,
          1517,
          2005,
          91,
          401,
          672,
          3933,
          339,
          913,
          194,
          3659,
          143,
          87,
          388,
          76,
          280,
          183,
          124,
          920,
          2880,
          238,
          1400,
          187,
          177,
          303,
          205,
          1280,
          390,
          4772,
          551,
          538,
          954,
          169,
          181,
          63,
          473,
          1850,
          5254,
          304,
          375,
          170,
          1490,
          625,
          1322,
          295,
          78,
          121,
          1802,
          2385,
          104,
          446,
          167,
          430,
          1272,
          2302,
          183,
          4217,
          739,
          284,
          663,
          1505,
          511,
          886,
          1349,
          577,
          128,
          829,
          55,
          1139,
          88,
          1211,
          409,
          974,
          195,
          1714,
          604,
          64,
          106,
          327,
          2427,
          40,
          790,
          2029,
          527,
          417,
          218,
          186,
          125,
          3023,
          1687,
          3823,
          1000,
          116,
          1480,
          2647,
          1141,
          1001,
          1619,
          317,
          57,
          36,
          302,
          1079,
          405,
          1017,
          259,
          113,
          514,
          126,
          55,
          2619,
          1012,
          1690,
          96,
          969,
          237,
          1977,
          177,
          167,
          270,
          278,
          85,
          3268,
          1695,
          1107,
          309,
          39,
          122,
          161,
          825,
          225,
          798,
          4632,
          99,
          394,
          1659,
          146,
          56,
          521,
          1437,
          140,
          422,
          77,
          1554,
          506,
          127,
          340,
          365,
          2848,
          164,
          505,
          223,
          24,
          133,
          584,
          16,
          826,
          1959,
          412,
          342,
          153,
          2174,
          159,
          246,
          270,
          66,
          366,
          310,
          2159,
          988,
          159,
          5230,
          117,
          326,
          52,
          2079,
          531,
          4607,
          139,
          136,
          59,
          1441,
          5197,
          169,
          164,
          39,
          368,
          34,
          423,
          2024,
          131,
          1349,
          2477,
          5368,
          42,
          198,
          88,
          281,
          241,
          441,
          275,
          196,
          293,
          892,
          2333,
          2334,
          3874,
          2200,
          1379,
          768,
          880,
          2584,
          334,
          137,
          44,
          746,
          939,
          115,
          676,
          1153,
          205,
          300,
          122,
          5878,
          2728,
          654,
          50,
          282,
          63,
          1979,
          81,
          186,
          285,
          985,
          3204,
          22,
          192,
          2750,
          117
         ],
         "xaxis": "x",
         "y": [
          18,
          45,
          160,
          106,
          20,
          1,
          29,
          69,
          0,
          1,
          19,
          27,
          0,
          61,
          1,
          40,
          3,
          9,
          1,
          0,
          80,
          0,
          0,
          3,
          12,
          29,
          6,
          0,
          136,
          25,
          28,
          0,
          10,
          17,
          17,
          0,
          6,
          0,
          0,
          0,
          18,
          80,
          11,
          1,
          0,
          13,
          25,
          0,
          0,
          0,
          0,
          1,
          0,
          153,
          7,
          8,
          11,
          45,
          28,
          0,
          26,
          86,
          34,
          97,
          0,
          0,
          0,
          0,
          0,
          0,
          1,
          0,
          19,
          5,
          0,
          42,
          0,
          46,
          150,
          71,
          80,
          40,
          0,
          25,
          85,
          46,
          0,
          8,
          81,
          9,
          9,
          65,
          109,
          0,
          23,
          59,
          14,
          0,
          13,
          61,
          60,
          0,
          0,
          46,
          33,
          0,
          0,
          0,
          7,
          0,
          59,
          40,
          76,
          0,
          1,
          15,
          0,
          0,
          31,
          0,
          77,
          0,
          0,
          0,
          0,
          34,
          38,
          0,
          0,
          27,
          61,
          0,
          0,
          71,
          0,
          1,
          0,
          10,
          74,
          92,
          9,
          28,
          20,
          0,
          0,
          37,
          0,
          0,
          11,
          60,
          0,
          7,
          0,
          31,
          41,
          0,
          0,
          0,
          90,
          34,
          0,
          0,
          7,
          29,
          35,
          0,
          156,
          89,
          0,
          0,
          138,
          71,
          18,
          0,
          12,
          2,
          3,
          40,
          24,
          105,
          114,
          0,
          21,
          15,
          45,
          2,
          90,
          0,
          11,
          0,
          75,
          0,
          45,
          0,
          4,
          4,
          48,
          47,
          0,
          40,
          0,
          0,
          8,
          10,
          0,
          25,
          65,
          57,
          170,
          23,
          0,
          0,
          0,
          0,
          0,
          127,
          0,
          0,
          92,
          0,
          0,
          13,
          22,
          0,
          0,
          2,
          109,
          59,
          0,
          28,
          6,
          5,
          2,
          0,
          119,
          4,
          6,
          6,
          42,
          0,
          26,
          0,
          18,
          24,
          4,
          6,
          42,
          121,
          0,
          36,
          102
         ],
         "yaxis": "y"
        }
       ],
       "layout": {
        "coloraxis": {
         "colorbar": {
          "title": {
           "text": "cluster_kmeans"
          }
         },
         "colorscale": [
          [
           0,
           "#0d0887"
          ],
          [
           0.1111111111111111,
           "#46039f"
          ],
          [
           0.2222222222222222,
           "#7201a8"
          ],
          [
           0.3333333333333333,
           "#9c179e"
          ],
          [
           0.4444444444444444,
           "#bd3786"
          ],
          [
           0.5555555555555556,
           "#d8576b"
          ],
          [
           0.6666666666666666,
           "#ed7953"
          ],
          [
           0.7777777777777778,
           "#fb9f3a"
          ],
          [
           0.8888888888888888,
           "#fdca26"
          ],
          [
           1,
           "#f0f921"
          ]
         ]
        },
        "legend": {
         "itemsizing": "constant",
         "tracegroupgap": 0
        },
        "template": {
         "data": {
          "bar": [
           {
            "error_x": {
             "color": "#2a3f5f"
            },
            "error_y": {
             "color": "#2a3f5f"
            },
            "marker": {
             "line": {
              "color": "#E5ECF6",
              "width": 0.5
             }
            },
            "type": "bar"
           }
          ],
          "barpolar": [
           {
            "marker": {
             "line": {
              "color": "#E5ECF6",
              "width": 0.5
             }
            },
            "type": "barpolar"
           }
          ],
          "carpet": [
           {
            "aaxis": {
             "endlinecolor": "#2a3f5f",
             "gridcolor": "white",
             "linecolor": "white",
             "minorgridcolor": "white",
             "startlinecolor": "#2a3f5f"
            },
            "baxis": {
             "endlinecolor": "#2a3f5f",
             "gridcolor": "white",
             "linecolor": "white",
             "minorgridcolor": "white",
             "startlinecolor": "#2a3f5f"
            },
            "type": "carpet"
           }
          ],
          "choropleth": [
           {
            "colorbar": {
             "outlinewidth": 0,
             "ticks": ""
            },
            "type": "choropleth"
           }
          ],
          "contour": [
           {
            "colorbar": {
             "outlinewidth": 0,
             "ticks": ""
            },
            "colorscale": [
             [
              0,
              "#0d0887"
             ],
             [
              0.1111111111111111,
              "#46039f"
             ],
             [
              0.2222222222222222,
              "#7201a8"
             ],
             [
              0.3333333333333333,
              "#9c179e"
             ],
             [
              0.4444444444444444,
              "#bd3786"
             ],
             [
              0.5555555555555556,
              "#d8576b"
             ],
             [
              0.6666666666666666,
              "#ed7953"
             ],
             [
              0.7777777777777778,
              "#fb9f3a"
             ],
             [
              0.8888888888888888,
              "#fdca26"
             ],
             [
              1,
              "#f0f921"
             ]
            ],
            "type": "contour"
           }
          ],
          "contourcarpet": [
           {
            "colorbar": {
             "outlinewidth": 0,
             "ticks": ""
            },
            "type": "contourcarpet"
           }
          ],
          "heatmap": [
           {
            "colorbar": {
             "outlinewidth": 0,
             "ticks": ""
            },
            "colorscale": [
             [
              0,
              "#0d0887"
             ],
             [
              0.1111111111111111,
              "#46039f"
             ],
             [
              0.2222222222222222,
              "#7201a8"
             ],
             [
              0.3333333333333333,
              "#9c179e"
             ],
             [
              0.4444444444444444,
              "#bd3786"
             ],
             [
              0.5555555555555556,
              "#d8576b"
             ],
             [
              0.6666666666666666,
              "#ed7953"
             ],
             [
              0.7777777777777778,
              "#fb9f3a"
             ],
             [
              0.8888888888888888,
              "#fdca26"
             ],
             [
              1,
              "#f0f921"
             ]
            ],
            "type": "heatmap"
           }
          ],
          "heatmapgl": [
           {
            "colorbar": {
             "outlinewidth": 0,
             "ticks": ""
            },
            "colorscale": [
             [
              0,
              "#0d0887"
             ],
             [
              0.1111111111111111,
              "#46039f"
             ],
             [
              0.2222222222222222,
              "#7201a8"
             ],
             [
              0.3333333333333333,
              "#9c179e"
             ],
             [
              0.4444444444444444,
              "#bd3786"
             ],
             [
              0.5555555555555556,
              "#d8576b"
             ],
             [
              0.6666666666666666,
              "#ed7953"
             ],
             [
              0.7777777777777778,
              "#fb9f3a"
             ],
             [
              0.8888888888888888,
              "#fdca26"
             ],
             [
              1,
              "#f0f921"
             ]
            ],
            "type": "heatmapgl"
           }
          ],
          "histogram": [
           {
            "marker": {
             "colorbar": {
              "outlinewidth": 0,
              "ticks": ""
             }
            },
            "type": "histogram"
           }
          ],
          "histogram2d": [
           {
            "colorbar": {
             "outlinewidth": 0,
             "ticks": ""
            },
            "colorscale": [
             [
              0,
              "#0d0887"
             ],
             [
              0.1111111111111111,
              "#46039f"
             ],
             [
              0.2222222222222222,
              "#7201a8"
             ],
             [
              0.3333333333333333,
              "#9c179e"
             ],
             [
              0.4444444444444444,
              "#bd3786"
             ],
             [
              0.5555555555555556,
              "#d8576b"
             ],
             [
              0.6666666666666666,
              "#ed7953"
             ],
             [
              0.7777777777777778,
              "#fb9f3a"
             ],
             [
              0.8888888888888888,
              "#fdca26"
             ],
             [
              1,
              "#f0f921"
             ]
            ],
            "type": "histogram2d"
           }
          ],
          "histogram2dcontour": [
           {
            "colorbar": {
             "outlinewidth": 0,
             "ticks": ""
            },
            "colorscale": [
             [
              0,
              "#0d0887"
             ],
             [
              0.1111111111111111,
              "#46039f"
             ],
             [
              0.2222222222222222,
              "#7201a8"
             ],
             [
              0.3333333333333333,
              "#9c179e"
             ],
             [
              0.4444444444444444,
              "#bd3786"
             ],
             [
              0.5555555555555556,
              "#d8576b"
             ],
             [
              0.6666666666666666,
              "#ed7953"
             ],
             [
              0.7777777777777778,
              "#fb9f3a"
             ],
             [
              0.8888888888888888,
              "#fdca26"
             ],
             [
              1,
              "#f0f921"
             ]
            ],
            "type": "histogram2dcontour"
           }
          ],
          "mesh3d": [
           {
            "colorbar": {
             "outlinewidth": 0,
             "ticks": ""
            },
            "type": "mesh3d"
           }
          ],
          "parcoords": [
           {
            "line": {
             "colorbar": {
              "outlinewidth": 0,
              "ticks": ""
             }
            },
            "type": "parcoords"
           }
          ],
          "pie": [
           {
            "automargin": true,
            "type": "pie"
           }
          ],
          "scatter": [
           {
            "marker": {
             "colorbar": {
              "outlinewidth": 0,
              "ticks": ""
             }
            },
            "type": "scatter"
           }
          ],
          "scatter3d": [
           {
            "line": {
             "colorbar": {
              "outlinewidth": 0,
              "ticks": ""
             }
            },
            "marker": {
             "colorbar": {
              "outlinewidth": 0,
              "ticks": ""
             }
            },
            "type": "scatter3d"
           }
          ],
          "scattercarpet": [
           {
            "marker": {
             "colorbar": {
              "outlinewidth": 0,
              "ticks": ""
             }
            },
            "type": "scattercarpet"
           }
          ],
          "scattergeo": [
           {
            "marker": {
             "colorbar": {
              "outlinewidth": 0,
              "ticks": ""
             }
            },
            "type": "scattergeo"
           }
          ],
          "scattergl": [
           {
            "marker": {
             "colorbar": {
              "outlinewidth": 0,
              "ticks": ""
             }
            },
            "type": "scattergl"
           }
          ],
          "scattermapbox": [
           {
            "marker": {
             "colorbar": {
              "outlinewidth": 0,
              "ticks": ""
             }
            },
            "type": "scattermapbox"
           }
          ],
          "scatterpolar": [
           {
            "marker": {
             "colorbar": {
              "outlinewidth": 0,
              "ticks": ""
             }
            },
            "type": "scatterpolar"
           }
          ],
          "scatterpolargl": [
           {
            "marker": {
             "colorbar": {
              "outlinewidth": 0,
              "ticks": ""
             }
            },
            "type": "scatterpolargl"
           }
          ],
          "scatterternary": [
           {
            "marker": {
             "colorbar": {
              "outlinewidth": 0,
              "ticks": ""
             }
            },
            "type": "scatterternary"
           }
          ],
          "surface": [
           {
            "colorbar": {
             "outlinewidth": 0,
             "ticks": ""
            },
            "colorscale": [
             [
              0,
              "#0d0887"
             ],
             [
              0.1111111111111111,
              "#46039f"
             ],
             [
              0.2222222222222222,
              "#7201a8"
             ],
             [
              0.3333333333333333,
              "#9c179e"
             ],
             [
              0.4444444444444444,
              "#bd3786"
             ],
             [
              0.5555555555555556,
              "#d8576b"
             ],
             [
              0.6666666666666666,
              "#ed7953"
             ],
             [
              0.7777777777777778,
              "#fb9f3a"
             ],
             [
              0.8888888888888888,
              "#fdca26"
             ],
             [
              1,
              "#f0f921"
             ]
            ],
            "type": "surface"
           }
          ],
          "table": [
           {
            "cells": {
             "fill": {
              "color": "#EBF0F8"
             },
             "line": {
              "color": "white"
             }
            },
            "header": {
             "fill": {
              "color": "#C8D4E3"
             },
             "line": {
              "color": "white"
             }
            },
            "type": "table"
           }
          ]
         },
         "layout": {
          "annotationdefaults": {
           "arrowcolor": "#2a3f5f",
           "arrowhead": 0,
           "arrowwidth": 1
          },
          "coloraxis": {
           "colorbar": {
            "outlinewidth": 0,
            "ticks": ""
           }
          },
          "colorscale": {
           "diverging": [
            [
             0,
             "#8e0152"
            ],
            [
             0.1,
             "#c51b7d"
            ],
            [
             0.2,
             "#de77ae"
            ],
            [
             0.3,
             "#f1b6da"
            ],
            [
             0.4,
             "#fde0ef"
            ],
            [
             0.5,
             "#f7f7f7"
            ],
            [
             0.6,
             "#e6f5d0"
            ],
            [
             0.7,
             "#b8e186"
            ],
            [
             0.8,
             "#7fbc41"
            ],
            [
             0.9,
             "#4d9221"
            ],
            [
             1,
             "#276419"
            ]
           ],
           "sequential": [
            [
             0,
             "#0d0887"
            ],
            [
             0.1111111111111111,
             "#46039f"
            ],
            [
             0.2222222222222222,
             "#7201a8"
            ],
            [
             0.3333333333333333,
             "#9c179e"
            ],
            [
             0.4444444444444444,
             "#bd3786"
            ],
            [
             0.5555555555555556,
             "#d8576b"
            ],
            [
             0.6666666666666666,
             "#ed7953"
            ],
            [
             0.7777777777777778,
             "#fb9f3a"
            ],
            [
             0.8888888888888888,
             "#fdca26"
            ],
            [
             1,
             "#f0f921"
            ]
           ],
           "sequentialminus": [
            [
             0,
             "#0d0887"
            ],
            [
             0.1111111111111111,
             "#46039f"
            ],
            [
             0.2222222222222222,
             "#7201a8"
            ],
            [
             0.3333333333333333,
             "#9c179e"
            ],
            [
             0.4444444444444444,
             "#bd3786"
            ],
            [
             0.5555555555555556,
             "#d8576b"
            ],
            [
             0.6666666666666666,
             "#ed7953"
            ],
            [
             0.7777777777777778,
             "#fb9f3a"
            ],
            [
             0.8888888888888888,
             "#fdca26"
            ],
            [
             1,
             "#f0f921"
            ]
           ]
          },
          "colorway": [
           "#636efa",
           "#EF553B",
           "#00cc96",
           "#ab63fa",
           "#FFA15A",
           "#19d3f3",
           "#FF6692",
           "#B6E880",
           "#FF97FF",
           "#FECB52"
          ],
          "font": {
           "color": "#2a3f5f"
          },
          "geo": {
           "bgcolor": "white",
           "lakecolor": "white",
           "landcolor": "#E5ECF6",
           "showlakes": true,
           "showland": true,
           "subunitcolor": "white"
          },
          "hoverlabel": {
           "align": "left"
          },
          "hovermode": "closest",
          "mapbox": {
           "style": "light"
          },
          "paper_bgcolor": "white",
          "plot_bgcolor": "#E5ECF6",
          "polar": {
           "angularaxis": {
            "gridcolor": "white",
            "linecolor": "white",
            "ticks": ""
           },
           "bgcolor": "#E5ECF6",
           "radialaxis": {
            "gridcolor": "white",
            "linecolor": "white",
            "ticks": ""
           }
          },
          "scene": {
           "xaxis": {
            "backgroundcolor": "#E5ECF6",
            "gridcolor": "white",
            "gridwidth": 2,
            "linecolor": "white",
            "showbackground": true,
            "ticks": "",
            "zerolinecolor": "white"
           },
           "yaxis": {
            "backgroundcolor": "#E5ECF6",
            "gridcolor": "white",
            "gridwidth": 2,
            "linecolor": "white",
            "showbackground": true,
            "ticks": "",
            "zerolinecolor": "white"
           },
           "zaxis": {
            "backgroundcolor": "#E5ECF6",
            "gridcolor": "white",
            "gridwidth": 2,
            "linecolor": "white",
            "showbackground": true,
            "ticks": "",
            "zerolinecolor": "white"
           }
          },
          "shapedefaults": {
           "line": {
            "color": "#2a3f5f"
           }
          },
          "ternary": {
           "aaxis": {
            "gridcolor": "white",
            "linecolor": "white",
            "ticks": ""
           },
           "baxis": {
            "gridcolor": "white",
            "linecolor": "white",
            "ticks": ""
           },
           "bgcolor": "#E5ECF6",
           "caxis": {
            "gridcolor": "white",
            "linecolor": "white",
            "ticks": ""
           }
          },
          "title": {
           "x": 0.05
          },
          "xaxis": {
           "automargin": true,
           "gridcolor": "white",
           "linecolor": "white",
           "ticks": "",
           "title": {
            "standoff": 15
           },
           "zerolinecolor": "white",
           "zerolinewidth": 2
          },
          "yaxis": {
           "automargin": true,
           "gridcolor": "white",
           "linecolor": "white",
           "ticks": "",
           "title": {
            "standoff": 15
           },
           "zerolinecolor": "white",
           "zerolinewidth": 2
          }
         }
        },
        "title": {
         "text": "Scatter Plot: Runs vs Wickets, Size = catches"
        },
        "xaxis": {
         "anchor": "y",
         "domain": [
          0,
          1
         ],
         "title": {
          "text": "runs"
         }
        },
        "yaxis": {
         "anchor": "x",
         "domain": [
          0,
          1
         ],
         "title": {
          "text": "wickets"
         }
        }
       }
      },
      "text/html": [
       "<div>                            <div id=\"2bf35c89-7ff9-4f57-b0f5-0d3a5ff3e63e\" class=\"plotly-graph-div\" style=\"height:525px; width:100%;\"></div>            <script type=\"text/javascript\">                require([\"plotly\"], function(Plotly) {                    window.PLOTLYENV=window.PLOTLYENV || {};                                    if (document.getElementById(\"2bf35c89-7ff9-4f57-b0f5-0d3a5ff3e63e\")) {                    Plotly.newPlot(                        \"2bf35c89-7ff9-4f57-b0f5-0d3a5ff3e63e\",                        [{\"customdata\": [[\"A Ashish Reddy\"], [\"A Kumble\"], [\"A Mishra\"], [\"A Nehra\"], [\"A Symonds\"], [\"AA Jhunjhunwala\"], [\"AB Agarkar\"], [\"AB Dinda\"], [\"AB de Villiers\"], [\"AC Gilchrist\"], [\"AD Mascarenhas\"], [\"AD Mathews\"], [\"AD Nath\"], [\"AD Russell\"], [\"AJ Finch\"], [\"AJ Tye\"], [\"AL Menaria\"], [\"AM Nayar\"], [\"AM Rahane\"], [\"AP Tare\"], [\"AR Patel\"], [\"AS Raut\"], [\"AT Rayudu\"], [\"Abhishek Sharma\"], [\"Ankit Sharma\"], [\"Azhar Mahmood\"], [\"B Akhil\"], [\"B Chipli\"], [\"B Kumar\"], [\"B Lee\"], [\"BA Stokes\"], [\"BB McCullum\"], [\"BCJ Cutting\"], [\"BJ Hodge\"], [\"Bipul Sharma\"], [\"C Munro\"], [\"C de Grandhomme\"], [\"CA Ingram\"], [\"CA Lynn\"], [\"CA Pujara\"], [\"CH Gayle\"], [\"CH Morris\"], [\"CJ Anderson\"], [\"CL White\"], [\"CM Gautam\"], [\"CR Brathwaite\"], [\"CR Woakes\"], [\"D Padikkal\"], [\"DA Miller\"], [\"DA Warner\"], [\"DB Das\"], [\"DB Ravi Teja\"], [\"DH Yagnik\"], [\"DJ Bravo\"], [\"DJ Hooda\"], [\"DJ Hussey\"], [\"DJG Sammy\"], [\"DL Chahar\"], [\"DL Vettori\"], [\"DPMD Jayawardene\"], [\"DR Smith\"], [\"DS Kulkarni\"], [\"DT Christian\"], [\"DW Steyn\"], [\"E Lewis\"], [\"EJG Morgan\"], [\"F du Plessis\"], [\"FY Fazal\"], [\"G Gambhir\"], [\"GC Smith\"], [\"GH Vihari\"], [\"GJ Bailey\"], [\"GJ Maxwell\"], [\"Gurkeerat Singh\"], [\"HH Gibbs\"], [\"HH Pandya\"], [\"HM Amla\"], [\"HV Patel\"], [\"Harbhajan Singh\"], [\"I Sharma\"], [\"IK Pathan\"], [\"Iqbal Abdulla\"], [\"Ishan Kishan\"], [\"J Botha\"], [\"JA Morkel\"], [\"JC Archer\"], [\"JC Buttler\"], [\"JD Ryder\"], [\"JD Unadkat\"], [\"JDP Oram\"], [\"JEC Franklin\"], [\"JH Kallis\"], [\"JJ Bumrah\"], [\"JM Bairstow\"], [\"JP Duminy\"], [\"JP Faulkner\"], [\"JR Hopes\"], [\"K Goel\"], [\"K Gowtham\"], [\"K Rabada\"], [\"KA Pollard\"], [\"KC Sangakkara\"], [\"KD Karthik\"], [\"KH Pandya\"], [\"KK Cooper\"], [\"KK Nair\"], [\"KL Rahul\"], [\"KM Jadhav\"], [\"KP Pietersen\"], [\"KS Williamson\"], [\"KV Sharma\"], [\"Kuldeep Yadav\"], [\"L Balaji\"], [\"LA Pomersbach\"], [\"LMP Simmons\"], [\"LR Shukla\"], [\"LRPL Taylor\"], [\"M Kaif\"], [\"M Kartik\"], [\"M Manhas\"], [\"M Morkel\"], [\"M Rawat\"], [\"M Vijay\"], [\"M Vohra\"], [\"MA Agarwal\"], [\"MA Starc\"], [\"MC Henriques\"], [\"MD Mishra\"], [\"MEK Hussey\"], [\"MF Maharoof\"], [\"MG Johnson\"], [\"MJ Guptill\"], [\"MJ Lumb\"], [\"MJ McClenaghan\"], [\"MK Pandey\"], [\"MK Tiwary\"], [\"ML Hayden\"], [\"MM Ali\"], [\"MM Patel\"], [\"MM Sharma\"], [\"MN Samuels\"], [\"MP Stoinis\"], [\"MR Marsh\"], [\"MS Bisla\"], [\"MS Dhoni\"], [\"MS Gony\"], [\"MV Boucher\"], [\"Mandeep Singh\"], [\"Mohammad Nabi\"], [\"Mohammed Shami\"], [\"N Pooran\"], [\"N Rana\"], [\"N Saini\"], [\"NLTC Perera\"], [\"NM Coulter-Nile\"], [\"NV Ojha\"], [\"OA Shah\"], [\"P Dogra\"], [\"P Kumar\"], [\"P Negi\"], [\"PA Patel\"], [\"PA Reddy\"], [\"PC Valthaty\"], [\"PJ Cummins\"], [\"PJ Sangwan\"], [\"PK Garg\"], [\"PP Chawla\"], [\"PP Ojha\"], [\"PP Shaw\"], [\"Q de Kock\"], [\"R Ashwin\"], [\"R Bhatia\"], [\"R Dhawan\"], [\"R Dravid\"], [\"R McLaren\"], [\"R Parag\"], [\"R Sathish\"], [\"R Sharma\"], [\"R Tewatia\"], [\"R Vinay Kumar\"], [\"RA Jadeja\"], [\"RA Tripathi\"], [\"RE van der Merwe\"], [\"RG Sharma\"], [\"RJ Harris\"], [\"RN ten Doeschate\"], [\"RP Singh\"], [\"RR Pant\"], [\"RS Bopara\"], [\"RV Uthappa\"], [\"Rashid Khan\"], [\"S Anirudha\"], [\"S Aravind\"], [\"S Badrinath\"], [\"S Dhawan\"], [\"S Dube\"], [\"S Gopal\"], [\"S Nadeem\"], [\"S Sohal\"], [\"S Sreesanth\"], [\"SA Asnodkar\"], [\"SA Yadav\"], [\"SB Styris\"], [\"SC Ganguly\"], [\"SE Marsh\"], [\"SK Raina\"], [\"SK Trivedi\"], [\"SK Warne\"], [\"SL Malinga\"], [\"SM Curran\"], [\"SM Katich\"], [\"SN Khan\"], [\"SO Hetmyer\"], [\"SP Fleming\"], [\"SP Goswami\"], [\"SP Narine\"], [\"SPD Smith\"], [\"SR Tendulkar\"], [\"SR Watson\"], [\"SS Iyer\"], [\"SS Tiwary\"], [\"ST Jayasuriya\"], [\"STR Binny\"], [\"SV Samson\"], [\"SW Billings\"], [\"Sachin Baby\"], [\"Sandeep Sharma\"], [\"Shakib Al Hasan\"], [\"Shubman Gill\"], [\"TG Southee\"], [\"TL Suman\"], [\"TM Dilshan\"], [\"TM Head\"], [\"UBT Chand\"], [\"UT Yadav\"], [\"V Kohli\"], [\"V Sehwag\"], [\"V Shankar\"], [\"VR Aaron\"], [\"VVS Laxman\"], [\"WD Parnell\"], [\"WP Saha\"], [\"WPUJC Vaas\"], [\"Washington Sundar\"], [\"Y Nagar\"], [\"Y Venugopal Rao\"], [\"YK Pathan\"], [\"YS Chahal\"], [\"YV Takawale\"], [\"Yuvraj Singh\"], [\"Z Khan\"]], \"hovertemplate\": \"runs=%{x}<br>wickets=%{y}<br>catches=%{marker.size}<br>name=%{customdata[0]}<br>cluster_kmeans=%{marker.color}<extra></extra>\", \"legendgroup\": \"\", \"marker\": {\"color\": [7, 5, 3, 5, 0, 7, 1, 5, 6, 2, 7, 1, 4, 0, 0, 1, 7, 7, 2, 4, 3, 7, 2, 7, 7, 7, 7, 7, 3, 1, 0, 2, 7, 0, 7, 7, 7, 4, 4, 4, 6, 1, 7, 7, 4, 7, 7, 4, 2, 6, 4, 7, 4, 3, 7, 0, 7, 1, 1, 2, 0, 5, 1, 3, 4, 4, 0, 7, 2, 4, 7, 4, 0, 7, 4, 0, 4, 1, 3, 5, 3, 1, 4, 1, 3, 1, 2, 7, 5, 7, 7, 0, 5, 4, 0, 1, 7, 7, 7, 1, 6, 2, 2, 1, 1, 4, 2, 4, 7, 0, 1, 5, 5, 4, 0, 7, 7, 4, 1, 7, 1, 4, 2, 4, 2, 1, 1, 4, 2, 7, 5, 4, 4, 1, 2, 0, 4, 7, 5, 5, 7, 7, 7, 4, 6, 1, 4, 0, 7, 5, 4, 0, 4, 1, 1, 2, 4, 4, 3, 1, 2, 4, 7, 1, 5, 4, 3, 5, 4, 2, 3, 1, 7, 2, 7, 7, 7, 5, 7, 3, 3, 7, 7, 6, 1, 7, 5, 2, 7, 6, 1, 4, 1, 4, 6, 7, 1, 5, 4, 5, 4, 0, 7, 0, 2, 6, 5, 5, 3, 7, 4, 7, 4, 4, 4, 3, 2, 0, 6, 2, 4, 7, 7, 2, 4, 7, 5, 1, 4, 1, 7, 7, 7, 4, 3, 6, 0, 7, 5, 4, 1, 2, 7, 1, 7, 7, 6, 5, 4, 0, 5], \"coloraxis\": \"coloraxis\", \"size\": [9.0, 10.0, 21.0, 19.0, 21.0, 10.0, 5.0, 7.0, 103.0, 51.0, 3.0, 19.0, 2.0, 23.0, 27.0, 7.0, 5.0, 13.0, 58.0, 3.0, 40.0, 9.0, 56.0, 3.0, 4.0, 8.0, 3.0, 3.0, 27.0, 10.0, 20.0, 37.0, 10.0, 22.0, 7.0, 4.0, 6.0, 1.0, 10.0, 6.0, 26.0, 34.0, 11.0, 22.0, 3.0, 5.0, 7.0, 8.0, 49.0, 66.0, 7.0, 11.0, 12.0, 75.0, 25.0, 25.0, 9.0, 7.0, 11.0, 32.0, 41.0, 22.0, 19.0, 24.0, 6.0, 27.0, 54.0, 6.0, 28.0, 7.0, 6.0, 11.0, 30.0, 19.0, 22.0, 49.0, 0.0, 12.0, 48.0, 16.0, 31.0, 14.0, 16.0, 18.0, 19.0, 9.0, 31.0, 10.0, 23.0, 8.0, 6.0, 31.0, 9.0, 16.0, 30.0, 16.0, 6.0, 9.0, 10.0, 14.0, 90.0, 45.0, 118.0, 22.0, 12.0, 22.0, 39.0, 28.0, 12.0, 22.0, 14.0, 13.0, 11.0, 7.0, 10.0, 14.0, 18.0, 15.0, 20.0, 20.0, 11.0, 16.0, 47.0, 13.0, 35.0, 16.0, 27.0, 1.0, 26.0, 4.0, 15.0, 7.0, 5.0, 1.0, 70.0, 46.0, 11.0, 4.0, 15.0, 18.0, 2.0, 10.0, 7.0, 20.0, 113.0, 6.0, 14.0, 36.0, 6.0, 10.0, 8.0, 11.0, 11.0, 12.0, 10.0, 65.0, 7.0, 4.0, 14.0, 15.0, 69.0, 2.0, 3.0, 5.0, 6.0, 6.0, 40.0, 14.0, 10.0, 49.0, 34.0, 25.0, 6.0, 18.0, 5.0, 6.0, 6.0, 12.0, 17.0, 35.0, 68.0, 15.0, 8.0, 89.0, 20.0, 8.0, 29.0, 46.0, 7.0, 87.0, 18.0, 11.0, 8.0, 16.0, 73.0, 3.0, 11.0, 15.0, 2.0, 3.0, 6.0, 48.0, 2.0, 22.0, 26.0, 102.0, 14.0, 16.0, 21.0, 9.0, 2.0, 4.0, 10.0, 2.0, 17.0, 19.0, 44.0, 23.0, 40.0, 28.0, 24.0, 4.0, 19.0, 52.0, 13.0, 5.0, 11.0, 11.0, 17.0, 17.0, 10.0, 20.0, 3.0, 8.0, 29.0, 76.0, 34.0, 18.0, 3.0, 4.0, 5.0, 62.0, 0.0, 7.0, 6.0, 13.0, 43.0, 20.0, 13.0, 31.0, 21.0], \"sizemode\": \"area\", \"sizeref\": 0.295, \"symbol\": \"circle\"}, \"mode\": \"markers\", \"name\": \"\", \"orientation\": \"v\", \"showlegend\": false, \"type\": \"scatter\", \"x\": [280.0, 35.0, 362.0, 41.0, 974.0, 217.0, 179.0, 26.0, 4849.0, 2069.0, 79.0, 724.0, 90.0, 1517.0, 2005.0, 91.0, 401.0, 672.0, 3933.0, 339.0, 913.0, 194.0, 3659.0, 143.0, 87.0, 388.0, 76.0, 280.0, 183.0, 124.0, 920.0, 2880.0, 238.0, 1400.0, 187.0, 177.0, 303.0, 205.0, 1280.0, 390.0, 4772.0, 551.0, 538.0, 954.0, 169.0, 181.0, 63.0, 473.0, 1850.0, 5254.0, 304.0, 375.0, 170.0, 1490.0, 625.0, 1322.0, 295.0, 78.0, 121.0, 1802.0, 2385.0, 104.0, 446.0, 167.0, 430.0, 1272.0, 2302.0, 183.0, 4217.0, 739.0, 284.0, 663.0, 1505.0, 511.0, 886.0, 1349.0, 577.0, 128.0, 829.0, 55.0, 1139.0, 88.0, 1211.0, 409.0, 974.0, 195.0, 1714.0, 604.0, 64.0, 106.0, 327.0, 2427.0, 40.0, 790.0, 2029.0, 527.0, 417.0, 218.0, 186.0, 125.0, 3023.0, 1687.0, 3823.0, 1000.0, 116.0, 1480.0, 2647.0, 1141.0, 1001.0, 1619.0, 317.0, 57.0, 36.0, 302.0, 1079.0, 405.0, 1017.0, 259.0, 113.0, 514.0, 126.0, 55.0, 2619.0, 1012.0, 1690.0, 96.0, 969.0, 237.0, 1977.0, 177.0, 167.0, 270.0, 278.0, 85.0, 3268.0, 1695.0, 1107.0, 309.0, 39.0, 122.0, 161.0, 825.0, 225.0, 798.0, 4632.0, 99.0, 394.0, 1659.0, 146.0, 56.0, 521.0, 1437.0, 140.0, 422.0, 77.0, 1554.0, 506.0, 127.0, 340.0, 365.0, 2848.0, 164.0, 505.0, 223.0, 24.0, 133.0, 584.0, 16.0, 826.0, 1959.0, 412.0, 342.0, 153.0, 2174.0, 159.0, 246.0, 270.0, 66.0, 366.0, 310.0, 2159.0, 988.0, 159.0, 5230.0, 117.0, 326.0, 52.0, 2079.0, 531.0, 4607.0, 139.0, 136.0, 59.0, 1441.0, 5197.0, 169.0, 164.0, 39.0, 368.0, 34.0, 423.0, 2024.0, 131.0, 1349.0, 2477.0, 5368.0, 42.0, 198.0, 88.0, 281.0, 241.0, 441.0, 275.0, 196.0, 293.0, 892.0, 2333.0, 2334.0, 3874.0, 2200.0, 1379.0, 768.0, 880.0, 2584.0, 334.0, 137.0, 44.0, 746.0, 939.0, 115.0, 676.0, 1153.0, 205.0, 300.0, 122.0, 5878.0, 2728.0, 654.0, 50.0, 282.0, 63.0, 1979.0, 81.0, 186.0, 285.0, 985.0, 3204.0, 22.0, 192.0, 2750.0, 117.0], \"xaxis\": \"x\", \"y\": [18.0, 45.0, 160.0, 106.0, 20.0, 1.0, 29.0, 69.0, 0.0, 1.0, 19.0, 27.0, 0.0, 61.0, 1.0, 40.0, 3.0, 9.0, 1.0, 0.0, 80.0, 0.0, 0.0, 3.0, 12.0, 29.0, 6.0, 0.0, 136.0, 25.0, 28.0, 0.0, 10.0, 17.0, 17.0, 0.0, 6.0, 0.0, 0.0, 0.0, 18.0, 80.0, 11.0, 1.0, 0.0, 13.0, 25.0, 0.0, 0.0, 0.0, 0.0, 1.0, 0.0, 153.0, 7.0, 8.0, 11.0, 45.0, 28.0, 0.0, 26.0, 86.0, 34.0, 97.0, 0.0, 0.0, 0.0, 0.0, 0.0, 0.0, 1.0, 0.0, 19.0, 5.0, 0.0, 42.0, 0.0, 46.0, 150.0, 71.0, 80.0, 40.0, 0.0, 25.0, 85.0, 46.0, 0.0, 8.0, 81.0, 9.0, 9.0, 65.0, 109.0, 0.0, 23.0, 59.0, 14.0, 0.0, 13.0, 61.0, 60.0, 0.0, 0.0, 46.0, 33.0, 0.0, 0.0, 0.0, 7.0, 0.0, 59.0, 40.0, 76.0, 0.0, 1.0, 15.0, 0.0, 0.0, 31.0, 0.0, 77.0, 0.0, 0.0, 0.0, 0.0, 34.0, 38.0, 0.0, 0.0, 27.0, 61.0, 0.0, 0.0, 71.0, 0.0, 1.0, 0.0, 10.0, 74.0, 92.0, 9.0, 28.0, 20.0, 0.0, 0.0, 37.0, 0.0, 0.0, 11.0, 60.0, 0.0, 7.0, 0.0, 31.0, 41.0, 0.0, 0.0, 0.0, 90.0, 34.0, 0.0, 0.0, 7.0, 29.0, 35.0, 0.0, 156.0, 89.0, 0.0, 0.0, 138.0, 71.0, 18.0, 0.0, 12.0, 2.0, 3.0, 40.0, 24.0, 105.0, 114.0, 0.0, 21.0, 15.0, 45.0, 2.0, 90.0, 0.0, 11.0, 0.0, 75.0, 0.0, 45.0, 0.0, 4.0, 4.0, 48.0, 47.0, 0.0, 40.0, 0.0, 0.0, 8.0, 10.0, 0.0, 25.0, 65.0, 57.0, 170.0, 23.0, 0.0, 0.0, 0.0, 0.0, 0.0, 127.0, 0.0, 0.0, 92.0, 0.0, 0.0, 13.0, 22.0, 0.0, 0.0, 2.0, 109.0, 59.0, 0.0, 28.0, 6.0, 5.0, 2.0, 0.0, 119.0, 4.0, 6.0, 6.0, 42.0, 0.0, 26.0, 0.0, 18.0, 24.0, 4.0, 6.0, 42.0, 121.0, 0.0, 36.0, 102.0], \"yaxis\": \"y\"}],                        {\"coloraxis\": {\"colorbar\": {\"title\": {\"text\": \"cluster_kmeans\"}}, \"colorscale\": [[0.0, \"#0d0887\"], [0.1111111111111111, \"#46039f\"], [0.2222222222222222, \"#7201a8\"], [0.3333333333333333, \"#9c179e\"], [0.4444444444444444, \"#bd3786\"], [0.5555555555555556, \"#d8576b\"], [0.6666666666666666, \"#ed7953\"], [0.7777777777777778, \"#fb9f3a\"], [0.8888888888888888, \"#fdca26\"], [1.0, \"#f0f921\"]]}, \"legend\": {\"itemsizing\": \"constant\", \"tracegroupgap\": 0}, \"template\": {\"data\": {\"bar\": [{\"error_x\": {\"color\": \"#2a3f5f\"}, \"error_y\": {\"color\": \"#2a3f5f\"}, \"marker\": {\"line\": {\"color\": \"#E5ECF6\", \"width\": 0.5}}, \"type\": \"bar\"}], \"barpolar\": [{\"marker\": {\"line\": {\"color\": \"#E5ECF6\", \"width\": 0.5}}, \"type\": \"barpolar\"}], \"carpet\": [{\"aaxis\": {\"endlinecolor\": \"#2a3f5f\", \"gridcolor\": \"white\", \"linecolor\": \"white\", \"minorgridcolor\": \"white\", \"startlinecolor\": \"#2a3f5f\"}, \"baxis\": {\"endlinecolor\": \"#2a3f5f\", \"gridcolor\": \"white\", \"linecolor\": \"white\", \"minorgridcolor\": \"white\", \"startlinecolor\": \"#2a3f5f\"}, \"type\": \"carpet\"}], \"choropleth\": [{\"colorbar\": {\"outlinewidth\": 0, \"ticks\": \"\"}, \"type\": \"choropleth\"}], \"contour\": [{\"colorbar\": {\"outlinewidth\": 0, \"ticks\": \"\"}, \"colorscale\": [[0.0, \"#0d0887\"], [0.1111111111111111, \"#46039f\"], [0.2222222222222222, \"#7201a8\"], [0.3333333333333333, \"#9c179e\"], [0.4444444444444444, \"#bd3786\"], [0.5555555555555556, \"#d8576b\"], [0.6666666666666666, \"#ed7953\"], [0.7777777777777778, \"#fb9f3a\"], [0.8888888888888888, \"#fdca26\"], [1.0, \"#f0f921\"]], \"type\": \"contour\"}], \"contourcarpet\": [{\"colorbar\": {\"outlinewidth\": 0, \"ticks\": \"\"}, \"type\": \"contourcarpet\"}], \"heatmap\": [{\"colorbar\": {\"outlinewidth\": 0, \"ticks\": \"\"}, \"colorscale\": [[0.0, \"#0d0887\"], [0.1111111111111111, \"#46039f\"], [0.2222222222222222, \"#7201a8\"], [0.3333333333333333, \"#9c179e\"], [0.4444444444444444, \"#bd3786\"], [0.5555555555555556, \"#d8576b\"], [0.6666666666666666, \"#ed7953\"], [0.7777777777777778, \"#fb9f3a\"], [0.8888888888888888, \"#fdca26\"], [1.0, \"#f0f921\"]], \"type\": \"heatmap\"}], \"heatmapgl\": [{\"colorbar\": {\"outlinewidth\": 0, \"ticks\": \"\"}, \"colorscale\": [[0.0, \"#0d0887\"], [0.1111111111111111, \"#46039f\"], [0.2222222222222222, \"#7201a8\"], [0.3333333333333333, \"#9c179e\"], [0.4444444444444444, \"#bd3786\"], [0.5555555555555556, \"#d8576b\"], [0.6666666666666666, \"#ed7953\"], [0.7777777777777778, \"#fb9f3a\"], [0.8888888888888888, \"#fdca26\"], [1.0, \"#f0f921\"]], \"type\": \"heatmapgl\"}], \"histogram\": [{\"marker\": {\"colorbar\": {\"outlinewidth\": 0, \"ticks\": \"\"}}, \"type\": \"histogram\"}], \"histogram2d\": [{\"colorbar\": {\"outlinewidth\": 0, \"ticks\": \"\"}, \"colorscale\": [[0.0, \"#0d0887\"], [0.1111111111111111, \"#46039f\"], [0.2222222222222222, \"#7201a8\"], [0.3333333333333333, \"#9c179e\"], [0.4444444444444444, \"#bd3786\"], [0.5555555555555556, \"#d8576b\"], [0.6666666666666666, \"#ed7953\"], [0.7777777777777778, \"#fb9f3a\"], [0.8888888888888888, \"#fdca26\"], [1.0, \"#f0f921\"]], \"type\": \"histogram2d\"}], \"histogram2dcontour\": [{\"colorbar\": {\"outlinewidth\": 0, \"ticks\": \"\"}, \"colorscale\": [[0.0, \"#0d0887\"], [0.1111111111111111, \"#46039f\"], [0.2222222222222222, \"#7201a8\"], [0.3333333333333333, \"#9c179e\"], [0.4444444444444444, \"#bd3786\"], [0.5555555555555556, \"#d8576b\"], [0.6666666666666666, \"#ed7953\"], [0.7777777777777778, \"#fb9f3a\"], [0.8888888888888888, \"#fdca26\"], [1.0, \"#f0f921\"]], \"type\": \"histogram2dcontour\"}], \"mesh3d\": [{\"colorbar\": {\"outlinewidth\": 0, \"ticks\": \"\"}, \"type\": \"mesh3d\"}], \"parcoords\": [{\"line\": {\"colorbar\": {\"outlinewidth\": 0, \"ticks\": \"\"}}, \"type\": \"parcoords\"}], \"pie\": [{\"automargin\": true, \"type\": \"pie\"}], \"scatter\": [{\"marker\": {\"colorbar\": {\"outlinewidth\": 0, \"ticks\": \"\"}}, \"type\": \"scatter\"}], \"scatter3d\": [{\"line\": {\"colorbar\": {\"outlinewidth\": 0, \"ticks\": \"\"}}, \"marker\": {\"colorbar\": {\"outlinewidth\": 0, \"ticks\": \"\"}}, \"type\": \"scatter3d\"}], \"scattercarpet\": [{\"marker\": {\"colorbar\": {\"outlinewidth\": 0, \"ticks\": \"\"}}, \"type\": \"scattercarpet\"}], \"scattergeo\": [{\"marker\": {\"colorbar\": {\"outlinewidth\": 0, \"ticks\": \"\"}}, \"type\": \"scattergeo\"}], \"scattergl\": [{\"marker\": {\"colorbar\": {\"outlinewidth\": 0, \"ticks\": \"\"}}, \"type\": \"scattergl\"}], \"scattermapbox\": [{\"marker\": {\"colorbar\": {\"outlinewidth\": 0, \"ticks\": \"\"}}, \"type\": \"scattermapbox\"}], \"scatterpolar\": [{\"marker\": {\"colorbar\": {\"outlinewidth\": 0, \"ticks\": \"\"}}, \"type\": \"scatterpolar\"}], \"scatterpolargl\": [{\"marker\": {\"colorbar\": {\"outlinewidth\": 0, \"ticks\": \"\"}}, \"type\": \"scatterpolargl\"}], \"scatterternary\": [{\"marker\": {\"colorbar\": {\"outlinewidth\": 0, \"ticks\": \"\"}}, \"type\": \"scatterternary\"}], \"surface\": [{\"colorbar\": {\"outlinewidth\": 0, \"ticks\": \"\"}, \"colorscale\": [[0.0, \"#0d0887\"], [0.1111111111111111, \"#46039f\"], [0.2222222222222222, \"#7201a8\"], [0.3333333333333333, \"#9c179e\"], [0.4444444444444444, \"#bd3786\"], [0.5555555555555556, \"#d8576b\"], [0.6666666666666666, \"#ed7953\"], [0.7777777777777778, \"#fb9f3a\"], [0.8888888888888888, \"#fdca26\"], [1.0, \"#f0f921\"]], \"type\": \"surface\"}], \"table\": [{\"cells\": {\"fill\": {\"color\": \"#EBF0F8\"}, \"line\": {\"color\": \"white\"}}, \"header\": {\"fill\": {\"color\": \"#C8D4E3\"}, \"line\": {\"color\": \"white\"}}, \"type\": \"table\"}]}, \"layout\": {\"annotationdefaults\": {\"arrowcolor\": \"#2a3f5f\", \"arrowhead\": 0, \"arrowwidth\": 1}, \"coloraxis\": {\"colorbar\": {\"outlinewidth\": 0, \"ticks\": \"\"}}, \"colorscale\": {\"diverging\": [[0, \"#8e0152\"], [0.1, \"#c51b7d\"], [0.2, \"#de77ae\"], [0.3, \"#f1b6da\"], [0.4, \"#fde0ef\"], [0.5, \"#f7f7f7\"], [0.6, \"#e6f5d0\"], [0.7, \"#b8e186\"], [0.8, \"#7fbc41\"], [0.9, \"#4d9221\"], [1, \"#276419\"]], \"sequential\": [[0.0, \"#0d0887\"], [0.1111111111111111, \"#46039f\"], [0.2222222222222222, \"#7201a8\"], [0.3333333333333333, \"#9c179e\"], [0.4444444444444444, \"#bd3786\"], [0.5555555555555556, \"#d8576b\"], [0.6666666666666666, \"#ed7953\"], [0.7777777777777778, \"#fb9f3a\"], [0.8888888888888888, \"#fdca26\"], [1.0, \"#f0f921\"]], \"sequentialminus\": [[0.0, \"#0d0887\"], [0.1111111111111111, \"#46039f\"], [0.2222222222222222, \"#7201a8\"], [0.3333333333333333, \"#9c179e\"], [0.4444444444444444, \"#bd3786\"], [0.5555555555555556, \"#d8576b\"], [0.6666666666666666, \"#ed7953\"], [0.7777777777777778, \"#fb9f3a\"], [0.8888888888888888, \"#fdca26\"], [1.0, \"#f0f921\"]]}, \"colorway\": [\"#636efa\", \"#EF553B\", \"#00cc96\", \"#ab63fa\", \"#FFA15A\", \"#19d3f3\", \"#FF6692\", \"#B6E880\", \"#FF97FF\", \"#FECB52\"], \"font\": {\"color\": \"#2a3f5f\"}, \"geo\": {\"bgcolor\": \"white\", \"lakecolor\": \"white\", \"landcolor\": \"#E5ECF6\", \"showlakes\": true, \"showland\": true, \"subunitcolor\": \"white\"}, \"hoverlabel\": {\"align\": \"left\"}, \"hovermode\": \"closest\", \"mapbox\": {\"style\": \"light\"}, \"paper_bgcolor\": \"white\", \"plot_bgcolor\": \"#E5ECF6\", \"polar\": {\"angularaxis\": {\"gridcolor\": \"white\", \"linecolor\": \"white\", \"ticks\": \"\"}, \"bgcolor\": \"#E5ECF6\", \"radialaxis\": {\"gridcolor\": \"white\", \"linecolor\": \"white\", \"ticks\": \"\"}}, \"scene\": {\"xaxis\": {\"backgroundcolor\": \"#E5ECF6\", \"gridcolor\": \"white\", \"gridwidth\": 2, \"linecolor\": \"white\", \"showbackground\": true, \"ticks\": \"\", \"zerolinecolor\": \"white\"}, \"yaxis\": {\"backgroundcolor\": \"#E5ECF6\", \"gridcolor\": \"white\", \"gridwidth\": 2, \"linecolor\": \"white\", \"showbackground\": true, \"ticks\": \"\", \"zerolinecolor\": \"white\"}, \"zaxis\": {\"backgroundcolor\": \"#E5ECF6\", \"gridcolor\": \"white\", \"gridwidth\": 2, \"linecolor\": \"white\", \"showbackground\": true, \"ticks\": \"\", \"zerolinecolor\": \"white\"}}, \"shapedefaults\": {\"line\": {\"color\": \"#2a3f5f\"}}, \"ternary\": {\"aaxis\": {\"gridcolor\": \"white\", \"linecolor\": \"white\", \"ticks\": \"\"}, \"baxis\": {\"gridcolor\": \"white\", \"linecolor\": \"white\", \"ticks\": \"\"}, \"bgcolor\": \"#E5ECF6\", \"caxis\": {\"gridcolor\": \"white\", \"linecolor\": \"white\", \"ticks\": \"\"}}, \"title\": {\"x\": 0.05}, \"xaxis\": {\"automargin\": true, \"gridcolor\": \"white\", \"linecolor\": \"white\", \"ticks\": \"\", \"title\": {\"standoff\": 15}, \"zerolinecolor\": \"white\", \"zerolinewidth\": 2}, \"yaxis\": {\"automargin\": true, \"gridcolor\": \"white\", \"linecolor\": \"white\", \"ticks\": \"\", \"title\": {\"standoff\": 15}, \"zerolinecolor\": \"white\", \"zerolinewidth\": 2}}}, \"title\": {\"text\": \"Scatter Plot: Runs vs Wickets, Size = catches\"}, \"xaxis\": {\"anchor\": \"y\", \"domain\": [0.0, 1.0], \"title\": {\"text\": \"runs\"}}, \"yaxis\": {\"anchor\": \"x\", \"domain\": [0.0, 1.0], \"title\": {\"text\": \"wickets\"}}},                        {\"responsive\": true}                    ).then(function(){\n",
       "                            \n",
       "var gd = document.getElementById('2bf35c89-7ff9-4f57-b0f5-0d3a5ff3e63e');\n",
       "var x = new MutationObserver(function (mutations, observer) {{\n",
       "        var display = window.getComputedStyle(gd).display;\n",
       "        if (!display || display === 'none') {{\n",
       "            console.log([gd, 'removed!']);\n",
       "            Plotly.purge(gd);\n",
       "            observer.disconnect();\n",
       "        }}\n",
       "}});\n",
       "\n",
       "// Listen for the removal of the full notebook cells\n",
       "var notebookContainer = gd.closest('#notebook-container');\n",
       "if (notebookContainer) {{\n",
       "    x.observe(notebookContainer, {childList: true});\n",
       "}}\n",
       "\n",
       "// Listen for the clearing of the current output cell\n",
       "var outputEl = gd.closest('.output');\n",
       "if (outputEl) {{\n",
       "    x.observe(outputEl, {childList: true});\n",
       "}}\n",
       "\n",
       "                        })                };                });            </script>        </div>"
      ]
     },
     "metadata": {},
     "output_type": "display_data"
    }
   ],
   "source": [
    "# Plotly scatter plot\n",
    "import plotly.express as px\n",
    "fig = px.scatter(players, x=\"runs\",   y=\"wickets\", color=\"cluster_kmeans\",\n",
    "                 size='catches', hover_data=['name'], title = 'Scatter Plot: Runs vs Wickets, Size = catches', color_discrete_sequence=px.colors.qualitative.Light24)\n",
    "fig.show()\n",
    "\n",
    "# color_discrete_sequence - https://plotly.com/python/discrete-color/"
   ]
  },
  {
   "cell_type": "code",
   "execution_count": 675,
   "metadata": {
    "ExecuteTime": {
     "end_time": "2021-05-16T19:24:00.360028Z",
     "start_time": "2021-05-16T19:23:59.979208Z"
    }
   },
   "outputs": [
    {
     "data": {
      "text/plain": [
       "<matplotlib.axes._subplots.AxesSubplot at 0x124d67978>"
      ]
     },
     "execution_count": 675,
     "metadata": {},
     "output_type": "execute_result"
    },
    {
     "data": {
      "image/png": "[encoded data removed]",
      "text/plain": [
       "<Figure size 864x576 with 1 Axes>"
      ]
     },
     "metadata": {
      "needs_background": "light"
     },
     "output_type": "display_data"
    }
   ],
   "source": [
    "plt.figure(figsize=(12,8))\n",
    "\n",
    "sns.scatterplot(x=\"runs\",   y=\"wickets\", hue=\"cluster_kmeans\", data=players, palette=\"tab10\")"
   ]
  },
  {
   "cell_type": "code",
   "execution_count": 676,
   "metadata": {
    "ExecuteTime": {
     "end_time": "2021-05-16T19:24:00.711506Z",
     "start_time": "2021-05-16T19:24:00.362201Z"
    }
   },
   "outputs": [
    {
     "data": {
      "text/plain": [
       "<matplotlib.axes._subplots.AxesSubplot at 0x125d2b208>"
      ]
     },
     "execution_count": 676,
     "metadata": {},
     "output_type": "execute_result"
    },
    {
     "data": {
      "image/png": "[encoded data removed]",
      "text/plain": [
       "<Figure size 864x576 with 1 Axes>"
      ]
     },
     "metadata": {
      "needs_background": "light"
     },
     "output_type": "display_data"
    }
   ],
   "source": [
    "plt.figure(figsize=(12,8))\n",
    "\n",
    "sns.scatterplot(x=\"runs\",   y=\"wickets\", hue=\"cluster_hier\", data=players, palette=\"tab10\")"
   ]
  },
  {
   "cell_type": "code",
   "execution_count": 677,
   "metadata": {
    "ExecuteTime": {
     "end_time": "2021-05-16T19:24:01.018171Z",
     "start_time": "2021-05-16T19:24:00.713381Z"
    }
   },
   "outputs": [
    {
     "data": {
      "text/plain": [
       "<matplotlib.axes._subplots.AxesSubplot at 0x1263e7b00>"
      ]
     },
     "execution_count": 677,
     "metadata": {},
     "output_type": "execute_result"
    },
    {
     "data": {
      "image/png": "[encoded data removed]",
      "text/plain": [
       "<Figure size 864x576 with 1 Axes>"
      ]
     },
     "metadata": {
      "needs_background": "light"
     },
     "output_type": "display_data"
    }
   ],
   "source": [
    "plt.figure(figsize=(12,8))\n",
    "\n",
    "sns.scatterplot(x=\"runs\",   y=\"wickets\", hue=\"cluster_dbscan\", data=players, palette=\"tab10\")"
   ]
  },
  {
   "cell_type": "markdown",
   "metadata": {},
   "source": [
    "## Runs vs catches"
   ]
  },
  {
   "cell_type": "code",
   "execution_count": 678,
   "metadata": {
    "ExecuteTime": {
     "end_time": "2021-05-16T19:24:01.384706Z",
     "start_time": "2021-05-16T19:24:01.020890Z"
    }
   },
   "outputs": [
    {
     "data": {
      "text/plain": [
       "<matplotlib.axes._subplots.AxesSubplot at 0x125d2d898>"
      ]
     },
     "execution_count": 678,
     "metadata": {},
     "output_type": "execute_result"
    },
    {
     "data": {
      "image/png": "[encoded data removed]",
      "text/plain": [
       "<Figure size 864x576 with 1 Axes>"
      ]
     },
     "metadata": {
      "needs_background": "light"
     },
     "output_type": "display_data"
    }
   ],
   "source": [
    "plt.figure(figsize=(12,8))\n",
    "\n",
    "sns.scatterplot(x=\"runs\",   y=\"catches\", hue=\"cluster_kmeans\", data=players, palette=\"tab10\")"
   ]
  },
  {
   "cell_type": "markdown",
   "metadata": {},
   "source": [
    "# Only runs & wickets"
   ]
  },
  {
   "cell_type": "code",
   "execution_count": 679,
   "metadata": {
    "ExecuteTime": {
     "end_time": "2021-05-16T19:24:01.388918Z",
     "start_time": "2021-05-16T19:24:01.386518Z"
    }
   },
   "outputs": [],
   "source": [
    "cols = ['bat_average','bowl_econ']"
   ]
  },
  {
   "cell_type": "code",
   "execution_count": 680,
   "metadata": {
    "ExecuteTime": {
     "end_time": "2021-05-16T19:24:01.431286Z",
     "start_time": "2021-05-16T19:24:01.390413Z"
    }
   },
   "outputs": [],
   "source": [
    "# final model with k=3\n",
    "kmeans = KMeans(n_clusters=NUM_CLUSTERS, max_iter=50)\n",
    "kmeans.fit(players_scaled[cols])\n",
    "\n",
    "# assign the label\n",
    "players['cluster_kmeans_small'] = kmeans.labels_\n"
   ]
  },
  {
   "cell_type": "code",
   "execution_count": 681,
   "metadata": {
    "ExecuteTime": {
     "end_time": "2021-05-16T19:24:01.787399Z",
     "start_time": "2021-05-16T19:24:01.433025Z"
    }
   },
   "outputs": [
    {
     "data": {
      "text/plain": [
       "<matplotlib.axes._subplots.AxesSubplot at 0x1264bbd68>"
      ]
     },
     "execution_count": 681,
     "metadata": {},
     "output_type": "execute_result"
    },
    {
     "data": {
      "image/png": "[encoded data removed]",
      "text/plain": [
       "<Figure size 864x576 with 1 Axes>"
      ]
     },
     "metadata": {
      "needs_background": "light"
     },
     "output_type": "display_data"
    }
   ],
   "source": [
    "plt.figure(figsize=(12,8))\n",
    "\n",
    "sns.scatterplot(x=\"bat_average\",   y=\"bowl_econ\", hue=\"cluster_kmeans_small\", data=players, palette=\"tab10\")"
   ]
  },
  {
   "cell_type": "code",
   "execution_count": 682,
   "metadata": {
    "ExecuteTime": {
     "end_time": "2021-05-16T19:24:01.796909Z",
     "start_time": "2021-05-16T19:24:01.789106Z"
    }
   },
   "outputs": [],
   "source": [
    "# Compute DBSCAN\n",
    "db = DBSCAN(eps=0.3, min_samples=5).fit(players_scaled[cols])\n",
    "labels = db.labels_\n",
    "\n",
    "# assign cluster labels\n",
    "players['cluster_dbscan_avgecon'] = labels"
   ]
  },
  {
   "cell_type": "code",
   "execution_count": 683,
   "metadata": {
    "ExecuteTime": {
     "end_time": "2021-05-16T19:24:02.139425Z",
     "start_time": "2021-05-16T19:24:01.798729Z"
    }
   },
   "outputs": [
    {
     "data": {
      "text/plain": [
       "<matplotlib.axes._subplots.AxesSubplot at 0x12628b7b8>"
      ]
     },
     "execution_count": 683,
     "metadata": {},
     "output_type": "execute_result"
    },
    {
     "data": {
      "image/png": "[encoded data removed]",
      "text/plain": [
       "<Figure size 864x576 with 1 Axes>"
      ]
     },
     "metadata": {
      "needs_background": "light"
     },
     "output_type": "display_data"
    }
   ],
   "source": [
    "plt.figure(figsize=(12,8))\n",
    "\n",
    "sns.scatterplot(x=\"bat_average\",   y=\"bowl_econ\", hue=\"cluster_dbscan_avgecon\", data=players, palette=\"tab10\")"
   ]
  },
  {
   "cell_type": "markdown",
   "metadata": {},
   "source": [
    "# References"
   ]
  },
  {
   "cell_type": "code",
   "execution_count": 684,
   "metadata": {
    "ExecuteTime": {
     "end_time": "2021-05-16T19:24:02.144398Z",
     "start_time": "2021-05-16T19:24:02.141922Z"
    }
   },
   "outputs": [],
   "source": [
    "# https://www.linkedin.com/pulse/ai-daily-life-clustering-cricket-players-ramachandran-s/\n",
    "    "
   ]
  }
 ],
 "metadata": {
  "kernelspec": {
   "display_name": "Python 3",
   "language": "python",
   "name": "python3"
  },
  "language_info": {
   "codemirror_mode": {
    "name": "ipython",
    "version": 3
   },
   "file_extension": ".py",
   "mimetype": "text/x-python",
   "name": "python",
   "nbconvert_exporter": "python",
   "pygments_lexer": "ipython3",
   "version": "3.6.6"
  },
  "toc": {
   "base_numbering": 1,
   "nav_menu": {},
   "number_sections": true,
   "sideBar": true,
   "skip_h1_title": false,
   "title_cell": "Table of Contents",
   "title_sidebar": "My Steps",
   "toc_cell": false,
   "toc_position": {},
   "toc_section_display": true,
   "toc_window_display": true
  },
  "varInspector": {
   "cols": {
    "lenName": 16,
    "lenType": 16,
    "lenVar": 40
   },
   "kernels_config": {
    "python": {
     "delete_cmd_postfix": "",
     "delete_cmd_prefix": "del ",
     "library": "var_list.py",
     "varRefreshCmd": "print(var_dic_list())"
    },
    "r": {
     "delete_cmd_postfix": ") ",
     "delete_cmd_prefix": "rm(",
     "library": "var_list.r",
     "varRefreshCmd": "cat(var_dic_list()) "
    }
   },
   "types_to_exclude": [
    "module",
    "function",
    "builtin_function_or_method",
    "instance",
    "_Feature"
   ],
   "window_display": false
  }
 },
 "nbformat": 4,
 "nbformat_minor": 2
}
