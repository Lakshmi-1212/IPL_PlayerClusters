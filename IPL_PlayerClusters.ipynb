{
 "cells": [
  {
   "cell_type": "markdown",
   "metadata": {},
   "source": [
    "# Data Source and goal of this case study"
   ]
  },
  {
   "cell_type": "markdown",
   "metadata": {},
   "source": [
    "Data: https://www.kaggle.com/patrickb1912/ipl-complete-dataset-20082020  \n",
    "          \n",
    "Goal:   \n",
    "    1. Identify cluster of players with similar performance  \n",
    "    2. Given a player name, identify similar players  \n",
    "    3. Create a best team with mix of batsman, bowler, allrounders & wicket-keeper\n",
    "    "
   ]
  },
  {
   "cell_type": "markdown",
   "metadata": {},
   "source": [
    "# Imports and data read"
   ]
  },
  {
   "cell_type": "code",
   "execution_count": 348,
   "metadata": {
    "ExecuteTime": {
     "end_time": "2021-05-25T15:05:47.343607Z",
     "start_time": "2021-05-25T15:05:47.337469Z"
    }
   },
   "outputs": [],
   "source": [
    "import pandas as pd\n",
    "import matplotlib.pyplot  as plt\n",
    "import seaborn as sns\n",
    "import plotly.express as px\n",
    "import ipywidgets as widgets\n",
    "from IPython.display import display\n",
    "\n",
    "\n",
    "from sklearn.preprocessing import StandardScaler,MinMaxScaler\n",
    "from sklearn.cluster import KMeans\n",
    "from sklearn.metrics import silhouette_score\n",
    "\n",
    "from scipy.cluster.hierarchy import linkage\n",
    "from scipy.cluster.hierarchy import dendrogram\n",
    "from scipy.cluster.hierarchy import cut_tree\n",
    "\n",
    "from sklearn.cluster import DBSCAN"
   ]
  },
  {
   "cell_type": "code",
   "execution_count": 349,
   "metadata": {
    "ExecuteTime": {
     "end_time": "2021-05-25T15:05:47.807811Z",
     "start_time": "2021-05-25T15:05:47.347774Z"
    }
   },
   "outputs": [],
   "source": [
    "balldf = pd.read_csv(\"data/IPL_2008_2020/IPL Ball-by-Ball 2008-2020.csv\")"
   ]
  },
  {
   "cell_type": "code",
   "execution_count": 350,
   "metadata": {
    "ExecuteTime": {
     "end_time": "2021-05-25T15:05:47.840274Z",
     "start_time": "2021-05-25T15:05:47.812293Z"
    }
   },
   "outputs": [],
   "source": [
    "matches = pd.read_csv(\"data/IPL_2008_2020/IPL Matches 2008-2020.csv\")"
   ]
  },
  {
   "cell_type": "code",
   "execution_count": 351,
   "metadata": {
    "ExecuteTime": {
     "end_time": "2021-05-25T15:05:47.875424Z",
     "start_time": "2021-05-25T15:05:47.845750Z"
    }
   },
   "outputs": [
    {
     "data": {
      "text/html": [
       "<div>\n",
       "<style scoped>\n",
       "    .dataframe tbody tr th:only-of-type {\n",
       "        vertical-align: middle;\n",
       "    }\n",
       "\n",
       "    .dataframe tbody tr th {\n",
       "        vertical-align: top;\n",
       "    }\n",
       "\n",
       "    .dataframe thead th {\n",
       "        text-align: right;\n",
       "    }\n",
       "</style>\n",
       "<table border=\"1\" class=\"dataframe\">\n",
       "  <thead>\n",
       "    <tr style=\"text-align: right;\">\n",
       "      <th></th>\n",
       "      <th>id</th>\n",
       "      <th>inning</th>\n",
       "      <th>over</th>\n",
       "      <th>ball</th>\n",
       "      <th>batsman</th>\n",
       "      <th>non_striker</th>\n",
       "      <th>bowler</th>\n",
       "      <th>batsman_runs</th>\n",
       "      <th>extra_runs</th>\n",
       "      <th>total_runs</th>\n",
       "      <th>non_boundary</th>\n",
       "      <th>is_wicket</th>\n",
       "      <th>dismissal_kind</th>\n",
       "      <th>player_dismissed</th>\n",
       "      <th>fielder</th>\n",
       "      <th>extras_type</th>\n",
       "      <th>batting_team</th>\n",
       "      <th>bowling_team</th>\n",
       "    </tr>\n",
       "  </thead>\n",
       "  <tbody>\n",
       "    <tr>\n",
       "      <th>0</th>\n",
       "      <td>335982</td>\n",
       "      <td>1</td>\n",
       "      <td>6</td>\n",
       "      <td>5</td>\n",
       "      <td>RT Ponting</td>\n",
       "      <td>BB McCullum</td>\n",
       "      <td>AA Noffke</td>\n",
       "      <td>1</td>\n",
       "      <td>0</td>\n",
       "      <td>1</td>\n",
       "      <td>0</td>\n",
       "      <td>0</td>\n",
       "      <td>NaN</td>\n",
       "      <td>NaN</td>\n",
       "      <td>NaN</td>\n",
       "      <td>NaN</td>\n",
       "      <td>Kolkata Knight Riders</td>\n",
       "      <td>Royal Challengers Bangalore</td>\n",
       "    </tr>\n",
       "    <tr>\n",
       "      <th>1</th>\n",
       "      <td>335982</td>\n",
       "      <td>1</td>\n",
       "      <td>6</td>\n",
       "      <td>6</td>\n",
       "      <td>BB McCullum</td>\n",
       "      <td>RT Ponting</td>\n",
       "      <td>AA Noffke</td>\n",
       "      <td>1</td>\n",
       "      <td>0</td>\n",
       "      <td>1</td>\n",
       "      <td>0</td>\n",
       "      <td>0</td>\n",
       "      <td>NaN</td>\n",
       "      <td>NaN</td>\n",
       "      <td>NaN</td>\n",
       "      <td>NaN</td>\n",
       "      <td>Kolkata Knight Riders</td>\n",
       "      <td>Royal Challengers Bangalore</td>\n",
       "    </tr>\n",
       "    <tr>\n",
       "      <th>2</th>\n",
       "      <td>335982</td>\n",
       "      <td>1</td>\n",
       "      <td>7</td>\n",
       "      <td>1</td>\n",
       "      <td>BB McCullum</td>\n",
       "      <td>RT Ponting</td>\n",
       "      <td>Z Khan</td>\n",
       "      <td>0</td>\n",
       "      <td>0</td>\n",
       "      <td>0</td>\n",
       "      <td>0</td>\n",
       "      <td>0</td>\n",
       "      <td>NaN</td>\n",
       "      <td>NaN</td>\n",
       "      <td>NaN</td>\n",
       "      <td>NaN</td>\n",
       "      <td>Kolkata Knight Riders</td>\n",
       "      <td>Royal Challengers Bangalore</td>\n",
       "    </tr>\n",
       "  </tbody>\n",
       "</table>\n",
       "</div>"
      ],
      "text/plain": [
       "       id  inning  over  ball      batsman  non_striker     bowler  \\\n",
       "0  335982       1     6     5   RT Ponting  BB McCullum  AA Noffke   \n",
       "1  335982       1     6     6  BB McCullum   RT Ponting  AA Noffke   \n",
       "2  335982       1     7     1  BB McCullum   RT Ponting     Z Khan   \n",
       "\n",
       "   batsman_runs  extra_runs  total_runs  non_boundary  is_wicket  \\\n",
       "0             1           0           1             0          0   \n",
       "1             1           0           1             0          0   \n",
       "2             0           0           0             0          0   \n",
       "\n",
       "  dismissal_kind player_dismissed fielder extras_type           batting_team  \\\n",
       "0            NaN              NaN     NaN         NaN  Kolkata Knight Riders   \n",
       "1            NaN              NaN     NaN         NaN  Kolkata Knight Riders   \n",
       "2            NaN              NaN     NaN         NaN  Kolkata Knight Riders   \n",
       "\n",
       "                  bowling_team  \n",
       "0  Royal Challengers Bangalore  \n",
       "1  Royal Challengers Bangalore  \n",
       "2  Royal Challengers Bangalore  "
      ]
     },
     "execution_count": 351,
     "metadata": {},
     "output_type": "execute_result"
    }
   ],
   "source": [
    "balldf.head(3)"
   ]
  },
  {
   "cell_type": "code",
   "execution_count": 352,
   "metadata": {
    "ExecuteTime": {
     "end_time": "2021-05-25T15:05:47.902479Z",
     "start_time": "2021-05-25T15:05:47.878990Z"
    }
   },
   "outputs": [
    {
     "data": {
      "text/html": [
       "<div>\n",
       "<style scoped>\n",
       "    .dataframe tbody tr th:only-of-type {\n",
       "        vertical-align: middle;\n",
       "    }\n",
       "\n",
       "    .dataframe tbody tr th {\n",
       "        vertical-align: top;\n",
       "    }\n",
       "\n",
       "    .dataframe thead th {\n",
       "        text-align: right;\n",
       "    }\n",
       "</style>\n",
       "<table border=\"1\" class=\"dataframe\">\n",
       "  <thead>\n",
       "    <tr style=\"text-align: right;\">\n",
       "      <th></th>\n",
       "      <th>id</th>\n",
       "      <th>city</th>\n",
       "      <th>date</th>\n",
       "      <th>player_of_match</th>\n",
       "      <th>venue</th>\n",
       "      <th>neutral_venue</th>\n",
       "      <th>team1</th>\n",
       "      <th>team2</th>\n",
       "      <th>toss_winner</th>\n",
       "      <th>toss_decision</th>\n",
       "      <th>winner</th>\n",
       "      <th>result</th>\n",
       "      <th>result_margin</th>\n",
       "      <th>eliminator</th>\n",
       "      <th>method</th>\n",
       "      <th>umpire1</th>\n",
       "      <th>umpire2</th>\n",
       "    </tr>\n",
       "  </thead>\n",
       "  <tbody>\n",
       "    <tr>\n",
       "      <th>0</th>\n",
       "      <td>335982</td>\n",
       "      <td>Bangalore</td>\n",
       "      <td>2008-04-18</td>\n",
       "      <td>BB McCullum</td>\n",
       "      <td>M Chinnaswamy Stadium</td>\n",
       "      <td>0</td>\n",
       "      <td>Royal Challengers Bangalore</td>\n",
       "      <td>Kolkata Knight Riders</td>\n",
       "      <td>Royal Challengers Bangalore</td>\n",
       "      <td>field</td>\n",
       "      <td>Kolkata Knight Riders</td>\n",
       "      <td>runs</td>\n",
       "      <td>140.0</td>\n",
       "      <td>N</td>\n",
       "      <td>NaN</td>\n",
       "      <td>Asad Rauf</td>\n",
       "      <td>RE Koertzen</td>\n",
       "    </tr>\n",
       "    <tr>\n",
       "      <th>1</th>\n",
       "      <td>335983</td>\n",
       "      <td>Chandigarh</td>\n",
       "      <td>2008-04-19</td>\n",
       "      <td>MEK Hussey</td>\n",
       "      <td>Punjab Cricket Association Stadium, Mohali</td>\n",
       "      <td>0</td>\n",
       "      <td>Kings XI Punjab</td>\n",
       "      <td>Chennai Super Kings</td>\n",
       "      <td>Chennai Super Kings</td>\n",
       "      <td>bat</td>\n",
       "      <td>Chennai Super Kings</td>\n",
       "      <td>runs</td>\n",
       "      <td>33.0</td>\n",
       "      <td>N</td>\n",
       "      <td>NaN</td>\n",
       "      <td>MR Benson</td>\n",
       "      <td>SL Shastri</td>\n",
       "    </tr>\n",
       "    <tr>\n",
       "      <th>2</th>\n",
       "      <td>335984</td>\n",
       "      <td>Delhi</td>\n",
       "      <td>2008-04-19</td>\n",
       "      <td>MF Maharoof</td>\n",
       "      <td>Feroz Shah Kotla</td>\n",
       "      <td>0</td>\n",
       "      <td>Delhi Daredevils</td>\n",
       "      <td>Rajasthan Royals</td>\n",
       "      <td>Rajasthan Royals</td>\n",
       "      <td>bat</td>\n",
       "      <td>Delhi Daredevils</td>\n",
       "      <td>wickets</td>\n",
       "      <td>9.0</td>\n",
       "      <td>N</td>\n",
       "      <td>NaN</td>\n",
       "      <td>Aleem Dar</td>\n",
       "      <td>GA Pratapkumar</td>\n",
       "    </tr>\n",
       "  </tbody>\n",
       "</table>\n",
       "</div>"
      ],
      "text/plain": [
       "       id        city        date player_of_match  \\\n",
       "0  335982   Bangalore  2008-04-18     BB McCullum   \n",
       "1  335983  Chandigarh  2008-04-19      MEK Hussey   \n",
       "2  335984       Delhi  2008-04-19     MF Maharoof   \n",
       "\n",
       "                                        venue  neutral_venue  \\\n",
       "0                       M Chinnaswamy Stadium              0   \n",
       "1  Punjab Cricket Association Stadium, Mohali              0   \n",
       "2                            Feroz Shah Kotla              0   \n",
       "\n",
       "                         team1                  team2  \\\n",
       "0  Royal Challengers Bangalore  Kolkata Knight Riders   \n",
       "1              Kings XI Punjab    Chennai Super Kings   \n",
       "2             Delhi Daredevils       Rajasthan Royals   \n",
       "\n",
       "                   toss_winner toss_decision                 winner   result  \\\n",
       "0  Royal Challengers Bangalore         field  Kolkata Knight Riders     runs   \n",
       "1          Chennai Super Kings           bat    Chennai Super Kings     runs   \n",
       "2             Rajasthan Royals           bat       Delhi Daredevils  wickets   \n",
       "\n",
       "   result_margin eliminator method    umpire1         umpire2  \n",
       "0          140.0          N    NaN  Asad Rauf     RE Koertzen  \n",
       "1           33.0          N    NaN  MR Benson      SL Shastri  \n",
       "2            9.0          N    NaN  Aleem Dar  GA Pratapkumar  "
      ]
     },
     "execution_count": 352,
     "metadata": {},
     "output_type": "execute_result"
    }
   ],
   "source": [
    "matches.head(3)"
   ]
  },
  {
   "cell_type": "code",
   "execution_count": 353,
   "metadata": {
    "ExecuteTime": {
     "end_time": "2021-05-25T15:05:47.913139Z",
     "start_time": "2021-05-25T15:05:47.906054Z"
    }
   },
   "outputs": [
    {
     "data": {
      "text/plain": [
       "(193468, 18)"
      ]
     },
     "execution_count": 353,
     "metadata": {},
     "output_type": "execute_result"
    }
   ],
   "source": [
    "balldf.shape"
   ]
  },
  {
   "cell_type": "code",
   "execution_count": 354,
   "metadata": {
    "ExecuteTime": {
     "end_time": "2021-05-25T15:05:47.923949Z",
     "start_time": "2021-05-25T15:05:47.917483Z"
    }
   },
   "outputs": [
    {
     "data": {
      "text/plain": [
       "(816, 17)"
      ]
     },
     "execution_count": 354,
     "metadata": {},
     "output_type": "execute_result"
    }
   ],
   "source": [
    "matches.shape"
   ]
  },
  {
   "cell_type": "markdown",
   "metadata": {},
   "source": [
    "# Check Missing"
   ]
  },
  {
   "cell_type": "code",
   "execution_count": 355,
   "metadata": {
    "ExecuteTime": {
     "end_time": "2021-05-25T15:05:48.073359Z",
     "start_time": "2021-05-25T15:05:47.927827Z"
    }
   },
   "outputs": [
    {
     "data": {
      "text/plain": [
       "id                       0\n",
       "inning                   0\n",
       "over                     0\n",
       "ball                     0\n",
       "batsman                  0\n",
       "non_striker              0\n",
       "bowler                   0\n",
       "batsman_runs             0\n",
       "extra_runs               0\n",
       "total_runs               0\n",
       "non_boundary             0\n",
       "is_wicket                0\n",
       "dismissal_kind      183973\n",
       "player_dismissed    183973\n",
       "fielder             186684\n",
       "extras_type         183235\n",
       "batting_team             0\n",
       "bowling_team           191\n",
       "dtype: int64"
      ]
     },
     "execution_count": 355,
     "metadata": {},
     "output_type": "execute_result"
    }
   ],
   "source": [
    "balldf.isnull().sum()"
   ]
  },
  {
   "cell_type": "markdown",
   "metadata": {},
   "source": [
    "The variables with missing data is not used to create the player statistics in this analysis and can be ignored."
   ]
  },
  {
   "cell_type": "markdown",
   "metadata": {},
   "source": [
    "# Create batsman statistics"
   ]
  },
  {
   "cell_type": "markdown",
   "metadata": {},
   "source": [
    "## Variables by grouping on batsman"
   ]
  },
  {
   "cell_type": "code",
   "execution_count": 356,
   "metadata": {
    "ExecuteTime": {
     "end_time": "2021-05-25T15:05:48.152625Z",
     "start_time": "2021-05-25T15:05:48.079808Z"
    }
   },
   "outputs": [],
   "source": [
    "# Group details on batsmen\n",
    "batgroup = balldf.groupby(['batsman'])\n",
    "\n",
    "# Create a batting dataframe with a summary statistics for each batsman\n",
    "batdf = pd.DataFrame(batgroup['ball'].count()).rename(columns={'ball':'balls_faced'})\n",
    "batdf['innings'] = batgroup['id'].nunique()\n",
    "batdf['runs'] = batgroup['batsman_runs'].sum()\n",
    "batdf['4s'] = balldf[balldf['batsman_runs'] == 4].groupby('batsman')['batsman_runs'].count()\n",
    "batdf['4s'].fillna(0,inplace=True)\n",
    "batdf['6s'] = balldf[balldf['batsman_runs'] == 6].groupby('batsman')['batsman_runs'].count()\n",
    "batdf['6s'].fillna(0,inplace=True)\n"
   ]
  },
  {
   "cell_type": "markdown",
   "metadata": {},
   "source": [
    "## Derived variable - Batsman average & strike rate"
   ]
  },
  {
   "cell_type": "code",
   "execution_count": 357,
   "metadata": {
    "ExecuteTime": {
     "end_time": "2021-05-25T15:05:48.162694Z",
     "start_time": "2021-05-25T15:05:48.157657Z"
    }
   },
   "outputs": [],
   "source": [
    "# Batting average = total rus scored/no. of times batsman is been dismissed\n",
    "# Approximated here to matches instead of no. of dismissals\n",
    "batdf['bat_average'] = round(batdf['runs']/batdf['innings'],2)"
   ]
  },
  {
   "cell_type": "code",
   "execution_count": 358,
   "metadata": {
    "ExecuteTime": {
     "end_time": "2021-05-25T15:05:48.170991Z",
     "start_time": "2021-05-25T15:05:48.165566Z"
    }
   },
   "outputs": [],
   "source": [
    "# Strike Rate = (Runs Scored / Balls faced) * 100\n",
    "batdf['bat_strike'] = round(batdf['runs']/batdf['balls_faced']*100,2)\n"
   ]
  },
  {
   "cell_type": "code",
   "execution_count": 359,
   "metadata": {
    "ExecuteTime": {
     "end_time": "2021-05-25T15:05:48.190681Z",
     "start_time": "2021-05-25T15:05:48.173846Z"
    }
   },
   "outputs": [
    {
     "data": {
      "text/html": [
       "<div>\n",
       "<style scoped>\n",
       "    .dataframe tbody tr th:only-of-type {\n",
       "        vertical-align: middle;\n",
       "    }\n",
       "\n",
       "    .dataframe tbody tr th {\n",
       "        vertical-align: top;\n",
       "    }\n",
       "\n",
       "    .dataframe thead th {\n",
       "        text-align: right;\n",
       "    }\n",
       "</style>\n",
       "<table border=\"1\" class=\"dataframe\">\n",
       "  <thead>\n",
       "    <tr style=\"text-align: right;\">\n",
       "      <th></th>\n",
       "      <th>balls_faced</th>\n",
       "      <th>innings</th>\n",
       "      <th>runs</th>\n",
       "      <th>4s</th>\n",
       "      <th>6s</th>\n",
       "      <th>bat_average</th>\n",
       "      <th>bat_strike</th>\n",
       "    </tr>\n",
       "    <tr>\n",
       "      <th>batsman</th>\n",
       "      <th></th>\n",
       "      <th></th>\n",
       "      <th></th>\n",
       "      <th></th>\n",
       "      <th></th>\n",
       "      <th></th>\n",
       "      <th></th>\n",
       "    </tr>\n",
       "  </thead>\n",
       "  <tbody>\n",
       "    <tr>\n",
       "      <th>YV Takawale</th>\n",
       "      <td>183</td>\n",
       "      <td>10</td>\n",
       "      <td>192</td>\n",
       "      <td>26.0</td>\n",
       "      <td>3.0</td>\n",
       "      <td>19.20</td>\n",
       "      <td>104.92</td>\n",
       "    </tr>\n",
       "    <tr>\n",
       "      <th>Yashpal Singh</th>\n",
       "      <td>67</td>\n",
       "      <td>4</td>\n",
       "      <td>47</td>\n",
       "      <td>5.0</td>\n",
       "      <td>0.0</td>\n",
       "      <td>11.75</td>\n",
       "      <td>70.15</td>\n",
       "    </tr>\n",
       "    <tr>\n",
       "      <th>Younis Khan</th>\n",
       "      <td>7</td>\n",
       "      <td>1</td>\n",
       "      <td>3</td>\n",
       "      <td>0.0</td>\n",
       "      <td>0.0</td>\n",
       "      <td>3.00</td>\n",
       "      <td>42.86</td>\n",
       "    </tr>\n",
       "    <tr>\n",
       "      <th>Yuvraj Singh</th>\n",
       "      <td>2205</td>\n",
       "      <td>126</td>\n",
       "      <td>2750</td>\n",
       "      <td>217.0</td>\n",
       "      <td>149.0</td>\n",
       "      <td>21.83</td>\n",
       "      <td>124.72</td>\n",
       "    </tr>\n",
       "    <tr>\n",
       "      <th>Z Khan</th>\n",
       "      <td>141</td>\n",
       "      <td>27</td>\n",
       "      <td>117</td>\n",
       "      <td>11.0</td>\n",
       "      <td>2.0</td>\n",
       "      <td>4.33</td>\n",
       "      <td>82.98</td>\n",
       "    </tr>\n",
       "  </tbody>\n",
       "</table>\n",
       "</div>"
      ],
      "text/plain": [
       "               balls_faced  innings  runs     4s     6s  bat_average  \\\n",
       "batsman                                                                \n",
       "YV Takawale            183       10   192   26.0    3.0        19.20   \n",
       "Yashpal Singh           67        4    47    5.0    0.0        11.75   \n",
       "Younis Khan              7        1     3    0.0    0.0         3.00   \n",
       "Yuvraj Singh          2205      126  2750  217.0  149.0        21.83   \n",
       "Z Khan                 141       27   117   11.0    2.0         4.33   \n",
       "\n",
       "               bat_strike  \n",
       "batsman                    \n",
       "YV Takawale        104.92  \n",
       "Yashpal Singh       70.15  \n",
       "Younis Khan         42.86  \n",
       "Yuvraj Singh       124.72  \n",
       "Z Khan              82.98  "
      ]
     },
     "metadata": {},
     "output_type": "display_data"
    }
   ],
   "source": [
    "display(batdf.tail())"
   ]
  },
  {
   "cell_type": "markdown",
   "metadata": {
    "ExecuteTime": {
     "end_time": "2021-04-30T12:41:21.845690Z",
     "start_time": "2021-04-30T12:41:21.829447Z"
    }
   },
   "source": [
    "# Create bowler statistics"
   ]
  },
  {
   "cell_type": "markdown",
   "metadata": {},
   "source": [
    "## Variables by grouping on bowler"
   ]
  },
  {
   "cell_type": "code",
   "execution_count": 360,
   "metadata": {
    "ExecuteTime": {
     "end_time": "2021-05-25T15:05:48.208350Z",
     "start_time": "2021-05-25T15:05:48.193303Z"
    }
   },
   "outputs": [
    {
     "data": {
      "text/plain": [
       "array([nan, 'caught', 'run out', 'bowled', 'lbw', 'retired hurt',\n",
       "       'stumped', 'caught and bowled', 'hit wicket',\n",
       "       'obstructing the field'], dtype=object)"
      ]
     },
     "execution_count": 360,
     "metadata": {},
     "output_type": "execute_result"
    }
   ],
   "source": [
    "balldf['dismissal_kind'].unique()"
   ]
  },
  {
   "cell_type": "code",
   "execution_count": 361,
   "metadata": {
    "ExecuteTime": {
     "end_time": "2021-05-25T15:05:48.346905Z",
     "start_time": "2021-05-25T15:05:48.210583Z"
    }
   },
   "outputs": [
    {
     "data": {
      "text/html": [
       "<div>\n",
       "<style scoped>\n",
       "    .dataframe tbody tr th:only-of-type {\n",
       "        vertical-align: middle;\n",
       "    }\n",
       "\n",
       "    .dataframe tbody tr th {\n",
       "        vertical-align: top;\n",
       "    }\n",
       "\n",
       "    .dataframe thead th {\n",
       "        text-align: right;\n",
       "    }\n",
       "</style>\n",
       "<table border=\"1\" class=\"dataframe\">\n",
       "  <thead>\n",
       "    <tr style=\"text-align: right;\">\n",
       "      <th></th>\n",
       "      <th>balls_bowled</th>\n",
       "      <th>wickets</th>\n",
       "      <th>overs</th>\n",
       "      <th>runs_conceded</th>\n",
       "    </tr>\n",
       "    <tr>\n",
       "      <th>bowler</th>\n",
       "      <th></th>\n",
       "      <th></th>\n",
       "      <th></th>\n",
       "      <th></th>\n",
       "    </tr>\n",
       "  </thead>\n",
       "  <tbody>\n",
       "    <tr>\n",
       "      <th>A Ashish Reddy</th>\n",
       "      <td>270</td>\n",
       "      <td>18.0</td>\n",
       "      <td>45</td>\n",
       "      <td>396.0</td>\n",
       "    </tr>\n",
       "    <tr>\n",
       "      <th>A Chandila</th>\n",
       "      <td>234</td>\n",
       "      <td>11.0</td>\n",
       "      <td>39</td>\n",
       "      <td>242.0</td>\n",
       "    </tr>\n",
       "    <tr>\n",
       "      <th>A Choudhary</th>\n",
       "      <td>108</td>\n",
       "      <td>5.0</td>\n",
       "      <td>17</td>\n",
       "      <td>144.0</td>\n",
       "    </tr>\n",
       "    <tr>\n",
       "      <th>A Dananjaya</th>\n",
       "      <td>25</td>\n",
       "      <td>0.0</td>\n",
       "      <td>4</td>\n",
       "      <td>47.0</td>\n",
       "    </tr>\n",
       "    <tr>\n",
       "      <th>A Flintoff</th>\n",
       "      <td>66</td>\n",
       "      <td>2.0</td>\n",
       "      <td>11</td>\n",
       "      <td>105.0</td>\n",
       "    </tr>\n",
       "  </tbody>\n",
       "</table>\n",
       "</div>"
      ],
      "text/plain": [
       "                balls_bowled  wickets  overs  runs_conceded\n",
       "bowler                                                     \n",
       "A Ashish Reddy           270     18.0     45          396.0\n",
       "A Chandila               234     11.0     39          242.0\n",
       "A Choudhary              108      5.0     17          144.0\n",
       "A Dananjaya               25      0.0      4           47.0\n",
       "A Flintoff                66      2.0     11          105.0"
      ]
     },
     "execution_count": 361,
     "metadata": {},
     "output_type": "execute_result"
    }
   ],
   "source": [
    "# Group details on bowler\n",
    "bowlgroup = balldf.groupby(['bowler'])\n",
    "\n",
    "# Create a bowling dataframe (bowldf) with a summary statistics for each batsman\n",
    "bowldf = pd.DataFrame(bowlgroup['ball'].count()).rename(columns={'ball':'balls_bowled'})\n",
    "\n",
    "# Get no. of wickets taken by each bowler\n",
    "bwl_wkts = balldf[balldf['dismissal_kind'].isin(['caught','bowled', 'lbw','stumped', 'caught and bowled', 'hit wicket'])]\n",
    "bowldf['wickets'] = bwl_wkts.groupby(['bowler'])['ball'].count()\n",
    "bowldf['wickets'].fillna(0,inplace=True)\n",
    " \n",
    "# Calculate the total no. of overs bowled\n",
    "overs = pd.DataFrame(balldf.groupby(['bowler','id'])['over'].nunique())\n",
    "bowldf['overs'] = overs.groupby(['bowler'])['over'].sum()    \n",
    "\n",
    "# Calculate the runs conceded\n",
    "bowldf['runs_conceded'] = balldf.groupby('bowler')['batsman_runs'].sum()\n",
    "bowldf['runs_conceded'] = bowldf['runs_conceded'].fillna(0)\n",
    "# Add the runs conceded through wide and noball\n",
    "bowldf['runs_conceded'] = bowldf['runs_conceded'].add(balldf[balldf['extras_type'].isin(['wides','noballs'])].groupby('bowler')['extra_runs'].sum(),fill_value=0)\n",
    "\n",
    "bowldf.head()\n"
   ]
  },
  {
   "cell_type": "markdown",
   "metadata": {},
   "source": [
    "## Derived variable - Bowler econ rate"
   ]
  },
  {
   "cell_type": "code",
   "execution_count": 362,
   "metadata": {
    "ExecuteTime": {
     "end_time": "2021-05-25T15:05:48.354617Z",
     "start_time": "2021-05-25T15:05:48.349454Z"
    }
   },
   "outputs": [],
   "source": [
    "# Note - roughly apprx to overs.  Should be runs_conceded/overs.balls\n",
    "bowldf['bowl_econ'] = round(bowldf['runs_conceded']/bowldf['overs'],2)"
   ]
  },
  {
   "cell_type": "code",
   "execution_count": 363,
   "metadata": {
    "ExecuteTime": {
     "end_time": "2021-05-25T15:05:48.378214Z",
     "start_time": "2021-05-25T15:05:48.356623Z"
    }
   },
   "outputs": [
    {
     "data": {
      "text/html": [
       "<div>\n",
       "<style scoped>\n",
       "    .dataframe tbody tr th:only-of-type {\n",
       "        vertical-align: middle;\n",
       "    }\n",
       "\n",
       "    .dataframe tbody tr th {\n",
       "        vertical-align: top;\n",
       "    }\n",
       "\n",
       "    .dataframe thead th {\n",
       "        text-align: right;\n",
       "    }\n",
       "</style>\n",
       "<table border=\"1\" class=\"dataframe\">\n",
       "  <thead>\n",
       "    <tr style=\"text-align: right;\">\n",
       "      <th></th>\n",
       "      <th>balls_bowled</th>\n",
       "      <th>wickets</th>\n",
       "      <th>overs</th>\n",
       "      <th>runs_conceded</th>\n",
       "      <th>bowl_econ</th>\n",
       "    </tr>\n",
       "    <tr>\n",
       "      <th>bowler</th>\n",
       "      <th></th>\n",
       "      <th></th>\n",
       "      <th></th>\n",
       "      <th></th>\n",
       "      <th></th>\n",
       "    </tr>\n",
       "  </thead>\n",
       "  <tbody>\n",
       "    <tr>\n",
       "      <th>YA Abdulla</th>\n",
       "      <td>222</td>\n",
       "      <td>15.0</td>\n",
       "      <td>35</td>\n",
       "      <td>307.0</td>\n",
       "      <td>8.77</td>\n",
       "    </tr>\n",
       "    <tr>\n",
       "      <th>YK Pathan</th>\n",
       "      <td>1184</td>\n",
       "      <td>42.0</td>\n",
       "      <td>193</td>\n",
       "      <td>1415.0</td>\n",
       "      <td>7.33</td>\n",
       "    </tr>\n",
       "    <tr>\n",
       "      <th>YS Chahal</th>\n",
       "      <td>2188</td>\n",
       "      <td>121.0</td>\n",
       "      <td>359</td>\n",
       "      <td>2723.0</td>\n",
       "      <td>7.58</td>\n",
       "    </tr>\n",
       "    <tr>\n",
       "      <th>Yuvraj Singh</th>\n",
       "      <td>882</td>\n",
       "      <td>36.0</td>\n",
       "      <td>146</td>\n",
       "      <td>1077.0</td>\n",
       "      <td>7.38</td>\n",
       "    </tr>\n",
       "    <tr>\n",
       "      <th>Z Khan</th>\n",
       "      <td>2276</td>\n",
       "      <td>102.0</td>\n",
       "      <td>371</td>\n",
       "      <td>2782.0</td>\n",
       "      <td>7.50</td>\n",
       "    </tr>\n",
       "  </tbody>\n",
       "</table>\n",
       "</div>"
      ],
      "text/plain": [
       "              balls_bowled  wickets  overs  runs_conceded  bowl_econ\n",
       "bowler                                                              \n",
       "YA Abdulla             222     15.0     35          307.0       8.77\n",
       "YK Pathan             1184     42.0    193         1415.0       7.33\n",
       "YS Chahal             2188    121.0    359         2723.0       7.58\n",
       "Yuvraj Singh           882     36.0    146         1077.0       7.38\n",
       "Z Khan                2276    102.0    371         2782.0       7.50"
      ]
     },
     "metadata": {},
     "output_type": "display_data"
    }
   ],
   "source": [
    "display(bowldf.tail())"
   ]
  },
  {
   "cell_type": "markdown",
   "metadata": {},
   "source": [
    "# Get all players list along with the matches count"
   ]
  },
  {
   "cell_type": "markdown",
   "metadata": {
    "ExecuteTime": {
     "end_time": "2021-05-25T14:12:01.845833Z",
     "start_time": "2021-05-25T14:12:01.826330Z"
    }
   },
   "source": [
    "Getting total no. of matches:  \n",
    "- If the player's name occurs as batsman, non-striker or bowler consider the player has played that match  \n",
    "- Note: this is a rough approximation for the matches played (there could be players who have played in the match but did not get a chance to bat or bowl in the match)\n"
   ]
  },
  {
   "cell_type": "code",
   "execution_count": 364,
   "metadata": {
    "ExecuteTime": {
     "end_time": "2021-05-25T15:05:48.389358Z",
     "start_time": "2021-05-25T15:05:48.381670Z"
    }
   },
   "outputs": [],
   "source": [
    "def update_player_with_match(player_name, id):\n",
    "    if player_name in all_players_dict:\n",
    "        all_players_dict[player_name].add(id)\n",
    "    else:\n",
    "        all_players_dict[player_name] = {id}\n",
    "    \n",
    "def update_player_list(x):\n",
    "    update_player_with_match(x['batsman'],x['id'])\n",
    "    update_player_with_match(x['non_striker'],x['id'])\n",
    "    update_player_with_match(x['bowler'],x['id']) \n",
    "        \n"
   ]
  },
  {
   "cell_type": "code",
   "execution_count": 365,
   "metadata": {
    "ExecuteTime": {
     "end_time": "2021-05-25T15:05:58.995831Z",
     "start_time": "2021-05-25T15:05:48.392601Z"
    }
   },
   "outputs": [],
   "source": [
    "all_players_dict = {}\n",
    "out_temp = balldf.apply(lambda x: update_player_list(x),axis=1)\n",
    "all_df = pd.DataFrame({'Players':list(all_players_dict.keys())})\n",
    "all_df['matches'] = all_df['Players'].apply(lambda x: len(all_players_dict[x]))\n",
    "all_df=all_df.set_index('Players')"
   ]
  },
  {
   "cell_type": "markdown",
   "metadata": {},
   "source": [
    "# Merged player statistics"
   ]
  },
  {
   "cell_type": "code",
   "execution_count": 366,
   "metadata": {
    "ExecuteTime": {
     "end_time": "2021-05-25T15:05:59.010943Z",
     "start_time": "2021-05-25T15:05:58.997922Z"
    }
   },
   "outputs": [],
   "source": [
    "# Combine the batting and bowling dataframes to create a merged players dataframe\n",
    "players = pd.merge(all_df,batdf, left_index=True, right_index=True,how='outer')\n",
    "players = pd.merge(players,bowldf, left_index=True, right_index=True,how='outer')\n",
    "players.fillna(0,inplace=True)"
   ]
  },
  {
   "cell_type": "code",
   "execution_count": 367,
   "metadata": {
    "ExecuteTime": {
     "end_time": "2021-05-25T15:05:59.030438Z",
     "start_time": "2021-05-25T15:05:59.012486Z"
    }
   },
   "outputs": [
    {
     "data": {
      "text/html": [
       "<div>\n",
       "<style scoped>\n",
       "    .dataframe tbody tr th:only-of-type {\n",
       "        vertical-align: middle;\n",
       "    }\n",
       "\n",
       "    .dataframe tbody tr th {\n",
       "        vertical-align: top;\n",
       "    }\n",
       "\n",
       "    .dataframe thead th {\n",
       "        text-align: right;\n",
       "    }\n",
       "</style>\n",
       "<table border=\"1\" class=\"dataframe\">\n",
       "  <thead>\n",
       "    <tr style=\"text-align: right;\">\n",
       "      <th></th>\n",
       "      <th>matches</th>\n",
       "      <th>balls_faced</th>\n",
       "      <th>innings</th>\n",
       "      <th>runs</th>\n",
       "      <th>4s</th>\n",
       "      <th>6s</th>\n",
       "      <th>bat_average</th>\n",
       "      <th>bat_strike</th>\n",
       "      <th>balls_bowled</th>\n",
       "      <th>wickets</th>\n",
       "      <th>overs</th>\n",
       "      <th>runs_conceded</th>\n",
       "      <th>bowl_econ</th>\n",
       "    </tr>\n",
       "  </thead>\n",
       "  <tbody>\n",
       "    <tr>\n",
       "      <th>YV Takawale</th>\n",
       "      <td>10</td>\n",
       "      <td>183.0</td>\n",
       "      <td>10.0</td>\n",
       "      <td>192.0</td>\n",
       "      <td>26.0</td>\n",
       "      <td>3.0</td>\n",
       "      <td>19.20</td>\n",
       "      <td>104.92</td>\n",
       "      <td>0.0</td>\n",
       "      <td>0.0</td>\n",
       "      <td>0.0</td>\n",
       "      <td>0.0</td>\n",
       "      <td>0.00</td>\n",
       "    </tr>\n",
       "    <tr>\n",
       "      <th>Yashpal Singh</th>\n",
       "      <td>4</td>\n",
       "      <td>67.0</td>\n",
       "      <td>4.0</td>\n",
       "      <td>47.0</td>\n",
       "      <td>5.0</td>\n",
       "      <td>0.0</td>\n",
       "      <td>11.75</td>\n",
       "      <td>70.15</td>\n",
       "      <td>0.0</td>\n",
       "      <td>0.0</td>\n",
       "      <td>0.0</td>\n",
       "      <td>0.0</td>\n",
       "      <td>0.00</td>\n",
       "    </tr>\n",
       "    <tr>\n",
       "      <th>Younis Khan</th>\n",
       "      <td>1</td>\n",
       "      <td>7.0</td>\n",
       "      <td>1.0</td>\n",
       "      <td>3.0</td>\n",
       "      <td>0.0</td>\n",
       "      <td>0.0</td>\n",
       "      <td>3.00</td>\n",
       "      <td>42.86</td>\n",
       "      <td>0.0</td>\n",
       "      <td>0.0</td>\n",
       "      <td>0.0</td>\n",
       "      <td>0.0</td>\n",
       "      <td>0.00</td>\n",
       "    </tr>\n",
       "    <tr>\n",
       "      <th>Yuvraj Singh</th>\n",
       "      <td>129</td>\n",
       "      <td>2205.0</td>\n",
       "      <td>126.0</td>\n",
       "      <td>2750.0</td>\n",
       "      <td>217.0</td>\n",
       "      <td>149.0</td>\n",
       "      <td>21.83</td>\n",
       "      <td>124.72</td>\n",
       "      <td>882.0</td>\n",
       "      <td>36.0</td>\n",
       "      <td>146.0</td>\n",
       "      <td>1077.0</td>\n",
       "      <td>7.38</td>\n",
       "    </tr>\n",
       "    <tr>\n",
       "      <th>Z Khan</th>\n",
       "      <td>99</td>\n",
       "      <td>141.0</td>\n",
       "      <td>27.0</td>\n",
       "      <td>117.0</td>\n",
       "      <td>11.0</td>\n",
       "      <td>2.0</td>\n",
       "      <td>4.33</td>\n",
       "      <td>82.98</td>\n",
       "      <td>2276.0</td>\n",
       "      <td>102.0</td>\n",
       "      <td>371.0</td>\n",
       "      <td>2782.0</td>\n",
       "      <td>7.50</td>\n",
       "    </tr>\n",
       "  </tbody>\n",
       "</table>\n",
       "</div>"
      ],
      "text/plain": [
       "               matches  balls_faced  innings    runs     4s     6s  \\\n",
       "YV Takawale         10        183.0     10.0   192.0   26.0    3.0   \n",
       "Yashpal Singh        4         67.0      4.0    47.0    5.0    0.0   \n",
       "Younis Khan          1          7.0      1.0     3.0    0.0    0.0   \n",
       "Yuvraj Singh       129       2205.0    126.0  2750.0  217.0  149.0   \n",
       "Z Khan              99        141.0     27.0   117.0   11.0    2.0   \n",
       "\n",
       "               bat_average  bat_strike  balls_bowled  wickets  overs  \\\n",
       "YV Takawale          19.20      104.92           0.0      0.0    0.0   \n",
       "Yashpal Singh        11.75       70.15           0.0      0.0    0.0   \n",
       "Younis Khan           3.00       42.86           0.0      0.0    0.0   \n",
       "Yuvraj Singh         21.83      124.72         882.0     36.0  146.0   \n",
       "Z Khan                4.33       82.98        2276.0    102.0  371.0   \n",
       "\n",
       "               runs_conceded  bowl_econ  \n",
       "YV Takawale              0.0       0.00  \n",
       "Yashpal Singh            0.0       0.00  \n",
       "Younis Khan              0.0       0.00  \n",
       "Yuvraj Singh          1077.0       7.38  \n",
       "Z Khan                2782.0       7.50  "
      ]
     },
     "execution_count": 367,
     "metadata": {},
     "output_type": "execute_result"
    }
   ],
   "source": [
    "players.tail()"
   ]
  },
  {
   "cell_type": "markdown",
   "metadata": {},
   "source": [
    "# Create no. of catches statistics"
   ]
  },
  {
   "cell_type": "code",
   "execution_count": 368,
   "metadata": {
    "ExecuteTime": {
     "end_time": "2021-05-25T15:05:59.043014Z",
     "start_time": "2021-05-25T15:05:59.032155Z"
    }
   },
   "outputs": [
    {
     "data": {
      "text/plain": [
       "array([nan, 'caught', 'run out', 'bowled', 'lbw', 'retired hurt',\n",
       "       'stumped', 'caught and bowled', 'hit wicket',\n",
       "       'obstructing the field'], dtype=object)"
      ]
     },
     "execution_count": 368,
     "metadata": {},
     "output_type": "execute_result"
    }
   ],
   "source": [
    "balldf['dismissal_kind'].unique()"
   ]
  },
  {
   "cell_type": "code",
   "execution_count": 369,
   "metadata": {
    "ExecuteTime": {
     "end_time": "2021-05-25T15:05:59.077870Z",
     "start_time": "2021-05-25T15:05:59.044696Z"
    }
   },
   "outputs": [],
   "source": [
    "# Total catches = Number of caught & bowled + number of catches as fielder\n",
    "# Capture caught & bowled instances\n",
    "catches_cb = balldf[(balldf['dismissal_kind'].isin(['caught and bowled']))].groupby('bowler')['ball'].count().rename('bowler_catches')\n",
    "# Capture the catches\n",
    "catches_c = balldf[(balldf['dismissal_kind'].isin(['caught']))].groupby('fielder')['ball'].count().rename('fielder_catches')\n",
    "# Combine the caught & bowled and fielding catches to get the total catches.\n",
    "catches_df = pd.merge(catches_cb,catches_c, left_index=True, right_index=True,how='outer')\n",
    "catches_df.fillna(0,inplace=True)\n",
    "catches_df['catches'] = catches_df['bowler_catches']+catches_df['fielder_catches']\n",
    "catches_df.drop(['bowler_catches','fielder_catches'],axis=1,inplace=True)\n",
    "# Merge total catches to players data\n",
    "players = pd.merge(players,catches_df, left_index=True, right_index=True,how='outer')\n",
    "players.fillna(0,inplace=True)"
   ]
  },
  {
   "cell_type": "markdown",
   "metadata": {},
   "source": [
    "# Number of man of the  matches from matches file"
   ]
  },
  {
   "cell_type": "code",
   "execution_count": 370,
   "metadata": {
    "ExecuteTime": {
     "end_time": "2021-05-25T15:05:59.090841Z",
     "start_time": "2021-05-25T15:05:59.079887Z"
    }
   },
   "outputs": [],
   "source": [
    "players = pd.merge(players,matches['player_of_match'].value_counts(), left_index=True, right_index=True,how='left')\n",
    "players['player_of_match']  = players[['player_of_match']].fillna(0)"
   ]
  },
  {
   "cell_type": "code",
   "execution_count": 371,
   "metadata": {
    "ExecuteTime": {
     "end_time": "2021-05-25T15:05:59.110826Z",
     "start_time": "2021-05-25T15:05:59.093068Z"
    }
   },
   "outputs": [
    {
     "data": {
      "text/html": [
       "<div>\n",
       "<style scoped>\n",
       "    .dataframe tbody tr th:only-of-type {\n",
       "        vertical-align: middle;\n",
       "    }\n",
       "\n",
       "    .dataframe tbody tr th {\n",
       "        vertical-align: top;\n",
       "    }\n",
       "\n",
       "    .dataframe thead th {\n",
       "        text-align: right;\n",
       "    }\n",
       "</style>\n",
       "<table border=\"1\" class=\"dataframe\">\n",
       "  <thead>\n",
       "    <tr style=\"text-align: right;\">\n",
       "      <th></th>\n",
       "      <th>matches</th>\n",
       "      <th>balls_faced</th>\n",
       "      <th>innings</th>\n",
       "      <th>runs</th>\n",
       "      <th>4s</th>\n",
       "      <th>6s</th>\n",
       "      <th>bat_average</th>\n",
       "      <th>bat_strike</th>\n",
       "      <th>balls_bowled</th>\n",
       "      <th>wickets</th>\n",
       "      <th>overs</th>\n",
       "      <th>runs_conceded</th>\n",
       "      <th>bowl_econ</th>\n",
       "      <th>catches</th>\n",
       "      <th>player_of_match</th>\n",
       "    </tr>\n",
       "  </thead>\n",
       "  <tbody>\n",
       "    <tr>\n",
       "      <th>A Ashish Reddy</th>\n",
       "      <td>28.0</td>\n",
       "      <td>196.0</td>\n",
       "      <td>23.0</td>\n",
       "      <td>280.0</td>\n",
       "      <td>16.0</td>\n",
       "      <td>15.0</td>\n",
       "      <td>12.17</td>\n",
       "      <td>142.86</td>\n",
       "      <td>270.0</td>\n",
       "      <td>18.0</td>\n",
       "      <td>45.0</td>\n",
       "      <td>396.0</td>\n",
       "      <td>8.80</td>\n",
       "      <td>9.0</td>\n",
       "      <td>0.0</td>\n",
       "    </tr>\n",
       "    <tr>\n",
       "      <th>A Chandila</th>\n",
       "      <td>12.0</td>\n",
       "      <td>7.0</td>\n",
       "      <td>2.0</td>\n",
       "      <td>4.0</td>\n",
       "      <td>0.0</td>\n",
       "      <td>0.0</td>\n",
       "      <td>2.00</td>\n",
       "      <td>57.14</td>\n",
       "      <td>234.0</td>\n",
       "      <td>11.0</td>\n",
       "      <td>39.0</td>\n",
       "      <td>242.0</td>\n",
       "      <td>6.21</td>\n",
       "      <td>7.0</td>\n",
       "      <td>1.0</td>\n",
       "    </tr>\n",
       "    <tr>\n",
       "      <th>A Chopra</th>\n",
       "      <td>6.0</td>\n",
       "      <td>75.0</td>\n",
       "      <td>6.0</td>\n",
       "      <td>53.0</td>\n",
       "      <td>7.0</td>\n",
       "      <td>0.0</td>\n",
       "      <td>8.83</td>\n",
       "      <td>70.67</td>\n",
       "      <td>0.0</td>\n",
       "      <td>0.0</td>\n",
       "      <td>0.0</td>\n",
       "      <td>0.0</td>\n",
       "      <td>0.00</td>\n",
       "      <td>2.0</td>\n",
       "      <td>0.0</td>\n",
       "    </tr>\n",
       "    <tr>\n",
       "      <th>A Choudhary</th>\n",
       "      <td>5.0</td>\n",
       "      <td>20.0</td>\n",
       "      <td>3.0</td>\n",
       "      <td>25.0</td>\n",
       "      <td>1.0</td>\n",
       "      <td>1.0</td>\n",
       "      <td>8.33</td>\n",
       "      <td>125.00</td>\n",
       "      <td>108.0</td>\n",
       "      <td>5.0</td>\n",
       "      <td>17.0</td>\n",
       "      <td>144.0</td>\n",
       "      <td>8.47</td>\n",
       "      <td>0.0</td>\n",
       "      <td>0.0</td>\n",
       "    </tr>\n",
       "    <tr>\n",
       "      <th>A Dananjaya</th>\n",
       "      <td>1.0</td>\n",
       "      <td>5.0</td>\n",
       "      <td>1.0</td>\n",
       "      <td>4.0</td>\n",
       "      <td>0.0</td>\n",
       "      <td>0.0</td>\n",
       "      <td>4.00</td>\n",
       "      <td>80.00</td>\n",
       "      <td>25.0</td>\n",
       "      <td>0.0</td>\n",
       "      <td>4.0</td>\n",
       "      <td>47.0</td>\n",
       "      <td>11.75</td>\n",
       "      <td>0.0</td>\n",
       "      <td>0.0</td>\n",
       "    </tr>\n",
       "  </tbody>\n",
       "</table>\n",
       "</div>"
      ],
      "text/plain": [
       "                matches  balls_faced  innings   runs    4s    6s  bat_average  \\\n",
       "A Ashish Reddy     28.0        196.0     23.0  280.0  16.0  15.0        12.17   \n",
       "A Chandila         12.0          7.0      2.0    4.0   0.0   0.0         2.00   \n",
       "A Chopra            6.0         75.0      6.0   53.0   7.0   0.0         8.83   \n",
       "A Choudhary         5.0         20.0      3.0   25.0   1.0   1.0         8.33   \n",
       "A Dananjaya         1.0          5.0      1.0    4.0   0.0   0.0         4.00   \n",
       "\n",
       "                bat_strike  balls_bowled  wickets  overs  runs_conceded  \\\n",
       "A Ashish Reddy      142.86         270.0     18.0   45.0          396.0   \n",
       "A Chandila           57.14         234.0     11.0   39.0          242.0   \n",
       "A Chopra             70.67           0.0      0.0    0.0            0.0   \n",
       "A Choudhary         125.00         108.0      5.0   17.0          144.0   \n",
       "A Dananjaya          80.00          25.0      0.0    4.0           47.0   \n",
       "\n",
       "                bowl_econ  catches  player_of_match  \n",
       "A Ashish Reddy       8.80      9.0              0.0  \n",
       "A Chandila           6.21      7.0              1.0  \n",
       "A Chopra             0.00      2.0              0.0  \n",
       "A Choudhary          8.47      0.0              0.0  \n",
       "A Dananjaya         11.75      0.0              0.0  "
      ]
     },
     "execution_count": 371,
     "metadata": {},
     "output_type": "execute_result"
    }
   ],
   "source": [
    "players.head()"
   ]
  },
  {
   "cell_type": "markdown",
   "metadata": {},
   "source": [
    "# Filtering: Remove players who have played less matches"
   ]
  },
  {
   "cell_type": "code",
   "execution_count": 372,
   "metadata": {
    "ExecuteTime": {
     "end_time": "2021-05-25T15:05:59.115562Z",
     "start_time": "2021-05-25T15:05:59.112720Z"
    }
   },
   "outputs": [],
   "source": [
    "# Backup before data filtering\n",
    "all_players = players.copy()\n",
    "\n",
    "ALL_COLUMN_NAMES = list(players.columns)"
   ]
  },
  {
   "cell_type": "code",
   "execution_count": 373,
   "metadata": {
    "ExecuteTime": {
     "end_time": "2021-05-25T15:05:59.121412Z",
     "start_time": "2021-05-25T15:05:59.117705Z"
    }
   },
   "outputs": [
    {
     "data": {
      "text/plain": [
       "(648, 15)"
      ]
     },
     "execution_count": 373,
     "metadata": {},
     "output_type": "execute_result"
    }
   ],
   "source": [
    "players.shape"
   ]
  },
  {
   "cell_type": "code",
   "execution_count": 374,
   "metadata": {
    "ExecuteTime": {
     "end_time": "2021-05-25T15:05:59.440427Z",
     "start_time": "2021-05-25T15:05:59.122935Z"
    }
   },
   "outputs": [
    {
     "data": {
      "image/png": "[encoded data removed]",
      "text/plain": [
       "<Figure size 360x360 with 1 Axes>"
      ]
     },
     "metadata": {
      "needs_background": "light"
     },
     "output_type": "display_data"
    }
   ],
   "source": [
    "sns.displot(players['innings'],kde=True)\n",
    "plt.title('Density plot (distplot) for innings')\n",
    "plt.show()"
   ]
  },
  {
   "cell_type": "code",
   "execution_count": 375,
   "metadata": {
    "ExecuteTime": {
     "end_time": "2021-05-25T15:05:59.451201Z",
     "start_time": "2021-05-25T15:05:59.442749Z"
    },
    "scrolled": true
   },
   "outputs": [
    {
     "data": {
      "text/plain": [
       "count    648.000000\n",
       "mean      18.768519\n",
       "std       32.885716\n",
       "min        0.000000\n",
       "25%        1.000000\n",
       "50%        5.000000\n",
       "75%       19.000000\n",
       "max      194.000000\n",
       "Name: innings, dtype: float64"
      ]
     },
     "execution_count": 375,
     "metadata": {},
     "output_type": "execute_result"
    }
   ],
   "source": [
    "players['innings'].describe()"
   ]
  },
  {
   "cell_type": "code",
   "execution_count": 376,
   "metadata": {
    "ExecuteTime": {
     "end_time": "2021-05-25T15:05:59.458585Z",
     "start_time": "2021-05-25T15:05:59.453213Z"
    }
   },
   "outputs": [],
   "source": [
    "# Cut off on no. of matches\n",
    "\n",
    "# Current Analysis: Players who have played atleast 10 matches\n",
    "CUTOFF_MATCHES = 10\n",
    "players=players[players['innings']>=CUTOFF_MATCHES]"
   ]
  },
  {
   "cell_type": "code",
   "execution_count": 377,
   "metadata": {
    "ExecuteTime": {
     "end_time": "2021-05-25T15:05:59.464209Z",
     "start_time": "2021-05-25T15:05:59.460463Z"
    }
   },
   "outputs": [
    {
     "data": {
      "text/plain": [
       "(251, 15)"
      ]
     },
     "execution_count": 377,
     "metadata": {},
     "output_type": "execute_result"
    }
   ],
   "source": [
    "players.shape"
   ]
  },
  {
   "cell_type": "code",
   "execution_count": 378,
   "metadata": {
    "ExecuteTime": {
     "end_time": "2021-05-25T15:05:59.727327Z",
     "start_time": "2021-05-25T15:05:59.465781Z"
    }
   },
   "outputs": [
    {
     "data": {
      "image/png": "[encoded data removed]",
      "text/plain": [
       "<Figure size 360x360 with 1 Axes>"
      ]
     },
     "metadata": {
      "needs_background": "light"
     },
     "output_type": "display_data"
    }
   ],
   "source": [
    "sns.displot(players['innings'],kde=True)\n",
    "plt.title('Density plot (distplot) for innings')\n",
    "plt.show()"
   ]
  },
  {
   "cell_type": "markdown",
   "metadata": {
    "ExecuteTime": {
     "end_time": "2021-05-24T14:31:57.650667Z",
     "start_time": "2021-05-24T14:31:57.647568Z"
    }
   },
   "source": [
    "# Explore the players data"
   ]
  },
  {
   "cell_type": "code",
   "execution_count": 379,
   "metadata": {
    "ExecuteTime": {
     "end_time": "2021-05-25T15:05:59.746660Z",
     "start_time": "2021-05-25T15:05:59.729796Z"
    }
   },
   "outputs": [
    {
     "data": {
      "text/html": [
       "<div>\n",
       "<style scoped>\n",
       "    .dataframe tbody tr th:only-of-type {\n",
       "        vertical-align: middle;\n",
       "    }\n",
       "\n",
       "    .dataframe tbody tr th {\n",
       "        vertical-align: top;\n",
       "    }\n",
       "\n",
       "    .dataframe thead th {\n",
       "        text-align: right;\n",
       "    }\n",
       "</style>\n",
       "<table border=\"1\" class=\"dataframe\">\n",
       "  <thead>\n",
       "    <tr style=\"text-align: right;\">\n",
       "      <th></th>\n",
       "      <th>matches</th>\n",
       "      <th>balls_faced</th>\n",
       "      <th>innings</th>\n",
       "      <th>runs</th>\n",
       "      <th>4s</th>\n",
       "      <th>6s</th>\n",
       "      <th>bat_average</th>\n",
       "      <th>bat_strike</th>\n",
       "      <th>balls_bowled</th>\n",
       "      <th>wickets</th>\n",
       "      <th>overs</th>\n",
       "      <th>runs_conceded</th>\n",
       "      <th>bowl_econ</th>\n",
       "      <th>catches</th>\n",
       "      <th>player_of_match</th>\n",
       "    </tr>\n",
       "  </thead>\n",
       "  <tbody>\n",
       "    <tr>\n",
       "      <th>A Ashish Reddy</th>\n",
       "      <td>28.0</td>\n",
       "      <td>196.0</td>\n",
       "      <td>23.0</td>\n",
       "      <td>280.0</td>\n",
       "      <td>16.0</td>\n",
       "      <td>15.0</td>\n",
       "      <td>12.17</td>\n",
       "      <td>142.86</td>\n",
       "      <td>270.0</td>\n",
       "      <td>18.0</td>\n",
       "      <td>45.0</td>\n",
       "      <td>396.0</td>\n",
       "      <td>8.80</td>\n",
       "      <td>9.0</td>\n",
       "      <td>0.0</td>\n",
       "    </tr>\n",
       "    <tr>\n",
       "      <th>A Kumble</th>\n",
       "      <td>42.0</td>\n",
       "      <td>49.0</td>\n",
       "      <td>15.0</td>\n",
       "      <td>35.0</td>\n",
       "      <td>3.0</td>\n",
       "      <td>0.0</td>\n",
       "      <td>2.33</td>\n",
       "      <td>71.43</td>\n",
       "      <td>983.0</td>\n",
       "      <td>45.0</td>\n",
       "      <td>163.0</td>\n",
       "      <td>1058.0</td>\n",
       "      <td>6.49</td>\n",
       "      <td>10.0</td>\n",
       "      <td>3.0</td>\n",
       "    </tr>\n",
       "    <tr>\n",
       "      <th>A Mishra</th>\n",
       "      <td>150.0</td>\n",
       "      <td>410.0</td>\n",
       "      <td>54.0</td>\n",
       "      <td>362.0</td>\n",
       "      <td>29.0</td>\n",
       "      <td>5.0</td>\n",
       "      <td>6.70</td>\n",
       "      <td>88.29</td>\n",
       "      <td>3233.0</td>\n",
       "      <td>160.0</td>\n",
       "      <td>529.0</td>\n",
       "      <td>3867.0</td>\n",
       "      <td>7.31</td>\n",
       "      <td>21.0</td>\n",
       "      <td>11.0</td>\n",
       "    </tr>\n",
       "    <tr>\n",
       "      <th>A Nehra</th>\n",
       "      <td>88.0</td>\n",
       "      <td>63.0</td>\n",
       "      <td>17.0</td>\n",
       "      <td>41.0</td>\n",
       "      <td>3.0</td>\n",
       "      <td>1.0</td>\n",
       "      <td>2.41</td>\n",
       "      <td>65.08</td>\n",
       "      <td>1974.0</td>\n",
       "      <td>106.0</td>\n",
       "      <td>320.0</td>\n",
       "      <td>2495.0</td>\n",
       "      <td>7.80</td>\n",
       "      <td>19.0</td>\n",
       "      <td>6.0</td>\n",
       "    </tr>\n",
       "    <tr>\n",
       "      <th>A Symonds</th>\n",
       "      <td>36.0</td>\n",
       "      <td>781.0</td>\n",
       "      <td>36.0</td>\n",
       "      <td>974.0</td>\n",
       "      <td>74.0</td>\n",
       "      <td>41.0</td>\n",
       "      <td>27.06</td>\n",
       "      <td>124.71</td>\n",
       "      <td>540.0</td>\n",
       "      <td>20.0</td>\n",
       "      <td>88.0</td>\n",
       "      <td>674.0</td>\n",
       "      <td>7.66</td>\n",
       "      <td>21.0</td>\n",
       "      <td>3.0</td>\n",
       "    </tr>\n",
       "  </tbody>\n",
       "</table>\n",
       "</div>"
      ],
      "text/plain": [
       "                matches  balls_faced  innings   runs    4s    6s  bat_average  \\\n",
       "A Ashish Reddy     28.0        196.0     23.0  280.0  16.0  15.0        12.17   \n",
       "A Kumble           42.0         49.0     15.0   35.0   3.0   0.0         2.33   \n",
       "A Mishra          150.0        410.0     54.0  362.0  29.0   5.0         6.70   \n",
       "A Nehra            88.0         63.0     17.0   41.0   3.0   1.0         2.41   \n",
       "A Symonds          36.0        781.0     36.0  974.0  74.0  41.0        27.06   \n",
       "\n",
       "                bat_strike  balls_bowled  wickets  overs  runs_conceded  \\\n",
       "A Ashish Reddy      142.86         270.0     18.0   45.0          396.0   \n",
       "A Kumble             71.43         983.0     45.0  163.0         1058.0   \n",
       "A Mishra             88.29        3233.0    160.0  529.0         3867.0   \n",
       "A Nehra              65.08        1974.0    106.0  320.0         2495.0   \n",
       "A Symonds           124.71         540.0     20.0   88.0          674.0   \n",
       "\n",
       "                bowl_econ  catches  player_of_match  \n",
       "A Ashish Reddy       8.80      9.0              0.0  \n",
       "A Kumble             6.49     10.0              3.0  \n",
       "A Mishra             7.31     21.0             11.0  \n",
       "A Nehra              7.80     19.0              6.0  \n",
       "A Symonds            7.66     21.0              3.0  "
      ]
     },
     "execution_count": 379,
     "metadata": {},
     "output_type": "execute_result"
    }
   ],
   "source": [
    "players.head()"
   ]
  },
  {
   "cell_type": "code",
   "execution_count": 380,
   "metadata": {
    "ExecuteTime": {
     "end_time": "2021-05-25T15:05:59.931208Z",
     "start_time": "2021-05-25T15:05:59.748099Z"
    }
   },
   "outputs": [
    {
     "data": {
      "text/plain": [
       "<function matplotlib.pyplot.show(*args, **kw)>"
      ]
     },
     "execution_count": 380,
     "metadata": {},
     "output_type": "execute_result"
    },
    {
     "data": {
      "image/png": "[encoded data removed]",
      "text/plain": [
       "<Figure size 432x288 with 1 Axes>"
      ]
     },
     "metadata": {
      "needs_background": "light"
     },
     "output_type": "display_data"
    }
   ],
   "source": [
    "sns.scatterplot(data=players, x=\"runs\", y=\"wickets\")\n",
    "plt.title(\"Runs vs wickets\")\n",
    "plt.show"
   ]
  },
  {
   "cell_type": "code",
   "execution_count": null,
   "metadata": {},
   "outputs": [],
   "source": []
  },
  {
   "cell_type": "code",
   "execution_count": null,
   "metadata": {},
   "outputs": [],
   "source": []
  },
  {
   "cell_type": "code",
   "execution_count": null,
   "metadata": {},
   "outputs": [],
   "source": []
  },
  {
   "cell_type": "markdown",
   "metadata": {},
   "source": [
    "# Scale the data"
   ]
  },
  {
   "cell_type": "code",
   "execution_count": 381,
   "metadata": {
    "ExecuteTime": {
     "end_time": "2021-05-25T15:05:59.952995Z",
     "start_time": "2021-05-25T15:05:59.933450Z"
    }
   },
   "outputs": [
    {
     "data": {
      "text/html": [
       "<div>\n",
       "<style scoped>\n",
       "    .dataframe tbody tr th:only-of-type {\n",
       "        vertical-align: middle;\n",
       "    }\n",
       "\n",
       "    .dataframe tbody tr th {\n",
       "        vertical-align: top;\n",
       "    }\n",
       "\n",
       "    .dataframe thead th {\n",
       "        text-align: right;\n",
       "    }\n",
       "</style>\n",
       "<table border=\"1\" class=\"dataframe\">\n",
       "  <thead>\n",
       "    <tr style=\"text-align: right;\">\n",
       "      <th></th>\n",
       "      <th>matches</th>\n",
       "      <th>balls_faced</th>\n",
       "      <th>innings</th>\n",
       "      <th>runs</th>\n",
       "      <th>4s</th>\n",
       "      <th>6s</th>\n",
       "      <th>bat_average</th>\n",
       "      <th>bat_strike</th>\n",
       "      <th>balls_bowled</th>\n",
       "      <th>wickets</th>\n",
       "      <th>overs</th>\n",
       "      <th>runs_conceded</th>\n",
       "      <th>bowl_econ</th>\n",
       "      <th>catches</th>\n",
       "      <th>player_of_match</th>\n",
       "    </tr>\n",
       "  </thead>\n",
       "  <tbody>\n",
       "    <tr>\n",
       "      <th>0</th>\n",
       "      <td>-0.681449</td>\n",
       "      <td>-0.586132</td>\n",
       "      <td>-0.514618</td>\n",
       "      <td>-0.537008</td>\n",
       "      <td>-0.596562</td>\n",
       "      <td>-0.394531</td>\n",
       "      <td>-0.476250</td>\n",
       "      <td>1.197842</td>\n",
       "      <td>-0.400299</td>\n",
       "      <td>-0.220922</td>\n",
       "      <td>-0.391620</td>\n",
       "      <td>-0.353023</td>\n",
       "      <td>0.772222</td>\n",
       "      <td>-0.561588</td>\n",
       "      <td>-0.755049</td>\n",
       "    </tr>\n",
       "    <tr>\n",
       "      <th>1</th>\n",
       "      <td>-0.363228</td>\n",
       "      <td>-0.746431</td>\n",
       "      <td>-0.707912</td>\n",
       "      <td>-0.743238</td>\n",
       "      <td>-0.710905</td>\n",
       "      <td>-0.698918</td>\n",
       "      <td>-1.604319</td>\n",
       "      <td>-2.082638</td>\n",
       "      <td>0.495151</td>\n",
       "      <td>0.507283</td>\n",
       "      <td>0.520538</td>\n",
       "      <td>0.320197</td>\n",
       "      <td>0.193070</td>\n",
       "      <td>-0.513659</td>\n",
       "      <td>0.003020</td>\n",
       "    </tr>\n",
       "    <tr>\n",
       "      <th>2</th>\n",
       "      <td>2.091618</td>\n",
       "      <td>-0.352772</td>\n",
       "      <td>0.234399</td>\n",
       "      <td>-0.467985</td>\n",
       "      <td>-0.482219</td>\n",
       "      <td>-0.597456</td>\n",
       "      <td>-1.103337</td>\n",
       "      <td>-1.308329</td>\n",
       "      <td>3.320906</td>\n",
       "      <td>3.608900</td>\n",
       "      <td>3.349777</td>\n",
       "      <td>3.176804</td>\n",
       "      <td>0.398656</td>\n",
       "      <td>0.013558</td>\n",
       "      <td>2.024537</td>\n",
       "    </tr>\n",
       "    <tr>\n",
       "      <th>3</th>\n",
       "      <td>0.682355</td>\n",
       "      <td>-0.731164</td>\n",
       "      <td>-0.659589</td>\n",
       "      <td>-0.738188</td>\n",
       "      <td>-0.710905</td>\n",
       "      <td>-0.678626</td>\n",
       "      <td>-1.595148</td>\n",
       "      <td>-2.374267</td>\n",
       "      <td>1.739740</td>\n",
       "      <td>2.152489</td>\n",
       "      <td>1.734173</td>\n",
       "      <td>1.781551</td>\n",
       "      <td>0.521507</td>\n",
       "      <td>-0.082300</td>\n",
       "      <td>0.761089</td>\n",
       "    </tr>\n",
       "    <tr>\n",
       "      <th>4</th>\n",
       "      <td>-0.499608</td>\n",
       "      <td>0.051791</td>\n",
       "      <td>-0.200514</td>\n",
       "      <td>0.047168</td>\n",
       "      <td>-0.086415</td>\n",
       "      <td>0.133073</td>\n",
       "      <td>1.230758</td>\n",
       "      <td>0.364289</td>\n",
       "      <td>-0.061208</td>\n",
       "      <td>-0.166981</td>\n",
       "      <td>-0.059223</td>\n",
       "      <td>-0.070311</td>\n",
       "      <td>0.486407</td>\n",
       "      <td>0.013558</td>\n",
       "      <td>0.003020</td>\n",
       "    </tr>\n",
       "  </tbody>\n",
       "</table>\n",
       "</div>"
      ],
      "text/plain": [
       "    matches  balls_faced   innings      runs        4s        6s  bat_average  \\\n",
       "0 -0.681449    -0.586132 -0.514618 -0.537008 -0.596562 -0.394531    -0.476250   \n",
       "1 -0.363228    -0.746431 -0.707912 -0.743238 -0.710905 -0.698918    -1.604319   \n",
       "2  2.091618    -0.352772  0.234399 -0.467985 -0.482219 -0.597456    -1.103337   \n",
       "3  0.682355    -0.731164 -0.659589 -0.738188 -0.710905 -0.678626    -1.595148   \n",
       "4 -0.499608     0.051791 -0.200514  0.047168 -0.086415  0.133073     1.230758   \n",
       "\n",
       "   bat_strike  balls_bowled   wickets     overs  runs_conceded  bowl_econ  \\\n",
       "0    1.197842     -0.400299 -0.220922 -0.391620      -0.353023   0.772222   \n",
       "1   -2.082638      0.495151  0.507283  0.520538       0.320197   0.193070   \n",
       "2   -1.308329      3.320906  3.608900  3.349777       3.176804   0.398656   \n",
       "3   -2.374267      1.739740  2.152489  1.734173       1.781551   0.521507   \n",
       "4    0.364289     -0.061208 -0.166981 -0.059223      -0.070311   0.486407   \n",
       "\n",
       "    catches  player_of_match  \n",
       "0 -0.561588        -0.755049  \n",
       "1 -0.513659         0.003020  \n",
       "2  0.013558         2.024537  \n",
       "3 -0.082300         0.761089  \n",
       "4  0.013558         0.003020  "
      ]
     },
     "execution_count": 381,
     "metadata": {},
     "output_type": "execute_result"
    }
   ],
   "source": [
    "# Standard Scaler (mean = 0 and standard deviation = 1)\n",
    "scaler = StandardScaler()\n",
    "\n",
    "# fit_transform\n",
    "players_scaled = pd.DataFrame(scaler.fit_transform(players),columns=players.columns)\n",
    "players_scaled.shape\n",
    "players_scaled.head()\n",
    "\n",
    "\n",
    "# TESTING -  CONSIDER  ONLY RUNS AND WICKETS\n",
    "#players_scaled  = players_scaled[['runs','wickets','catches']]"
   ]
  },
  {
   "cell_type": "code",
   "execution_count": 382,
   "metadata": {
    "ExecuteTime": {
     "end_time": "2021-05-25T15:06:00.008150Z",
     "start_time": "2021-05-25T15:05:59.954527Z"
    }
   },
   "outputs": [
    {
     "data": {
      "text/html": [
       "<div>\n",
       "<style scoped>\n",
       "    .dataframe tbody tr th:only-of-type {\n",
       "        vertical-align: middle;\n",
       "    }\n",
       "\n",
       "    .dataframe tbody tr th {\n",
       "        vertical-align: top;\n",
       "    }\n",
       "\n",
       "    .dataframe thead th {\n",
       "        text-align: right;\n",
       "    }\n",
       "</style>\n",
       "<table border=\"1\" class=\"dataframe\">\n",
       "  <thead>\n",
       "    <tr style=\"text-align: right;\">\n",
       "      <th></th>\n",
       "      <th>matches</th>\n",
       "      <th>balls_faced</th>\n",
       "      <th>innings</th>\n",
       "      <th>runs</th>\n",
       "      <th>4s</th>\n",
       "      <th>6s</th>\n",
       "      <th>bat_average</th>\n",
       "      <th>bat_strike</th>\n",
       "      <th>balls_bowled</th>\n",
       "      <th>wickets</th>\n",
       "      <th>overs</th>\n",
       "      <th>runs_conceded</th>\n",
       "      <th>bowl_econ</th>\n",
       "      <th>catches</th>\n",
       "      <th>player_of_match</th>\n",
       "    </tr>\n",
       "  </thead>\n",
       "  <tbody>\n",
       "    <tr>\n",
       "      <th>count</th>\n",
       "      <td>2.510000e+02</td>\n",
       "      <td>2.510000e+02</td>\n",
       "      <td>2.510000e+02</td>\n",
       "      <td>2.510000e+02</td>\n",
       "      <td>2.510000e+02</td>\n",
       "      <td>2.510000e+02</td>\n",
       "      <td>2.510000e+02</td>\n",
       "      <td>2.510000e+02</td>\n",
       "      <td>2.510000e+02</td>\n",
       "      <td>2.510000e+02</td>\n",
       "      <td>2.510000e+02</td>\n",
       "      <td>2.510000e+02</td>\n",
       "      <td>2.510000e+02</td>\n",
       "      <td>2.510000e+02</td>\n",
       "      <td>2.510000e+02</td>\n",
       "    </tr>\n",
       "    <tr>\n",
       "      <th>mean</th>\n",
       "      <td>-1.415424e-17</td>\n",
       "      <td>5.661695e-17</td>\n",
       "      <td>-3.538559e-18</td>\n",
       "      <td>-4.246271e-17</td>\n",
       "      <td>2.830848e-17</td>\n",
       "      <td>7.607903e-17</td>\n",
       "      <td>7.430975e-17</td>\n",
       "      <td>-1.698509e-16</td>\n",
       "      <td>5.750159e-17</td>\n",
       "      <td>-2.476992e-17</td>\n",
       "      <td>-1.769280e-17</td>\n",
       "      <td>-5.307839e-18</td>\n",
       "      <td>-7.784831e-17</td>\n",
       "      <td>4.157807e-17</td>\n",
       "      <td>5.130911e-17</td>\n",
       "    </tr>\n",
       "    <tr>\n",
       "      <th>std</th>\n",
       "      <td>1.001998e+00</td>\n",
       "      <td>1.001998e+00</td>\n",
       "      <td>1.001998e+00</td>\n",
       "      <td>1.001998e+00</td>\n",
       "      <td>1.001998e+00</td>\n",
       "      <td>1.001998e+00</td>\n",
       "      <td>1.001998e+00</td>\n",
       "      <td>1.001998e+00</td>\n",
       "      <td>1.001998e+00</td>\n",
       "      <td>1.001998e+00</td>\n",
       "      <td>1.001998e+00</td>\n",
       "      <td>1.001998e+00</td>\n",
       "      <td>1.001998e+00</td>\n",
       "      <td>1.001998e+00</td>\n",
       "      <td>1.001998e+00</td>\n",
       "    </tr>\n",
       "    <tr>\n",
       "      <th>min</th>\n",
       "      <td>-1.090590e+00</td>\n",
       "      <td>-7.551544e-01</td>\n",
       "      <td>-8.287215e-01</td>\n",
       "      <td>-7.592314e-01</td>\n",
       "      <td>-7.372922e-01</td>\n",
       "      <td>-6.989182e-01</td>\n",
       "      <td>-1.775134e+00</td>\n",
       "      <td>-3.729996e+00</td>\n",
       "      <td>-7.393897e-01</td>\n",
       "      <td>-7.063928e-01</td>\n",
       "      <td>-7.394775e-01</td>\n",
       "      <td>-7.557342e-01</td>\n",
       "      <td>-1.434069e+00</td>\n",
       "      <td>-9.929471e-01</td>\n",
       "      <td>-7.550485e-01</td>\n",
       "    </tr>\n",
       "    <tr>\n",
       "      <th>25%</th>\n",
       "      <td>-8.178293e-01</td>\n",
       "      <td>-6.493792e-01</td>\n",
       "      <td>-6.837506e-01</td>\n",
       "      <td>-6.380189e-01</td>\n",
       "      <td>-6.405401e-01</td>\n",
       "      <td>-5.974558e-01</td>\n",
       "      <td>-7.892201e-01</td>\n",
       "      <td>-5.174868e-01</td>\n",
       "      <td>-7.393897e-01</td>\n",
       "      <td>-7.063928e-01</td>\n",
       "      <td>-7.394775e-01</td>\n",
       "      <td>-7.557342e-01</td>\n",
       "      <td>-1.434069e+00</td>\n",
       "      <td>-6.574456e-01</td>\n",
       "      <td>-6.287037e-01</td>\n",
       "    </tr>\n",
       "    <tr>\n",
       "      <th>50%</th>\n",
       "      <td>-3.177680e-01</td>\n",
       "      <td>-4.498239e-01</td>\n",
       "      <td>-4.662942e-01</td>\n",
       "      <td>-4.570419e-01</td>\n",
       "      <td>-4.558316e-01</td>\n",
       "      <td>-3.945310e-01</td>\n",
       "      <td>-1.518151e-01</td>\n",
       "      <td>1.461410e-01</td>\n",
       "      <td>-4.392317e-01</td>\n",
       "      <td>-4.906282e-01</td>\n",
       "      <td>-4.380013e-01</td>\n",
       "      <td>-4.313278e-01</td>\n",
       "      <td>4.462923e-01</td>\n",
       "      <td>-3.219440e-01</td>\n",
       "      <td>-2.496694e-01</td>\n",
       "    </tr>\n",
       "    <tr>\n",
       "      <th>75%</th>\n",
       "      <td>5.346092e-01</td>\n",
       "      <td>2.279009e-01</td>\n",
       "      <td>4.035312e-01</td>\n",
       "      <td>2.723374e-01</td>\n",
       "      <td>1.730569e-01</td>\n",
       "      <td>1.432196e-01</td>\n",
       "      <td>7.045546e-01</td>\n",
       "      <td>6.393841e-01</td>\n",
       "      <td>4.078669e-01</td>\n",
       "      <td>3.724304e-01</td>\n",
       "      <td>4.007210e-01</td>\n",
       "      <td>3.766374e-01</td>\n",
       "      <td>6.368355e-01</td>\n",
       "      <td>2.292371e-01</td>\n",
       "      <td>2.557098e-01</td>\n",
       "    </tr>\n",
       "    <tr>\n",
       "      <th>max</th>\n",
       "      <td>3.114471e+00</td>\n",
       "      <td>4.226096e+00</td>\n",
       "      <td>3.617053e+00</td>\n",
       "      <td>4.175127e+00</td>\n",
       "      <td>4.460933e+00</td>\n",
       "      <td>6.383156e+00</td>\n",
       "      <td>2.441369e+00</td>\n",
       "      <td>2.536119e+00</td>\n",
       "      <td>3.594691e+00</td>\n",
       "      <td>3.878606e+00</td>\n",
       "      <td>3.612602e+00</td>\n",
       "      <td>3.579515e+00</td>\n",
       "      <td>3.580227e+00</td>\n",
       "      <td>4.662650e+00</td>\n",
       "      <td>5.056812e+00</td>\n",
       "    </tr>\n",
       "  </tbody>\n",
       "</table>\n",
       "</div>"
      ],
      "text/plain": [
       "            matches   balls_faced       innings          runs            4s  \\\n",
       "count  2.510000e+02  2.510000e+02  2.510000e+02  2.510000e+02  2.510000e+02   \n",
       "mean  -1.415424e-17  5.661695e-17 -3.538559e-18 -4.246271e-17  2.830848e-17   \n",
       "std    1.001998e+00  1.001998e+00  1.001998e+00  1.001998e+00  1.001998e+00   \n",
       "min   -1.090590e+00 -7.551544e-01 -8.287215e-01 -7.592314e-01 -7.372922e-01   \n",
       "25%   -8.178293e-01 -6.493792e-01 -6.837506e-01 -6.380189e-01 -6.405401e-01   \n",
       "50%   -3.177680e-01 -4.498239e-01 -4.662942e-01 -4.570419e-01 -4.558316e-01   \n",
       "75%    5.346092e-01  2.279009e-01  4.035312e-01  2.723374e-01  1.730569e-01   \n",
       "max    3.114471e+00  4.226096e+00  3.617053e+00  4.175127e+00  4.460933e+00   \n",
       "\n",
       "                 6s   bat_average    bat_strike  balls_bowled       wickets  \\\n",
       "count  2.510000e+02  2.510000e+02  2.510000e+02  2.510000e+02  2.510000e+02   \n",
       "mean   7.607903e-17  7.430975e-17 -1.698509e-16  5.750159e-17 -2.476992e-17   \n",
       "std    1.001998e+00  1.001998e+00  1.001998e+00  1.001998e+00  1.001998e+00   \n",
       "min   -6.989182e-01 -1.775134e+00 -3.729996e+00 -7.393897e-01 -7.063928e-01   \n",
       "25%   -5.974558e-01 -7.892201e-01 -5.174868e-01 -7.393897e-01 -7.063928e-01   \n",
       "50%   -3.945310e-01 -1.518151e-01  1.461410e-01 -4.392317e-01 -4.906282e-01   \n",
       "75%    1.432196e-01  7.045546e-01  6.393841e-01  4.078669e-01  3.724304e-01   \n",
       "max    6.383156e+00  2.441369e+00  2.536119e+00  3.594691e+00  3.878606e+00   \n",
       "\n",
       "              overs  runs_conceded     bowl_econ       catches  \\\n",
       "count  2.510000e+02   2.510000e+02  2.510000e+02  2.510000e+02   \n",
       "mean  -1.769280e-17  -5.307839e-18 -7.784831e-17  4.157807e-17   \n",
       "std    1.001998e+00   1.001998e+00  1.001998e+00  1.001998e+00   \n",
       "min   -7.394775e-01  -7.557342e-01 -1.434069e+00 -9.929471e-01   \n",
       "25%   -7.394775e-01  -7.557342e-01 -1.434069e+00 -6.574456e-01   \n",
       "50%   -4.380013e-01  -4.313278e-01  4.462923e-01 -3.219440e-01   \n",
       "75%    4.007210e-01   3.766374e-01  6.368355e-01  2.292371e-01   \n",
       "max    3.612602e+00   3.579515e+00  3.580227e+00  4.662650e+00   \n",
       "\n",
       "       player_of_match  \n",
       "count     2.510000e+02  \n",
       "mean      5.130911e-17  \n",
       "std       1.001998e+00  \n",
       "min      -7.550485e-01  \n",
       "25%      -6.287037e-01  \n",
       "50%      -2.496694e-01  \n",
       "75%       2.557098e-01  \n",
       "max       5.056812e+00  "
      ]
     },
     "execution_count": 382,
     "metadata": {},
     "output_type": "execute_result"
    }
   ],
   "source": [
    "# Mean around ~0 and standard deviation ~1 in all the scaled columns\n",
    "players_scaled.describe()"
   ]
  },
  {
   "cell_type": "markdown",
   "metadata": {},
   "source": [
    "# update player name as column"
   ]
  },
  {
   "cell_type": "code",
   "execution_count": 383,
   "metadata": {
    "ExecuteTime": {
     "end_time": "2021-05-25T15:06:00.013403Z",
     "start_time": "2021-05-25T15:06:00.009888Z"
    }
   },
   "outputs": [],
   "source": [
    "players.insert(0, 'name', players.index)"
   ]
  },
  {
   "cell_type": "code",
   "execution_count": 384,
   "metadata": {
    "ExecuteTime": {
     "end_time": "2021-05-25T15:06:00.034061Z",
     "start_time": "2021-05-25T15:06:00.015418Z"
    }
   },
   "outputs": [
    {
     "data": {
      "text/html": [
       "<div>\n",
       "<style scoped>\n",
       "    .dataframe tbody tr th:only-of-type {\n",
       "        vertical-align: middle;\n",
       "    }\n",
       "\n",
       "    .dataframe tbody tr th {\n",
       "        vertical-align: top;\n",
       "    }\n",
       "\n",
       "    .dataframe thead th {\n",
       "        text-align: right;\n",
       "    }\n",
       "</style>\n",
       "<table border=\"1\" class=\"dataframe\">\n",
       "  <thead>\n",
       "    <tr style=\"text-align: right;\">\n",
       "      <th></th>\n",
       "      <th>name</th>\n",
       "      <th>matches</th>\n",
       "      <th>balls_faced</th>\n",
       "      <th>innings</th>\n",
       "      <th>runs</th>\n",
       "      <th>4s</th>\n",
       "      <th>6s</th>\n",
       "      <th>bat_average</th>\n",
       "      <th>bat_strike</th>\n",
       "      <th>balls_bowled</th>\n",
       "      <th>wickets</th>\n",
       "      <th>overs</th>\n",
       "      <th>runs_conceded</th>\n",
       "      <th>bowl_econ</th>\n",
       "      <th>catches</th>\n",
       "      <th>player_of_match</th>\n",
       "    </tr>\n",
       "  </thead>\n",
       "  <tbody>\n",
       "    <tr>\n",
       "      <th>A Ashish Reddy</th>\n",
       "      <td>A Ashish Reddy</td>\n",
       "      <td>28.0</td>\n",
       "      <td>196.0</td>\n",
       "      <td>23.0</td>\n",
       "      <td>280.0</td>\n",
       "      <td>16.0</td>\n",
       "      <td>15.0</td>\n",
       "      <td>12.17</td>\n",
       "      <td>142.86</td>\n",
       "      <td>270.0</td>\n",
       "      <td>18.0</td>\n",
       "      <td>45.0</td>\n",
       "      <td>396.0</td>\n",
       "      <td>8.80</td>\n",
       "      <td>9.0</td>\n",
       "      <td>0.0</td>\n",
       "    </tr>\n",
       "    <tr>\n",
       "      <th>A Kumble</th>\n",
       "      <td>A Kumble</td>\n",
       "      <td>42.0</td>\n",
       "      <td>49.0</td>\n",
       "      <td>15.0</td>\n",
       "      <td>35.0</td>\n",
       "      <td>3.0</td>\n",
       "      <td>0.0</td>\n",
       "      <td>2.33</td>\n",
       "      <td>71.43</td>\n",
       "      <td>983.0</td>\n",
       "      <td>45.0</td>\n",
       "      <td>163.0</td>\n",
       "      <td>1058.0</td>\n",
       "      <td>6.49</td>\n",
       "      <td>10.0</td>\n",
       "      <td>3.0</td>\n",
       "    </tr>\n",
       "    <tr>\n",
       "      <th>A Mishra</th>\n",
       "      <td>A Mishra</td>\n",
       "      <td>150.0</td>\n",
       "      <td>410.0</td>\n",
       "      <td>54.0</td>\n",
       "      <td>362.0</td>\n",
       "      <td>29.0</td>\n",
       "      <td>5.0</td>\n",
       "      <td>6.70</td>\n",
       "      <td>88.29</td>\n",
       "      <td>3233.0</td>\n",
       "      <td>160.0</td>\n",
       "      <td>529.0</td>\n",
       "      <td>3867.0</td>\n",
       "      <td>7.31</td>\n",
       "      <td>21.0</td>\n",
       "      <td>11.0</td>\n",
       "    </tr>\n",
       "    <tr>\n",
       "      <th>A Nehra</th>\n",
       "      <td>A Nehra</td>\n",
       "      <td>88.0</td>\n",
       "      <td>63.0</td>\n",
       "      <td>17.0</td>\n",
       "      <td>41.0</td>\n",
       "      <td>3.0</td>\n",
       "      <td>1.0</td>\n",
       "      <td>2.41</td>\n",
       "      <td>65.08</td>\n",
       "      <td>1974.0</td>\n",
       "      <td>106.0</td>\n",
       "      <td>320.0</td>\n",
       "      <td>2495.0</td>\n",
       "      <td>7.80</td>\n",
       "      <td>19.0</td>\n",
       "      <td>6.0</td>\n",
       "    </tr>\n",
       "    <tr>\n",
       "      <th>A Symonds</th>\n",
       "      <td>A Symonds</td>\n",
       "      <td>36.0</td>\n",
       "      <td>781.0</td>\n",
       "      <td>36.0</td>\n",
       "      <td>974.0</td>\n",
       "      <td>74.0</td>\n",
       "      <td>41.0</td>\n",
       "      <td>27.06</td>\n",
       "      <td>124.71</td>\n",
       "      <td>540.0</td>\n",
       "      <td>20.0</td>\n",
       "      <td>88.0</td>\n",
       "      <td>674.0</td>\n",
       "      <td>7.66</td>\n",
       "      <td>21.0</td>\n",
       "      <td>3.0</td>\n",
       "    </tr>\n",
       "  </tbody>\n",
       "</table>\n",
       "</div>"
      ],
      "text/plain": [
       "                          name  matches  balls_faced  innings   runs    4s  \\\n",
       "A Ashish Reddy  A Ashish Reddy     28.0        196.0     23.0  280.0  16.0   \n",
       "A Kumble              A Kumble     42.0         49.0     15.0   35.0   3.0   \n",
       "A Mishra              A Mishra    150.0        410.0     54.0  362.0  29.0   \n",
       "A Nehra                A Nehra     88.0         63.0     17.0   41.0   3.0   \n",
       "A Symonds            A Symonds     36.0        781.0     36.0  974.0  74.0   \n",
       "\n",
       "                  6s  bat_average  bat_strike  balls_bowled  wickets  overs  \\\n",
       "A Ashish Reddy  15.0        12.17      142.86         270.0     18.0   45.0   \n",
       "A Kumble         0.0         2.33       71.43         983.0     45.0  163.0   \n",
       "A Mishra         5.0         6.70       88.29        3233.0    160.0  529.0   \n",
       "A Nehra          1.0         2.41       65.08        1974.0    106.0  320.0   \n",
       "A Symonds       41.0        27.06      124.71         540.0     20.0   88.0   \n",
       "\n",
       "                runs_conceded  bowl_econ  catches  player_of_match  \n",
       "A Ashish Reddy          396.0       8.80      9.0              0.0  \n",
       "A Kumble               1058.0       6.49     10.0              3.0  \n",
       "A Mishra               3867.0       7.31     21.0             11.0  \n",
       "A Nehra                2495.0       7.80     19.0              6.0  \n",
       "A Symonds               674.0       7.66     21.0              3.0  "
      ]
     },
     "execution_count": 384,
     "metadata": {},
     "output_type": "execute_result"
    }
   ],
   "source": [
    "players.head()"
   ]
  },
  {
   "cell_type": "markdown",
   "metadata": {},
   "source": [
    "# Finding optimal no. of clusters (k)"
   ]
  },
  {
   "cell_type": "markdown",
   "metadata": {},
   "source": [
    "## Elbow method"
   ]
  },
  {
   "cell_type": "markdown",
   "metadata": {
    "ExecuteTime": {
     "end_time": "2021-05-24T15:03:41.045733Z",
     "start_time": "2021-05-24T15:03:41.039627Z"
    }
   },
   "source": [
    "Steps in elbow method:\n",
    "- Initialize k with a range of values for the no. of clusters.   \n",
    "- For each value of k, \n",
    "    - perform the k-means clustering  \n",
    "    - compute the sum of squared distances of samples to the nearest cluster centre\n",
    "- Plot a graph of k versus the sum of squared distances\n"
   ]
  },
  {
   "cell_type": "code",
   "execution_count": 385,
   "metadata": {
    "ExecuteTime": {
     "end_time": "2021-05-25T15:06:00.697437Z",
     "start_time": "2021-05-25T15:06:00.035780Z"
    }
   },
   "outputs": [
    {
     "data": {
      "image/png": "[encoded data removed]",
      "text/plain": [
       "<Figure size 432x288 with 1 Axes>"
      ]
     },
     "metadata": {
      "needs_background": "light"
     },
     "output_type": "display_data"
    }
   ],
   "source": [
    "# Elbow-curve/sum of squared distances\n",
    "sum_squared_distances = []\n",
    "k_range = range(2,15)\n",
    "for k in k_range:\n",
    "    kmeans = KMeans(n_clusters=k, max_iter=50)\n",
    "    kmeans.fit(players_scaled)\n",
    "    \n",
    "    sum_squared_distances.append(kmeans.inertia_)\n",
    "    \n",
    "# plot the SSDs for each k\n",
    "\n",
    "plt.plot(k_range, sum_squared_distances, 'bx-')\n",
    "plt.xlabel('k')\n",
    "plt.ylabel('Sum of squared distances')\n",
    "plt.title('Elbow Method For Optimal k')\n",
    "plt.show()"
   ]
  },
  {
   "cell_type": "markdown",
   "metadata": {},
   "source": [
    "\n",
    "Inference:\n",
    "- As the no. of clusters (k) increases, the sum of squared distance tends to zero.   \n",
    "- The plot of no. of clusters vs sum of squared distances will look like an arm. The elbow on the arm is optimal k.\n",
    "- In the plot for the players dataset, the elbow is at k=5 indicating the optimal k for this dataset is 5"
   ]
  },
  {
   "cell_type": "markdown",
   "metadata": {},
   "source": [
    "## Silhouette Analysis¶\n",
    "silhouette score=(𝑝−𝑞)/𝑚𝑎𝑥(𝑝,𝑞)\n",
    " \n",
    "𝑝  is the mean distance to the points in the nearest cluster that the data point is not a part of\n",
    "\n",
    "𝑞  is the mean intra-cluster distance to all the points in its own cluster.\n",
    "\n",
    "The value of the silhouette score range lies between -1 to 1.\n",
    "\n",
    "A score closer to 1 indicates that the data point is very similar to other data points in the cluster,\n",
    "\n",
    "A score closer to -1 indicates that the data point is not similar to the data points in its cluster."
   ]
  },
  {
   "cell_type": "code",
   "execution_count": 386,
   "metadata": {
    "ExecuteTime": {
     "end_time": "2021-05-25T15:06:01.338163Z",
     "start_time": "2021-05-25T15:06:00.710367Z"
    }
   },
   "outputs": [
    {
     "name": "stdout",
     "output_type": "stream",
     "text": [
      "For k=2, the silhouette score is 0.4229780389226616\n",
      "For k=3, the silhouette score is 0.4059024385404374\n",
      "For k=4, the silhouette score is 0.3658360748244456\n",
      "For k=5, the silhouette score is 0.3068387516391533\n",
      "For k=6, the silhouette score is 0.30021355807939354\n",
      "For k=7, the silhouette score is 0.2801912596790116\n",
      "For k=8, the silhouette score is 0.30140348502205433\n",
      "For k=9, the silhouette score is 0.2797432214663121\n",
      "For k=10, the silhouette score is 0.2940969515842692\n",
      "For k=11, the silhouette score is 0.2758781366959463\n",
      "For k=12, the silhouette score is 0.2794383483183545\n",
      "For k=13, the silhouette score is 0.2665276433352732\n",
      "For k=14, the silhouette score is 0.26581046672454656\n"
     ]
    }
   ],
   "source": [
    "# silhouette analysis\n",
    "k_range = range(2,15)\n",
    "\n",
    "for k in k_range :\n",
    "    # intialise kmeans\n",
    "    kmeans = KMeans(n_clusters=k, max_iter=50)\n",
    "    kmeans.fit(players_scaled)\n",
    "    cluster_labels = kmeans.labels_\n",
    "    \n",
    "    # silhouette score\n",
    "    silhouette_avg = silhouette_score(players_scaled, cluster_labels)\n",
    "    print(f\"For k={k}, the silhouette score is {silhouette_avg}\")\n",
    "    \n",
    "    "
   ]
  },
  {
   "cell_type": "markdown",
   "metadata": {},
   "source": [
    "Inference:\n",
    "- The best possible silhouette score is around 0.42\n",
    "- The optimal no. of clusters could be 4 or 5"
   ]
  },
  {
   "cell_type": "code",
   "execution_count": 387,
   "metadata": {
    "ExecuteTime": {
     "end_time": "2021-05-25T15:06:01.352152Z",
     "start_time": "2021-05-25T15:06:01.349356Z"
    }
   },
   "outputs": [],
   "source": [
    "NUM_CLUSTERS = 5"
   ]
  },
  {
   "cell_type": "markdown",
   "metadata": {
    "ExecuteTime": {
     "end_time": "2021-05-21T12:19:48.299766Z",
     "start_time": "2021-05-21T12:19:48.295962Z"
    }
   },
   "source": [
    "# Utility Methods"
   ]
  },
  {
   "cell_type": "code",
   "execution_count": 388,
   "metadata": {
    "ExecuteTime": {
     "end_time": "2021-05-25T15:06:01.374909Z",
     "start_time": "2021-05-25T15:06:01.354141Z"
    }
   },
   "outputs": [
    {
     "data": {
      "text/html": [
       "<div>\n",
       "<style scoped>\n",
       "    .dataframe tbody tr th:only-of-type {\n",
       "        vertical-align: middle;\n",
       "    }\n",
       "\n",
       "    .dataframe tbody tr th {\n",
       "        vertical-align: top;\n",
       "    }\n",
       "\n",
       "    .dataframe thead th {\n",
       "        text-align: right;\n",
       "    }\n",
       "</style>\n",
       "<table border=\"1\" class=\"dataframe\">\n",
       "  <thead>\n",
       "    <tr style=\"text-align: right;\">\n",
       "      <th></th>\n",
       "      <th>name</th>\n",
       "      <th>matches</th>\n",
       "      <th>balls_faced</th>\n",
       "      <th>innings</th>\n",
       "      <th>runs</th>\n",
       "      <th>4s</th>\n",
       "      <th>6s</th>\n",
       "      <th>bat_average</th>\n",
       "      <th>bat_strike</th>\n",
       "      <th>balls_bowled</th>\n",
       "      <th>wickets</th>\n",
       "      <th>overs</th>\n",
       "      <th>runs_conceded</th>\n",
       "      <th>bowl_econ</th>\n",
       "      <th>catches</th>\n",
       "      <th>player_of_match</th>\n",
       "    </tr>\n",
       "  </thead>\n",
       "  <tbody>\n",
       "    <tr>\n",
       "      <th>A Ashish Reddy</th>\n",
       "      <td>A Ashish Reddy</td>\n",
       "      <td>28.0</td>\n",
       "      <td>196.0</td>\n",
       "      <td>23.0</td>\n",
       "      <td>280.0</td>\n",
       "      <td>16.0</td>\n",
       "      <td>15.0</td>\n",
       "      <td>12.17</td>\n",
       "      <td>142.86</td>\n",
       "      <td>270.0</td>\n",
       "      <td>18.0</td>\n",
       "      <td>45.0</td>\n",
       "      <td>396.0</td>\n",
       "      <td>8.80</td>\n",
       "      <td>9.0</td>\n",
       "      <td>0.0</td>\n",
       "    </tr>\n",
       "    <tr>\n",
       "      <th>A Kumble</th>\n",
       "      <td>A Kumble</td>\n",
       "      <td>42.0</td>\n",
       "      <td>49.0</td>\n",
       "      <td>15.0</td>\n",
       "      <td>35.0</td>\n",
       "      <td>3.0</td>\n",
       "      <td>0.0</td>\n",
       "      <td>2.33</td>\n",
       "      <td>71.43</td>\n",
       "      <td>983.0</td>\n",
       "      <td>45.0</td>\n",
       "      <td>163.0</td>\n",
       "      <td>1058.0</td>\n",
       "      <td>6.49</td>\n",
       "      <td>10.0</td>\n",
       "      <td>3.0</td>\n",
       "    </tr>\n",
       "  </tbody>\n",
       "</table>\n",
       "</div>"
      ],
      "text/plain": [
       "                          name  matches  balls_faced  innings   runs    4s  \\\n",
       "A Ashish Reddy  A Ashish Reddy     28.0        196.0     23.0  280.0  16.0   \n",
       "A Kumble              A Kumble     42.0         49.0     15.0   35.0   3.0   \n",
       "\n",
       "                  6s  bat_average  bat_strike  balls_bowled  wickets  overs  \\\n",
       "A Ashish Reddy  15.0        12.17      142.86         270.0     18.0   45.0   \n",
       "A Kumble         0.0         2.33       71.43         983.0     45.0  163.0   \n",
       "\n",
       "                runs_conceded  bowl_econ  catches  player_of_match  \n",
       "A Ashish Reddy          396.0       8.80      9.0              0.0  \n",
       "A Kumble               1058.0       6.49     10.0              3.0  "
      ]
     },
     "execution_count": 388,
     "metadata": {},
     "output_type": "execute_result"
    }
   ],
   "source": [
    "players.head(2)"
   ]
  },
  {
   "cell_type": "code",
   "execution_count": 389,
   "metadata": {
    "ExecuteTime": {
     "end_time": "2021-05-25T15:06:01.380782Z",
     "start_time": "2021-05-25T15:06:01.376965Z"
    }
   },
   "outputs": [],
   "source": [
    "# Show the top few players in each cluster (Players sorted on no. of matches played)\n",
    "def  groupby_cluster(cluster_col, head_size):\n",
    "    g = players.groupby([cluster_col]).apply(lambda x: x.sort_values([\"matches\"], ascending = False)).reset_index(drop=True)\n",
    "    # select top N rows within each cluster\n",
    "    display(g.groupby(cluster_col)['name',cluster_col].head(head_size))"
   ]
  },
  {
   "cell_type": "code",
   "execution_count": 390,
   "metadata": {
    "ExecuteTime": {
     "end_time": "2021-05-25T15:06:01.391499Z",
     "start_time": "2021-05-25T15:06:01.383259Z"
    }
   },
   "outputs": [],
   "source": [
    "# Get the summary of the clustering based on the labels in the output column specified\n",
    "def  clustering_summary(cluster_col):\n",
    "    # Add prefix cluster to cluster numbers\n",
    "    players[cluster_col]=players[cluster_col].apply(lambda x: x if str(x).startswith('Cluster ')  else  f'Cluster {str(x)}')\n",
    "    # Create summary table for clusters\n",
    "    cluster_summary = pd.DataFrame(players[cluster_col].value_counts().sort_index())\n",
    "    cluster_summary.columns = ['Num_Players']\n",
    "\n",
    "    # Plot pie-chart\n",
    "    cluster_summary['Num_Players'].plot.pie()\n",
    "    plt.show()\n",
    "    # Print summary table\n",
    "    display(cluster_summary)\n",
    "\n",
    "    # Sort players data based on no. of innings played\n",
    "    #players.sort_values([\"innings\"], ascending = False,inplace=True)\n",
    "    # Create column for each cluster and insert players in that cluster\n",
    "    grouper = players.sort_values([\"innings\"], ascending = False)[['name',cluster_col]].groupby([cluster_col])\n",
    "    cluster_df = pd.concat([pd.Series(v['name'].tolist(), name=k) for k, v in grouper], axis=1)\n",
    "    cluster_df.fillna('',inplace=True)\n",
    "    display(cluster_df)\n",
    "    return cluster_summary, cluster_df"
   ]
  },
  {
   "cell_type": "code",
   "execution_count": null,
   "metadata": {
    "ExecuteTime": {
     "end_time": "2021-05-25T14:56:55.829118Z",
     "start_time": "2021-05-25T14:56:55.765889Z"
    }
   },
   "outputs": [],
   "source": []
  },
  {
   "cell_type": "code",
   "execution_count": 391,
   "metadata": {
    "ExecuteTime": {
     "end_time": "2021-05-25T15:06:01.397114Z",
     "start_time": "2021-05-25T15:06:01.393870Z"
    }
   },
   "outputs": [],
   "source": [
    "def create_cluster_df(cluster_col):\n",
    "    print(players.head())\n",
    "    pass\n",
    "    \n",
    "    \n",
    "# create_cluster_df(\"output_kmeans\")    "
   ]
  },
  {
   "cell_type": "code",
   "execution_count": null,
   "metadata": {
    "ExecuteTime": {
     "end_time": "2021-05-17T18:01:28.177934Z",
     "start_time": "2021-05-17T18:01:28.174447Z"
    }
   },
   "outputs": [],
   "source": []
  },
  {
   "cell_type": "code",
   "execution_count": null,
   "metadata": {},
   "outputs": [],
   "source": []
  },
  {
   "cell_type": "code",
   "execution_count": null,
   "metadata": {},
   "outputs": [],
   "source": []
  },
  {
   "cell_type": "code",
   "execution_count": null,
   "metadata": {
    "ExecuteTime": {
     "end_time": "2021-05-25T14:55:32.418962Z",
     "start_time": "2021-05-25T14:55:32.198184Z"
    }
   },
   "outputs": [],
   "source": []
  },
  {
   "cell_type": "markdown",
   "metadata": {},
   "source": [
    "# k-means Clustering"
   ]
  },
  {
   "cell_type": "code",
   "execution_count": 392,
   "metadata": {
    "ExecuteTime": {
     "end_time": "2021-05-25T15:06:01.403799Z",
     "start_time": "2021-05-25T15:06:01.399757Z"
    }
   },
   "outputs": [],
   "source": [
    "# Define function to perform the kmeans clustering on the given data\n",
    "def kmeans_clustering(num_clusters, max_iterations,input_df,output_df, output_col):\n",
    "    kmeans = KMeans(n_clusters=num_clusters, max_iter=max_iterations)\n",
    "    kmeans.fit(input_df)\n",
    "    # assign the label to the output column\n",
    "    output_df[output_col] = kmeans.labels_ "
   ]
  },
  {
   "cell_type": "code",
   "execution_count": 393,
   "metadata": {
    "ExecuteTime": {
     "end_time": "2021-05-25T15:06:01.565151Z",
     "start_time": "2021-05-25T15:06:01.406381Z"
    },
    "scrolled": true
   },
   "outputs": [
    {
     "data": {
      "text/html": [
       "<div>\n",
       "<style scoped>\n",
       "    .dataframe tbody tr th:only-of-type {\n",
       "        vertical-align: middle;\n",
       "    }\n",
       "\n",
       "    .dataframe tbody tr th {\n",
       "        vertical-align: top;\n",
       "    }\n",
       "\n",
       "    .dataframe thead th {\n",
       "        text-align: right;\n",
       "    }\n",
       "</style>\n",
       "<table border=\"1\" class=\"dataframe\">\n",
       "  <thead>\n",
       "    <tr style=\"text-align: right;\">\n",
       "      <th></th>\n",
       "      <th>name</th>\n",
       "      <th>cluster_kmeans</th>\n",
       "    </tr>\n",
       "  </thead>\n",
       "  <tbody>\n",
       "    <tr>\n",
       "      <th>0</th>\n",
       "      <td>RA Jadeja</td>\n",
       "      <td>0</td>\n",
       "    </tr>\n",
       "    <tr>\n",
       "      <th>1</th>\n",
       "      <td>PP Chawla</td>\n",
       "      <td>0</td>\n",
       "    </tr>\n",
       "    <tr>\n",
       "      <th>2</th>\n",
       "      <td>Harbhajan Singh</td>\n",
       "      <td>0</td>\n",
       "    </tr>\n",
       "    <tr>\n",
       "      <th>39</th>\n",
       "      <td>PA Patel</td>\n",
       "      <td>1</td>\n",
       "    </tr>\n",
       "    <tr>\n",
       "      <th>40</th>\n",
       "      <td>MK Pandey</td>\n",
       "      <td>1</td>\n",
       "    </tr>\n",
       "    <tr>\n",
       "      <th>41</th>\n",
       "      <td>Yuvraj Singh</td>\n",
       "      <td>1</td>\n",
       "    </tr>\n",
       "    <tr>\n",
       "      <th>80</th>\n",
       "      <td>RG Sharma</td>\n",
       "      <td>2</td>\n",
       "    </tr>\n",
       "    <tr>\n",
       "      <th>81</th>\n",
       "      <td>SK Raina</td>\n",
       "      <td>2</td>\n",
       "    </tr>\n",
       "    <tr>\n",
       "      <th>82</th>\n",
       "      <td>V Kohli</td>\n",
       "      <td>2</td>\n",
       "    </tr>\n",
       "    <tr>\n",
       "      <th>96</th>\n",
       "      <td>STR Binny</td>\n",
       "      <td>3</td>\n",
       "    </tr>\n",
       "    <tr>\n",
       "      <th>97</th>\n",
       "      <td>KH Pandya</td>\n",
       "      <td>3</td>\n",
       "    </tr>\n",
       "    <tr>\n",
       "      <th>98</th>\n",
       "      <td>KV Sharma</td>\n",
       "      <td>3</td>\n",
       "    </tr>\n",
       "    <tr>\n",
       "      <th>201</th>\n",
       "      <td>KM Jadhav</td>\n",
       "      <td>4</td>\n",
       "    </tr>\n",
       "    <tr>\n",
       "      <th>202</th>\n",
       "      <td>SS Tiwary</td>\n",
       "      <td>4</td>\n",
       "    </tr>\n",
       "    <tr>\n",
       "      <th>203</th>\n",
       "      <td>S Badrinath</td>\n",
       "      <td>4</td>\n",
       "    </tr>\n",
       "  </tbody>\n",
       "</table>\n",
       "</div>"
      ],
      "text/plain": [
       "                name  cluster_kmeans\n",
       "0          RA Jadeja               0\n",
       "1          PP Chawla               0\n",
       "2    Harbhajan Singh               0\n",
       "39          PA Patel               1\n",
       "40         MK Pandey               1\n",
       "41      Yuvraj Singh               1\n",
       "80         RG Sharma               2\n",
       "81          SK Raina               2\n",
       "82           V Kohli               2\n",
       "96         STR Binny               3\n",
       "97         KH Pandya               3\n",
       "98         KV Sharma               3\n",
       "201        KM Jadhav               4\n",
       "202        SS Tiwary               4\n",
       "203      S Badrinath               4"
      ]
     },
     "metadata": {},
     "output_type": "display_data"
    }
   ],
   "source": [
    "# New output column to create for the cluster label\n",
    "kmeans_label = 'cluster_kmeans'\n",
    "\n",
    "# K-means clustering\n",
    "kmeans_clustering(NUM_CLUSTERS,50,players_scaled[ALL_COLUMN_NAMES],players,kmeans_label)\n",
    "\n",
    "# View few entries from each cluster\n",
    "groupby_cluster(kmeans_label,3)\n"
   ]
  },
  {
   "cell_type": "code",
   "execution_count": 394,
   "metadata": {
    "ExecuteTime": {
     "end_time": "2021-05-25T15:06:01.703377Z",
     "start_time": "2021-05-25T15:06:01.567558Z"
    }
   },
   "outputs": [
    {
     "data": {
      "image/png": "[encoded data removed]",
      "text/plain": [
       "<Figure size 432x288 with 1 Axes>"
      ]
     },
     "metadata": {},
     "output_type": "display_data"
    },
    {
     "data": {
      "text/html": [
       "<div>\n",
       "<style scoped>\n",
       "    .dataframe tbody tr th:only-of-type {\n",
       "        vertical-align: middle;\n",
       "    }\n",
       "\n",
       "    .dataframe tbody tr th {\n",
       "        vertical-align: top;\n",
       "    }\n",
       "\n",
       "    .dataframe thead th {\n",
       "        text-align: right;\n",
       "    }\n",
       "</style>\n",
       "<table border=\"1\" class=\"dataframe\">\n",
       "  <thead>\n",
       "    <tr style=\"text-align: right;\">\n",
       "      <th></th>\n",
       "      <th>Num_Players</th>\n",
       "    </tr>\n",
       "  </thead>\n",
       "  <tbody>\n",
       "    <tr>\n",
       "      <th>Cluster 0</th>\n",
       "      <td>39</td>\n",
       "    </tr>\n",
       "    <tr>\n",
       "      <th>Cluster 1</th>\n",
       "      <td>41</td>\n",
       "    </tr>\n",
       "    <tr>\n",
       "      <th>Cluster 2</th>\n",
       "      <td>16</td>\n",
       "    </tr>\n",
       "    <tr>\n",
       "      <th>Cluster 3</th>\n",
       "      <td>105</td>\n",
       "    </tr>\n",
       "    <tr>\n",
       "      <th>Cluster 4</th>\n",
       "      <td>50</td>\n",
       "    </tr>\n",
       "  </tbody>\n",
       "</table>\n",
       "</div>"
      ],
      "text/plain": [
       "           Num_Players\n",
       "Cluster 0           39\n",
       "Cluster 1           41\n",
       "Cluster 2           16\n",
       "Cluster 3          105\n",
       "Cluster 4           50"
      ]
     },
     "metadata": {},
     "output_type": "display_data"
    },
    {
     "data": {
      "text/html": [
       "<div>\n",
       "<style scoped>\n",
       "    .dataframe tbody tr th:only-of-type {\n",
       "        vertical-align: middle;\n",
       "    }\n",
       "\n",
       "    .dataframe tbody tr th {\n",
       "        vertical-align: top;\n",
       "    }\n",
       "\n",
       "    .dataframe thead th {\n",
       "        text-align: right;\n",
       "    }\n",
       "</style>\n",
       "<table border=\"1\" class=\"dataframe\">\n",
       "  <thead>\n",
       "    <tr style=\"text-align: right;\">\n",
       "      <th></th>\n",
       "      <th>Cluster 0</th>\n",
       "      <th>Cluster 1</th>\n",
       "      <th>Cluster 2</th>\n",
       "      <th>Cluster 3</th>\n",
       "      <th>Cluster 4</th>\n",
       "    </tr>\n",
       "  </thead>\n",
       "  <tbody>\n",
       "    <tr>\n",
       "      <th>0</th>\n",
       "      <td>RA Jadeja</td>\n",
       "      <td>PA Patel</td>\n",
       "      <td>RG Sharma</td>\n",
       "      <td>STR Binny</td>\n",
       "      <td>KM Jadhav</td>\n",
       "    </tr>\n",
       "    <tr>\n",
       "      <th>1</th>\n",
       "      <td>DJ Bravo</td>\n",
       "      <td>MK Pandey</td>\n",
       "      <td>SK Raina</td>\n",
       "      <td>KH Pandya</td>\n",
       "      <td>SS Tiwary</td>\n",
       "    </tr>\n",
       "    <tr>\n",
       "      <th>2</th>\n",
       "      <td>Harbhajan Singh</td>\n",
       "      <td>Yuvraj Singh</td>\n",
       "      <td>V Kohli</td>\n",
       "      <td>LRPL Taylor</td>\n",
       "      <td>S Badrinath</td>\n",
       "    </tr>\n",
       "    <tr>\n",
       "      <th>3</th>\n",
       "      <td>IK Pathan</td>\n",
       "      <td>BB McCullum</td>\n",
       "      <td>RV Uthappa</td>\n",
       "      <td>Y Venugopal Rao</td>\n",
       "      <td>EJG Morgan</td>\n",
       "    </tr>\n",
       "    <tr>\n",
       "      <th>4</th>\n",
       "      <td>PP Chawla</td>\n",
       "      <td>M Vijay</td>\n",
       "      <td>MS Dhoni</td>\n",
       "      <td>AM Nayar</td>\n",
       "      <td>Ishan Kishan</td>\n",
       "    </tr>\n",
       "    <tr>\n",
       "      <th>5</th>\n",
       "      <td>AR Patel</td>\n",
       "      <td>V Sehwag</td>\n",
       "      <td>KD Karthik</td>\n",
       "      <td>DJ Hooda</td>\n",
       "      <td>M Vohra</td>\n",
       "    </tr>\n",
       "    <tr>\n",
       "      <th>6</th>\n",
       "      <td>JA Morkel</td>\n",
       "      <td>SV Samson</td>\n",
       "      <td>S Dhawan</td>\n",
       "      <td>TM Dilshan</td>\n",
       "      <td>CA Lynn</td>\n",
       "    </tr>\n",
       "    <tr>\n",
       "      <th>7</th>\n",
       "      <td>SP Narine</td>\n",
       "      <td>WP Saha</td>\n",
       "      <td>AB de Villiers</td>\n",
       "      <td>MC Henriques</td>\n",
       "      <td>MS Bisla</td>\n",
       "    </tr>\n",
       "    <tr>\n",
       "      <th>8</th>\n",
       "      <td>P Kumar</td>\n",
       "      <td>JH Kallis</td>\n",
       "      <td>YK Pathan</td>\n",
       "      <td>Shakib Al Hasan</td>\n",
       "      <td>PP Shaw</td>\n",
       "    </tr>\n",
       "    <tr>\n",
       "      <th>9</th>\n",
       "      <td>R Ashwin</td>\n",
       "      <td>NV Ojha</td>\n",
       "      <td>G Gambhir</td>\n",
       "      <td>CL White</td>\n",
       "      <td>Shubman Gill</td>\n",
       "    </tr>\n",
       "    <tr>\n",
       "      <th>10</th>\n",
       "      <td>A Mishra</td>\n",
       "      <td>Mandeep Singh</td>\n",
       "      <td>AT Rayudu</td>\n",
       "      <td>JP Faulkner</td>\n",
       "      <td>HH Gibbs</td>\n",
       "    </tr>\n",
       "    <tr>\n",
       "      <th>11</th>\n",
       "      <td>R Bhatia</td>\n",
       "      <td>DR Smith</td>\n",
       "      <td>KA Pollard</td>\n",
       "      <td>RA Tripathi</td>\n",
       "      <td>GJ Bailey</td>\n",
       "    </tr>\n",
       "    <tr>\n",
       "      <th>12</th>\n",
       "      <td>R Vinay Kumar</td>\n",
       "      <td>SA Yadav</td>\n",
       "      <td>DA Warner</td>\n",
       "      <td>MP Stoinis</td>\n",
       "      <td>ML Hayden</td>\n",
       "    </tr>\n",
       "    <tr>\n",
       "      <th>13</th>\n",
       "      <td>B Kumar</td>\n",
       "      <td>SPD Smith</td>\n",
       "      <td>SR Watson</td>\n",
       "      <td>AD Mathews</td>\n",
       "      <td>GC Smith</td>\n",
       "    </tr>\n",
       "    <tr>\n",
       "      <th>14</th>\n",
       "      <td>CH Morris</td>\n",
       "      <td>AJ Finch</td>\n",
       "      <td>AM Rahane</td>\n",
       "      <td>BA Stokes</td>\n",
       "      <td>AP Tare</td>\n",
       "    </tr>\n",
       "    <tr>\n",
       "      <th>15</th>\n",
       "      <td>UT Yadav</td>\n",
       "      <td>MK Tiwary</td>\n",
       "      <td>CH Gayle</td>\n",
       "      <td>TL Suman</td>\n",
       "      <td>MV Boucher</td>\n",
       "    </tr>\n",
       "    <tr>\n",
       "      <th>16</th>\n",
       "      <td>DW Steyn</td>\n",
       "      <td>MA Agarwal</td>\n",
       "      <td></td>\n",
       "      <td>M Manhas</td>\n",
       "      <td>OA Shah</td>\n",
       "    </tr>\n",
       "    <tr>\n",
       "      <th>17</th>\n",
       "      <td>MG Johnson</td>\n",
       "      <td>R Dravid</td>\n",
       "      <td></td>\n",
       "      <td>A Symonds</td>\n",
       "      <td>M Kaif</td>\n",
       "    </tr>\n",
       "    <tr>\n",
       "      <th>18</th>\n",
       "      <td>RP Singh</td>\n",
       "      <td>AC Gilchrist</td>\n",
       "      <td></td>\n",
       "      <td>KP Pietersen</td>\n",
       "      <td>CA Pujara</td>\n",
       "    </tr>\n",
       "    <tr>\n",
       "      <th>19</th>\n",
       "      <td>Z Khan</td>\n",
       "      <td>SS Iyer</td>\n",
       "      <td></td>\n",
       "      <td>P Negi</td>\n",
       "      <td>DB Das</td>\n",
       "    </tr>\n",
       "    <tr>\n",
       "      <th>20</th>\n",
       "      <td>MM Sharma</td>\n",
       "      <td>SR Tendulkar</td>\n",
       "      <td></td>\n",
       "      <td>KV Sharma</td>\n",
       "      <td>JM Bairstow</td>\n",
       "    </tr>\n",
       "    <tr>\n",
       "      <th>21</th>\n",
       "      <td>Rashid Khan</td>\n",
       "      <td>DPMD Jayawardene</td>\n",
       "      <td></td>\n",
       "      <td>DT Christian</td>\n",
       "      <td>SP Goswami</td>\n",
       "    </tr>\n",
       "    <tr>\n",
       "      <th>22</th>\n",
       "      <td>Sandeep Sharma</td>\n",
       "      <td>GJ Maxwell</td>\n",
       "      <td></td>\n",
       "      <td>LR Shukla</td>\n",
       "      <td>VVS Laxman</td>\n",
       "    </tr>\n",
       "    <tr>\n",
       "      <th>23</th>\n",
       "      <td>DS Kulkarni</td>\n",
       "      <td>DA Miller</td>\n",
       "      <td></td>\n",
       "      <td>V Shankar</td>\n",
       "      <td>S Sohal</td>\n",
       "    </tr>\n",
       "    <tr>\n",
       "      <th>24</th>\n",
       "      <td>SL Malinga</td>\n",
       "      <td>F du Plessis</td>\n",
       "      <td></td>\n",
       "      <td>Gurkeerat Singh</td>\n",
       "      <td>UBT Chand</td>\n",
       "    </tr>\n",
       "    <tr>\n",
       "      <th>25</th>\n",
       "      <td>MJ McClenaghan</td>\n",
       "      <td>JP Duminy</td>\n",
       "      <td></td>\n",
       "      <td>ST Jayasuriya</td>\n",
       "      <td>N Pooran</td>\n",
       "    </tr>\n",
       "    <tr>\n",
       "      <th>26</th>\n",
       "      <td>M Morkel</td>\n",
       "      <td>HH Pandya</td>\n",
       "      <td></td>\n",
       "      <td>NLTC Perera</td>\n",
       "      <td>SW Billings</td>\n",
       "    </tr>\n",
       "    <tr>\n",
       "      <th>27</th>\n",
       "      <td>PP Ojha</td>\n",
       "      <td>KL Rahul</td>\n",
       "      <td></td>\n",
       "      <td>JD Ryder</td>\n",
       "      <td>SA Asnodkar</td>\n",
       "    </tr>\n",
       "    <tr>\n",
       "      <th>28</th>\n",
       "      <td>S Nadeem</td>\n",
       "      <td>SE Marsh</td>\n",
       "      <td></td>\n",
       "      <td>LMP Simmons</td>\n",
       "      <td>MD Mishra</td>\n",
       "    </tr>\n",
       "    <tr>\n",
       "      <th>29</th>\n",
       "      <td>I Sharma</td>\n",
       "      <td>KC Sangakkara</td>\n",
       "      <td></td>\n",
       "      <td>CJ Anderson</td>\n",
       "      <td>DH Yagnik</td>\n",
       "    </tr>\n",
       "    <tr>\n",
       "      <th>...</th>\n",
       "      <td>...</td>\n",
       "      <td>...</td>\n",
       "      <td>...</td>\n",
       "      <td>...</td>\n",
       "      <td>...</td>\n",
       "    </tr>\n",
       "    <tr>\n",
       "      <th>75</th>\n",
       "      <td></td>\n",
       "      <td></td>\n",
       "      <td></td>\n",
       "      <td>M Kartik</td>\n",
       "      <td></td>\n",
       "    </tr>\n",
       "    <tr>\n",
       "      <th>76</th>\n",
       "      <td></td>\n",
       "      <td></td>\n",
       "      <td></td>\n",
       "      <td>Iqbal Abdulla</td>\n",
       "      <td></td>\n",
       "    </tr>\n",
       "    <tr>\n",
       "      <th>77</th>\n",
       "      <td></td>\n",
       "      <td></td>\n",
       "      <td></td>\n",
       "      <td>R McLaren</td>\n",
       "      <td></td>\n",
       "    </tr>\n",
       "    <tr>\n",
       "      <th>78</th>\n",
       "      <td></td>\n",
       "      <td></td>\n",
       "      <td></td>\n",
       "      <td>S Dube</td>\n",
       "      <td></td>\n",
       "    </tr>\n",
       "    <tr>\n",
       "      <th>79</th>\n",
       "      <td></td>\n",
       "      <td></td>\n",
       "      <td></td>\n",
       "      <td>K Rabada</td>\n",
       "      <td></td>\n",
       "    </tr>\n",
       "    <tr>\n",
       "      <th>80</th>\n",
       "      <td></td>\n",
       "      <td></td>\n",
       "      <td></td>\n",
       "      <td>Abhishek Sharma</td>\n",
       "      <td></td>\n",
       "    </tr>\n",
       "    <tr>\n",
       "      <th>81</th>\n",
       "      <td></td>\n",
       "      <td></td>\n",
       "      <td></td>\n",
       "      <td>AJ Tye</td>\n",
       "      <td></td>\n",
       "    </tr>\n",
       "    <tr>\n",
       "      <th>82</th>\n",
       "      <td></td>\n",
       "      <td></td>\n",
       "      <td></td>\n",
       "      <td>PJ Sangwan</td>\n",
       "      <td></td>\n",
       "    </tr>\n",
       "    <tr>\n",
       "      <th>83</th>\n",
       "      <td></td>\n",
       "      <td></td>\n",
       "      <td></td>\n",
       "      <td>TG Southee</td>\n",
       "      <td></td>\n",
       "    </tr>\n",
       "    <tr>\n",
       "      <th>84</th>\n",
       "      <td></td>\n",
       "      <td></td>\n",
       "      <td></td>\n",
       "      <td>NM Coulter-Nile</td>\n",
       "      <td></td>\n",
       "    </tr>\n",
       "    <tr>\n",
       "      <th>85</th>\n",
       "      <td></td>\n",
       "      <td></td>\n",
       "      <td></td>\n",
       "      <td>R Parag</td>\n",
       "      <td></td>\n",
       "    </tr>\n",
       "    <tr>\n",
       "      <th>86</th>\n",
       "      <td></td>\n",
       "      <td></td>\n",
       "      <td></td>\n",
       "      <td>VR Aaron</td>\n",
       "      <td></td>\n",
       "    </tr>\n",
       "    <tr>\n",
       "      <th>87</th>\n",
       "      <td></td>\n",
       "      <td></td>\n",
       "      <td></td>\n",
       "      <td>S Sreesanth</td>\n",
       "      <td></td>\n",
       "    </tr>\n",
       "    <tr>\n",
       "      <th>88</th>\n",
       "      <td></td>\n",
       "      <td></td>\n",
       "      <td></td>\n",
       "      <td>WD Parnell</td>\n",
       "      <td></td>\n",
       "    </tr>\n",
       "    <tr>\n",
       "      <th>89</th>\n",
       "      <td></td>\n",
       "      <td></td>\n",
       "      <td></td>\n",
       "      <td>KK Cooper</td>\n",
       "      <td></td>\n",
       "    </tr>\n",
       "    <tr>\n",
       "      <th>90</th>\n",
       "      <td></td>\n",
       "      <td></td>\n",
       "      <td></td>\n",
       "      <td>WPUJC Vaas</td>\n",
       "      <td></td>\n",
       "    </tr>\n",
       "    <tr>\n",
       "      <th>91</th>\n",
       "      <td></td>\n",
       "      <td></td>\n",
       "      <td></td>\n",
       "      <td>AD Mascarenhas</td>\n",
       "      <td></td>\n",
       "    </tr>\n",
       "    <tr>\n",
       "      <th>92</th>\n",
       "      <td></td>\n",
       "      <td></td>\n",
       "      <td></td>\n",
       "      <td>MA Starc</td>\n",
       "      <td></td>\n",
       "    </tr>\n",
       "    <tr>\n",
       "      <th>93</th>\n",
       "      <td></td>\n",
       "      <td></td>\n",
       "      <td></td>\n",
       "      <td>FY Fazal</td>\n",
       "      <td></td>\n",
       "    </tr>\n",
       "    <tr>\n",
       "      <th>94</th>\n",
       "      <td></td>\n",
       "      <td></td>\n",
       "      <td></td>\n",
       "      <td>B Akhil</td>\n",
       "      <td></td>\n",
       "    </tr>\n",
       "    <tr>\n",
       "      <th>95</th>\n",
       "      <td></td>\n",
       "      <td></td>\n",
       "      <td></td>\n",
       "      <td>C Munro</td>\n",
       "      <td></td>\n",
       "    </tr>\n",
       "    <tr>\n",
       "      <th>96</th>\n",
       "      <td></td>\n",
       "      <td></td>\n",
       "      <td></td>\n",
       "      <td>Mohammad Nabi</td>\n",
       "      <td></td>\n",
       "    </tr>\n",
       "    <tr>\n",
       "      <th>97</th>\n",
       "      <td></td>\n",
       "      <td></td>\n",
       "      <td></td>\n",
       "      <td>CR Woakes</td>\n",
       "      <td></td>\n",
       "    </tr>\n",
       "    <tr>\n",
       "      <th>98</th>\n",
       "      <td></td>\n",
       "      <td></td>\n",
       "      <td></td>\n",
       "      <td>JDP Oram</td>\n",
       "      <td></td>\n",
       "    </tr>\n",
       "    <tr>\n",
       "      <th>99</th>\n",
       "      <td></td>\n",
       "      <td></td>\n",
       "      <td></td>\n",
       "      <td>Kuldeep Yadav</td>\n",
       "      <td></td>\n",
       "    </tr>\n",
       "    <tr>\n",
       "      <th>100</th>\n",
       "      <td></td>\n",
       "      <td></td>\n",
       "      <td></td>\n",
       "      <td>Ankit Sharma</td>\n",
       "      <td></td>\n",
       "    </tr>\n",
       "    <tr>\n",
       "      <th>101</th>\n",
       "      <td></td>\n",
       "      <td></td>\n",
       "      <td></td>\n",
       "      <td>DL Chahar</td>\n",
       "      <td></td>\n",
       "    </tr>\n",
       "    <tr>\n",
       "      <th>102</th>\n",
       "      <td></td>\n",
       "      <td></td>\n",
       "      <td></td>\n",
       "      <td>SB Styris</td>\n",
       "      <td></td>\n",
       "    </tr>\n",
       "    <tr>\n",
       "      <th>103</th>\n",
       "      <td></td>\n",
       "      <td></td>\n",
       "      <td></td>\n",
       "      <td>TM Head</td>\n",
       "      <td></td>\n",
       "    </tr>\n",
       "    <tr>\n",
       "      <th>104</th>\n",
       "      <td></td>\n",
       "      <td></td>\n",
       "      <td></td>\n",
       "      <td>S Aravind</td>\n",
       "      <td></td>\n",
       "    </tr>\n",
       "  </tbody>\n",
       "</table>\n",
       "<p>105 rows × 5 columns</p>\n",
       "</div>"
      ],
      "text/plain": [
       "           Cluster 0         Cluster 1       Cluster 2        Cluster 3  \\\n",
       "0          RA Jadeja          PA Patel       RG Sharma        STR Binny   \n",
       "1           DJ Bravo         MK Pandey        SK Raina        KH Pandya   \n",
       "2    Harbhajan Singh      Yuvraj Singh         V Kohli      LRPL Taylor   \n",
       "3          IK Pathan       BB McCullum      RV Uthappa  Y Venugopal Rao   \n",
       "4          PP Chawla           M Vijay        MS Dhoni         AM Nayar   \n",
       "5           AR Patel          V Sehwag      KD Karthik         DJ Hooda   \n",
       "6          JA Morkel         SV Samson        S Dhawan       TM Dilshan   \n",
       "7          SP Narine           WP Saha  AB de Villiers     MC Henriques   \n",
       "8            P Kumar         JH Kallis       YK Pathan  Shakib Al Hasan   \n",
       "9           R Ashwin           NV Ojha       G Gambhir         CL White   \n",
       "10          A Mishra     Mandeep Singh       AT Rayudu      JP Faulkner   \n",
       "11          R Bhatia          DR Smith      KA Pollard      RA Tripathi   \n",
       "12     R Vinay Kumar          SA Yadav       DA Warner       MP Stoinis   \n",
       "13           B Kumar         SPD Smith       SR Watson       AD Mathews   \n",
       "14         CH Morris          AJ Finch       AM Rahane        BA Stokes   \n",
       "15          UT Yadav         MK Tiwary        CH Gayle         TL Suman   \n",
       "16          DW Steyn        MA Agarwal                         M Manhas   \n",
       "17        MG Johnson          R Dravid                        A Symonds   \n",
       "18          RP Singh      AC Gilchrist                     KP Pietersen   \n",
       "19            Z Khan           SS Iyer                           P Negi   \n",
       "20         MM Sharma      SR Tendulkar                        KV Sharma   \n",
       "21       Rashid Khan  DPMD Jayawardene                     DT Christian   \n",
       "22    Sandeep Sharma        GJ Maxwell                        LR Shukla   \n",
       "23       DS Kulkarni         DA Miller                        V Shankar   \n",
       "24        SL Malinga      F du Plessis                  Gurkeerat Singh   \n",
       "25    MJ McClenaghan         JP Duminy                    ST Jayasuriya   \n",
       "26          M Morkel         HH Pandya                      NLTC Perera   \n",
       "27           PP Ojha          KL Rahul                         JD Ryder   \n",
       "28          S Nadeem          SE Marsh                      LMP Simmons   \n",
       "29          I Sharma     KC Sangakkara                      CJ Anderson   \n",
       "..               ...               ...             ...              ...   \n",
       "75                                                             M Kartik   \n",
       "76                                                        Iqbal Abdulla   \n",
       "77                                                            R McLaren   \n",
       "78                                                               S Dube   \n",
       "79                                                             K Rabada   \n",
       "80                                                      Abhishek Sharma   \n",
       "81                                                               AJ Tye   \n",
       "82                                                           PJ Sangwan   \n",
       "83                                                           TG Southee   \n",
       "84                                                      NM Coulter-Nile   \n",
       "85                                                              R Parag   \n",
       "86                                                             VR Aaron   \n",
       "87                                                          S Sreesanth   \n",
       "88                                                           WD Parnell   \n",
       "89                                                            KK Cooper   \n",
       "90                                                           WPUJC Vaas   \n",
       "91                                                       AD Mascarenhas   \n",
       "92                                                             MA Starc   \n",
       "93                                                             FY Fazal   \n",
       "94                                                              B Akhil   \n",
       "95                                                              C Munro   \n",
       "96                                                        Mohammad Nabi   \n",
       "97                                                            CR Woakes   \n",
       "98                                                             JDP Oram   \n",
       "99                                                        Kuldeep Yadav   \n",
       "100                                                        Ankit Sharma   \n",
       "101                                                           DL Chahar   \n",
       "102                                                           SB Styris   \n",
       "103                                                             TM Head   \n",
       "104                                                           S Aravind   \n",
       "\n",
       "        Cluster 4  \n",
       "0       KM Jadhav  \n",
       "1       SS Tiwary  \n",
       "2     S Badrinath  \n",
       "3      EJG Morgan  \n",
       "4    Ishan Kishan  \n",
       "5         M Vohra  \n",
       "6         CA Lynn  \n",
       "7        MS Bisla  \n",
       "8         PP Shaw  \n",
       "9    Shubman Gill  \n",
       "10       HH Gibbs  \n",
       "11      GJ Bailey  \n",
       "12      ML Hayden  \n",
       "13       GC Smith  \n",
       "14        AP Tare  \n",
       "15     MV Boucher  \n",
       "16        OA Shah  \n",
       "17         M Kaif  \n",
       "18      CA Pujara  \n",
       "19         DB Das  \n",
       "20    JM Bairstow  \n",
       "21     SP Goswami  \n",
       "22     VVS Laxman  \n",
       "23        S Sohal  \n",
       "24      UBT Chand  \n",
       "25       N Pooran  \n",
       "26    SW Billings  \n",
       "27    SA Asnodkar  \n",
       "28      MD Mishra  \n",
       "29      DH Yagnik  \n",
       "..            ...  \n",
       "75                 \n",
       "76                 \n",
       "77                 \n",
       "78                 \n",
       "79                 \n",
       "80                 \n",
       "81                 \n",
       "82                 \n",
       "83                 \n",
       "84                 \n",
       "85                 \n",
       "86                 \n",
       "87                 \n",
       "88                 \n",
       "89                 \n",
       "90                 \n",
       "91                 \n",
       "92                 \n",
       "93                 \n",
       "94                 \n",
       "95                 \n",
       "96                 \n",
       "97                 \n",
       "98                 \n",
       "99                 \n",
       "100                \n",
       "101                \n",
       "102                \n",
       "103                \n",
       "104                \n",
       "\n",
       "[105 rows x 5 columns]"
      ]
     },
     "metadata": {},
     "output_type": "display_data"
    },
    {
     "data": {
      "text/plain": [
       "(           Num_Players\n",
       " Cluster 0           39\n",
       " Cluster 1           41\n",
       " Cluster 2           16\n",
       " Cluster 3          105\n",
       " Cluster 4           50,\n",
       "            Cluster 0         Cluster 1       Cluster 2        Cluster 3  \\\n",
       " 0          RA Jadeja          PA Patel       RG Sharma        STR Binny   \n",
       " 1           DJ Bravo         MK Pandey        SK Raina        KH Pandya   \n",
       " 2    Harbhajan Singh      Yuvraj Singh         V Kohli      LRPL Taylor   \n",
       " 3          IK Pathan       BB McCullum      RV Uthappa  Y Venugopal Rao   \n",
       " 4          PP Chawla           M Vijay        MS Dhoni         AM Nayar   \n",
       " 5           AR Patel          V Sehwag      KD Karthik         DJ Hooda   \n",
       " 6          JA Morkel         SV Samson        S Dhawan       TM Dilshan   \n",
       " 7          SP Narine           WP Saha  AB de Villiers     MC Henriques   \n",
       " 8            P Kumar         JH Kallis       YK Pathan  Shakib Al Hasan   \n",
       " 9           R Ashwin           NV Ojha       G Gambhir         CL White   \n",
       " 10          A Mishra     Mandeep Singh       AT Rayudu      JP Faulkner   \n",
       " 11          R Bhatia          DR Smith      KA Pollard      RA Tripathi   \n",
       " 12     R Vinay Kumar          SA Yadav       DA Warner       MP Stoinis   \n",
       " 13           B Kumar         SPD Smith       SR Watson       AD Mathews   \n",
       " 14         CH Morris          AJ Finch       AM Rahane        BA Stokes   \n",
       " 15          UT Yadav         MK Tiwary        CH Gayle         TL Suman   \n",
       " 16          DW Steyn        MA Agarwal                         M Manhas   \n",
       " 17        MG Johnson          R Dravid                        A Symonds   \n",
       " 18          RP Singh      AC Gilchrist                     KP Pietersen   \n",
       " 19            Z Khan           SS Iyer                           P Negi   \n",
       " 20         MM Sharma      SR Tendulkar                        KV Sharma   \n",
       " 21       Rashid Khan  DPMD Jayawardene                     DT Christian   \n",
       " 22    Sandeep Sharma        GJ Maxwell                        LR Shukla   \n",
       " 23       DS Kulkarni         DA Miller                        V Shankar   \n",
       " 24        SL Malinga      F du Plessis                  Gurkeerat Singh   \n",
       " 25    MJ McClenaghan         JP Duminy                    ST Jayasuriya   \n",
       " 26          M Morkel         HH Pandya                      NLTC Perera   \n",
       " 27           PP Ojha          KL Rahul                         JD Ryder   \n",
       " 28          S Nadeem          SE Marsh                      LMP Simmons   \n",
       " 29          I Sharma     KC Sangakkara                      CJ Anderson   \n",
       " ..               ...               ...             ...              ...   \n",
       " 75                                                             M Kartik   \n",
       " 76                                                        Iqbal Abdulla   \n",
       " 77                                                            R McLaren   \n",
       " 78                                                               S Dube   \n",
       " 79                                                             K Rabada   \n",
       " 80                                                      Abhishek Sharma   \n",
       " 81                                                               AJ Tye   \n",
       " 82                                                           PJ Sangwan   \n",
       " 83                                                           TG Southee   \n",
       " 84                                                      NM Coulter-Nile   \n",
       " 85                                                              R Parag   \n",
       " 86                                                             VR Aaron   \n",
       " 87                                                          S Sreesanth   \n",
       " 88                                                           WD Parnell   \n",
       " 89                                                            KK Cooper   \n",
       " 90                                                           WPUJC Vaas   \n",
       " 91                                                       AD Mascarenhas   \n",
       " 92                                                             MA Starc   \n",
       " 93                                                             FY Fazal   \n",
       " 94                                                              B Akhil   \n",
       " 95                                                              C Munro   \n",
       " 96                                                        Mohammad Nabi   \n",
       " 97                                                            CR Woakes   \n",
       " 98                                                             JDP Oram   \n",
       " 99                                                        Kuldeep Yadav   \n",
       " 100                                                        Ankit Sharma   \n",
       " 101                                                           DL Chahar   \n",
       " 102                                                           SB Styris   \n",
       " 103                                                             TM Head   \n",
       " 104                                                           S Aravind   \n",
       " \n",
       "         Cluster 4  \n",
       " 0       KM Jadhav  \n",
       " 1       SS Tiwary  \n",
       " 2     S Badrinath  \n",
       " 3      EJG Morgan  \n",
       " 4    Ishan Kishan  \n",
       " 5         M Vohra  \n",
       " 6         CA Lynn  \n",
       " 7        MS Bisla  \n",
       " 8         PP Shaw  \n",
       " 9    Shubman Gill  \n",
       " 10       HH Gibbs  \n",
       " 11      GJ Bailey  \n",
       " 12      ML Hayden  \n",
       " 13       GC Smith  \n",
       " 14        AP Tare  \n",
       " 15     MV Boucher  \n",
       " 16        OA Shah  \n",
       " 17         M Kaif  \n",
       " 18      CA Pujara  \n",
       " 19         DB Das  \n",
       " 20    JM Bairstow  \n",
       " 21     SP Goswami  \n",
       " 22     VVS Laxman  \n",
       " 23        S Sohal  \n",
       " 24      UBT Chand  \n",
       " 25       N Pooran  \n",
       " 26    SW Billings  \n",
       " 27    SA Asnodkar  \n",
       " 28      MD Mishra  \n",
       " 29      DH Yagnik  \n",
       " ..            ...  \n",
       " 75                 \n",
       " 76                 \n",
       " 77                 \n",
       " 78                 \n",
       " 79                 \n",
       " 80                 \n",
       " 81                 \n",
       " 82                 \n",
       " 83                 \n",
       " 84                 \n",
       " 85                 \n",
       " 86                 \n",
       " 87                 \n",
       " 88                 \n",
       " 89                 \n",
       " 90                 \n",
       " 91                 \n",
       " 92                 \n",
       " 93                 \n",
       " 94                 \n",
       " 95                 \n",
       " 96                 \n",
       " 97                 \n",
       " 98                 \n",
       " 99                 \n",
       " 100                \n",
       " 101                \n",
       " 102                \n",
       " 103                \n",
       " 104                \n",
       " \n",
       " [105 rows x 5 columns])"
      ]
     },
     "execution_count": 394,
     "metadata": {},
     "output_type": "execute_result"
    }
   ],
   "source": [
    "\n",
    "# View the summary of the clustering\n",
    "clustering_summary(kmeans_label)"
   ]
  },
  {
   "cell_type": "markdown",
   "metadata": {},
   "source": [
    "# Hierarchical Clustering"
   ]
  },
  {
   "cell_type": "markdown",
   "metadata": {},
   "source": [
    "## Dendogram"
   ]
  },
  {
   "cell_type": "code",
   "execution_count": 395,
   "metadata": {
    "ExecuteTime": {
     "end_time": "2021-05-25T15:06:06.525849Z",
     "start_time": "2021-05-25T15:06:01.705088Z"
    }
   },
   "outputs": [
    {
     "data": {
      "image/png": "[encoded data removed]",
      "text/plain": [
       "<Figure size 432x288 with 1 Axes>"
      ]
     },
     "metadata": {
      "needs_background": "light"
     },
     "output_type": "display_data"
    }
   ],
   "source": [
    "# single linkage\n",
    "mergings = linkage(players_scaled, method=\"single\", metric='euclidean')\n",
    "dendrogram(mergings)\n",
    "plt.show()"
   ]
  },
  {
   "cell_type": "code",
   "execution_count": 396,
   "metadata": {
    "ExecuteTime": {
     "end_time": "2021-05-25T15:06:11.396838Z",
     "start_time": "2021-05-25T15:06:06.528486Z"
    }
   },
   "outputs": [
    {
     "data": {
      "image/png": "[encoded data removed]",
      "text/plain": [
       "<Figure size 432x288 with 1 Axes>"
      ]
     },
     "metadata": {
      "needs_background": "light"
     },
     "output_type": "display_data"
    }
   ],
   "source": [
    "# complete linkage\n",
    "mergings = linkage(players_scaled, method=\"complete\", metric='euclidean')\n",
    "dendrogram(mergings)\n",
    "plt.show()"
   ]
  },
  {
   "cell_type": "markdown",
   "metadata": {},
   "source": [
    "## Hierarchical clustering"
   ]
  },
  {
   "cell_type": "code",
   "execution_count": 397,
   "metadata": {
    "ExecuteTime": {
     "end_time": "2021-05-25T15:06:11.402909Z",
     "start_time": "2021-05-25T15:06:11.399030Z"
    }
   },
   "outputs": [],
   "source": [
    "# Perform hierarchical clustering based on the input parameters\n",
    "def hierarchical_clustering(linkage_method, linkage_metric, num_clusters,input_df,output_df,output_col):\n",
    "    mergings = linkage(input_df, method=linkage_method, metric=linkage_metric)\n",
    "    cluster_labels = cut_tree(mergings, n_clusters=num_clusters).reshape(-1, )\n",
    "    # assign cluster labels\n",
    "    output_df[output_col] = cluster_labels\n",
    "    return mergings"
   ]
  },
  {
   "cell_type": "code",
   "execution_count": 398,
   "metadata": {
    "ExecuteTime": {
     "end_time": "2021-05-25T15:06:11.410827Z",
     "start_time": "2021-05-25T15:06:11.405183Z"
    }
   },
   "outputs": [],
   "source": [
    "# # Linkage method could be single, complete, average, weighted, centroid, median, ward\n",
    "# # Refer to: https://docs.scipy.org/doc/scipy/reference/generated/scipy.cluster.hierarchy.linkage.html\n",
    "\n",
    "# mergings = hierarchical_clustering(linkage_method = \"complete\", linkage_metric = \"euclidean\", num_clusters = NUM_CLUSTERS, input_df = players_scaled[ALL_COLUMN_NAMES], output_df = players, output_col = \"cluster_hier\")\n",
    "# dendrogram(mergings)\n",
    "# plt.show()"
   ]
  },
  {
   "cell_type": "code",
   "execution_count": 399,
   "metadata": {
    "ExecuteTime": {
     "end_time": "2021-05-25T15:06:16.296130Z",
     "start_time": "2021-05-25T15:06:11.412328Z"
    }
   },
   "outputs": [
    {
     "data": {
      "image/png": "[encoded data removed]",
      "text/plain": [
       "<Figure size 432x288 with 1 Axes>"
      ]
     },
     "metadata": {
      "needs_background": "light"
     },
     "output_type": "display_data"
    },
    {
     "data": {
      "text/html": [
       "<div>\n",
       "<style scoped>\n",
       "    .dataframe tbody tr th:only-of-type {\n",
       "        vertical-align: middle;\n",
       "    }\n",
       "\n",
       "    .dataframe tbody tr th {\n",
       "        vertical-align: top;\n",
       "    }\n",
       "\n",
       "    .dataframe thead th {\n",
       "        text-align: right;\n",
       "    }\n",
       "</style>\n",
       "<table border=\"1\" class=\"dataframe\">\n",
       "  <thead>\n",
       "    <tr style=\"text-align: right;\">\n",
       "      <th></th>\n",
       "      <th>name</th>\n",
       "      <th>cluster_hier</th>\n",
       "    </tr>\n",
       "  </thead>\n",
       "  <tbody>\n",
       "    <tr>\n",
       "      <th>0</th>\n",
       "      <td>Yuvraj Singh</td>\n",
       "      <td>0</td>\n",
       "    </tr>\n",
       "    <tr>\n",
       "      <th>1</th>\n",
       "      <td>BB McCullum</td>\n",
       "      <td>0</td>\n",
       "    </tr>\n",
       "    <tr>\n",
       "      <th>2</th>\n",
       "      <td>M Vijay</td>\n",
       "      <td>0</td>\n",
       "    </tr>\n",
       "    <tr>\n",
       "      <th>188</th>\n",
       "      <td>Z Khan</td>\n",
       "      <td>1</td>\n",
       "    </tr>\n",
       "    <tr>\n",
       "      <th>189</th>\n",
       "      <td>YS Chahal</td>\n",
       "      <td>1</td>\n",
       "    </tr>\n",
       "    <tr>\n",
       "      <th>190</th>\n",
       "      <td>Sandeep Sharma</td>\n",
       "      <td>1</td>\n",
       "    </tr>\n",
       "    <tr>\n",
       "      <th>217</th>\n",
       "      <td>RA Jadeja</td>\n",
       "      <td>2</td>\n",
       "    </tr>\n",
       "    <tr>\n",
       "      <th>218</th>\n",
       "      <td>PP Chawla</td>\n",
       "      <td>2</td>\n",
       "    </tr>\n",
       "    <tr>\n",
       "      <th>219</th>\n",
       "      <td>Harbhajan Singh</td>\n",
       "      <td>2</td>\n",
       "    </tr>\n",
       "    <tr>\n",
       "      <th>233</th>\n",
       "      <td>RG Sharma</td>\n",
       "      <td>3</td>\n",
       "    </tr>\n",
       "    <tr>\n",
       "      <th>234</th>\n",
       "      <td>SK Raina</td>\n",
       "      <td>3</td>\n",
       "    </tr>\n",
       "    <tr>\n",
       "      <th>235</th>\n",
       "      <td>V Kohli</td>\n",
       "      <td>3</td>\n",
       "    </tr>\n",
       "    <tr>\n",
       "      <th>247</th>\n",
       "      <td>YK Pathan</td>\n",
       "      <td>4</td>\n",
       "    </tr>\n",
       "    <tr>\n",
       "      <th>248</th>\n",
       "      <td>KA Pollard</td>\n",
       "      <td>4</td>\n",
       "    </tr>\n",
       "    <tr>\n",
       "      <th>249</th>\n",
       "      <td>SR Watson</td>\n",
       "      <td>4</td>\n",
       "    </tr>\n",
       "  </tbody>\n",
       "</table>\n",
       "</div>"
      ],
      "text/plain": [
       "                name  cluster_hier\n",
       "0       Yuvraj Singh             0\n",
       "1        BB McCullum             0\n",
       "2            M Vijay             0\n",
       "188           Z Khan             1\n",
       "189        YS Chahal             1\n",
       "190   Sandeep Sharma             1\n",
       "217        RA Jadeja             2\n",
       "218        PP Chawla             2\n",
       "219  Harbhajan Singh             2\n",
       "233        RG Sharma             3\n",
       "234         SK Raina             3\n",
       "235          V Kohli             3\n",
       "247        YK Pathan             4\n",
       "248       KA Pollard             4\n",
       "249        SR Watson             4"
      ]
     },
     "metadata": {},
     "output_type": "display_data"
    }
   ],
   "source": [
    "# New output column to create for the cluster label\n",
    "hier_label = 'cluster_hier'\n",
    "\n",
    "\n",
    "# Hierarchical clustering\n",
    "# Linkage method could be single, complete, average, weighted, centroid, median, ward\n",
    "# Refer to: https://docs.scipy.org/doc/scipy/reference/generated/scipy.cluster.hierarchy.linkage.html\n",
    "\n",
    "mergings = hierarchical_clustering(linkage_method = \"complete\", linkage_metric = \"euclidean\", num_clusters = NUM_CLUSTERS, input_df = players_scaled[ALL_COLUMN_NAMES], output_df = players, output_col = \"cluster_hier\")\n",
    " \n",
    "# Plot the dendogram\n",
    "dendrogram(mergings)\n",
    "plt.show()\n",
    "\n",
    "# View few entries from each cluster\n",
    "groupby_cluster(hier_label,3)"
   ]
  },
  {
   "cell_type": "code",
   "execution_count": 400,
   "metadata": {
    "ExecuteTime": {
     "end_time": "2021-05-25T15:06:16.300258Z",
     "start_time": "2021-05-25T15:06:16.297951Z"
    }
   },
   "outputs": [],
   "source": [
    "# # Create the cluster labels\n",
    "# cluster_labels = cut_tree(mergings, n_clusters=NUM_CLUSTERS).reshape(-1, )# assign cluster labels\n",
    "# players['cluster_hier'] = cluster_labels\n",
    "# groupby_cluster(\"cluster_hier\",2)"
   ]
  },
  {
   "cell_type": "code",
   "execution_count": 401,
   "metadata": {
    "ExecuteTime": {
     "end_time": "2021-05-25T15:06:16.429312Z",
     "start_time": "2021-05-25T15:06:16.302172Z"
    }
   },
   "outputs": [
    {
     "data": {
      "image/png": "[encoded data removed]",
      "text/plain": [
       "<Figure size 432x288 with 1 Axes>"
      ]
     },
     "metadata": {},
     "output_type": "display_data"
    },
    {
     "data": {
      "text/html": [
       "<div>\n",
       "<style scoped>\n",
       "    .dataframe tbody tr th:only-of-type {\n",
       "        vertical-align: middle;\n",
       "    }\n",
       "\n",
       "    .dataframe tbody tr th {\n",
       "        vertical-align: top;\n",
       "    }\n",
       "\n",
       "    .dataframe thead th {\n",
       "        text-align: right;\n",
       "    }\n",
       "</style>\n",
       "<table border=\"1\" class=\"dataframe\">\n",
       "  <thead>\n",
       "    <tr style=\"text-align: right;\">\n",
       "      <th></th>\n",
       "      <th>Num_Players</th>\n",
       "    </tr>\n",
       "  </thead>\n",
       "  <tbody>\n",
       "    <tr>\n",
       "      <th>Cluster 0</th>\n",
       "      <td>188</td>\n",
       "    </tr>\n",
       "    <tr>\n",
       "      <th>Cluster 1</th>\n",
       "      <td>29</td>\n",
       "    </tr>\n",
       "    <tr>\n",
       "      <th>Cluster 2</th>\n",
       "      <td>16</td>\n",
       "    </tr>\n",
       "    <tr>\n",
       "      <th>Cluster 3</th>\n",
       "      <td>14</td>\n",
       "    </tr>\n",
       "    <tr>\n",
       "      <th>Cluster 4</th>\n",
       "      <td>4</td>\n",
       "    </tr>\n",
       "  </tbody>\n",
       "</table>\n",
       "</div>"
      ],
      "text/plain": [
       "           Num_Players\n",
       "Cluster 0          188\n",
       "Cluster 1           29\n",
       "Cluster 2           16\n",
       "Cluster 3           14\n",
       "Cluster 4            4"
      ]
     },
     "metadata": {},
     "output_type": "display_data"
    },
    {
     "data": {
      "text/html": [
       "<div>\n",
       "<style scoped>\n",
       "    .dataframe tbody tr th:only-of-type {\n",
       "        vertical-align: middle;\n",
       "    }\n",
       "\n",
       "    .dataframe tbody tr th {\n",
       "        vertical-align: top;\n",
       "    }\n",
       "\n",
       "    .dataframe thead th {\n",
       "        text-align: right;\n",
       "    }\n",
       "</style>\n",
       "<table border=\"1\" class=\"dataframe\">\n",
       "  <thead>\n",
       "    <tr style=\"text-align: right;\">\n",
       "      <th></th>\n",
       "      <th>Cluster 0</th>\n",
       "      <th>Cluster 1</th>\n",
       "      <th>Cluster 2</th>\n",
       "      <th>Cluster 3</th>\n",
       "      <th>Cluster 4</th>\n",
       "    </tr>\n",
       "  </thead>\n",
       "  <tbody>\n",
       "    <tr>\n",
       "      <th>0</th>\n",
       "      <td>Yuvraj Singh</td>\n",
       "      <td>KV Sharma</td>\n",
       "      <td>RA Jadeja</td>\n",
       "      <td>RG Sharma</td>\n",
       "      <td>YK Pathan</td>\n",
       "    </tr>\n",
       "    <tr>\n",
       "      <th>1</th>\n",
       "      <td>BB McCullum</td>\n",
       "      <td>MG Johnson</td>\n",
       "      <td>DJ Bravo</td>\n",
       "      <td>SK Raina</td>\n",
       "      <td>KA Pollard</td>\n",
       "    </tr>\n",
       "    <tr>\n",
       "      <th>2</th>\n",
       "      <td>M Vijay</td>\n",
       "      <td>RP Singh</td>\n",
       "      <td>Harbhajan Singh</td>\n",
       "      <td>V Kohli</td>\n",
       "      <td>SR Watson</td>\n",
       "    </tr>\n",
       "    <tr>\n",
       "      <th>3</th>\n",
       "      <td>V Sehwag</td>\n",
       "      <td>SK Warne</td>\n",
       "      <td>IK Pathan</td>\n",
       "      <td>RV Uthappa</td>\n",
       "      <td>CH Gayle</td>\n",
       "    </tr>\n",
       "    <tr>\n",
       "      <th>4</th>\n",
       "      <td>SV Samson</td>\n",
       "      <td>Z Khan</td>\n",
       "      <td>PP Chawla</td>\n",
       "      <td>MS Dhoni</td>\n",
       "      <td></td>\n",
       "    </tr>\n",
       "    <tr>\n",
       "      <th>5</th>\n",
       "      <td>WP Saha</td>\n",
       "      <td>MM Sharma</td>\n",
       "      <td>AR Patel</td>\n",
       "      <td>KD Karthik</td>\n",
       "      <td></td>\n",
       "    </tr>\n",
       "    <tr>\n",
       "      <th>6</th>\n",
       "      <td>JH Kallis</td>\n",
       "      <td>Sandeep Sharma</td>\n",
       "      <td>JA Morkel</td>\n",
       "      <td>S Dhawan</td>\n",
       "      <td></td>\n",
       "    </tr>\n",
       "    <tr>\n",
       "      <th>7</th>\n",
       "      <td>NV Ojha</td>\n",
       "      <td>DS Kulkarni</td>\n",
       "      <td>SP Narine</td>\n",
       "      <td>AB de Villiers</td>\n",
       "      <td></td>\n",
       "    </tr>\n",
       "    <tr>\n",
       "      <th>8</th>\n",
       "      <td>Mandeep Singh</td>\n",
       "      <td>MJ McClenaghan</td>\n",
       "      <td>P Kumar</td>\n",
       "      <td>G Gambhir</td>\n",
       "      <td></td>\n",
       "    </tr>\n",
       "    <tr>\n",
       "      <th>9</th>\n",
       "      <td>DR Smith</td>\n",
       "      <td>PP Ojha</td>\n",
       "      <td>R Ashwin</td>\n",
       "      <td>AT Rayudu</td>\n",
       "      <td></td>\n",
       "    </tr>\n",
       "    <tr>\n",
       "      <th>10</th>\n",
       "      <td>SA Yadav</td>\n",
       "      <td>R Sharma</td>\n",
       "      <td>A Mishra</td>\n",
       "      <td>DA Warner</td>\n",
       "      <td></td>\n",
       "    </tr>\n",
       "    <tr>\n",
       "      <th>11</th>\n",
       "      <td>SPD Smith</td>\n",
       "      <td>S Nadeem</td>\n",
       "      <td>R Vinay Kumar</td>\n",
       "      <td>AM Rahane</td>\n",
       "      <td></td>\n",
       "    </tr>\n",
       "    <tr>\n",
       "      <th>12</th>\n",
       "      <td>AJ Finch</td>\n",
       "      <td>I Sharma</td>\n",
       "      <td>B Kumar</td>\n",
       "      <td>PA Patel</td>\n",
       "      <td></td>\n",
       "    </tr>\n",
       "    <tr>\n",
       "      <th>13</th>\n",
       "      <td>MK Tiwary</td>\n",
       "      <td>Mohammed Shami</td>\n",
       "      <td>UT Yadav</td>\n",
       "      <td>MK Pandey</td>\n",
       "      <td></td>\n",
       "    </tr>\n",
       "    <tr>\n",
       "      <th>14</th>\n",
       "      <td>MA Agarwal</td>\n",
       "      <td>A Nehra</td>\n",
       "      <td>DW Steyn</td>\n",
       "      <td></td>\n",
       "      <td></td>\n",
       "    </tr>\n",
       "    <tr>\n",
       "      <th>15</th>\n",
       "      <td>R Dravid</td>\n",
       "      <td>AB Dinda</td>\n",
       "      <td>SL Malinga</td>\n",
       "      <td></td>\n",
       "      <td></td>\n",
       "    </tr>\n",
       "    <tr>\n",
       "      <th>16</th>\n",
       "      <td>AC Gilchrist</td>\n",
       "      <td>A Kumble</td>\n",
       "      <td></td>\n",
       "      <td></td>\n",
       "      <td></td>\n",
       "    </tr>\n",
       "    <tr>\n",
       "      <th>17</th>\n",
       "      <td>SS Iyer</td>\n",
       "      <td>SK Trivedi</td>\n",
       "      <td></td>\n",
       "      <td></td>\n",
       "      <td></td>\n",
       "    </tr>\n",
       "    <tr>\n",
       "      <th>18</th>\n",
       "      <td>SR Tendulkar</td>\n",
       "      <td>M Kartik</td>\n",
       "      <td></td>\n",
       "      <td></td>\n",
       "      <td></td>\n",
       "    </tr>\n",
       "    <tr>\n",
       "      <th>19</th>\n",
       "      <td>DPMD Jayawardene</td>\n",
       "      <td>YS Chahal</td>\n",
       "      <td></td>\n",
       "      <td></td>\n",
       "      <td></td>\n",
       "    </tr>\n",
       "    <tr>\n",
       "      <th>20</th>\n",
       "      <td>GJ Maxwell</td>\n",
       "      <td>PJ Sangwan</td>\n",
       "      <td></td>\n",
       "      <td></td>\n",
       "      <td></td>\n",
       "    </tr>\n",
       "    <tr>\n",
       "      <th>21</th>\n",
       "      <td>DA Miller</td>\n",
       "      <td>L Balaji</td>\n",
       "      <td></td>\n",
       "      <td></td>\n",
       "      <td></td>\n",
       "    </tr>\n",
       "    <tr>\n",
       "      <th>22</th>\n",
       "      <td>F du Plessis</td>\n",
       "      <td>JD Unadkat</td>\n",
       "      <td></td>\n",
       "      <td></td>\n",
       "      <td></td>\n",
       "    </tr>\n",
       "    <tr>\n",
       "      <th>23</th>\n",
       "      <td>KM Jadhav</td>\n",
       "      <td>VR Aaron</td>\n",
       "      <td></td>\n",
       "      <td></td>\n",
       "      <td></td>\n",
       "    </tr>\n",
       "    <tr>\n",
       "      <th>24</th>\n",
       "      <td>JP Duminy</td>\n",
       "      <td>MM Patel</td>\n",
       "      <td></td>\n",
       "      <td></td>\n",
       "      <td></td>\n",
       "    </tr>\n",
       "    <tr>\n",
       "      <th>25</th>\n",
       "      <td>HH Pandya</td>\n",
       "      <td>S Sreesanth</td>\n",
       "      <td></td>\n",
       "      <td></td>\n",
       "      <td></td>\n",
       "    </tr>\n",
       "    <tr>\n",
       "      <th>26</th>\n",
       "      <td>KL Rahul</td>\n",
       "      <td>WD Parnell</td>\n",
       "      <td></td>\n",
       "      <td></td>\n",
       "      <td></td>\n",
       "    </tr>\n",
       "    <tr>\n",
       "      <th>27</th>\n",
       "      <td>SS Tiwary</td>\n",
       "      <td>JJ Bumrah</td>\n",
       "      <td></td>\n",
       "      <td></td>\n",
       "      <td></td>\n",
       "    </tr>\n",
       "    <tr>\n",
       "      <th>28</th>\n",
       "      <td>SE Marsh</td>\n",
       "      <td>Kuldeep Yadav</td>\n",
       "      <td></td>\n",
       "      <td></td>\n",
       "      <td></td>\n",
       "    </tr>\n",
       "    <tr>\n",
       "      <th>29</th>\n",
       "      <td>KC Sangakkara</td>\n",
       "      <td></td>\n",
       "      <td></td>\n",
       "      <td></td>\n",
       "      <td></td>\n",
       "    </tr>\n",
       "    <tr>\n",
       "      <th>...</th>\n",
       "      <td>...</td>\n",
       "      <td>...</td>\n",
       "      <td>...</td>\n",
       "      <td>...</td>\n",
       "      <td>...</td>\n",
       "    </tr>\n",
       "    <tr>\n",
       "      <th>158</th>\n",
       "      <td>TG Southee</td>\n",
       "      <td></td>\n",
       "      <td></td>\n",
       "      <td></td>\n",
       "      <td></td>\n",
       "    </tr>\n",
       "    <tr>\n",
       "      <th>159</th>\n",
       "      <td>NM Coulter-Nile</td>\n",
       "      <td></td>\n",
       "      <td></td>\n",
       "      <td></td>\n",
       "      <td></td>\n",
       "    </tr>\n",
       "    <tr>\n",
       "      <th>160</th>\n",
       "      <td>R Parag</td>\n",
       "      <td></td>\n",
       "      <td></td>\n",
       "      <td></td>\n",
       "      <td></td>\n",
       "    </tr>\n",
       "    <tr>\n",
       "      <th>161</th>\n",
       "      <td>P Dogra</td>\n",
       "      <td></td>\n",
       "      <td></td>\n",
       "      <td></td>\n",
       "      <td></td>\n",
       "    </tr>\n",
       "    <tr>\n",
       "      <th>162</th>\n",
       "      <td>S Anirudha</td>\n",
       "      <td></td>\n",
       "      <td></td>\n",
       "      <td></td>\n",
       "      <td></td>\n",
       "    </tr>\n",
       "    <tr>\n",
       "      <th>163</th>\n",
       "      <td>MJ Lumb</td>\n",
       "      <td></td>\n",
       "      <td></td>\n",
       "      <td></td>\n",
       "      <td></td>\n",
       "    </tr>\n",
       "    <tr>\n",
       "      <th>164</th>\n",
       "      <td>KK Cooper</td>\n",
       "      <td></td>\n",
       "      <td></td>\n",
       "      <td></td>\n",
       "      <td></td>\n",
       "    </tr>\n",
       "    <tr>\n",
       "      <th>165</th>\n",
       "      <td>WPUJC Vaas</td>\n",
       "      <td></td>\n",
       "      <td></td>\n",
       "      <td></td>\n",
       "      <td></td>\n",
       "    </tr>\n",
       "    <tr>\n",
       "      <th>166</th>\n",
       "      <td>AD Mascarenhas</td>\n",
       "      <td></td>\n",
       "      <td></td>\n",
       "      <td></td>\n",
       "      <td></td>\n",
       "    </tr>\n",
       "    <tr>\n",
       "      <th>167</th>\n",
       "      <td>MA Starc</td>\n",
       "      <td></td>\n",
       "      <td></td>\n",
       "      <td></td>\n",
       "      <td></td>\n",
       "    </tr>\n",
       "    <tr>\n",
       "      <th>168</th>\n",
       "      <td>FY Fazal</td>\n",
       "      <td></td>\n",
       "      <td></td>\n",
       "      <td></td>\n",
       "      <td></td>\n",
       "    </tr>\n",
       "    <tr>\n",
       "      <th>169</th>\n",
       "      <td>B Akhil</td>\n",
       "      <td></td>\n",
       "      <td></td>\n",
       "      <td></td>\n",
       "      <td></td>\n",
       "    </tr>\n",
       "    <tr>\n",
       "      <th>170</th>\n",
       "      <td>M Rawat</td>\n",
       "      <td></td>\n",
       "      <td></td>\n",
       "      <td></td>\n",
       "      <td></td>\n",
       "    </tr>\n",
       "    <tr>\n",
       "      <th>171</th>\n",
       "      <td>C Munro</td>\n",
       "      <td></td>\n",
       "      <td></td>\n",
       "      <td></td>\n",
       "      <td></td>\n",
       "    </tr>\n",
       "    <tr>\n",
       "      <th>172</th>\n",
       "      <td>SM Katich</td>\n",
       "      <td></td>\n",
       "      <td></td>\n",
       "      <td></td>\n",
       "      <td></td>\n",
       "    </tr>\n",
       "    <tr>\n",
       "      <th>173</th>\n",
       "      <td>Mohammad Nabi</td>\n",
       "      <td></td>\n",
       "      <td></td>\n",
       "      <td></td>\n",
       "      <td></td>\n",
       "    </tr>\n",
       "    <tr>\n",
       "      <th>174</th>\n",
       "      <td>CR Woakes</td>\n",
       "      <td></td>\n",
       "      <td></td>\n",
       "      <td></td>\n",
       "      <td></td>\n",
       "    </tr>\n",
       "    <tr>\n",
       "      <th>175</th>\n",
       "      <td>JDP Oram</td>\n",
       "      <td></td>\n",
       "      <td></td>\n",
       "      <td></td>\n",
       "      <td></td>\n",
       "    </tr>\n",
       "    <tr>\n",
       "      <th>176</th>\n",
       "      <td>PK Garg</td>\n",
       "      <td></td>\n",
       "      <td></td>\n",
       "      <td></td>\n",
       "      <td></td>\n",
       "    </tr>\n",
       "    <tr>\n",
       "      <th>177</th>\n",
       "      <td>YV Takawale</td>\n",
       "      <td></td>\n",
       "      <td></td>\n",
       "      <td></td>\n",
       "      <td></td>\n",
       "    </tr>\n",
       "    <tr>\n",
       "      <th>178</th>\n",
       "      <td>N Saini</td>\n",
       "      <td></td>\n",
       "      <td></td>\n",
       "      <td></td>\n",
       "      <td></td>\n",
       "    </tr>\n",
       "    <tr>\n",
       "      <th>179</th>\n",
       "      <td>PA Reddy</td>\n",
       "      <td></td>\n",
       "      <td></td>\n",
       "      <td></td>\n",
       "      <td></td>\n",
       "    </tr>\n",
       "    <tr>\n",
       "      <th>180</th>\n",
       "      <td>Ankit Sharma</td>\n",
       "      <td></td>\n",
       "      <td></td>\n",
       "      <td></td>\n",
       "      <td></td>\n",
       "    </tr>\n",
       "    <tr>\n",
       "      <th>181</th>\n",
       "      <td>Sachin Baby</td>\n",
       "      <td></td>\n",
       "      <td></td>\n",
       "      <td></td>\n",
       "      <td></td>\n",
       "    </tr>\n",
       "    <tr>\n",
       "      <th>182</th>\n",
       "      <td>DL Chahar</td>\n",
       "      <td></td>\n",
       "      <td></td>\n",
       "      <td></td>\n",
       "      <td></td>\n",
       "    </tr>\n",
       "    <tr>\n",
       "      <th>183</th>\n",
       "      <td>SB Styris</td>\n",
       "      <td></td>\n",
       "      <td></td>\n",
       "      <td></td>\n",
       "      <td></td>\n",
       "    </tr>\n",
       "    <tr>\n",
       "      <th>184</th>\n",
       "      <td>AD Nath</td>\n",
       "      <td></td>\n",
       "      <td></td>\n",
       "      <td></td>\n",
       "      <td></td>\n",
       "    </tr>\n",
       "    <tr>\n",
       "      <th>185</th>\n",
       "      <td>SP Fleming</td>\n",
       "      <td></td>\n",
       "      <td></td>\n",
       "      <td></td>\n",
       "      <td></td>\n",
       "    </tr>\n",
       "    <tr>\n",
       "      <th>186</th>\n",
       "      <td>TM Head</td>\n",
       "      <td></td>\n",
       "      <td></td>\n",
       "      <td></td>\n",
       "      <td></td>\n",
       "    </tr>\n",
       "    <tr>\n",
       "      <th>187</th>\n",
       "      <td>S Aravind</td>\n",
       "      <td></td>\n",
       "      <td></td>\n",
       "      <td></td>\n",
       "      <td></td>\n",
       "    </tr>\n",
       "  </tbody>\n",
       "</table>\n",
       "<p>188 rows × 5 columns</p>\n",
       "</div>"
      ],
      "text/plain": [
       "            Cluster 0       Cluster 1        Cluster 2       Cluster 3  \\\n",
       "0        Yuvraj Singh       KV Sharma        RA Jadeja       RG Sharma   \n",
       "1         BB McCullum      MG Johnson         DJ Bravo        SK Raina   \n",
       "2             M Vijay        RP Singh  Harbhajan Singh         V Kohli   \n",
       "3            V Sehwag        SK Warne        IK Pathan      RV Uthappa   \n",
       "4           SV Samson          Z Khan        PP Chawla        MS Dhoni   \n",
       "5             WP Saha       MM Sharma         AR Patel      KD Karthik   \n",
       "6           JH Kallis  Sandeep Sharma        JA Morkel        S Dhawan   \n",
       "7             NV Ojha     DS Kulkarni        SP Narine  AB de Villiers   \n",
       "8       Mandeep Singh  MJ McClenaghan          P Kumar       G Gambhir   \n",
       "9            DR Smith         PP Ojha         R Ashwin       AT Rayudu   \n",
       "10           SA Yadav        R Sharma         A Mishra       DA Warner   \n",
       "11          SPD Smith        S Nadeem    R Vinay Kumar       AM Rahane   \n",
       "12           AJ Finch        I Sharma          B Kumar        PA Patel   \n",
       "13          MK Tiwary  Mohammed Shami         UT Yadav       MK Pandey   \n",
       "14         MA Agarwal         A Nehra         DW Steyn                   \n",
       "15           R Dravid        AB Dinda       SL Malinga                   \n",
       "16       AC Gilchrist        A Kumble                                    \n",
       "17            SS Iyer      SK Trivedi                                    \n",
       "18       SR Tendulkar        M Kartik                                    \n",
       "19   DPMD Jayawardene       YS Chahal                                    \n",
       "20         GJ Maxwell      PJ Sangwan                                    \n",
       "21          DA Miller        L Balaji                                    \n",
       "22       F du Plessis      JD Unadkat                                    \n",
       "23          KM Jadhav        VR Aaron                                    \n",
       "24          JP Duminy        MM Patel                                    \n",
       "25          HH Pandya     S Sreesanth                                    \n",
       "26           KL Rahul      WD Parnell                                    \n",
       "27          SS Tiwary       JJ Bumrah                                    \n",
       "28           SE Marsh   Kuldeep Yadav                                    \n",
       "29      KC Sangakkara                                                    \n",
       "..                ...             ...              ...             ...   \n",
       "158        TG Southee                                                    \n",
       "159   NM Coulter-Nile                                                    \n",
       "160           R Parag                                                    \n",
       "161           P Dogra                                                    \n",
       "162        S Anirudha                                                    \n",
       "163           MJ Lumb                                                    \n",
       "164         KK Cooper                                                    \n",
       "165        WPUJC Vaas                                                    \n",
       "166    AD Mascarenhas                                                    \n",
       "167          MA Starc                                                    \n",
       "168          FY Fazal                                                    \n",
       "169           B Akhil                                                    \n",
       "170           M Rawat                                                    \n",
       "171           C Munro                                                    \n",
       "172         SM Katich                                                    \n",
       "173     Mohammad Nabi                                                    \n",
       "174         CR Woakes                                                    \n",
       "175          JDP Oram                                                    \n",
       "176           PK Garg                                                    \n",
       "177       YV Takawale                                                    \n",
       "178           N Saini                                                    \n",
       "179          PA Reddy                                                    \n",
       "180      Ankit Sharma                                                    \n",
       "181       Sachin Baby                                                    \n",
       "182         DL Chahar                                                    \n",
       "183         SB Styris                                                    \n",
       "184           AD Nath                                                    \n",
       "185        SP Fleming                                                    \n",
       "186           TM Head                                                    \n",
       "187         S Aravind                                                    \n",
       "\n",
       "      Cluster 4  \n",
       "0     YK Pathan  \n",
       "1    KA Pollard  \n",
       "2     SR Watson  \n",
       "3      CH Gayle  \n",
       "4                \n",
       "5                \n",
       "6                \n",
       "7                \n",
       "8                \n",
       "9                \n",
       "10               \n",
       "11               \n",
       "12               \n",
       "13               \n",
       "14               \n",
       "15               \n",
       "16               \n",
       "17               \n",
       "18               \n",
       "19               \n",
       "20               \n",
       "21               \n",
       "22               \n",
       "23               \n",
       "24               \n",
       "25               \n",
       "26               \n",
       "27               \n",
       "28               \n",
       "29               \n",
       "..          ...  \n",
       "158              \n",
       "159              \n",
       "160              \n",
       "161              \n",
       "162              \n",
       "163              \n",
       "164              \n",
       "165              \n",
       "166              \n",
       "167              \n",
       "168              \n",
       "169              \n",
       "170              \n",
       "171              \n",
       "172              \n",
       "173              \n",
       "174              \n",
       "175              \n",
       "176              \n",
       "177              \n",
       "178              \n",
       "179              \n",
       "180              \n",
       "181              \n",
       "182              \n",
       "183              \n",
       "184              \n",
       "185              \n",
       "186              \n",
       "187              \n",
       "\n",
       "[188 rows x 5 columns]"
      ]
     },
     "metadata": {},
     "output_type": "display_data"
    },
    {
     "data": {
      "text/plain": [
       "(           Num_Players\n",
       " Cluster 0          188\n",
       " Cluster 1           29\n",
       " Cluster 2           16\n",
       " Cluster 3           14\n",
       " Cluster 4            4,\n",
       "             Cluster 0       Cluster 1        Cluster 2       Cluster 3  \\\n",
       " 0        Yuvraj Singh       KV Sharma        RA Jadeja       RG Sharma   \n",
       " 1         BB McCullum      MG Johnson         DJ Bravo        SK Raina   \n",
       " 2             M Vijay        RP Singh  Harbhajan Singh         V Kohli   \n",
       " 3            V Sehwag        SK Warne        IK Pathan      RV Uthappa   \n",
       " 4           SV Samson          Z Khan        PP Chawla        MS Dhoni   \n",
       " 5             WP Saha       MM Sharma         AR Patel      KD Karthik   \n",
       " 6           JH Kallis  Sandeep Sharma        JA Morkel        S Dhawan   \n",
       " 7             NV Ojha     DS Kulkarni        SP Narine  AB de Villiers   \n",
       " 8       Mandeep Singh  MJ McClenaghan          P Kumar       G Gambhir   \n",
       " 9            DR Smith         PP Ojha         R Ashwin       AT Rayudu   \n",
       " 10           SA Yadav        R Sharma         A Mishra       DA Warner   \n",
       " 11          SPD Smith        S Nadeem    R Vinay Kumar       AM Rahane   \n",
       " 12           AJ Finch        I Sharma          B Kumar        PA Patel   \n",
       " 13          MK Tiwary  Mohammed Shami         UT Yadav       MK Pandey   \n",
       " 14         MA Agarwal         A Nehra         DW Steyn                   \n",
       " 15           R Dravid        AB Dinda       SL Malinga                   \n",
       " 16       AC Gilchrist        A Kumble                                    \n",
       " 17            SS Iyer      SK Trivedi                                    \n",
       " 18       SR Tendulkar        M Kartik                                    \n",
       " 19   DPMD Jayawardene       YS Chahal                                    \n",
       " 20         GJ Maxwell      PJ Sangwan                                    \n",
       " 21          DA Miller        L Balaji                                    \n",
       " 22       F du Plessis      JD Unadkat                                    \n",
       " 23          KM Jadhav        VR Aaron                                    \n",
       " 24          JP Duminy        MM Patel                                    \n",
       " 25          HH Pandya     S Sreesanth                                    \n",
       " 26           KL Rahul      WD Parnell                                    \n",
       " 27          SS Tiwary       JJ Bumrah                                    \n",
       " 28           SE Marsh   Kuldeep Yadav                                    \n",
       " 29      KC Sangakkara                                                    \n",
       " ..                ...             ...              ...             ...   \n",
       " 158        TG Southee                                                    \n",
       " 159   NM Coulter-Nile                                                    \n",
       " 160           R Parag                                                    \n",
       " 161           P Dogra                                                    \n",
       " 162        S Anirudha                                                    \n",
       " 163           MJ Lumb                                                    \n",
       " 164         KK Cooper                                                    \n",
       " 165        WPUJC Vaas                                                    \n",
       " 166    AD Mascarenhas                                                    \n",
       " 167          MA Starc                                                    \n",
       " 168          FY Fazal                                                    \n",
       " 169           B Akhil                                                    \n",
       " 170           M Rawat                                                    \n",
       " 171           C Munro                                                    \n",
       " 172         SM Katich                                                    \n",
       " 173     Mohammad Nabi                                                    \n",
       " 174         CR Woakes                                                    \n",
       " 175          JDP Oram                                                    \n",
       " 176           PK Garg                                                    \n",
       " 177       YV Takawale                                                    \n",
       " 178           N Saini                                                    \n",
       " 179          PA Reddy                                                    \n",
       " 180      Ankit Sharma                                                    \n",
       " 181       Sachin Baby                                                    \n",
       " 182         DL Chahar                                                    \n",
       " 183         SB Styris                                                    \n",
       " 184           AD Nath                                                    \n",
       " 185        SP Fleming                                                    \n",
       " 186           TM Head                                                    \n",
       " 187         S Aravind                                                    \n",
       " \n",
       "       Cluster 4  \n",
       " 0     YK Pathan  \n",
       " 1    KA Pollard  \n",
       " 2     SR Watson  \n",
       " 3      CH Gayle  \n",
       " 4                \n",
       " 5                \n",
       " 6                \n",
       " 7                \n",
       " 8                \n",
       " 9                \n",
       " 10               \n",
       " 11               \n",
       " 12               \n",
       " 13               \n",
       " 14               \n",
       " 15               \n",
       " 16               \n",
       " 17               \n",
       " 18               \n",
       " 19               \n",
       " 20               \n",
       " 21               \n",
       " 22               \n",
       " 23               \n",
       " 24               \n",
       " 25               \n",
       " 26               \n",
       " 27               \n",
       " 28               \n",
       " 29               \n",
       " ..          ...  \n",
       " 158              \n",
       " 159              \n",
       " 160              \n",
       " 161              \n",
       " 162              \n",
       " 163              \n",
       " 164              \n",
       " 165              \n",
       " 166              \n",
       " 167              \n",
       " 168              \n",
       " 169              \n",
       " 170              \n",
       " 171              \n",
       " 172              \n",
       " 173              \n",
       " 174              \n",
       " 175              \n",
       " 176              \n",
       " 177              \n",
       " 178              \n",
       " 179              \n",
       " 180              \n",
       " 181              \n",
       " 182              \n",
       " 183              \n",
       " 184              \n",
       " 185              \n",
       " 186              \n",
       " 187              \n",
       " \n",
       " [188 rows x 5 columns])"
      ]
     },
     "execution_count": 401,
     "metadata": {},
     "output_type": "execute_result"
    }
   ],
   "source": [
    "# View the summary of the clustering\n",
    "clustering_summary(hier_label)"
   ]
  },
  {
   "cell_type": "code",
   "execution_count": null,
   "metadata": {},
   "outputs": [],
   "source": []
  },
  {
   "cell_type": "markdown",
   "metadata": {},
   "source": [
    "#  DBScan Clustering"
   ]
  },
  {
   "cell_type": "code",
   "execution_count": 402,
   "metadata": {
    "ExecuteTime": {
     "end_time": "2021-05-25T15:06:16.435073Z",
     "start_time": "2021-05-25T15:06:16.430838Z"
    }
   },
   "outputs": [],
   "source": [
    "# Perform density clustering based on the input parameters\n",
    "def dbscan_clustering(epsilon, minimum_samples,input_df,output_df,output_col):\n",
    "    # Compute DBSCAN\n",
    "    db = DBSCAN(eps=epsilon, min_samples=minimum_samples).fit(input_df)\n",
    "    labels = db.labels_\n",
    "\n",
    "    # assign cluster labels\n",
    "    output_df[output_col] = labels\n",
    "    \n",
    "    n_clusters_ = len(set(labels)) - (1 if -1 in labels else 0)\n",
    "    n_noise_ = list(labels).count(-1)\n",
    "\n",
    "    print('Estimated number of clusters: %d' % n_clusters_)\n",
    "    print('Estimated number of noise points: %d' % n_noise_)"
   ]
  },
  {
   "cell_type": "code",
   "execution_count": 403,
   "metadata": {
    "ExecuteTime": {
     "end_time": "2021-05-25T15:06:16.463820Z",
     "start_time": "2021-05-25T15:06:16.437031Z"
    }
   },
   "outputs": [
    {
     "name": "stdout",
     "output_type": "stream",
     "text": [
      "Estimated number of clusters: 5\n",
      "Estimated number of noise points: 162\n"
     ]
    },
    {
     "data": {
      "text/html": [
       "<div>\n",
       "<style scoped>\n",
       "    .dataframe tbody tr th:only-of-type {\n",
       "        vertical-align: middle;\n",
       "    }\n",
       "\n",
       "    .dataframe tbody tr th {\n",
       "        vertical-align: top;\n",
       "    }\n",
       "\n",
       "    .dataframe thead th {\n",
       "        text-align: right;\n",
       "    }\n",
       "</style>\n",
       "<table border=\"1\" class=\"dataframe\">\n",
       "  <thead>\n",
       "    <tr style=\"text-align: right;\">\n",
       "      <th></th>\n",
       "      <th>name</th>\n",
       "      <th>cluster_dbscan</th>\n",
       "    </tr>\n",
       "  </thead>\n",
       "  <tbody>\n",
       "    <tr>\n",
       "      <th>0</th>\n",
       "      <td>RG Sharma</td>\n",
       "      <td>-1</td>\n",
       "    </tr>\n",
       "    <tr>\n",
       "      <th>1</th>\n",
       "      <td>SK Raina</td>\n",
       "      <td>-1</td>\n",
       "    </tr>\n",
       "    <tr>\n",
       "      <th>2</th>\n",
       "      <td>V Kohli</td>\n",
       "      <td>-1</td>\n",
       "    </tr>\n",
       "    <tr>\n",
       "      <th>162</th>\n",
       "      <td>LR Shukla</td>\n",
       "      <td>0</td>\n",
       "    </tr>\n",
       "    <tr>\n",
       "      <th>163</th>\n",
       "      <td>TL Suman</td>\n",
       "      <td>0</td>\n",
       "    </tr>\n",
       "    <tr>\n",
       "      <th>164</th>\n",
       "      <td>M Manhas</td>\n",
       "      <td>0</td>\n",
       "    </tr>\n",
       "    <tr>\n",
       "      <th>201</th>\n",
       "      <td>GJ Bailey</td>\n",
       "      <td>1</td>\n",
       "    </tr>\n",
       "    <tr>\n",
       "      <th>202</th>\n",
       "      <td>AP Tare</td>\n",
       "      <td>1</td>\n",
       "    </tr>\n",
       "    <tr>\n",
       "      <th>203</th>\n",
       "      <td>MV Boucher</td>\n",
       "      <td>1</td>\n",
       "    </tr>\n",
       "    <tr>\n",
       "      <th>232</th>\n",
       "      <td>M Kartik</td>\n",
       "      <td>2</td>\n",
       "    </tr>\n",
       "    <tr>\n",
       "      <th>233</th>\n",
       "      <td>Iqbal Abdulla</td>\n",
       "      <td>2</td>\n",
       "    </tr>\n",
       "    <tr>\n",
       "      <th>234</th>\n",
       "      <td>S Gopal</td>\n",
       "      <td>2</td>\n",
       "    </tr>\n",
       "    <tr>\n",
       "      <th>240</th>\n",
       "      <td>DL Chahar</td>\n",
       "      <td>3</td>\n",
       "    </tr>\n",
       "    <tr>\n",
       "      <th>241</th>\n",
       "      <td>HV Patel</td>\n",
       "      <td>3</td>\n",
       "    </tr>\n",
       "    <tr>\n",
       "      <th>242</th>\n",
       "      <td>MS Gony</td>\n",
       "      <td>3</td>\n",
       "    </tr>\n",
       "    <tr>\n",
       "      <th>245</th>\n",
       "      <td>Washington Sundar</td>\n",
       "      <td>4</td>\n",
       "    </tr>\n",
       "    <tr>\n",
       "      <th>246</th>\n",
       "      <td>PJ Cummins</td>\n",
       "      <td>4</td>\n",
       "    </tr>\n",
       "    <tr>\n",
       "      <th>247</th>\n",
       "      <td>AJ Tye</td>\n",
       "      <td>4</td>\n",
       "    </tr>\n",
       "  </tbody>\n",
       "</table>\n",
       "</div>"
      ],
      "text/plain": [
       "                  name  cluster_dbscan\n",
       "0            RG Sharma              -1\n",
       "1             SK Raina              -1\n",
       "2              V Kohli              -1\n",
       "162          LR Shukla               0\n",
       "163           TL Suman               0\n",
       "164           M Manhas               0\n",
       "201          GJ Bailey               1\n",
       "202            AP Tare               1\n",
       "203         MV Boucher               1\n",
       "232           M Kartik               2\n",
       "233      Iqbal Abdulla               2\n",
       "234            S Gopal               2\n",
       "240          DL Chahar               3\n",
       "241           HV Patel               3\n",
       "242            MS Gony               3\n",
       "245  Washington Sundar               4\n",
       "246         PJ Cummins               4\n",
       "247             AJ Tye               4"
      ]
     },
     "metadata": {},
     "output_type": "display_data"
    }
   ],
   "source": [
    "# New output column to create for the cluster label\n",
    "dbscan_label = 'cluster_dbscan'\n",
    "\n",
    "# DBSCAN clustering\n",
    "dbscan_clustering(0.8,5,players_scaled[ALL_COLUMN_NAMES],players,dbscan_label)\n",
    "\n",
    "# View few entries from each cluster\n",
    "groupby_cluster(dbscan_label,3)"
   ]
  },
  {
   "cell_type": "code",
   "execution_count": 404,
   "metadata": {
    "ExecuteTime": {
     "end_time": "2021-05-25T15:06:16.603714Z",
     "start_time": "2021-05-25T15:06:16.465529Z"
    },
    "scrolled": false
   },
   "outputs": [
    {
     "data": {
      "image/png": "[encoded data removed]",
      "text/plain": [
       "<Figure size 432x288 with 1 Axes>"
      ]
     },
     "metadata": {},
     "output_type": "display_data"
    },
    {
     "data": {
      "text/html": [
       "<div>\n",
       "<style scoped>\n",
       "    .dataframe tbody tr th:only-of-type {\n",
       "        vertical-align: middle;\n",
       "    }\n",
       "\n",
       "    .dataframe tbody tr th {\n",
       "        vertical-align: top;\n",
       "    }\n",
       "\n",
       "    .dataframe thead th {\n",
       "        text-align: right;\n",
       "    }\n",
       "</style>\n",
       "<table border=\"1\" class=\"dataframe\">\n",
       "  <thead>\n",
       "    <tr style=\"text-align: right;\">\n",
       "      <th></th>\n",
       "      <th>Num_Players</th>\n",
       "    </tr>\n",
       "  </thead>\n",
       "  <tbody>\n",
       "    <tr>\n",
       "      <th>Cluster 0</th>\n",
       "      <td>39</td>\n",
       "    </tr>\n",
       "    <tr>\n",
       "      <th>Cluster 1</th>\n",
       "      <td>41</td>\n",
       "    </tr>\n",
       "    <tr>\n",
       "      <th>Cluster 2</th>\n",
       "      <td>16</td>\n",
       "    </tr>\n",
       "    <tr>\n",
       "      <th>Cluster 3</th>\n",
       "      <td>105</td>\n",
       "    </tr>\n",
       "    <tr>\n",
       "      <th>Cluster 4</th>\n",
       "      <td>50</td>\n",
       "    </tr>\n",
       "  </tbody>\n",
       "</table>\n",
       "</div>"
      ],
      "text/plain": [
       "           Num_Players\n",
       "Cluster 0           39\n",
       "Cluster 1           41\n",
       "Cluster 2           16\n",
       "Cluster 3          105\n",
       "Cluster 4           50"
      ]
     },
     "metadata": {},
     "output_type": "display_data"
    },
    {
     "data": {
      "text/html": [
       "<div>\n",
       "<style scoped>\n",
       "    .dataframe tbody tr th:only-of-type {\n",
       "        vertical-align: middle;\n",
       "    }\n",
       "\n",
       "    .dataframe tbody tr th {\n",
       "        vertical-align: top;\n",
       "    }\n",
       "\n",
       "    .dataframe thead th {\n",
       "        text-align: right;\n",
       "    }\n",
       "</style>\n",
       "<table border=\"1\" class=\"dataframe\">\n",
       "  <thead>\n",
       "    <tr style=\"text-align: right;\">\n",
       "      <th></th>\n",
       "      <th>Cluster 0</th>\n",
       "      <th>Cluster 1</th>\n",
       "      <th>Cluster 2</th>\n",
       "      <th>Cluster 3</th>\n",
       "      <th>Cluster 4</th>\n",
       "    </tr>\n",
       "  </thead>\n",
       "  <tbody>\n",
       "    <tr>\n",
       "      <th>0</th>\n",
       "      <td>RA Jadeja</td>\n",
       "      <td>PA Patel</td>\n",
       "      <td>RG Sharma</td>\n",
       "      <td>STR Binny</td>\n",
       "      <td>KM Jadhav</td>\n",
       "    </tr>\n",
       "    <tr>\n",
       "      <th>1</th>\n",
       "      <td>DJ Bravo</td>\n",
       "      <td>MK Pandey</td>\n",
       "      <td>SK Raina</td>\n",
       "      <td>KH Pandya</td>\n",
       "      <td>SS Tiwary</td>\n",
       "    </tr>\n",
       "    <tr>\n",
       "      <th>2</th>\n",
       "      <td>Harbhajan Singh</td>\n",
       "      <td>Yuvraj Singh</td>\n",
       "      <td>V Kohli</td>\n",
       "      <td>LRPL Taylor</td>\n",
       "      <td>S Badrinath</td>\n",
       "    </tr>\n",
       "    <tr>\n",
       "      <th>3</th>\n",
       "      <td>IK Pathan</td>\n",
       "      <td>BB McCullum</td>\n",
       "      <td>RV Uthappa</td>\n",
       "      <td>Y Venugopal Rao</td>\n",
       "      <td>EJG Morgan</td>\n",
       "    </tr>\n",
       "    <tr>\n",
       "      <th>4</th>\n",
       "      <td>PP Chawla</td>\n",
       "      <td>M Vijay</td>\n",
       "      <td>MS Dhoni</td>\n",
       "      <td>AM Nayar</td>\n",
       "      <td>Ishan Kishan</td>\n",
       "    </tr>\n",
       "    <tr>\n",
       "      <th>5</th>\n",
       "      <td>AR Patel</td>\n",
       "      <td>V Sehwag</td>\n",
       "      <td>KD Karthik</td>\n",
       "      <td>DJ Hooda</td>\n",
       "      <td>M Vohra</td>\n",
       "    </tr>\n",
       "    <tr>\n",
       "      <th>6</th>\n",
       "      <td>JA Morkel</td>\n",
       "      <td>SV Samson</td>\n",
       "      <td>S Dhawan</td>\n",
       "      <td>TM Dilshan</td>\n",
       "      <td>CA Lynn</td>\n",
       "    </tr>\n",
       "    <tr>\n",
       "      <th>7</th>\n",
       "      <td>SP Narine</td>\n",
       "      <td>WP Saha</td>\n",
       "      <td>AB de Villiers</td>\n",
       "      <td>MC Henriques</td>\n",
       "      <td>MS Bisla</td>\n",
       "    </tr>\n",
       "    <tr>\n",
       "      <th>8</th>\n",
       "      <td>P Kumar</td>\n",
       "      <td>JH Kallis</td>\n",
       "      <td>YK Pathan</td>\n",
       "      <td>Shakib Al Hasan</td>\n",
       "      <td>PP Shaw</td>\n",
       "    </tr>\n",
       "    <tr>\n",
       "      <th>9</th>\n",
       "      <td>R Ashwin</td>\n",
       "      <td>NV Ojha</td>\n",
       "      <td>G Gambhir</td>\n",
       "      <td>CL White</td>\n",
       "      <td>Shubman Gill</td>\n",
       "    </tr>\n",
       "    <tr>\n",
       "      <th>10</th>\n",
       "      <td>A Mishra</td>\n",
       "      <td>Mandeep Singh</td>\n",
       "      <td>AT Rayudu</td>\n",
       "      <td>JP Faulkner</td>\n",
       "      <td>HH Gibbs</td>\n",
       "    </tr>\n",
       "    <tr>\n",
       "      <th>11</th>\n",
       "      <td>R Bhatia</td>\n",
       "      <td>DR Smith</td>\n",
       "      <td>KA Pollard</td>\n",
       "      <td>RA Tripathi</td>\n",
       "      <td>GJ Bailey</td>\n",
       "    </tr>\n",
       "    <tr>\n",
       "      <th>12</th>\n",
       "      <td>R Vinay Kumar</td>\n",
       "      <td>SA Yadav</td>\n",
       "      <td>DA Warner</td>\n",
       "      <td>MP Stoinis</td>\n",
       "      <td>ML Hayden</td>\n",
       "    </tr>\n",
       "    <tr>\n",
       "      <th>13</th>\n",
       "      <td>B Kumar</td>\n",
       "      <td>SPD Smith</td>\n",
       "      <td>SR Watson</td>\n",
       "      <td>AD Mathews</td>\n",
       "      <td>GC Smith</td>\n",
       "    </tr>\n",
       "    <tr>\n",
       "      <th>14</th>\n",
       "      <td>CH Morris</td>\n",
       "      <td>AJ Finch</td>\n",
       "      <td>AM Rahane</td>\n",
       "      <td>BA Stokes</td>\n",
       "      <td>AP Tare</td>\n",
       "    </tr>\n",
       "    <tr>\n",
       "      <th>15</th>\n",
       "      <td>UT Yadav</td>\n",
       "      <td>MK Tiwary</td>\n",
       "      <td>CH Gayle</td>\n",
       "      <td>TL Suman</td>\n",
       "      <td>MV Boucher</td>\n",
       "    </tr>\n",
       "    <tr>\n",
       "      <th>16</th>\n",
       "      <td>DW Steyn</td>\n",
       "      <td>MA Agarwal</td>\n",
       "      <td></td>\n",
       "      <td>M Manhas</td>\n",
       "      <td>OA Shah</td>\n",
       "    </tr>\n",
       "    <tr>\n",
       "      <th>17</th>\n",
       "      <td>MG Johnson</td>\n",
       "      <td>R Dravid</td>\n",
       "      <td></td>\n",
       "      <td>A Symonds</td>\n",
       "      <td>M Kaif</td>\n",
       "    </tr>\n",
       "    <tr>\n",
       "      <th>18</th>\n",
       "      <td>RP Singh</td>\n",
       "      <td>AC Gilchrist</td>\n",
       "      <td></td>\n",
       "      <td>KP Pietersen</td>\n",
       "      <td>CA Pujara</td>\n",
       "    </tr>\n",
       "    <tr>\n",
       "      <th>19</th>\n",
       "      <td>Z Khan</td>\n",
       "      <td>SS Iyer</td>\n",
       "      <td></td>\n",
       "      <td>P Negi</td>\n",
       "      <td>DB Das</td>\n",
       "    </tr>\n",
       "    <tr>\n",
       "      <th>20</th>\n",
       "      <td>MM Sharma</td>\n",
       "      <td>SR Tendulkar</td>\n",
       "      <td></td>\n",
       "      <td>KV Sharma</td>\n",
       "      <td>JM Bairstow</td>\n",
       "    </tr>\n",
       "    <tr>\n",
       "      <th>21</th>\n",
       "      <td>Rashid Khan</td>\n",
       "      <td>DPMD Jayawardene</td>\n",
       "      <td></td>\n",
       "      <td>DT Christian</td>\n",
       "      <td>SP Goswami</td>\n",
       "    </tr>\n",
       "    <tr>\n",
       "      <th>22</th>\n",
       "      <td>Sandeep Sharma</td>\n",
       "      <td>GJ Maxwell</td>\n",
       "      <td></td>\n",
       "      <td>LR Shukla</td>\n",
       "      <td>VVS Laxman</td>\n",
       "    </tr>\n",
       "    <tr>\n",
       "      <th>23</th>\n",
       "      <td>DS Kulkarni</td>\n",
       "      <td>DA Miller</td>\n",
       "      <td></td>\n",
       "      <td>V Shankar</td>\n",
       "      <td>S Sohal</td>\n",
       "    </tr>\n",
       "    <tr>\n",
       "      <th>24</th>\n",
       "      <td>SL Malinga</td>\n",
       "      <td>F du Plessis</td>\n",
       "      <td></td>\n",
       "      <td>Gurkeerat Singh</td>\n",
       "      <td>UBT Chand</td>\n",
       "    </tr>\n",
       "    <tr>\n",
       "      <th>25</th>\n",
       "      <td>MJ McClenaghan</td>\n",
       "      <td>JP Duminy</td>\n",
       "      <td></td>\n",
       "      <td>ST Jayasuriya</td>\n",
       "      <td>N Pooran</td>\n",
       "    </tr>\n",
       "    <tr>\n",
       "      <th>26</th>\n",
       "      <td>M Morkel</td>\n",
       "      <td>HH Pandya</td>\n",
       "      <td></td>\n",
       "      <td>NLTC Perera</td>\n",
       "      <td>SW Billings</td>\n",
       "    </tr>\n",
       "    <tr>\n",
       "      <th>27</th>\n",
       "      <td>PP Ojha</td>\n",
       "      <td>KL Rahul</td>\n",
       "      <td></td>\n",
       "      <td>JD Ryder</td>\n",
       "      <td>SA Asnodkar</td>\n",
       "    </tr>\n",
       "    <tr>\n",
       "      <th>28</th>\n",
       "      <td>S Nadeem</td>\n",
       "      <td>SE Marsh</td>\n",
       "      <td></td>\n",
       "      <td>LMP Simmons</td>\n",
       "      <td>MD Mishra</td>\n",
       "    </tr>\n",
       "    <tr>\n",
       "      <th>29</th>\n",
       "      <td>I Sharma</td>\n",
       "      <td>KC Sangakkara</td>\n",
       "      <td></td>\n",
       "      <td>CJ Anderson</td>\n",
       "      <td>DH Yagnik</td>\n",
       "    </tr>\n",
       "    <tr>\n",
       "      <th>...</th>\n",
       "      <td>...</td>\n",
       "      <td>...</td>\n",
       "      <td>...</td>\n",
       "      <td>...</td>\n",
       "      <td>...</td>\n",
       "    </tr>\n",
       "    <tr>\n",
       "      <th>75</th>\n",
       "      <td></td>\n",
       "      <td></td>\n",
       "      <td></td>\n",
       "      <td>M Kartik</td>\n",
       "      <td></td>\n",
       "    </tr>\n",
       "    <tr>\n",
       "      <th>76</th>\n",
       "      <td></td>\n",
       "      <td></td>\n",
       "      <td></td>\n",
       "      <td>Iqbal Abdulla</td>\n",
       "      <td></td>\n",
       "    </tr>\n",
       "    <tr>\n",
       "      <th>77</th>\n",
       "      <td></td>\n",
       "      <td></td>\n",
       "      <td></td>\n",
       "      <td>R McLaren</td>\n",
       "      <td></td>\n",
       "    </tr>\n",
       "    <tr>\n",
       "      <th>78</th>\n",
       "      <td></td>\n",
       "      <td></td>\n",
       "      <td></td>\n",
       "      <td>S Dube</td>\n",
       "      <td></td>\n",
       "    </tr>\n",
       "    <tr>\n",
       "      <th>79</th>\n",
       "      <td></td>\n",
       "      <td></td>\n",
       "      <td></td>\n",
       "      <td>K Rabada</td>\n",
       "      <td></td>\n",
       "    </tr>\n",
       "    <tr>\n",
       "      <th>80</th>\n",
       "      <td></td>\n",
       "      <td></td>\n",
       "      <td></td>\n",
       "      <td>Abhishek Sharma</td>\n",
       "      <td></td>\n",
       "    </tr>\n",
       "    <tr>\n",
       "      <th>81</th>\n",
       "      <td></td>\n",
       "      <td></td>\n",
       "      <td></td>\n",
       "      <td>AJ Tye</td>\n",
       "      <td></td>\n",
       "    </tr>\n",
       "    <tr>\n",
       "      <th>82</th>\n",
       "      <td></td>\n",
       "      <td></td>\n",
       "      <td></td>\n",
       "      <td>PJ Sangwan</td>\n",
       "      <td></td>\n",
       "    </tr>\n",
       "    <tr>\n",
       "      <th>83</th>\n",
       "      <td></td>\n",
       "      <td></td>\n",
       "      <td></td>\n",
       "      <td>TG Southee</td>\n",
       "      <td></td>\n",
       "    </tr>\n",
       "    <tr>\n",
       "      <th>84</th>\n",
       "      <td></td>\n",
       "      <td></td>\n",
       "      <td></td>\n",
       "      <td>NM Coulter-Nile</td>\n",
       "      <td></td>\n",
       "    </tr>\n",
       "    <tr>\n",
       "      <th>85</th>\n",
       "      <td></td>\n",
       "      <td></td>\n",
       "      <td></td>\n",
       "      <td>R Parag</td>\n",
       "      <td></td>\n",
       "    </tr>\n",
       "    <tr>\n",
       "      <th>86</th>\n",
       "      <td></td>\n",
       "      <td></td>\n",
       "      <td></td>\n",
       "      <td>VR Aaron</td>\n",
       "      <td></td>\n",
       "    </tr>\n",
       "    <tr>\n",
       "      <th>87</th>\n",
       "      <td></td>\n",
       "      <td></td>\n",
       "      <td></td>\n",
       "      <td>S Sreesanth</td>\n",
       "      <td></td>\n",
       "    </tr>\n",
       "    <tr>\n",
       "      <th>88</th>\n",
       "      <td></td>\n",
       "      <td></td>\n",
       "      <td></td>\n",
       "      <td>WD Parnell</td>\n",
       "      <td></td>\n",
       "    </tr>\n",
       "    <tr>\n",
       "      <th>89</th>\n",
       "      <td></td>\n",
       "      <td></td>\n",
       "      <td></td>\n",
       "      <td>KK Cooper</td>\n",
       "      <td></td>\n",
       "    </tr>\n",
       "    <tr>\n",
       "      <th>90</th>\n",
       "      <td></td>\n",
       "      <td></td>\n",
       "      <td></td>\n",
       "      <td>WPUJC Vaas</td>\n",
       "      <td></td>\n",
       "    </tr>\n",
       "    <tr>\n",
       "      <th>91</th>\n",
       "      <td></td>\n",
       "      <td></td>\n",
       "      <td></td>\n",
       "      <td>AD Mascarenhas</td>\n",
       "      <td></td>\n",
       "    </tr>\n",
       "    <tr>\n",
       "      <th>92</th>\n",
       "      <td></td>\n",
       "      <td></td>\n",
       "      <td></td>\n",
       "      <td>MA Starc</td>\n",
       "      <td></td>\n",
       "    </tr>\n",
       "    <tr>\n",
       "      <th>93</th>\n",
       "      <td></td>\n",
       "      <td></td>\n",
       "      <td></td>\n",
       "      <td>FY Fazal</td>\n",
       "      <td></td>\n",
       "    </tr>\n",
       "    <tr>\n",
       "      <th>94</th>\n",
       "      <td></td>\n",
       "      <td></td>\n",
       "      <td></td>\n",
       "      <td>B Akhil</td>\n",
       "      <td></td>\n",
       "    </tr>\n",
       "    <tr>\n",
       "      <th>95</th>\n",
       "      <td></td>\n",
       "      <td></td>\n",
       "      <td></td>\n",
       "      <td>C Munro</td>\n",
       "      <td></td>\n",
       "    </tr>\n",
       "    <tr>\n",
       "      <th>96</th>\n",
       "      <td></td>\n",
       "      <td></td>\n",
       "      <td></td>\n",
       "      <td>Mohammad Nabi</td>\n",
       "      <td></td>\n",
       "    </tr>\n",
       "    <tr>\n",
       "      <th>97</th>\n",
       "      <td></td>\n",
       "      <td></td>\n",
       "      <td></td>\n",
       "      <td>CR Woakes</td>\n",
       "      <td></td>\n",
       "    </tr>\n",
       "    <tr>\n",
       "      <th>98</th>\n",
       "      <td></td>\n",
       "      <td></td>\n",
       "      <td></td>\n",
       "      <td>JDP Oram</td>\n",
       "      <td></td>\n",
       "    </tr>\n",
       "    <tr>\n",
       "      <th>99</th>\n",
       "      <td></td>\n",
       "      <td></td>\n",
       "      <td></td>\n",
       "      <td>Kuldeep Yadav</td>\n",
       "      <td></td>\n",
       "    </tr>\n",
       "    <tr>\n",
       "      <th>100</th>\n",
       "      <td></td>\n",
       "      <td></td>\n",
       "      <td></td>\n",
       "      <td>Ankit Sharma</td>\n",
       "      <td></td>\n",
       "    </tr>\n",
       "    <tr>\n",
       "      <th>101</th>\n",
       "      <td></td>\n",
       "      <td></td>\n",
       "      <td></td>\n",
       "      <td>DL Chahar</td>\n",
       "      <td></td>\n",
       "    </tr>\n",
       "    <tr>\n",
       "      <th>102</th>\n",
       "      <td></td>\n",
       "      <td></td>\n",
       "      <td></td>\n",
       "      <td>SB Styris</td>\n",
       "      <td></td>\n",
       "    </tr>\n",
       "    <tr>\n",
       "      <th>103</th>\n",
       "      <td></td>\n",
       "      <td></td>\n",
       "      <td></td>\n",
       "      <td>TM Head</td>\n",
       "      <td></td>\n",
       "    </tr>\n",
       "    <tr>\n",
       "      <th>104</th>\n",
       "      <td></td>\n",
       "      <td></td>\n",
       "      <td></td>\n",
       "      <td>S Aravind</td>\n",
       "      <td></td>\n",
       "    </tr>\n",
       "  </tbody>\n",
       "</table>\n",
       "<p>105 rows × 5 columns</p>\n",
       "</div>"
      ],
      "text/plain": [
       "           Cluster 0         Cluster 1       Cluster 2        Cluster 3  \\\n",
       "0          RA Jadeja          PA Patel       RG Sharma        STR Binny   \n",
       "1           DJ Bravo         MK Pandey        SK Raina        KH Pandya   \n",
       "2    Harbhajan Singh      Yuvraj Singh         V Kohli      LRPL Taylor   \n",
       "3          IK Pathan       BB McCullum      RV Uthappa  Y Venugopal Rao   \n",
       "4          PP Chawla           M Vijay        MS Dhoni         AM Nayar   \n",
       "5           AR Patel          V Sehwag      KD Karthik         DJ Hooda   \n",
       "6          JA Morkel         SV Samson        S Dhawan       TM Dilshan   \n",
       "7          SP Narine           WP Saha  AB de Villiers     MC Henriques   \n",
       "8            P Kumar         JH Kallis       YK Pathan  Shakib Al Hasan   \n",
       "9           R Ashwin           NV Ojha       G Gambhir         CL White   \n",
       "10          A Mishra     Mandeep Singh       AT Rayudu      JP Faulkner   \n",
       "11          R Bhatia          DR Smith      KA Pollard      RA Tripathi   \n",
       "12     R Vinay Kumar          SA Yadav       DA Warner       MP Stoinis   \n",
       "13           B Kumar         SPD Smith       SR Watson       AD Mathews   \n",
       "14         CH Morris          AJ Finch       AM Rahane        BA Stokes   \n",
       "15          UT Yadav         MK Tiwary        CH Gayle         TL Suman   \n",
       "16          DW Steyn        MA Agarwal                         M Manhas   \n",
       "17        MG Johnson          R Dravid                        A Symonds   \n",
       "18          RP Singh      AC Gilchrist                     KP Pietersen   \n",
       "19            Z Khan           SS Iyer                           P Negi   \n",
       "20         MM Sharma      SR Tendulkar                        KV Sharma   \n",
       "21       Rashid Khan  DPMD Jayawardene                     DT Christian   \n",
       "22    Sandeep Sharma        GJ Maxwell                        LR Shukla   \n",
       "23       DS Kulkarni         DA Miller                        V Shankar   \n",
       "24        SL Malinga      F du Plessis                  Gurkeerat Singh   \n",
       "25    MJ McClenaghan         JP Duminy                    ST Jayasuriya   \n",
       "26          M Morkel         HH Pandya                      NLTC Perera   \n",
       "27           PP Ojha          KL Rahul                         JD Ryder   \n",
       "28          S Nadeem          SE Marsh                      LMP Simmons   \n",
       "29          I Sharma     KC Sangakkara                      CJ Anderson   \n",
       "..               ...               ...             ...              ...   \n",
       "75                                                             M Kartik   \n",
       "76                                                        Iqbal Abdulla   \n",
       "77                                                            R McLaren   \n",
       "78                                                               S Dube   \n",
       "79                                                             K Rabada   \n",
       "80                                                      Abhishek Sharma   \n",
       "81                                                               AJ Tye   \n",
       "82                                                           PJ Sangwan   \n",
       "83                                                           TG Southee   \n",
       "84                                                      NM Coulter-Nile   \n",
       "85                                                              R Parag   \n",
       "86                                                             VR Aaron   \n",
       "87                                                          S Sreesanth   \n",
       "88                                                           WD Parnell   \n",
       "89                                                            KK Cooper   \n",
       "90                                                           WPUJC Vaas   \n",
       "91                                                       AD Mascarenhas   \n",
       "92                                                             MA Starc   \n",
       "93                                                             FY Fazal   \n",
       "94                                                              B Akhil   \n",
       "95                                                              C Munro   \n",
       "96                                                        Mohammad Nabi   \n",
       "97                                                            CR Woakes   \n",
       "98                                                             JDP Oram   \n",
       "99                                                        Kuldeep Yadav   \n",
       "100                                                        Ankit Sharma   \n",
       "101                                                           DL Chahar   \n",
       "102                                                           SB Styris   \n",
       "103                                                             TM Head   \n",
       "104                                                           S Aravind   \n",
       "\n",
       "        Cluster 4  \n",
       "0       KM Jadhav  \n",
       "1       SS Tiwary  \n",
       "2     S Badrinath  \n",
       "3      EJG Morgan  \n",
       "4    Ishan Kishan  \n",
       "5         M Vohra  \n",
       "6         CA Lynn  \n",
       "7        MS Bisla  \n",
       "8         PP Shaw  \n",
       "9    Shubman Gill  \n",
       "10       HH Gibbs  \n",
       "11      GJ Bailey  \n",
       "12      ML Hayden  \n",
       "13       GC Smith  \n",
       "14        AP Tare  \n",
       "15     MV Boucher  \n",
       "16        OA Shah  \n",
       "17         M Kaif  \n",
       "18      CA Pujara  \n",
       "19         DB Das  \n",
       "20    JM Bairstow  \n",
       "21     SP Goswami  \n",
       "22     VVS Laxman  \n",
       "23        S Sohal  \n",
       "24      UBT Chand  \n",
       "25       N Pooran  \n",
       "26    SW Billings  \n",
       "27    SA Asnodkar  \n",
       "28      MD Mishra  \n",
       "29      DH Yagnik  \n",
       "..            ...  \n",
       "75                 \n",
       "76                 \n",
       "77                 \n",
       "78                 \n",
       "79                 \n",
       "80                 \n",
       "81                 \n",
       "82                 \n",
       "83                 \n",
       "84                 \n",
       "85                 \n",
       "86                 \n",
       "87                 \n",
       "88                 \n",
       "89                 \n",
       "90                 \n",
       "91                 \n",
       "92                 \n",
       "93                 \n",
       "94                 \n",
       "95                 \n",
       "96                 \n",
       "97                 \n",
       "98                 \n",
       "99                 \n",
       "100                \n",
       "101                \n",
       "102                \n",
       "103                \n",
       "104                \n",
       "\n",
       "[105 rows x 5 columns]"
      ]
     },
     "metadata": {},
     "output_type": "display_data"
    },
    {
     "data": {
      "text/plain": [
       "(           Num_Players\n",
       " Cluster 0           39\n",
       " Cluster 1           41\n",
       " Cluster 2           16\n",
       " Cluster 3          105\n",
       " Cluster 4           50,\n",
       "            Cluster 0         Cluster 1       Cluster 2        Cluster 3  \\\n",
       " 0          RA Jadeja          PA Patel       RG Sharma        STR Binny   \n",
       " 1           DJ Bravo         MK Pandey        SK Raina        KH Pandya   \n",
       " 2    Harbhajan Singh      Yuvraj Singh         V Kohli      LRPL Taylor   \n",
       " 3          IK Pathan       BB McCullum      RV Uthappa  Y Venugopal Rao   \n",
       " 4          PP Chawla           M Vijay        MS Dhoni         AM Nayar   \n",
       " 5           AR Patel          V Sehwag      KD Karthik         DJ Hooda   \n",
       " 6          JA Morkel         SV Samson        S Dhawan       TM Dilshan   \n",
       " 7          SP Narine           WP Saha  AB de Villiers     MC Henriques   \n",
       " 8            P Kumar         JH Kallis       YK Pathan  Shakib Al Hasan   \n",
       " 9           R Ashwin           NV Ojha       G Gambhir         CL White   \n",
       " 10          A Mishra     Mandeep Singh       AT Rayudu      JP Faulkner   \n",
       " 11          R Bhatia          DR Smith      KA Pollard      RA Tripathi   \n",
       " 12     R Vinay Kumar          SA Yadav       DA Warner       MP Stoinis   \n",
       " 13           B Kumar         SPD Smith       SR Watson       AD Mathews   \n",
       " 14         CH Morris          AJ Finch       AM Rahane        BA Stokes   \n",
       " 15          UT Yadav         MK Tiwary        CH Gayle         TL Suman   \n",
       " 16          DW Steyn        MA Agarwal                         M Manhas   \n",
       " 17        MG Johnson          R Dravid                        A Symonds   \n",
       " 18          RP Singh      AC Gilchrist                     KP Pietersen   \n",
       " 19            Z Khan           SS Iyer                           P Negi   \n",
       " 20         MM Sharma      SR Tendulkar                        KV Sharma   \n",
       " 21       Rashid Khan  DPMD Jayawardene                     DT Christian   \n",
       " 22    Sandeep Sharma        GJ Maxwell                        LR Shukla   \n",
       " 23       DS Kulkarni         DA Miller                        V Shankar   \n",
       " 24        SL Malinga      F du Plessis                  Gurkeerat Singh   \n",
       " 25    MJ McClenaghan         JP Duminy                    ST Jayasuriya   \n",
       " 26          M Morkel         HH Pandya                      NLTC Perera   \n",
       " 27           PP Ojha          KL Rahul                         JD Ryder   \n",
       " 28          S Nadeem          SE Marsh                      LMP Simmons   \n",
       " 29          I Sharma     KC Sangakkara                      CJ Anderson   \n",
       " ..               ...               ...             ...              ...   \n",
       " 75                                                             M Kartik   \n",
       " 76                                                        Iqbal Abdulla   \n",
       " 77                                                            R McLaren   \n",
       " 78                                                               S Dube   \n",
       " 79                                                             K Rabada   \n",
       " 80                                                      Abhishek Sharma   \n",
       " 81                                                               AJ Tye   \n",
       " 82                                                           PJ Sangwan   \n",
       " 83                                                           TG Southee   \n",
       " 84                                                      NM Coulter-Nile   \n",
       " 85                                                              R Parag   \n",
       " 86                                                             VR Aaron   \n",
       " 87                                                          S Sreesanth   \n",
       " 88                                                           WD Parnell   \n",
       " 89                                                            KK Cooper   \n",
       " 90                                                           WPUJC Vaas   \n",
       " 91                                                       AD Mascarenhas   \n",
       " 92                                                             MA Starc   \n",
       " 93                                                             FY Fazal   \n",
       " 94                                                              B Akhil   \n",
       " 95                                                              C Munro   \n",
       " 96                                                        Mohammad Nabi   \n",
       " 97                                                            CR Woakes   \n",
       " 98                                                             JDP Oram   \n",
       " 99                                                        Kuldeep Yadav   \n",
       " 100                                                        Ankit Sharma   \n",
       " 101                                                           DL Chahar   \n",
       " 102                                                           SB Styris   \n",
       " 103                                                             TM Head   \n",
       " 104                                                           S Aravind   \n",
       " \n",
       "         Cluster 4  \n",
       " 0       KM Jadhav  \n",
       " 1       SS Tiwary  \n",
       " 2     S Badrinath  \n",
       " 3      EJG Morgan  \n",
       " 4    Ishan Kishan  \n",
       " 5         M Vohra  \n",
       " 6         CA Lynn  \n",
       " 7        MS Bisla  \n",
       " 8         PP Shaw  \n",
       " 9    Shubman Gill  \n",
       " 10       HH Gibbs  \n",
       " 11      GJ Bailey  \n",
       " 12      ML Hayden  \n",
       " 13       GC Smith  \n",
       " 14        AP Tare  \n",
       " 15     MV Boucher  \n",
       " 16        OA Shah  \n",
       " 17         M Kaif  \n",
       " 18      CA Pujara  \n",
       " 19         DB Das  \n",
       " 20    JM Bairstow  \n",
       " 21     SP Goswami  \n",
       " 22     VVS Laxman  \n",
       " 23        S Sohal  \n",
       " 24      UBT Chand  \n",
       " 25       N Pooran  \n",
       " 26    SW Billings  \n",
       " 27    SA Asnodkar  \n",
       " 28      MD Mishra  \n",
       " 29      DH Yagnik  \n",
       " ..            ...  \n",
       " 75                 \n",
       " 76                 \n",
       " 77                 \n",
       " 78                 \n",
       " 79                 \n",
       " 80                 \n",
       " 81                 \n",
       " 82                 \n",
       " 83                 \n",
       " 84                 \n",
       " 85                 \n",
       " 86                 \n",
       " 87                 \n",
       " 88                 \n",
       " 89                 \n",
       " 90                 \n",
       " 91                 \n",
       " 92                 \n",
       " 93                 \n",
       " 94                 \n",
       " 95                 \n",
       " 96                 \n",
       " 97                 \n",
       " 98                 \n",
       " 99                 \n",
       " 100                \n",
       " 101                \n",
       " 102                \n",
       " 103                \n",
       " 104                \n",
       " \n",
       " [105 rows x 5 columns])"
      ]
     },
     "execution_count": 404,
     "metadata": {},
     "output_type": "execute_result"
    }
   ],
   "source": [
    "\n",
    "# View the summary of the clustering\n",
    "clustering_summary(kmeans_label)"
   ]
  },
  {
   "cell_type": "code",
   "execution_count": 405,
   "metadata": {
    "ExecuteTime": {
     "end_time": "2021-05-25T15:06:16.607670Z",
     "start_time": "2021-05-25T15:06:16.605392Z"
    }
   },
   "outputs": [],
   "source": [
    "#dbscan_clustering(0.8,5,players_scaled[ALL_COLUMN_NAMES],players,\"cluster_dbscan\")"
   ]
  },
  {
   "cell_type": "code",
   "execution_count": 406,
   "metadata": {
    "ExecuteTime": {
     "end_time": "2021-05-25T15:06:16.614889Z",
     "start_time": "2021-05-25T15:06:16.609788Z"
    }
   },
   "outputs": [],
   "source": [
    "# # Compute DBSCAN\n",
    "# db = DBSCAN(eps=0.3, min_samples=5).fit(players_scaled)\n",
    "# labels = db.labels_\n",
    "\n",
    "# # assign cluster labels\n",
    "# players['cluster_dbscan'] = labels\n"
   ]
  },
  {
   "cell_type": "code",
   "execution_count": 407,
   "metadata": {
    "ExecuteTime": {
     "end_time": "2021-05-25T15:06:16.618776Z",
     "start_time": "2021-05-25T15:06:16.616563Z"
    }
   },
   "outputs": [],
   "source": [
    "# # Number of clusters in labels, ignoring noise if present.\n",
    "# n_clusters_ = len(set(labels)) - (1 if -1 in labels else 0)\n",
    "# n_noise_ = list(labels).count(-1)\n",
    "\n",
    "# print('Estimated number of clusters: %d' % n_clusters_)\n",
    "# print('Estimated number of noise points: %d' % n_noise_)"
   ]
  },
  {
   "cell_type": "code",
   "execution_count": 408,
   "metadata": {
    "ExecuteTime": {
     "end_time": "2021-05-25T15:06:16.622883Z",
     "start_time": "2021-05-25T15:06:16.620712Z"
    }
   },
   "outputs": [],
   "source": [
    "# groupby_cluster(\"cluster_dbscan\",5)"
   ]
  },
  {
   "cell_type": "markdown",
   "metadata": {},
   "source": [
    "# Comparing clustering results"
   ]
  },
  {
   "cell_type": "code",
   "execution_count": 409,
   "metadata": {
    "ExecuteTime": {
     "end_time": "2021-05-25T15:06:16.633067Z",
     "start_time": "2021-05-25T15:06:16.624898Z"
    }
   },
   "outputs": [
    {
     "name": "stdout",
     "output_type": "stream",
     "text": [
      "K-means clustering with k=5\n",
      "Cluster 3    105\n",
      "Cluster 4     50\n",
      "Cluster 1     41\n",
      "Cluster 0     39\n",
      "Cluster 2     16\n",
      "Name: cluster_kmeans, dtype: int64\n",
      "\n",
      "Hierarchical clustering with k=5\n",
      "Cluster 0    188\n",
      "Cluster 1     29\n",
      "Cluster 2     16\n",
      "Cluster 3     14\n",
      "Cluster 4      4\n",
      "Name: cluster_hier, dtype: int64\n",
      "\n",
      "DBScan clustering\n",
      "-1    162\n",
      " 0     39\n",
      " 1     31\n",
      " 2      8\n",
      " 4      6\n",
      " 3      5\n",
      "Name: cluster_dbscan, dtype: int64\n"
     ]
    }
   ],
   "source": [
    "print(f\"K-means clustering with k={NUM_CLUSTERS}\")\n",
    "print(players['cluster_kmeans'].value_counts())\n",
    "print(f\"\\nHierarchical clustering with k={NUM_CLUSTERS}\")\n",
    "print(players['cluster_hier'].value_counts())\n",
    "print(f\"\\nDBScan clustering\")\n",
    "print(players['cluster_dbscan'].value_counts())"
   ]
  },
  {
   "cell_type": "code",
   "execution_count": 410,
   "metadata": {
    "ExecuteTime": {
     "end_time": "2021-05-25T15:06:16.673816Z",
     "start_time": "2021-05-25T15:06:16.635136Z"
    }
   },
   "outputs": [
    {
     "data": {
      "text/html": [
       "<div>\n",
       "<style scoped>\n",
       "    .dataframe tbody tr th:only-of-type {\n",
       "        vertical-align: middle;\n",
       "    }\n",
       "\n",
       "    .dataframe tbody tr th {\n",
       "        vertical-align: top;\n",
       "    }\n",
       "\n",
       "    .dataframe thead th {\n",
       "        text-align: right;\n",
       "    }\n",
       "</style>\n",
       "<table border=\"1\" class=\"dataframe\">\n",
       "  <thead>\n",
       "    <tr style=\"text-align: right;\">\n",
       "      <th></th>\n",
       "      <th>name</th>\n",
       "      <th>matches</th>\n",
       "      <th>balls_faced</th>\n",
       "      <th>innings</th>\n",
       "      <th>runs</th>\n",
       "      <th>4s</th>\n",
       "      <th>6s</th>\n",
       "      <th>bat_average</th>\n",
       "      <th>bat_strike</th>\n",
       "      <th>balls_bowled</th>\n",
       "      <th>wickets</th>\n",
       "      <th>overs</th>\n",
       "      <th>runs_conceded</th>\n",
       "      <th>bowl_econ</th>\n",
       "      <th>catches</th>\n",
       "      <th>player_of_match</th>\n",
       "      <th>cluster_kmeans</th>\n",
       "      <th>cluster_hier</th>\n",
       "      <th>cluster_dbscan</th>\n",
       "    </tr>\n",
       "  </thead>\n",
       "  <tbody>\n",
       "    <tr>\n",
       "      <th>A Kumble</th>\n",
       "      <td>A Kumble</td>\n",
       "      <td>42.0</td>\n",
       "      <td>49.0</td>\n",
       "      <td>15.0</td>\n",
       "      <td>35.0</td>\n",
       "      <td>3.0</td>\n",
       "      <td>0.0</td>\n",
       "      <td>2.33</td>\n",
       "      <td>71.43</td>\n",
       "      <td>983.0</td>\n",
       "      <td>45.0</td>\n",
       "      <td>163.0</td>\n",
       "      <td>1058.0</td>\n",
       "      <td>6.49</td>\n",
       "      <td>10.0</td>\n",
       "      <td>3.0</td>\n",
       "      <td>Cluster 3</td>\n",
       "      <td>Cluster 1</td>\n",
       "      <td>-1</td>\n",
       "    </tr>\n",
       "    <tr>\n",
       "      <th>A Mishra</th>\n",
       "      <td>A Mishra</td>\n",
       "      <td>150.0</td>\n",
       "      <td>410.0</td>\n",
       "      <td>54.0</td>\n",
       "      <td>362.0</td>\n",
       "      <td>29.0</td>\n",
       "      <td>5.0</td>\n",
       "      <td>6.70</td>\n",
       "      <td>88.29</td>\n",
       "      <td>3233.0</td>\n",
       "      <td>160.0</td>\n",
       "      <td>529.0</td>\n",
       "      <td>3867.0</td>\n",
       "      <td>7.31</td>\n",
       "      <td>21.0</td>\n",
       "      <td>11.0</td>\n",
       "      <td>Cluster 0</td>\n",
       "      <td>Cluster 2</td>\n",
       "      <td>-1</td>\n",
       "    </tr>\n",
       "    <tr>\n",
       "      <th>A Nehra</th>\n",
       "      <td>A Nehra</td>\n",
       "      <td>88.0</td>\n",
       "      <td>63.0</td>\n",
       "      <td>17.0</td>\n",
       "      <td>41.0</td>\n",
       "      <td>3.0</td>\n",
       "      <td>1.0</td>\n",
       "      <td>2.41</td>\n",
       "      <td>65.08</td>\n",
       "      <td>1974.0</td>\n",
       "      <td>106.0</td>\n",
       "      <td>320.0</td>\n",
       "      <td>2495.0</td>\n",
       "      <td>7.80</td>\n",
       "      <td>19.0</td>\n",
       "      <td>6.0</td>\n",
       "      <td>Cluster 0</td>\n",
       "      <td>Cluster 1</td>\n",
       "      <td>-1</td>\n",
       "    </tr>\n",
       "    <tr>\n",
       "      <th>A Symonds</th>\n",
       "      <td>A Symonds</td>\n",
       "      <td>36.0</td>\n",
       "      <td>781.0</td>\n",
       "      <td>36.0</td>\n",
       "      <td>974.0</td>\n",
       "      <td>74.0</td>\n",
       "      <td>41.0</td>\n",
       "      <td>27.06</td>\n",
       "      <td>124.71</td>\n",
       "      <td>540.0</td>\n",
       "      <td>20.0</td>\n",
       "      <td>88.0</td>\n",
       "      <td>674.0</td>\n",
       "      <td>7.66</td>\n",
       "      <td>21.0</td>\n",
       "      <td>3.0</td>\n",
       "      <td>Cluster 3</td>\n",
       "      <td>Cluster 0</td>\n",
       "      <td>-1</td>\n",
       "    </tr>\n",
       "    <tr>\n",
       "      <th>AB Agarkar</th>\n",
       "      <td>AB Agarkar</td>\n",
       "      <td>42.0</td>\n",
       "      <td>160.0</td>\n",
       "      <td>18.0</td>\n",
       "      <td>179.0</td>\n",
       "      <td>13.0</td>\n",
       "      <td>5.0</td>\n",
       "      <td>9.94</td>\n",
       "      <td>111.87</td>\n",
       "      <td>820.0</td>\n",
       "      <td>29.0</td>\n",
       "      <td>131.0</td>\n",
       "      <td>1151.0</td>\n",
       "      <td>8.79</td>\n",
       "      <td>5.0</td>\n",
       "      <td>0.0</td>\n",
       "      <td>Cluster 3</td>\n",
       "      <td>Cluster 0</td>\n",
       "      <td>-1</td>\n",
       "    </tr>\n",
       "    <tr>\n",
       "      <th>A Ashish Reddy</th>\n",
       "      <td>A Ashish Reddy</td>\n",
       "      <td>28.0</td>\n",
       "      <td>196.0</td>\n",
       "      <td>23.0</td>\n",
       "      <td>280.0</td>\n",
       "      <td>16.0</td>\n",
       "      <td>15.0</td>\n",
       "      <td>12.17</td>\n",
       "      <td>142.86</td>\n",
       "      <td>270.0</td>\n",
       "      <td>18.0</td>\n",
       "      <td>45.0</td>\n",
       "      <td>396.0</td>\n",
       "      <td>8.80</td>\n",
       "      <td>9.0</td>\n",
       "      <td>0.0</td>\n",
       "      <td>Cluster 3</td>\n",
       "      <td>Cluster 0</td>\n",
       "      <td>0</td>\n",
       "    </tr>\n",
       "    <tr>\n",
       "      <th>AS Raut</th>\n",
       "      <td>AS Raut</td>\n",
       "      <td>17.0</td>\n",
       "      <td>172.0</td>\n",
       "      <td>16.0</td>\n",
       "      <td>194.0</td>\n",
       "      <td>13.0</td>\n",
       "      <td>7.0</td>\n",
       "      <td>12.12</td>\n",
       "      <td>112.79</td>\n",
       "      <td>30.0</td>\n",
       "      <td>0.0</td>\n",
       "      <td>5.0</td>\n",
       "      <td>44.0</td>\n",
       "      <td>8.80</td>\n",
       "      <td>9.0</td>\n",
       "      <td>0.0</td>\n",
       "      <td>Cluster 3</td>\n",
       "      <td>Cluster 0</td>\n",
       "      <td>0</td>\n",
       "    </tr>\n",
       "    <tr>\n",
       "      <th>AL Menaria</th>\n",
       "      <td>AL Menaria</td>\n",
       "      <td>25.0</td>\n",
       "      <td>367.0</td>\n",
       "      <td>23.0</td>\n",
       "      <td>401.0</td>\n",
       "      <td>24.0</td>\n",
       "      <td>18.0</td>\n",
       "      <td>17.43</td>\n",
       "      <td>109.26</td>\n",
       "      <td>113.0</td>\n",
       "      <td>3.0</td>\n",
       "      <td>19.0</td>\n",
       "      <td>144.0</td>\n",
       "      <td>7.58</td>\n",
       "      <td>5.0</td>\n",
       "      <td>0.0</td>\n",
       "      <td>Cluster 3</td>\n",
       "      <td>Cluster 0</td>\n",
       "      <td>0</td>\n",
       "    </tr>\n",
       "    <tr>\n",
       "      <th>AA Jhunjhunwala</th>\n",
       "      <td>AA Jhunjhunwala</td>\n",
       "      <td>19.0</td>\n",
       "      <td>218.0</td>\n",
       "      <td>15.0</td>\n",
       "      <td>217.0</td>\n",
       "      <td>19.0</td>\n",
       "      <td>5.0</td>\n",
       "      <td>14.47</td>\n",
       "      <td>99.54</td>\n",
       "      <td>88.0</td>\n",
       "      <td>1.0</td>\n",
       "      <td>15.0</td>\n",
       "      <td>129.0</td>\n",
       "      <td>8.60</td>\n",
       "      <td>10.0</td>\n",
       "      <td>1.0</td>\n",
       "      <td>Cluster 3</td>\n",
       "      <td>Cluster 0</td>\n",
       "      <td>0</td>\n",
       "    </tr>\n",
       "    <tr>\n",
       "      <th>AD Mascarenhas</th>\n",
       "      <td>AD Mascarenhas</td>\n",
       "      <td>13.0</td>\n",
       "      <td>79.0</td>\n",
       "      <td>11.0</td>\n",
       "      <td>79.0</td>\n",
       "      <td>5.0</td>\n",
       "      <td>1.0</td>\n",
       "      <td>7.18</td>\n",
       "      <td>100.00</td>\n",
       "      <td>310.0</td>\n",
       "      <td>19.0</td>\n",
       "      <td>52.0</td>\n",
       "      <td>356.0</td>\n",
       "      <td>6.85</td>\n",
       "      <td>3.0</td>\n",
       "      <td>1.0</td>\n",
       "      <td>Cluster 3</td>\n",
       "      <td>Cluster 0</td>\n",
       "      <td>0</td>\n",
       "    </tr>\n",
       "    <tr>\n",
       "      <th>AD Nath</th>\n",
       "      <td>AD Nath</td>\n",
       "      <td>10.0</td>\n",
       "      <td>99.0</td>\n",
       "      <td>10.0</td>\n",
       "      <td>90.0</td>\n",
       "      <td>7.0</td>\n",
       "      <td>2.0</td>\n",
       "      <td>9.00</td>\n",
       "      <td>90.91</td>\n",
       "      <td>0.0</td>\n",
       "      <td>0.0</td>\n",
       "      <td>0.0</td>\n",
       "      <td>0.0</td>\n",
       "      <td>0.00</td>\n",
       "      <td>2.0</td>\n",
       "      <td>0.0</td>\n",
       "      <td>Cluster 4</td>\n",
       "      <td>Cluster 0</td>\n",
       "      <td>1</td>\n",
       "    </tr>\n",
       "    <tr>\n",
       "      <th>AP Tare</th>\n",
       "      <td>AP Tare</td>\n",
       "      <td>28.0</td>\n",
       "      <td>285.0</td>\n",
       "      <td>27.0</td>\n",
       "      <td>339.0</td>\n",
       "      <td>40.0</td>\n",
       "      <td>11.0</td>\n",
       "      <td>12.56</td>\n",
       "      <td>118.95</td>\n",
       "      <td>0.0</td>\n",
       "      <td>0.0</td>\n",
       "      <td>0.0</td>\n",
       "      <td>0.0</td>\n",
       "      <td>0.00</td>\n",
       "      <td>3.0</td>\n",
       "      <td>1.0</td>\n",
       "      <td>Cluster 4</td>\n",
       "      <td>Cluster 0</td>\n",
       "      <td>1</td>\n",
       "    </tr>\n",
       "    <tr>\n",
       "      <th>CA Ingram</th>\n",
       "      <td>CA Ingram</td>\n",
       "      <td>15.0</td>\n",
       "      <td>183.0</td>\n",
       "      <td>15.0</td>\n",
       "      <td>205.0</td>\n",
       "      <td>22.0</td>\n",
       "      <td>5.0</td>\n",
       "      <td>13.67</td>\n",
       "      <td>112.02</td>\n",
       "      <td>0.0</td>\n",
       "      <td>0.0</td>\n",
       "      <td>0.0</td>\n",
       "      <td>0.0</td>\n",
       "      <td>0.00</td>\n",
       "      <td>1.0</td>\n",
       "      <td>0.0</td>\n",
       "      <td>Cluster 4</td>\n",
       "      <td>Cluster 0</td>\n",
       "      <td>1</td>\n",
       "    </tr>\n",
       "    <tr>\n",
       "      <th>CA Pujara</th>\n",
       "      <td>CA Pujara</td>\n",
       "      <td>22.0</td>\n",
       "      <td>403.0</td>\n",
       "      <td>22.0</td>\n",
       "      <td>390.0</td>\n",
       "      <td>50.0</td>\n",
       "      <td>4.0</td>\n",
       "      <td>17.73</td>\n",
       "      <td>96.77</td>\n",
       "      <td>0.0</td>\n",
       "      <td>0.0</td>\n",
       "      <td>0.0</td>\n",
       "      <td>0.0</td>\n",
       "      <td>0.00</td>\n",
       "      <td>6.0</td>\n",
       "      <td>0.0</td>\n",
       "      <td>Cluster 4</td>\n",
       "      <td>Cluster 0</td>\n",
       "      <td>1</td>\n",
       "    </tr>\n",
       "    <tr>\n",
       "      <th>CM Gautam</th>\n",
       "      <td>CM Gautam</td>\n",
       "      <td>13.0</td>\n",
       "      <td>158.0</td>\n",
       "      <td>13.0</td>\n",
       "      <td>169.0</td>\n",
       "      <td>17.0</td>\n",
       "      <td>6.0</td>\n",
       "      <td>13.00</td>\n",
       "      <td>106.96</td>\n",
       "      <td>0.0</td>\n",
       "      <td>0.0</td>\n",
       "      <td>0.0</td>\n",
       "      <td>0.0</td>\n",
       "      <td>0.00</td>\n",
       "      <td>3.0</td>\n",
       "      <td>0.0</td>\n",
       "      <td>Cluster 4</td>\n",
       "      <td>Cluster 0</td>\n",
       "      <td>1</td>\n",
       "    </tr>\n",
       "    <tr>\n",
       "      <th>DL Vettori</th>\n",
       "      <td>DL Vettori</td>\n",
       "      <td>34.0</td>\n",
       "      <td>118.0</td>\n",
       "      <td>16.0</td>\n",
       "      <td>121.0</td>\n",
       "      <td>11.0</td>\n",
       "      <td>2.0</td>\n",
       "      <td>7.56</td>\n",
       "      <td>102.54</td>\n",
       "      <td>785.0</td>\n",
       "      <td>28.0</td>\n",
       "      <td>131.0</td>\n",
       "      <td>879.0</td>\n",
       "      <td>6.71</td>\n",
       "      <td>11.0</td>\n",
       "      <td>1.0</td>\n",
       "      <td>Cluster 3</td>\n",
       "      <td>Cluster 0</td>\n",
       "      <td>2</td>\n",
       "    </tr>\n",
       "    <tr>\n",
       "      <th>MA Starc</th>\n",
       "      <td>MA Starc</td>\n",
       "      <td>26.0</td>\n",
       "      <td>98.0</td>\n",
       "      <td>11.0</td>\n",
       "      <td>96.0</td>\n",
       "      <td>10.0</td>\n",
       "      <td>0.0</td>\n",
       "      <td>8.73</td>\n",
       "      <td>97.96</td>\n",
       "      <td>612.0</td>\n",
       "      <td>34.0</td>\n",
       "      <td>97.0</td>\n",
       "      <td>693.0</td>\n",
       "      <td>7.14</td>\n",
       "      <td>16.0</td>\n",
       "      <td>1.0</td>\n",
       "      <td>Cluster 3</td>\n",
       "      <td>Cluster 0</td>\n",
       "      <td>2</td>\n",
       "    </tr>\n",
       "    <tr>\n",
       "      <th>M Kartik</th>\n",
       "      <td>M Kartik</td>\n",
       "      <td>55.0</td>\n",
       "      <td>109.0</td>\n",
       "      <td>14.0</td>\n",
       "      <td>113.0</td>\n",
       "      <td>7.0</td>\n",
       "      <td>1.0</td>\n",
       "      <td>8.07</td>\n",
       "      <td>103.67</td>\n",
       "      <td>1182.0</td>\n",
       "      <td>31.0</td>\n",
       "      <td>192.0</td>\n",
       "      <td>1388.0</td>\n",
       "      <td>7.23</td>\n",
       "      <td>20.0</td>\n",
       "      <td>1.0</td>\n",
       "      <td>Cluster 3</td>\n",
       "      <td>Cluster 1</td>\n",
       "      <td>2</td>\n",
       "    </tr>\n",
       "    <tr>\n",
       "      <th>K Rabada</th>\n",
       "      <td>K Rabada</td>\n",
       "      <td>35.0</td>\n",
       "      <td>135.0</td>\n",
       "      <td>13.0</td>\n",
       "      <td>125.0</td>\n",
       "      <td>9.0</td>\n",
       "      <td>4.0</td>\n",
       "      <td>9.62</td>\n",
       "      <td>92.59</td>\n",
       "      <td>840.0</td>\n",
       "      <td>61.0</td>\n",
       "      <td>136.0</td>\n",
       "      <td>1103.0</td>\n",
       "      <td>8.11</td>\n",
       "      <td>14.0</td>\n",
       "      <td>1.0</td>\n",
       "      <td>Cluster 3</td>\n",
       "      <td>Cluster 0</td>\n",
       "      <td>2</td>\n",
       "    </tr>\n",
       "    <tr>\n",
       "      <th>Iqbal Abdulla</th>\n",
       "      <td>Iqbal Abdulla</td>\n",
       "      <td>48.0</td>\n",
       "      <td>86.0</td>\n",
       "      <td>13.0</td>\n",
       "      <td>88.0</td>\n",
       "      <td>9.0</td>\n",
       "      <td>1.0</td>\n",
       "      <td>6.77</td>\n",
       "      <td>102.33</td>\n",
       "      <td>943.0</td>\n",
       "      <td>40.0</td>\n",
       "      <td>154.0</td>\n",
       "      <td>1109.0</td>\n",
       "      <td>7.20</td>\n",
       "      <td>14.0</td>\n",
       "      <td>2.0</td>\n",
       "      <td>Cluster 3</td>\n",
       "      <td>Cluster 0</td>\n",
       "      <td>2</td>\n",
       "    </tr>\n",
       "    <tr>\n",
       "      <th>MS Gony</th>\n",
       "      <td>MS Gony</td>\n",
       "      <td>44.0</td>\n",
       "      <td>76.0</td>\n",
       "      <td>15.0</td>\n",
       "      <td>99.0</td>\n",
       "      <td>6.0</td>\n",
       "      <td>8.0</td>\n",
       "      <td>6.60</td>\n",
       "      <td>130.26</td>\n",
       "      <td>925.0</td>\n",
       "      <td>37.0</td>\n",
       "      <td>148.0</td>\n",
       "      <td>1287.0</td>\n",
       "      <td>8.70</td>\n",
       "      <td>6.0</td>\n",
       "      <td>1.0</td>\n",
       "      <td>Cluster 3</td>\n",
       "      <td>Cluster 0</td>\n",
       "      <td>3</td>\n",
       "    </tr>\n",
       "    <tr>\n",
       "      <th>B Lee</th>\n",
       "      <td>B Lee</td>\n",
       "      <td>38.0</td>\n",
       "      <td>102.0</td>\n",
       "      <td>19.0</td>\n",
       "      <td>124.0</td>\n",
       "      <td>8.0</td>\n",
       "      <td>8.0</td>\n",
       "      <td>6.53</td>\n",
       "      <td>121.57</td>\n",
       "      <td>916.0</td>\n",
       "      <td>25.0</td>\n",
       "      <td>147.0</td>\n",
       "      <td>1095.0</td>\n",
       "      <td>7.45</td>\n",
       "      <td>10.0</td>\n",
       "      <td>2.0</td>\n",
       "      <td>Cluster 3</td>\n",
       "      <td>Cluster 0</td>\n",
       "      <td>3</td>\n",
       "    </tr>\n",
       "    <tr>\n",
       "      <th>DL Chahar</th>\n",
       "      <td>DL Chahar</td>\n",
       "      <td>48.0</td>\n",
       "      <td>58.0</td>\n",
       "      <td>10.0</td>\n",
       "      <td>78.0</td>\n",
       "      <td>2.0</td>\n",
       "      <td>6.0</td>\n",
       "      <td>7.80</td>\n",
       "      <td>134.48</td>\n",
       "      <td>1046.0</td>\n",
       "      <td>45.0</td>\n",
       "      <td>168.0</td>\n",
       "      <td>1271.0</td>\n",
       "      <td>7.57</td>\n",
       "      <td>7.0</td>\n",
       "      <td>1.0</td>\n",
       "      <td>Cluster 3</td>\n",
       "      <td>Cluster 0</td>\n",
       "      <td>3</td>\n",
       "    </tr>\n",
       "    <tr>\n",
       "      <th>HV Patel</th>\n",
       "      <td>HV Patel</td>\n",
       "      <td>47.0</td>\n",
       "      <td>99.0</td>\n",
       "      <td>17.0</td>\n",
       "      <td>128.0</td>\n",
       "      <td>5.0</td>\n",
       "      <td>9.0</td>\n",
       "      <td>7.53</td>\n",
       "      <td>129.29</td>\n",
       "      <td>966.0</td>\n",
       "      <td>46.0</td>\n",
       "      <td>155.0</td>\n",
       "      <td>1349.0</td>\n",
       "      <td>8.70</td>\n",
       "      <td>12.0</td>\n",
       "      <td>2.0</td>\n",
       "      <td>Cluster 3</td>\n",
       "      <td>Cluster 0</td>\n",
       "      <td>3</td>\n",
       "    </tr>\n",
       "    <tr>\n",
       "      <th>TG Southee</th>\n",
       "      <td>TG Southee</td>\n",
       "      <td>40.0</td>\n",
       "      <td>91.0</td>\n",
       "      <td>13.0</td>\n",
       "      <td>115.0</td>\n",
       "      <td>8.0</td>\n",
       "      <td>4.0</td>\n",
       "      <td>8.85</td>\n",
       "      <td>126.37</td>\n",
       "      <td>932.0</td>\n",
       "      <td>28.0</td>\n",
       "      <td>148.0</td>\n",
       "      <td>1293.0</td>\n",
       "      <td>8.74</td>\n",
       "      <td>17.0</td>\n",
       "      <td>1.0</td>\n",
       "      <td>Cluster 3</td>\n",
       "      <td>Cluster 0</td>\n",
       "      <td>3</td>\n",
       "    </tr>\n",
       "    <tr>\n",
       "      <th>RE van der Merwe</th>\n",
       "      <td>RE van der Merwe</td>\n",
       "      <td>21.0</td>\n",
       "      <td>144.0</td>\n",
       "      <td>15.0</td>\n",
       "      <td>159.0</td>\n",
       "      <td>11.0</td>\n",
       "      <td>8.0</td>\n",
       "      <td>10.60</td>\n",
       "      <td>110.42</td>\n",
       "      <td>455.0</td>\n",
       "      <td>21.0</td>\n",
       "      <td>74.0</td>\n",
       "      <td>498.0</td>\n",
       "      <td>6.73</td>\n",
       "      <td>8.0</td>\n",
       "      <td>0.0</td>\n",
       "      <td>Cluster 3</td>\n",
       "      <td>Cluster 0</td>\n",
       "      <td>4</td>\n",
       "    </tr>\n",
       "    <tr>\n",
       "      <th>Ankit Sharma</th>\n",
       "      <td>Ankit Sharma</td>\n",
       "      <td>21.0</td>\n",
       "      <td>69.0</td>\n",
       "      <td>10.0</td>\n",
       "      <td>87.0</td>\n",
       "      <td>7.0</td>\n",
       "      <td>4.0</td>\n",
       "      <td>8.70</td>\n",
       "      <td>126.09</td>\n",
       "      <td>375.0</td>\n",
       "      <td>12.0</td>\n",
       "      <td>62.0</td>\n",
       "      <td>450.0</td>\n",
       "      <td>7.26</td>\n",
       "      <td>4.0</td>\n",
       "      <td>0.0</td>\n",
       "      <td>Cluster 3</td>\n",
       "      <td>Cluster 0</td>\n",
       "      <td>4</td>\n",
       "    </tr>\n",
       "    <tr>\n",
       "      <th>AJ Tye</th>\n",
       "      <td>AJ Tye</td>\n",
       "      <td>27.0</td>\n",
       "      <td>79.0</td>\n",
       "      <td>13.0</td>\n",
       "      <td>91.0</td>\n",
       "      <td>6.0</td>\n",
       "      <td>5.0</td>\n",
       "      <td>7.00</td>\n",
       "      <td>115.19</td>\n",
       "      <td>645.0</td>\n",
       "      <td>40.0</td>\n",
       "      <td>103.0</td>\n",
       "      <td>871.0</td>\n",
       "      <td>8.46</td>\n",
       "      <td>7.0</td>\n",
       "      <td>2.0</td>\n",
       "      <td>Cluster 3</td>\n",
       "      <td>Cluster 0</td>\n",
       "      <td>4</td>\n",
       "    </tr>\n",
       "    <tr>\n",
       "      <th>PJ Cummins</th>\n",
       "      <td>PJ Cummins</td>\n",
       "      <td>30.0</td>\n",
       "      <td>176.0</td>\n",
       "      <td>19.0</td>\n",
       "      <td>223.0</td>\n",
       "      <td>14.0</td>\n",
       "      <td>12.0</td>\n",
       "      <td>11.74</td>\n",
       "      <td>126.70</td>\n",
       "      <td>700.0</td>\n",
       "      <td>29.0</td>\n",
       "      <td>113.0</td>\n",
       "      <td>908.0</td>\n",
       "      <td>8.04</td>\n",
       "      <td>5.0</td>\n",
       "      <td>1.0</td>\n",
       "      <td>Cluster 3</td>\n",
       "      <td>Cluster 0</td>\n",
       "      <td>4</td>\n",
       "    </tr>\n",
       "    <tr>\n",
       "      <th>R Dhawan</th>\n",
       "      <td>R Dhawan</td>\n",
       "      <td>25.0</td>\n",
       "      <td>135.0</td>\n",
       "      <td>16.0</td>\n",
       "      <td>153.0</td>\n",
       "      <td>13.0</td>\n",
       "      <td>4.0</td>\n",
       "      <td>9.56</td>\n",
       "      <td>113.33</td>\n",
       "      <td>513.0</td>\n",
       "      <td>18.0</td>\n",
       "      <td>82.0</td>\n",
       "      <td>640.0</td>\n",
       "      <td>7.80</td>\n",
       "      <td>6.0</td>\n",
       "      <td>0.0</td>\n",
       "      <td>Cluster 3</td>\n",
       "      <td>Cluster 0</td>\n",
       "      <td>4</td>\n",
       "    </tr>\n",
       "  </tbody>\n",
       "</table>\n",
       "</div>"
      ],
      "text/plain": [
       "                              name  matches  balls_faced  innings   runs  \\\n",
       "A Kumble                  A Kumble     42.0         49.0     15.0   35.0   \n",
       "A Mishra                  A Mishra    150.0        410.0     54.0  362.0   \n",
       "A Nehra                    A Nehra     88.0         63.0     17.0   41.0   \n",
       "A Symonds                A Symonds     36.0        781.0     36.0  974.0   \n",
       "AB Agarkar              AB Agarkar     42.0        160.0     18.0  179.0   \n",
       "A Ashish Reddy      A Ashish Reddy     28.0        196.0     23.0  280.0   \n",
       "AS Raut                    AS Raut     17.0        172.0     16.0  194.0   \n",
       "AL Menaria              AL Menaria     25.0        367.0     23.0  401.0   \n",
       "AA Jhunjhunwala    AA Jhunjhunwala     19.0        218.0     15.0  217.0   \n",
       "AD Mascarenhas      AD Mascarenhas     13.0         79.0     11.0   79.0   \n",
       "AD Nath                    AD Nath     10.0         99.0     10.0   90.0   \n",
       "AP Tare                    AP Tare     28.0        285.0     27.0  339.0   \n",
       "CA Ingram                CA Ingram     15.0        183.0     15.0  205.0   \n",
       "CA Pujara                CA Pujara     22.0        403.0     22.0  390.0   \n",
       "CM Gautam                CM Gautam     13.0        158.0     13.0  169.0   \n",
       "DL Vettori              DL Vettori     34.0        118.0     16.0  121.0   \n",
       "MA Starc                  MA Starc     26.0         98.0     11.0   96.0   \n",
       "M Kartik                  M Kartik     55.0        109.0     14.0  113.0   \n",
       "K Rabada                  K Rabada     35.0        135.0     13.0  125.0   \n",
       "Iqbal Abdulla        Iqbal Abdulla     48.0         86.0     13.0   88.0   \n",
       "MS Gony                    MS Gony     44.0         76.0     15.0   99.0   \n",
       "B Lee                        B Lee     38.0        102.0     19.0  124.0   \n",
       "DL Chahar                DL Chahar     48.0         58.0     10.0   78.0   \n",
       "HV Patel                  HV Patel     47.0         99.0     17.0  128.0   \n",
       "TG Southee              TG Southee     40.0         91.0     13.0  115.0   \n",
       "RE van der Merwe  RE van der Merwe     21.0        144.0     15.0  159.0   \n",
       "Ankit Sharma          Ankit Sharma     21.0         69.0     10.0   87.0   \n",
       "AJ Tye                      AJ Tye     27.0         79.0     13.0   91.0   \n",
       "PJ Cummins              PJ Cummins     30.0        176.0     19.0  223.0   \n",
       "R Dhawan                  R Dhawan     25.0        135.0     16.0  153.0   \n",
       "\n",
       "                    4s    6s  bat_average  bat_strike  balls_bowled  wickets  \\\n",
       "A Kumble           3.0   0.0         2.33       71.43         983.0     45.0   \n",
       "A Mishra          29.0   5.0         6.70       88.29        3233.0    160.0   \n",
       "A Nehra            3.0   1.0         2.41       65.08        1974.0    106.0   \n",
       "A Symonds         74.0  41.0        27.06      124.71         540.0     20.0   \n",
       "AB Agarkar        13.0   5.0         9.94      111.87         820.0     29.0   \n",
       "A Ashish Reddy    16.0  15.0        12.17      142.86         270.0     18.0   \n",
       "AS Raut           13.0   7.0        12.12      112.79          30.0      0.0   \n",
       "AL Menaria        24.0  18.0        17.43      109.26         113.0      3.0   \n",
       "AA Jhunjhunwala   19.0   5.0        14.47       99.54          88.0      1.0   \n",
       "AD Mascarenhas     5.0   1.0         7.18      100.00         310.0     19.0   \n",
       "AD Nath            7.0   2.0         9.00       90.91           0.0      0.0   \n",
       "AP Tare           40.0  11.0        12.56      118.95           0.0      0.0   \n",
       "CA Ingram         22.0   5.0        13.67      112.02           0.0      0.0   \n",
       "CA Pujara         50.0   4.0        17.73       96.77           0.0      0.0   \n",
       "CM Gautam         17.0   6.0        13.00      106.96           0.0      0.0   \n",
       "DL Vettori        11.0   2.0         7.56      102.54         785.0     28.0   \n",
       "MA Starc          10.0   0.0         8.73       97.96         612.0     34.0   \n",
       "M Kartik           7.0   1.0         8.07      103.67        1182.0     31.0   \n",
       "K Rabada           9.0   4.0         9.62       92.59         840.0     61.0   \n",
       "Iqbal Abdulla      9.0   1.0         6.77      102.33         943.0     40.0   \n",
       "MS Gony            6.0   8.0         6.60      130.26         925.0     37.0   \n",
       "B Lee              8.0   8.0         6.53      121.57         916.0     25.0   \n",
       "DL Chahar          2.0   6.0         7.80      134.48        1046.0     45.0   \n",
       "HV Patel           5.0   9.0         7.53      129.29         966.0     46.0   \n",
       "TG Southee         8.0   4.0         8.85      126.37         932.0     28.0   \n",
       "RE van der Merwe  11.0   8.0        10.60      110.42         455.0     21.0   \n",
       "Ankit Sharma       7.0   4.0         8.70      126.09         375.0     12.0   \n",
       "AJ Tye             6.0   5.0         7.00      115.19         645.0     40.0   \n",
       "PJ Cummins        14.0  12.0        11.74      126.70         700.0     29.0   \n",
       "R Dhawan          13.0   4.0         9.56      113.33         513.0     18.0   \n",
       "\n",
       "                  overs  runs_conceded  bowl_econ  catches  player_of_match  \\\n",
       "A Kumble          163.0         1058.0       6.49     10.0              3.0   \n",
       "A Mishra          529.0         3867.0       7.31     21.0             11.0   \n",
       "A Nehra           320.0         2495.0       7.80     19.0              6.0   \n",
       "A Symonds          88.0          674.0       7.66     21.0              3.0   \n",
       "AB Agarkar        131.0         1151.0       8.79      5.0              0.0   \n",
       "A Ashish Reddy     45.0          396.0       8.80      9.0              0.0   \n",
       "AS Raut             5.0           44.0       8.80      9.0              0.0   \n",
       "AL Menaria         19.0          144.0       7.58      5.0              0.0   \n",
       "AA Jhunjhunwala    15.0          129.0       8.60     10.0              1.0   \n",
       "AD Mascarenhas     52.0          356.0       6.85      3.0              1.0   \n",
       "AD Nath             0.0            0.0       0.00      2.0              0.0   \n",
       "AP Tare             0.0            0.0       0.00      3.0              1.0   \n",
       "CA Ingram           0.0            0.0       0.00      1.0              0.0   \n",
       "CA Pujara           0.0            0.0       0.00      6.0              0.0   \n",
       "CM Gautam           0.0            0.0       0.00      3.0              0.0   \n",
       "DL Vettori        131.0          879.0       6.71     11.0              1.0   \n",
       "MA Starc           97.0          693.0       7.14     16.0              1.0   \n",
       "M Kartik          192.0         1388.0       7.23     20.0              1.0   \n",
       "K Rabada          136.0         1103.0       8.11     14.0              1.0   \n",
       "Iqbal Abdulla     154.0         1109.0       7.20     14.0              2.0   \n",
       "MS Gony           148.0         1287.0       8.70      6.0              1.0   \n",
       "B Lee             147.0         1095.0       7.45     10.0              2.0   \n",
       "DL Chahar         168.0         1271.0       7.57      7.0              1.0   \n",
       "HV Patel          155.0         1349.0       8.70     12.0              2.0   \n",
       "TG Southee        148.0         1293.0       8.74     17.0              1.0   \n",
       "RE van der Merwe   74.0          498.0       6.73      8.0              0.0   \n",
       "Ankit Sharma       62.0          450.0       7.26      4.0              0.0   \n",
       "AJ Tye            103.0          871.0       8.46      7.0              2.0   \n",
       "PJ Cummins        113.0          908.0       8.04      5.0              1.0   \n",
       "R Dhawan           82.0          640.0       7.80      6.0              0.0   \n",
       "\n",
       "                 cluster_kmeans cluster_hier  cluster_dbscan  \n",
       "A Kumble              Cluster 3    Cluster 1              -1  \n",
       "A Mishra              Cluster 0    Cluster 2              -1  \n",
       "A Nehra               Cluster 0    Cluster 1              -1  \n",
       "A Symonds             Cluster 3    Cluster 0              -1  \n",
       "AB Agarkar            Cluster 3    Cluster 0              -1  \n",
       "A Ashish Reddy        Cluster 3    Cluster 0               0  \n",
       "AS Raut               Cluster 3    Cluster 0               0  \n",
       "AL Menaria            Cluster 3    Cluster 0               0  \n",
       "AA Jhunjhunwala       Cluster 3    Cluster 0               0  \n",
       "AD Mascarenhas        Cluster 3    Cluster 0               0  \n",
       "AD Nath               Cluster 4    Cluster 0               1  \n",
       "AP Tare               Cluster 4    Cluster 0               1  \n",
       "CA Ingram             Cluster 4    Cluster 0               1  \n",
       "CA Pujara             Cluster 4    Cluster 0               1  \n",
       "CM Gautam             Cluster 4    Cluster 0               1  \n",
       "DL Vettori            Cluster 3    Cluster 0               2  \n",
       "MA Starc              Cluster 3    Cluster 0               2  \n",
       "M Kartik              Cluster 3    Cluster 1               2  \n",
       "K Rabada              Cluster 3    Cluster 0               2  \n",
       "Iqbal Abdulla         Cluster 3    Cluster 0               2  \n",
       "MS Gony               Cluster 3    Cluster 0               3  \n",
       "B Lee                 Cluster 3    Cluster 0               3  \n",
       "DL Chahar             Cluster 3    Cluster 0               3  \n",
       "HV Patel              Cluster 3    Cluster 0               3  \n",
       "TG Southee            Cluster 3    Cluster 0               3  \n",
       "RE van der Merwe      Cluster 3    Cluster 0               4  \n",
       "Ankit Sharma          Cluster 3    Cluster 0               4  \n",
       "AJ Tye                Cluster 3    Cluster 0               4  \n",
       "PJ Cummins            Cluster 3    Cluster 0               4  \n",
       "R Dhawan              Cluster 3    Cluster 0               4  "
      ]
     },
     "execution_count": 410,
     "metadata": {},
     "output_type": "execute_result"
    }
   ],
   "source": [
    "players.groupby(['cluster_dbscan']).head().sort_values(by='cluster_dbscan')"
   ]
  },
  {
   "cell_type": "markdown",
   "metadata": {},
   "source": [
    "# Plots"
   ]
  },
  {
   "cell_type": "markdown",
   "metadata": {},
   "source": [
    "## Runs vs Wickets"
   ]
  },
  {
   "cell_type": "code",
   "execution_count": 411,
   "metadata": {
    "ExecuteTime": {
     "end_time": "2021-05-25T15:06:16.679062Z",
     "start_time": "2021-05-25T15:06:16.675653Z"
    }
   },
   "outputs": [],
   "source": [
    "def plot_clusters(x,y,cluster_col,size):\n",
    "    fig = px.scatter(players, x=x,   y=y, color=cluster_col,\n",
    "                     size=size, hover_data=['name'], title = f'Scatter Plot: {x} vs {y}, Size = {size}', color_discrete_sequence=px.colors.qualitative.Light24)\n",
    "    fig.show()"
   ]
  },
  {
   "cell_type": "code",
   "execution_count": 412,
   "metadata": {
    "ExecuteTime": {
     "end_time": "2021-05-25T15:06:16.787536Z",
     "start_time": "2021-05-25T15:06:16.681030Z"
    },
    "scrolled": true
   },
   "outputs": [
    {
     "data": {
      "application/vnd.plotly.v1+json": {
       "config": {
        "plotlyServerURL": "https://plot.ly"
       },
       "data": [
        {
         "customdata": [
          [
           "A Ashish Reddy"
          ],
          [
           "A Kumble"
          ],
          [
           "A Symonds"
          ],
          [
           "AA Jhunjhunwala"
          ],
          [
           "AB Agarkar"
          ],
          [
           "AD Mascarenhas"
          ],
          [
           "AD Mathews"
          ],
          [
           "AJ Tye"
          ],
          [
           "AL Menaria"
          ],
          [
           "AM Nayar"
          ],
          [
           "AS Raut"
          ],
          [
           "Abhishek Sharma"
          ],
          [
           "Ankit Sharma"
          ],
          [
           "Azhar Mahmood"
          ],
          [
           "B Akhil"
          ],
          [
           "B Chipli"
          ],
          [
           "B Lee"
          ],
          [
           "BA Stokes"
          ],
          [
           "BCJ Cutting"
          ],
          [
           "Bipul Sharma"
          ],
          [
           "C Munro"
          ],
          [
           "C de Grandhomme"
          ],
          [
           "CJ Anderson"
          ],
          [
           "CL White"
          ],
          [
           "CR Brathwaite"
          ],
          [
           "CR Woakes"
          ],
          [
           "DB Ravi Teja"
          ],
          [
           "DJ Hooda"
          ],
          [
           "DJG Sammy"
          ],
          [
           "DL Chahar"
          ],
          [
           "DL Vettori"
          ],
          [
           "DT Christian"
          ],
          [
           "FY Fazal"
          ],
          [
           "GH Vihari"
          ],
          [
           "Gurkeerat Singh"
          ],
          [
           "HV Patel"
          ],
          [
           "Iqbal Abdulla"
          ],
          [
           "J Botha"
          ],
          [
           "JC Archer"
          ],
          [
           "JD Ryder"
          ],
          [
           "JDP Oram"
          ],
          [
           "JEC Franklin"
          ],
          [
           "JP Faulkner"
          ],
          [
           "JR Hopes"
          ],
          [
           "K Goel"
          ],
          [
           "K Gowtham"
          ],
          [
           "K Rabada"
          ],
          [
           "KH Pandya"
          ],
          [
           "KK Cooper"
          ],
          [
           "KP Pietersen"
          ],
          [
           "KV Sharma"
          ],
          [
           "Kuldeep Yadav"
          ],
          [
           "LMP Simmons"
          ],
          [
           "LR Shukla"
          ],
          [
           "LRPL Taylor"
          ],
          [
           "M Kartik"
          ],
          [
           "M Manhas"
          ],
          [
           "MA Starc"
          ],
          [
           "MC Henriques"
          ],
          [
           "MF Maharoof"
          ],
          [
           "MM Ali"
          ],
          [
           "MN Samuels"
          ],
          [
           "MP Stoinis"
          ],
          [
           "MR Marsh"
          ],
          [
           "MS Gony"
          ],
          [
           "Mohammad Nabi"
          ],
          [
           "NLTC Perera"
          ],
          [
           "NM Coulter-Nile"
          ],
          [
           "P Negi"
          ],
          [
           "PC Valthaty"
          ],
          [
           "PJ Cummins"
          ],
          [
           "PJ Sangwan"
          ],
          [
           "R Dhawan"
          ],
          [
           "R McLaren"
          ],
          [
           "R Parag"
          ],
          [
           "R Sathish"
          ],
          [
           "R Sharma"
          ],
          [
           "R Tewatia"
          ],
          [
           "RA Tripathi"
          ],
          [
           "RE van der Merwe"
          ],
          [
           "RJ Harris"
          ],
          [
           "RN ten Doeschate"
          ],
          [
           "RS Bopara"
          ],
          [
           "S Aravind"
          ],
          [
           "S Dube"
          ],
          [
           "S Gopal"
          ],
          [
           "S Sreesanth"
          ],
          [
           "SB Styris"
          ],
          [
           "SK Warne"
          ],
          [
           "SM Curran"
          ],
          [
           "SN Khan"
          ],
          [
           "ST Jayasuriya"
          ],
          [
           "STR Binny"
          ],
          [
           "Shakib Al Hasan"
          ],
          [
           "TG Southee"
          ],
          [
           "TL Suman"
          ],
          [
           "TM Dilshan"
          ],
          [
           "TM Head"
          ],
          [
           "V Shankar"
          ],
          [
           "VR Aaron"
          ],
          [
           "WD Parnell"
          ],
          [
           "WPUJC Vaas"
          ],
          [
           "Washington Sundar"
          ],
          [
           "Y Nagar"
          ],
          [
           "Y Venugopal Rao"
          ]
         ],
         "hovertemplate": "cluster_kmeans=Cluster 3<br>runs=%{x}<br>wickets=%{y}<br>catches=%{marker.size}<br>name=%{customdata[0]}<extra></extra>",
         "legendgroup": "Cluster 3",
         "marker": {
          "color": "#FD3216",
          "size": [
           9,
           10,
           21,
           10,
           5,
           3,
           19,
           7,
           5,
           13,
           9,
           3,
           4,
           8,
           3,
           3,
           10,
           20,
           10,
           7,
           4,
           6,
           11,
           22,
           5,
           7,
           11,
           25,
           9,
           7,
           11,
           19,
           6,
           6,
           19,
           12,
           14,
           18,
           9,
           10,
           8,
           6,
           16,
           6,
           9,
           10,
           14,
           22,
           12,
           12,
           14,
           13,
           10,
           14,
           18,
           20,
           20,
           16,
           27,
           4,
           4,
           2,
           10,
           7,
           6,
           6,
           12,
           10,
           15,
           3,
           5,
           6,
           6,
           5,
           6,
           6,
           12,
           17,
           15,
           8,
           20,
           8,
           7,
           8,
           3,
           11,
           3,
           2,
           16,
           9,
           4,
           4,
           19,
           11,
           17,
           10,
           20,
           3,
           18,
           3,
           5,
           0,
           7,
           6,
           13
          ],
          "sizemode": "area",
          "sizeref": 0.295,
          "symbol": "circle"
         },
         "mode": "markers",
         "name": "Cluster 3",
         "orientation": "v",
         "showlegend": true,
         "type": "scatter",
         "x": [
          280,
          35,
          974,
          217,
          179,
          79,
          724,
          91,
          401,
          672,
          194,
          143,
          87,
          388,
          76,
          280,
          124,
          920,
          238,
          187,
          177,
          303,
          538,
          954,
          181,
          63,
          375,
          625,
          295,
          78,
          121,
          446,
          183,
          284,
          511,
          128,
          88,
          409,
          195,
          604,
          106,
          327,
          527,
          417,
          218,
          186,
          125,
          1000,
          116,
          1001,
          317,
          57,
          1079,
          405,
          1017,
          113,
          514,
          96,
          969,
          177,
          309,
          161,
          825,
          225,
          99,
          146,
          422,
          77,
          365,
          505,
          223,
          24,
          153,
          159,
          246,
          270,
          66,
          366,
          988,
          159,
          117,
          326,
          531,
          59,
          169,
          164,
          34,
          131,
          198,
          281,
          441,
          768,
          880,
          746,
          115,
          676,
          1153,
          205,
          654,
          50,
          63,
          81,
          186,
          285,
          985
         ],
         "xaxis": "x",
         "y": [
          18,
          45,
          20,
          1,
          29,
          19,
          27,
          40,
          3,
          9,
          0,
          3,
          12,
          29,
          6,
          0,
          25,
          28,
          10,
          17,
          0,
          6,
          11,
          1,
          13,
          25,
          1,
          7,
          11,
          45,
          28,
          34,
          0,
          1,
          5,
          46,
          40,
          25,
          46,
          8,
          9,
          9,
          59,
          14,
          0,
          13,
          61,
          46,
          33,
          7,
          59,
          40,
          1,
          15,
          0,
          31,
          0,
          34,
          38,
          27,
          10,
          9,
          28,
          20,
          37,
          11,
          31,
          41,
          34,
          7,
          29,
          35,
          18,
          12,
          2,
          3,
          40,
          24,
          0,
          21,
          45,
          2,
          11,
          45,
          4,
          48,
          40,
          8,
          57,
          23,
          0,
          13,
          22,
          59,
          28,
          6,
          5,
          2,
          6,
          42,
          26,
          18,
          24,
          4,
          6
         ],
         "yaxis": "y"
        },
        {
         "customdata": [
          [
           "A Mishra"
          ],
          [
           "A Nehra"
          ],
          [
           "AB Dinda"
          ],
          [
           "AR Patel"
          ],
          [
           "B Kumar"
          ],
          [
           "CH Morris"
          ],
          [
           "DJ Bravo"
          ],
          [
           "DS Kulkarni"
          ],
          [
           "DW Steyn"
          ],
          [
           "Harbhajan Singh"
          ],
          [
           "I Sharma"
          ],
          [
           "IK Pathan"
          ],
          [
           "JA Morkel"
          ],
          [
           "JD Unadkat"
          ],
          [
           "JJ Bumrah"
          ],
          [
           "L Balaji"
          ],
          [
           "M Morkel"
          ],
          [
           "MG Johnson"
          ],
          [
           "MJ McClenaghan"
          ],
          [
           "MM Patel"
          ],
          [
           "MM Sharma"
          ],
          [
           "Mohammed Shami"
          ],
          [
           "P Kumar"
          ],
          [
           "PP Chawla"
          ],
          [
           "PP Ojha"
          ],
          [
           "R Ashwin"
          ],
          [
           "R Bhatia"
          ],
          [
           "R Vinay Kumar"
          ],
          [
           "RA Jadeja"
          ],
          [
           "RP Singh"
          ],
          [
           "Rashid Khan"
          ],
          [
           "S Nadeem"
          ],
          [
           "SK Trivedi"
          ],
          [
           "SL Malinga"
          ],
          [
           "SP Narine"
          ],
          [
           "Sandeep Sharma"
          ],
          [
           "UT Yadav"
          ],
          [
           "YS Chahal"
          ],
          [
           "Z Khan"
          ]
         ],
         "hovertemplate": "cluster_kmeans=Cluster 0<br>runs=%{x}<br>wickets=%{y}<br>catches=%{marker.size}<br>name=%{customdata[0]}<extra></extra>",
         "legendgroup": "Cluster 0",
         "marker": {
          "color": "#00FE35",
          "size": [
           21,
           19,
           7,
           40,
           27,
           34,
           75,
           22,
           24,
           48,
           16,
           31,
           19,
           23,
           9,
           11,
           11,
           15,
           1,
           15,
           18,
           10,
           14,
           40,
           14,
           34,
           25,
           35,
           68,
           29,
           18,
           15,
           14,
           21,
           19,
           11,
           29,
           20,
           21
          ],
          "sizemode": "area",
          "sizeref": 0.295,
          "symbol": "circle"
         },
         "mode": "markers",
         "name": "Cluster 0",
         "orientation": "v",
         "showlegend": true,
         "type": "scatter",
         "x": [
          362,
          41,
          26,
          913,
          183,
          551,
          1490,
          104,
          167,
          829,
          55,
          1139,
          974,
          64,
          40,
          36,
          126,
          167,
          85,
          39,
          122,
          56,
          340,
          584,
          16,
          412,
          342,
          310,
          2159,
          52,
          139,
          39,
          42,
          88,
          892,
          44,
          122,
          22,
          117
         ],
         "xaxis": "x",
         "y": [
          160,
          106,
          69,
          80,
          136,
          80,
          153,
          86,
          97,
          150,
          71,
          80,
          85,
          81,
          109,
          76,
          77,
          61,
          71,
          74,
          92,
          60,
          90,
          156,
          89,
          138,
          71,
          105,
          114,
          90,
          75,
          47,
          65,
          170,
          127,
          109,
          119,
          121,
          102
         ],
         "yaxis": "y"
        },
        {
         "customdata": [
          [
           "AB de Villiers"
          ],
          [
           "AM Rahane"
          ],
          [
           "AT Rayudu"
          ],
          [
           "CH Gayle"
          ],
          [
           "DA Warner"
          ],
          [
           "G Gambhir"
          ],
          [
           "KA Pollard"
          ],
          [
           "KD Karthik"
          ],
          [
           "MS Dhoni"
          ],
          [
           "RG Sharma"
          ],
          [
           "RV Uthappa"
          ],
          [
           "S Dhawan"
          ],
          [
           "SK Raina"
          ],
          [
           "SR Watson"
          ],
          [
           "V Kohli"
          ],
          [
           "YK Pathan"
          ]
         ],
         "hovertemplate": "cluster_kmeans=Cluster 2<br>runs=%{x}<br>wickets=%{y}<br>catches=%{marker.size}<br>name=%{customdata[0]}<extra></extra>",
         "legendgroup": "Cluster 2",
         "marker": {
          "color": "#6A76FC",
          "size": [
           103,
           58,
           56,
           26,
           66,
           28,
           90,
           118,
           113,
           89,
           87,
           73,
           102,
           40,
           76,
           43
          ],
          "sizemode": "area",
          "sizeref": 0.295,
          "symbol": "circle"
         },
         "mode": "markers",
         "name": "Cluster 2",
         "orientation": "v",
         "showlegend": true,
         "type": "scatter",
         "x": [
          4849,
          3933,
          3659,
          4772,
          5254,
          4217,
          3023,
          3823,
          4632,
          5230,
          4607,
          5197,
          5368,
          3874,
          5878,
          3204
         ],
         "xaxis": "x",
         "y": [
          0,
          1,
          0,
          18,
          0,
          0,
          60,
          0,
          0,
          15,
          0,
          4,
          25,
          92,
          4,
          42
         ],
         "yaxis": "y"
        },
        {
         "customdata": [
          [
           "AC Gilchrist"
          ],
          [
           "AD Russell"
          ],
          [
           "AJ Finch"
          ],
          [
           "BB McCullum"
          ],
          [
           "BJ Hodge"
          ],
          [
           "DA Miller"
          ],
          [
           "DJ Hussey"
          ],
          [
           "DPMD Jayawardene"
          ],
          [
           "DR Smith"
          ],
          [
           "F du Plessis"
          ],
          [
           "GJ Maxwell"
          ],
          [
           "HH Pandya"
          ],
          [
           "JC Buttler"
          ],
          [
           "JH Kallis"
          ],
          [
           "JP Duminy"
          ],
          [
           "KC Sangakkara"
          ],
          [
           "KK Nair"
          ],
          [
           "KL Rahul"
          ],
          [
           "KS Williamson"
          ],
          [
           "M Vijay"
          ],
          [
           "MA Agarwal"
          ],
          [
           "MEK Hussey"
          ],
          [
           "MK Pandey"
          ],
          [
           "MK Tiwary"
          ],
          [
           "Mandeep Singh"
          ],
          [
           "N Rana"
          ],
          [
           "NV Ojha"
          ],
          [
           "PA Patel"
          ],
          [
           "Q de Kock"
          ],
          [
           "R Dravid"
          ],
          [
           "RR Pant"
          ],
          [
           "SA Yadav"
          ],
          [
           "SC Ganguly"
          ],
          [
           "SE Marsh"
          ],
          [
           "SPD Smith"
          ],
          [
           "SR Tendulkar"
          ],
          [
           "SS Iyer"
          ],
          [
           "SV Samson"
          ],
          [
           "V Sehwag"
          ],
          [
           "WP Saha"
          ],
          [
           "Yuvraj Singh"
          ]
         ],
         "hovertemplate": "cluster_kmeans=Cluster 1<br>runs=%{x}<br>wickets=%{y}<br>catches=%{marker.size}<br>name=%{customdata[0]}<extra></extra>",
         "legendgroup": "Cluster 1",
         "marker": {
          "color": "#FED4C4",
          "size": [
           51,
           23,
           27,
           37,
           22,
           49,
           25,
           32,
           41,
           54,
           30,
           49,
           31,
           31,
           30,
           45,
           22,
           39,
           22,
           47,
           35,
           26,
           70,
           46,
           36,
           11,
           65,
           69,
           49,
           18,
           46,
           48,
           22,
           26,
           44,
           23,
           28,
           52,
           34,
           62,
           31
          ],
          "sizemode": "area",
          "sizeref": 0.295,
          "symbol": "circle"
         },
         "mode": "markers",
         "name": "Cluster 1",
         "orientation": "v",
         "showlegend": true,
         "type": "scatter",
         "x": [
          2069,
          1517,
          2005,
          2880,
          1400,
          1850,
          1322,
          1802,
          2385,
          2302,
          1505,
          1349,
          1714,
          2427,
          2029,
          1687,
          1480,
          2647,
          1619,
          2619,
          1690,
          1977,
          3268,
          1695,
          1659,
          1437,
          1554,
          2848,
          1959,
          2174,
          2079,
          2024,
          1349,
          2477,
          2333,
          2334,
          2200,
          2584,
          2728,
          1979,
          2750
         ],
         "xaxis": "x",
         "y": [
          1,
          61,
          1,
          0,
          17,
          0,
          8,
          0,
          26,
          0,
          19,
          42,
          0,
          65,
          23,
          0,
          0,
          0,
          0,
          0,
          0,
          0,
          0,
          1,
          0,
          7,
          0,
          0,
          0,
          0,
          0,
          0,
          10,
          0,
          0,
          0,
          0,
          0,
          6,
          0,
          36
         ],
         "yaxis": "y"
        },
        {
         "customdata": [
          [
           "AD Nath"
          ],
          [
           "AP Tare"
          ],
          [
           "CA Ingram"
          ],
          [
           "CA Lynn"
          ],
          [
           "CA Pujara"
          ],
          [
           "CM Gautam"
          ],
          [
           "D Padikkal"
          ],
          [
           "DB Das"
          ],
          [
           "DH Yagnik"
          ],
          [
           "E Lewis"
          ],
          [
           "EJG Morgan"
          ],
          [
           "GC Smith"
          ],
          [
           "GJ Bailey"
          ],
          [
           "HH Gibbs"
          ],
          [
           "HM Amla"
          ],
          [
           "Ishan Kishan"
          ],
          [
           "JM Bairstow"
          ],
          [
           "KM Jadhav"
          ],
          [
           "LA Pomersbach"
          ],
          [
           "M Kaif"
          ],
          [
           "M Rawat"
          ],
          [
           "M Vohra"
          ],
          [
           "MD Mishra"
          ],
          [
           "MJ Guptill"
          ],
          [
           "MJ Lumb"
          ],
          [
           "ML Hayden"
          ],
          [
           "MS Bisla"
          ],
          [
           "MV Boucher"
          ],
          [
           "N Pooran"
          ],
          [
           "N Saini"
          ],
          [
           "OA Shah"
          ],
          [
           "P Dogra"
          ],
          [
           "PA Reddy"
          ],
          [
           "PK Garg"
          ],
          [
           "PP Shaw"
          ],
          [
           "S Anirudha"
          ],
          [
           "S Badrinath"
          ],
          [
           "S Sohal"
          ],
          [
           "SA Asnodkar"
          ],
          [
           "SM Katich"
          ],
          [
           "SO Hetmyer"
          ],
          [
           "SP Fleming"
          ],
          [
           "SP Goswami"
          ],
          [
           "SS Tiwary"
          ],
          [
           "SW Billings"
          ],
          [
           "Sachin Baby"
          ],
          [
           "Shubman Gill"
          ],
          [
           "UBT Chand"
          ],
          [
           "VVS Laxman"
          ],
          [
           "YV Takawale"
          ]
         ],
         "hovertemplate": "cluster_kmeans=Cluster 4<br>runs=%{x}<br>wickets=%{y}<br>catches=%{marker.size}<br>name=%{customdata[0]}<extra></extra>",
         "legendgroup": "Cluster 4",
         "marker": {
          "color": "#FE00CE",
          "size": [
           2,
           3,
           1,
           10,
           6,
           3,
           8,
           7,
           12,
           6,
           27,
           7,
           11,
           22,
           0,
           16,
           16,
           28,
           7,
           15,
           16,
           13,
           1,
           7,
           5,
           11,
           20,
           14,
           8,
           11,
           7,
           4,
           2,
           6,
           10,
           11,
           16,
           2,
           6,
           2,
           10,
           2,
           17,
           24,
           13,
           5,
           17,
           8,
           4,
           13
          ],
          "sizemode": "area",
          "sizeref": 0.295,
          "symbol": "circle"
         },
         "mode": "markers",
         "name": "Cluster 4",
         "orientation": "v",
         "showlegend": true,
         "type": "scatter",
         "x": [
          90,
          339,
          205,
          1280,
          390,
          169,
          473,
          304,
          170,
          430,
          1272,
          739,
          663,
          886,
          577,
          1211,
          790,
          1141,
          302,
          259,
          55,
          1012,
          237,
          270,
          278,
          1107,
          798,
          394,
          521,
          140,
          506,
          127,
          164,
          133,
          826,
          136,
          1441,
          368,
          423,
          241,
          275,
          196,
          293,
          1379,
          334,
          137,
          939,
          300,
          282,
          192
         ],
         "xaxis": "x",
         "y": [
          0,
          0,
          0,
          0,
          0,
          0,
          0,
          0,
          0,
          0,
          0,
          0,
          0,
          0,
          0,
          0,
          0,
          0,
          0,
          0,
          0,
          0,
          0,
          0,
          0,
          0,
          0,
          0,
          0,
          0,
          0,
          0,
          0,
          0,
          0,
          0,
          0,
          0,
          0,
          0,
          0,
          0,
          0,
          0,
          0,
          2,
          0,
          0,
          0,
          0
         ],
         "yaxis": "y"
        }
       ],
       "layout": {
        "legend": {
         "itemsizing": "constant",
         "title": {
          "text": "cluster_kmeans"
         },
         "tracegroupgap": 0
        },
        "template": {
         "data": {
          "bar": [
           {
            "error_x": {
             "color": "#2a3f5f"
            },
            "error_y": {
             "color": "#2a3f5f"
            },
            "marker": {
             "line": {
              "color": "#E5ECF6",
              "width": 0.5
             }
            },
            "type": "bar"
           }
          ],
          "barpolar": [
           {
            "marker": {
             "line": {
              "color": "#E5ECF6",
              "width": 0.5
             }
            },
            "type": "barpolar"
           }
          ],
          "carpet": [
           {
            "aaxis": {
             "endlinecolor": "#2a3f5f",
             "gridcolor": "white",
             "linecolor": "white",
             "minorgridcolor": "white",
             "startlinecolor": "#2a3f5f"
            },
            "baxis": {
             "endlinecolor": "#2a3f5f",
             "gridcolor": "white",
             "linecolor": "white",
             "minorgridcolor": "white",
             "startlinecolor": "#2a3f5f"
            },
            "type": "carpet"
           }
          ],
          "choropleth": [
           {
            "colorbar": {
             "outlinewidth": 0,
             "ticks": ""
            },
            "type": "choropleth"
           }
          ],
          "contour": [
           {
            "colorbar": {
             "outlinewidth": 0,
             "ticks": ""
            },
            "colorscale": [
             [
              0,
              "#0d0887"
             ],
             [
              0.1111111111111111,
              "#46039f"
             ],
             [
              0.2222222222222222,
              "#7201a8"
             ],
             [
              0.3333333333333333,
              "#9c179e"
             ],
             [
              0.4444444444444444,
              "#bd3786"
             ],
             [
              0.5555555555555556,
              "#d8576b"
             ],
             [
              0.6666666666666666,
              "#ed7953"
             ],
             [
              0.7777777777777778,
              "#fb9f3a"
             ],
             [
              0.8888888888888888,
              "#fdca26"
             ],
             [
              1,
              "#f0f921"
             ]
            ],
            "type": "contour"
           }
          ],
          "contourcarpet": [
           {
            "colorbar": {
             "outlinewidth": 0,
             "ticks": ""
            },
            "type": "contourcarpet"
           }
          ],
          "heatmap": [
           {
            "colorbar": {
             "outlinewidth": 0,
             "ticks": ""
            },
            "colorscale": [
             [
              0,
              "#0d0887"
             ],
             [
              0.1111111111111111,
              "#46039f"
             ],
             [
              0.2222222222222222,
              "#7201a8"
             ],
             [
              0.3333333333333333,
              "#9c179e"
             ],
             [
              0.4444444444444444,
              "#bd3786"
             ],
             [
              0.5555555555555556,
              "#d8576b"
             ],
             [
              0.6666666666666666,
              "#ed7953"
             ],
             [
              0.7777777777777778,
              "#fb9f3a"
             ],
             [
              0.8888888888888888,
              "#fdca26"
             ],
             [
              1,
              "#f0f921"
             ]
            ],
            "type": "heatmap"
           }
          ],
          "heatmapgl": [
           {
            "colorbar": {
             "outlinewidth": 0,
             "ticks": ""
            },
            "colorscale": [
             [
              0,
              "#0d0887"
             ],
             [
              0.1111111111111111,
              "#46039f"
             ],
             [
              0.2222222222222222,
              "#7201a8"
             ],
             [
              0.3333333333333333,
              "#9c179e"
             ],
             [
              0.4444444444444444,
              "#bd3786"
             ],
             [
              0.5555555555555556,
              "#d8576b"
             ],
             [
              0.6666666666666666,
              "#ed7953"
             ],
             [
              0.7777777777777778,
              "#fb9f3a"
             ],
             [
              0.8888888888888888,
              "#fdca26"
             ],
             [
              1,
              "#f0f921"
             ]
            ],
            "type": "heatmapgl"
           }
          ],
          "histogram": [
           {
            "marker": {
             "colorbar": {
              "outlinewidth": 0,
              "ticks": ""
             }
            },
            "type": "histogram"
           }
          ],
          "histogram2d": [
           {
            "colorbar": {
             "outlinewidth": 0,
             "ticks": ""
            },
            "colorscale": [
             [
              0,
              "#0d0887"
             ],
             [
              0.1111111111111111,
              "#46039f"
             ],
             [
              0.2222222222222222,
              "#7201a8"
             ],
             [
              0.3333333333333333,
              "#9c179e"
             ],
             [
              0.4444444444444444,
              "#bd3786"
             ],
             [
              0.5555555555555556,
              "#d8576b"
             ],
             [
              0.6666666666666666,
              "#ed7953"
             ],
             [
              0.7777777777777778,
              "#fb9f3a"
             ],
             [
              0.8888888888888888,
              "#fdca26"
             ],
             [
              1,
              "#f0f921"
             ]
            ],
            "type": "histogram2d"
           }
          ],
          "histogram2dcontour": [
           {
            "colorbar": {
             "outlinewidth": 0,
             "ticks": ""
            },
            "colorscale": [
             [
              0,
              "#0d0887"
             ],
             [
              0.1111111111111111,
              "#46039f"
             ],
             [
              0.2222222222222222,
              "#7201a8"
             ],
             [
              0.3333333333333333,
              "#9c179e"
             ],
             [
              0.4444444444444444,
              "#bd3786"
             ],
             [
              0.5555555555555556,
              "#d8576b"
             ],
             [
              0.6666666666666666,
              "#ed7953"
             ],
             [
              0.7777777777777778,
              "#fb9f3a"
             ],
             [
              0.8888888888888888,
              "#fdca26"
             ],
             [
              1,
              "#f0f921"
             ]
            ],
            "type": "histogram2dcontour"
           }
          ],
          "mesh3d": [
           {
            "colorbar": {
             "outlinewidth": 0,
             "ticks": ""
            },
            "type": "mesh3d"
           }
          ],
          "parcoords": [
           {
            "line": {
             "colorbar": {
              "outlinewidth": 0,
              "ticks": ""
             }
            },
            "type": "parcoords"
           }
          ],
          "pie": [
           {
            "automargin": true,
            "type": "pie"
           }
          ],
          "scatter": [
           {
            "marker": {
             "colorbar": {
              "outlinewidth": 0,
              "ticks": ""
             }
            },
            "type": "scatter"
           }
          ],
          "scatter3d": [
           {
            "line": {
             "colorbar": {
              "outlinewidth": 0,
              "ticks": ""
             }
            },
            "marker": {
             "colorbar": {
              "outlinewidth": 0,
              "ticks": ""
             }
            },
            "type": "scatter3d"
           }
          ],
          "scattercarpet": [
           {
            "marker": {
             "colorbar": {
              "outlinewidth": 0,
              "ticks": ""
             }
            },
            "type": "scattercarpet"
           }
          ],
          "scattergeo": [
           {
            "marker": {
             "colorbar": {
              "outlinewidth": 0,
              "ticks": ""
             }
            },
            "type": "scattergeo"
           }
          ],
          "scattergl": [
           {
            "marker": {
             "colorbar": {
              "outlinewidth": 0,
              "ticks": ""
             }
            },
            "type": "scattergl"
           }
          ],
          "scattermapbox": [
           {
            "marker": {
             "colorbar": {
              "outlinewidth": 0,
              "ticks": ""
             }
            },
            "type": "scattermapbox"
           }
          ],
          "scatterpolar": [
           {
            "marker": {
             "colorbar": {
              "outlinewidth": 0,
              "ticks": ""
             }
            },
            "type": "scatterpolar"
           }
          ],
          "scatterpolargl": [
           {
            "marker": {
             "colorbar": {
              "outlinewidth": 0,
              "ticks": ""
             }
            },
            "type": "scatterpolargl"
           }
          ],
          "scatterternary": [
           {
            "marker": {
             "colorbar": {
              "outlinewidth": 0,
              "ticks": ""
             }
            },
            "type": "scatterternary"
           }
          ],
          "surface": [
           {
            "colorbar": {
             "outlinewidth": 0,
             "ticks": ""
            },
            "colorscale": [
             [
              0,
              "#0d0887"
             ],
             [
              0.1111111111111111,
              "#46039f"
             ],
             [
              0.2222222222222222,
              "#7201a8"
             ],
             [
              0.3333333333333333,
              "#9c179e"
             ],
             [
              0.4444444444444444,
              "#bd3786"
             ],
             [
              0.5555555555555556,
              "#d8576b"
             ],
             [
              0.6666666666666666,
              "#ed7953"
             ],
             [
              0.7777777777777778,
              "#fb9f3a"
             ],
             [
              0.8888888888888888,
              "#fdca26"
             ],
             [
              1,
              "#f0f921"
             ]
            ],
            "type": "surface"
           }
          ],
          "table": [
           {
            "cells": {
             "fill": {
              "color": "#EBF0F8"
             },
             "line": {
              "color": "white"
             }
            },
            "header": {
             "fill": {
              "color": "#C8D4E3"
             },
             "line": {
              "color": "white"
             }
            },
            "type": "table"
           }
          ]
         },
         "layout": {
          "annotationdefaults": {
           "arrowcolor": "#2a3f5f",
           "arrowhead": 0,
           "arrowwidth": 1
          },
          "coloraxis": {
           "colorbar": {
            "outlinewidth": 0,
            "ticks": ""
           }
          },
          "colorscale": {
           "diverging": [
            [
             0,
             "#8e0152"
            ],
            [
             0.1,
             "#c51b7d"
            ],
            [
             0.2,
             "#de77ae"
            ],
            [
             0.3,
             "#f1b6da"
            ],
            [
             0.4,
             "#fde0ef"
            ],
            [
             0.5,
             "#f7f7f7"
            ],
            [
             0.6,
             "#e6f5d0"
            ],
            [
             0.7,
             "#b8e186"
            ],
            [
             0.8,
             "#7fbc41"
            ],
            [
             0.9,
             "#4d9221"
            ],
            [
             1,
             "#276419"
            ]
           ],
           "sequential": [
            [
             0,
             "#0d0887"
            ],
            [
             0.1111111111111111,
             "#46039f"
            ],
            [
             0.2222222222222222,
             "#7201a8"
            ],
            [
             0.3333333333333333,
             "#9c179e"
            ],
            [
             0.4444444444444444,
             "#bd3786"
            ],
            [
             0.5555555555555556,
             "#d8576b"
            ],
            [
             0.6666666666666666,
             "#ed7953"
            ],
            [
             0.7777777777777778,
             "#fb9f3a"
            ],
            [
             0.8888888888888888,
             "#fdca26"
            ],
            [
             1,
             "#f0f921"
            ]
           ],
           "sequentialminus": [
            [
             0,
             "#0d0887"
            ],
            [
             0.1111111111111111,
             "#46039f"
            ],
            [
             0.2222222222222222,
             "#7201a8"
            ],
            [
             0.3333333333333333,
             "#9c179e"
            ],
            [
             0.4444444444444444,
             "#bd3786"
            ],
            [
             0.5555555555555556,
             "#d8576b"
            ],
            [
             0.6666666666666666,
             "#ed7953"
            ],
            [
             0.7777777777777778,
             "#fb9f3a"
            ],
            [
             0.8888888888888888,
             "#fdca26"
            ],
            [
             1,
             "#f0f921"
            ]
           ]
          },
          "colorway": [
           "#636efa",
           "#EF553B",
           "#00cc96",
           "#ab63fa",
           "#FFA15A",
           "#19d3f3",
           "#FF6692",
           "#B6E880",
           "#FF97FF",
           "#FECB52"
          ],
          "font": {
           "color": "#2a3f5f"
          },
          "geo": {
           "bgcolor": "white",
           "lakecolor": "white",
           "landcolor": "#E5ECF6",
           "showlakes": true,
           "showland": true,
           "subunitcolor": "white"
          },
          "hoverlabel": {
           "align": "left"
          },
          "hovermode": "closest",
          "mapbox": {
           "style": "light"
          },
          "paper_bgcolor": "white",
          "plot_bgcolor": "#E5ECF6",
          "polar": {
           "angularaxis": {
            "gridcolor": "white",
            "linecolor": "white",
            "ticks": ""
           },
           "bgcolor": "#E5ECF6",
           "radialaxis": {
            "gridcolor": "white",
            "linecolor": "white",
            "ticks": ""
           }
          },
          "scene": {
           "xaxis": {
            "backgroundcolor": "#E5ECF6",
            "gridcolor": "white",
            "gridwidth": 2,
            "linecolor": "white",
            "showbackground": true,
            "ticks": "",
            "zerolinecolor": "white"
           },
           "yaxis": {
            "backgroundcolor": "#E5ECF6",
            "gridcolor": "white",
            "gridwidth": 2,
            "linecolor": "white",
            "showbackground": true,
            "ticks": "",
            "zerolinecolor": "white"
           },
           "zaxis": {
            "backgroundcolor": "#E5ECF6",
            "gridcolor": "white",
            "gridwidth": 2,
            "linecolor": "white",
            "showbackground": true,
            "ticks": "",
            "zerolinecolor": "white"
           }
          },
          "shapedefaults": {
           "line": {
            "color": "#2a3f5f"
           }
          },
          "ternary": {
           "aaxis": {
            "gridcolor": "white",
            "linecolor": "white",
            "ticks": ""
           },
           "baxis": {
            "gridcolor": "white",
            "linecolor": "white",
            "ticks": ""
           },
           "bgcolor": "#E5ECF6",
           "caxis": {
            "gridcolor": "white",
            "linecolor": "white",
            "ticks": ""
           }
          },
          "title": {
           "x": 0.05
          },
          "xaxis": {
           "automargin": true,
           "gridcolor": "white",
           "linecolor": "white",
           "ticks": "",
           "title": {
            "standoff": 15
           },
           "zerolinecolor": "white",
           "zerolinewidth": 2
          },
          "yaxis": {
           "automargin": true,
           "gridcolor": "white",
           "linecolor": "white",
           "ticks": "",
           "title": {
            "standoff": 15
           },
           "zerolinecolor": "white",
           "zerolinewidth": 2
          }
         }
        },
        "title": {
         "text": "Scatter Plot: runs vs wickets, Size = catches"
        },
        "xaxis": {
         "anchor": "y",
         "domain": [
          0,
          1
         ],
         "title": {
          "text": "runs"
         }
        },
        "yaxis": {
         "anchor": "x",
         "domain": [
          0,
          1
         ],
         "title": {
          "text": "wickets"
         }
        }
       }
      },
      "text/html": [
       "<div>                            <div id=\"45ee398f-7b1a-40e0-9de6-aa9b83fc269a\" class=\"plotly-graph-div\" style=\"height:525px; width:100%;\"></div>            <script type=\"text/javascript\">                require([\"plotly\"], function(Plotly) {                    window.PLOTLYENV=window.PLOTLYENV || {};                                    if (document.getElementById(\"45ee398f-7b1a-40e0-9de6-aa9b83fc269a\")) {                    Plotly.newPlot(                        \"45ee398f-7b1a-40e0-9de6-aa9b83fc269a\",                        [{\"customdata\": [[\"A Ashish Reddy\"], [\"A Kumble\"], [\"A Symonds\"], [\"AA Jhunjhunwala\"], [\"AB Agarkar\"], [\"AD Mascarenhas\"], [\"AD Mathews\"], [\"AJ Tye\"], [\"AL Menaria\"], [\"AM Nayar\"], [\"AS Raut\"], [\"Abhishek Sharma\"], [\"Ankit Sharma\"], [\"Azhar Mahmood\"], [\"B Akhil\"], [\"B Chipli\"], [\"B Lee\"], [\"BA Stokes\"], [\"BCJ Cutting\"], [\"Bipul Sharma\"], [\"C Munro\"], [\"C de Grandhomme\"], [\"CJ Anderson\"], [\"CL White\"], [\"CR Brathwaite\"], [\"CR Woakes\"], [\"DB Ravi Teja\"], [\"DJ Hooda\"], [\"DJG Sammy\"], [\"DL Chahar\"], [\"DL Vettori\"], [\"DT Christian\"], [\"FY Fazal\"], [\"GH Vihari\"], [\"Gurkeerat Singh\"], [\"HV Patel\"], [\"Iqbal Abdulla\"], [\"J Botha\"], [\"JC Archer\"], [\"JD Ryder\"], [\"JDP Oram\"], [\"JEC Franklin\"], [\"JP Faulkner\"], [\"JR Hopes\"], [\"K Goel\"], [\"K Gowtham\"], [\"K Rabada\"], [\"KH Pandya\"], [\"KK Cooper\"], [\"KP Pietersen\"], [\"KV Sharma\"], [\"Kuldeep Yadav\"], [\"LMP Simmons\"], [\"LR Shukla\"], [\"LRPL Taylor\"], [\"M Kartik\"], [\"M Manhas\"], [\"MA Starc\"], [\"MC Henriques\"], [\"MF Maharoof\"], [\"MM Ali\"], [\"MN Samuels\"], [\"MP Stoinis\"], [\"MR Marsh\"], [\"MS Gony\"], [\"Mohammad Nabi\"], [\"NLTC Perera\"], [\"NM Coulter-Nile\"], [\"P Negi\"], [\"PC Valthaty\"], [\"PJ Cummins\"], [\"PJ Sangwan\"], [\"R Dhawan\"], [\"R McLaren\"], [\"R Parag\"], [\"R Sathish\"], [\"R Sharma\"], [\"R Tewatia\"], [\"RA Tripathi\"], [\"RE van der Merwe\"], [\"RJ Harris\"], [\"RN ten Doeschate\"], [\"RS Bopara\"], [\"S Aravind\"], [\"S Dube\"], [\"S Gopal\"], [\"S Sreesanth\"], [\"SB Styris\"], [\"SK Warne\"], [\"SM Curran\"], [\"SN Khan\"], [\"ST Jayasuriya\"], [\"STR Binny\"], [\"Shakib Al Hasan\"], [\"TG Southee\"], [\"TL Suman\"], [\"TM Dilshan\"], [\"TM Head\"], [\"V Shankar\"], [\"VR Aaron\"], [\"WD Parnell\"], [\"WPUJC Vaas\"], [\"Washington Sundar\"], [\"Y Nagar\"], [\"Y Venugopal Rao\"]], \"hovertemplate\": \"cluster_kmeans=Cluster 3<br>runs=%{x}<br>wickets=%{y}<br>catches=%{marker.size}<br>name=%{customdata[0]}<extra></extra>\", \"legendgroup\": \"Cluster 3\", \"marker\": {\"color\": \"#FD3216\", \"size\": [9.0, 10.0, 21.0, 10.0, 5.0, 3.0, 19.0, 7.0, 5.0, 13.0, 9.0, 3.0, 4.0, 8.0, 3.0, 3.0, 10.0, 20.0, 10.0, 7.0, 4.0, 6.0, 11.0, 22.0, 5.0, 7.0, 11.0, 25.0, 9.0, 7.0, 11.0, 19.0, 6.0, 6.0, 19.0, 12.0, 14.0, 18.0, 9.0, 10.0, 8.0, 6.0, 16.0, 6.0, 9.0, 10.0, 14.0, 22.0, 12.0, 12.0, 14.0, 13.0, 10.0, 14.0, 18.0, 20.0, 20.0, 16.0, 27.0, 4.0, 4.0, 2.0, 10.0, 7.0, 6.0, 6.0, 12.0, 10.0, 15.0, 3.0, 5.0, 6.0, 6.0, 5.0, 6.0, 6.0, 12.0, 17.0, 15.0, 8.0, 20.0, 8.0, 7.0, 8.0, 3.0, 11.0, 3.0, 2.0, 16.0, 9.0, 4.0, 4.0, 19.0, 11.0, 17.0, 10.0, 20.0, 3.0, 18.0, 3.0, 5.0, 0.0, 7.0, 6.0, 13.0], \"sizemode\": \"area\", \"sizeref\": 0.295, \"symbol\": \"circle\"}, \"mode\": \"markers\", \"name\": \"Cluster 3\", \"orientation\": \"v\", \"showlegend\": true, \"type\": \"scatter\", \"x\": [280.0, 35.0, 974.0, 217.0, 179.0, 79.0, 724.0, 91.0, 401.0, 672.0, 194.0, 143.0, 87.0, 388.0, 76.0, 280.0, 124.0, 920.0, 238.0, 187.0, 177.0, 303.0, 538.0, 954.0, 181.0, 63.0, 375.0, 625.0, 295.0, 78.0, 121.0, 446.0, 183.0, 284.0, 511.0, 128.0, 88.0, 409.0, 195.0, 604.0, 106.0, 327.0, 527.0, 417.0, 218.0, 186.0, 125.0, 1000.0, 116.0, 1001.0, 317.0, 57.0, 1079.0, 405.0, 1017.0, 113.0, 514.0, 96.0, 969.0, 177.0, 309.0, 161.0, 825.0, 225.0, 99.0, 146.0, 422.0, 77.0, 365.0, 505.0, 223.0, 24.0, 153.0, 159.0, 246.0, 270.0, 66.0, 366.0, 988.0, 159.0, 117.0, 326.0, 531.0, 59.0, 169.0, 164.0, 34.0, 131.0, 198.0, 281.0, 441.0, 768.0, 880.0, 746.0, 115.0, 676.0, 1153.0, 205.0, 654.0, 50.0, 63.0, 81.0, 186.0, 285.0, 985.0], \"xaxis\": \"x\", \"y\": [18.0, 45.0, 20.0, 1.0, 29.0, 19.0, 27.0, 40.0, 3.0, 9.0, 0.0, 3.0, 12.0, 29.0, 6.0, 0.0, 25.0, 28.0, 10.0, 17.0, 0.0, 6.0, 11.0, 1.0, 13.0, 25.0, 1.0, 7.0, 11.0, 45.0, 28.0, 34.0, 0.0, 1.0, 5.0, 46.0, 40.0, 25.0, 46.0, 8.0, 9.0, 9.0, 59.0, 14.0, 0.0, 13.0, 61.0, 46.0, 33.0, 7.0, 59.0, 40.0, 1.0, 15.0, 0.0, 31.0, 0.0, 34.0, 38.0, 27.0, 10.0, 9.0, 28.0, 20.0, 37.0, 11.0, 31.0, 41.0, 34.0, 7.0, 29.0, 35.0, 18.0, 12.0, 2.0, 3.0, 40.0, 24.0, 0.0, 21.0, 45.0, 2.0, 11.0, 45.0, 4.0, 48.0, 40.0, 8.0, 57.0, 23.0, 0.0, 13.0, 22.0, 59.0, 28.0, 6.0, 5.0, 2.0, 6.0, 42.0, 26.0, 18.0, 24.0, 4.0, 6.0], \"yaxis\": \"y\"}, {\"customdata\": [[\"A Mishra\"], [\"A Nehra\"], [\"AB Dinda\"], [\"AR Patel\"], [\"B Kumar\"], [\"CH Morris\"], [\"DJ Bravo\"], [\"DS Kulkarni\"], [\"DW Steyn\"], [\"Harbhajan Singh\"], [\"I Sharma\"], [\"IK Pathan\"], [\"JA Morkel\"], [\"JD Unadkat\"], [\"JJ Bumrah\"], [\"L Balaji\"], [\"M Morkel\"], [\"MG Johnson\"], [\"MJ McClenaghan\"], [\"MM Patel\"], [\"MM Sharma\"], [\"Mohammed Shami\"], [\"P Kumar\"], [\"PP Chawla\"], [\"PP Ojha\"], [\"R Ashwin\"], [\"R Bhatia\"], [\"R Vinay Kumar\"], [\"RA Jadeja\"], [\"RP Singh\"], [\"Rashid Khan\"], [\"S Nadeem\"], [\"SK Trivedi\"], [\"SL Malinga\"], [\"SP Narine\"], [\"Sandeep Sharma\"], [\"UT Yadav\"], [\"YS Chahal\"], [\"Z Khan\"]], \"hovertemplate\": \"cluster_kmeans=Cluster 0<br>runs=%{x}<br>wickets=%{y}<br>catches=%{marker.size}<br>name=%{customdata[0]}<extra></extra>\", \"legendgroup\": \"Cluster 0\", \"marker\": {\"color\": \"#00FE35\", \"size\": [21.0, 19.0, 7.0, 40.0, 27.0, 34.0, 75.0, 22.0, 24.0, 48.0, 16.0, 31.0, 19.0, 23.0, 9.0, 11.0, 11.0, 15.0, 1.0, 15.0, 18.0, 10.0, 14.0, 40.0, 14.0, 34.0, 25.0, 35.0, 68.0, 29.0, 18.0, 15.0, 14.0, 21.0, 19.0, 11.0, 29.0, 20.0, 21.0], \"sizemode\": \"area\", \"sizeref\": 0.295, \"symbol\": \"circle\"}, \"mode\": \"markers\", \"name\": \"Cluster 0\", \"orientation\": \"v\", \"showlegend\": true, \"type\": \"scatter\", \"x\": [362.0, 41.0, 26.0, 913.0, 183.0, 551.0, 1490.0, 104.0, 167.0, 829.0, 55.0, 1139.0, 974.0, 64.0, 40.0, 36.0, 126.0, 167.0, 85.0, 39.0, 122.0, 56.0, 340.0, 584.0, 16.0, 412.0, 342.0, 310.0, 2159.0, 52.0, 139.0, 39.0, 42.0, 88.0, 892.0, 44.0, 122.0, 22.0, 117.0], \"xaxis\": \"x\", \"y\": [160.0, 106.0, 69.0, 80.0, 136.0, 80.0, 153.0, 86.0, 97.0, 150.0, 71.0, 80.0, 85.0, 81.0, 109.0, 76.0, 77.0, 61.0, 71.0, 74.0, 92.0, 60.0, 90.0, 156.0, 89.0, 138.0, 71.0, 105.0, 114.0, 90.0, 75.0, 47.0, 65.0, 170.0, 127.0, 109.0, 119.0, 121.0, 102.0], \"yaxis\": \"y\"}, {\"customdata\": [[\"AB de Villiers\"], [\"AM Rahane\"], [\"AT Rayudu\"], [\"CH Gayle\"], [\"DA Warner\"], [\"G Gambhir\"], [\"KA Pollard\"], [\"KD Karthik\"], [\"MS Dhoni\"], [\"RG Sharma\"], [\"RV Uthappa\"], [\"S Dhawan\"], [\"SK Raina\"], [\"SR Watson\"], [\"V Kohli\"], [\"YK Pathan\"]], \"hovertemplate\": \"cluster_kmeans=Cluster 2<br>runs=%{x}<br>wickets=%{y}<br>catches=%{marker.size}<br>name=%{customdata[0]}<extra></extra>\", \"legendgroup\": \"Cluster 2\", \"marker\": {\"color\": \"#6A76FC\", \"size\": [103.0, 58.0, 56.0, 26.0, 66.0, 28.0, 90.0, 118.0, 113.0, 89.0, 87.0, 73.0, 102.0, 40.0, 76.0, 43.0], \"sizemode\": \"area\", \"sizeref\": 0.295, \"symbol\": \"circle\"}, \"mode\": \"markers\", \"name\": \"Cluster 2\", \"orientation\": \"v\", \"showlegend\": true, \"type\": \"scatter\", \"x\": [4849.0, 3933.0, 3659.0, 4772.0, 5254.0, 4217.0, 3023.0, 3823.0, 4632.0, 5230.0, 4607.0, 5197.0, 5368.0, 3874.0, 5878.0, 3204.0], \"xaxis\": \"x\", \"y\": [0.0, 1.0, 0.0, 18.0, 0.0, 0.0, 60.0, 0.0, 0.0, 15.0, 0.0, 4.0, 25.0, 92.0, 4.0, 42.0], \"yaxis\": \"y\"}, {\"customdata\": [[\"AC Gilchrist\"], [\"AD Russell\"], [\"AJ Finch\"], [\"BB McCullum\"], [\"BJ Hodge\"], [\"DA Miller\"], [\"DJ Hussey\"], [\"DPMD Jayawardene\"], [\"DR Smith\"], [\"F du Plessis\"], [\"GJ Maxwell\"], [\"HH Pandya\"], [\"JC Buttler\"], [\"JH Kallis\"], [\"JP Duminy\"], [\"KC Sangakkara\"], [\"KK Nair\"], [\"KL Rahul\"], [\"KS Williamson\"], [\"M Vijay\"], [\"MA Agarwal\"], [\"MEK Hussey\"], [\"MK Pandey\"], [\"MK Tiwary\"], [\"Mandeep Singh\"], [\"N Rana\"], [\"NV Ojha\"], [\"PA Patel\"], [\"Q de Kock\"], [\"R Dravid\"], [\"RR Pant\"], [\"SA Yadav\"], [\"SC Ganguly\"], [\"SE Marsh\"], [\"SPD Smith\"], [\"SR Tendulkar\"], [\"SS Iyer\"], [\"SV Samson\"], [\"V Sehwag\"], [\"WP Saha\"], [\"Yuvraj Singh\"]], \"hovertemplate\": \"cluster_kmeans=Cluster 1<br>runs=%{x}<br>wickets=%{y}<br>catches=%{marker.size}<br>name=%{customdata[0]}<extra></extra>\", \"legendgroup\": \"Cluster 1\", \"marker\": {\"color\": \"#FED4C4\", \"size\": [51.0, 23.0, 27.0, 37.0, 22.0, 49.0, 25.0, 32.0, 41.0, 54.0, 30.0, 49.0, 31.0, 31.0, 30.0, 45.0, 22.0, 39.0, 22.0, 47.0, 35.0, 26.0, 70.0, 46.0, 36.0, 11.0, 65.0, 69.0, 49.0, 18.0, 46.0, 48.0, 22.0, 26.0, 44.0, 23.0, 28.0, 52.0, 34.0, 62.0, 31.0], \"sizemode\": \"area\", \"sizeref\": 0.295, \"symbol\": \"circle\"}, \"mode\": \"markers\", \"name\": \"Cluster 1\", \"orientation\": \"v\", \"showlegend\": true, \"type\": \"scatter\", \"x\": [2069.0, 1517.0, 2005.0, 2880.0, 1400.0, 1850.0, 1322.0, 1802.0, 2385.0, 2302.0, 1505.0, 1349.0, 1714.0, 2427.0, 2029.0, 1687.0, 1480.0, 2647.0, 1619.0, 2619.0, 1690.0, 1977.0, 3268.0, 1695.0, 1659.0, 1437.0, 1554.0, 2848.0, 1959.0, 2174.0, 2079.0, 2024.0, 1349.0, 2477.0, 2333.0, 2334.0, 2200.0, 2584.0, 2728.0, 1979.0, 2750.0], \"xaxis\": \"x\", \"y\": [1.0, 61.0, 1.0, 0.0, 17.0, 0.0, 8.0, 0.0, 26.0, 0.0, 19.0, 42.0, 0.0, 65.0, 23.0, 0.0, 0.0, 0.0, 0.0, 0.0, 0.0, 0.0, 0.0, 1.0, 0.0, 7.0, 0.0, 0.0, 0.0, 0.0, 0.0, 0.0, 10.0, 0.0, 0.0, 0.0, 0.0, 0.0, 6.0, 0.0, 36.0], \"yaxis\": \"y\"}, {\"customdata\": [[\"AD Nath\"], [\"AP Tare\"], [\"CA Ingram\"], [\"CA Lynn\"], [\"CA Pujara\"], [\"CM Gautam\"], [\"D Padikkal\"], [\"DB Das\"], [\"DH Yagnik\"], [\"E Lewis\"], [\"EJG Morgan\"], [\"GC Smith\"], [\"GJ Bailey\"], [\"HH Gibbs\"], [\"HM Amla\"], [\"Ishan Kishan\"], [\"JM Bairstow\"], [\"KM Jadhav\"], [\"LA Pomersbach\"], [\"M Kaif\"], [\"M Rawat\"], [\"M Vohra\"], [\"MD Mishra\"], [\"MJ Guptill\"], [\"MJ Lumb\"], [\"ML Hayden\"], [\"MS Bisla\"], [\"MV Boucher\"], [\"N Pooran\"], [\"N Saini\"], [\"OA Shah\"], [\"P Dogra\"], [\"PA Reddy\"], [\"PK Garg\"], [\"PP Shaw\"], [\"S Anirudha\"], [\"S Badrinath\"], [\"S Sohal\"], [\"SA Asnodkar\"], [\"SM Katich\"], [\"SO Hetmyer\"], [\"SP Fleming\"], [\"SP Goswami\"], [\"SS Tiwary\"], [\"SW Billings\"], [\"Sachin Baby\"], [\"Shubman Gill\"], [\"UBT Chand\"], [\"VVS Laxman\"], [\"YV Takawale\"]], \"hovertemplate\": \"cluster_kmeans=Cluster 4<br>runs=%{x}<br>wickets=%{y}<br>catches=%{marker.size}<br>name=%{customdata[0]}<extra></extra>\", \"legendgroup\": \"Cluster 4\", \"marker\": {\"color\": \"#FE00CE\", \"size\": [2.0, 3.0, 1.0, 10.0, 6.0, 3.0, 8.0, 7.0, 12.0, 6.0, 27.0, 7.0, 11.0, 22.0, 0.0, 16.0, 16.0, 28.0, 7.0, 15.0, 16.0, 13.0, 1.0, 7.0, 5.0, 11.0, 20.0, 14.0, 8.0, 11.0, 7.0, 4.0, 2.0, 6.0, 10.0, 11.0, 16.0, 2.0, 6.0, 2.0, 10.0, 2.0, 17.0, 24.0, 13.0, 5.0, 17.0, 8.0, 4.0, 13.0], \"sizemode\": \"area\", \"sizeref\": 0.295, \"symbol\": \"circle\"}, \"mode\": \"markers\", \"name\": \"Cluster 4\", \"orientation\": \"v\", \"showlegend\": true, \"type\": \"scatter\", \"x\": [90.0, 339.0, 205.0, 1280.0, 390.0, 169.0, 473.0, 304.0, 170.0, 430.0, 1272.0, 739.0, 663.0, 886.0, 577.0, 1211.0, 790.0, 1141.0, 302.0, 259.0, 55.0, 1012.0, 237.0, 270.0, 278.0, 1107.0, 798.0, 394.0, 521.0, 140.0, 506.0, 127.0, 164.0, 133.0, 826.0, 136.0, 1441.0, 368.0, 423.0, 241.0, 275.0, 196.0, 293.0, 1379.0, 334.0, 137.0, 939.0, 300.0, 282.0, 192.0], \"xaxis\": \"x\", \"y\": [0.0, 0.0, 0.0, 0.0, 0.0, 0.0, 0.0, 0.0, 0.0, 0.0, 0.0, 0.0, 0.0, 0.0, 0.0, 0.0, 0.0, 0.0, 0.0, 0.0, 0.0, 0.0, 0.0, 0.0, 0.0, 0.0, 0.0, 0.0, 0.0, 0.0, 0.0, 0.0, 0.0, 0.0, 0.0, 0.0, 0.0, 0.0, 0.0, 0.0, 0.0, 0.0, 0.0, 0.0, 0.0, 2.0, 0.0, 0.0, 0.0, 0.0], \"yaxis\": \"y\"}],                        {\"legend\": {\"itemsizing\": \"constant\", \"title\": {\"text\": \"cluster_kmeans\"}, \"tracegroupgap\": 0}, \"template\": {\"data\": {\"bar\": [{\"error_x\": {\"color\": \"#2a3f5f\"}, \"error_y\": {\"color\": \"#2a3f5f\"}, \"marker\": {\"line\": {\"color\": \"#E5ECF6\", \"width\": 0.5}}, \"type\": \"bar\"}], \"barpolar\": [{\"marker\": {\"line\": {\"color\": \"#E5ECF6\", \"width\": 0.5}}, \"type\": \"barpolar\"}], \"carpet\": [{\"aaxis\": {\"endlinecolor\": \"#2a3f5f\", \"gridcolor\": \"white\", \"linecolor\": \"white\", \"minorgridcolor\": \"white\", \"startlinecolor\": \"#2a3f5f\"}, \"baxis\": {\"endlinecolor\": \"#2a3f5f\", \"gridcolor\": \"white\", \"linecolor\": \"white\", \"minorgridcolor\": \"white\", \"startlinecolor\": \"#2a3f5f\"}, \"type\": \"carpet\"}], \"choropleth\": [{\"colorbar\": {\"outlinewidth\": 0, \"ticks\": \"\"}, \"type\": \"choropleth\"}], \"contour\": [{\"colorbar\": {\"outlinewidth\": 0, \"ticks\": \"\"}, \"colorscale\": [[0.0, \"#0d0887\"], [0.1111111111111111, \"#46039f\"], [0.2222222222222222, \"#7201a8\"], [0.3333333333333333, \"#9c179e\"], [0.4444444444444444, \"#bd3786\"], [0.5555555555555556, \"#d8576b\"], [0.6666666666666666, \"#ed7953\"], [0.7777777777777778, \"#fb9f3a\"], [0.8888888888888888, \"#fdca26\"], [1.0, \"#f0f921\"]], \"type\": \"contour\"}], \"contourcarpet\": [{\"colorbar\": {\"outlinewidth\": 0, \"ticks\": \"\"}, \"type\": \"contourcarpet\"}], \"heatmap\": [{\"colorbar\": {\"outlinewidth\": 0, \"ticks\": \"\"}, \"colorscale\": [[0.0, \"#0d0887\"], [0.1111111111111111, \"#46039f\"], [0.2222222222222222, \"#7201a8\"], [0.3333333333333333, \"#9c179e\"], [0.4444444444444444, \"#bd3786\"], [0.5555555555555556, \"#d8576b\"], [0.6666666666666666, \"#ed7953\"], [0.7777777777777778, \"#fb9f3a\"], [0.8888888888888888, \"#fdca26\"], [1.0, \"#f0f921\"]], \"type\": \"heatmap\"}], \"heatmapgl\": [{\"colorbar\": {\"outlinewidth\": 0, \"ticks\": \"\"}, \"colorscale\": [[0.0, \"#0d0887\"], [0.1111111111111111, \"#46039f\"], [0.2222222222222222, \"#7201a8\"], [0.3333333333333333, \"#9c179e\"], [0.4444444444444444, \"#bd3786\"], [0.5555555555555556, \"#d8576b\"], [0.6666666666666666, \"#ed7953\"], [0.7777777777777778, \"#fb9f3a\"], [0.8888888888888888, \"#fdca26\"], [1.0, \"#f0f921\"]], \"type\": \"heatmapgl\"}], \"histogram\": [{\"marker\": {\"colorbar\": {\"outlinewidth\": 0, \"ticks\": \"\"}}, \"type\": \"histogram\"}], \"histogram2d\": [{\"colorbar\": {\"outlinewidth\": 0, \"ticks\": \"\"}, \"colorscale\": [[0.0, \"#0d0887\"], [0.1111111111111111, \"#46039f\"], [0.2222222222222222, \"#7201a8\"], [0.3333333333333333, \"#9c179e\"], [0.4444444444444444, \"#bd3786\"], [0.5555555555555556, \"#d8576b\"], [0.6666666666666666, \"#ed7953\"], [0.7777777777777778, \"#fb9f3a\"], [0.8888888888888888, \"#fdca26\"], [1.0, \"#f0f921\"]], \"type\": \"histogram2d\"}], \"histogram2dcontour\": [{\"colorbar\": {\"outlinewidth\": 0, \"ticks\": \"\"}, \"colorscale\": [[0.0, \"#0d0887\"], [0.1111111111111111, \"#46039f\"], [0.2222222222222222, \"#7201a8\"], [0.3333333333333333, \"#9c179e\"], [0.4444444444444444, \"#bd3786\"], [0.5555555555555556, \"#d8576b\"], [0.6666666666666666, \"#ed7953\"], [0.7777777777777778, \"#fb9f3a\"], [0.8888888888888888, \"#fdca26\"], [1.0, \"#f0f921\"]], \"type\": \"histogram2dcontour\"}], \"mesh3d\": [{\"colorbar\": {\"outlinewidth\": 0, \"ticks\": \"\"}, \"type\": \"mesh3d\"}], \"parcoords\": [{\"line\": {\"colorbar\": {\"outlinewidth\": 0, \"ticks\": \"\"}}, \"type\": \"parcoords\"}], \"pie\": [{\"automargin\": true, \"type\": \"pie\"}], \"scatter\": [{\"marker\": {\"colorbar\": {\"outlinewidth\": 0, \"ticks\": \"\"}}, \"type\": \"scatter\"}], \"scatter3d\": [{\"line\": {\"colorbar\": {\"outlinewidth\": 0, \"ticks\": \"\"}}, \"marker\": {\"colorbar\": {\"outlinewidth\": 0, \"ticks\": \"\"}}, \"type\": \"scatter3d\"}], \"scattercarpet\": [{\"marker\": {\"colorbar\": {\"outlinewidth\": 0, \"ticks\": \"\"}}, \"type\": \"scattercarpet\"}], \"scattergeo\": [{\"marker\": {\"colorbar\": {\"outlinewidth\": 0, \"ticks\": \"\"}}, \"type\": \"scattergeo\"}], \"scattergl\": [{\"marker\": {\"colorbar\": {\"outlinewidth\": 0, \"ticks\": \"\"}}, \"type\": \"scattergl\"}], \"scattermapbox\": [{\"marker\": {\"colorbar\": {\"outlinewidth\": 0, \"ticks\": \"\"}}, \"type\": \"scattermapbox\"}], \"scatterpolar\": [{\"marker\": {\"colorbar\": {\"outlinewidth\": 0, \"ticks\": \"\"}}, \"type\": \"scatterpolar\"}], \"scatterpolargl\": [{\"marker\": {\"colorbar\": {\"outlinewidth\": 0, \"ticks\": \"\"}}, \"type\": \"scatterpolargl\"}], \"scatterternary\": [{\"marker\": {\"colorbar\": {\"outlinewidth\": 0, \"ticks\": \"\"}}, \"type\": \"scatterternary\"}], \"surface\": [{\"colorbar\": {\"outlinewidth\": 0, \"ticks\": \"\"}, \"colorscale\": [[0.0, \"#0d0887\"], [0.1111111111111111, \"#46039f\"], [0.2222222222222222, \"#7201a8\"], [0.3333333333333333, \"#9c179e\"], [0.4444444444444444, \"#bd3786\"], [0.5555555555555556, \"#d8576b\"], [0.6666666666666666, \"#ed7953\"], [0.7777777777777778, \"#fb9f3a\"], [0.8888888888888888, \"#fdca26\"], [1.0, \"#f0f921\"]], \"type\": \"surface\"}], \"table\": [{\"cells\": {\"fill\": {\"color\": \"#EBF0F8\"}, \"line\": {\"color\": \"white\"}}, \"header\": {\"fill\": {\"color\": \"#C8D4E3\"}, \"line\": {\"color\": \"white\"}}, \"type\": \"table\"}]}, \"layout\": {\"annotationdefaults\": {\"arrowcolor\": \"#2a3f5f\", \"arrowhead\": 0, \"arrowwidth\": 1}, \"coloraxis\": {\"colorbar\": {\"outlinewidth\": 0, \"ticks\": \"\"}}, \"colorscale\": {\"diverging\": [[0, \"#8e0152\"], [0.1, \"#c51b7d\"], [0.2, \"#de77ae\"], [0.3, \"#f1b6da\"], [0.4, \"#fde0ef\"], [0.5, \"#f7f7f7\"], [0.6, \"#e6f5d0\"], [0.7, \"#b8e186\"], [0.8, \"#7fbc41\"], [0.9, \"#4d9221\"], [1, \"#276419\"]], \"sequential\": [[0.0, \"#0d0887\"], [0.1111111111111111, \"#46039f\"], [0.2222222222222222, \"#7201a8\"], [0.3333333333333333, \"#9c179e\"], [0.4444444444444444, \"#bd3786\"], [0.5555555555555556, \"#d8576b\"], [0.6666666666666666, \"#ed7953\"], [0.7777777777777778, \"#fb9f3a\"], [0.8888888888888888, \"#fdca26\"], [1.0, \"#f0f921\"]], \"sequentialminus\": [[0.0, \"#0d0887\"], [0.1111111111111111, \"#46039f\"], [0.2222222222222222, \"#7201a8\"], [0.3333333333333333, \"#9c179e\"], [0.4444444444444444, \"#bd3786\"], [0.5555555555555556, \"#d8576b\"], [0.6666666666666666, \"#ed7953\"], [0.7777777777777778, \"#fb9f3a\"], [0.8888888888888888, \"#fdca26\"], [1.0, \"#f0f921\"]]}, \"colorway\": [\"#636efa\", \"#EF553B\", \"#00cc96\", \"#ab63fa\", \"#FFA15A\", \"#19d3f3\", \"#FF6692\", \"#B6E880\", \"#FF97FF\", \"#FECB52\"], \"font\": {\"color\": \"#2a3f5f\"}, \"geo\": {\"bgcolor\": \"white\", \"lakecolor\": \"white\", \"landcolor\": \"#E5ECF6\", \"showlakes\": true, \"showland\": true, \"subunitcolor\": \"white\"}, \"hoverlabel\": {\"align\": \"left\"}, \"hovermode\": \"closest\", \"mapbox\": {\"style\": \"light\"}, \"paper_bgcolor\": \"white\", \"plot_bgcolor\": \"#E5ECF6\", \"polar\": {\"angularaxis\": {\"gridcolor\": \"white\", \"linecolor\": \"white\", \"ticks\": \"\"}, \"bgcolor\": \"#E5ECF6\", \"radialaxis\": {\"gridcolor\": \"white\", \"linecolor\": \"white\", \"ticks\": \"\"}}, \"scene\": {\"xaxis\": {\"backgroundcolor\": \"#E5ECF6\", \"gridcolor\": \"white\", \"gridwidth\": 2, \"linecolor\": \"white\", \"showbackground\": true, \"ticks\": \"\", \"zerolinecolor\": \"white\"}, \"yaxis\": {\"backgroundcolor\": \"#E5ECF6\", \"gridcolor\": \"white\", \"gridwidth\": 2, \"linecolor\": \"white\", \"showbackground\": true, \"ticks\": \"\", \"zerolinecolor\": \"white\"}, \"zaxis\": {\"backgroundcolor\": \"#E5ECF6\", \"gridcolor\": \"white\", \"gridwidth\": 2, \"linecolor\": \"white\", \"showbackground\": true, \"ticks\": \"\", \"zerolinecolor\": \"white\"}}, \"shapedefaults\": {\"line\": {\"color\": \"#2a3f5f\"}}, \"ternary\": {\"aaxis\": {\"gridcolor\": \"white\", \"linecolor\": \"white\", \"ticks\": \"\"}, \"baxis\": {\"gridcolor\": \"white\", \"linecolor\": \"white\", \"ticks\": \"\"}, \"bgcolor\": \"#E5ECF6\", \"caxis\": {\"gridcolor\": \"white\", \"linecolor\": \"white\", \"ticks\": \"\"}}, \"title\": {\"x\": 0.05}, \"xaxis\": {\"automargin\": true, \"gridcolor\": \"white\", \"linecolor\": \"white\", \"ticks\": \"\", \"title\": {\"standoff\": 15}, \"zerolinecolor\": \"white\", \"zerolinewidth\": 2}, \"yaxis\": {\"automargin\": true, \"gridcolor\": \"white\", \"linecolor\": \"white\", \"ticks\": \"\", \"title\": {\"standoff\": 15}, \"zerolinecolor\": \"white\", \"zerolinewidth\": 2}}}, \"title\": {\"text\": \"Scatter Plot: runs vs wickets, Size = catches\"}, \"xaxis\": {\"anchor\": \"y\", \"domain\": [0.0, 1.0], \"title\": {\"text\": \"runs\"}}, \"yaxis\": {\"anchor\": \"x\", \"domain\": [0.0, 1.0], \"title\": {\"text\": \"wickets\"}}},                        {\"responsive\": true}                    ).then(function(){\n",
       "                            \n",
       "var gd = document.getElementById('45ee398f-7b1a-40e0-9de6-aa9b83fc269a');\n",
       "var x = new MutationObserver(function (mutations, observer) {{\n",
       "        var display = window.getComputedStyle(gd).display;\n",
       "        if (!display || display === 'none') {{\n",
       "            console.log([gd, 'removed!']);\n",
       "            Plotly.purge(gd);\n",
       "            observer.disconnect();\n",
       "        }}\n",
       "}});\n",
       "\n",
       "// Listen for the removal of the full notebook cells\n",
       "var notebookContainer = gd.closest('#notebook-container');\n",
       "if (notebookContainer) {{\n",
       "    x.observe(notebookContainer, {childList: true});\n",
       "}}\n",
       "\n",
       "// Listen for the clearing of the current output cell\n",
       "var outputEl = gd.closest('.output');\n",
       "if (outputEl) {{\n",
       "    x.observe(outputEl, {childList: true});\n",
       "}}\n",
       "\n",
       "                        })                };                });            </script>        </div>"
      ]
     },
     "metadata": {},
     "output_type": "display_data"
    }
   ],
   "source": [
    "plot_clusters('runs','wickets','cluster_kmeans','catches')"
   ]
  },
  {
   "cell_type": "code",
   "execution_count": 413,
   "metadata": {
    "ExecuteTime": {
     "end_time": "2021-05-25T15:06:16.872810Z",
     "start_time": "2021-05-25T15:06:16.789314Z"
    }
   },
   "outputs": [
    {
     "data": {
      "application/vnd.plotly.v1+json": {
       "config": {
        "plotlyServerURL": "https://plot.ly"
       },
       "data": [
        {
         "customdata": [
          [
           "A Ashish Reddy"
          ],
          [
           "A Symonds"
          ],
          [
           "AA Jhunjhunwala"
          ],
          [
           "AB Agarkar"
          ],
          [
           "AC Gilchrist"
          ],
          [
           "AD Mascarenhas"
          ],
          [
           "AD Mathews"
          ],
          [
           "AD Nath"
          ],
          [
           "AD Russell"
          ],
          [
           "AJ Finch"
          ],
          [
           "AJ Tye"
          ],
          [
           "AL Menaria"
          ],
          [
           "AM Nayar"
          ],
          [
           "AP Tare"
          ],
          [
           "AS Raut"
          ],
          [
           "Abhishek Sharma"
          ],
          [
           "Ankit Sharma"
          ],
          [
           "Azhar Mahmood"
          ],
          [
           "B Akhil"
          ],
          [
           "B Chipli"
          ],
          [
           "B Lee"
          ],
          [
           "BA Stokes"
          ],
          [
           "BB McCullum"
          ],
          [
           "BCJ Cutting"
          ],
          [
           "BJ Hodge"
          ],
          [
           "Bipul Sharma"
          ],
          [
           "C Munro"
          ],
          [
           "C de Grandhomme"
          ],
          [
           "CA Ingram"
          ],
          [
           "CA Lynn"
          ],
          [
           "CA Pujara"
          ],
          [
           "CH Morris"
          ],
          [
           "CJ Anderson"
          ],
          [
           "CL White"
          ],
          [
           "CM Gautam"
          ],
          [
           "CR Brathwaite"
          ],
          [
           "CR Woakes"
          ],
          [
           "D Padikkal"
          ],
          [
           "DA Miller"
          ],
          [
           "DB Das"
          ],
          [
           "DB Ravi Teja"
          ],
          [
           "DH Yagnik"
          ],
          [
           "DJ Hooda"
          ],
          [
           "DJ Hussey"
          ],
          [
           "DJG Sammy"
          ],
          [
           "DL Chahar"
          ],
          [
           "DL Vettori"
          ],
          [
           "DPMD Jayawardene"
          ],
          [
           "DR Smith"
          ],
          [
           "DT Christian"
          ],
          [
           "E Lewis"
          ],
          [
           "EJG Morgan"
          ],
          [
           "F du Plessis"
          ],
          [
           "FY Fazal"
          ],
          [
           "GC Smith"
          ],
          [
           "GH Vihari"
          ],
          [
           "GJ Bailey"
          ],
          [
           "GJ Maxwell"
          ],
          [
           "Gurkeerat Singh"
          ],
          [
           "HH Gibbs"
          ],
          [
           "HH Pandya"
          ],
          [
           "HM Amla"
          ],
          [
           "HV Patel"
          ],
          [
           "Iqbal Abdulla"
          ],
          [
           "Ishan Kishan"
          ],
          [
           "J Botha"
          ],
          [
           "JC Archer"
          ],
          [
           "JC Buttler"
          ],
          [
           "JD Ryder"
          ],
          [
           "JDP Oram"
          ],
          [
           "JEC Franklin"
          ],
          [
           "JH Kallis"
          ],
          [
           "JM Bairstow"
          ],
          [
           "JP Duminy"
          ],
          [
           "JP Faulkner"
          ],
          [
           "JR Hopes"
          ],
          [
           "K Goel"
          ],
          [
           "K Gowtham"
          ],
          [
           "K Rabada"
          ],
          [
           "KC Sangakkara"
          ],
          [
           "KH Pandya"
          ],
          [
           "KK Cooper"
          ],
          [
           "KK Nair"
          ],
          [
           "KL Rahul"
          ],
          [
           "KM Jadhav"
          ],
          [
           "KP Pietersen"
          ],
          [
           "KS Williamson"
          ],
          [
           "LA Pomersbach"
          ],
          [
           "LMP Simmons"
          ],
          [
           "LR Shukla"
          ],
          [
           "LRPL Taylor"
          ],
          [
           "M Kaif"
          ],
          [
           "M Manhas"
          ],
          [
           "M Morkel"
          ],
          [
           "M Rawat"
          ],
          [
           "M Vijay"
          ],
          [
           "M Vohra"
          ],
          [
           "MA Agarwal"
          ],
          [
           "MA Starc"
          ],
          [
           "MC Henriques"
          ],
          [
           "MD Mishra"
          ],
          [
           "MEK Hussey"
          ],
          [
           "MF Maharoof"
          ],
          [
           "MJ Guptill"
          ],
          [
           "MJ Lumb"
          ],
          [
           "MK Tiwary"
          ],
          [
           "ML Hayden"
          ],
          [
           "MM Ali"
          ],
          [
           "MN Samuels"
          ],
          [
           "MP Stoinis"
          ],
          [
           "MR Marsh"
          ],
          [
           "MS Bisla"
          ],
          [
           "MS Gony"
          ],
          [
           "MV Boucher"
          ],
          [
           "Mandeep Singh"
          ],
          [
           "Mohammad Nabi"
          ],
          [
           "N Pooran"
          ],
          [
           "N Rana"
          ],
          [
           "N Saini"
          ],
          [
           "NLTC Perera"
          ],
          [
           "NM Coulter-Nile"
          ],
          [
           "NV Ojha"
          ],
          [
           "OA Shah"
          ],
          [
           "P Dogra"
          ],
          [
           "P Negi"
          ],
          [
           "PA Reddy"
          ],
          [
           "PC Valthaty"
          ],
          [
           "PJ Cummins"
          ],
          [
           "PK Garg"
          ],
          [
           "PP Shaw"
          ],
          [
           "Q de Kock"
          ],
          [
           "R Bhatia"
          ],
          [
           "R Dhawan"
          ],
          [
           "R Dravid"
          ],
          [
           "R McLaren"
          ],
          [
           "R Parag"
          ],
          [
           "R Sathish"
          ],
          [
           "R Tewatia"
          ],
          [
           "RA Tripathi"
          ],
          [
           "RE van der Merwe"
          ],
          [
           "RJ Harris"
          ],
          [
           "RN ten Doeschate"
          ],
          [
           "RR Pant"
          ],
          [
           "RS Bopara"
          ],
          [
           "Rashid Khan"
          ],
          [
           "S Anirudha"
          ],
          [
           "S Aravind"
          ],
          [
           "S Badrinath"
          ],
          [
           "S Dube"
          ],
          [
           "S Gopal"
          ],
          [
           "S Sohal"
          ],
          [
           "SA Asnodkar"
          ],
          [
           "SA Yadav"
          ],
          [
           "SB Styris"
          ],
          [
           "SC Ganguly"
          ],
          [
           "SE Marsh"
          ],
          [
           "SM Curran"
          ],
          [
           "SM Katich"
          ],
          [
           "SN Khan"
          ],
          [
           "SO Hetmyer"
          ],
          [
           "SP Fleming"
          ],
          [
           "SP Goswami"
          ],
          [
           "SPD Smith"
          ],
          [
           "SR Tendulkar"
          ],
          [
           "SS Iyer"
          ],
          [
           "SS Tiwary"
          ],
          [
           "ST Jayasuriya"
          ],
          [
           "STR Binny"
          ],
          [
           "SV Samson"
          ],
          [
           "SW Billings"
          ],
          [
           "Sachin Baby"
          ],
          [
           "Shakib Al Hasan"
          ],
          [
           "Shubman Gill"
          ],
          [
           "TG Southee"
          ],
          [
           "TL Suman"
          ],
          [
           "TM Dilshan"
          ],
          [
           "TM Head"
          ],
          [
           "UBT Chand"
          ],
          [
           "V Sehwag"
          ],
          [
           "V Shankar"
          ],
          [
           "VVS Laxman"
          ],
          [
           "WP Saha"
          ],
          [
           "WPUJC Vaas"
          ],
          [
           "Washington Sundar"
          ],
          [
           "Y Nagar"
          ],
          [
           "Y Venugopal Rao"
          ],
          [
           "YV Takawale"
          ],
          [
           "Yuvraj Singh"
          ]
         ],
         "hovertemplate": "cluster_hier=Cluster 0<br>runs=%{x}<br>wickets=%{y}<br>catches=%{marker.size}<br>name=%{customdata[0]}<extra></extra>",
         "legendgroup": "Cluster 0",
         "marker": {
          "color": "#FD3216",
          "size": [
           9,
           21,
           10,
           5,
           51,
           3,
           19,
           2,
           23,
           27,
           7,
           5,
           13,
           3,
           9,
           3,
           4,
           8,
           3,
           3,
           10,
           20,
           37,
           10,
           22,
           7,
           4,
           6,
           1,
           10,
           6,
           34,
           11,
           22,
           3,
           5,
           7,
           8,
           49,
           7,
           11,
           12,
           25,
           25,
           9,
           7,
           11,
           32,
           41,
           19,
           6,
           27,
           54,
           6,
           7,
           6,
           11,
           30,
           19,
           22,
           49,
           0,
           12,
           14,
           16,
           18,
           9,
           31,
           10,
           8,
           6,
           31,
           16,
           30,
           16,
           6,
           9,
           10,
           14,
           45,
           22,
           12,
           22,
           39,
           28,
           12,
           22,
           7,
           10,
           14,
           18,
           15,
           20,
           11,
           16,
           47,
           13,
           35,
           16,
           27,
           1,
           26,
           4,
           7,
           5,
           46,
           11,
           4,
           2,
           10,
           7,
           20,
           6,
           14,
           36,
           6,
           8,
           11,
           11,
           12,
           10,
           65,
           7,
           4,
           15,
           2,
           3,
           5,
           6,
           10,
           49,
           25,
           6,
           18,
           5,
           6,
           6,
           17,
           15,
           8,
           20,
           8,
           46,
           7,
           18,
           11,
           8,
           16,
           3,
           11,
           2,
           6,
           48,
           2,
           22,
           26,
           9,
           2,
           4,
           10,
           2,
           17,
           44,
           23,
           28,
           24,
           4,
           19,
           52,
           13,
           5,
           11,
           17,
           17,
           10,
           20,
           3,
           8,
           34,
           18,
           4,
           62,
           0,
           7,
           6,
           13,
           13,
           31
          ],
          "sizemode": "area",
          "sizeref": 0.295,
          "symbol": "circle"
         },
         "mode": "markers",
         "name": "Cluster 0",
         "orientation": "v",
         "showlegend": true,
         "type": "scatter",
         "x": [
          280,
          974,
          217,
          179,
          2069,
          79,
          724,
          90,
          1517,
          2005,
          91,
          401,
          672,
          339,
          194,
          143,
          87,
          388,
          76,
          280,
          124,
          920,
          2880,
          238,
          1400,
          187,
          177,
          303,
          205,
          1280,
          390,
          551,
          538,
          954,
          169,
          181,
          63,
          473,
          1850,
          304,
          375,
          170,
          625,
          1322,
          295,
          78,
          121,
          1802,
          2385,
          446,
          430,
          1272,
          2302,
          183,
          739,
          284,
          663,
          1505,
          511,
          886,
          1349,
          577,
          128,
          88,
          1211,
          409,
          195,
          1714,
          604,
          106,
          327,
          2427,
          790,
          2029,
          527,
          417,
          218,
          186,
          125,
          1687,
          1000,
          116,
          1480,
          2647,
          1141,
          1001,
          1619,
          302,
          1079,
          405,
          1017,
          259,
          514,
          126,
          55,
          2619,
          1012,
          1690,
          96,
          969,
          237,
          1977,
          177,
          270,
          278,
          1695,
          1107,
          309,
          161,
          825,
          225,
          798,
          99,
          394,
          1659,
          146,
          521,
          1437,
          140,
          422,
          77,
          1554,
          506,
          127,
          365,
          164,
          505,
          223,
          133,
          826,
          1959,
          342,
          153,
          2174,
          159,
          246,
          270,
          366,
          988,
          159,
          117,
          326,
          2079,
          531,
          139,
          136,
          59,
          1441,
          169,
          164,
          368,
          423,
          2024,
          131,
          1349,
          2477,
          281,
          241,
          441,
          275,
          196,
          293,
          2333,
          2334,
          2200,
          1379,
          768,
          880,
          2584,
          334,
          137,
          746,
          939,
          115,
          676,
          1153,
          205,
          300,
          2728,
          654,
          282,
          1979,
          81,
          186,
          285,
          985,
          192,
          2750
         ],
         "xaxis": "x",
         "y": [
          18,
          20,
          1,
          29,
          1,
          19,
          27,
          0,
          61,
          1,
          40,
          3,
          9,
          0,
          0,
          3,
          12,
          29,
          6,
          0,
          25,
          28,
          0,
          10,
          17,
          17,
          0,
          6,
          0,
          0,
          0,
          80,
          11,
          1,
          0,
          13,
          25,
          0,
          0,
          0,
          1,
          0,
          7,
          8,
          11,
          45,
          28,
          0,
          26,
          34,
          0,
          0,
          0,
          0,
          0,
          1,
          0,
          19,
          5,
          0,
          42,
          0,
          46,
          40,
          0,
          25,
          46,
          0,
          8,
          9,
          9,
          65,
          0,
          23,
          59,
          14,
          0,
          13,
          61,
          0,
          46,
          33,
          0,
          0,
          0,
          7,
          0,
          0,
          1,
          15,
          0,
          0,
          0,
          77,
          0,
          0,
          0,
          0,
          34,
          38,
          0,
          0,
          27,
          0,
          0,
          1,
          0,
          10,
          9,
          28,
          20,
          0,
          37,
          0,
          0,
          11,
          0,
          7,
          0,
          31,
          41,
          0,
          0,
          0,
          34,
          0,
          7,
          29,
          0,
          0,
          0,
          71,
          18,
          0,
          12,
          2,
          3,
          24,
          0,
          21,
          45,
          2,
          0,
          11,
          75,
          0,
          45,
          0,
          4,
          48,
          0,
          0,
          0,
          8,
          10,
          0,
          23,
          0,
          0,
          0,
          0,
          0,
          0,
          0,
          0,
          0,
          13,
          22,
          0,
          0,
          2,
          59,
          0,
          28,
          6,
          5,
          2,
          0,
          6,
          6,
          0,
          0,
          18,
          24,
          4,
          6,
          0,
          36
         ],
         "yaxis": "y"
        },
        {
         "customdata": [
          [
           "A Kumble"
          ],
          [
           "A Nehra"
          ],
          [
           "AB Dinda"
          ],
          [
           "DS Kulkarni"
          ],
          [
           "I Sharma"
          ],
          [
           "JD Unadkat"
          ],
          [
           "JJ Bumrah"
          ],
          [
           "KV Sharma"
          ],
          [
           "Kuldeep Yadav"
          ],
          [
           "L Balaji"
          ],
          [
           "M Kartik"
          ],
          [
           "MG Johnson"
          ],
          [
           "MJ McClenaghan"
          ],
          [
           "MM Patel"
          ],
          [
           "MM Sharma"
          ],
          [
           "Mohammed Shami"
          ],
          [
           "PJ Sangwan"
          ],
          [
           "PP Ojha"
          ],
          [
           "R Sharma"
          ],
          [
           "RP Singh"
          ],
          [
           "S Nadeem"
          ],
          [
           "S Sreesanth"
          ],
          [
           "SK Trivedi"
          ],
          [
           "SK Warne"
          ],
          [
           "Sandeep Sharma"
          ],
          [
           "VR Aaron"
          ],
          [
           "WD Parnell"
          ],
          [
           "YS Chahal"
          ],
          [
           "Z Khan"
          ]
         ],
         "hovertemplate": "cluster_hier=Cluster 1<br>runs=%{x}<br>wickets=%{y}<br>catches=%{marker.size}<br>name=%{customdata[0]}<extra></extra>",
         "legendgroup": "Cluster 1",
         "marker": {
          "color": "#00FE35",
          "size": [
           10,
           19,
           7,
           22,
           16,
           23,
           9,
           14,
           13,
           11,
           20,
           15,
           1,
           15,
           18,
           10,
           6,
           14,
           12,
           29,
           15,
           3,
           14,
           16,
           11,
           3,
           5,
           20,
           21
          ],
          "sizemode": "area",
          "sizeref": 0.295,
          "symbol": "circle"
         },
         "mode": "markers",
         "name": "Cluster 1",
         "orientation": "v",
         "showlegend": true,
         "type": "scatter",
         "x": [
          35,
          41,
          26,
          104,
          55,
          64,
          40,
          317,
          57,
          36,
          113,
          167,
          85,
          39,
          122,
          56,
          24,
          16,
          66,
          52,
          39,
          34,
          42,
          198,
          44,
          50,
          63,
          22,
          117
         ],
         "xaxis": "x",
         "y": [
          45,
          106,
          69,
          86,
          71,
          81,
          109,
          59,
          40,
          76,
          31,
          61,
          71,
          74,
          92,
          60,
          35,
          89,
          40,
          90,
          47,
          40,
          65,
          57,
          109,
          42,
          26,
          121,
          102
         ],
         "yaxis": "y"
        },
        {
         "customdata": [
          [
           "A Mishra"
          ],
          [
           "AR Patel"
          ],
          [
           "B Kumar"
          ],
          [
           "DJ Bravo"
          ],
          [
           "DW Steyn"
          ],
          [
           "Harbhajan Singh"
          ],
          [
           "IK Pathan"
          ],
          [
           "JA Morkel"
          ],
          [
           "P Kumar"
          ],
          [
           "PP Chawla"
          ],
          [
           "R Ashwin"
          ],
          [
           "R Vinay Kumar"
          ],
          [
           "RA Jadeja"
          ],
          [
           "SL Malinga"
          ],
          [
           "SP Narine"
          ],
          [
           "UT Yadav"
          ]
         ],
         "hovertemplate": "cluster_hier=Cluster 2<br>runs=%{x}<br>wickets=%{y}<br>catches=%{marker.size}<br>name=%{customdata[0]}<extra></extra>",
         "legendgroup": "Cluster 2",
         "marker": {
          "color": "#6A76FC",
          "size": [
           21,
           40,
           27,
           75,
           24,
           48,
           31,
           19,
           14,
           40,
           34,
           35,
           68,
           21,
           19,
           29
          ],
          "sizemode": "area",
          "sizeref": 0.295,
          "symbol": "circle"
         },
         "mode": "markers",
         "name": "Cluster 2",
         "orientation": "v",
         "showlegend": true,
         "type": "scatter",
         "x": [
          362,
          913,
          183,
          1490,
          167,
          829,
          1139,
          974,
          340,
          584,
          412,
          310,
          2159,
          88,
          892,
          122
         ],
         "xaxis": "x",
         "y": [
          160,
          80,
          136,
          153,
          97,
          150,
          80,
          85,
          90,
          156,
          138,
          105,
          114,
          170,
          127,
          119
         ],
         "yaxis": "y"
        },
        {
         "customdata": [
          [
           "AB de Villiers"
          ],
          [
           "AM Rahane"
          ],
          [
           "AT Rayudu"
          ],
          [
           "DA Warner"
          ],
          [
           "G Gambhir"
          ],
          [
           "KD Karthik"
          ],
          [
           "MK Pandey"
          ],
          [
           "MS Dhoni"
          ],
          [
           "PA Patel"
          ],
          [
           "RG Sharma"
          ],
          [
           "RV Uthappa"
          ],
          [
           "S Dhawan"
          ],
          [
           "SK Raina"
          ],
          [
           "V Kohli"
          ]
         ],
         "hovertemplate": "cluster_hier=Cluster 3<br>runs=%{x}<br>wickets=%{y}<br>catches=%{marker.size}<br>name=%{customdata[0]}<extra></extra>",
         "legendgroup": "Cluster 3",
         "marker": {
          "color": "#FED4C4",
          "size": [
           103,
           58,
           56,
           66,
           28,
           118,
           70,
           113,
           69,
           89,
           87,
           73,
           102,
           76
          ],
          "sizemode": "area",
          "sizeref": 0.295,
          "symbol": "circle"
         },
         "mode": "markers",
         "name": "Cluster 3",
         "orientation": "v",
         "showlegend": true,
         "type": "scatter",
         "x": [
          4849,
          3933,
          3659,
          5254,
          4217,
          3823,
          3268,
          4632,
          2848,
          5230,
          4607,
          5197,
          5368,
          5878
         ],
         "xaxis": "x",
         "y": [
          0,
          1,
          0,
          0,
          0,
          0,
          0,
          0,
          0,
          15,
          0,
          4,
          25,
          4
         ],
         "yaxis": "y"
        },
        {
         "customdata": [
          [
           "CH Gayle"
          ],
          [
           "KA Pollard"
          ],
          [
           "SR Watson"
          ],
          [
           "YK Pathan"
          ]
         ],
         "hovertemplate": "cluster_hier=Cluster 4<br>runs=%{x}<br>wickets=%{y}<br>catches=%{marker.size}<br>name=%{customdata[0]}<extra></extra>",
         "legendgroup": "Cluster 4",
         "marker": {
          "color": "#FE00CE",
          "size": [
           26,
           90,
           40,
           43
          ],
          "sizemode": "area",
          "sizeref": 0.295,
          "symbol": "circle"
         },
         "mode": "markers",
         "name": "Cluster 4",
         "orientation": "v",
         "showlegend": true,
         "type": "scatter",
         "x": [
          4772,
          3023,
          3874,
          3204
         ],
         "xaxis": "x",
         "y": [
          18,
          60,
          92,
          42
         ],
         "yaxis": "y"
        }
       ],
       "layout": {
        "legend": {
         "itemsizing": "constant",
         "title": {
          "text": "cluster_hier"
         },
         "tracegroupgap": 0
        },
        "template": {
         "data": {
          "bar": [
           {
            "error_x": {
             "color": "#2a3f5f"
            },
            "error_y": {
             "color": "#2a3f5f"
            },
            "marker": {
             "line": {
              "color": "#E5ECF6",
              "width": 0.5
             }
            },
            "type": "bar"
           }
          ],
          "barpolar": [
           {
            "marker": {
             "line": {
              "color": "#E5ECF6",
              "width": 0.5
             }
            },
            "type": "barpolar"
           }
          ],
          "carpet": [
           {
            "aaxis": {
             "endlinecolor": "#2a3f5f",
             "gridcolor": "white",
             "linecolor": "white",
             "minorgridcolor": "white",
             "startlinecolor": "#2a3f5f"
            },
            "baxis": {
             "endlinecolor": "#2a3f5f",
             "gridcolor": "white",
             "linecolor": "white",
             "minorgridcolor": "white",
             "startlinecolor": "#2a3f5f"
            },
            "type": "carpet"
           }
          ],
          "choropleth": [
           {
            "colorbar": {
             "outlinewidth": 0,
             "ticks": ""
            },
            "type": "choropleth"
           }
          ],
          "contour": [
           {
            "colorbar": {
             "outlinewidth": 0,
             "ticks": ""
            },
            "colorscale": [
             [
              0,
              "#0d0887"
             ],
             [
              0.1111111111111111,
              "#46039f"
             ],
             [
              0.2222222222222222,
              "#7201a8"
             ],
             [
              0.3333333333333333,
              "#9c179e"
             ],
             [
              0.4444444444444444,
              "#bd3786"
             ],
             [
              0.5555555555555556,
              "#d8576b"
             ],
             [
              0.6666666666666666,
              "#ed7953"
             ],
             [
              0.7777777777777778,
              "#fb9f3a"
             ],
             [
              0.8888888888888888,
              "#fdca26"
             ],
             [
              1,
              "#f0f921"
             ]
            ],
            "type": "contour"
           }
          ],
          "contourcarpet": [
           {
            "colorbar": {
             "outlinewidth": 0,
             "ticks": ""
            },
            "type": "contourcarpet"
           }
          ],
          "heatmap": [
           {
            "colorbar": {
             "outlinewidth": 0,
             "ticks": ""
            },
            "colorscale": [
             [
              0,
              "#0d0887"
             ],
             [
              0.1111111111111111,
              "#46039f"
             ],
             [
              0.2222222222222222,
              "#7201a8"
             ],
             [
              0.3333333333333333,
              "#9c179e"
             ],
             [
              0.4444444444444444,
              "#bd3786"
             ],
             [
              0.5555555555555556,
              "#d8576b"
             ],
             [
              0.6666666666666666,
              "#ed7953"
             ],
             [
              0.7777777777777778,
              "#fb9f3a"
             ],
             [
              0.8888888888888888,
              "#fdca26"
             ],
             [
              1,
              "#f0f921"
             ]
            ],
            "type": "heatmap"
           }
          ],
          "heatmapgl": [
           {
            "colorbar": {
             "outlinewidth": 0,
             "ticks": ""
            },
            "colorscale": [
             [
              0,
              "#0d0887"
             ],
             [
              0.1111111111111111,
              "#46039f"
             ],
             [
              0.2222222222222222,
              "#7201a8"
             ],
             [
              0.3333333333333333,
              "#9c179e"
             ],
             [
              0.4444444444444444,
              "#bd3786"
             ],
             [
              0.5555555555555556,
              "#d8576b"
             ],
             [
              0.6666666666666666,
              "#ed7953"
             ],
             [
              0.7777777777777778,
              "#fb9f3a"
             ],
             [
              0.8888888888888888,
              "#fdca26"
             ],
             [
              1,
              "#f0f921"
             ]
            ],
            "type": "heatmapgl"
           }
          ],
          "histogram": [
           {
            "marker": {
             "colorbar": {
              "outlinewidth": 0,
              "ticks": ""
             }
            },
            "type": "histogram"
           }
          ],
          "histogram2d": [
           {
            "colorbar": {
             "outlinewidth": 0,
             "ticks": ""
            },
            "colorscale": [
             [
              0,
              "#0d0887"
             ],
             [
              0.1111111111111111,
              "#46039f"
             ],
             [
              0.2222222222222222,
              "#7201a8"
             ],
             [
              0.3333333333333333,
              "#9c179e"
             ],
             [
              0.4444444444444444,
              "#bd3786"
             ],
             [
              0.5555555555555556,
              "#d8576b"
             ],
             [
              0.6666666666666666,
              "#ed7953"
             ],
             [
              0.7777777777777778,
              "#fb9f3a"
             ],
             [
              0.8888888888888888,
              "#fdca26"
             ],
             [
              1,
              "#f0f921"
             ]
            ],
            "type": "histogram2d"
           }
          ],
          "histogram2dcontour": [
           {
            "colorbar": {
             "outlinewidth": 0,
             "ticks": ""
            },
            "colorscale": [
             [
              0,
              "#0d0887"
             ],
             [
              0.1111111111111111,
              "#46039f"
             ],
             [
              0.2222222222222222,
              "#7201a8"
             ],
             [
              0.3333333333333333,
              "#9c179e"
             ],
             [
              0.4444444444444444,
              "#bd3786"
             ],
             [
              0.5555555555555556,
              "#d8576b"
             ],
             [
              0.6666666666666666,
              "#ed7953"
             ],
             [
              0.7777777777777778,
              "#fb9f3a"
             ],
             [
              0.8888888888888888,
              "#fdca26"
             ],
             [
              1,
              "#f0f921"
             ]
            ],
            "type": "histogram2dcontour"
           }
          ],
          "mesh3d": [
           {
            "colorbar": {
             "outlinewidth": 0,
             "ticks": ""
            },
            "type": "mesh3d"
           }
          ],
          "parcoords": [
           {
            "line": {
             "colorbar": {
              "outlinewidth": 0,
              "ticks": ""
             }
            },
            "type": "parcoords"
           }
          ],
          "pie": [
           {
            "automargin": true,
            "type": "pie"
           }
          ],
          "scatter": [
           {
            "marker": {
             "colorbar": {
              "outlinewidth": 0,
              "ticks": ""
             }
            },
            "type": "scatter"
           }
          ],
          "scatter3d": [
           {
            "line": {
             "colorbar": {
              "outlinewidth": 0,
              "ticks": ""
             }
            },
            "marker": {
             "colorbar": {
              "outlinewidth": 0,
              "ticks": ""
             }
            },
            "type": "scatter3d"
           }
          ],
          "scattercarpet": [
           {
            "marker": {
             "colorbar": {
              "outlinewidth": 0,
              "ticks": ""
             }
            },
            "type": "scattercarpet"
           }
          ],
          "scattergeo": [
           {
            "marker": {
             "colorbar": {
              "outlinewidth": 0,
              "ticks": ""
             }
            },
            "type": "scattergeo"
           }
          ],
          "scattergl": [
           {
            "marker": {
             "colorbar": {
              "outlinewidth": 0,
              "ticks": ""
             }
            },
            "type": "scattergl"
           }
          ],
          "scattermapbox": [
           {
            "marker": {
             "colorbar": {
              "outlinewidth": 0,
              "ticks": ""
             }
            },
            "type": "scattermapbox"
           }
          ],
          "scatterpolar": [
           {
            "marker": {
             "colorbar": {
              "outlinewidth": 0,
              "ticks": ""
             }
            },
            "type": "scatterpolar"
           }
          ],
          "scatterpolargl": [
           {
            "marker": {
             "colorbar": {
              "outlinewidth": 0,
              "ticks": ""
             }
            },
            "type": "scatterpolargl"
           }
          ],
          "scatterternary": [
           {
            "marker": {
             "colorbar": {
              "outlinewidth": 0,
              "ticks": ""
             }
            },
            "type": "scatterternary"
           }
          ],
          "surface": [
           {
            "colorbar": {
             "outlinewidth": 0,
             "ticks": ""
            },
            "colorscale": [
             [
              0,
              "#0d0887"
             ],
             [
              0.1111111111111111,
              "#46039f"
             ],
             [
              0.2222222222222222,
              "#7201a8"
             ],
             [
              0.3333333333333333,
              "#9c179e"
             ],
             [
              0.4444444444444444,
              "#bd3786"
             ],
             [
              0.5555555555555556,
              "#d8576b"
             ],
             [
              0.6666666666666666,
              "#ed7953"
             ],
             [
              0.7777777777777778,
              "#fb9f3a"
             ],
             [
              0.8888888888888888,
              "#fdca26"
             ],
             [
              1,
              "#f0f921"
             ]
            ],
            "type": "surface"
           }
          ],
          "table": [
           {
            "cells": {
             "fill": {
              "color": "#EBF0F8"
             },
             "line": {
              "color": "white"
             }
            },
            "header": {
             "fill": {
              "color": "#C8D4E3"
             },
             "line": {
              "color": "white"
             }
            },
            "type": "table"
           }
          ]
         },
         "layout": {
          "annotationdefaults": {
           "arrowcolor": "#2a3f5f",
           "arrowhead": 0,
           "arrowwidth": 1
          },
          "coloraxis": {
           "colorbar": {
            "outlinewidth": 0,
            "ticks": ""
           }
          },
          "colorscale": {
           "diverging": [
            [
             0,
             "#8e0152"
            ],
            [
             0.1,
             "#c51b7d"
            ],
            [
             0.2,
             "#de77ae"
            ],
            [
             0.3,
             "#f1b6da"
            ],
            [
             0.4,
             "#fde0ef"
            ],
            [
             0.5,
             "#f7f7f7"
            ],
            [
             0.6,
             "#e6f5d0"
            ],
            [
             0.7,
             "#b8e186"
            ],
            [
             0.8,
             "#7fbc41"
            ],
            [
             0.9,
             "#4d9221"
            ],
            [
             1,
             "#276419"
            ]
           ],
           "sequential": [
            [
             0,
             "#0d0887"
            ],
            [
             0.1111111111111111,
             "#46039f"
            ],
            [
             0.2222222222222222,
             "#7201a8"
            ],
            [
             0.3333333333333333,
             "#9c179e"
            ],
            [
             0.4444444444444444,
             "#bd3786"
            ],
            [
             0.5555555555555556,
             "#d8576b"
            ],
            [
             0.6666666666666666,
             "#ed7953"
            ],
            [
             0.7777777777777778,
             "#fb9f3a"
            ],
            [
             0.8888888888888888,
             "#fdca26"
            ],
            [
             1,
             "#f0f921"
            ]
           ],
           "sequentialminus": [
            [
             0,
             "#0d0887"
            ],
            [
             0.1111111111111111,
             "#46039f"
            ],
            [
             0.2222222222222222,
             "#7201a8"
            ],
            [
             0.3333333333333333,
             "#9c179e"
            ],
            [
             0.4444444444444444,
             "#bd3786"
            ],
            [
             0.5555555555555556,
             "#d8576b"
            ],
            [
             0.6666666666666666,
             "#ed7953"
            ],
            [
             0.7777777777777778,
             "#fb9f3a"
            ],
            [
             0.8888888888888888,
             "#fdca26"
            ],
            [
             1,
             "#f0f921"
            ]
           ]
          },
          "colorway": [
           "#636efa",
           "#EF553B",
           "#00cc96",
           "#ab63fa",
           "#FFA15A",
           "#19d3f3",
           "#FF6692",
           "#B6E880",
           "#FF97FF",
           "#FECB52"
          ],
          "font": {
           "color": "#2a3f5f"
          },
          "geo": {
           "bgcolor": "white",
           "lakecolor": "white",
           "landcolor": "#E5ECF6",
           "showlakes": true,
           "showland": true,
           "subunitcolor": "white"
          },
          "hoverlabel": {
           "align": "left"
          },
          "hovermode": "closest",
          "mapbox": {
           "style": "light"
          },
          "paper_bgcolor": "white",
          "plot_bgcolor": "#E5ECF6",
          "polar": {
           "angularaxis": {
            "gridcolor": "white",
            "linecolor": "white",
            "ticks": ""
           },
           "bgcolor": "#E5ECF6",
           "radialaxis": {
            "gridcolor": "white",
            "linecolor": "white",
            "ticks": ""
           }
          },
          "scene": {
           "xaxis": {
            "backgroundcolor": "#E5ECF6",
            "gridcolor": "white",
            "gridwidth": 2,
            "linecolor": "white",
            "showbackground": true,
            "ticks": "",
            "zerolinecolor": "white"
           },
           "yaxis": {
            "backgroundcolor": "#E5ECF6",
            "gridcolor": "white",
            "gridwidth": 2,
            "linecolor": "white",
            "showbackground": true,
            "ticks": "",
            "zerolinecolor": "white"
           },
           "zaxis": {
            "backgroundcolor": "#E5ECF6",
            "gridcolor": "white",
            "gridwidth": 2,
            "linecolor": "white",
            "showbackground": true,
            "ticks": "",
            "zerolinecolor": "white"
           }
          },
          "shapedefaults": {
           "line": {
            "color": "#2a3f5f"
           }
          },
          "ternary": {
           "aaxis": {
            "gridcolor": "white",
            "linecolor": "white",
            "ticks": ""
           },
           "baxis": {
            "gridcolor": "white",
            "linecolor": "white",
            "ticks": ""
           },
           "bgcolor": "#E5ECF6",
           "caxis": {
            "gridcolor": "white",
            "linecolor": "white",
            "ticks": ""
           }
          },
          "title": {
           "x": 0.05
          },
          "xaxis": {
           "automargin": true,
           "gridcolor": "white",
           "linecolor": "white",
           "ticks": "",
           "title": {
            "standoff": 15
           },
           "zerolinecolor": "white",
           "zerolinewidth": 2
          },
          "yaxis": {
           "automargin": true,
           "gridcolor": "white",
           "linecolor": "white",
           "ticks": "",
           "title": {
            "standoff": 15
           },
           "zerolinecolor": "white",
           "zerolinewidth": 2
          }
         }
        },
        "title": {
         "text": "Scatter Plot: runs vs wickets, Size = catches"
        },
        "xaxis": {
         "anchor": "y",
         "domain": [
          0,
          1
         ],
         "title": {
          "text": "runs"
         }
        },
        "yaxis": {
         "anchor": "x",
         "domain": [
          0,
          1
         ],
         "title": {
          "text": "wickets"
         }
        }
       }
      },
      "text/html": [
       "<div>                            <div id=\"38c075df-d491-40c7-a654-cd4bf1477ecc\" class=\"plotly-graph-div\" style=\"height:525px; width:100%;\"></div>            <script type=\"text/javascript\">                require([\"plotly\"], function(Plotly) {                    window.PLOTLYENV=window.PLOTLYENV || {};                                    if (document.getElementById(\"38c075df-d491-40c7-a654-cd4bf1477ecc\")) {                    Plotly.newPlot(                        \"38c075df-d491-40c7-a654-cd4bf1477ecc\",                        [{\"customdata\": [[\"A Ashish Reddy\"], [\"A Symonds\"], [\"AA Jhunjhunwala\"], [\"AB Agarkar\"], [\"AC Gilchrist\"], [\"AD Mascarenhas\"], [\"AD Mathews\"], [\"AD Nath\"], [\"AD Russell\"], [\"AJ Finch\"], [\"AJ Tye\"], [\"AL Menaria\"], [\"AM Nayar\"], [\"AP Tare\"], [\"AS Raut\"], [\"Abhishek Sharma\"], [\"Ankit Sharma\"], [\"Azhar Mahmood\"], [\"B Akhil\"], [\"B Chipli\"], [\"B Lee\"], [\"BA Stokes\"], [\"BB McCullum\"], [\"BCJ Cutting\"], [\"BJ Hodge\"], [\"Bipul Sharma\"], [\"C Munro\"], [\"C de Grandhomme\"], [\"CA Ingram\"], [\"CA Lynn\"], [\"CA Pujara\"], [\"CH Morris\"], [\"CJ Anderson\"], [\"CL White\"], [\"CM Gautam\"], [\"CR Brathwaite\"], [\"CR Woakes\"], [\"D Padikkal\"], [\"DA Miller\"], [\"DB Das\"], [\"DB Ravi Teja\"], [\"DH Yagnik\"], [\"DJ Hooda\"], [\"DJ Hussey\"], [\"DJG Sammy\"], [\"DL Chahar\"], [\"DL Vettori\"], [\"DPMD Jayawardene\"], [\"DR Smith\"], [\"DT Christian\"], [\"E Lewis\"], [\"EJG Morgan\"], [\"F du Plessis\"], [\"FY Fazal\"], [\"GC Smith\"], [\"GH Vihari\"], [\"GJ Bailey\"], [\"GJ Maxwell\"], [\"Gurkeerat Singh\"], [\"HH Gibbs\"], [\"HH Pandya\"], [\"HM Amla\"], [\"HV Patel\"], [\"Iqbal Abdulla\"], [\"Ishan Kishan\"], [\"J Botha\"], [\"JC Archer\"], [\"JC Buttler\"], [\"JD Ryder\"], [\"JDP Oram\"], [\"JEC Franklin\"], [\"JH Kallis\"], [\"JM Bairstow\"], [\"JP Duminy\"], [\"JP Faulkner\"], [\"JR Hopes\"], [\"K Goel\"], [\"K Gowtham\"], [\"K Rabada\"], [\"KC Sangakkara\"], [\"KH Pandya\"], [\"KK Cooper\"], [\"KK Nair\"], [\"KL Rahul\"], [\"KM Jadhav\"], [\"KP Pietersen\"], [\"KS Williamson\"], [\"LA Pomersbach\"], [\"LMP Simmons\"], [\"LR Shukla\"], [\"LRPL Taylor\"], [\"M Kaif\"], [\"M Manhas\"], [\"M Morkel\"], [\"M Rawat\"], [\"M Vijay\"], [\"M Vohra\"], [\"MA Agarwal\"], [\"MA Starc\"], [\"MC Henriques\"], [\"MD Mishra\"], [\"MEK Hussey\"], [\"MF Maharoof\"], [\"MJ Guptill\"], [\"MJ Lumb\"], [\"MK Tiwary\"], [\"ML Hayden\"], [\"MM Ali\"], [\"MN Samuels\"], [\"MP Stoinis\"], [\"MR Marsh\"], [\"MS Bisla\"], [\"MS Gony\"], [\"MV Boucher\"], [\"Mandeep Singh\"], [\"Mohammad Nabi\"], [\"N Pooran\"], [\"N Rana\"], [\"N Saini\"], [\"NLTC Perera\"], [\"NM Coulter-Nile\"], [\"NV Ojha\"], [\"OA Shah\"], [\"P Dogra\"], [\"P Negi\"], [\"PA Reddy\"], [\"PC Valthaty\"], [\"PJ Cummins\"], [\"PK Garg\"], [\"PP Shaw\"], [\"Q de Kock\"], [\"R Bhatia\"], [\"R Dhawan\"], [\"R Dravid\"], [\"R McLaren\"], [\"R Parag\"], [\"R Sathish\"], [\"R Tewatia\"], [\"RA Tripathi\"], [\"RE van der Merwe\"], [\"RJ Harris\"], [\"RN ten Doeschate\"], [\"RR Pant\"], [\"RS Bopara\"], [\"Rashid Khan\"], [\"S Anirudha\"], [\"S Aravind\"], [\"S Badrinath\"], [\"S Dube\"], [\"S Gopal\"], [\"S Sohal\"], [\"SA Asnodkar\"], [\"SA Yadav\"], [\"SB Styris\"], [\"SC Ganguly\"], [\"SE Marsh\"], [\"SM Curran\"], [\"SM Katich\"], [\"SN Khan\"], [\"SO Hetmyer\"], [\"SP Fleming\"], [\"SP Goswami\"], [\"SPD Smith\"], [\"SR Tendulkar\"], [\"SS Iyer\"], [\"SS Tiwary\"], [\"ST Jayasuriya\"], [\"STR Binny\"], [\"SV Samson\"], [\"SW Billings\"], [\"Sachin Baby\"], [\"Shakib Al Hasan\"], [\"Shubman Gill\"], [\"TG Southee\"], [\"TL Suman\"], [\"TM Dilshan\"], [\"TM Head\"], [\"UBT Chand\"], [\"V Sehwag\"], [\"V Shankar\"], [\"VVS Laxman\"], [\"WP Saha\"], [\"WPUJC Vaas\"], [\"Washington Sundar\"], [\"Y Nagar\"], [\"Y Venugopal Rao\"], [\"YV Takawale\"], [\"Yuvraj Singh\"]], \"hovertemplate\": \"cluster_hier=Cluster 0<br>runs=%{x}<br>wickets=%{y}<br>catches=%{marker.size}<br>name=%{customdata[0]}<extra></extra>\", \"legendgroup\": \"Cluster 0\", \"marker\": {\"color\": \"#FD3216\", \"size\": [9.0, 21.0, 10.0, 5.0, 51.0, 3.0, 19.0, 2.0, 23.0, 27.0, 7.0, 5.0, 13.0, 3.0, 9.0, 3.0, 4.0, 8.0, 3.0, 3.0, 10.0, 20.0, 37.0, 10.0, 22.0, 7.0, 4.0, 6.0, 1.0, 10.0, 6.0, 34.0, 11.0, 22.0, 3.0, 5.0, 7.0, 8.0, 49.0, 7.0, 11.0, 12.0, 25.0, 25.0, 9.0, 7.0, 11.0, 32.0, 41.0, 19.0, 6.0, 27.0, 54.0, 6.0, 7.0, 6.0, 11.0, 30.0, 19.0, 22.0, 49.0, 0.0, 12.0, 14.0, 16.0, 18.0, 9.0, 31.0, 10.0, 8.0, 6.0, 31.0, 16.0, 30.0, 16.0, 6.0, 9.0, 10.0, 14.0, 45.0, 22.0, 12.0, 22.0, 39.0, 28.0, 12.0, 22.0, 7.0, 10.0, 14.0, 18.0, 15.0, 20.0, 11.0, 16.0, 47.0, 13.0, 35.0, 16.0, 27.0, 1.0, 26.0, 4.0, 7.0, 5.0, 46.0, 11.0, 4.0, 2.0, 10.0, 7.0, 20.0, 6.0, 14.0, 36.0, 6.0, 8.0, 11.0, 11.0, 12.0, 10.0, 65.0, 7.0, 4.0, 15.0, 2.0, 3.0, 5.0, 6.0, 10.0, 49.0, 25.0, 6.0, 18.0, 5.0, 6.0, 6.0, 17.0, 15.0, 8.0, 20.0, 8.0, 46.0, 7.0, 18.0, 11.0, 8.0, 16.0, 3.0, 11.0, 2.0, 6.0, 48.0, 2.0, 22.0, 26.0, 9.0, 2.0, 4.0, 10.0, 2.0, 17.0, 44.0, 23.0, 28.0, 24.0, 4.0, 19.0, 52.0, 13.0, 5.0, 11.0, 17.0, 17.0, 10.0, 20.0, 3.0, 8.0, 34.0, 18.0, 4.0, 62.0, 0.0, 7.0, 6.0, 13.0, 13.0, 31.0], \"sizemode\": \"area\", \"sizeref\": 0.295, \"symbol\": \"circle\"}, \"mode\": \"markers\", \"name\": \"Cluster 0\", \"orientation\": \"v\", \"showlegend\": true, \"type\": \"scatter\", \"x\": [280.0, 974.0, 217.0, 179.0, 2069.0, 79.0, 724.0, 90.0, 1517.0, 2005.0, 91.0, 401.0, 672.0, 339.0, 194.0, 143.0, 87.0, 388.0, 76.0, 280.0, 124.0, 920.0, 2880.0, 238.0, 1400.0, 187.0, 177.0, 303.0, 205.0, 1280.0, 390.0, 551.0, 538.0, 954.0, 169.0, 181.0, 63.0, 473.0, 1850.0, 304.0, 375.0, 170.0, 625.0, 1322.0, 295.0, 78.0, 121.0, 1802.0, 2385.0, 446.0, 430.0, 1272.0, 2302.0, 183.0, 739.0, 284.0, 663.0, 1505.0, 511.0, 886.0, 1349.0, 577.0, 128.0, 88.0, 1211.0, 409.0, 195.0, 1714.0, 604.0, 106.0, 327.0, 2427.0, 790.0, 2029.0, 527.0, 417.0, 218.0, 186.0, 125.0, 1687.0, 1000.0, 116.0, 1480.0, 2647.0, 1141.0, 1001.0, 1619.0, 302.0, 1079.0, 405.0, 1017.0, 259.0, 514.0, 126.0, 55.0, 2619.0, 1012.0, 1690.0, 96.0, 969.0, 237.0, 1977.0, 177.0, 270.0, 278.0, 1695.0, 1107.0, 309.0, 161.0, 825.0, 225.0, 798.0, 99.0, 394.0, 1659.0, 146.0, 521.0, 1437.0, 140.0, 422.0, 77.0, 1554.0, 506.0, 127.0, 365.0, 164.0, 505.0, 223.0, 133.0, 826.0, 1959.0, 342.0, 153.0, 2174.0, 159.0, 246.0, 270.0, 366.0, 988.0, 159.0, 117.0, 326.0, 2079.0, 531.0, 139.0, 136.0, 59.0, 1441.0, 169.0, 164.0, 368.0, 423.0, 2024.0, 131.0, 1349.0, 2477.0, 281.0, 241.0, 441.0, 275.0, 196.0, 293.0, 2333.0, 2334.0, 2200.0, 1379.0, 768.0, 880.0, 2584.0, 334.0, 137.0, 746.0, 939.0, 115.0, 676.0, 1153.0, 205.0, 300.0, 2728.0, 654.0, 282.0, 1979.0, 81.0, 186.0, 285.0, 985.0, 192.0, 2750.0], \"xaxis\": \"x\", \"y\": [18.0, 20.0, 1.0, 29.0, 1.0, 19.0, 27.0, 0.0, 61.0, 1.0, 40.0, 3.0, 9.0, 0.0, 0.0, 3.0, 12.0, 29.0, 6.0, 0.0, 25.0, 28.0, 0.0, 10.0, 17.0, 17.0, 0.0, 6.0, 0.0, 0.0, 0.0, 80.0, 11.0, 1.0, 0.0, 13.0, 25.0, 0.0, 0.0, 0.0, 1.0, 0.0, 7.0, 8.0, 11.0, 45.0, 28.0, 0.0, 26.0, 34.0, 0.0, 0.0, 0.0, 0.0, 0.0, 1.0, 0.0, 19.0, 5.0, 0.0, 42.0, 0.0, 46.0, 40.0, 0.0, 25.0, 46.0, 0.0, 8.0, 9.0, 9.0, 65.0, 0.0, 23.0, 59.0, 14.0, 0.0, 13.0, 61.0, 0.0, 46.0, 33.0, 0.0, 0.0, 0.0, 7.0, 0.0, 0.0, 1.0, 15.0, 0.0, 0.0, 0.0, 77.0, 0.0, 0.0, 0.0, 0.0, 34.0, 38.0, 0.0, 0.0, 27.0, 0.0, 0.0, 1.0, 0.0, 10.0, 9.0, 28.0, 20.0, 0.0, 37.0, 0.0, 0.0, 11.0, 0.0, 7.0, 0.0, 31.0, 41.0, 0.0, 0.0, 0.0, 34.0, 0.0, 7.0, 29.0, 0.0, 0.0, 0.0, 71.0, 18.0, 0.0, 12.0, 2.0, 3.0, 24.0, 0.0, 21.0, 45.0, 2.0, 0.0, 11.0, 75.0, 0.0, 45.0, 0.0, 4.0, 48.0, 0.0, 0.0, 0.0, 8.0, 10.0, 0.0, 23.0, 0.0, 0.0, 0.0, 0.0, 0.0, 0.0, 0.0, 0.0, 0.0, 13.0, 22.0, 0.0, 0.0, 2.0, 59.0, 0.0, 28.0, 6.0, 5.0, 2.0, 0.0, 6.0, 6.0, 0.0, 0.0, 18.0, 24.0, 4.0, 6.0, 0.0, 36.0], \"yaxis\": \"y\"}, {\"customdata\": [[\"A Kumble\"], [\"A Nehra\"], [\"AB Dinda\"], [\"DS Kulkarni\"], [\"I Sharma\"], [\"JD Unadkat\"], [\"JJ Bumrah\"], [\"KV Sharma\"], [\"Kuldeep Yadav\"], [\"L Balaji\"], [\"M Kartik\"], [\"MG Johnson\"], [\"MJ McClenaghan\"], [\"MM Patel\"], [\"MM Sharma\"], [\"Mohammed Shami\"], [\"PJ Sangwan\"], [\"PP Ojha\"], [\"R Sharma\"], [\"RP Singh\"], [\"S Nadeem\"], [\"S Sreesanth\"], [\"SK Trivedi\"], [\"SK Warne\"], [\"Sandeep Sharma\"], [\"VR Aaron\"], [\"WD Parnell\"], [\"YS Chahal\"], [\"Z Khan\"]], \"hovertemplate\": \"cluster_hier=Cluster 1<br>runs=%{x}<br>wickets=%{y}<br>catches=%{marker.size}<br>name=%{customdata[0]}<extra></extra>\", \"legendgroup\": \"Cluster 1\", \"marker\": {\"color\": \"#00FE35\", \"size\": [10.0, 19.0, 7.0, 22.0, 16.0, 23.0, 9.0, 14.0, 13.0, 11.0, 20.0, 15.0, 1.0, 15.0, 18.0, 10.0, 6.0, 14.0, 12.0, 29.0, 15.0, 3.0, 14.0, 16.0, 11.0, 3.0, 5.0, 20.0, 21.0], \"sizemode\": \"area\", \"sizeref\": 0.295, \"symbol\": \"circle\"}, \"mode\": \"markers\", \"name\": \"Cluster 1\", \"orientation\": \"v\", \"showlegend\": true, \"type\": \"scatter\", \"x\": [35.0, 41.0, 26.0, 104.0, 55.0, 64.0, 40.0, 317.0, 57.0, 36.0, 113.0, 167.0, 85.0, 39.0, 122.0, 56.0, 24.0, 16.0, 66.0, 52.0, 39.0, 34.0, 42.0, 198.0, 44.0, 50.0, 63.0, 22.0, 117.0], \"xaxis\": \"x\", \"y\": [45.0, 106.0, 69.0, 86.0, 71.0, 81.0, 109.0, 59.0, 40.0, 76.0, 31.0, 61.0, 71.0, 74.0, 92.0, 60.0, 35.0, 89.0, 40.0, 90.0, 47.0, 40.0, 65.0, 57.0, 109.0, 42.0, 26.0, 121.0, 102.0], \"yaxis\": \"y\"}, {\"customdata\": [[\"A Mishra\"], [\"AR Patel\"], [\"B Kumar\"], [\"DJ Bravo\"], [\"DW Steyn\"], [\"Harbhajan Singh\"], [\"IK Pathan\"], [\"JA Morkel\"], [\"P Kumar\"], [\"PP Chawla\"], [\"R Ashwin\"], [\"R Vinay Kumar\"], [\"RA Jadeja\"], [\"SL Malinga\"], [\"SP Narine\"], [\"UT Yadav\"]], \"hovertemplate\": \"cluster_hier=Cluster 2<br>runs=%{x}<br>wickets=%{y}<br>catches=%{marker.size}<br>name=%{customdata[0]}<extra></extra>\", \"legendgroup\": \"Cluster 2\", \"marker\": {\"color\": \"#6A76FC\", \"size\": [21.0, 40.0, 27.0, 75.0, 24.0, 48.0, 31.0, 19.0, 14.0, 40.0, 34.0, 35.0, 68.0, 21.0, 19.0, 29.0], \"sizemode\": \"area\", \"sizeref\": 0.295, \"symbol\": \"circle\"}, \"mode\": \"markers\", \"name\": \"Cluster 2\", \"orientation\": \"v\", \"showlegend\": true, \"type\": \"scatter\", \"x\": [362.0, 913.0, 183.0, 1490.0, 167.0, 829.0, 1139.0, 974.0, 340.0, 584.0, 412.0, 310.0, 2159.0, 88.0, 892.0, 122.0], \"xaxis\": \"x\", \"y\": [160.0, 80.0, 136.0, 153.0, 97.0, 150.0, 80.0, 85.0, 90.0, 156.0, 138.0, 105.0, 114.0, 170.0, 127.0, 119.0], \"yaxis\": \"y\"}, {\"customdata\": [[\"AB de Villiers\"], [\"AM Rahane\"], [\"AT Rayudu\"], [\"DA Warner\"], [\"G Gambhir\"], [\"KD Karthik\"], [\"MK Pandey\"], [\"MS Dhoni\"], [\"PA Patel\"], [\"RG Sharma\"], [\"RV Uthappa\"], [\"S Dhawan\"], [\"SK Raina\"], [\"V Kohli\"]], \"hovertemplate\": \"cluster_hier=Cluster 3<br>runs=%{x}<br>wickets=%{y}<br>catches=%{marker.size}<br>name=%{customdata[0]}<extra></extra>\", \"legendgroup\": \"Cluster 3\", \"marker\": {\"color\": \"#FED4C4\", \"size\": [103.0, 58.0, 56.0, 66.0, 28.0, 118.0, 70.0, 113.0, 69.0, 89.0, 87.0, 73.0, 102.0, 76.0], \"sizemode\": \"area\", \"sizeref\": 0.295, \"symbol\": \"circle\"}, \"mode\": \"markers\", \"name\": \"Cluster 3\", \"orientation\": \"v\", \"showlegend\": true, \"type\": \"scatter\", \"x\": [4849.0, 3933.0, 3659.0, 5254.0, 4217.0, 3823.0, 3268.0, 4632.0, 2848.0, 5230.0, 4607.0, 5197.0, 5368.0, 5878.0], \"xaxis\": \"x\", \"y\": [0.0, 1.0, 0.0, 0.0, 0.0, 0.0, 0.0, 0.0, 0.0, 15.0, 0.0, 4.0, 25.0, 4.0], \"yaxis\": \"y\"}, {\"customdata\": [[\"CH Gayle\"], [\"KA Pollard\"], [\"SR Watson\"], [\"YK Pathan\"]], \"hovertemplate\": \"cluster_hier=Cluster 4<br>runs=%{x}<br>wickets=%{y}<br>catches=%{marker.size}<br>name=%{customdata[0]}<extra></extra>\", \"legendgroup\": \"Cluster 4\", \"marker\": {\"color\": \"#FE00CE\", \"size\": [26.0, 90.0, 40.0, 43.0], \"sizemode\": \"area\", \"sizeref\": 0.295, \"symbol\": \"circle\"}, \"mode\": \"markers\", \"name\": \"Cluster 4\", \"orientation\": \"v\", \"showlegend\": true, \"type\": \"scatter\", \"x\": [4772.0, 3023.0, 3874.0, 3204.0], \"xaxis\": \"x\", \"y\": [18.0, 60.0, 92.0, 42.0], \"yaxis\": \"y\"}],                        {\"legend\": {\"itemsizing\": \"constant\", \"title\": {\"text\": \"cluster_hier\"}, \"tracegroupgap\": 0}, \"template\": {\"data\": {\"bar\": [{\"error_x\": {\"color\": \"#2a3f5f\"}, \"error_y\": {\"color\": \"#2a3f5f\"}, \"marker\": {\"line\": {\"color\": \"#E5ECF6\", \"width\": 0.5}}, \"type\": \"bar\"}], \"barpolar\": [{\"marker\": {\"line\": {\"color\": \"#E5ECF6\", \"width\": 0.5}}, \"type\": \"barpolar\"}], \"carpet\": [{\"aaxis\": {\"endlinecolor\": \"#2a3f5f\", \"gridcolor\": \"white\", \"linecolor\": \"white\", \"minorgridcolor\": \"white\", \"startlinecolor\": \"#2a3f5f\"}, \"baxis\": {\"endlinecolor\": \"#2a3f5f\", \"gridcolor\": \"white\", \"linecolor\": \"white\", \"minorgridcolor\": \"white\", \"startlinecolor\": \"#2a3f5f\"}, \"type\": \"carpet\"}], \"choropleth\": [{\"colorbar\": {\"outlinewidth\": 0, \"ticks\": \"\"}, \"type\": \"choropleth\"}], \"contour\": [{\"colorbar\": {\"outlinewidth\": 0, \"ticks\": \"\"}, \"colorscale\": [[0.0, \"#0d0887\"], [0.1111111111111111, \"#46039f\"], [0.2222222222222222, \"#7201a8\"], [0.3333333333333333, \"#9c179e\"], [0.4444444444444444, \"#bd3786\"], [0.5555555555555556, \"#d8576b\"], [0.6666666666666666, \"#ed7953\"], [0.7777777777777778, \"#fb9f3a\"], [0.8888888888888888, \"#fdca26\"], [1.0, \"#f0f921\"]], \"type\": \"contour\"}], \"contourcarpet\": [{\"colorbar\": {\"outlinewidth\": 0, \"ticks\": \"\"}, \"type\": \"contourcarpet\"}], \"heatmap\": [{\"colorbar\": {\"outlinewidth\": 0, \"ticks\": \"\"}, \"colorscale\": [[0.0, \"#0d0887\"], [0.1111111111111111, \"#46039f\"], [0.2222222222222222, \"#7201a8\"], [0.3333333333333333, \"#9c179e\"], [0.4444444444444444, \"#bd3786\"], [0.5555555555555556, \"#d8576b\"], [0.6666666666666666, \"#ed7953\"], [0.7777777777777778, \"#fb9f3a\"], [0.8888888888888888, \"#fdca26\"], [1.0, \"#f0f921\"]], \"type\": \"heatmap\"}], \"heatmapgl\": [{\"colorbar\": {\"outlinewidth\": 0, \"ticks\": \"\"}, \"colorscale\": [[0.0, \"#0d0887\"], [0.1111111111111111, \"#46039f\"], [0.2222222222222222, \"#7201a8\"], [0.3333333333333333, \"#9c179e\"], [0.4444444444444444, \"#bd3786\"], [0.5555555555555556, \"#d8576b\"], [0.6666666666666666, \"#ed7953\"], [0.7777777777777778, \"#fb9f3a\"], [0.8888888888888888, \"#fdca26\"], [1.0, \"#f0f921\"]], \"type\": \"heatmapgl\"}], \"histogram\": [{\"marker\": {\"colorbar\": {\"outlinewidth\": 0, \"ticks\": \"\"}}, \"type\": \"histogram\"}], \"histogram2d\": [{\"colorbar\": {\"outlinewidth\": 0, \"ticks\": \"\"}, \"colorscale\": [[0.0, \"#0d0887\"], [0.1111111111111111, \"#46039f\"], [0.2222222222222222, \"#7201a8\"], [0.3333333333333333, \"#9c179e\"], [0.4444444444444444, \"#bd3786\"], [0.5555555555555556, \"#d8576b\"], [0.6666666666666666, \"#ed7953\"], [0.7777777777777778, \"#fb9f3a\"], [0.8888888888888888, \"#fdca26\"], [1.0, \"#f0f921\"]], \"type\": \"histogram2d\"}], \"histogram2dcontour\": [{\"colorbar\": {\"outlinewidth\": 0, \"ticks\": \"\"}, \"colorscale\": [[0.0, \"#0d0887\"], [0.1111111111111111, \"#46039f\"], [0.2222222222222222, \"#7201a8\"], [0.3333333333333333, \"#9c179e\"], [0.4444444444444444, \"#bd3786\"], [0.5555555555555556, \"#d8576b\"], [0.6666666666666666, \"#ed7953\"], [0.7777777777777778, \"#fb9f3a\"], [0.8888888888888888, \"#fdca26\"], [1.0, \"#f0f921\"]], \"type\": \"histogram2dcontour\"}], \"mesh3d\": [{\"colorbar\": {\"outlinewidth\": 0, \"ticks\": \"\"}, \"type\": \"mesh3d\"}], \"parcoords\": [{\"line\": {\"colorbar\": {\"outlinewidth\": 0, \"ticks\": \"\"}}, \"type\": \"parcoords\"}], \"pie\": [{\"automargin\": true, \"type\": \"pie\"}], \"scatter\": [{\"marker\": {\"colorbar\": {\"outlinewidth\": 0, \"ticks\": \"\"}}, \"type\": \"scatter\"}], \"scatter3d\": [{\"line\": {\"colorbar\": {\"outlinewidth\": 0, \"ticks\": \"\"}}, \"marker\": {\"colorbar\": {\"outlinewidth\": 0, \"ticks\": \"\"}}, \"type\": \"scatter3d\"}], \"scattercarpet\": [{\"marker\": {\"colorbar\": {\"outlinewidth\": 0, \"ticks\": \"\"}}, \"type\": \"scattercarpet\"}], \"scattergeo\": [{\"marker\": {\"colorbar\": {\"outlinewidth\": 0, \"ticks\": \"\"}}, \"type\": \"scattergeo\"}], \"scattergl\": [{\"marker\": {\"colorbar\": {\"outlinewidth\": 0, \"ticks\": \"\"}}, \"type\": \"scattergl\"}], \"scattermapbox\": [{\"marker\": {\"colorbar\": {\"outlinewidth\": 0, \"ticks\": \"\"}}, \"type\": \"scattermapbox\"}], \"scatterpolar\": [{\"marker\": {\"colorbar\": {\"outlinewidth\": 0, \"ticks\": \"\"}}, \"type\": \"scatterpolar\"}], \"scatterpolargl\": [{\"marker\": {\"colorbar\": {\"outlinewidth\": 0, \"ticks\": \"\"}}, \"type\": \"scatterpolargl\"}], \"scatterternary\": [{\"marker\": {\"colorbar\": {\"outlinewidth\": 0, \"ticks\": \"\"}}, \"type\": \"scatterternary\"}], \"surface\": [{\"colorbar\": {\"outlinewidth\": 0, \"ticks\": \"\"}, \"colorscale\": [[0.0, \"#0d0887\"], [0.1111111111111111, \"#46039f\"], [0.2222222222222222, \"#7201a8\"], [0.3333333333333333, \"#9c179e\"], [0.4444444444444444, \"#bd3786\"], [0.5555555555555556, \"#d8576b\"], [0.6666666666666666, \"#ed7953\"], [0.7777777777777778, \"#fb9f3a\"], [0.8888888888888888, \"#fdca26\"], [1.0, \"#f0f921\"]], \"type\": \"surface\"}], \"table\": [{\"cells\": {\"fill\": {\"color\": \"#EBF0F8\"}, \"line\": {\"color\": \"white\"}}, \"header\": {\"fill\": {\"color\": \"#C8D4E3\"}, \"line\": {\"color\": \"white\"}}, \"type\": \"table\"}]}, \"layout\": {\"annotationdefaults\": {\"arrowcolor\": \"#2a3f5f\", \"arrowhead\": 0, \"arrowwidth\": 1}, \"coloraxis\": {\"colorbar\": {\"outlinewidth\": 0, \"ticks\": \"\"}}, \"colorscale\": {\"diverging\": [[0, \"#8e0152\"], [0.1, \"#c51b7d\"], [0.2, \"#de77ae\"], [0.3, \"#f1b6da\"], [0.4, \"#fde0ef\"], [0.5, \"#f7f7f7\"], [0.6, \"#e6f5d0\"], [0.7, \"#b8e186\"], [0.8, \"#7fbc41\"], [0.9, \"#4d9221\"], [1, \"#276419\"]], \"sequential\": [[0.0, \"#0d0887\"], [0.1111111111111111, \"#46039f\"], [0.2222222222222222, \"#7201a8\"], [0.3333333333333333, \"#9c179e\"], [0.4444444444444444, \"#bd3786\"], [0.5555555555555556, \"#d8576b\"], [0.6666666666666666, \"#ed7953\"], [0.7777777777777778, \"#fb9f3a\"], [0.8888888888888888, \"#fdca26\"], [1.0, \"#f0f921\"]], \"sequentialminus\": [[0.0, \"#0d0887\"], [0.1111111111111111, \"#46039f\"], [0.2222222222222222, \"#7201a8\"], [0.3333333333333333, \"#9c179e\"], [0.4444444444444444, \"#bd3786\"], [0.5555555555555556, \"#d8576b\"], [0.6666666666666666, \"#ed7953\"], [0.7777777777777778, \"#fb9f3a\"], [0.8888888888888888, \"#fdca26\"], [1.0, \"#f0f921\"]]}, \"colorway\": [\"#636efa\", \"#EF553B\", \"#00cc96\", \"#ab63fa\", \"#FFA15A\", \"#19d3f3\", \"#FF6692\", \"#B6E880\", \"#FF97FF\", \"#FECB52\"], \"font\": {\"color\": \"#2a3f5f\"}, \"geo\": {\"bgcolor\": \"white\", \"lakecolor\": \"white\", \"landcolor\": \"#E5ECF6\", \"showlakes\": true, \"showland\": true, \"subunitcolor\": \"white\"}, \"hoverlabel\": {\"align\": \"left\"}, \"hovermode\": \"closest\", \"mapbox\": {\"style\": \"light\"}, \"paper_bgcolor\": \"white\", \"plot_bgcolor\": \"#E5ECF6\", \"polar\": {\"angularaxis\": {\"gridcolor\": \"white\", \"linecolor\": \"white\", \"ticks\": \"\"}, \"bgcolor\": \"#E5ECF6\", \"radialaxis\": {\"gridcolor\": \"white\", \"linecolor\": \"white\", \"ticks\": \"\"}}, \"scene\": {\"xaxis\": {\"backgroundcolor\": \"#E5ECF6\", \"gridcolor\": \"white\", \"gridwidth\": 2, \"linecolor\": \"white\", \"showbackground\": true, \"ticks\": \"\", \"zerolinecolor\": \"white\"}, \"yaxis\": {\"backgroundcolor\": \"#E5ECF6\", \"gridcolor\": \"white\", \"gridwidth\": 2, \"linecolor\": \"white\", \"showbackground\": true, \"ticks\": \"\", \"zerolinecolor\": \"white\"}, \"zaxis\": {\"backgroundcolor\": \"#E5ECF6\", \"gridcolor\": \"white\", \"gridwidth\": 2, \"linecolor\": \"white\", \"showbackground\": true, \"ticks\": \"\", \"zerolinecolor\": \"white\"}}, \"shapedefaults\": {\"line\": {\"color\": \"#2a3f5f\"}}, \"ternary\": {\"aaxis\": {\"gridcolor\": \"white\", \"linecolor\": \"white\", \"ticks\": \"\"}, \"baxis\": {\"gridcolor\": \"white\", \"linecolor\": \"white\", \"ticks\": \"\"}, \"bgcolor\": \"#E5ECF6\", \"caxis\": {\"gridcolor\": \"white\", \"linecolor\": \"white\", \"ticks\": \"\"}}, \"title\": {\"x\": 0.05}, \"xaxis\": {\"automargin\": true, \"gridcolor\": \"white\", \"linecolor\": \"white\", \"ticks\": \"\", \"title\": {\"standoff\": 15}, \"zerolinecolor\": \"white\", \"zerolinewidth\": 2}, \"yaxis\": {\"automargin\": true, \"gridcolor\": \"white\", \"linecolor\": \"white\", \"ticks\": \"\", \"title\": {\"standoff\": 15}, \"zerolinecolor\": \"white\", \"zerolinewidth\": 2}}}, \"title\": {\"text\": \"Scatter Plot: runs vs wickets, Size = catches\"}, \"xaxis\": {\"anchor\": \"y\", \"domain\": [0.0, 1.0], \"title\": {\"text\": \"runs\"}}, \"yaxis\": {\"anchor\": \"x\", \"domain\": [0.0, 1.0], \"title\": {\"text\": \"wickets\"}}},                        {\"responsive\": true}                    ).then(function(){\n",
       "                            \n",
       "var gd = document.getElementById('38c075df-d491-40c7-a654-cd4bf1477ecc');\n",
       "var x = new MutationObserver(function (mutations, observer) {{\n",
       "        var display = window.getComputedStyle(gd).display;\n",
       "        if (!display || display === 'none') {{\n",
       "            console.log([gd, 'removed!']);\n",
       "            Plotly.purge(gd);\n",
       "            observer.disconnect();\n",
       "        }}\n",
       "}});\n",
       "\n",
       "// Listen for the removal of the full notebook cells\n",
       "var notebookContainer = gd.closest('#notebook-container');\n",
       "if (notebookContainer) {{\n",
       "    x.observe(notebookContainer, {childList: true});\n",
       "}}\n",
       "\n",
       "// Listen for the clearing of the current output cell\n",
       "var outputEl = gd.closest('.output');\n",
       "if (outputEl) {{\n",
       "    x.observe(outputEl, {childList: true});\n",
       "}}\n",
       "\n",
       "                        })                };                });            </script>        </div>"
      ]
     },
     "metadata": {},
     "output_type": "display_data"
    }
   ],
   "source": [
    "plot_clusters('runs','wickets','cluster_hier','catches')"
   ]
  },
  {
   "cell_type": "code",
   "execution_count": 414,
   "metadata": {
    "ExecuteTime": {
     "end_time": "2021-05-25T15:06:16.942884Z",
     "start_time": "2021-05-25T15:06:16.874817Z"
    }
   },
   "outputs": [
    {
     "data": {
      "application/vnd.plotly.v1+json": {
       "config": {
        "plotlyServerURL": "https://plot.ly"
       },
       "data": [
        {
         "customdata": [
          [
           "A Ashish Reddy"
          ],
          [
           "A Kumble"
          ],
          [
           "A Mishra"
          ],
          [
           "A Nehra"
          ],
          [
           "A Symonds"
          ],
          [
           "AA Jhunjhunwala"
          ],
          [
           "AB Agarkar"
          ],
          [
           "AB Dinda"
          ],
          [
           "AB de Villiers"
          ],
          [
           "AC Gilchrist"
          ],
          [
           "AD Mascarenhas"
          ],
          [
           "AD Mathews"
          ],
          [
           "AD Nath"
          ],
          [
           "AD Russell"
          ],
          [
           "AJ Finch"
          ],
          [
           "AJ Tye"
          ],
          [
           "AL Menaria"
          ],
          [
           "AM Nayar"
          ],
          [
           "AM Rahane"
          ],
          [
           "AP Tare"
          ],
          [
           "AR Patel"
          ],
          [
           "AS Raut"
          ],
          [
           "AT Rayudu"
          ],
          [
           "Abhishek Sharma"
          ],
          [
           "Ankit Sharma"
          ],
          [
           "Azhar Mahmood"
          ],
          [
           "B Akhil"
          ],
          [
           "B Chipli"
          ],
          [
           "B Kumar"
          ],
          [
           "B Lee"
          ],
          [
           "BA Stokes"
          ],
          [
           "BB McCullum"
          ],
          [
           "BCJ Cutting"
          ],
          [
           "BJ Hodge"
          ],
          [
           "Bipul Sharma"
          ],
          [
           "C Munro"
          ],
          [
           "C de Grandhomme"
          ],
          [
           "CA Ingram"
          ],
          [
           "CA Lynn"
          ],
          [
           "CA Pujara"
          ],
          [
           "CH Gayle"
          ],
          [
           "CH Morris"
          ],
          [
           "CJ Anderson"
          ],
          [
           "CL White"
          ],
          [
           "CM Gautam"
          ],
          [
           "CR Brathwaite"
          ],
          [
           "CR Woakes"
          ],
          [
           "D Padikkal"
          ],
          [
           "DA Miller"
          ],
          [
           "DA Warner"
          ],
          [
           "DB Das"
          ],
          [
           "DB Ravi Teja"
          ],
          [
           "DH Yagnik"
          ],
          [
           "DJ Bravo"
          ],
          [
           "DJ Hooda"
          ],
          [
           "DJ Hussey"
          ],
          [
           "DJG Sammy"
          ],
          [
           "DL Chahar"
          ],
          [
           "DL Vettori"
          ],
          [
           "DPMD Jayawardene"
          ],
          [
           "DR Smith"
          ],
          [
           "DS Kulkarni"
          ],
          [
           "DT Christian"
          ],
          [
           "DW Steyn"
          ],
          [
           "E Lewis"
          ],
          [
           "EJG Morgan"
          ],
          [
           "F du Plessis"
          ],
          [
           "FY Fazal"
          ],
          [
           "G Gambhir"
          ],
          [
           "GC Smith"
          ],
          [
           "GH Vihari"
          ],
          [
           "GJ Bailey"
          ],
          [
           "GJ Maxwell"
          ],
          [
           "Gurkeerat Singh"
          ],
          [
           "HH Gibbs"
          ],
          [
           "HH Pandya"
          ],
          [
           "HM Amla"
          ],
          [
           "HV Patel"
          ],
          [
           "Harbhajan Singh"
          ],
          [
           "I Sharma"
          ],
          [
           "IK Pathan"
          ],
          [
           "Iqbal Abdulla"
          ],
          [
           "Ishan Kishan"
          ],
          [
           "J Botha"
          ],
          [
           "JA Morkel"
          ],
          [
           "JC Archer"
          ],
          [
           "JC Buttler"
          ],
          [
           "JD Ryder"
          ],
          [
           "JD Unadkat"
          ],
          [
           "JDP Oram"
          ],
          [
           "JEC Franklin"
          ],
          [
           "JH Kallis"
          ],
          [
           "JJ Bumrah"
          ],
          [
           "JM Bairstow"
          ],
          [
           "JP Duminy"
          ],
          [
           "JP Faulkner"
          ],
          [
           "JR Hopes"
          ],
          [
           "K Goel"
          ],
          [
           "K Gowtham"
          ],
          [
           "K Rabada"
          ],
          [
           "KA Pollard"
          ],
          [
           "KC Sangakkara"
          ],
          [
           "KD Karthik"
          ],
          [
           "KH Pandya"
          ],
          [
           "KK Cooper"
          ],
          [
           "KK Nair"
          ],
          [
           "KL Rahul"
          ],
          [
           "KM Jadhav"
          ],
          [
           "KP Pietersen"
          ],
          [
           "KS Williamson"
          ],
          [
           "KV Sharma"
          ],
          [
           "Kuldeep Yadav"
          ],
          [
           "L Balaji"
          ],
          [
           "LA Pomersbach"
          ],
          [
           "LMP Simmons"
          ],
          [
           "LR Shukla"
          ],
          [
           "LRPL Taylor"
          ],
          [
           "M Kaif"
          ],
          [
           "M Kartik"
          ],
          [
           "M Manhas"
          ],
          [
           "M Morkel"
          ],
          [
           "M Rawat"
          ],
          [
           "M Vijay"
          ],
          [
           "M Vohra"
          ],
          [
           "MA Agarwal"
          ],
          [
           "MA Starc"
          ],
          [
           "MC Henriques"
          ],
          [
           "MD Mishra"
          ],
          [
           "MEK Hussey"
          ],
          [
           "MF Maharoof"
          ],
          [
           "MG Johnson"
          ],
          [
           "MJ Guptill"
          ],
          [
           "MJ Lumb"
          ],
          [
           "MJ McClenaghan"
          ],
          [
           "MK Pandey"
          ],
          [
           "MK Tiwary"
          ],
          [
           "ML Hayden"
          ],
          [
           "MM Ali"
          ],
          [
           "MM Patel"
          ],
          [
           "MM Sharma"
          ],
          [
           "MN Samuels"
          ],
          [
           "MP Stoinis"
          ],
          [
           "MR Marsh"
          ],
          [
           "MS Bisla"
          ],
          [
           "MS Dhoni"
          ],
          [
           "MS Gony"
          ],
          [
           "MV Boucher"
          ],
          [
           "Mandeep Singh"
          ],
          [
           "Mohammad Nabi"
          ],
          [
           "Mohammed Shami"
          ],
          [
           "N Pooran"
          ],
          [
           "N Rana"
          ],
          [
           "N Saini"
          ],
          [
           "NLTC Perera"
          ],
          [
           "NM Coulter-Nile"
          ],
          [
           "NV Ojha"
          ],
          [
           "OA Shah"
          ],
          [
           "P Dogra"
          ],
          [
           "P Kumar"
          ],
          [
           "P Negi"
          ],
          [
           "PA Patel"
          ],
          [
           "PA Reddy"
          ],
          [
           "PC Valthaty"
          ],
          [
           "PJ Cummins"
          ],
          [
           "PJ Sangwan"
          ],
          [
           "PK Garg"
          ],
          [
           "PP Chawla"
          ],
          [
           "PP Ojha"
          ],
          [
           "PP Shaw"
          ],
          [
           "Q de Kock"
          ],
          [
           "R Ashwin"
          ],
          [
           "R Bhatia"
          ],
          [
           "R Dhawan"
          ],
          [
           "R Dravid"
          ],
          [
           "R McLaren"
          ],
          [
           "R Parag"
          ],
          [
           "R Sathish"
          ],
          [
           "R Sharma"
          ],
          [
           "R Tewatia"
          ],
          [
           "R Vinay Kumar"
          ],
          [
           "RA Jadeja"
          ],
          [
           "RA Tripathi"
          ],
          [
           "RE van der Merwe"
          ],
          [
           "RG Sharma"
          ],
          [
           "RJ Harris"
          ],
          [
           "RN ten Doeschate"
          ],
          [
           "RP Singh"
          ],
          [
           "RR Pant"
          ],
          [
           "RS Bopara"
          ],
          [
           "RV Uthappa"
          ],
          [
           "Rashid Khan"
          ],
          [
           "S Anirudha"
          ],
          [
           "S Aravind"
          ],
          [
           "S Badrinath"
          ],
          [
           "S Dhawan"
          ],
          [
           "S Dube"
          ],
          [
           "S Gopal"
          ],
          [
           "S Nadeem"
          ],
          [
           "S Sohal"
          ],
          [
           "S Sreesanth"
          ],
          [
           "SA Asnodkar"
          ],
          [
           "SA Yadav"
          ],
          [
           "SB Styris"
          ],
          [
           "SC Ganguly"
          ],
          [
           "SE Marsh"
          ],
          [
           "SK Raina"
          ],
          [
           "SK Trivedi"
          ],
          [
           "SK Warne"
          ],
          [
           "SL Malinga"
          ],
          [
           "SM Curran"
          ],
          [
           "SM Katich"
          ],
          [
           "SN Khan"
          ],
          [
           "SO Hetmyer"
          ],
          [
           "SP Fleming"
          ],
          [
           "SP Goswami"
          ],
          [
           "SP Narine"
          ],
          [
           "SPD Smith"
          ],
          [
           "SR Tendulkar"
          ],
          [
           "SR Watson"
          ],
          [
           "SS Iyer"
          ],
          [
           "SS Tiwary"
          ],
          [
           "ST Jayasuriya"
          ],
          [
           "STR Binny"
          ],
          [
           "SV Samson"
          ],
          [
           "SW Billings"
          ],
          [
           "Sachin Baby"
          ],
          [
           "Sandeep Sharma"
          ],
          [
           "Shakib Al Hasan"
          ],
          [
           "Shubman Gill"
          ],
          [
           "TG Southee"
          ],
          [
           "TL Suman"
          ],
          [
           "TM Dilshan"
          ],
          [
           "TM Head"
          ],
          [
           "UBT Chand"
          ],
          [
           "UT Yadav"
          ],
          [
           "V Kohli"
          ],
          [
           "V Sehwag"
          ],
          [
           "V Shankar"
          ],
          [
           "VR Aaron"
          ],
          [
           "VVS Laxman"
          ],
          [
           "WD Parnell"
          ],
          [
           "WP Saha"
          ],
          [
           "WPUJC Vaas"
          ],
          [
           "Washington Sundar"
          ],
          [
           "Y Nagar"
          ],
          [
           "Y Venugopal Rao"
          ],
          [
           "YK Pathan"
          ],
          [
           "YS Chahal"
          ],
          [
           "YV Takawale"
          ],
          [
           "Yuvraj Singh"
          ],
          [
           "Z Khan"
          ]
         ],
         "hovertemplate": "runs=%{x}<br>wickets=%{y}<br>catches=%{marker.size}<br>name=%{customdata[0]}<br>cluster_dbscan=%{marker.color}<extra></extra>",
         "legendgroup": "",
         "marker": {
          "color": [
           0,
           -1,
           -1,
           -1,
           -1,
           0,
           -1,
           -1,
           -1,
           -1,
           0,
           -1,
           1,
           -1,
           -1,
           4,
           0,
           -1,
           -1,
           1,
           -1,
           0,
           -1,
           0,
           4,
           -1,
           -1,
           -1,
           -1,
           3,
           -1,
           -1,
           0,
           -1,
           0,
           0,
           0,
           1,
           -1,
           1,
           -1,
           -1,
           -1,
           -1,
           1,
           0,
           0,
           -1,
           -1,
           -1,
           1,
           0,
           1,
           -1,
           -1,
           -1,
           0,
           3,
           2,
           -1,
           -1,
           -1,
           -1,
           -1,
           1,
           -1,
           -1,
           0,
           -1,
           -1,
           -1,
           1,
           -1,
           0,
           -1,
           -1,
           -1,
           3,
           -1,
           -1,
           -1,
           2,
           -1,
           -1,
           -1,
           -1,
           -1,
           -1,
           -1,
           0,
           0,
           -1,
           -1,
           -1,
           -1,
           -1,
           -1,
           0,
           0,
           2,
           -1,
           -1,
           -1,
           -1,
           -1,
           -1,
           -1,
           -1,
           -1,
           -1,
           -1,
           -1,
           -1,
           1,
           -1,
           0,
           -1,
           1,
           2,
           0,
           -1,
           -1,
           -1,
           -1,
           -1,
           2,
           -1,
           1,
           -1,
           0,
           -1,
           1,
           1,
           -1,
           -1,
           -1,
           -1,
           -1,
           -1,
           -1,
           0,
           -1,
           0,
           -1,
           -1,
           3,
           1,
           -1,
           0,
           -1,
           -1,
           -1,
           1,
           -1,
           -1,
           -1,
           1,
           1,
           -1,
           -1,
           -1,
           1,
           0,
           4,
           -1,
           1,
           -1,
           -1,
           -1,
           -1,
           -1,
           -1,
           4,
           -1,
           0,
           0,
           0,
           -1,
           -1,
           -1,
           -1,
           -1,
           4,
           -1,
           2,
           0,
           -1,
           -1,
           0,
           -1,
           -1,
           1,
           2,
           -1,
           -1,
           0,
           2,
           -1,
           1,
           -1,
           1,
           -1,
           0,
           -1,
           -1,
           -1,
           -1,
           -1,
           -1,
           0,
           1,
           -1,
           1,
           1,
           1,
           -1,
           -1,
           -1,
           -1,
           -1,
           -1,
           -1,
           -1,
           -1,
           1,
           -1,
           -1,
           -1,
           -1,
           3,
           0,
           -1,
           -1,
           1,
           -1,
           -1,
           -1,
           0,
           -1,
           1,
           -1,
           -1,
           0,
           4,
           0,
           -1,
           -1,
           -1,
           1,
           -1,
           -1
          ],
          "coloraxis": "coloraxis",
          "size": [
           9,
           10,
           21,
           19,
           21,
           10,
           5,
           7,
           103,
           51,
           3,
           19,
           2,
           23,
           27,
           7,
           5,
           13,
           58,
           3,
           40,
           9,
           56,
           3,
           4,
           8,
           3,
           3,
           27,
           10,
           20,
           37,
           10,
           22,
           7,
           4,
           6,
           1,
           10,
           6,
           26,
           34,
           11,
           22,
           3,
           5,
           7,
           8,
           49,
           66,
           7,
           11,
           12,
           75,
           25,
           25,
           9,
           7,
           11,
           32,
           41,
           22,
           19,
           24,
           6,
           27,
           54,
           6,
           28,
           7,
           6,
           11,
           30,
           19,
           22,
           49,
           0,
           12,
           48,
           16,
           31,
           14,
           16,
           18,
           19,
           9,
           31,
           10,
           23,
           8,
           6,
           31,
           9,
           16,
           30,
           16,
           6,
           9,
           10,
           14,
           90,
           45,
           118,
           22,
           12,
           22,
           39,
           28,
           12,
           22,
           14,
           13,
           11,
           7,
           10,
           14,
           18,
           15,
           20,
           20,
           11,
           16,
           47,
           13,
           35,
           16,
           27,
           1,
           26,
           4,
           15,
           7,
           5,
           1,
           70,
           46,
           11,
           4,
           15,
           18,
           2,
           10,
           7,
           20,
           113,
           6,
           14,
           36,
           6,
           10,
           8,
           11,
           11,
           12,
           10,
           65,
           7,
           4,
           14,
           15,
           69,
           2,
           3,
           5,
           6,
           6,
           40,
           14,
           10,
           49,
           34,
           25,
           6,
           18,
           5,
           6,
           6,
           12,
           17,
           35,
           68,
           15,
           8,
           89,
           20,
           8,
           29,
           46,
           7,
           87,
           18,
           11,
           8,
           16,
           73,
           3,
           11,
           15,
           2,
           3,
           6,
           48,
           2,
           22,
           26,
           102,
           14,
           16,
           21,
           9,
           2,
           4,
           10,
           2,
           17,
           19,
           44,
           23,
           40,
           28,
           24,
           4,
           19,
           52,
           13,
           5,
           11,
           11,
           17,
           17,
           10,
           20,
           3,
           8,
           29,
           76,
           34,
           18,
           3,
           4,
           5,
           62,
           0,
           7,
           6,
           13,
           43,
           20,
           13,
           31,
           21
          ],
          "sizemode": "area",
          "sizeref": 0.295,
          "symbol": "circle"
         },
         "mode": "markers",
         "name": "",
         "orientation": "v",
         "showlegend": false,
         "type": "scatter",
         "x": [
          280,
          35,
          362,
          41,
          974,
          217,
          179,
          26,
          4849,
          2069,
          79,
          724,
          90,
          1517,
          2005,
          91,
          401,
          672,
          3933,
          339,
          913,
          194,
          3659,
          143,
          87,
          388,
          76,
          280,
          183,
          124,
          920,
          2880,
          238,
          1400,
          187,
          177,
          303,
          205,
          1280,
          390,
          4772,
          551,
          538,
          954,
          169,
          181,
          63,
          473,
          1850,
          5254,
          304,
          375,
          170,
          1490,
          625,
          1322,
          295,
          78,
          121,
          1802,
          2385,
          104,
          446,
          167,
          430,
          1272,
          2302,
          183,
          4217,
          739,
          284,
          663,
          1505,
          511,
          886,
          1349,
          577,
          128,
          829,
          55,
          1139,
          88,
          1211,
          409,
          974,
          195,
          1714,
          604,
          64,
          106,
          327,
          2427,
          40,
          790,
          2029,
          527,
          417,
          218,
          186,
          125,
          3023,
          1687,
          3823,
          1000,
          116,
          1480,
          2647,
          1141,
          1001,
          1619,
          317,
          57,
          36,
          302,
          1079,
          405,
          1017,
          259,
          113,
          514,
          126,
          55,
          2619,
          1012,
          1690,
          96,
          969,
          237,
          1977,
          177,
          167,
          270,
          278,
          85,
          3268,
          1695,
          1107,
          309,
          39,
          122,
          161,
          825,
          225,
          798,
          4632,
          99,
          394,
          1659,
          146,
          56,
          521,
          1437,
          140,
          422,
          77,
          1554,
          506,
          127,
          340,
          365,
          2848,
          164,
          505,
          223,
          24,
          133,
          584,
          16,
          826,
          1959,
          412,
          342,
          153,
          2174,
          159,
          246,
          270,
          66,
          366,
          310,
          2159,
          988,
          159,
          5230,
          117,
          326,
          52,
          2079,
          531,
          4607,
          139,
          136,
          59,
          1441,
          5197,
          169,
          164,
          39,
          368,
          34,
          423,
          2024,
          131,
          1349,
          2477,
          5368,
          42,
          198,
          88,
          281,
          241,
          441,
          275,
          196,
          293,
          892,
          2333,
          2334,
          3874,
          2200,
          1379,
          768,
          880,
          2584,
          334,
          137,
          44,
          746,
          939,
          115,
          676,
          1153,
          205,
          300,
          122,
          5878,
          2728,
          654,
          50,
          282,
          63,
          1979,
          81,
          186,
          285,
          985,
          3204,
          22,
          192,
          2750,
          117
         ],
         "xaxis": "x",
         "y": [
          18,
          45,
          160,
          106,
          20,
          1,
          29,
          69,
          0,
          1,
          19,
          27,
          0,
          61,
          1,
          40,
          3,
          9,
          1,
          0,
          80,
          0,
          0,
          3,
          12,
          29,
          6,
          0,
          136,
          25,
          28,
          0,
          10,
          17,
          17,
          0,
          6,
          0,
          0,
          0,
          18,
          80,
          11,
          1,
          0,
          13,
          25,
          0,
          0,
          0,
          0,
          1,
          0,
          153,
          7,
          8,
          11,
          45,
          28,
          0,
          26,
          86,
          34,
          97,
          0,
          0,
          0,
          0,
          0,
          0,
          1,
          0,
          19,
          5,
          0,
          42,
          0,
          46,
          150,
          71,
          80,
          40,
          0,
          25,
          85,
          46,
          0,
          8,
          81,
          9,
          9,
          65,
          109,
          0,
          23,
          59,
          14,
          0,
          13,
          61,
          60,
          0,
          0,
          46,
          33,
          0,
          0,
          0,
          7,
          0,
          59,
          40,
          76,
          0,
          1,
          15,
          0,
          0,
          31,
          0,
          77,
          0,
          0,
          0,
          0,
          34,
          38,
          0,
          0,
          27,
          61,
          0,
          0,
          71,
          0,
          1,
          0,
          10,
          74,
          92,
          9,
          28,
          20,
          0,
          0,
          37,
          0,
          0,
          11,
          60,
          0,
          7,
          0,
          31,
          41,
          0,
          0,
          0,
          90,
          34,
          0,
          0,
          7,
          29,
          35,
          0,
          156,
          89,
          0,
          0,
          138,
          71,
          18,
          0,
          12,
          2,
          3,
          40,
          24,
          105,
          114,
          0,
          21,
          15,
          45,
          2,
          90,
          0,
          11,
          0,
          75,
          0,
          45,
          0,
          4,
          4,
          48,
          47,
          0,
          40,
          0,
          0,
          8,
          10,
          0,
          25,
          65,
          57,
          170,
          23,
          0,
          0,
          0,
          0,
          0,
          127,
          0,
          0,
          92,
          0,
          0,
          13,
          22,
          0,
          0,
          2,
          109,
          59,
          0,
          28,
          6,
          5,
          2,
          0,
          119,
          4,
          6,
          6,
          42,
          0,
          26,
          0,
          18,
          24,
          4,
          6,
          42,
          121,
          0,
          36,
          102
         ],
         "yaxis": "y"
        }
       ],
       "layout": {
        "coloraxis": {
         "colorbar": {
          "title": {
           "text": "cluster_dbscan"
          }
         },
         "colorscale": [
          [
           0,
           "#0d0887"
          ],
          [
           0.1111111111111111,
           "#46039f"
          ],
          [
           0.2222222222222222,
           "#7201a8"
          ],
          [
           0.3333333333333333,
           "#9c179e"
          ],
          [
           0.4444444444444444,
           "#bd3786"
          ],
          [
           0.5555555555555556,
           "#d8576b"
          ],
          [
           0.6666666666666666,
           "#ed7953"
          ],
          [
           0.7777777777777778,
           "#fb9f3a"
          ],
          [
           0.8888888888888888,
           "#fdca26"
          ],
          [
           1,
           "#f0f921"
          ]
         ]
        },
        "legend": {
         "itemsizing": "constant",
         "tracegroupgap": 0
        },
        "template": {
         "data": {
          "bar": [
           {
            "error_x": {
             "color": "#2a3f5f"
            },
            "error_y": {
             "color": "#2a3f5f"
            },
            "marker": {
             "line": {
              "color": "#E5ECF6",
              "width": 0.5
             }
            },
            "type": "bar"
           }
          ],
          "barpolar": [
           {
            "marker": {
             "line": {
              "color": "#E5ECF6",
              "width": 0.5
             }
            },
            "type": "barpolar"
           }
          ],
          "carpet": [
           {
            "aaxis": {
             "endlinecolor": "#2a3f5f",
             "gridcolor": "white",
             "linecolor": "white",
             "minorgridcolor": "white",
             "startlinecolor": "#2a3f5f"
            },
            "baxis": {
             "endlinecolor": "#2a3f5f",
             "gridcolor": "white",
             "linecolor": "white",
             "minorgridcolor": "white",
             "startlinecolor": "#2a3f5f"
            },
            "type": "carpet"
           }
          ],
          "choropleth": [
           {
            "colorbar": {
             "outlinewidth": 0,
             "ticks": ""
            },
            "type": "choropleth"
           }
          ],
          "contour": [
           {
            "colorbar": {
             "outlinewidth": 0,
             "ticks": ""
            },
            "colorscale": [
             [
              0,
              "#0d0887"
             ],
             [
              0.1111111111111111,
              "#46039f"
             ],
             [
              0.2222222222222222,
              "#7201a8"
             ],
             [
              0.3333333333333333,
              "#9c179e"
             ],
             [
              0.4444444444444444,
              "#bd3786"
             ],
             [
              0.5555555555555556,
              "#d8576b"
             ],
             [
              0.6666666666666666,
              "#ed7953"
             ],
             [
              0.7777777777777778,
              "#fb9f3a"
             ],
             [
              0.8888888888888888,
              "#fdca26"
             ],
             [
              1,
              "#f0f921"
             ]
            ],
            "type": "contour"
           }
          ],
          "contourcarpet": [
           {
            "colorbar": {
             "outlinewidth": 0,
             "ticks": ""
            },
            "type": "contourcarpet"
           }
          ],
          "heatmap": [
           {
            "colorbar": {
             "outlinewidth": 0,
             "ticks": ""
            },
            "colorscale": [
             [
              0,
              "#0d0887"
             ],
             [
              0.1111111111111111,
              "#46039f"
             ],
             [
              0.2222222222222222,
              "#7201a8"
             ],
             [
              0.3333333333333333,
              "#9c179e"
             ],
             [
              0.4444444444444444,
              "#bd3786"
             ],
             [
              0.5555555555555556,
              "#d8576b"
             ],
             [
              0.6666666666666666,
              "#ed7953"
             ],
             [
              0.7777777777777778,
              "#fb9f3a"
             ],
             [
              0.8888888888888888,
              "#fdca26"
             ],
             [
              1,
              "#f0f921"
             ]
            ],
            "type": "heatmap"
           }
          ],
          "heatmapgl": [
           {
            "colorbar": {
             "outlinewidth": 0,
             "ticks": ""
            },
            "colorscale": [
             [
              0,
              "#0d0887"
             ],
             [
              0.1111111111111111,
              "#46039f"
             ],
             [
              0.2222222222222222,
              "#7201a8"
             ],
             [
              0.3333333333333333,
              "#9c179e"
             ],
             [
              0.4444444444444444,
              "#bd3786"
             ],
             [
              0.5555555555555556,
              "#d8576b"
             ],
             [
              0.6666666666666666,
              "#ed7953"
             ],
             [
              0.7777777777777778,
              "#fb9f3a"
             ],
             [
              0.8888888888888888,
              "#fdca26"
             ],
             [
              1,
              "#f0f921"
             ]
            ],
            "type": "heatmapgl"
           }
          ],
          "histogram": [
           {
            "marker": {
             "colorbar": {
              "outlinewidth": 0,
              "ticks": ""
             }
            },
            "type": "histogram"
           }
          ],
          "histogram2d": [
           {
            "colorbar": {
             "outlinewidth": 0,
             "ticks": ""
            },
            "colorscale": [
             [
              0,
              "#0d0887"
             ],
             [
              0.1111111111111111,
              "#46039f"
             ],
             [
              0.2222222222222222,
              "#7201a8"
             ],
             [
              0.3333333333333333,
              "#9c179e"
             ],
             [
              0.4444444444444444,
              "#bd3786"
             ],
             [
              0.5555555555555556,
              "#d8576b"
             ],
             [
              0.6666666666666666,
              "#ed7953"
             ],
             [
              0.7777777777777778,
              "#fb9f3a"
             ],
             [
              0.8888888888888888,
              "#fdca26"
             ],
             [
              1,
              "#f0f921"
             ]
            ],
            "type": "histogram2d"
           }
          ],
          "histogram2dcontour": [
           {
            "colorbar": {
             "outlinewidth": 0,
             "ticks": ""
            },
            "colorscale": [
             [
              0,
              "#0d0887"
             ],
             [
              0.1111111111111111,
              "#46039f"
             ],
             [
              0.2222222222222222,
              "#7201a8"
             ],
             [
              0.3333333333333333,
              "#9c179e"
             ],
             [
              0.4444444444444444,
              "#bd3786"
             ],
             [
              0.5555555555555556,
              "#d8576b"
             ],
             [
              0.6666666666666666,
              "#ed7953"
             ],
             [
              0.7777777777777778,
              "#fb9f3a"
             ],
             [
              0.8888888888888888,
              "#fdca26"
             ],
             [
              1,
              "#f0f921"
             ]
            ],
            "type": "histogram2dcontour"
           }
          ],
          "mesh3d": [
           {
            "colorbar": {
             "outlinewidth": 0,
             "ticks": ""
            },
            "type": "mesh3d"
           }
          ],
          "parcoords": [
           {
            "line": {
             "colorbar": {
              "outlinewidth": 0,
              "ticks": ""
             }
            },
            "type": "parcoords"
           }
          ],
          "pie": [
           {
            "automargin": true,
            "type": "pie"
           }
          ],
          "scatter": [
           {
            "marker": {
             "colorbar": {
              "outlinewidth": 0,
              "ticks": ""
             }
            },
            "type": "scatter"
           }
          ],
          "scatter3d": [
           {
            "line": {
             "colorbar": {
              "outlinewidth": 0,
              "ticks": ""
             }
            },
            "marker": {
             "colorbar": {
              "outlinewidth": 0,
              "ticks": ""
             }
            },
            "type": "scatter3d"
           }
          ],
          "scattercarpet": [
           {
            "marker": {
             "colorbar": {
              "outlinewidth": 0,
              "ticks": ""
             }
            },
            "type": "scattercarpet"
           }
          ],
          "scattergeo": [
           {
            "marker": {
             "colorbar": {
              "outlinewidth": 0,
              "ticks": ""
             }
            },
            "type": "scattergeo"
           }
          ],
          "scattergl": [
           {
            "marker": {
             "colorbar": {
              "outlinewidth": 0,
              "ticks": ""
             }
            },
            "type": "scattergl"
           }
          ],
          "scattermapbox": [
           {
            "marker": {
             "colorbar": {
              "outlinewidth": 0,
              "ticks": ""
             }
            },
            "type": "scattermapbox"
           }
          ],
          "scatterpolar": [
           {
            "marker": {
             "colorbar": {
              "outlinewidth": 0,
              "ticks": ""
             }
            },
            "type": "scatterpolar"
           }
          ],
          "scatterpolargl": [
           {
            "marker": {
             "colorbar": {
              "outlinewidth": 0,
              "ticks": ""
             }
            },
            "type": "scatterpolargl"
           }
          ],
          "scatterternary": [
           {
            "marker": {
             "colorbar": {
              "outlinewidth": 0,
              "ticks": ""
             }
            },
            "type": "scatterternary"
           }
          ],
          "surface": [
           {
            "colorbar": {
             "outlinewidth": 0,
             "ticks": ""
            },
            "colorscale": [
             [
              0,
              "#0d0887"
             ],
             [
              0.1111111111111111,
              "#46039f"
             ],
             [
              0.2222222222222222,
              "#7201a8"
             ],
             [
              0.3333333333333333,
              "#9c179e"
             ],
             [
              0.4444444444444444,
              "#bd3786"
             ],
             [
              0.5555555555555556,
              "#d8576b"
             ],
             [
              0.6666666666666666,
              "#ed7953"
             ],
             [
              0.7777777777777778,
              "#fb9f3a"
             ],
             [
              0.8888888888888888,
              "#fdca26"
             ],
             [
              1,
              "#f0f921"
             ]
            ],
            "type": "surface"
           }
          ],
          "table": [
           {
            "cells": {
             "fill": {
              "color": "#EBF0F8"
             },
             "line": {
              "color": "white"
             }
            },
            "header": {
             "fill": {
              "color": "#C8D4E3"
             },
             "line": {
              "color": "white"
             }
            },
            "type": "table"
           }
          ]
         },
         "layout": {
          "annotationdefaults": {
           "arrowcolor": "#2a3f5f",
           "arrowhead": 0,
           "arrowwidth": 1
          },
          "coloraxis": {
           "colorbar": {
            "outlinewidth": 0,
            "ticks": ""
           }
          },
          "colorscale": {
           "diverging": [
            [
             0,
             "#8e0152"
            ],
            [
             0.1,
             "#c51b7d"
            ],
            [
             0.2,
             "#de77ae"
            ],
            [
             0.3,
             "#f1b6da"
            ],
            [
             0.4,
             "#fde0ef"
            ],
            [
             0.5,
             "#f7f7f7"
            ],
            [
             0.6,
             "#e6f5d0"
            ],
            [
             0.7,
             "#b8e186"
            ],
            [
             0.8,
             "#7fbc41"
            ],
            [
             0.9,
             "#4d9221"
            ],
            [
             1,
             "#276419"
            ]
           ],
           "sequential": [
            [
             0,
             "#0d0887"
            ],
            [
             0.1111111111111111,
             "#46039f"
            ],
            [
             0.2222222222222222,
             "#7201a8"
            ],
            [
             0.3333333333333333,
             "#9c179e"
            ],
            [
             0.4444444444444444,
             "#bd3786"
            ],
            [
             0.5555555555555556,
             "#d8576b"
            ],
            [
             0.6666666666666666,
             "#ed7953"
            ],
            [
             0.7777777777777778,
             "#fb9f3a"
            ],
            [
             0.8888888888888888,
             "#fdca26"
            ],
            [
             1,
             "#f0f921"
            ]
           ],
           "sequentialminus": [
            [
             0,
             "#0d0887"
            ],
            [
             0.1111111111111111,
             "#46039f"
            ],
            [
             0.2222222222222222,
             "#7201a8"
            ],
            [
             0.3333333333333333,
             "#9c179e"
            ],
            [
             0.4444444444444444,
             "#bd3786"
            ],
            [
             0.5555555555555556,
             "#d8576b"
            ],
            [
             0.6666666666666666,
             "#ed7953"
            ],
            [
             0.7777777777777778,
             "#fb9f3a"
            ],
            [
             0.8888888888888888,
             "#fdca26"
            ],
            [
             1,
             "#f0f921"
            ]
           ]
          },
          "colorway": [
           "#636efa",
           "#EF553B",
           "#00cc96",
           "#ab63fa",
           "#FFA15A",
           "#19d3f3",
           "#FF6692",
           "#B6E880",
           "#FF97FF",
           "#FECB52"
          ],
          "font": {
           "color": "#2a3f5f"
          },
          "geo": {
           "bgcolor": "white",
           "lakecolor": "white",
           "landcolor": "#E5ECF6",
           "showlakes": true,
           "showland": true,
           "subunitcolor": "white"
          },
          "hoverlabel": {
           "align": "left"
          },
          "hovermode": "closest",
          "mapbox": {
           "style": "light"
          },
          "paper_bgcolor": "white",
          "plot_bgcolor": "#E5ECF6",
          "polar": {
           "angularaxis": {
            "gridcolor": "white",
            "linecolor": "white",
            "ticks": ""
           },
           "bgcolor": "#E5ECF6",
           "radialaxis": {
            "gridcolor": "white",
            "linecolor": "white",
            "ticks": ""
           }
          },
          "scene": {
           "xaxis": {
            "backgroundcolor": "#E5ECF6",
            "gridcolor": "white",
            "gridwidth": 2,
            "linecolor": "white",
            "showbackground": true,
            "ticks": "",
            "zerolinecolor": "white"
           },
           "yaxis": {
            "backgroundcolor": "#E5ECF6",
            "gridcolor": "white",
            "gridwidth": 2,
            "linecolor": "white",
            "showbackground": true,
            "ticks": "",
            "zerolinecolor": "white"
           },
           "zaxis": {
            "backgroundcolor": "#E5ECF6",
            "gridcolor": "white",
            "gridwidth": 2,
            "linecolor": "white",
            "showbackground": true,
            "ticks": "",
            "zerolinecolor": "white"
           }
          },
          "shapedefaults": {
           "line": {
            "color": "#2a3f5f"
           }
          },
          "ternary": {
           "aaxis": {
            "gridcolor": "white",
            "linecolor": "white",
            "ticks": ""
           },
           "baxis": {
            "gridcolor": "white",
            "linecolor": "white",
            "ticks": ""
           },
           "bgcolor": "#E5ECF6",
           "caxis": {
            "gridcolor": "white",
            "linecolor": "white",
            "ticks": ""
           }
          },
          "title": {
           "x": 0.05
          },
          "xaxis": {
           "automargin": true,
           "gridcolor": "white",
           "linecolor": "white",
           "ticks": "",
           "title": {
            "standoff": 15
           },
           "zerolinecolor": "white",
           "zerolinewidth": 2
          },
          "yaxis": {
           "automargin": true,
           "gridcolor": "white",
           "linecolor": "white",
           "ticks": "",
           "title": {
            "standoff": 15
           },
           "zerolinecolor": "white",
           "zerolinewidth": 2
          }
         }
        },
        "title": {
         "text": "Scatter Plot: runs vs wickets, Size = catches"
        },
        "xaxis": {
         "anchor": "y",
         "domain": [
          0,
          1
         ],
         "title": {
          "text": "runs"
         }
        },
        "yaxis": {
         "anchor": "x",
         "domain": [
          0,
          1
         ],
         "title": {
          "text": "wickets"
         }
        }
       }
      },
      "text/html": [
       "<div>                            <div id=\"56ef392c-3213-46e1-bf87-82cc4ac8c169\" class=\"plotly-graph-div\" style=\"height:525px; width:100%;\"></div>            <script type=\"text/javascript\">                require([\"plotly\"], function(Plotly) {                    window.PLOTLYENV=window.PLOTLYENV || {};                                    if (document.getElementById(\"56ef392c-3213-46e1-bf87-82cc4ac8c169\")) {                    Plotly.newPlot(                        \"56ef392c-3213-46e1-bf87-82cc4ac8c169\",                        [{\"customdata\": [[\"A Ashish Reddy\"], [\"A Kumble\"], [\"A Mishra\"], [\"A Nehra\"], [\"A Symonds\"], [\"AA Jhunjhunwala\"], [\"AB Agarkar\"], [\"AB Dinda\"], [\"AB de Villiers\"], [\"AC Gilchrist\"], [\"AD Mascarenhas\"], [\"AD Mathews\"], [\"AD Nath\"], [\"AD Russell\"], [\"AJ Finch\"], [\"AJ Tye\"], [\"AL Menaria\"], [\"AM Nayar\"], [\"AM Rahane\"], [\"AP Tare\"], [\"AR Patel\"], [\"AS Raut\"], [\"AT Rayudu\"], [\"Abhishek Sharma\"], [\"Ankit Sharma\"], [\"Azhar Mahmood\"], [\"B Akhil\"], [\"B Chipli\"], [\"B Kumar\"], [\"B Lee\"], [\"BA Stokes\"], [\"BB McCullum\"], [\"BCJ Cutting\"], [\"BJ Hodge\"], [\"Bipul Sharma\"], [\"C Munro\"], [\"C de Grandhomme\"], [\"CA Ingram\"], [\"CA Lynn\"], [\"CA Pujara\"], [\"CH Gayle\"], [\"CH Morris\"], [\"CJ Anderson\"], [\"CL White\"], [\"CM Gautam\"], [\"CR Brathwaite\"], [\"CR Woakes\"], [\"D Padikkal\"], [\"DA Miller\"], [\"DA Warner\"], [\"DB Das\"], [\"DB Ravi Teja\"], [\"DH Yagnik\"], [\"DJ Bravo\"], [\"DJ Hooda\"], [\"DJ Hussey\"], [\"DJG Sammy\"], [\"DL Chahar\"], [\"DL Vettori\"], [\"DPMD Jayawardene\"], [\"DR Smith\"], [\"DS Kulkarni\"], [\"DT Christian\"], [\"DW Steyn\"], [\"E Lewis\"], [\"EJG Morgan\"], [\"F du Plessis\"], [\"FY Fazal\"], [\"G Gambhir\"], [\"GC Smith\"], [\"GH Vihari\"], [\"GJ Bailey\"], [\"GJ Maxwell\"], [\"Gurkeerat Singh\"], [\"HH Gibbs\"], [\"HH Pandya\"], [\"HM Amla\"], [\"HV Patel\"], [\"Harbhajan Singh\"], [\"I Sharma\"], [\"IK Pathan\"], [\"Iqbal Abdulla\"], [\"Ishan Kishan\"], [\"J Botha\"], [\"JA Morkel\"], [\"JC Archer\"], [\"JC Buttler\"], [\"JD Ryder\"], [\"JD Unadkat\"], [\"JDP Oram\"], [\"JEC Franklin\"], [\"JH Kallis\"], [\"JJ Bumrah\"], [\"JM Bairstow\"], [\"JP Duminy\"], [\"JP Faulkner\"], [\"JR Hopes\"], [\"K Goel\"], [\"K Gowtham\"], [\"K Rabada\"], [\"KA Pollard\"], [\"KC Sangakkara\"], [\"KD Karthik\"], [\"KH Pandya\"], [\"KK Cooper\"], [\"KK Nair\"], [\"KL Rahul\"], [\"KM Jadhav\"], [\"KP Pietersen\"], [\"KS Williamson\"], [\"KV Sharma\"], [\"Kuldeep Yadav\"], [\"L Balaji\"], [\"LA Pomersbach\"], [\"LMP Simmons\"], [\"LR Shukla\"], [\"LRPL Taylor\"], [\"M Kaif\"], [\"M Kartik\"], [\"M Manhas\"], [\"M Morkel\"], [\"M Rawat\"], [\"M Vijay\"], [\"M Vohra\"], [\"MA Agarwal\"], [\"MA Starc\"], [\"MC Henriques\"], [\"MD Mishra\"], [\"MEK Hussey\"], [\"MF Maharoof\"], [\"MG Johnson\"], [\"MJ Guptill\"], [\"MJ Lumb\"], [\"MJ McClenaghan\"], [\"MK Pandey\"], [\"MK Tiwary\"], [\"ML Hayden\"], [\"MM Ali\"], [\"MM Patel\"], [\"MM Sharma\"], [\"MN Samuels\"], [\"MP Stoinis\"], [\"MR Marsh\"], [\"MS Bisla\"], [\"MS Dhoni\"], [\"MS Gony\"], [\"MV Boucher\"], [\"Mandeep Singh\"], [\"Mohammad Nabi\"], [\"Mohammed Shami\"], [\"N Pooran\"], [\"N Rana\"], [\"N Saini\"], [\"NLTC Perera\"], [\"NM Coulter-Nile\"], [\"NV Ojha\"], [\"OA Shah\"], [\"P Dogra\"], [\"P Kumar\"], [\"P Negi\"], [\"PA Patel\"], [\"PA Reddy\"], [\"PC Valthaty\"], [\"PJ Cummins\"], [\"PJ Sangwan\"], [\"PK Garg\"], [\"PP Chawla\"], [\"PP Ojha\"], [\"PP Shaw\"], [\"Q de Kock\"], [\"R Ashwin\"], [\"R Bhatia\"], [\"R Dhawan\"], [\"R Dravid\"], [\"R McLaren\"], [\"R Parag\"], [\"R Sathish\"], [\"R Sharma\"], [\"R Tewatia\"], [\"R Vinay Kumar\"], [\"RA Jadeja\"], [\"RA Tripathi\"], [\"RE van der Merwe\"], [\"RG Sharma\"], [\"RJ Harris\"], [\"RN ten Doeschate\"], [\"RP Singh\"], [\"RR Pant\"], [\"RS Bopara\"], [\"RV Uthappa\"], [\"Rashid Khan\"], [\"S Anirudha\"], [\"S Aravind\"], [\"S Badrinath\"], [\"S Dhawan\"], [\"S Dube\"], [\"S Gopal\"], [\"S Nadeem\"], [\"S Sohal\"], [\"S Sreesanth\"], [\"SA Asnodkar\"], [\"SA Yadav\"], [\"SB Styris\"], [\"SC Ganguly\"], [\"SE Marsh\"], [\"SK Raina\"], [\"SK Trivedi\"], [\"SK Warne\"], [\"SL Malinga\"], [\"SM Curran\"], [\"SM Katich\"], [\"SN Khan\"], [\"SO Hetmyer\"], [\"SP Fleming\"], [\"SP Goswami\"], [\"SP Narine\"], [\"SPD Smith\"], [\"SR Tendulkar\"], [\"SR Watson\"], [\"SS Iyer\"], [\"SS Tiwary\"], [\"ST Jayasuriya\"], [\"STR Binny\"], [\"SV Samson\"], [\"SW Billings\"], [\"Sachin Baby\"], [\"Sandeep Sharma\"], [\"Shakib Al Hasan\"], [\"Shubman Gill\"], [\"TG Southee\"], [\"TL Suman\"], [\"TM Dilshan\"], [\"TM Head\"], [\"UBT Chand\"], [\"UT Yadav\"], [\"V Kohli\"], [\"V Sehwag\"], [\"V Shankar\"], [\"VR Aaron\"], [\"VVS Laxman\"], [\"WD Parnell\"], [\"WP Saha\"], [\"WPUJC Vaas\"], [\"Washington Sundar\"], [\"Y Nagar\"], [\"Y Venugopal Rao\"], [\"YK Pathan\"], [\"YS Chahal\"], [\"YV Takawale\"], [\"Yuvraj Singh\"], [\"Z Khan\"]], \"hovertemplate\": \"runs=%{x}<br>wickets=%{y}<br>catches=%{marker.size}<br>name=%{customdata[0]}<br>cluster_dbscan=%{marker.color}<extra></extra>\", \"legendgroup\": \"\", \"marker\": {\"color\": [0, -1, -1, -1, -1, 0, -1, -1, -1, -1, 0, -1, 1, -1, -1, 4, 0, -1, -1, 1, -1, 0, -1, 0, 4, -1, -1, -1, -1, 3, -1, -1, 0, -1, 0, 0, 0, 1, -1, 1, -1, -1, -1, -1, 1, 0, 0, -1, -1, -1, 1, 0, 1, -1, -1, -1, 0, 3, 2, -1, -1, -1, -1, -1, 1, -1, -1, 0, -1, -1, -1, 1, -1, 0, -1, -1, -1, 3, -1, -1, -1, 2, -1, -1, -1, -1, -1, -1, -1, 0, 0, -1, -1, -1, -1, -1, -1, 0, 0, 2, -1, -1, -1, -1, -1, -1, -1, -1, -1, -1, -1, -1, -1, 1, -1, 0, -1, 1, 2, 0, -1, -1, -1, -1, -1, 2, -1, 1, -1, 0, -1, 1, 1, -1, -1, -1, -1, -1, -1, -1, 0, -1, 0, -1, -1, 3, 1, -1, 0, -1, -1, -1, 1, -1, -1, -1, 1, 1, -1, -1, -1, 1, 0, 4, -1, 1, -1, -1, -1, -1, -1, -1, 4, -1, 0, 0, 0, -1, -1, -1, -1, -1, 4, -1, 2, 0, -1, -1, 0, -1, -1, 1, 2, -1, -1, 0, 2, -1, 1, -1, 1, -1, 0, -1, -1, -1, -1, -1, -1, 0, 1, -1, 1, 1, 1, -1, -1, -1, -1, -1, -1, -1, -1, -1, 1, -1, -1, -1, -1, 3, 0, -1, -1, 1, -1, -1, -1, 0, -1, 1, -1, -1, 0, 4, 0, -1, -1, -1, 1, -1, -1], \"coloraxis\": \"coloraxis\", \"size\": [9.0, 10.0, 21.0, 19.0, 21.0, 10.0, 5.0, 7.0, 103.0, 51.0, 3.0, 19.0, 2.0, 23.0, 27.0, 7.0, 5.0, 13.0, 58.0, 3.0, 40.0, 9.0, 56.0, 3.0, 4.0, 8.0, 3.0, 3.0, 27.0, 10.0, 20.0, 37.0, 10.0, 22.0, 7.0, 4.0, 6.0, 1.0, 10.0, 6.0, 26.0, 34.0, 11.0, 22.0, 3.0, 5.0, 7.0, 8.0, 49.0, 66.0, 7.0, 11.0, 12.0, 75.0, 25.0, 25.0, 9.0, 7.0, 11.0, 32.0, 41.0, 22.0, 19.0, 24.0, 6.0, 27.0, 54.0, 6.0, 28.0, 7.0, 6.0, 11.0, 30.0, 19.0, 22.0, 49.0, 0.0, 12.0, 48.0, 16.0, 31.0, 14.0, 16.0, 18.0, 19.0, 9.0, 31.0, 10.0, 23.0, 8.0, 6.0, 31.0, 9.0, 16.0, 30.0, 16.0, 6.0, 9.0, 10.0, 14.0, 90.0, 45.0, 118.0, 22.0, 12.0, 22.0, 39.0, 28.0, 12.0, 22.0, 14.0, 13.0, 11.0, 7.0, 10.0, 14.0, 18.0, 15.0, 20.0, 20.0, 11.0, 16.0, 47.0, 13.0, 35.0, 16.0, 27.0, 1.0, 26.0, 4.0, 15.0, 7.0, 5.0, 1.0, 70.0, 46.0, 11.0, 4.0, 15.0, 18.0, 2.0, 10.0, 7.0, 20.0, 113.0, 6.0, 14.0, 36.0, 6.0, 10.0, 8.0, 11.0, 11.0, 12.0, 10.0, 65.0, 7.0, 4.0, 14.0, 15.0, 69.0, 2.0, 3.0, 5.0, 6.0, 6.0, 40.0, 14.0, 10.0, 49.0, 34.0, 25.0, 6.0, 18.0, 5.0, 6.0, 6.0, 12.0, 17.0, 35.0, 68.0, 15.0, 8.0, 89.0, 20.0, 8.0, 29.0, 46.0, 7.0, 87.0, 18.0, 11.0, 8.0, 16.0, 73.0, 3.0, 11.0, 15.0, 2.0, 3.0, 6.0, 48.0, 2.0, 22.0, 26.0, 102.0, 14.0, 16.0, 21.0, 9.0, 2.0, 4.0, 10.0, 2.0, 17.0, 19.0, 44.0, 23.0, 40.0, 28.0, 24.0, 4.0, 19.0, 52.0, 13.0, 5.0, 11.0, 11.0, 17.0, 17.0, 10.0, 20.0, 3.0, 8.0, 29.0, 76.0, 34.0, 18.0, 3.0, 4.0, 5.0, 62.0, 0.0, 7.0, 6.0, 13.0, 43.0, 20.0, 13.0, 31.0, 21.0], \"sizemode\": \"area\", \"sizeref\": 0.295, \"symbol\": \"circle\"}, \"mode\": \"markers\", \"name\": \"\", \"orientation\": \"v\", \"showlegend\": false, \"type\": \"scatter\", \"x\": [280.0, 35.0, 362.0, 41.0, 974.0, 217.0, 179.0, 26.0, 4849.0, 2069.0, 79.0, 724.0, 90.0, 1517.0, 2005.0, 91.0, 401.0, 672.0, 3933.0, 339.0, 913.0, 194.0, 3659.0, 143.0, 87.0, 388.0, 76.0, 280.0, 183.0, 124.0, 920.0, 2880.0, 238.0, 1400.0, 187.0, 177.0, 303.0, 205.0, 1280.0, 390.0, 4772.0, 551.0, 538.0, 954.0, 169.0, 181.0, 63.0, 473.0, 1850.0, 5254.0, 304.0, 375.0, 170.0, 1490.0, 625.0, 1322.0, 295.0, 78.0, 121.0, 1802.0, 2385.0, 104.0, 446.0, 167.0, 430.0, 1272.0, 2302.0, 183.0, 4217.0, 739.0, 284.0, 663.0, 1505.0, 511.0, 886.0, 1349.0, 577.0, 128.0, 829.0, 55.0, 1139.0, 88.0, 1211.0, 409.0, 974.0, 195.0, 1714.0, 604.0, 64.0, 106.0, 327.0, 2427.0, 40.0, 790.0, 2029.0, 527.0, 417.0, 218.0, 186.0, 125.0, 3023.0, 1687.0, 3823.0, 1000.0, 116.0, 1480.0, 2647.0, 1141.0, 1001.0, 1619.0, 317.0, 57.0, 36.0, 302.0, 1079.0, 405.0, 1017.0, 259.0, 113.0, 514.0, 126.0, 55.0, 2619.0, 1012.0, 1690.0, 96.0, 969.0, 237.0, 1977.0, 177.0, 167.0, 270.0, 278.0, 85.0, 3268.0, 1695.0, 1107.0, 309.0, 39.0, 122.0, 161.0, 825.0, 225.0, 798.0, 4632.0, 99.0, 394.0, 1659.0, 146.0, 56.0, 521.0, 1437.0, 140.0, 422.0, 77.0, 1554.0, 506.0, 127.0, 340.0, 365.0, 2848.0, 164.0, 505.0, 223.0, 24.0, 133.0, 584.0, 16.0, 826.0, 1959.0, 412.0, 342.0, 153.0, 2174.0, 159.0, 246.0, 270.0, 66.0, 366.0, 310.0, 2159.0, 988.0, 159.0, 5230.0, 117.0, 326.0, 52.0, 2079.0, 531.0, 4607.0, 139.0, 136.0, 59.0, 1441.0, 5197.0, 169.0, 164.0, 39.0, 368.0, 34.0, 423.0, 2024.0, 131.0, 1349.0, 2477.0, 5368.0, 42.0, 198.0, 88.0, 281.0, 241.0, 441.0, 275.0, 196.0, 293.0, 892.0, 2333.0, 2334.0, 3874.0, 2200.0, 1379.0, 768.0, 880.0, 2584.0, 334.0, 137.0, 44.0, 746.0, 939.0, 115.0, 676.0, 1153.0, 205.0, 300.0, 122.0, 5878.0, 2728.0, 654.0, 50.0, 282.0, 63.0, 1979.0, 81.0, 186.0, 285.0, 985.0, 3204.0, 22.0, 192.0, 2750.0, 117.0], \"xaxis\": \"x\", \"y\": [18.0, 45.0, 160.0, 106.0, 20.0, 1.0, 29.0, 69.0, 0.0, 1.0, 19.0, 27.0, 0.0, 61.0, 1.0, 40.0, 3.0, 9.0, 1.0, 0.0, 80.0, 0.0, 0.0, 3.0, 12.0, 29.0, 6.0, 0.0, 136.0, 25.0, 28.0, 0.0, 10.0, 17.0, 17.0, 0.0, 6.0, 0.0, 0.0, 0.0, 18.0, 80.0, 11.0, 1.0, 0.0, 13.0, 25.0, 0.0, 0.0, 0.0, 0.0, 1.0, 0.0, 153.0, 7.0, 8.0, 11.0, 45.0, 28.0, 0.0, 26.0, 86.0, 34.0, 97.0, 0.0, 0.0, 0.0, 0.0, 0.0, 0.0, 1.0, 0.0, 19.0, 5.0, 0.0, 42.0, 0.0, 46.0, 150.0, 71.0, 80.0, 40.0, 0.0, 25.0, 85.0, 46.0, 0.0, 8.0, 81.0, 9.0, 9.0, 65.0, 109.0, 0.0, 23.0, 59.0, 14.0, 0.0, 13.0, 61.0, 60.0, 0.0, 0.0, 46.0, 33.0, 0.0, 0.0, 0.0, 7.0, 0.0, 59.0, 40.0, 76.0, 0.0, 1.0, 15.0, 0.0, 0.0, 31.0, 0.0, 77.0, 0.0, 0.0, 0.0, 0.0, 34.0, 38.0, 0.0, 0.0, 27.0, 61.0, 0.0, 0.0, 71.0, 0.0, 1.0, 0.0, 10.0, 74.0, 92.0, 9.0, 28.0, 20.0, 0.0, 0.0, 37.0, 0.0, 0.0, 11.0, 60.0, 0.0, 7.0, 0.0, 31.0, 41.0, 0.0, 0.0, 0.0, 90.0, 34.0, 0.0, 0.0, 7.0, 29.0, 35.0, 0.0, 156.0, 89.0, 0.0, 0.0, 138.0, 71.0, 18.0, 0.0, 12.0, 2.0, 3.0, 40.0, 24.0, 105.0, 114.0, 0.0, 21.0, 15.0, 45.0, 2.0, 90.0, 0.0, 11.0, 0.0, 75.0, 0.0, 45.0, 0.0, 4.0, 4.0, 48.0, 47.0, 0.0, 40.0, 0.0, 0.0, 8.0, 10.0, 0.0, 25.0, 65.0, 57.0, 170.0, 23.0, 0.0, 0.0, 0.0, 0.0, 0.0, 127.0, 0.0, 0.0, 92.0, 0.0, 0.0, 13.0, 22.0, 0.0, 0.0, 2.0, 109.0, 59.0, 0.0, 28.0, 6.0, 5.0, 2.0, 0.0, 119.0, 4.0, 6.0, 6.0, 42.0, 0.0, 26.0, 0.0, 18.0, 24.0, 4.0, 6.0, 42.0, 121.0, 0.0, 36.0, 102.0], \"yaxis\": \"y\"}],                        {\"coloraxis\": {\"colorbar\": {\"title\": {\"text\": \"cluster_dbscan\"}}, \"colorscale\": [[0.0, \"#0d0887\"], [0.1111111111111111, \"#46039f\"], [0.2222222222222222, \"#7201a8\"], [0.3333333333333333, \"#9c179e\"], [0.4444444444444444, \"#bd3786\"], [0.5555555555555556, \"#d8576b\"], [0.6666666666666666, \"#ed7953\"], [0.7777777777777778, \"#fb9f3a\"], [0.8888888888888888, \"#fdca26\"], [1.0, \"#f0f921\"]]}, \"legend\": {\"itemsizing\": \"constant\", \"tracegroupgap\": 0}, \"template\": {\"data\": {\"bar\": [{\"error_x\": {\"color\": \"#2a3f5f\"}, \"error_y\": {\"color\": \"#2a3f5f\"}, \"marker\": {\"line\": {\"color\": \"#E5ECF6\", \"width\": 0.5}}, \"type\": \"bar\"}], \"barpolar\": [{\"marker\": {\"line\": {\"color\": \"#E5ECF6\", \"width\": 0.5}}, \"type\": \"barpolar\"}], \"carpet\": [{\"aaxis\": {\"endlinecolor\": \"#2a3f5f\", \"gridcolor\": \"white\", \"linecolor\": \"white\", \"minorgridcolor\": \"white\", \"startlinecolor\": \"#2a3f5f\"}, \"baxis\": {\"endlinecolor\": \"#2a3f5f\", \"gridcolor\": \"white\", \"linecolor\": \"white\", \"minorgridcolor\": \"white\", \"startlinecolor\": \"#2a3f5f\"}, \"type\": \"carpet\"}], \"choropleth\": [{\"colorbar\": {\"outlinewidth\": 0, \"ticks\": \"\"}, \"type\": \"choropleth\"}], \"contour\": [{\"colorbar\": {\"outlinewidth\": 0, \"ticks\": \"\"}, \"colorscale\": [[0.0, \"#0d0887\"], [0.1111111111111111, \"#46039f\"], [0.2222222222222222, \"#7201a8\"], [0.3333333333333333, \"#9c179e\"], [0.4444444444444444, \"#bd3786\"], [0.5555555555555556, \"#d8576b\"], [0.6666666666666666, \"#ed7953\"], [0.7777777777777778, \"#fb9f3a\"], [0.8888888888888888, \"#fdca26\"], [1.0, \"#f0f921\"]], \"type\": \"contour\"}], \"contourcarpet\": [{\"colorbar\": {\"outlinewidth\": 0, \"ticks\": \"\"}, \"type\": \"contourcarpet\"}], \"heatmap\": [{\"colorbar\": {\"outlinewidth\": 0, \"ticks\": \"\"}, \"colorscale\": [[0.0, \"#0d0887\"], [0.1111111111111111, \"#46039f\"], [0.2222222222222222, \"#7201a8\"], [0.3333333333333333, \"#9c179e\"], [0.4444444444444444, \"#bd3786\"], [0.5555555555555556, \"#d8576b\"], [0.6666666666666666, \"#ed7953\"], [0.7777777777777778, \"#fb9f3a\"], [0.8888888888888888, \"#fdca26\"], [1.0, \"#f0f921\"]], \"type\": \"heatmap\"}], \"heatmapgl\": [{\"colorbar\": {\"outlinewidth\": 0, \"ticks\": \"\"}, \"colorscale\": [[0.0, \"#0d0887\"], [0.1111111111111111, \"#46039f\"], [0.2222222222222222, \"#7201a8\"], [0.3333333333333333, \"#9c179e\"], [0.4444444444444444, \"#bd3786\"], [0.5555555555555556, \"#d8576b\"], [0.6666666666666666, \"#ed7953\"], [0.7777777777777778, \"#fb9f3a\"], [0.8888888888888888, \"#fdca26\"], [1.0, \"#f0f921\"]], \"type\": \"heatmapgl\"}], \"histogram\": [{\"marker\": {\"colorbar\": {\"outlinewidth\": 0, \"ticks\": \"\"}}, \"type\": \"histogram\"}], \"histogram2d\": [{\"colorbar\": {\"outlinewidth\": 0, \"ticks\": \"\"}, \"colorscale\": [[0.0, \"#0d0887\"], [0.1111111111111111, \"#46039f\"], [0.2222222222222222, \"#7201a8\"], [0.3333333333333333, \"#9c179e\"], [0.4444444444444444, \"#bd3786\"], [0.5555555555555556, \"#d8576b\"], [0.6666666666666666, \"#ed7953\"], [0.7777777777777778, \"#fb9f3a\"], [0.8888888888888888, \"#fdca26\"], [1.0, \"#f0f921\"]], \"type\": \"histogram2d\"}], \"histogram2dcontour\": [{\"colorbar\": {\"outlinewidth\": 0, \"ticks\": \"\"}, \"colorscale\": [[0.0, \"#0d0887\"], [0.1111111111111111, \"#46039f\"], [0.2222222222222222, \"#7201a8\"], [0.3333333333333333, \"#9c179e\"], [0.4444444444444444, \"#bd3786\"], [0.5555555555555556, \"#d8576b\"], [0.6666666666666666, \"#ed7953\"], [0.7777777777777778, \"#fb9f3a\"], [0.8888888888888888, \"#fdca26\"], [1.0, \"#f0f921\"]], \"type\": \"histogram2dcontour\"}], \"mesh3d\": [{\"colorbar\": {\"outlinewidth\": 0, \"ticks\": \"\"}, \"type\": \"mesh3d\"}], \"parcoords\": [{\"line\": {\"colorbar\": {\"outlinewidth\": 0, \"ticks\": \"\"}}, \"type\": \"parcoords\"}], \"pie\": [{\"automargin\": true, \"type\": \"pie\"}], \"scatter\": [{\"marker\": {\"colorbar\": {\"outlinewidth\": 0, \"ticks\": \"\"}}, \"type\": \"scatter\"}], \"scatter3d\": [{\"line\": {\"colorbar\": {\"outlinewidth\": 0, \"ticks\": \"\"}}, \"marker\": {\"colorbar\": {\"outlinewidth\": 0, \"ticks\": \"\"}}, \"type\": \"scatter3d\"}], \"scattercarpet\": [{\"marker\": {\"colorbar\": {\"outlinewidth\": 0, \"ticks\": \"\"}}, \"type\": \"scattercarpet\"}], \"scattergeo\": [{\"marker\": {\"colorbar\": {\"outlinewidth\": 0, \"ticks\": \"\"}}, \"type\": \"scattergeo\"}], \"scattergl\": [{\"marker\": {\"colorbar\": {\"outlinewidth\": 0, \"ticks\": \"\"}}, \"type\": \"scattergl\"}], \"scattermapbox\": [{\"marker\": {\"colorbar\": {\"outlinewidth\": 0, \"ticks\": \"\"}}, \"type\": \"scattermapbox\"}], \"scatterpolar\": [{\"marker\": {\"colorbar\": {\"outlinewidth\": 0, \"ticks\": \"\"}}, \"type\": \"scatterpolar\"}], \"scatterpolargl\": [{\"marker\": {\"colorbar\": {\"outlinewidth\": 0, \"ticks\": \"\"}}, \"type\": \"scatterpolargl\"}], \"scatterternary\": [{\"marker\": {\"colorbar\": {\"outlinewidth\": 0, \"ticks\": \"\"}}, \"type\": \"scatterternary\"}], \"surface\": [{\"colorbar\": {\"outlinewidth\": 0, \"ticks\": \"\"}, \"colorscale\": [[0.0, \"#0d0887\"], [0.1111111111111111, \"#46039f\"], [0.2222222222222222, \"#7201a8\"], [0.3333333333333333, \"#9c179e\"], [0.4444444444444444, \"#bd3786\"], [0.5555555555555556, \"#d8576b\"], [0.6666666666666666, \"#ed7953\"], [0.7777777777777778, \"#fb9f3a\"], [0.8888888888888888, \"#fdca26\"], [1.0, \"#f0f921\"]], \"type\": \"surface\"}], \"table\": [{\"cells\": {\"fill\": {\"color\": \"#EBF0F8\"}, \"line\": {\"color\": \"white\"}}, \"header\": {\"fill\": {\"color\": \"#C8D4E3\"}, \"line\": {\"color\": \"white\"}}, \"type\": \"table\"}]}, \"layout\": {\"annotationdefaults\": {\"arrowcolor\": \"#2a3f5f\", \"arrowhead\": 0, \"arrowwidth\": 1}, \"coloraxis\": {\"colorbar\": {\"outlinewidth\": 0, \"ticks\": \"\"}}, \"colorscale\": {\"diverging\": [[0, \"#8e0152\"], [0.1, \"#c51b7d\"], [0.2, \"#de77ae\"], [0.3, \"#f1b6da\"], [0.4, \"#fde0ef\"], [0.5, \"#f7f7f7\"], [0.6, \"#e6f5d0\"], [0.7, \"#b8e186\"], [0.8, \"#7fbc41\"], [0.9, \"#4d9221\"], [1, \"#276419\"]], \"sequential\": [[0.0, \"#0d0887\"], [0.1111111111111111, \"#46039f\"], [0.2222222222222222, \"#7201a8\"], [0.3333333333333333, \"#9c179e\"], [0.4444444444444444, \"#bd3786\"], [0.5555555555555556, \"#d8576b\"], [0.6666666666666666, \"#ed7953\"], [0.7777777777777778, \"#fb9f3a\"], [0.8888888888888888, \"#fdca26\"], [1.0, \"#f0f921\"]], \"sequentialminus\": [[0.0, \"#0d0887\"], [0.1111111111111111, \"#46039f\"], [0.2222222222222222, \"#7201a8\"], [0.3333333333333333, \"#9c179e\"], [0.4444444444444444, \"#bd3786\"], [0.5555555555555556, \"#d8576b\"], [0.6666666666666666, \"#ed7953\"], [0.7777777777777778, \"#fb9f3a\"], [0.8888888888888888, \"#fdca26\"], [1.0, \"#f0f921\"]]}, \"colorway\": [\"#636efa\", \"#EF553B\", \"#00cc96\", \"#ab63fa\", \"#FFA15A\", \"#19d3f3\", \"#FF6692\", \"#B6E880\", \"#FF97FF\", \"#FECB52\"], \"font\": {\"color\": \"#2a3f5f\"}, \"geo\": {\"bgcolor\": \"white\", \"lakecolor\": \"white\", \"landcolor\": \"#E5ECF6\", \"showlakes\": true, \"showland\": true, \"subunitcolor\": \"white\"}, \"hoverlabel\": {\"align\": \"left\"}, \"hovermode\": \"closest\", \"mapbox\": {\"style\": \"light\"}, \"paper_bgcolor\": \"white\", \"plot_bgcolor\": \"#E5ECF6\", \"polar\": {\"angularaxis\": {\"gridcolor\": \"white\", \"linecolor\": \"white\", \"ticks\": \"\"}, \"bgcolor\": \"#E5ECF6\", \"radialaxis\": {\"gridcolor\": \"white\", \"linecolor\": \"white\", \"ticks\": \"\"}}, \"scene\": {\"xaxis\": {\"backgroundcolor\": \"#E5ECF6\", \"gridcolor\": \"white\", \"gridwidth\": 2, \"linecolor\": \"white\", \"showbackground\": true, \"ticks\": \"\", \"zerolinecolor\": \"white\"}, \"yaxis\": {\"backgroundcolor\": \"#E5ECF6\", \"gridcolor\": \"white\", \"gridwidth\": 2, \"linecolor\": \"white\", \"showbackground\": true, \"ticks\": \"\", \"zerolinecolor\": \"white\"}, \"zaxis\": {\"backgroundcolor\": \"#E5ECF6\", \"gridcolor\": \"white\", \"gridwidth\": 2, \"linecolor\": \"white\", \"showbackground\": true, \"ticks\": \"\", \"zerolinecolor\": \"white\"}}, \"shapedefaults\": {\"line\": {\"color\": \"#2a3f5f\"}}, \"ternary\": {\"aaxis\": {\"gridcolor\": \"white\", \"linecolor\": \"white\", \"ticks\": \"\"}, \"baxis\": {\"gridcolor\": \"white\", \"linecolor\": \"white\", \"ticks\": \"\"}, \"bgcolor\": \"#E5ECF6\", \"caxis\": {\"gridcolor\": \"white\", \"linecolor\": \"white\", \"ticks\": \"\"}}, \"title\": {\"x\": 0.05}, \"xaxis\": {\"automargin\": true, \"gridcolor\": \"white\", \"linecolor\": \"white\", \"ticks\": \"\", \"title\": {\"standoff\": 15}, \"zerolinecolor\": \"white\", \"zerolinewidth\": 2}, \"yaxis\": {\"automargin\": true, \"gridcolor\": \"white\", \"linecolor\": \"white\", \"ticks\": \"\", \"title\": {\"standoff\": 15}, \"zerolinecolor\": \"white\", \"zerolinewidth\": 2}}}, \"title\": {\"text\": \"Scatter Plot: runs vs wickets, Size = catches\"}, \"xaxis\": {\"anchor\": \"y\", \"domain\": [0.0, 1.0], \"title\": {\"text\": \"runs\"}}, \"yaxis\": {\"anchor\": \"x\", \"domain\": [0.0, 1.0], \"title\": {\"text\": \"wickets\"}}},                        {\"responsive\": true}                    ).then(function(){\n",
       "                            \n",
       "var gd = document.getElementById('56ef392c-3213-46e1-bf87-82cc4ac8c169');\n",
       "var x = new MutationObserver(function (mutations, observer) {{\n",
       "        var display = window.getComputedStyle(gd).display;\n",
       "        if (!display || display === 'none') {{\n",
       "            console.log([gd, 'removed!']);\n",
       "            Plotly.purge(gd);\n",
       "            observer.disconnect();\n",
       "        }}\n",
       "}});\n",
       "\n",
       "// Listen for the removal of the full notebook cells\n",
       "var notebookContainer = gd.closest('#notebook-container');\n",
       "if (notebookContainer) {{\n",
       "    x.observe(notebookContainer, {childList: true});\n",
       "}}\n",
       "\n",
       "// Listen for the clearing of the current output cell\n",
       "var outputEl = gd.closest('.output');\n",
       "if (outputEl) {{\n",
       "    x.observe(outputEl, {childList: true});\n",
       "}}\n",
       "\n",
       "                        })                };                });            </script>        </div>"
      ]
     },
     "metadata": {},
     "output_type": "display_data"
    }
   ],
   "source": [
    "plot_clusters('runs','wickets','cluster_dbscan','catches')"
   ]
  },
  {
   "cell_type": "code",
   "execution_count": null,
   "metadata": {},
   "outputs": [],
   "source": []
  },
  {
   "cell_type": "code",
   "execution_count": 415,
   "metadata": {
    "ExecuteTime": {
     "end_time": "2021-05-25T15:06:16.947130Z",
     "start_time": "2021-05-25T15:06:16.944724Z"
    }
   },
   "outputs": [],
   "source": [
    "# # Plotly scatter plot\n",
    "# fig = px.scatter(players, x=\"runs\",   y=\"wickets\", color=\"cluster_kmeans\",\n",
    "#                  size='catches', hover_data=['name'], title = 'Scatter Plot: Runs vs Wickets, Size = catches', color_discrete_sequence=px.colors.qualitative.Light24)\n",
    "# fig.show()\n",
    "\n",
    "# # color_discrete_sequence - https://plotly.com/python/discrete-color/"
   ]
  },
  {
   "cell_type": "markdown",
   "metadata": {
    "ExecuteTime": {
     "end_time": "2021-05-24T15:25:52.343620Z",
     "start_time": "2021-05-24T15:25:52.341097Z"
    }
   },
   "source": [
    "## Seaborn - scatter plots"
   ]
  },
  {
   "cell_type": "code",
   "execution_count": 416,
   "metadata": {
    "ExecuteTime": {
     "end_time": "2021-05-25T15:06:17.313314Z",
     "start_time": "2021-05-25T15:06:16.949114Z"
    }
   },
   "outputs": [
    {
     "data": {
      "text/plain": [
       "<matplotlib.axes._subplots.AxesSubplot at 0x140f6fb70>"
      ]
     },
     "execution_count": 416,
     "metadata": {},
     "output_type": "execute_result"
    },
    {
     "data": {
      "image/png": "[encoded data removed]",
      "text/plain": [
       "<Figure size 864x576 with 1 Axes>"
      ]
     },
     "metadata": {
      "needs_background": "light"
     },
     "output_type": "display_data"
    }
   ],
   "source": [
    "plt.figure(figsize=(12,8))\n",
    "\n",
    "sns.scatterplot(x=\"runs\",   y=\"wickets\", hue=\"cluster_kmeans\", data=players, palette=\"tab10\")"
   ]
  },
  {
   "cell_type": "code",
   "execution_count": 417,
   "metadata": {
    "ExecuteTime": {
     "end_time": "2021-05-25T15:06:17.656707Z",
     "start_time": "2021-05-25T15:06:17.315476Z"
    }
   },
   "outputs": [
    {
     "data": {
      "text/plain": [
       "<matplotlib.axes._subplots.AxesSubplot at 0x141026c18>"
      ]
     },
     "execution_count": 417,
     "metadata": {},
     "output_type": "execute_result"
    },
    {
     "data": {
      "image/png": "[encoded data removed]",
      "text/plain": [
       "<Figure size 864x576 with 1 Axes>"
      ]
     },
     "metadata": {
      "needs_background": "light"
     },
     "output_type": "display_data"
    }
   ],
   "source": [
    "plt.figure(figsize=(12,8))\n",
    "\n",
    "sns.scatterplot(x=\"runs\",   y=\"wickets\", hue=\"cluster_hier\", data=players, palette=\"tab10\")"
   ]
  },
  {
   "cell_type": "code",
   "execution_count": 418,
   "metadata": {
    "ExecuteTime": {
     "end_time": "2021-05-25T15:06:17.971727Z",
     "start_time": "2021-05-25T15:06:17.658789Z"
    }
   },
   "outputs": [
    {
     "data": {
      "text/plain": [
       "<matplotlib.axes._subplots.AxesSubplot at 0x141082208>"
      ]
     },
     "execution_count": 418,
     "metadata": {},
     "output_type": "execute_result"
    },
    {
     "data": {
      "image/png": "[encoded data removed]",
      "text/plain": [
       "<Figure size 864x576 with 1 Axes>"
      ]
     },
     "metadata": {
      "needs_background": "light"
     },
     "output_type": "display_data"
    }
   ],
   "source": [
    "plt.figure(figsize=(12,8))\n",
    "\n",
    "sns.scatterplot(x=\"runs\",   y=\"wickets\", hue=\"cluster_dbscan\", data=players, palette=\"tab10\")"
   ]
  },
  {
   "cell_type": "markdown",
   "metadata": {},
   "source": [
    "## Runs vs catches"
   ]
  },
  {
   "cell_type": "code",
   "execution_count": 419,
   "metadata": {
    "ExecuteTime": {
     "end_time": "2021-05-25T15:06:18.433440Z",
     "start_time": "2021-05-25T15:06:17.973816Z"
    }
   },
   "outputs": [
    {
     "data": {
      "text/plain": [
       "<matplotlib.axes._subplots.AxesSubplot at 0x14112ce80>"
      ]
     },
     "execution_count": 419,
     "metadata": {},
     "output_type": "execute_result"
    },
    {
     "data": {
      "image/png": "[encoded data removed]",
      "text/plain": [
       "<Figure size 864x576 with 1 Axes>"
      ]
     },
     "metadata": {
      "needs_background": "light"
     },
     "output_type": "display_data"
    }
   ],
   "source": [
    "plt.figure(figsize=(12,8))\n",
    "\n",
    "sns.scatterplot(x=\"runs\",   y=\"catches\", hue=\"cluster_kmeans\", data=players, palette=\"tab10\")"
   ]
  },
  {
   "cell_type": "markdown",
   "metadata": {},
   "source": [
    "# Only runs & wickets"
   ]
  },
  {
   "cell_type": "code",
   "execution_count": 420,
   "metadata": {
    "ExecuteTime": {
     "end_time": "2021-05-25T15:06:18.439182Z",
     "start_time": "2021-05-25T15:06:18.435656Z"
    }
   },
   "outputs": [],
   "source": [
    "cols = ['bat_average','bowl_econ']"
   ]
  },
  {
   "cell_type": "code",
   "execution_count": 421,
   "metadata": {
    "ExecuteTime": {
     "end_time": "2021-05-25T15:06:18.477345Z",
     "start_time": "2021-05-25T15:06:18.441167Z"
    }
   },
   "outputs": [],
   "source": [
    "# final model with k=3\n",
    "kmeans = KMeans(n_clusters=NUM_CLUSTERS, max_iter=50)\n",
    "kmeans.fit(players_scaled[cols])\n",
    "\n",
    "# assign the label\n",
    "players['cluster_kmeans_small'] = kmeans.labels_\n"
   ]
  },
  {
   "cell_type": "code",
   "execution_count": 422,
   "metadata": {
    "ExecuteTime": {
     "end_time": "2021-05-25T15:06:18.802007Z",
     "start_time": "2021-05-25T15:06:18.479463Z"
    }
   },
   "outputs": [
    {
     "data": {
      "text/plain": [
       "<matplotlib.axes._subplots.AxesSubplot at 0x140f08208>"
      ]
     },
     "execution_count": 422,
     "metadata": {},
     "output_type": "execute_result"
    },
    {
     "data": {
      "image/png": "[encoded data removed]",
      "text/plain": [
       "<Figure size 864x576 with 1 Axes>"
      ]
     },
     "metadata": {
      "needs_background": "light"
     },
     "output_type": "display_data"
    }
   ],
   "source": [
    "plt.figure(figsize=(12,8))\n",
    "\n",
    "sns.scatterplot(x=\"bat_average\",   y=\"bowl_econ\", hue=\"cluster_kmeans_small\", data=players, palette=\"tab10\")"
   ]
  },
  {
   "cell_type": "code",
   "execution_count": 423,
   "metadata": {
    "ExecuteTime": {
     "end_time": "2021-05-25T15:06:18.811982Z",
     "start_time": "2021-05-25T15:06:18.804349Z"
    }
   },
   "outputs": [],
   "source": [
    "# Compute DBSCAN\n",
    "db = DBSCAN(eps=0.3, min_samples=5).fit(players_scaled[cols])\n",
    "labels = db.labels_\n",
    "\n",
    "# assign cluster labels\n",
    "players['cluster_dbscan_avgecon'] = labels"
   ]
  },
  {
   "cell_type": "code",
   "execution_count": 424,
   "metadata": {
    "ExecuteTime": {
     "end_time": "2021-05-25T15:06:19.134161Z",
     "start_time": "2021-05-25T15:06:18.813637Z"
    }
   },
   "outputs": [
    {
     "data": {
      "text/plain": [
       "<matplotlib.axes._subplots.AxesSubplot at 0x13f1953c8>"
      ]
     },
     "execution_count": 424,
     "metadata": {},
     "output_type": "execute_result"
    },
    {
     "data": {
      "image/png": "[encoded data removed]",
      "text/plain": [
       "<Figure size 864x576 with 1 Axes>"
      ]
     },
     "metadata": {
      "needs_background": "light"
     },
     "output_type": "display_data"
    }
   ],
   "source": [
    "plt.figure(figsize=(12,8))\n",
    "\n",
    "sns.scatterplot(x=\"bat_average\",   y=\"bowl_econ\", hue=\"cluster_dbscan_avgecon\", data=players, palette=\"tab10\")"
   ]
  },
  {
   "cell_type": "markdown",
   "metadata": {},
   "source": [
    "# References"
   ]
  },
  {
   "cell_type": "code",
   "execution_count": 425,
   "metadata": {
    "ExecuteTime": {
     "end_time": "2021-05-25T15:06:19.138729Z",
     "start_time": "2021-05-25T15:06:19.136143Z"
    }
   },
   "outputs": [],
   "source": [
    "# https://www.linkedin.com/pulse/ai-daily-life-clustering-cricket-players-ramachandran-s/\n",
    "    "
   ]
  },
  {
   "cell_type": "markdown",
   "metadata": {},
   "source": [
    "# WIDGETS"
   ]
  },
  {
   "cell_type": "code",
   "execution_count": 426,
   "metadata": {
    "ExecuteTime": {
     "end_time": "2021-05-25T15:06:19.155574Z",
     "start_time": "2021-05-25T15:06:19.142198Z"
    }
   },
   "outputs": [
    {
     "data": {
      "application/vnd.jupyter.widget-view+json": {
       "model_id": "adafe4cbc7854edfbba1810609df7011",
       "version_major": 2,
       "version_minor": 0
      },
      "text/plain": [
       "IntSlider(value=5, description='No. of clusters:', layout=Layout(align_items='stretch', display='flex', flex_f…"
      ]
     },
     "metadata": {},
     "output_type": "display_data"
    }
   ],
   "source": [
    "b_with_kvalue = True\n",
    "config_layout = widgets.Layout(width= 'max-content', height='40px',justify_content='space-between',display='flex',\n",
    "    flex_flow='column', align_items='stretch' )\n",
    "\n",
    "widgets.IntSlider(\n",
    "    value=5, min=2, max=10, step=1,\n",
    "    description='No. of clusters:',\n",
    "    disabled=not b_with_kvalue, layout=config_layout )"
   ]
  },
  {
   "cell_type": "code",
   "execution_count": 427,
   "metadata": {
    "ExecuteTime": {
     "end_time": "2021-05-25T15:06:19.168121Z",
     "start_time": "2021-05-25T15:06:19.157424Z"
    }
   },
   "outputs": [
    {
     "data": {
      "application/vnd.jupyter.widget-view+json": {
       "model_id": "0527d91543ed4f979873ae4e01ae9a4d",
       "version_major": 2,
       "version_minor": 0
      },
      "text/plain": [
       "Button(description='Test button with some text.', layout=Layout(align_items='stretch', display='flex', flex_fl…"
      ]
     },
     "metadata": {},
     "output_type": "display_data"
    }
   ],
   "source": [
    "config_layout = widgets.Layout(width='auto', height='40px',\n",
    "    display='flex',\n",
    "    flex_flow='column',\n",
    "    align_items='stretch') #set width and height\n",
    "\n",
    "button = widgets.Button(\n",
    "    description='Test button with some text.',\n",
    "    disabled=False, \n",
    "    layout = config_layout\n",
    ")        \n",
    "display(button)"
   ]
  },
  {
   "cell_type": "code",
   "execution_count": null,
   "metadata": {},
   "outputs": [],
   "source": []
  },
  {
   "cell_type": "code",
   "execution_count": null,
   "metadata": {},
   "outputs": [],
   "source": []
  },
  {
   "cell_type": "code",
   "execution_count": 428,
   "metadata": {
    "ExecuteTime": {
     "end_time": "2021-05-25T15:06:19.271165Z",
     "start_time": "2021-05-25T15:06:19.170367Z"
    },
    "scrolled": false
   },
   "outputs": [
    {
     "data": {
      "application/vnd.jupyter.widget-view+json": {
       "model_id": "f1f55ba3992c484bbdb5032e54fb93af",
       "version_major": 2,
       "version_minor": 0
      },
      "text/plain": [
       "VBox(children=(Label(value='ENTER CONFIGURATIONS'), Dropdown(description='Clustering Technique:', options=('K-…"
      ]
     },
     "metadata": {},
     "output_type": "display_data"
    },
    {
     "data": {
      "application/vnd.jupyter.widget-view+json": {
       "model_id": "c0331fec1a70491cbd6f32bada6c10e4",
       "version_major": 2,
       "version_minor": 0
      },
      "text/plain": [
       "HBox(children=(Button(button_style='success', description='CLUSTER PLAYERS', layout=Layout(align_items='stretc…"
      ]
     },
     "metadata": {},
     "output_type": "display_data"
    },
    {
     "data": {
      "application/vnd.jupyter.widget-view+json": {
       "model_id": "5304b6565b1d40e6803e1137a45cb20b",
       "version_major": 2,
       "version_minor": 0
      },
      "text/plain": [
       "Output(layout=Layout(border='solid', width='100%'))"
      ]
     },
     "metadata": {},
     "output_type": "display_data"
    },
    {
     "data": {
      "application/vnd.jupyter.widget-view+json": {
       "model_id": "79ebd996ba3043ab82c5c0f0c4f91829",
       "version_major": 2,
       "version_minor": 0
      },
      "text/plain": [
       "Output(layout=Layout(border='solid', width='100%'))"
      ]
     },
     "metadata": {},
     "output_type": "display_data"
    }
   ],
   "source": [
    "# Default Values\n",
    "CLUSTERING_TECHNIQUE = 'K-MEANS CLUSTERING'\n",
    "CLUSTER_COLS = ALL_COLUMN_NAMES\n",
    "CLUSTER_OUTPUT_COL = 'output_kmeans'\n",
    "NUM_CLUSTERS = 5\n",
    "b_with_kvalue = True\n",
    "\n",
    "\n",
    "############## Initialize Widgets ###################\n",
    "w_ctechnique = widgets.Dropdown(options=['K-MEANS CLUSTERING', 'HIERARCHICAL CLUSTERING', 'DBSCAN CLUSTERING'],\n",
    "                                         value=CLUSTERING_TECHNIQUE, description='Clustering Technique:',\n",
    "                                         style={'description_width': 'initial'}, disabled=False)\n",
    "\n",
    "# config_layout = widgets.Layout(  width='auto', height='40px',justify_content='space-between',display='flex',\n",
    "#     flex_flow='column', align_items='stretch' )\n",
    "# No. of clusters\n",
    "w_kvalue = widgets.IntSlider(\n",
    "    value=5, min=2, max=10, step=1, description='', disabled=not b_with_kvalue )\n",
    "\n",
    "\n",
    "w_epsilon = widgets.FloatSlider(\n",
    "    value=0.3, min=0, max=5.0, step=0.1, description='',\n",
    "    disabled=b_with_kvalue, continuous_update=False, orientation='horizontal',\n",
    "    readout=True, readout_format='.1f',\n",
    "    visibility = False\n",
    ")\n",
    "\n",
    "w_minpoints = widgets.IntSlider(\n",
    "    value=5, min=2, max=20, step=1, description='', disabled=b_with_kvalue,\n",
    "    visibility = False )\n",
    "\n",
    "multiselect_layout = widgets.Layout(width='40%')\n",
    "w_ccolumns = widgets.SelectMultiple(options=ALL_COLUMN_NAMES, description='Select columns to cluster on:',\n",
    "                                        value=CLUSTER_COLS,\n",
    "                                        style={'description_width': 'initial'}, disabled=False)\n",
    "\n",
    "\n",
    "                                         \n",
    "button_layout = widgets.Layout(display='flex', flex_flow='column', align_items='stretch', border='solid',\n",
    "                               width='40%', height='40px')\n",
    "wbtn_cluster_data = widgets.Button(description=\"CLUSTER PLAYERS\", disabled=False, layout=button_layout,\n",
    "                                     visibility=\"visible\", button_style=\"success\")\n",
    "#wbtn_optimal_k = widgets.Button(description=\"FIND OPTIMAL K\", disabled=False,\n",
    "#                                       layout=button_layout,\n",
    "#                                       visibility=\"visible\", button_style=\"success\")\n",
    "output_clusters = widgets.Output(layout=widgets.Layout(border='solid', width='100%'))\n",
    "output_plot = widgets.Output(layout=widgets.Layout(border='solid', width='100%'))\n",
    "         \n",
    "                                         \n",
    "\n",
    "############## Observe Widgets ###################\n",
    "def create_clusters(): \n",
    "    global CLUSTER_OUTPUT_COL\n",
    "    if(w_ctechnique.value == 'K-MEANS CLUSTERING'):\n",
    "        NUM_KMEANS_ITER = 50\n",
    "        CLUSTER_OUTPUT_COL = 'output_kmeans'\n",
    "        kmeans_clustering(NUM_CLUSTERS,NUM_KMEANS_ITER,CLUSTER_COLS,CLUSTER_OUTPUT_COL)\n",
    "    elif(w_ctechnique.value == 'HIERARCHICAL CLUSTERING'):\n",
    "        LINKAGE_METHOD = 'complete' #'single'\n",
    "        LINKAGE_METRIC = 'euclidean'  \n",
    "        CLUSTER_OUTPUT_COL = 'output_hier'\n",
    "        mergings = hierarchical_clustering(LINKAGE_METHOD, LINKAGE_METRIC, NUM_CLUSTERS, CLUSTER_COLS,CLUSTER_OUTPUT_COL)      \n",
    "    elif(w_ctechnique.value == 'DBSCAN CLUSTERING'):\n",
    "        CLUSTER_OUTPUT_COL = 'output_dbscan'\n",
    "        dbscan_clustering(w_epsilon.value,w_minpoints.value,CLUSTER_COLS,CLUSTER_OUTPUT_COL)\n",
    "                                         \n",
    "# Set values on observe\n",
    "\n",
    "def set_cluster_technique( b):\n",
    "    CLUSTERING_TECHNIQUE = w_ctechnique.value\n",
    "    if((w_ctechnique.value == 'K-MEANS CLUSTERING') or (w_ctechnique.value == 'HIERARCHICAL CLUSTERING')):\n",
    "        b_with_kvalue = True \n",
    "#         w_kvalue.layout.visibility = 'visible'\n",
    "#         w_epsilon.layout.visibility = 'hidden'\n",
    "#         w_minpoints.layout.visibility = 'hidden'\n",
    "    else:\n",
    "        b_with_kvalue = False\n",
    "#         w_kvalue.layout.visibility = 'hidden'\n",
    "#         w_epsilon.layout.visibility = 'visible'\n",
    "#         w_minpoints.layout.visibility = 'visible'\n",
    "    w_kvalue.disabled = not b_with_kvalue\n",
    "    w_epsilon.disabled = b_with_kvalue\n",
    "    w_minpoints.disabled = b_with_kvalue\n",
    "\n",
    "def set_cluster_columns(b):\n",
    "    global CLUSTER_COLS\n",
    "    CLUSTER_COLS = list(w_ccolumns.value)\n",
    "    \n",
    "def set_kvalue(b):\n",
    "    global NUM_CLUSTERS\n",
    "    NUM_CLUSTERS = w_kvalue.value\n",
    "    \n",
    "                                         \n",
    "def on_cluster_players(b):\n",
    "    output_clusters.clear_output()\n",
    "    output_plot.clear_output()\n",
    "    create_clusters()  \n",
    "    with output_clusters:\n",
    "        groupby_cluster(CLUSTER_OUTPUT_COL,5)\n",
    "    with output_plot: \n",
    "        if(w_ctechnique == 'HIERARCHICAL CLUSTERING'):\n",
    "            dendrogram(mergings)\n",
    "            plt.show()\n",
    "        plot_clusters('runs','wickets',CLUSTER_OUTPUT_COL,'catches')\n",
    "        \n",
    "\n",
    "w_ctechnique.observe(set_cluster_technique, names='value')\n",
    "w_kvalue.observe(set_kvalue, names='value')\n",
    "w_ccolumns.observe(set_cluster_columns, names='value') \n",
    "\n",
    "wbtn_cluster_data.on_click(on_cluster_players) \n",
    "############## View Widgets ###################\n",
    "\n",
    "\n",
    "\n",
    "display(widgets.VBox(\n",
    "    [widgets.Label(\"ENTER CONFIGURATIONS\"),  w_ctechnique,\n",
    "     widgets.HBox([widgets.Label(\"Number of Clusters:\"), w_kvalue],width='auto'),\n",
    "     widgets.HBox([widgets.Label(\"DBScan Epsilon:\"), w_epsilon,widgets.Label(\"DBScan Minimum Points:\"),w_minpoints]), \n",
    "     w_ccolumns]))\n",
    "display(widgets.HBox([wbtn_cluster_data]))\n",
    "# display(widgets.VBox([self.wbtn_create_team]))\n",
    "display(output_plot)    \n",
    "display(output_clusters)                                     \n",
    "                                "
   ]
  },
  {
   "cell_type": "code",
   "execution_count": null,
   "metadata": {},
   "outputs": [],
   "source": []
  },
  {
   "cell_type": "code",
   "execution_count": null,
   "metadata": {},
   "outputs": [],
   "source": []
  },
  {
   "cell_type": "markdown",
   "metadata": {},
   "source": [
    "# TESTING"
   ]
  },
  {
   "cell_type": "code",
   "execution_count": 429,
   "metadata": {
    "ExecuteTime": {
     "end_time": "2021-05-25T15:06:19.395869Z",
     "start_time": "2021-05-25T15:06:19.273151Z"
    }
   },
   "outputs": [
    {
     "data": {
      "image/png": "[encoded data removed]",
      "text/plain": [
       "<Figure size 432x288 with 1 Axes>"
      ]
     },
     "metadata": {},
     "output_type": "display_data"
    },
    {
     "data": {
      "text/html": [
       "<div>\n",
       "<style scoped>\n",
       "    .dataframe tbody tr th:only-of-type {\n",
       "        vertical-align: middle;\n",
       "    }\n",
       "\n",
       "    .dataframe tbody tr th {\n",
       "        vertical-align: top;\n",
       "    }\n",
       "\n",
       "    .dataframe thead th {\n",
       "        text-align: right;\n",
       "    }\n",
       "</style>\n",
       "<table border=\"1\" class=\"dataframe\">\n",
       "  <thead>\n",
       "    <tr style=\"text-align: right;\">\n",
       "      <th></th>\n",
       "      <th>Num_Players</th>\n",
       "    </tr>\n",
       "  </thead>\n",
       "  <tbody>\n",
       "    <tr>\n",
       "      <th>Cluster 0</th>\n",
       "      <td>39</td>\n",
       "    </tr>\n",
       "    <tr>\n",
       "      <th>Cluster 1</th>\n",
       "      <td>41</td>\n",
       "    </tr>\n",
       "    <tr>\n",
       "      <th>Cluster 2</th>\n",
       "      <td>16</td>\n",
       "    </tr>\n",
       "    <tr>\n",
       "      <th>Cluster 3</th>\n",
       "      <td>105</td>\n",
       "    </tr>\n",
       "    <tr>\n",
       "      <th>Cluster 4</th>\n",
       "      <td>50</td>\n",
       "    </tr>\n",
       "  </tbody>\n",
       "</table>\n",
       "</div>"
      ],
      "text/plain": [
       "           Num_Players\n",
       "Cluster 0           39\n",
       "Cluster 1           41\n",
       "Cluster 2           16\n",
       "Cluster 3          105\n",
       "Cluster 4           50"
      ]
     },
     "metadata": {},
     "output_type": "display_data"
    },
    {
     "data": {
      "text/html": [
       "<div>\n",
       "<style scoped>\n",
       "    .dataframe tbody tr th:only-of-type {\n",
       "        vertical-align: middle;\n",
       "    }\n",
       "\n",
       "    .dataframe tbody tr th {\n",
       "        vertical-align: top;\n",
       "    }\n",
       "\n",
       "    .dataframe thead th {\n",
       "        text-align: right;\n",
       "    }\n",
       "</style>\n",
       "<table border=\"1\" class=\"dataframe\">\n",
       "  <thead>\n",
       "    <tr style=\"text-align: right;\">\n",
       "      <th></th>\n",
       "      <th>Cluster 0</th>\n",
       "      <th>Cluster 1</th>\n",
       "      <th>Cluster 2</th>\n",
       "      <th>Cluster 3</th>\n",
       "      <th>Cluster 4</th>\n",
       "    </tr>\n",
       "  </thead>\n",
       "  <tbody>\n",
       "    <tr>\n",
       "      <th>0</th>\n",
       "      <td>RA Jadeja</td>\n",
       "      <td>PA Patel</td>\n",
       "      <td>RG Sharma</td>\n",
       "      <td>STR Binny</td>\n",
       "      <td>KM Jadhav</td>\n",
       "    </tr>\n",
       "    <tr>\n",
       "      <th>1</th>\n",
       "      <td>DJ Bravo</td>\n",
       "      <td>MK Pandey</td>\n",
       "      <td>SK Raina</td>\n",
       "      <td>KH Pandya</td>\n",
       "      <td>SS Tiwary</td>\n",
       "    </tr>\n",
       "    <tr>\n",
       "      <th>2</th>\n",
       "      <td>Harbhajan Singh</td>\n",
       "      <td>Yuvraj Singh</td>\n",
       "      <td>V Kohli</td>\n",
       "      <td>LRPL Taylor</td>\n",
       "      <td>S Badrinath</td>\n",
       "    </tr>\n",
       "    <tr>\n",
       "      <th>3</th>\n",
       "      <td>IK Pathan</td>\n",
       "      <td>BB McCullum</td>\n",
       "      <td>RV Uthappa</td>\n",
       "      <td>Y Venugopal Rao</td>\n",
       "      <td>EJG Morgan</td>\n",
       "    </tr>\n",
       "    <tr>\n",
       "      <th>4</th>\n",
       "      <td>PP Chawla</td>\n",
       "      <td>M Vijay</td>\n",
       "      <td>MS Dhoni</td>\n",
       "      <td>AM Nayar</td>\n",
       "      <td>Ishan Kishan</td>\n",
       "    </tr>\n",
       "    <tr>\n",
       "      <th>5</th>\n",
       "      <td>AR Patel</td>\n",
       "      <td>V Sehwag</td>\n",
       "      <td>KD Karthik</td>\n",
       "      <td>DJ Hooda</td>\n",
       "      <td>M Vohra</td>\n",
       "    </tr>\n",
       "    <tr>\n",
       "      <th>6</th>\n",
       "      <td>JA Morkel</td>\n",
       "      <td>SV Samson</td>\n",
       "      <td>S Dhawan</td>\n",
       "      <td>TM Dilshan</td>\n",
       "      <td>CA Lynn</td>\n",
       "    </tr>\n",
       "    <tr>\n",
       "      <th>7</th>\n",
       "      <td>SP Narine</td>\n",
       "      <td>WP Saha</td>\n",
       "      <td>AB de Villiers</td>\n",
       "      <td>MC Henriques</td>\n",
       "      <td>MS Bisla</td>\n",
       "    </tr>\n",
       "    <tr>\n",
       "      <th>8</th>\n",
       "      <td>P Kumar</td>\n",
       "      <td>JH Kallis</td>\n",
       "      <td>YK Pathan</td>\n",
       "      <td>Shakib Al Hasan</td>\n",
       "      <td>PP Shaw</td>\n",
       "    </tr>\n",
       "    <tr>\n",
       "      <th>9</th>\n",
       "      <td>R Ashwin</td>\n",
       "      <td>NV Ojha</td>\n",
       "      <td>G Gambhir</td>\n",
       "      <td>CL White</td>\n",
       "      <td>Shubman Gill</td>\n",
       "    </tr>\n",
       "    <tr>\n",
       "      <th>10</th>\n",
       "      <td>A Mishra</td>\n",
       "      <td>Mandeep Singh</td>\n",
       "      <td>AT Rayudu</td>\n",
       "      <td>JP Faulkner</td>\n",
       "      <td>HH Gibbs</td>\n",
       "    </tr>\n",
       "    <tr>\n",
       "      <th>11</th>\n",
       "      <td>R Bhatia</td>\n",
       "      <td>DR Smith</td>\n",
       "      <td>KA Pollard</td>\n",
       "      <td>RA Tripathi</td>\n",
       "      <td>GJ Bailey</td>\n",
       "    </tr>\n",
       "    <tr>\n",
       "      <th>12</th>\n",
       "      <td>R Vinay Kumar</td>\n",
       "      <td>SA Yadav</td>\n",
       "      <td>DA Warner</td>\n",
       "      <td>MP Stoinis</td>\n",
       "      <td>ML Hayden</td>\n",
       "    </tr>\n",
       "    <tr>\n",
       "      <th>13</th>\n",
       "      <td>B Kumar</td>\n",
       "      <td>SPD Smith</td>\n",
       "      <td>SR Watson</td>\n",
       "      <td>AD Mathews</td>\n",
       "      <td>GC Smith</td>\n",
       "    </tr>\n",
       "    <tr>\n",
       "      <th>14</th>\n",
       "      <td>CH Morris</td>\n",
       "      <td>AJ Finch</td>\n",
       "      <td>AM Rahane</td>\n",
       "      <td>BA Stokes</td>\n",
       "      <td>AP Tare</td>\n",
       "    </tr>\n",
       "    <tr>\n",
       "      <th>15</th>\n",
       "      <td>UT Yadav</td>\n",
       "      <td>MK Tiwary</td>\n",
       "      <td>CH Gayle</td>\n",
       "      <td>TL Suman</td>\n",
       "      <td>MV Boucher</td>\n",
       "    </tr>\n",
       "    <tr>\n",
       "      <th>16</th>\n",
       "      <td>DW Steyn</td>\n",
       "      <td>MA Agarwal</td>\n",
       "      <td></td>\n",
       "      <td>M Manhas</td>\n",
       "      <td>OA Shah</td>\n",
       "    </tr>\n",
       "    <tr>\n",
       "      <th>17</th>\n",
       "      <td>MG Johnson</td>\n",
       "      <td>R Dravid</td>\n",
       "      <td></td>\n",
       "      <td>A Symonds</td>\n",
       "      <td>M Kaif</td>\n",
       "    </tr>\n",
       "    <tr>\n",
       "      <th>18</th>\n",
       "      <td>RP Singh</td>\n",
       "      <td>AC Gilchrist</td>\n",
       "      <td></td>\n",
       "      <td>KP Pietersen</td>\n",
       "      <td>CA Pujara</td>\n",
       "    </tr>\n",
       "    <tr>\n",
       "      <th>19</th>\n",
       "      <td>Z Khan</td>\n",
       "      <td>SS Iyer</td>\n",
       "      <td></td>\n",
       "      <td>P Negi</td>\n",
       "      <td>DB Das</td>\n",
       "    </tr>\n",
       "    <tr>\n",
       "      <th>20</th>\n",
       "      <td>MM Sharma</td>\n",
       "      <td>SR Tendulkar</td>\n",
       "      <td></td>\n",
       "      <td>KV Sharma</td>\n",
       "      <td>JM Bairstow</td>\n",
       "    </tr>\n",
       "    <tr>\n",
       "      <th>21</th>\n",
       "      <td>Rashid Khan</td>\n",
       "      <td>DPMD Jayawardene</td>\n",
       "      <td></td>\n",
       "      <td>DT Christian</td>\n",
       "      <td>SP Goswami</td>\n",
       "    </tr>\n",
       "    <tr>\n",
       "      <th>22</th>\n",
       "      <td>Sandeep Sharma</td>\n",
       "      <td>GJ Maxwell</td>\n",
       "      <td></td>\n",
       "      <td>LR Shukla</td>\n",
       "      <td>VVS Laxman</td>\n",
       "    </tr>\n",
       "    <tr>\n",
       "      <th>23</th>\n",
       "      <td>DS Kulkarni</td>\n",
       "      <td>DA Miller</td>\n",
       "      <td></td>\n",
       "      <td>V Shankar</td>\n",
       "      <td>S Sohal</td>\n",
       "    </tr>\n",
       "    <tr>\n",
       "      <th>24</th>\n",
       "      <td>SL Malinga</td>\n",
       "      <td>F du Plessis</td>\n",
       "      <td></td>\n",
       "      <td>Gurkeerat Singh</td>\n",
       "      <td>UBT Chand</td>\n",
       "    </tr>\n",
       "    <tr>\n",
       "      <th>25</th>\n",
       "      <td>MJ McClenaghan</td>\n",
       "      <td>JP Duminy</td>\n",
       "      <td></td>\n",
       "      <td>ST Jayasuriya</td>\n",
       "      <td>N Pooran</td>\n",
       "    </tr>\n",
       "    <tr>\n",
       "      <th>26</th>\n",
       "      <td>M Morkel</td>\n",
       "      <td>HH Pandya</td>\n",
       "      <td></td>\n",
       "      <td>NLTC Perera</td>\n",
       "      <td>SW Billings</td>\n",
       "    </tr>\n",
       "    <tr>\n",
       "      <th>27</th>\n",
       "      <td>PP Ojha</td>\n",
       "      <td>KL Rahul</td>\n",
       "      <td></td>\n",
       "      <td>JD Ryder</td>\n",
       "      <td>SA Asnodkar</td>\n",
       "    </tr>\n",
       "    <tr>\n",
       "      <th>28</th>\n",
       "      <td>S Nadeem</td>\n",
       "      <td>SE Marsh</td>\n",
       "      <td></td>\n",
       "      <td>LMP Simmons</td>\n",
       "      <td>MD Mishra</td>\n",
       "    </tr>\n",
       "    <tr>\n",
       "      <th>29</th>\n",
       "      <td>I Sharma</td>\n",
       "      <td>KC Sangakkara</td>\n",
       "      <td></td>\n",
       "      <td>CJ Anderson</td>\n",
       "      <td>DH Yagnik</td>\n",
       "    </tr>\n",
       "    <tr>\n",
       "      <th>...</th>\n",
       "      <td>...</td>\n",
       "      <td>...</td>\n",
       "      <td>...</td>\n",
       "      <td>...</td>\n",
       "      <td>...</td>\n",
       "    </tr>\n",
       "    <tr>\n",
       "      <th>75</th>\n",
       "      <td></td>\n",
       "      <td></td>\n",
       "      <td></td>\n",
       "      <td>M Kartik</td>\n",
       "      <td></td>\n",
       "    </tr>\n",
       "    <tr>\n",
       "      <th>76</th>\n",
       "      <td></td>\n",
       "      <td></td>\n",
       "      <td></td>\n",
       "      <td>Iqbal Abdulla</td>\n",
       "      <td></td>\n",
       "    </tr>\n",
       "    <tr>\n",
       "      <th>77</th>\n",
       "      <td></td>\n",
       "      <td></td>\n",
       "      <td></td>\n",
       "      <td>R McLaren</td>\n",
       "      <td></td>\n",
       "    </tr>\n",
       "    <tr>\n",
       "      <th>78</th>\n",
       "      <td></td>\n",
       "      <td></td>\n",
       "      <td></td>\n",
       "      <td>S Dube</td>\n",
       "      <td></td>\n",
       "    </tr>\n",
       "    <tr>\n",
       "      <th>79</th>\n",
       "      <td></td>\n",
       "      <td></td>\n",
       "      <td></td>\n",
       "      <td>K Rabada</td>\n",
       "      <td></td>\n",
       "    </tr>\n",
       "    <tr>\n",
       "      <th>80</th>\n",
       "      <td></td>\n",
       "      <td></td>\n",
       "      <td></td>\n",
       "      <td>Abhishek Sharma</td>\n",
       "      <td></td>\n",
       "    </tr>\n",
       "    <tr>\n",
       "      <th>81</th>\n",
       "      <td></td>\n",
       "      <td></td>\n",
       "      <td></td>\n",
       "      <td>AJ Tye</td>\n",
       "      <td></td>\n",
       "    </tr>\n",
       "    <tr>\n",
       "      <th>82</th>\n",
       "      <td></td>\n",
       "      <td></td>\n",
       "      <td></td>\n",
       "      <td>PJ Sangwan</td>\n",
       "      <td></td>\n",
       "    </tr>\n",
       "    <tr>\n",
       "      <th>83</th>\n",
       "      <td></td>\n",
       "      <td></td>\n",
       "      <td></td>\n",
       "      <td>TG Southee</td>\n",
       "      <td></td>\n",
       "    </tr>\n",
       "    <tr>\n",
       "      <th>84</th>\n",
       "      <td></td>\n",
       "      <td></td>\n",
       "      <td></td>\n",
       "      <td>NM Coulter-Nile</td>\n",
       "      <td></td>\n",
       "    </tr>\n",
       "    <tr>\n",
       "      <th>85</th>\n",
       "      <td></td>\n",
       "      <td></td>\n",
       "      <td></td>\n",
       "      <td>R Parag</td>\n",
       "      <td></td>\n",
       "    </tr>\n",
       "    <tr>\n",
       "      <th>86</th>\n",
       "      <td></td>\n",
       "      <td></td>\n",
       "      <td></td>\n",
       "      <td>VR Aaron</td>\n",
       "      <td></td>\n",
       "    </tr>\n",
       "    <tr>\n",
       "      <th>87</th>\n",
       "      <td></td>\n",
       "      <td></td>\n",
       "      <td></td>\n",
       "      <td>S Sreesanth</td>\n",
       "      <td></td>\n",
       "    </tr>\n",
       "    <tr>\n",
       "      <th>88</th>\n",
       "      <td></td>\n",
       "      <td></td>\n",
       "      <td></td>\n",
       "      <td>WD Parnell</td>\n",
       "      <td></td>\n",
       "    </tr>\n",
       "    <tr>\n",
       "      <th>89</th>\n",
       "      <td></td>\n",
       "      <td></td>\n",
       "      <td></td>\n",
       "      <td>KK Cooper</td>\n",
       "      <td></td>\n",
       "    </tr>\n",
       "    <tr>\n",
       "      <th>90</th>\n",
       "      <td></td>\n",
       "      <td></td>\n",
       "      <td></td>\n",
       "      <td>WPUJC Vaas</td>\n",
       "      <td></td>\n",
       "    </tr>\n",
       "    <tr>\n",
       "      <th>91</th>\n",
       "      <td></td>\n",
       "      <td></td>\n",
       "      <td></td>\n",
       "      <td>AD Mascarenhas</td>\n",
       "      <td></td>\n",
       "    </tr>\n",
       "    <tr>\n",
       "      <th>92</th>\n",
       "      <td></td>\n",
       "      <td></td>\n",
       "      <td></td>\n",
       "      <td>MA Starc</td>\n",
       "      <td></td>\n",
       "    </tr>\n",
       "    <tr>\n",
       "      <th>93</th>\n",
       "      <td></td>\n",
       "      <td></td>\n",
       "      <td></td>\n",
       "      <td>FY Fazal</td>\n",
       "      <td></td>\n",
       "    </tr>\n",
       "    <tr>\n",
       "      <th>94</th>\n",
       "      <td></td>\n",
       "      <td></td>\n",
       "      <td></td>\n",
       "      <td>B Akhil</td>\n",
       "      <td></td>\n",
       "    </tr>\n",
       "    <tr>\n",
       "      <th>95</th>\n",
       "      <td></td>\n",
       "      <td></td>\n",
       "      <td></td>\n",
       "      <td>C Munro</td>\n",
       "      <td></td>\n",
       "    </tr>\n",
       "    <tr>\n",
       "      <th>96</th>\n",
       "      <td></td>\n",
       "      <td></td>\n",
       "      <td></td>\n",
       "      <td>Mohammad Nabi</td>\n",
       "      <td></td>\n",
       "    </tr>\n",
       "    <tr>\n",
       "      <th>97</th>\n",
       "      <td></td>\n",
       "      <td></td>\n",
       "      <td></td>\n",
       "      <td>CR Woakes</td>\n",
       "      <td></td>\n",
       "    </tr>\n",
       "    <tr>\n",
       "      <th>98</th>\n",
       "      <td></td>\n",
       "      <td></td>\n",
       "      <td></td>\n",
       "      <td>JDP Oram</td>\n",
       "      <td></td>\n",
       "    </tr>\n",
       "    <tr>\n",
       "      <th>99</th>\n",
       "      <td></td>\n",
       "      <td></td>\n",
       "      <td></td>\n",
       "      <td>Kuldeep Yadav</td>\n",
       "      <td></td>\n",
       "    </tr>\n",
       "    <tr>\n",
       "      <th>100</th>\n",
       "      <td></td>\n",
       "      <td></td>\n",
       "      <td></td>\n",
       "      <td>Ankit Sharma</td>\n",
       "      <td></td>\n",
       "    </tr>\n",
       "    <tr>\n",
       "      <th>101</th>\n",
       "      <td></td>\n",
       "      <td></td>\n",
       "      <td></td>\n",
       "      <td>DL Chahar</td>\n",
       "      <td></td>\n",
       "    </tr>\n",
       "    <tr>\n",
       "      <th>102</th>\n",
       "      <td></td>\n",
       "      <td></td>\n",
       "      <td></td>\n",
       "      <td>SB Styris</td>\n",
       "      <td></td>\n",
       "    </tr>\n",
       "    <tr>\n",
       "      <th>103</th>\n",
       "      <td></td>\n",
       "      <td></td>\n",
       "      <td></td>\n",
       "      <td>TM Head</td>\n",
       "      <td></td>\n",
       "    </tr>\n",
       "    <tr>\n",
       "      <th>104</th>\n",
       "      <td></td>\n",
       "      <td></td>\n",
       "      <td></td>\n",
       "      <td>S Aravind</td>\n",
       "      <td></td>\n",
       "    </tr>\n",
       "  </tbody>\n",
       "</table>\n",
       "<p>105 rows × 5 columns</p>\n",
       "</div>"
      ],
      "text/plain": [
       "           Cluster 0         Cluster 1       Cluster 2        Cluster 3  \\\n",
       "0          RA Jadeja          PA Patel       RG Sharma        STR Binny   \n",
       "1           DJ Bravo         MK Pandey        SK Raina        KH Pandya   \n",
       "2    Harbhajan Singh      Yuvraj Singh         V Kohli      LRPL Taylor   \n",
       "3          IK Pathan       BB McCullum      RV Uthappa  Y Venugopal Rao   \n",
       "4          PP Chawla           M Vijay        MS Dhoni         AM Nayar   \n",
       "5           AR Patel          V Sehwag      KD Karthik         DJ Hooda   \n",
       "6          JA Morkel         SV Samson        S Dhawan       TM Dilshan   \n",
       "7          SP Narine           WP Saha  AB de Villiers     MC Henriques   \n",
       "8            P Kumar         JH Kallis       YK Pathan  Shakib Al Hasan   \n",
       "9           R Ashwin           NV Ojha       G Gambhir         CL White   \n",
       "10          A Mishra     Mandeep Singh       AT Rayudu      JP Faulkner   \n",
       "11          R Bhatia          DR Smith      KA Pollard      RA Tripathi   \n",
       "12     R Vinay Kumar          SA Yadav       DA Warner       MP Stoinis   \n",
       "13           B Kumar         SPD Smith       SR Watson       AD Mathews   \n",
       "14         CH Morris          AJ Finch       AM Rahane        BA Stokes   \n",
       "15          UT Yadav         MK Tiwary        CH Gayle         TL Suman   \n",
       "16          DW Steyn        MA Agarwal                         M Manhas   \n",
       "17        MG Johnson          R Dravid                        A Symonds   \n",
       "18          RP Singh      AC Gilchrist                     KP Pietersen   \n",
       "19            Z Khan           SS Iyer                           P Negi   \n",
       "20         MM Sharma      SR Tendulkar                        KV Sharma   \n",
       "21       Rashid Khan  DPMD Jayawardene                     DT Christian   \n",
       "22    Sandeep Sharma        GJ Maxwell                        LR Shukla   \n",
       "23       DS Kulkarni         DA Miller                        V Shankar   \n",
       "24        SL Malinga      F du Plessis                  Gurkeerat Singh   \n",
       "25    MJ McClenaghan         JP Duminy                    ST Jayasuriya   \n",
       "26          M Morkel         HH Pandya                      NLTC Perera   \n",
       "27           PP Ojha          KL Rahul                         JD Ryder   \n",
       "28          S Nadeem          SE Marsh                      LMP Simmons   \n",
       "29          I Sharma     KC Sangakkara                      CJ Anderson   \n",
       "..               ...               ...             ...              ...   \n",
       "75                                                             M Kartik   \n",
       "76                                                        Iqbal Abdulla   \n",
       "77                                                            R McLaren   \n",
       "78                                                               S Dube   \n",
       "79                                                             K Rabada   \n",
       "80                                                      Abhishek Sharma   \n",
       "81                                                               AJ Tye   \n",
       "82                                                           PJ Sangwan   \n",
       "83                                                           TG Southee   \n",
       "84                                                      NM Coulter-Nile   \n",
       "85                                                              R Parag   \n",
       "86                                                             VR Aaron   \n",
       "87                                                          S Sreesanth   \n",
       "88                                                           WD Parnell   \n",
       "89                                                            KK Cooper   \n",
       "90                                                           WPUJC Vaas   \n",
       "91                                                       AD Mascarenhas   \n",
       "92                                                             MA Starc   \n",
       "93                                                             FY Fazal   \n",
       "94                                                              B Akhil   \n",
       "95                                                              C Munro   \n",
       "96                                                        Mohammad Nabi   \n",
       "97                                                            CR Woakes   \n",
       "98                                                             JDP Oram   \n",
       "99                                                        Kuldeep Yadav   \n",
       "100                                                        Ankit Sharma   \n",
       "101                                                           DL Chahar   \n",
       "102                                                           SB Styris   \n",
       "103                                                             TM Head   \n",
       "104                                                           S Aravind   \n",
       "\n",
       "        Cluster 4  \n",
       "0       KM Jadhav  \n",
       "1       SS Tiwary  \n",
       "2     S Badrinath  \n",
       "3      EJG Morgan  \n",
       "4    Ishan Kishan  \n",
       "5         M Vohra  \n",
       "6         CA Lynn  \n",
       "7        MS Bisla  \n",
       "8         PP Shaw  \n",
       "9    Shubman Gill  \n",
       "10       HH Gibbs  \n",
       "11      GJ Bailey  \n",
       "12      ML Hayden  \n",
       "13       GC Smith  \n",
       "14        AP Tare  \n",
       "15     MV Boucher  \n",
       "16        OA Shah  \n",
       "17         M Kaif  \n",
       "18      CA Pujara  \n",
       "19         DB Das  \n",
       "20    JM Bairstow  \n",
       "21     SP Goswami  \n",
       "22     VVS Laxman  \n",
       "23        S Sohal  \n",
       "24      UBT Chand  \n",
       "25       N Pooran  \n",
       "26    SW Billings  \n",
       "27    SA Asnodkar  \n",
       "28      MD Mishra  \n",
       "29      DH Yagnik  \n",
       "..            ...  \n",
       "75                 \n",
       "76                 \n",
       "77                 \n",
       "78                 \n",
       "79                 \n",
       "80                 \n",
       "81                 \n",
       "82                 \n",
       "83                 \n",
       "84                 \n",
       "85                 \n",
       "86                 \n",
       "87                 \n",
       "88                 \n",
       "89                 \n",
       "90                 \n",
       "91                 \n",
       "92                 \n",
       "93                 \n",
       "94                 \n",
       "95                 \n",
       "96                 \n",
       "97                 \n",
       "98                 \n",
       "99                 \n",
       "100                \n",
       "101                \n",
       "102                \n",
       "103                \n",
       "104                \n",
       "\n",
       "[105 rows x 5 columns]"
      ]
     },
     "metadata": {},
     "output_type": "display_data"
    }
   ],
   "source": [
    "clsum,cldf = clustering_summary(\"cluster_kmeans\") "
   ]
  },
  {
   "cell_type": "code",
   "execution_count": 430,
   "metadata": {
    "ExecuteTime": {
     "end_time": "2021-05-25T15:06:19.574995Z",
     "start_time": "2021-05-25T15:06:19.397861Z"
    }
   },
   "outputs": [
    {
     "data": {
      "image/png": "[encoded data removed]",
      "text/plain": [
       "<Figure size 576x360 with 2 Axes>"
      ]
     },
     "metadata": {
      "needs_background": "light"
     },
     "output_type": "display_data"
    }
   ],
   "source": [
    "import matplotlib.pyplot as plt\n",
    "#from matplotlib import six\n",
    "import pandas as pd\n",
    "import numpy as np\n",
    "\n",
    "df = pd.DataFrame()\n",
    "df['x'] = np.arange(0,11)\n",
    "df['y'] = df['x']*2\n",
    "\n",
    "fig = plt.figure(figsize=(8,5))\n",
    "\n",
    "ax1 = fig.add_subplot(121)\n",
    "#ax1.scatter(x=df['x'],y=df['y'])\n",
    "ax1.pie(clsum['Num_Players'])\n",
    "#cluster_summary['Num_Players'].plot.pie()\n",
    "\n",
    "ax2 = fig.add_subplot(122)\n",
    "font_size=14\n",
    "bbox=[0, 0, 1, 1]\n",
    "ax2.axis('off')\n",
    "mpl_table = ax2.table(cellText = clsum.values, rowLabels = clsum.index, bbox=bbox, colLabels=clsum.columns)\n",
    "mpl_table.auto_set_font_size(False)\n",
    "mpl_table.set_fontsize(font_size)"
   ]
  },
  {
   "cell_type": "code",
   "execution_count": null,
   "metadata": {},
   "outputs": [],
   "source": []
  }
 ],
 "metadata": {
  "kernelspec": {
   "display_name": "Python 3",
   "language": "python",
   "name": "python3"
  },
  "language_info": {
   "codemirror_mode": {
    "name": "ipython",
    "version": 3
   },
   "file_extension": ".py",
   "mimetype": "text/x-python",
   "name": "python",
   "nbconvert_exporter": "python",
   "pygments_lexer": "ipython3",
   "version": "3.6.6"
  },
  "toc": {
   "base_numbering": 1,
   "nav_menu": {},
   "number_sections": true,
   "sideBar": true,
   "skip_h1_title": false,
   "title_cell": "Table of Contents",
   "title_sidebar": "My Steps",
   "toc_cell": false,
   "toc_position": {},
   "toc_section_display": true,
   "toc_window_display": true
  },
  "varInspector": {
   "cols": {
    "lenName": 16,
    "lenType": 16,
    "lenVar": 40
   },
   "kernels_config": {
    "python": {
     "delete_cmd_postfix": "",
     "delete_cmd_prefix": "del ",
     "library": "var_list.py",
     "varRefreshCmd": "print(var_dic_list())"
    },
    "r": {
     "delete_cmd_postfix": ") ",
     "delete_cmd_prefix": "rm(",
     "library": "var_list.r",
     "varRefreshCmd": "cat(var_dic_list()) "
    }
   },
   "types_to_exclude": [
    "module",
    "function",
    "builtin_function_or_method",
    "instance",
    "_Feature"
   ],
   "window_display": false
  }
 },
 "nbformat": 4,
 "nbformat_minor": 2
}
